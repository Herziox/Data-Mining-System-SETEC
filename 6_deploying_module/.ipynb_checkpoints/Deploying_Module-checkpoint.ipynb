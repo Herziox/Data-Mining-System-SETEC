{
 "cells": [
  {
   "cell_type": "code",
   "execution_count": 6,
   "id": "d614e2bc-ab2d-4500-9352-60f079aa1d8e",
   "metadata": {},
   "outputs": [],
   "source": [
    "import csv\n",
    "import pandas as pd\n",
    "import sys\n",
    "import numpy as np\n",
    "import os\n",
    "from hermetrics.levenshtein import Levenshtein\n",
    "import re\n",
    "import mysql.connector\n",
    "from tqdm import tqdm"
   ]
  },
  {
   "cell_type": "code",
   "execution_count": 2,
   "id": "5d5d570b-a38d-4db4-b135-391765e6d083",
   "metadata": {},
   "outputs": [],
   "source": [
    "path_model = os.path.join(os.getcwd(),'..','6_deploying_module','DATABASE_DP')\n",
    "path_dwh = os.path.join(os.getcwd(),'..','3_data_preprocesing_module','DATAWAREHOUSE')\n",
    "path_dm_oc = os.path.join(path_dwh,'datamart_oc')\n",
    "path_dm_oec = os.path.join(path_dwh,'datamart_oec')\n",
    "path_dm_ci = os.path.join(path_dwh,'datamart_ci')"
   ]
  },
  {
   "cell_type": "code",
   "execution_count": 86,
   "id": "397e4168-380e-4490-85e1-bcf76a5ccec0",
   "metadata": {},
   "outputs": [
    {
     "data": {
      "text/plain": [
       "['data_ci_kpi1.csv',\n",
       " 'data_ci_kpi2.csv',\n",
       " 'data_ci_kpi3.csv',\n",
       " 'data_ci_kpi4.csv',\n",
       " 'data_oc_kpi1.csv',\n",
       " 'data_oc_kpi2.csv',\n",
       " 'data_oc_kpi3.csv',\n",
       " 'data_oc_kpi4.csv',\n",
       " 'data_oc_kpi5.csv',\n",
       " 'data_oc_kpi6.csv',\n",
       " 'data_oec_kpi1.csv',\n",
       " 'data_oec_kpi2.csv',\n",
       " 'data_oec_kpi3.csv',\n",
       " 'data_oec_kpi4.csv',\n",
       " 'data_oec_kpi5.csv',\n",
       " 'data_oec_kpi6.csv']"
      ]
     },
     "execution_count": 86,
     "metadata": {},
     "output_type": "execute_result"
    }
   ],
   "source": [
    "filelist = os.listdir(path_model)\n",
    "filelist"
   ]
  },
  {
   "cell_type": "code",
   "execution_count": 91,
   "id": "c2c94dd4-6572-44b7-844d-7c6faa4f15fe",
   "metadata": {},
   "outputs": [
    {
     "name": "stdout",
     "output_type": "stream",
     "text": [
      "(1100, 24) (1100, 23)\n",
      "(1100, 25) (1100, 23)\n",
      "(1100, 26) (1100, 23)\n",
      "(1580, 26) (1580, 25)\n",
      "(1580, 27) (1580, 25)\n",
      "(1580, 28) (1580, 25)\n",
      "(1580, 29) (1580, 25)\n",
      "(1580, 30) (1580, 25)\n",
      "(14915, 27) (14915, 26)\n",
      "(14915, 28) (14915, 26)\n",
      "(14915, 29) (14915, 26)\n",
      "(14915, 30) (14915, 26)\n",
      "(14915, 31) (14915, 26)\n"
     ]
    }
   ],
   "source": [
    "df = []\n",
    "fact_oc = None\n",
    "fact_oec = None\n",
    "fact_ci = None\n",
    "for file in filelist:\n",
    "    if '.csv' in file:\n",
    "        df = pd.read_csv(os.path.join(path_model,file))\n",
    "        if '_oc_' in file:\n",
    "            if fact_oc is None:\n",
    "                fact_oc = df\n",
    "            else:\n",
    "                fact_oc = fact_oc.merge(df,how='left')\n",
    "                print(fact_oc.shape, df.shape)\n",
    "        elif '_oec_' in file:\n",
    "            if fact_oec is None:\n",
    "                fact_oec = df\n",
    "            else:\n",
    "                fact_oec = fact_oec.merge(df,how='left')\n",
    "                print(fact_oec.shape, df.shape)\n",
    "        elif '_ci_' in file:\n",
    "            if fact_ci is None:\n",
    "                fact_ci = df\n",
    "            else:\n",
    "                fact_ci = fact_ci.merge(df,how='left')\n",
    "                print(fact_ci.shape, df.shape)"
   ]
  },
  {
   "cell_type": "code",
   "execution_count": 113,
   "id": "180965c2-60cb-461a-96af-415c39e1699e",
   "metadata": {},
   "outputs": [
    {
     "data": {
      "text/html": [
       "<div>\n",
       "<style scoped>\n",
       "    .dataframe tbody tr th:only-of-type {\n",
       "        vertical-align: middle;\n",
       "    }\n",
       "\n",
       "    .dataframe tbody tr th {\n",
       "        vertical-align: top;\n",
       "    }\n",
       "\n",
       "    .dataframe thead th {\n",
       "        text-align: right;\n",
       "    }\n",
       "</style>\n",
       "<table border=\"1\" class=\"dataframe\">\n",
       "  <thead>\n",
       "    <tr style=\"text-align: right;\">\n",
       "      <th></th>\n",
       "      <th>area_familia</th>\n",
       "      <th>modalidad</th>\n",
       "      <th>canton</th>\n",
       "      <th>provincia</th>\n",
       "      <th>id_fact_oc</th>\n",
       "      <th>id_razon_social</th>\n",
       "      <th>id_curso_perfil</th>\n",
       "      <th>id_fecha</th>\n",
       "      <th>total_ganancias</th>\n",
       "      <th>%_asistencia</th>\n",
       "      <th>...</th>\n",
       "      <th>volumen_capacitados</th>\n",
       "      <th>total_horas</th>\n",
       "      <th>carga_horaria</th>\n",
       "      <th>anio</th>\n",
       "      <th>prediction(num_cap_cer)</th>\n",
       "      <th>prediction(total_cursos)</th>\n",
       "      <th>prediction(volumen_capacitados)</th>\n",
       "      <th>prediction(total_horas)</th>\n",
       "      <th>prediction(total_ganancias)</th>\n",
       "      <th>prediction(%_asistencia)</th>\n",
       "    </tr>\n",
       "  </thead>\n",
       "  <tbody>\n",
       "    <tr>\n",
       "      <th>0</th>\n",
       "      <td>construcción e infraestructura</td>\n",
       "      <td>presencial</td>\n",
       "      <td>quito</td>\n",
       "      <td>pichincha</td>\n",
       "      <td>0.0</td>\n",
       "      <td>1.0</td>\n",
       "      <td>3487.0</td>\n",
       "      <td>6.0</td>\n",
       "      <td>0.0</td>\n",
       "      <td>0.0</td>\n",
       "      <td>...</td>\n",
       "      <td>52.0</td>\n",
       "      <td>1360.0</td>\n",
       "      <td>40.0</td>\n",
       "      <td>2021.0</td>\n",
       "      <td>34.0</td>\n",
       "      <td>4.666667</td>\n",
       "      <td>113.975000</td>\n",
       "      <td>1390.0</td>\n",
       "      <td>NaN</td>\n",
       "      <td>NaN</td>\n",
       "    </tr>\n",
       "    <tr>\n",
       "      <th>1</th>\n",
       "      <td>educación y capacitación</td>\n",
       "      <td>presencial</td>\n",
       "      <td>quito</td>\n",
       "      <td>pichincha</td>\n",
       "      <td>1.0</td>\n",
       "      <td>1.0</td>\n",
       "      <td>3490.0</td>\n",
       "      <td>6.0</td>\n",
       "      <td>0.0</td>\n",
       "      <td>0.0</td>\n",
       "      <td>...</td>\n",
       "      <td>52.0</td>\n",
       "      <td>150.0</td>\n",
       "      <td>150.0</td>\n",
       "      <td>2021.0</td>\n",
       "      <td>1.0</td>\n",
       "      <td>5.000000</td>\n",
       "      <td>52.400000</td>\n",
       "      <td>157.5</td>\n",
       "      <td>NaN</td>\n",
       "      <td>NaN</td>\n",
       "    </tr>\n",
       "    <tr>\n",
       "      <th>2</th>\n",
       "      <td>servicios socioculturales y a la comunidad</td>\n",
       "      <td>presencial</td>\n",
       "      <td>ambato</td>\n",
       "      <td>tungurahua</td>\n",
       "      <td>2.0</td>\n",
       "      <td>4.0</td>\n",
       "      <td>2868.0</td>\n",
       "      <td>6.0</td>\n",
       "      <td>0.0</td>\n",
       "      <td>0.0</td>\n",
       "      <td>...</td>\n",
       "      <td>500.0</td>\n",
       "      <td>1500.0</td>\n",
       "      <td>60.0</td>\n",
       "      <td>2021.0</td>\n",
       "      <td>25.0</td>\n",
       "      <td>12.000000</td>\n",
       "      <td>427.000000</td>\n",
       "      <td>1440.0</td>\n",
       "      <td>NaN</td>\n",
       "      <td>NaN</td>\n",
       "    </tr>\n",
       "    <tr>\n",
       "      <th>3</th>\n",
       "      <td>servicios socioculturales y a la comunidad</td>\n",
       "      <td>presencial</td>\n",
       "      <td>guayaquil</td>\n",
       "      <td>guayas</td>\n",
       "      <td>3.0</td>\n",
       "      <td>12.0</td>\n",
       "      <td>3944.0</td>\n",
       "      <td>6.0</td>\n",
       "      <td>0.0</td>\n",
       "      <td>0.0</td>\n",
       "      <td>...</td>\n",
       "      <td>249.0</td>\n",
       "      <td>150.0</td>\n",
       "      <td>30.0</td>\n",
       "      <td>2021.0</td>\n",
       "      <td>5.0</td>\n",
       "      <td>3.500000</td>\n",
       "      <td>151.500000</td>\n",
       "      <td>150.0</td>\n",
       "      <td>NaN</td>\n",
       "      <td>NaN</td>\n",
       "    </tr>\n",
       "    <tr>\n",
       "      <th>4</th>\n",
       "      <td>servicios socioculturales y a la comunidad</td>\n",
       "      <td>presencial</td>\n",
       "      <td>guayaquil</td>\n",
       "      <td>guayas</td>\n",
       "      <td>4.0</td>\n",
       "      <td>12.0</td>\n",
       "      <td>3943.0</td>\n",
       "      <td>6.0</td>\n",
       "      <td>0.0</td>\n",
       "      <td>0.0</td>\n",
       "      <td>...</td>\n",
       "      <td>249.0</td>\n",
       "      <td>9760.0</td>\n",
       "      <td>40.0</td>\n",
       "      <td>2021.0</td>\n",
       "      <td>244.0</td>\n",
       "      <td>1.666667</td>\n",
       "      <td>231.166667</td>\n",
       "      <td>9760.0</td>\n",
       "      <td>NaN</td>\n",
       "      <td>NaN</td>\n",
       "    </tr>\n",
       "  </tbody>\n",
       "</table>\n",
       "<p>5 rows × 30 columns</p>\n",
       "</div>"
      ],
      "text/plain": [
       "                                 area_familia   modalidad     canton  \\\n",
       "0              construcción e infraestructura  presencial      quito   \n",
       "1                    educación y capacitación  presencial      quito   \n",
       "2  servicios socioculturales y a la comunidad  presencial     ambato   \n",
       "3  servicios socioculturales y a la comunidad  presencial  guayaquil   \n",
       "4  servicios socioculturales y a la comunidad  presencial  guayaquil   \n",
       "\n",
       "    provincia  id_fact_oc  id_razon_social  id_curso_perfil  id_fecha  \\\n",
       "0   pichincha         0.0              1.0           3487.0       6.0   \n",
       "1   pichincha         1.0              1.0           3490.0       6.0   \n",
       "2  tungurahua         2.0              4.0           2868.0       6.0   \n",
       "3      guayas         3.0             12.0           3944.0       6.0   \n",
       "4      guayas         4.0             12.0           3943.0       6.0   \n",
       "\n",
       "   total_ganancias  %_asistencia  ...  volumen_capacitados  total_horas  \\\n",
       "0              0.0           0.0  ...                 52.0       1360.0   \n",
       "1              0.0           0.0  ...                 52.0        150.0   \n",
       "2              0.0           0.0  ...                500.0       1500.0   \n",
       "3              0.0           0.0  ...                249.0        150.0   \n",
       "4              0.0           0.0  ...                249.0       9760.0   \n",
       "\n",
       "  carga_horaria    anio prediction(num_cap_cer) prediction(total_cursos)  \\\n",
       "0          40.0  2021.0                    34.0                 4.666667   \n",
       "1         150.0  2021.0                     1.0                 5.000000   \n",
       "2          60.0  2021.0                    25.0                12.000000   \n",
       "3          30.0  2021.0                     5.0                 3.500000   \n",
       "4          40.0  2021.0                   244.0                 1.666667   \n",
       "\n",
       "  prediction(volumen_capacitados) prediction(total_horas)  \\\n",
       "0                      113.975000                  1390.0   \n",
       "1                       52.400000                   157.5   \n",
       "2                      427.000000                  1440.0   \n",
       "3                      151.500000                   150.0   \n",
       "4                      231.166667                  9760.0   \n",
       "\n",
       "  prediction(total_ganancias)  prediction(%_asistencia)  \n",
       "0                         NaN                       NaN  \n",
       "1                         NaN                       NaN  \n",
       "2                         NaN                       NaN  \n",
       "3                         NaN                       NaN  \n",
       "4                         NaN                       NaN  \n",
       "\n",
       "[5 rows x 30 columns]"
      ]
     },
     "execution_count": 113,
     "metadata": {},
     "output_type": "execute_result"
    }
   ],
   "source": [
    "fact_oc.head()"
   ]
  },
  {
   "cell_type": "code",
   "execution_count": 111,
   "id": "b1511391-141c-44e5-a9db-e41a17d9ec92",
   "metadata": {},
   "outputs": [
    {
     "data": {
      "text/html": [
       "<div>\n",
       "<style scoped>\n",
       "    .dataframe tbody tr th:only-of-type {\n",
       "        vertical-align: middle;\n",
       "    }\n",
       "\n",
       "    .dataframe tbody tr th {\n",
       "        vertical-align: top;\n",
       "    }\n",
       "\n",
       "    .dataframe thead th {\n",
       "        text-align: right;\n",
       "    }\n",
       "</style>\n",
       "<table border=\"1\" class=\"dataframe\">\n",
       "  <thead>\n",
       "    <tr style=\"text-align: right;\">\n",
       "      <th></th>\n",
       "      <th>area_familia</th>\n",
       "      <th>especialidad_sector</th>\n",
       "      <th>modalidad</th>\n",
       "      <th>razon_social</th>\n",
       "      <th>fecha_resolucion</th>\n",
       "      <th>canton</th>\n",
       "      <th>provincia</th>\n",
       "      <th>id_fact_oc</th>\n",
       "      <th>id_razon_social</th>\n",
       "      <th>id_curso_perfil</th>\n",
       "      <th>...</th>\n",
       "      <th>estado</th>\n",
       "      <th>tipo_razon_social</th>\n",
       "      <th>num_cap_cer</th>\n",
       "      <th>total_cursos</th>\n",
       "      <th>volumen_capacitados</th>\n",
       "      <th>total_horas</th>\n",
       "      <th>carga_horaria</th>\n",
       "      <th>anio</th>\n",
       "      <th>%_asistencia</th>\n",
       "      <th>prediction(%_asistencia)</th>\n",
       "    </tr>\n",
       "  </thead>\n",
       "  <tbody>\n",
       "    <tr>\n",
       "      <th>0</th>\n",
       "      <td>construcción e infraestructura</td>\n",
       "      <td>tecnología de la construcción</td>\n",
       "      <td>presencial</td>\n",
       "      <td>MISSING</td>\n",
       "      <td>MISSING</td>\n",
       "      <td>quito</td>\n",
       "      <td>pichincha</td>\n",
       "      <td>0.0</td>\n",
       "      <td>1.0</td>\n",
       "      <td>3487.0</td>\n",
       "      <td>...</td>\n",
       "      <td>calificado</td>\n",
       "      <td>operador de capacitación</td>\n",
       "      <td>34.0</td>\n",
       "      <td>4.0</td>\n",
       "      <td>52.0</td>\n",
       "      <td>1360.0</td>\n",
       "      <td>40.0</td>\n",
       "      <td>2021.0</td>\n",
       "      <td>0.0</td>\n",
       "      <td>6.100755</td>\n",
       "    </tr>\n",
       "    <tr>\n",
       "      <th>1</th>\n",
       "      <td>educación y capacitación</td>\n",
       "      <td>formación de instructores facilitadores monito...</td>\n",
       "      <td>presencial</td>\n",
       "      <td>MISSING</td>\n",
       "      <td>MISSING</td>\n",
       "      <td>quito</td>\n",
       "      <td>pichincha</td>\n",
       "      <td>1.0</td>\n",
       "      <td>1.0</td>\n",
       "      <td>3490.0</td>\n",
       "      <td>...</td>\n",
       "      <td>calificado</td>\n",
       "      <td>operador de capacitación</td>\n",
       "      <td>1.0</td>\n",
       "      <td>4.0</td>\n",
       "      <td>52.0</td>\n",
       "      <td>150.0</td>\n",
       "      <td>150.0</td>\n",
       "      <td>2021.0</td>\n",
       "      <td>0.0</td>\n",
       "      <td>6.100755</td>\n",
       "    </tr>\n",
       "    <tr>\n",
       "      <th>2</th>\n",
       "      <td>servicios socioculturales y a la comunidad</td>\n",
       "      <td>salud y medicina</td>\n",
       "      <td>presencial</td>\n",
       "      <td>MISSING</td>\n",
       "      <td>MISSING</td>\n",
       "      <td>MISSING</td>\n",
       "      <td>MISSING</td>\n",
       "      <td>2.0</td>\n",
       "      <td>4.0</td>\n",
       "      <td>2868.0</td>\n",
       "      <td>...</td>\n",
       "      <td>calificado</td>\n",
       "      <td>operador de capacitación</td>\n",
       "      <td>25.0</td>\n",
       "      <td>12.0</td>\n",
       "      <td>500.0</td>\n",
       "      <td>1500.0</td>\n",
       "      <td>60.0</td>\n",
       "      <td>2021.0</td>\n",
       "      <td>0.0</td>\n",
       "      <td>6.100755</td>\n",
       "    </tr>\n",
       "    <tr>\n",
       "      <th>3</th>\n",
       "      <td>servicios socioculturales y a la comunidad</td>\n",
       "      <td>MISSING</td>\n",
       "      <td>presencial</td>\n",
       "      <td>MISSING</td>\n",
       "      <td>MISSING</td>\n",
       "      <td>guayaquil</td>\n",
       "      <td>guayas</td>\n",
       "      <td>3.0</td>\n",
       "      <td>12.0</td>\n",
       "      <td>3944.0</td>\n",
       "      <td>...</td>\n",
       "      <td>calificado</td>\n",
       "      <td>operador de capacitación</td>\n",
       "      <td>5.0</td>\n",
       "      <td>2.0</td>\n",
       "      <td>249.0</td>\n",
       "      <td>150.0</td>\n",
       "      <td>30.0</td>\n",
       "      <td>2021.0</td>\n",
       "      <td>0.0</td>\n",
       "      <td>6.100755</td>\n",
       "    </tr>\n",
       "    <tr>\n",
       "      <th>4</th>\n",
       "      <td>servicios socioculturales y a la comunidad</td>\n",
       "      <td>MISSING</td>\n",
       "      <td>presencial</td>\n",
       "      <td>MISSING</td>\n",
       "      <td>MISSING</td>\n",
       "      <td>guayaquil</td>\n",
       "      <td>guayas</td>\n",
       "      <td>4.0</td>\n",
       "      <td>12.0</td>\n",
       "      <td>3943.0</td>\n",
       "      <td>...</td>\n",
       "      <td>calificado</td>\n",
       "      <td>operador de capacitación</td>\n",
       "      <td>244.0</td>\n",
       "      <td>2.0</td>\n",
       "      <td>249.0</td>\n",
       "      <td>9760.0</td>\n",
       "      <td>40.0</td>\n",
       "      <td>2021.0</td>\n",
       "      <td>0.0</td>\n",
       "      <td>77.503424</td>\n",
       "    </tr>\n",
       "  </tbody>\n",
       "</table>\n",
       "<p>5 rows × 25 columns</p>\n",
       "</div>"
      ],
      "text/plain": [
       "                                 area_familia  \\\n",
       "0              construcción e infraestructura   \n",
       "1                    educación y capacitación   \n",
       "2  servicios socioculturales y a la comunidad   \n",
       "3  servicios socioculturales y a la comunidad   \n",
       "4  servicios socioculturales y a la comunidad   \n",
       "\n",
       "                                 especialidad_sector   modalidad razon_social  \\\n",
       "0                      tecnología de la construcción  presencial      MISSING   \n",
       "1  formación de instructores facilitadores monito...  presencial      MISSING   \n",
       "2                                   salud y medicina  presencial      MISSING   \n",
       "3                                            MISSING  presencial      MISSING   \n",
       "4                                            MISSING  presencial      MISSING   \n",
       "\n",
       "  fecha_resolucion     canton  provincia  id_fact_oc  id_razon_social  \\\n",
       "0          MISSING      quito  pichincha         0.0              1.0   \n",
       "1          MISSING      quito  pichincha         1.0              1.0   \n",
       "2          MISSING    MISSING    MISSING         2.0              4.0   \n",
       "3          MISSING  guayaquil     guayas         3.0             12.0   \n",
       "4          MISSING  guayaquil     guayas         4.0             12.0   \n",
       "\n",
       "   id_curso_perfil  ...      estado         tipo_razon_social  num_cap_cer  \\\n",
       "0           3487.0  ...  calificado  operador de capacitación         34.0   \n",
       "1           3490.0  ...  calificado  operador de capacitación          1.0   \n",
       "2           2868.0  ...  calificado  operador de capacitación         25.0   \n",
       "3           3944.0  ...  calificado  operador de capacitación          5.0   \n",
       "4           3943.0  ...  calificado  operador de capacitación        244.0   \n",
       "\n",
       "  total_cursos volumen_capacitados total_horas carga_horaria    anio  \\\n",
       "0          4.0                52.0      1360.0          40.0  2021.0   \n",
       "1          4.0                52.0       150.0         150.0  2021.0   \n",
       "2         12.0               500.0      1500.0          60.0  2021.0   \n",
       "3          2.0               249.0       150.0          30.0  2021.0   \n",
       "4          2.0               249.0      9760.0          40.0  2021.0   \n",
       "\n",
       "   %_asistencia  prediction(%_asistencia)  \n",
       "0           0.0                  6.100755  \n",
       "1           0.0                  6.100755  \n",
       "2           0.0                  6.100755  \n",
       "3           0.0                  6.100755  \n",
       "4           0.0                 77.503424  \n",
       "\n",
       "[5 rows x 25 columns]"
      ]
     },
     "execution_count": 111,
     "metadata": {},
     "output_type": "execute_result"
    }
   ],
   "source": [
    "df = pd.read_csv(os.path.join(path_model,'data_oc_kpi6.csv'))\n",
    "df.head()"
   ]
  },
  {
   "cell_type": "markdown",
   "id": "1f9a4f6b-4dc8-41c2-94f8-b15295b5ddf2",
   "metadata": {},
   "source": [
    "# Conexión con MySQL"
   ]
  },
  {
   "cell_type": "code",
   "execution_count": 7,
   "id": "1f10f409-9201-40ca-86dd-ea92e4c603bb",
   "metadata": {},
   "outputs": [],
   "source": [
    "mydb = mysql.connector.connect(\n",
    "    host='localhost',\n",
    "    user='root',\n",
    "    passwd='KappaTao1233'\n",
    ")\n",
    "\n",
    "mycursor = mydb.cursor()"
   ]
  },
  {
   "cell_type": "markdown",
   "id": "74d178de-e436-4403-ba6a-5db0ac022ef8",
   "metadata": {},
   "source": [
    "# Creación de la base de datos¶"
   ]
  },
  {
   "cell_type": "code",
   "execution_count": 55,
   "id": "d3283e63-b880-40e2-9da9-2bcf23f1952b",
   "metadata": {},
   "outputs": [],
   "source": [
    "mycursor.execute(\"DROP DATABASE IF EXISTS dwh_setec\")\n",
    "mycursor.execute(\"CREATE DATABASE dwh_setec\")\n",
    "mycursor.execute(\"USE dwh_setec\")"
   ]
  },
  {
   "cell_type": "markdown",
   "id": "13b9c2a5-5fc9-4df0-952d-1d5050280466",
   "metadata": {},
   "source": [
    "# DIMENSIÓN RAZÓN SOCIAL"
   ]
  },
  {
   "cell_type": "code",
   "execution_count": 56,
   "id": "10b14dca-fc2c-42a9-9c04-6aa403dcf842",
   "metadata": {},
   "outputs": [],
   "source": [
    "df_razon_social = pd.read_csv(os.path.join(path_dwh,'dim_razon_social.csv'))"
   ]
  },
  {
   "cell_type": "code",
   "execution_count": 57,
   "id": "9c7632a1-32c4-4508-8f23-50d6a98ae41b",
   "metadata": {},
   "outputs": [],
   "source": [
    "df_razon_social = df_razon_social[['id_razon_social', 'razon_social', 'estado', 'tipo_razon_social', 'canton', 'provincia']]"
   ]
  },
  {
   "cell_type": "code",
   "execution_count": 58,
   "id": "4f34f5bb-02a9-471a-bf23-3df94c4534bc",
   "metadata": {},
   "outputs": [
    {
     "name": "stderr",
     "output_type": "stream",
     "text": [
      "100%|██████████████████████████████████████████████████████████████████████████████| 2257/2257 [01:36<00:00, 23.50it/s]\n"
     ]
    }
   ],
   "source": [
    "mycursor.execute(\"DROP TABLE IF EXISTS dim_razon_social\")\n",
    "mycursor.execute('''CREATE TABLE dim_razon_social (\n",
    "id_razon_social INT PRIMARY KEY,\n",
    "razon_social VARCHAR(255) NOT NULL,\n",
    "tipo_razon_social VARCHAR(255) NOT NULL,\n",
    "estado VARCHAR(63) NOT NULL,\n",
    "canton VARCHAR(63) NOT NULL,\n",
    "provincia VARCHAR(63) NOT NULL\n",
    ")''')\n",
    "sql_formula = 'INSERT INTO dim_razon_social ( id_razon_social, razon_social, estado, tipo_razon_social, canton, provincia) VALUES (%s,%s,%s,%s,%s,%s)'\n",
    "for row in tqdm(df_razon_social.values):\n",
    "    mycursor.execute(sql_formula,tuple(row))\n",
    "    mydb.commit()"
   ]
  },
  {
   "cell_type": "markdown",
   "id": "ecc3822e-2339-4dd6-95d4-3edbb03cf8be",
   "metadata": {},
   "source": [
    "# DATAMART OC"
   ]
  },
  {
   "cell_type": "markdown",
   "id": "f88a4c95-5257-4ebc-842a-b1a69b4f2774",
   "metadata": {},
   "source": [
    "## Tabla dim_curso_perfil_oc"
   ]
  },
  {
   "cell_type": "code",
   "execution_count": 59,
   "id": "00be3047-10af-43b3-8488-53fc58c29aaa",
   "metadata": {},
   "outputs": [],
   "source": [
    "df_cur_per = pd.read_csv(os.path.join(path_dm_oc,'dim_curso_perfil.csv'))\n",
    "df_cur_per['id_curso_perfil'] = df_cur_per['id_curso_perfil'].astype(str)\n",
    "df_cur_per = df_cur_per.fillna({'costo':0})"
   ]
  },
  {
   "cell_type": "code",
   "execution_count": 60,
   "id": "a5426a57-e607-434a-bedf-b42eea4dd047",
   "metadata": {},
   "outputs": [
    {
     "name": "stderr",
     "output_type": "stream",
     "text": [
      "100%|██████████████████████████████████████████████████████████████████████████████| 5103/5103 [04:00<00:00, 21.26it/s]\n"
     ]
    }
   ],
   "source": [
    "mycursor.execute(\"DROP TABLE IF EXISTS dim_curso_perfil_oc\")\n",
    "mycursor.execute('''CREATE TABLE dim_curso_perfil_oc (\n",
    "id_curso_perfil INT PRIMARY KEY,\n",
    "tipo VARCHAR(63) NOT NULL,\n",
    "area_familia VARCHAR(255) NOT NULL,\n",
    "especialidad_sector VARCHAR(255) NOT NULL,\n",
    "curso_perfil VARCHAR(255) NOT NULL,\n",
    "modalidad VARCHAR(255) NOT NULL,\n",
    "carga_horaria FLOAT NOT NULL,\n",
    "costo FLOAT NOT NULL\n",
    ")''')\n",
    "sql_formula = 'INSERT INTO dim_curso_perfil_oc ( id_curso_perfil, tipo, area_familia, especialidad_sector, curso_perfil, modalidad, carga_horaria, costo) VALUES (%s,%s,%s,%s,%s,%s,%s,%s)'\n",
    "for row in tqdm(df_cur_per.values):\n",
    "    mycursor.execute(sql_formula,tuple(row))\n",
    "    mydb.commit()"
   ]
  },
  {
   "cell_type": "markdown",
   "id": "089d6d03-7d94-47cc-877c-4696b2b9832d",
   "metadata": {},
   "source": [
    "## Tabla dim_fecha_oc"
   ]
  },
  {
   "cell_type": "code",
   "execution_count": 92,
   "id": "24994ce9-eff6-4d74-981e-ff646f8959be",
   "metadata": {},
   "outputs": [],
   "source": [
    "df_fecha_oc = pd.read_csv(os.path.join(path_dm_oc,'dim_fecha.csv'))\n",
    "df_fecha_oc['id_fecha'] = df_fecha_oc['id_fecha'].astype(str)\n",
    "df_fecha_oc['anio'] = df_fecha_oc['anio'].astype(str)"
   ]
  },
  {
   "cell_type": "code",
   "execution_count": 93,
   "id": "bfaff76e-2ddd-4095-bea6-2183de3b524d",
   "metadata": {},
   "outputs": [
    {
     "name": "stderr",
     "output_type": "stream",
     "text": [
      "100%|████████████████████████████████████████████████████████████████████████████████████| 8/8 [00:00<00:00, 25.63it/s]\n"
     ]
    }
   ],
   "source": [
    "mycursor.execute(\"DROP TABLE IF EXISTS dim_fecha_oc\")\n",
    "mycursor.execute('''CREATE TABLE dim_fecha_oc (\n",
    "id_fecha INT PRIMARY KEY,\n",
    "anio VARCHAR(4) NOT NULL\n",
    ")''')\n",
    "sql_formula = 'INSERT INTO dim_fecha_oc ( id_fecha, anio) VALUES (%s,%s)'\n",
    "for row in tqdm(df_fecha_oc.values):\n",
    "    mycursor.execute(sql_formula,tuple(row))\n",
    "    mydb.commit()"
   ]
  },
  {
   "cell_type": "markdown",
   "id": "c4dfe425-63ee-43bf-9f72-41c495187f13",
   "metadata": {},
   "source": [
    "## Tabla fact_oc"
   ]
  },
  {
   "cell_type": "code",
   "execution_count": 94,
   "id": "d7232eb0-8179-40c4-b02c-cc91ac8faff9",
   "metadata": {},
   "outputs": [
    {
     "name": "stderr",
     "output_type": "stream",
     "text": [
      "C:\\Users\\sjime\\AppData\\Local\\Temp\\ipykernel_31844\\470633657.py:3: SettingWithCopyWarning: \n",
      "A value is trying to be set on a copy of a slice from a DataFrame.\n",
      "Try using .loc[row_indexer,col_indexer] = value instead\n",
      "\n",
      "See the caveats in the documentation: https://pandas.pydata.org/pandas-docs/stable/user_guide/indexing.html#returning-a-view-versus-a-copy\n",
      "  df_fact_oc['id_razon_social'] = df_fact_oc['id_razon_social'].astype(str)\n",
      "C:\\Users\\sjime\\AppData\\Local\\Temp\\ipykernel_31844\\470633657.py:4: SettingWithCopyWarning: \n",
      "A value is trying to be set on a copy of a slice from a DataFrame.\n",
      "Try using .loc[row_indexer,col_indexer] = value instead\n",
      "\n",
      "See the caveats in the documentation: https://pandas.pydata.org/pandas-docs/stable/user_guide/indexing.html#returning-a-view-versus-a-copy\n",
      "  df_fact_oc['id_curso_perfil'] = df_fact_oc['id_curso_perfil'].astype(str)\n",
      "C:\\Users\\sjime\\AppData\\Local\\Temp\\ipykernel_31844\\470633657.py:5: SettingWithCopyWarning: \n",
      "A value is trying to be set on a copy of a slice from a DataFrame.\n",
      "Try using .loc[row_indexer,col_indexer] = value instead\n",
      "\n",
      "See the caveats in the documentation: https://pandas.pydata.org/pandas-docs/stable/user_guide/indexing.html#returning-a-view-versus-a-copy\n",
      "  df_fact_oc['id_fecha'] = df_fact_oc['id_fecha'].astype(str)\n"
     ]
    }
   ],
   "source": [
    "df_fact_oc = fact_oc[['id_fact_oc','id_razon_social', 'id_curso_perfil', 'id_fecha', 'num_cap_cer', 'prediction(num_cap_cer)', 'total_cursos', 'prediction(total_cursos)', 'volumen_capacitados', 'prediction(volumen_capacitados)', 'total_horas', 'prediction(total_horas)', 'total_ganancias', 'prediction(total_ganancias)','%_asistencia','prediction(%_asistencia)']]\n",
    "df_fact_oc.columns = ['id_fact_oc','id_razon_social', 'id_curso_perfil', 'id_fecha', 'num_cap_cer', 'prediction_num_cap_cer', 'total_cursos', 'prediction_total_cursos', 'volumen_capacitados', 'prediction_volumen_capacitados', 'total_horas', 'prediction_total_horas', 'total_ganancias', 'prediction_total_ganancias','%_asistencia','prediction_%_asistencia']\n",
    "df_fact_oc['id_razon_social'] = df_fact_oc['id_razon_social'].astype(str)\n",
    "df_fact_oc['id_curso_perfil'] = df_fact_oc['id_curso_perfil'].astype(str)\n",
    "df_fact_oc['id_fecha'] = df_fact_oc['id_fecha'].astype(str)"
   ]
  },
  {
   "cell_type": "code",
   "execution_count": 108,
   "id": "706cbfa7-b2bf-4648-8737-63ef91614020",
   "metadata": {},
   "outputs": [
    {
     "data": {
      "text/plain": [
       "id_fact_oc                           0\n",
       "id_razon_social                      0\n",
       "id_curso_perfil                      0\n",
       "id_fecha                             0\n",
       "num_cap_cer                          0\n",
       "prediction_num_cap_cer               0\n",
       "total_cursos                         0\n",
       "prediction_total_cursos              0\n",
       "volumen_capacitados                  0\n",
       "prediction_volumen_capacitados       0\n",
       "total_horas                          0\n",
       "prediction_total_horas              36\n",
       "total_ganancias                      0\n",
       "prediction_total_ganancias        1432\n",
       "%_asistencia                         0\n",
       "prediction_%_asistencia           1238\n",
       "dtype: int64"
      ]
     },
     "execution_count": 108,
     "metadata": {},
     "output_type": "execute_result"
    }
   ],
   "source": [
    "df_fact_oc.isnull().sum()"
   ]
  },
  {
   "cell_type": "code",
   "execution_count": 105,
   "id": "960d84da-16d6-4ade-9f03-ee8e0df065be",
   "metadata": {},
   "outputs": [
    {
     "name": "stderr",
     "output_type": "stream",
     "text": [
      "  0%|                                                                                         | 0/1580 [00:00<?, ?it/s]"
     ]
    },
    {
     "name": "stdout",
     "output_type": "stream",
     "text": [
      "(0.0, '1.0', '3487.0', '6.0', 34.0, 34.0, 4.0, 4.666666666666667, 52.0, 113.975, 1360.0, 1390.0, 0.0, nan, 0.0, nan)\n"
     ]
    },
    {
     "name": "stderr",
     "output_type": "stream",
     "text": [
      "\n"
     ]
    },
    {
     "ename": "ProgrammingError",
     "evalue": "1054 (42S22): Unknown column 'nan' in 'field list'",
     "output_type": "error",
     "traceback": [
      "\u001b[1;31m---------------------------------------------------------------------------\u001b[0m",
      "\u001b[1;31mMySQLInterfaceError\u001b[0m                       Traceback (most recent call last)",
      "File \u001b[1;32m~\\anaconda3\\lib\\site-packages\\mysql\\connector\\connection_cext.py:565\u001b[0m, in \u001b[0;36mCMySQLConnection.cmd_query\u001b[1;34m(self, query, raw, buffered, raw_as_string)\u001b[0m\n\u001b[0;32m    564\u001b[0m         query \u001b[38;5;241m=\u001b[39m query\u001b[38;5;241m.\u001b[39mencode(\u001b[38;5;124m\"\u001b[39m\u001b[38;5;124mutf-8\u001b[39m\u001b[38;5;124m\"\u001b[39m)\n\u001b[1;32m--> 565\u001b[0m     \u001b[38;5;28;43mself\u001b[39;49m\u001b[38;5;241;43m.\u001b[39;49m\u001b[43m_cmysql\u001b[49m\u001b[38;5;241;43m.\u001b[39;49m\u001b[43mquery\u001b[49m\u001b[43m(\u001b[49m\n\u001b[0;32m    566\u001b[0m \u001b[43m        \u001b[49m\u001b[43mquery\u001b[49m\u001b[43m,\u001b[49m\n\u001b[0;32m    567\u001b[0m \u001b[43m        \u001b[49m\u001b[43mraw\u001b[49m\u001b[38;5;241;43m=\u001b[39;49m\u001b[43mraw\u001b[49m\u001b[43m,\u001b[49m\n\u001b[0;32m    568\u001b[0m \u001b[43m        \u001b[49m\u001b[43mbuffered\u001b[49m\u001b[38;5;241;43m=\u001b[39;49m\u001b[43mbuffered\u001b[49m\u001b[43m,\u001b[49m\n\u001b[0;32m    569\u001b[0m \u001b[43m        \u001b[49m\u001b[43mraw_as_string\u001b[49m\u001b[38;5;241;43m=\u001b[39;49m\u001b[43mraw_as_string\u001b[49m\u001b[43m,\u001b[49m\n\u001b[0;32m    570\u001b[0m \u001b[43m        \u001b[49m\u001b[43mquery_attrs\u001b[49m\u001b[38;5;241;43m=\u001b[39;49m\u001b[38;5;28;43mself\u001b[39;49m\u001b[38;5;241;43m.\u001b[39;49m\u001b[43m_query_attrs\u001b[49m\u001b[43m,\u001b[49m\n\u001b[0;32m    571\u001b[0m \u001b[43m    \u001b[49m\u001b[43m)\u001b[49m\n\u001b[0;32m    572\u001b[0m \u001b[38;5;28;01mexcept\u001b[39;00m MySQLInterfaceError \u001b[38;5;28;01mas\u001b[39;00m err:\n",
      "\u001b[1;31mMySQLInterfaceError\u001b[0m: Unknown column 'nan' in 'field list'",
      "\nThe above exception was the direct cause of the following exception:\n",
      "\u001b[1;31mProgrammingError\u001b[0m                          Traceback (most recent call last)",
      "Input \u001b[1;32mIn [105]\u001b[0m, in \u001b[0;36m<cell line: 22>\u001b[1;34m()\u001b[0m\n\u001b[0;32m     22\u001b[0m \u001b[38;5;28;01mfor\u001b[39;00m row \u001b[38;5;129;01min\u001b[39;00m tqdm(df_fact_oc\u001b[38;5;241m.\u001b[39mvalues):\n\u001b[0;32m     23\u001b[0m     \u001b[38;5;28mprint\u001b[39m(\u001b[38;5;28mtuple\u001b[39m(row))\n\u001b[1;32m---> 24\u001b[0m     \u001b[43mmycursor\u001b[49m\u001b[38;5;241;43m.\u001b[39;49m\u001b[43mexecute\u001b[49m\u001b[43m(\u001b[49m\u001b[43msql_formula\u001b[49m\u001b[43m,\u001b[49m\u001b[38;5;28;43mtuple\u001b[39;49m\u001b[43m(\u001b[49m\u001b[43mrow\u001b[49m\u001b[43m)\u001b[49m\u001b[43m)\u001b[49m\n\u001b[0;32m     25\u001b[0m     mydb\u001b[38;5;241m.\u001b[39mcommit()\n",
      "File \u001b[1;32m~\\anaconda3\\lib\\site-packages\\mysql\\connector\\cursor_cext.py:279\u001b[0m, in \u001b[0;36mCMySQLCursor.execute\u001b[1;34m(self, operation, params, multi)\u001b[0m\n\u001b[0;32m    274\u001b[0m             \u001b[38;5;28;01mraise\u001b[39;00m ProgrammingError(\n\u001b[0;32m    275\u001b[0m                 \u001b[38;5;124m\"\u001b[39m\u001b[38;5;124mNot all parameters were used in the SQL statement\u001b[39m\u001b[38;5;124m\"\u001b[39m\n\u001b[0;32m    276\u001b[0m             )\n\u001b[0;32m    278\u001b[0m \u001b[38;5;28;01mtry\u001b[39;00m:\n\u001b[1;32m--> 279\u001b[0m     result \u001b[38;5;241m=\u001b[39m \u001b[38;5;28;43mself\u001b[39;49m\u001b[38;5;241;43m.\u001b[39;49m\u001b[43m_cnx\u001b[49m\u001b[38;5;241;43m.\u001b[39;49m\u001b[43mcmd_query\u001b[49m\u001b[43m(\u001b[49m\n\u001b[0;32m    280\u001b[0m \u001b[43m        \u001b[49m\u001b[43mstmt\u001b[49m\u001b[43m,\u001b[49m\n\u001b[0;32m    281\u001b[0m \u001b[43m        \u001b[49m\u001b[43mraw\u001b[49m\u001b[38;5;241;43m=\u001b[39;49m\u001b[38;5;28;43mself\u001b[39;49m\u001b[38;5;241;43m.\u001b[39;49m\u001b[43m_raw\u001b[49m\u001b[43m,\u001b[49m\n\u001b[0;32m    282\u001b[0m \u001b[43m        \u001b[49m\u001b[43mbuffered\u001b[49m\u001b[38;5;241;43m=\u001b[39;49m\u001b[38;5;28;43mself\u001b[39;49m\u001b[38;5;241;43m.\u001b[39;49m\u001b[43m_buffered\u001b[49m\u001b[43m,\u001b[49m\n\u001b[0;32m    283\u001b[0m \u001b[43m        \u001b[49m\u001b[43mraw_as_string\u001b[49m\u001b[38;5;241;43m=\u001b[39;49m\u001b[38;5;28;43mself\u001b[39;49m\u001b[38;5;241;43m.\u001b[39;49m\u001b[43m_raw_as_string\u001b[49m\u001b[43m,\u001b[49m\n\u001b[0;32m    284\u001b[0m \u001b[43m    \u001b[49m\u001b[43m)\u001b[49m\n\u001b[0;32m    285\u001b[0m \u001b[38;5;28;01mexcept\u001b[39;00m MySQLInterfaceError \u001b[38;5;28;01mas\u001b[39;00m err:\n\u001b[0;32m    286\u001b[0m     \u001b[38;5;28;01mraise\u001b[39;00m get_mysql_exception(\n\u001b[0;32m    287\u001b[0m         msg\u001b[38;5;241m=\u001b[39merr\u001b[38;5;241m.\u001b[39mmsg, errno\u001b[38;5;241m=\u001b[39merr\u001b[38;5;241m.\u001b[39merrno, sqlstate\u001b[38;5;241m=\u001b[39merr\u001b[38;5;241m.\u001b[39msqlstate\n\u001b[0;32m    288\u001b[0m     ) \u001b[38;5;28;01mfrom\u001b[39;00m \u001b[38;5;21;01merr\u001b[39;00m\n",
      "File \u001b[1;32m~\\anaconda3\\lib\\site-packages\\mysql\\connector\\connection_cext.py:573\u001b[0m, in \u001b[0;36mCMySQLConnection.cmd_query\u001b[1;34m(self, query, raw, buffered, raw_as_string)\u001b[0m\n\u001b[0;32m    565\u001b[0m     \u001b[38;5;28mself\u001b[39m\u001b[38;5;241m.\u001b[39m_cmysql\u001b[38;5;241m.\u001b[39mquery(\n\u001b[0;32m    566\u001b[0m         query,\n\u001b[0;32m    567\u001b[0m         raw\u001b[38;5;241m=\u001b[39mraw,\n\u001b[1;32m   (...)\u001b[0m\n\u001b[0;32m    570\u001b[0m         query_attrs\u001b[38;5;241m=\u001b[39m\u001b[38;5;28mself\u001b[39m\u001b[38;5;241m.\u001b[39m_query_attrs,\n\u001b[0;32m    571\u001b[0m     )\n\u001b[0;32m    572\u001b[0m \u001b[38;5;28;01mexcept\u001b[39;00m MySQLInterfaceError \u001b[38;5;28;01mas\u001b[39;00m err:\n\u001b[1;32m--> 573\u001b[0m     \u001b[38;5;28;01mraise\u001b[39;00m get_mysql_exception(\n\u001b[0;32m    574\u001b[0m         err\u001b[38;5;241m.\u001b[39merrno, msg\u001b[38;5;241m=\u001b[39merr\u001b[38;5;241m.\u001b[39mmsg, sqlstate\u001b[38;5;241m=\u001b[39merr\u001b[38;5;241m.\u001b[39msqlstate\n\u001b[0;32m    575\u001b[0m     ) \u001b[38;5;28;01mfrom\u001b[39;00m \u001b[38;5;21;01merr\u001b[39;00m\n\u001b[0;32m    576\u001b[0m \u001b[38;5;28;01mexcept\u001b[39;00m \u001b[38;5;167;01mAttributeError\u001b[39;00m \u001b[38;5;28;01mas\u001b[39;00m err:\n\u001b[0;32m    577\u001b[0m     addr \u001b[38;5;241m=\u001b[39m (\n\u001b[0;32m    578\u001b[0m         \u001b[38;5;28mself\u001b[39m\u001b[38;5;241m.\u001b[39m_unix_socket \u001b[38;5;28;01mif\u001b[39;00m \u001b[38;5;28mself\u001b[39m\u001b[38;5;241m.\u001b[39m_unix_socket \u001b[38;5;28;01melse\u001b[39;00m \u001b[38;5;124mf\u001b[39m\u001b[38;5;124m\"\u001b[39m\u001b[38;5;132;01m{\u001b[39;00m\u001b[38;5;28mself\u001b[39m\u001b[38;5;241m.\u001b[39m_host\u001b[38;5;132;01m}\u001b[39;00m\u001b[38;5;124m:\u001b[39m\u001b[38;5;132;01m{\u001b[39;00m\u001b[38;5;28mself\u001b[39m\u001b[38;5;241m.\u001b[39m_port\u001b[38;5;132;01m}\u001b[39;00m\u001b[38;5;124m\"\u001b[39m\n\u001b[0;32m    579\u001b[0m     )\n",
      "\u001b[1;31mProgrammingError\u001b[0m: 1054 (42S22): Unknown column 'nan' in 'field list'"
     ]
    }
   ],
   "source": [
    "mycursor.execute(\"DROP TABLE IF EXISTS fact_oc\")\n",
    "mycursor.execute('''CREATE TABLE fact_oc (\n",
    "id_fact_oc INT PRIMARY KEY,\n",
    "id_razon_social INT NOT NULL,\n",
    "id_curso_perfil INT NOT NULL,\n",
    "id_fecha INT NOT NULL,\n",
    "num_cap_cer INT NOT NULL,\n",
    "prediction_num_cap_cer INT NOT NULL,\n",
    "total_cursos INT NOT NULL,\n",
    "prediction_total_cursos INT NOT NULL,\n",
    "volumen_capacitados INT NOT NULL,\n",
    "prediction_volumen_capacitados INT NOT NULL,\n",
    "total_horas INT NOT NULL,\n",
    "prediction_total_horas INT NOT NULL,\n",
    "total_ganancias FLOAT NOT NULL,\n",
    "prediction_total_ganancias FLOAT NOT NULL,\n",
    "porcentaje_asistencia FLOAT NOT NULL,\n",
    "prediction_porcentaje_asistencia FLOAT NOT NULL\n",
    ")''')\n",
    "sql_formula = '''INSERT INTO fact_oc (id_fact_oc,id_razon_social, id_curso_perfil, id_fecha, num_cap_cer, prediction_num_cap_cer, total_cursos, prediction_total_cursos, volumen_capacitados, prediction_volumen_capacitados, total_horas, prediction_total_horas, total_ganancias, prediction_total_ganancias,porcentaje_asistencia,prediction_porcentaje_asistencia) \n",
    "VALUES (%s,%s,%s,%s,%s,%s,%s,%s,%s,%s,%s,%s,%s,%s,%s,%s)'''\n",
    "for row in tqdm(df_fact_oc.values):\n",
    "    print(tuple(row))\n",
    "    mycursor.execute(sql_formula,tuple(row))\n",
    "    mydb.commit()"
   ]
  },
  {
   "cell_type": "markdown",
   "id": "5f981aae-e8a1-4022-997d-fd122513842c",
   "metadata": {},
   "source": [
    "## CREAR CLAVES FORANEAS OC"
   ]
  },
  {
   "cell_type": "code",
   "execution_count": 54,
   "id": "4c602e6c-24e5-4bb4-9c11-2afcef9bc5d1",
   "metadata": {},
   "outputs": [
    {
     "ename": "DatabaseError",
     "evalue": "3780 (HY000): Referencing column 'id_fecha' and referenced column 'id_fecha' in foreign key constraint 'fact_oc_ibfk_1' are incompatible.",
     "output_type": "error",
     "traceback": [
      "\u001b[1;31m---------------------------------------------------------------------------\u001b[0m",
      "\u001b[1;31mMySQLInterfaceError\u001b[0m                       Traceback (most recent call last)",
      "File \u001b[1;32m~\\anaconda3\\lib\\site-packages\\mysql\\connector\\connection_cext.py:565\u001b[0m, in \u001b[0;36mCMySQLConnection.cmd_query\u001b[1;34m(self, query, raw, buffered, raw_as_string)\u001b[0m\n\u001b[0;32m    564\u001b[0m         query \u001b[38;5;241m=\u001b[39m query\u001b[38;5;241m.\u001b[39mencode(\u001b[38;5;124m\"\u001b[39m\u001b[38;5;124mutf-8\u001b[39m\u001b[38;5;124m\"\u001b[39m)\n\u001b[1;32m--> 565\u001b[0m     \u001b[38;5;28;43mself\u001b[39;49m\u001b[38;5;241;43m.\u001b[39;49m\u001b[43m_cmysql\u001b[49m\u001b[38;5;241;43m.\u001b[39;49m\u001b[43mquery\u001b[49m\u001b[43m(\u001b[49m\n\u001b[0;32m    566\u001b[0m \u001b[43m        \u001b[49m\u001b[43mquery\u001b[49m\u001b[43m,\u001b[49m\n\u001b[0;32m    567\u001b[0m \u001b[43m        \u001b[49m\u001b[43mraw\u001b[49m\u001b[38;5;241;43m=\u001b[39;49m\u001b[43mraw\u001b[49m\u001b[43m,\u001b[49m\n\u001b[0;32m    568\u001b[0m \u001b[43m        \u001b[49m\u001b[43mbuffered\u001b[49m\u001b[38;5;241;43m=\u001b[39;49m\u001b[43mbuffered\u001b[49m\u001b[43m,\u001b[49m\n\u001b[0;32m    569\u001b[0m \u001b[43m        \u001b[49m\u001b[43mraw_as_string\u001b[49m\u001b[38;5;241;43m=\u001b[39;49m\u001b[43mraw_as_string\u001b[49m\u001b[43m,\u001b[49m\n\u001b[0;32m    570\u001b[0m \u001b[43m        \u001b[49m\u001b[43mquery_attrs\u001b[49m\u001b[38;5;241;43m=\u001b[39;49m\u001b[38;5;28;43mself\u001b[39;49m\u001b[38;5;241;43m.\u001b[39;49m\u001b[43m_query_attrs\u001b[49m\u001b[43m,\u001b[49m\n\u001b[0;32m    571\u001b[0m \u001b[43m    \u001b[49m\u001b[43m)\u001b[49m\n\u001b[0;32m    572\u001b[0m \u001b[38;5;28;01mexcept\u001b[39;00m MySQLInterfaceError \u001b[38;5;28;01mas\u001b[39;00m err:\n",
      "\u001b[1;31mMySQLInterfaceError\u001b[0m: Referencing column 'id_fecha' and referenced column 'id_fecha' in foreign key constraint 'fact_oc_ibfk_1' are incompatible.",
      "\nThe above exception was the direct cause of the following exception:\n",
      "\u001b[1;31mDatabaseError\u001b[0m                             Traceback (most recent call last)",
      "Input \u001b[1;32mIn [54]\u001b[0m, in \u001b[0;36m<cell line: 1>\u001b[1;34m()\u001b[0m\n\u001b[1;32m----> 1\u001b[0m \u001b[43mmycursor\u001b[49m\u001b[38;5;241;43m.\u001b[39;49m\u001b[43mexecute\u001b[49m\u001b[43m(\u001b[49m\u001b[38;5;124;43m'''\u001b[39;49m\u001b[38;5;124;43m \u001b[39;49m\n\u001b[0;32m      2\u001b[0m \u001b[38;5;124;43mALTER TABLE fact_oc\u001b[39;49m\n\u001b[0;32m      3\u001b[0m \u001b[38;5;124;43mADD FOREIGN KEY (id_fecha) REFERENCES dim_fecha_oc(id_fecha)\u001b[39;49m\n\u001b[0;32m      4\u001b[0m \u001b[38;5;124;43m'''\u001b[39;49m\u001b[43m)\u001b[49m\n\u001b[0;32m      5\u001b[0m mycursor\u001b[38;5;241m.\u001b[39mexecute(\u001b[38;5;124m'''\u001b[39m\u001b[38;5;124m \u001b[39m\n\u001b[0;32m      6\u001b[0m \u001b[38;5;124mALTER TABLE fact_oc\u001b[39m\n\u001b[0;32m      7\u001b[0m \u001b[38;5;124mADD FOREIGN KEY (id_razon_social) REFERENCES dim_razon_social(id_razon_social)\u001b[39m\n\u001b[0;32m      8\u001b[0m \u001b[38;5;124m'''\u001b[39m)\n\u001b[0;32m      9\u001b[0m mycursor\u001b[38;5;241m.\u001b[39mexecute(\u001b[38;5;124m'''\u001b[39m\u001b[38;5;124m \u001b[39m\n\u001b[0;32m     10\u001b[0m \u001b[38;5;124mALTER TABLE fact_oc\u001b[39m\n\u001b[0;32m     11\u001b[0m \u001b[38;5;124mADD FOREIGN KEY (id_curso_perfil) REFERENCES dim_curso_perfil_oc(id_curso_perfil)\u001b[39m\n\u001b[0;32m     12\u001b[0m \u001b[38;5;124m'''\u001b[39m)\n",
      "File \u001b[1;32m~\\anaconda3\\lib\\site-packages\\mysql\\connector\\cursor_cext.py:279\u001b[0m, in \u001b[0;36mCMySQLCursor.execute\u001b[1;34m(self, operation, params, multi)\u001b[0m\n\u001b[0;32m    274\u001b[0m             \u001b[38;5;28;01mraise\u001b[39;00m ProgrammingError(\n\u001b[0;32m    275\u001b[0m                 \u001b[38;5;124m\"\u001b[39m\u001b[38;5;124mNot all parameters were used in the SQL statement\u001b[39m\u001b[38;5;124m\"\u001b[39m\n\u001b[0;32m    276\u001b[0m             )\n\u001b[0;32m    278\u001b[0m \u001b[38;5;28;01mtry\u001b[39;00m:\n\u001b[1;32m--> 279\u001b[0m     result \u001b[38;5;241m=\u001b[39m \u001b[38;5;28;43mself\u001b[39;49m\u001b[38;5;241;43m.\u001b[39;49m\u001b[43m_cnx\u001b[49m\u001b[38;5;241;43m.\u001b[39;49m\u001b[43mcmd_query\u001b[49m\u001b[43m(\u001b[49m\n\u001b[0;32m    280\u001b[0m \u001b[43m        \u001b[49m\u001b[43mstmt\u001b[49m\u001b[43m,\u001b[49m\n\u001b[0;32m    281\u001b[0m \u001b[43m        \u001b[49m\u001b[43mraw\u001b[49m\u001b[38;5;241;43m=\u001b[39;49m\u001b[38;5;28;43mself\u001b[39;49m\u001b[38;5;241;43m.\u001b[39;49m\u001b[43m_raw\u001b[49m\u001b[43m,\u001b[49m\n\u001b[0;32m    282\u001b[0m \u001b[43m        \u001b[49m\u001b[43mbuffered\u001b[49m\u001b[38;5;241;43m=\u001b[39;49m\u001b[38;5;28;43mself\u001b[39;49m\u001b[38;5;241;43m.\u001b[39;49m\u001b[43m_buffered\u001b[49m\u001b[43m,\u001b[49m\n\u001b[0;32m    283\u001b[0m \u001b[43m        \u001b[49m\u001b[43mraw_as_string\u001b[49m\u001b[38;5;241;43m=\u001b[39;49m\u001b[38;5;28;43mself\u001b[39;49m\u001b[38;5;241;43m.\u001b[39;49m\u001b[43m_raw_as_string\u001b[49m\u001b[43m,\u001b[49m\n\u001b[0;32m    284\u001b[0m \u001b[43m    \u001b[49m\u001b[43m)\u001b[49m\n\u001b[0;32m    285\u001b[0m \u001b[38;5;28;01mexcept\u001b[39;00m MySQLInterfaceError \u001b[38;5;28;01mas\u001b[39;00m err:\n\u001b[0;32m    286\u001b[0m     \u001b[38;5;28;01mraise\u001b[39;00m get_mysql_exception(\n\u001b[0;32m    287\u001b[0m         msg\u001b[38;5;241m=\u001b[39merr\u001b[38;5;241m.\u001b[39mmsg, errno\u001b[38;5;241m=\u001b[39merr\u001b[38;5;241m.\u001b[39merrno, sqlstate\u001b[38;5;241m=\u001b[39merr\u001b[38;5;241m.\u001b[39msqlstate\n\u001b[0;32m    288\u001b[0m     ) \u001b[38;5;28;01mfrom\u001b[39;00m \u001b[38;5;21;01merr\u001b[39;00m\n",
      "File \u001b[1;32m~\\anaconda3\\lib\\site-packages\\mysql\\connector\\connection_cext.py:573\u001b[0m, in \u001b[0;36mCMySQLConnection.cmd_query\u001b[1;34m(self, query, raw, buffered, raw_as_string)\u001b[0m\n\u001b[0;32m    565\u001b[0m     \u001b[38;5;28mself\u001b[39m\u001b[38;5;241m.\u001b[39m_cmysql\u001b[38;5;241m.\u001b[39mquery(\n\u001b[0;32m    566\u001b[0m         query,\n\u001b[0;32m    567\u001b[0m         raw\u001b[38;5;241m=\u001b[39mraw,\n\u001b[1;32m   (...)\u001b[0m\n\u001b[0;32m    570\u001b[0m         query_attrs\u001b[38;5;241m=\u001b[39m\u001b[38;5;28mself\u001b[39m\u001b[38;5;241m.\u001b[39m_query_attrs,\n\u001b[0;32m    571\u001b[0m     )\n\u001b[0;32m    572\u001b[0m \u001b[38;5;28;01mexcept\u001b[39;00m MySQLInterfaceError \u001b[38;5;28;01mas\u001b[39;00m err:\n\u001b[1;32m--> 573\u001b[0m     \u001b[38;5;28;01mraise\u001b[39;00m get_mysql_exception(\n\u001b[0;32m    574\u001b[0m         err\u001b[38;5;241m.\u001b[39merrno, msg\u001b[38;5;241m=\u001b[39merr\u001b[38;5;241m.\u001b[39mmsg, sqlstate\u001b[38;5;241m=\u001b[39merr\u001b[38;5;241m.\u001b[39msqlstate\n\u001b[0;32m    575\u001b[0m     ) \u001b[38;5;28;01mfrom\u001b[39;00m \u001b[38;5;21;01merr\u001b[39;00m\n\u001b[0;32m    576\u001b[0m \u001b[38;5;28;01mexcept\u001b[39;00m \u001b[38;5;167;01mAttributeError\u001b[39;00m \u001b[38;5;28;01mas\u001b[39;00m err:\n\u001b[0;32m    577\u001b[0m     addr \u001b[38;5;241m=\u001b[39m (\n\u001b[0;32m    578\u001b[0m         \u001b[38;5;28mself\u001b[39m\u001b[38;5;241m.\u001b[39m_unix_socket \u001b[38;5;28;01mif\u001b[39;00m \u001b[38;5;28mself\u001b[39m\u001b[38;5;241m.\u001b[39m_unix_socket \u001b[38;5;28;01melse\u001b[39;00m \u001b[38;5;124mf\u001b[39m\u001b[38;5;124m\"\u001b[39m\u001b[38;5;132;01m{\u001b[39;00m\u001b[38;5;28mself\u001b[39m\u001b[38;5;241m.\u001b[39m_host\u001b[38;5;132;01m}\u001b[39;00m\u001b[38;5;124m:\u001b[39m\u001b[38;5;132;01m{\u001b[39;00m\u001b[38;5;28mself\u001b[39m\u001b[38;5;241m.\u001b[39m_port\u001b[38;5;132;01m}\u001b[39;00m\u001b[38;5;124m\"\u001b[39m\n\u001b[0;32m    579\u001b[0m     )\n",
      "\u001b[1;31mDatabaseError\u001b[0m: 3780 (HY000): Referencing column 'id_fecha' and referenced column 'id_fecha' in foreign key constraint 'fact_oc_ibfk_1' are incompatible."
     ]
    }
   ],
   "source": [
    "mycursor.execute(''' \n",
    "ALTER TABLE fact_oc\n",
    "ADD FOREIGN KEY (id_fecha) REFERENCES dim_fecha_oc(id_fecha)\n",
    "''')\n",
    "mycursor.execute(''' \n",
    "ALTER TABLE fact_oc\n",
    "ADD FOREIGN KEY (id_razon_social) REFERENCES dim_razon_social(id_razon_social)\n",
    "''')\n",
    "mycursor.execute(''' \n",
    "ALTER TABLE fact_oc\n",
    "ADD FOREIGN KEY (id_curso_perfil) REFERENCES dim_curso_perfil_oc(id_curso_perfil)\n",
    "''')"
   ]
  },
  {
   "cell_type": "markdown",
   "id": "16b243ca-238f-49c1-9d6a-db316bdb15eb",
   "metadata": {},
   "source": [
    "# DATAMART OEC"
   ]
  },
  {
   "cell_type": "code",
   "execution_count": null,
   "id": "d222dda1-531f-470f-a5dc-f717f4b6bed9",
   "metadata": {},
   "outputs": [],
   "source": [
    "df_oec = pd.read_csv(os.path.join(path_dm_oec,'dim_razon_social_oec.csv'))\n",
    "df_oec['id_oec'] = df_oec['id_oec'].astype(str)"
   ]
  },
  {
   "cell_type": "code",
   "execution_count": null,
   "id": "5630e182-41c5-4cf8-ab2a-976b03f79fc6",
   "metadata": {},
   "outputs": [],
   "source": [
    "mycursor.execute(\"DROP TABLE IF EXISTS dim_razon_social_oec\")\n",
    "mycursor.execute('''CREATE TABLE dim_razon_social_oec (\n",
    "id_oec VARCHAR(4) PRIMARY KEY,\n",
    "razon_social VARCHAR(255) NOT NULL,\n",
    "estado VARCHAR(63) NOT NULL,\n",
    "canton VARCHAR(63) NOT NULL,\n",
    "provincia VARCHAR(63) NOT NULL\n",
    ")''')\n",
    "sql_formula = 'INSERT INTO dim_razon_social_oec ( id_oec, razon_social, estado, canton, provincia) VALUES (%s,%s,%s,%s,%s)'\n",
    "for row in tqdm(df_oec.values):\n",
    "    mycursor.execute(sql_formula,tuple(row))\n",
    "    mydb.commit()"
   ]
  },
  {
   "cell_type": "markdown",
   "id": "1fc24855-3f14-4104-a77c-d18b2eea288b",
   "metadata": {},
   "source": [
    "## Tabla dim_perfil"
   ]
  },
  {
   "cell_type": "code",
   "execution_count": null,
   "id": "fb75f444-76f7-4ef2-a350-4d2a20970c43",
   "metadata": {},
   "outputs": [],
   "source": [
    "df_perfil = pd.read_csv(os.path.join(path_dm_oec,'dim_perfil.csv'))\n",
    "df_perfil['id_perfil'] = df_perfil['id_perfil'].astype(str)"
   ]
  },
  {
   "cell_type": "code",
   "execution_count": null,
   "id": "480f2e4d-b8c7-4da1-a395-720b60ed1fd9",
   "metadata": {},
   "outputs": [],
   "source": [
    "mycursor.execute(\"DROP TABLE IF EXISTS dim_perfil_oec\")\n",
    "mycursor.execute('''CREATE TABLE dim_perfil_oec (\n",
    "id_perfil VARCHAR(4) PRIMARY KEY,\n",
    "familia VARCHAR(255) NOT NULL,\n",
    "sector VARCHAR(255) NOT NULL,\n",
    "perfil VARCHAR(255) NOT NULL,\n",
    "modalidad VARCHAR(63) NOT NULL,\n",
    "carga_horaria INT NOT NULL,\n",
    "costo FLOAT NOT NULL\n",
    ")''')\n",
    "sql_formula = 'INSERT INTO dim_perfil_oec (id_perfil, familia, sector, perfil, modalidad, carga_horaria, costo) VALUES (%s,%s,%s,%s,%s,%s,%s)'\n",
    "for row in tqdm(df_perfil.values):\n",
    "    mycursor.execute(sql_formula,tuple(row))\n",
    "    mydb.commit()"
   ]
  },
  {
   "cell_type": "markdown",
   "id": "27766dc8-9768-4879-ac50-f4a29312da49",
   "metadata": {},
   "source": [
    "## Tabla dim_fecha_oec"
   ]
  },
  {
   "cell_type": "code",
   "execution_count": null,
   "id": "0ad4dbe8-18fd-4205-a96e-a0ac2b2e3227",
   "metadata": {},
   "outputs": [],
   "source": [
    "df_fecha_oec = pd.read_csv(os.path.join(path_dm_oec,'dim_fecha.csv'))\n",
    "df_fecha_oec['id_fecha'] = df_fecha_oec['id_fecha'].astype(str)"
   ]
  },
  {
   "cell_type": "code",
   "execution_count": null,
   "id": "e06b19cb-b949-4893-9710-66f5acf5f252",
   "metadata": {},
   "outputs": [],
   "source": [
    "mycursor.execute(\"DROP TABLE IF EXISTS dim_fecha_oec\")\n",
    "mycursor.execute('''CREATE TABLE dim_fecha_oec (\n",
    "id_fecha VARCHAR(4) PRIMARY KEY,\n",
    "dia INT NOT NULL,\n",
    "mes INT NOT NULL,\n",
    "anio INT NOT NULL\n",
    ")''')\n",
    "sql_formula = 'INSERT INTO dim_fecha_oec (id_fecha, dia, mes, anio) VALUES (%s,%s,%s,%s)'\n",
    "for row in tqdm(df_fecha_oec.values):\n",
    "    mycursor.execute(sql_formula,tuple(row))\n",
    "    mydb.commit()"
   ]
  },
  {
   "cell_type": "markdown",
   "id": "e6ab5d7c-43bf-4194-81d7-b8cfafc0e57d",
   "metadata": {},
   "source": [
    "## Tabla fact_oec"
   ]
  },
  {
   "cell_type": "code",
   "execution_count": null,
   "id": "aa353d4b-2441-4da8-89f7-302ad3de4ff2",
   "metadata": {},
   "outputs": [],
   "source": [
    "df_fact_oec = fact_oec\n",
    "df_fact_oec['id_razon_social'] = df_fact_oec['id_razon_social'].astype(str)\n",
    "df_fact_oec['id_perfil'] = df_fact_oec['id_perfil'].astype(str)\n",
    "df_fact_oec['id_fecha'] = df_fact_oec['id_fecha'].astype(str)"
   ]
  },
  {
   "cell_type": "code",
   "execution_count": null,
   "id": "bdcc61cd-8d75-4e23-8a46-0d2f413a9783",
   "metadata": {},
   "outputs": [],
   "source": [
    "mycursor.execute(\"DROP TABLE IF EXISTS fact_oec\")\n",
    "mycursor.execute('''CREATE TABLE fact_oec (\n",
    "id_razon_social VARCHAR(4) NOT NULL,\n",
    "id_perfil VARCHAR(4) NOT NULL,\n",
    "id_fecha VARCHAR(4) NOT NULL,\n",
    "num_cer INT NOT NULL,\n",
    "total_horas INT NOT NULL,\n",
    "total_cursos INT NOT NULL,\n",
    "volumen_capacitados INT NOT NULL,\n",
    "total_ganancias FLOAT NOT NULL\n",
    ")''')\n",
    "sql_formula = 'INSERT INTO fact_oec(id_razon_social, id_perfil, id_fecha, num_cer, total_horas, total_cursos, volumen_capacitados, total_ganancias) VALUES (%s,%s,%s,%s,%s,%s,%s,%s)'\n",
    "for row in tqdm(df_fact_oec.values):\n",
    "    mycursor.execute(sql_formula,tuple(row))\n",
    "    mydb.commit()"
   ]
  },
  {
   "cell_type": "markdown",
   "id": "be4dbbed-a5c9-4ede-82d1-e05653f7d1be",
   "metadata": {},
   "source": [
    "## CREAR CLAVES FORANEAS OEC"
   ]
  },
  {
   "cell_type": "code",
   "execution_count": null,
   "id": "6b4b0fc7-763b-4349-bfaa-2e520a7e7736",
   "metadata": {},
   "outputs": [],
   "source": [
    "mycursor.execute(''' \n",
    "ALTER TABLE fact_oec\n",
    "ADD FOREIGN KEY (id_fecha) REFERENCES dim_fecha_oec(id_fecha)\n",
    "''')\n",
    "mycursor.execute(''' \n",
    "ALTER TABLE fact_oec\n",
    "ADD FOREIGN KEY (id_razon_social) REFERENCES dim_razon_social(id_razon_social)\n",
    "''')\n",
    "mycursor.execute(''' \n",
    "ALTER TABLE fact_oec\n",
    "ADD FOREIGN KEY (id_perfil) REFERENCES dim_perfil_oec(id_perfil)\n",
    "''')\n"
   ]
  },
  {
   "cell_type": "markdown",
   "id": "b0ac304a-86fd-46c4-a619-38b460326506",
   "metadata": {},
   "source": [
    "# DATAMART CI"
   ]
  },
  {
   "cell_type": "markdown",
   "id": "69d93e30-09ef-4d23-8f81-bf519656e399",
   "metadata": {},
   "source": [
    "## Tabla dim_curso"
   ]
  },
  {
   "cell_type": "code",
   "execution_count": null,
   "id": "86abed0f-0ee3-4498-ae11-60d1851d9428",
   "metadata": {},
   "outputs": [],
   "source": [
    "df_curso = pd.read_csv(os.path.join(path_dm_ci,'dim_curso_ci.csv'))\n",
    "df_curso['id_curso'] = df_curso['id_curso'].astype(str)\n",
    "df_curso = df_curso.fillna({'costo':0})\n",
    "df_curso = df_curso.dropna()"
   ]
  },
  {
   "cell_type": "code",
   "execution_count": null,
   "id": "2986a07a-49af-4719-b8d5-959427e07920",
   "metadata": {},
   "outputs": [],
   "source": [
    "mycursor.execute(\"DROP TABLE IF EXISTS dim_curso_ci\")\n",
    "mycursor.execute('''CREATE TABLE dim_curso_ci (\n",
    "id_curso VARCHAR(4) PRIMARY KEY,\n",
    "curso VARCHAR(255) NOT NULL,\n",
    "area VARCHAR(255) NOT NULL,\n",
    "especialidad VARCHAR(255) NOT NULL,\n",
    "modalidad VARCHAR(63) NOT NULL,\n",
    "carga_horaria INT NOT NULL,\n",
    "costo FLOAT NOT NULL\n",
    ")''')\n",
    "sql_formula = 'INSERT INTO dim_curso_ci (id_curso, curso, area, especialidad, modalidad, carga_horaria, costo) VALUES (%s,%s,%s,%s,%s,%s,%s)'\n",
    "for row in tqdm(df_curso.values):\n",
    "    mycursor.execute(sql_formula,tuple(row))\n",
    "    mydb.commit()"
   ]
  },
  {
   "cell_type": "markdown",
   "id": "6bb8e328-b5cb-4837-8955-aa40f9399a17",
   "metadata": {},
   "source": [
    "## Tabla dim_fecha_ci"
   ]
  },
  {
   "cell_type": "code",
   "execution_count": null,
   "id": "62236217-3115-428f-b3c6-8b11c4199957",
   "metadata": {},
   "outputs": [],
   "source": [
    "df_fecha_ci = pd.read_csv(os.path.join(path_dm_ci,'dim_fecha_ci.csv'))\n",
    "df_fecha_ci['id_fecha'] = df_fecha_ci['id_fecha'].astype(str)"
   ]
  },
  {
   "cell_type": "code",
   "execution_count": null,
   "id": "79d2e0d3-43f0-4f7e-866f-c5a3056e0651",
   "metadata": {},
   "outputs": [],
   "source": [
    "mycursor.execute(\"DROP TABLE IF EXISTS dim_fecha_ci\")\n",
    "mycursor.execute('''CREATE TABLE dim_fecha_ci (\n",
    "id_fecha VARCHAR(4) PRIMARY KEY,\n",
    "anio VARCHAR(15) NOT NULL\n",
    ")''')\n",
    "sql_formula = 'INSERT INTO dim_fecha_ci (id_fecha, anio) VALUES (%s,%s)'\n",
    "for row in tqdm(df_fecha_ci.values):\n",
    "    mycursor.execute(sql_formula,tuple(row))\n",
    "    mydb.commit()"
   ]
  },
  {
   "cell_type": "markdown",
   "id": "efe2b311-ecb5-4592-b021-2fda436e0b8a",
   "metadata": {},
   "source": [
    "## Tabla fact_ci"
   ]
  },
  {
   "cell_type": "code",
   "execution_count": null,
   "id": "50ecad49-c97e-49a0-81a2-00fe5d9b1af7",
   "metadata": {},
   "outputs": [],
   "source": [
    "df_fact_ci = fact_ci\n",
    "df_fact_ci['id_razon_social'] = df_fact_ci['id_razon_social'].astype(str)\n",
    "df_fact_ci['id_curso'] = df_fact_ci['id_curso'].astype(str)\n",
    "df_fact_ci['id_fecha'] = df_fact_ci['id_fecha'].astype(str)"
   ]
  },
  {
   "cell_type": "code",
   "execution_count": null,
   "id": "740b029c-d2a0-42a5-b537-98d9c443ff48",
   "metadata": {},
   "outputs": [],
   "source": [
    "mycursor.execute(\"DROP TABLE IF EXISTS fact_ci\")\n",
    "mycursor.execute('''CREATE TABLE fact_ci (\n",
    "id_razon_social VARCHAR(4) NOT NULL,\n",
    "id_curso VARCHAR(4) NOT NULL,\n",
    "id_fecha VARCHAR(4) NOT NULL,\n",
    "num_cap INT NOT NULL,\n",
    "total_cursos INT NOT NULL,\n",
    "volumen_capacitados INT NOT NULL,\n",
    "total_horas INT NOT NULL,\n",
    "total_ganancias FLOAT NOT NULL\n",
    ")''')\n",
    "sql_formula = 'INSERT INTO fact_ci(id_razon_social, id_curso, id_fecha, num_cap, total_cursos, volumen_capacitados, total_horas, total_ganancias) VALUES (%s,%s,%s,%s,%s,%s,%s,%s)'\n",
    "for row in tqdm(df_fact_ci.values):\n",
    "    mycursor.execute(sql_formula,tuple(row))\n",
    "    mydb.commit()"
   ]
  },
  {
   "cell_type": "markdown",
   "id": "8555f968-9a39-4651-9e7b-84876ea0b332",
   "metadata": {},
   "source": [
    "## CREAR CLAVES FORANEAS CI"
   ]
  },
  {
   "cell_type": "code",
   "execution_count": null,
   "id": "574d468b-728c-4ffd-8f42-357e3c032031",
   "metadata": {},
   "outputs": [],
   "source": [
    "mycursor.execute(''' \n",
    "ALTER TABLE fact_ci\n",
    "ADD FOREIGN KEY (id_fecha) REFERENCES dim_fecha_ci(id_fecha)\n",
    "''')\n",
    "mycursor.execute(''' \n",
    "ALTER TABLE fact_ci\n",
    "ADD FOREIGN KEY (id_razon_social) REFERENCES dim_razon_social(id_razon_social)\n",
    "''')\n",
    "mycursor.execute(''' \n",
    "ALTER TABLE fact_ci\n",
    "ADD FOREIGN KEY (id_curso) REFERENCES dim_curso_ci(id_curso)\n",
    "''')"
   ]
  }
 ],
 "metadata": {
  "kernelspec": {
   "display_name": "Python 3 (ipykernel)",
   "language": "python",
   "name": "python3"
  },
  "language_info": {
   "codemirror_mode": {
    "name": "ipython",
    "version": 3
   },
   "file_extension": ".py",
   "mimetype": "text/x-python",
   "name": "python",
   "nbconvert_exporter": "python",
   "pygments_lexer": "ipython3",
   "version": "3.9.12"
  }
 },
 "nbformat": 4,
 "nbformat_minor": 5
}
