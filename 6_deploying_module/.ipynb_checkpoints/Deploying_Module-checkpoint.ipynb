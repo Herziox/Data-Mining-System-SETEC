{
 "cells": [
  {
   "cell_type": "code",
   "execution_count": 1,
   "id": "d614e2bc-ab2d-4500-9352-60f079aa1d8e",
   "metadata": {},
   "outputs": [],
   "source": [
    "import numpy as np\n",
    "import pandas as pd\n",
    "import os"
   ]
  },
  {
   "cell_type": "code",
   "execution_count": 5,
   "id": "5d5d570b-a38d-4db4-b135-391765e6d083",
   "metadata": {},
   "outputs": [],
   "source": [
    "path = os.path.join(os.getcwd(),'..','4_modeling_module','MODELS')"
   ]
  },
  {
   "cell_type": "code",
   "execution_count": 7,
   "id": "397e4168-380e-4490-85e1-bcf76a5ccec0",
   "metadata": {},
   "outputs": [],
   "source": [
    "filelist = os.listdir(path)"
   ]
  },
  {
   "cell_type": "code",
   "execution_count": null,
   "id": "c2c94dd4-6572-44b7-844d-7c6faa4f15fe",
   "metadata": {},
   "outputs": [],
   "source": [
    "for file in filelist:\n",
    "    if '.cav' in file:\n",
    "        if '_oc_' in file"
   ]
  }
 ],
 "metadata": {
  "kernelspec": {
   "display_name": "Python 3 (ipykernel)",
   "language": "python",
   "name": "python3"
  },
  "language_info": {
   "codemirror_mode": {
    "name": "ipython",
    "version": 3
   },
   "file_extension": ".py",
   "mimetype": "text/x-python",
   "name": "python",
   "nbconvert_exporter": "python",
   "pygments_lexer": "ipython3",
   "version": "3.9.12"
  }
 },
 "nbformat": 4,
 "nbformat_minor": 5
}
