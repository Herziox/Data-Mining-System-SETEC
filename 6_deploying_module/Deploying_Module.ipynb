{
 "cells": [
  {
   "cell_type": "code",
   "execution_count": 14,
   "id": "d614e2bc-ab2d-4500-9352-60f079aa1d8e",
   "metadata": {},
   "outputs": [],
   "source": [
    "import pandas as pd\n",
    "import sys\n",
    "import numpy as np\n",
    "import os\n",
    "import mysql.connector\n",
    "from tqdm import tqdm\n",
    "import re"
   ]
  },
  {
   "cell_type": "code",
   "execution_count": 78,
   "id": "5d5d570b-a38d-4db4-b135-391765e6d083",
   "metadata": {},
   "outputs": [],
   "source": [
    "path_model = os.path.join(os.getcwd(),'DATABASE_DP')\n",
    "path_dwh = os.path.join(os.getcwd(),'..','3_data_preprocesing_module','DATAWAREHOUSE')\n",
    "path_dwh_pd = os.path.join(os.getcwd(),'DATAWAREHOUSE_DP')"
   ]
  },
  {
   "cell_type": "code",
   "execution_count": 3,
   "id": "397e4168-380e-4490-85e1-bcf76a5ccec0",
   "metadata": {},
   "outputs": [
    {
     "data": {
      "text/plain": [
       "['.ipynb_checkpoints',\n",
       " 'ci_cp_num_cap.csv',\n",
       " 'ci_cp_total_ganancias.csv',\n",
       " 'ci_cp_total_horas.csv',\n",
       " 'ci_rs_total_cursos.csv',\n",
       " 'ci_rs_volumen_cap.csv',\n",
       " 'ci_rs_volumen_ganancias.csv',\n",
       " 'ci_rs_volumen_horas.csv',\n",
       " 'oc_cp_num_cap_cer.csv',\n",
       " 'oc_cp_porcentaje_asistencia.csv',\n",
       " 'oc_cp_total_ganancias.csv',\n",
       " 'oc_cp_total_horas.csv',\n",
       " 'oc_rs_total_cursos.csv',\n",
       " 'oc_rs_volumen_cap_cer.csv',\n",
       " 'oc_rs_volumen_ganancias.csv',\n",
       " 'oc_rs_volumen_horas.csv',\n",
       " 'oc_rs_volumen_porcentaje_asistencia.csv',\n",
       " 'oec_cp_num_cer.csv',\n",
       " 'oec_cp_porcentaje_asistencia.csv',\n",
       " 'oec_cp_total_ganancias.csv',\n",
       " 'oec_cp_total_horas.csv',\n",
       " 'oec_rs_total_perfiles.csv',\n",
       " 'oec_rs_volumen_cer.csv',\n",
       " 'oec_rs_volumen_ganancias.csv',\n",
       " 'oec_rs_volumen_horas.csv',\n",
       " 'oec_rs_volumen_porcentaje_asistencia.csv']"
      ]
     },
     "execution_count": 3,
     "metadata": {},
     "output_type": "execute_result"
    }
   ],
   "source": [
    "filelist = os.listdir(path_model)"
   ]
  },
  {
   "cell_type": "code",
   "execution_count": 30,
   "id": "c2c94dd4-6572-44b7-844d-7c6faa4f15fe",
   "metadata": {},
   "outputs": [
    {
     "name": "stdout",
     "output_type": "stream",
     "text": [
      "(1107, 26) (1107, 25)\n",
      "(1107, 27) (1107, 25)\n",
      "(627, 19) (627, 18)\n",
      "(627, 20) (627, 18)\n",
      "(627, 21) (627, 18)\n",
      "(1932, 27) (1932, 26)\n",
      "(1932, 28) (1932, 26)\n",
      "(1932, 29) (1932, 26)\n",
      "(283, 20) (283, 20)\n",
      "(283, 21) (283, 20)\n",
      "(283, 22) (283, 20)\n",
      "(283, 23) (283, 20)\n",
      "(18211, 27) (18211, 26)\n",
      "(18211, 28) (18211, 26)\n",
      "(18211, 29) (18211, 26)\n",
      "(12730, 20) (12730, 19)\n",
      "(12730, 21) (12730, 19)\n",
      "(12730, 22) (12730, 19)\n",
      "(12730, 23) (12730, 19)\n"
     ]
    }
   ],
   "source": [
    "df = []\n",
    "fact_oc_cp = None\n",
    "fact_oec_cp = None\n",
    "fact_ci_cp = None\n",
    "fact_oc_rs = None\n",
    "fact_oec_rs = None\n",
    "fact_ci_rs = None\n",
    "for file in filelist:\n",
    "    if '.csv' in file:\n",
    "            \n",
    "        df = pd.read_csv(os.path.join(path_model,file))\n",
    "        idx_pred = [ i for i, word in enumerate(df.columns) if word.startswith('prediction') ]\n",
    "        pred_col = df.columns[idx_pred][0]\n",
    "        if 'oc_cp_' in file:\n",
    "            if fact_oc_cp is None:\n",
    "                fact_oc_cp = df\n",
    "            else: \n",
    "                fact_oc_cp = fact_oc_cp.merge(df[['id_fact_oc_cp',pred_col]],on='id_fact_oc_cp',how='inner')\n",
    "\n",
    "        elif 'oec_cp_' in file:\n",
    "            if fact_oec_cp is None:\n",
    "                fact_oec_cp = df\n",
    "            else:\n",
    "                fact_oec_cp = fact_oec_cp.merge(df[['id_fact_oec_cp',pred_col]],on='id_fact_oec_cp',how='inner')\n",
    "\n",
    "        elif 'ci_cp_' in file:\n",
    "            if fact_ci_cp is None:\n",
    "                fact_ci_cp = df\n",
    "            else:\n",
    "                fact_ci_cp = fact_ci_cp.merge(df[['id_fact_ci_cp',pred_col]],on='id_fact_ci_cp',how='inner')\n",
    "\n",
    "        elif 'oc_rs_' in file:\n",
    "            if fact_oc_rs is None:\n",
    "                fact_oc_rs = df\n",
    "            else:\n",
    "                fact_oc_rs = fact_oc_rs.merge(df[['id_fact_oc_rs',pred_col]],on='id_fact_oc_rs',how='inner')\n",
    "\n",
    "        elif 'oec_rs_' in file:\n",
    "            if fact_oec_rs is None:\n",
    "                fact_oec_rs = df\n",
    "            else:\n",
    "                fact_oec_rs = fact_oec_rs.merge(df[['id_fact_oec_rs',pred_col]],on='id_fact_oec_rs',how='inner')\n",
    "\n",
    "        elif 'ci_rs_' in file:\n",
    "            if fact_ci_rs is None:\n",
    "                fact_ci_rs = df\n",
    "            else:\n",
    "                fact_ci_rs = fact_ci_rs.merge(df[['id_fact_ci_rs',pred_col]],on='id_fact_ci_rs',how='inner')\n"
   ]
  },
  {
   "cell_type": "code",
   "execution_count": 50,
   "id": "180965c2-60cb-461a-96af-415c39e1699e",
   "metadata": {},
   "outputs": [],
   "source": [
    "fact_oc_cp_final = fact_oc_cp[['id_fact_oc_cp','id_razon_social','id_curso_perfil','id_fecha','num_cap_cer','prediction(num_cap_cer)','total_horas','prediction(total_horas)', 'total_ganancias', 'prediction(total_ganancias)', 'porcentaje_asistencia','prediction(porcentaje_asistencia)']]\n",
    "fact_oc_rs_final = fact_oc_rs[['id_fact_oc_rs','id_razon_social','id_fecha','volumen_cap_cer','prediction(volumen_cap_cer)','volumen_horas','prediction(volumen_horas)', 'volumen_ganancias', 'prediction(volumen_ganancias)', 'volumen_porcentaje_asistencia','prediction(volumen_porcentaje_asistencia)']]\n",
    "fact_oec_cp_final = fact_oec_cp[['id_fact_oec_cp','id_razon_social','id_curso_perfil','id_fecha','num_cer','prediction(num_cer)','total_horas','prediction(total_horas)', 'total_ganancias', 'prediction(total_ganancias)', 'porcentaje_asistencia','prediction(porcentaje_asistencia)']]\n",
    "fact_oec_rs_final = fact_oec_rs[['id_fact_oec_rs','id_razon_social','id_fecha','volumen_cer','prediction(volumen_cer)','volumen_horas','prediction(volumen_horas)', 'volumen_ganancias', 'prediction(volumen_ganancias)', 'volumen_porcentaje_asistencia','prediction(volumen_porcentaje_asistencia)']]\n",
    "fact_ci_cp_final = fact_ci_cp[['id_fact_ci_cp','id_razon_social','id_curso_perfil','id_fecha','num_cap','prediction(num_cap)','total_horas','prediction(total_horas)', 'total_ganancias', 'prediction(total_ganancias)']]\n",
    "fact_ci_rs_final = fact_ci_rs[['id_fact_ci_rs','id_razon_social','id_fecha','volumen_cap','prediction(volumen_cap)','volumen_horas','prediction(volumen_horas)', 'volumen_ganancias', 'prediction(volumen_ganancias)']]"
   ]
  },
  {
   "cell_type": "code",
   "execution_count": 75,
   "id": "fe718758-4aaf-433b-a90c-813b43bd8638",
   "metadata": {},
   "outputs": [],
   "source": [
    "arr_df_finals = [fact_oc_cp_final,fact_oc_rs_final, fact_oec_cp_final,fact_oec_rs_final,fact_ci_cp_final,fact_ci_rs_final]\n",
    "arr_df_finals_refact = []"
   ]
  },
  {
   "cell_type": "code",
   "execution_count": 76,
   "id": "42a5a3f3-0f3b-4aa6-922e-089487a99f28",
   "metadata": {},
   "outputs": [],
   "source": [
    "for df_final in arr_df_finals:\n",
    "    df_final_aux = df_final.copy()\n",
    "    idxs_pred = [ i for i, word in enumerate(df_final_aux.columns) if word.startswith('prediction')]\n",
    "    for i in idxs_pred:\n",
    "        old_col = df_final_aux.columns[i]\n",
    "        new_col = old_col.replace('(','_').replace(')','')\n",
    "        df_final_aux = df_final_aux.rename(columns={old_col:new_col})\n",
    "    arr_df_finals_refact.append(df_final_aux)\n",
    "    \n",
    "    "
   ]
  },
  {
   "cell_type": "code",
   "execution_count": 79,
   "id": "d1972cee-060a-476a-a910-181d88e13034",
   "metadata": {},
   "outputs": [],
   "source": [
    "for i in range(len(arr_df_finals_refact)):\n",
    "    df_dpt = arr_df_finals_refact[i]\n",
    "    doc_name = doc_names[i]\n",
    "    df_dpt.to_csv(os.path.join(path_dwh_pd,doc_name+'_dpt.csv'),index=False)"
   ]
  },
  {
   "cell_type": "markdown",
   "id": "768979a4-b43a-4ef4-a546-9e8ed5627ed8",
   "metadata": {},
   "source": [
    "# Cargar Datos"
   ]
  },
  {
   "cell_type": "code",
   "execution_count": 136,
   "id": "7b8d694e-eeda-4c39-952f-f2cd2902ec87",
   "metadata": {},
   "outputs": [],
   "source": [
    "arr_tablas = []\n",
    "file_list_dp = os.listdir(path_dwh_pd)\n",
    "for file in file_list_dp:\n",
    "    arr_tablas.append(pd.read_csv(os.path.join(path_dwh_pd,file)))"
   ]
  },
  {
   "cell_type": "code",
   "execution_count": 137,
   "id": "7046202e-d25a-4c58-94ac-c8df788b1719",
   "metadata": {},
   "outputs": [
    {
     "data": {
      "text/plain": [
       "['dim_curso_perfil.csv',\n",
       " 'dim_fecha.csv',\n",
       " 'dim_razon_social.csv',\n",
       " 'fact_ci_cp_dpt.csv',\n",
       " 'fact_ci_rs_dpt.csv',\n",
       " 'fact_oc_cp_dpt.csv',\n",
       " 'fact_oc_rs_dpt.csv',\n",
       " 'fact_oec_cp_dpt.csv',\n",
       " 'fact_oec_rs_dpt.csv']"
      ]
     },
     "execution_count": 137,
     "metadata": {},
     "output_type": "execute_result"
    }
   ],
   "source": [
    "file_list_dp"
   ]
  },
  {
   "cell_type": "code",
   "execution_count": 138,
   "id": "e44a1e53-81be-4303-911b-de58f080ce15",
   "metadata": {},
   "outputs": [],
   "source": [
    "df_ert = arr_tablas[0]"
   ]
  },
  {
   "cell_type": "code",
   "execution_count": 139,
   "id": "8f1f0364-9a83-4d82-8ff3-3d188e557cd7",
   "metadata": {},
   "outputs": [],
   "source": [
    "df_ert['area_familia']=df_ert['area_familia'].fillna('sin_area_familia')\n",
    "df_ert['especialidad_sector']=df_ert['especialidad_sector'].fillna('sin_especialidad_sector')\n",
    "df_ert['curso_perfil']=df_ert['curso_perfil'].fillna('curso_perfil')"
   ]
  },
  {
   "cell_type": "code",
   "execution_count": 140,
   "id": "a29953ba-d78e-493c-b23e-6044d93c0e6d",
   "metadata": {},
   "outputs": [
    {
     "data": {
      "text/plain": [
       "Index(['id_curso_perfil', 'tipo', 'area_familia', 'especialidad_sector',\n",
       "       'curso_perfil', 'modalidad', 'carga_horaria', 'costo'],\n",
       "      dtype='object')"
      ]
     },
     "execution_count": 140,
     "metadata": {},
     "output_type": "execute_result"
    }
   ],
   "source": [
    "df_ert.columns"
   ]
  },
  {
   "cell_type": "code",
   "execution_count": 141,
   "id": "8152ad31-7698-4628-ad3a-ba5f68fafc9d",
   "metadata": {},
   "outputs": [
    {
     "data": {
      "text/plain": [
       "11149"
      ]
     },
     "execution_count": 141,
     "metadata": {},
     "output_type": "execute_result"
    }
   ],
   "source": [
    "len(df_ert.values)"
   ]
  },
  {
   "cell_type": "code",
   "execution_count": 152,
   "id": "5ed784a3-ead0-4d7b-873c-63206e02a3c5",
   "metadata": {},
   "outputs": [
    {
     "name": "stdout",
     "output_type": "stream",
     "text": [
      "<class 'pandas.core.frame.DataFrame'>\n",
      "RangeIndex: 2257 entries, 0 to 2256\n",
      "Data columns (total 7 columns):\n",
      " #   Column             Non-Null Count  Dtype \n",
      "---  ------             --------------  ----- \n",
      " 0   id_razon_social    2257 non-null   int64 \n",
      " 1   razon_social       2257 non-null   object\n",
      " 2   estado             2257 non-null   object\n",
      " 3   tipo_razon_social  2257 non-null   object\n",
      " 4   fecha_resolucion   2257 non-null   object\n",
      " 5   canton             2257 non-null   object\n",
      " 6   provincia          2257 non-null   object\n",
      "dtypes: int64(1), object(6)\n",
      "memory usage: 123.6+ KB\n"
     ]
    }
   ],
   "source": [
    "arr_tablas[2].info()"
   ]
  },
  {
   "cell_type": "markdown",
   "id": "1f9a4f6b-4dc8-41c2-94f8-b15295b5ddf2",
   "metadata": {},
   "source": [
    "# Conexión con MySQL"
   ]
  },
  {
   "cell_type": "code",
   "execution_count": 142,
   "id": "1f10f409-9201-40ca-86dd-ea92e4c603bb",
   "metadata": {},
   "outputs": [],
   "source": [
    "mydb = mysql.connector.connect(\n",
    "    host='localhost',\n",
    "    user='root',\n",
    "    passwd='KappaTao1233'\n",
    ")\n",
    "\n",
    "mycursor = mydb.cursor()"
   ]
  },
  {
   "cell_type": "markdown",
   "id": "74d178de-e436-4403-ba6a-5db0ac022ef8",
   "metadata": {},
   "source": [
    "# Creación de la base de datos¶"
   ]
  },
  {
   "cell_type": "code",
   "execution_count": 143,
   "id": "d3283e63-b880-40e2-9da9-2bcf23f1952b",
   "metadata": {
    "tags": []
   },
   "outputs": [],
   "source": [
    "mycursor.execute(\"DROP DATABASE IF EXISTS dwh_setec\")\n",
    "mycursor.execute(\"CREATE DATABASE dwh_setec\")\n",
    "mycursor.execute(\"USE dwh_setec\")"
   ]
  },
  {
   "cell_type": "markdown",
   "id": "21936c43-a4e0-4cac-bfca-1c9c6ad63186",
   "metadata": {},
   "source": [
    "## DIMENSIÓN CURSO PERFIL"
   ]
  },
  {
   "cell_type": "code",
   "execution_count": 144,
   "id": "7550fe47-6846-48eb-bbe5-24afaa35e41a",
   "metadata": {},
   "outputs": [
    {
     "name": "stderr",
     "output_type": "stream",
     "text": [
      "100%|████████████████████████████████████████████████████████████████████████████| 11149/11149 [18:49<00:00,  9.87it/s]\n"
     ]
    }
   ],
   "source": [
    "mycursor.execute(\"DROP TABLE IF EXISTS dim_curso_perfil\")\n",
    "mycursor.execute('''CREATE TABLE dim_curso_perfil (\n",
    "id_curso_perfil INT PRIMARY KEY,\n",
    "tipo VARCHAR(63) NOT NULL,\n",
    "area_familia VARCHAR(255) NOT NULL,\n",
    "especialidad_sector VARCHAR(255) NOT NULL,\n",
    "curso_perfil VARCHAR(255) NOT NULL,\n",
    "modalidad VARCHAR(255) NOT NULL,\n",
    "carga_horaria INT NOT NULL,\n",
    "costo FLOAT NOT NULL\n",
    ")''')\n",
    "sql_formula = 'INSERT INTO dim_curso_perfil ( id_curso_perfil, tipo, area_familia, especialidad_sector, curso_perfil, modalidad, carga_horaria, costo) VALUES (%s,%s,%s,%s,%s,%s,%s,%s)'\n",
    "for row in tqdm(df_ert.values):\n",
    "    mycursor.execute(sql_formula,tuple(row))\n",
    "    mydb.commit()"
   ]
  },
  {
   "cell_type": "markdown",
   "id": "ad668edf-7616-4442-884e-a168d7fbb0c4",
   "metadata": {},
   "source": [
    "## DIMENSION FECHA"
   ]
  },
  {
   "cell_type": "code",
   "execution_count": 150,
   "id": "cf159c3a-0199-4865-885b-fe3ae438eeb2",
   "metadata": {},
   "outputs": [
    {
     "name": "stderr",
     "output_type": "stream",
     "text": [
      "100%|██████████████████████████████████████████████████████████████████████████████| 2142/2142 [01:02<00:00, 34.26it/s]\n"
     ]
    }
   ],
   "source": [
    "mycursor.execute(\"DROP TABLE IF EXISTS dim_fecha\")\n",
    "mycursor.execute('''CREATE TABLE dim_fecha (\n",
    "id_fecha INT PRIMARY KEY,\n",
    "fecha VARCHAR(63) NOT NULL,\n",
    "dia INT NOT NULL,\n",
    "mes INT NOT NULL,\n",
    "anio INT NOT NULL\n",
    ")''')\n",
    "sql_formula = 'INSERT INTO dim_fecha (id_fecha,fecha, dia, mes, anio) VALUES (%s,%s,%s,%s,%s)'\n",
    "for row in tqdm(arr_tablas[1].values):\n",
    "    mycursor.execute(sql_formula,tuple(row))\n",
    "    mydb.commit()"
   ]
  },
  {
   "cell_type": "markdown",
   "id": "13b9c2a5-5fc9-4df0-952d-1d5050280466",
   "metadata": {},
   "source": [
    "## DIMENSIÓN RAZÓN SOCIAL"
   ]
  },
  {
   "cell_type": "code",
   "execution_count": 153,
   "id": "4f34f5bb-02a9-471a-bf23-3df94c4534bc",
   "metadata": {},
   "outputs": [
    {
     "name": "stderr",
     "output_type": "stream",
     "text": [
      "100%|██████████████████████████████████████████████████████████████████████████████| 2257/2257 [01:26<00:00, 26.22it/s]\n"
     ]
    }
   ],
   "source": [
    "mycursor.execute(\"DROP TABLE IF EXISTS dim_razon_social\")\n",
    "mycursor.execute('''CREATE TABLE dim_razon_social (\n",
    "id_razon_social INT PRIMARY KEY,\n",
    "razon_social VARCHAR(255) NOT NULL,\n",
    "tipo_razon_social VARCHAR(255) NOT NULL,\n",
    "estado VARCHAR(63) NOT NULL,\n",
    "fecha_resolucion VARCHAR(63) NOT NULL,\n",
    "canton VARCHAR(63) NOT NULL,\n",
    "provincia VARCHAR(63) NOT NULL\n",
    ")''')\n",
    "sql_formula = 'INSERT INTO dim_razon_social ( id_razon_social, razon_social, tipo_razon_social, estado, fecha_resolucion, canton, provincia) VALUES (%s,%s,%s,%s,%s,%s,%s)'\n",
    "for row in tqdm(arr_tablas[2].values):\n",
    "    mycursor.execute(sql_formula,tuple(row))\n",
    "    mydb.commit()"
   ]
  },
  {
   "cell_type": "markdown",
   "id": "ecc3822e-2339-4dd6-95d4-3edbb03cf8be",
   "metadata": {},
   "source": [
    "# DATAMART CI"
   ]
  },
  {
   "cell_type": "markdown",
   "id": "bc6875bb-d085-44eb-ac3c-b9cb14dc5c68",
   "metadata": {},
   "source": [
    "### CI CP"
   ]
  },
  {
   "cell_type": "code",
   "execution_count": 170,
   "id": "90f1a2a2-972f-42fe-b43c-2ba1606fad37",
   "metadata": {},
   "outputs": [
    {
     "name": "stderr",
     "output_type": "stream",
     "text": [
      "100%|██████████████████████████████████████████████████████████████████████████████| 1107/1107 [00:31<00:00, 34.99it/s]\n"
     ]
    }
   ],
   "source": [
    "mycursor.execute(\"DROP TABLE IF EXISTS fact_ci_cp\")\n",
    "mycursor.execute('''CREATE TABLE fact_ci_cp (\n",
    "id_fact_ci_cp INT PRIMARY KEY,\n",
    "id_razon_social INT NOT NULL,\n",
    "id_curso_perfil INT NOT NULL,\n",
    "id_fecha INT NOT NULL,\n",
    "num_cap INT NOT NULL,\n",
    "prediction_num_cap INT NOT NULL,\n",
    "total_horas INT NOT NULL,\n",
    "prediction_total_horas INT NOT NULL,\n",
    "total_ganancias FLOAT NOT NULL,\n",
    "prediction_total_ganancias FLOAT NOT NULL\n",
    ")''')\n",
    "sql_formula = '''INSERT INTO fact_ci_cp (id_fact_ci_cp,id_razon_social,id_curso_perfil,id_fecha,num_cap,prediction_num_cap,total_horas,prediction_total_horas,total_ganancias,prediction_total_ganancias) \n",
    "VALUES (%s,%s,%s,%s,%s,%s,%s,%s,%s,%s)'''\n",
    "for row in tqdm(arr_tablas[3].values):\n",
    "    mycursor.execute(sql_formula,tuple(row))\n",
    "    mydb.commit()"
   ]
  },
  {
   "cell_type": "markdown",
   "id": "8b38077a-c25b-4c16-bc95-4b973da16efc",
   "metadata": {},
   "source": [
    "### CI RS"
   ]
  },
  {
   "cell_type": "code",
   "execution_count": 171,
   "id": "1f3f86c0-b6f8-4be6-a986-cf3f716d569c",
   "metadata": {},
   "outputs": [
    {
     "name": "stderr",
     "output_type": "stream",
     "text": [
      "100%|████████████████████████████████████████████████████████████████████████████████| 627/627 [00:29<00:00, 21.58it/s]\n"
     ]
    }
   ],
   "source": [
    "mycursor.execute(\"DROP TABLE IF EXISTS fact_ci_rs\")\n",
    "mycursor.execute('''CREATE TABLE fact_ci_rs (\n",
    "id_fact_ci_rs INT PRIMARY KEY,\n",
    "id_razon_social INT NOT NULL,\n",
    "id_fecha INT NOT NULL,\n",
    "volumen_cap INT NOT NULL,\n",
    "prediction_volumen_cap INT NOT NULL,\n",
    "volumen_horas INT NOT NULL,\n",
    "prediction_volumen_horas INT NOT NULL,\n",
    "volumen_ganancias FLOAT NOT NULL,\n",
    "prediction_volumen_ganancias FLOAT NOT NULL\n",
    ")''')\n",
    "sql_formula = '''INSERT INTO fact_ci_rs (id_fact_ci_rs,\n",
    "id_razon_social,\n",
    "id_fecha,\n",
    "volumen_cap,\n",
    "prediction_volumen_cap,\n",
    "volumen_horas,\n",
    "prediction_volumen_horas,\n",
    "volumen_ganancias,\n",
    "prediction_volumen_ganancias)\n",
    "VALUES (%s,%s,%s,%s,%s,%s,%s,%s,%s)'''\n",
    "for row in tqdm(arr_tablas[4].values):\n",
    "    mycursor.execute(sql_formula,tuple(row))\n",
    "    mydb.commit()"
   ]
  },
  {
   "cell_type": "markdown",
   "id": "654c8538-0e6b-45c5-8cc6-69f96df8ddd9",
   "metadata": {},
   "source": [
    "## OC"
   ]
  },
  {
   "cell_type": "markdown",
   "id": "7e04f1c2-6fbd-41b1-b0cb-f766565661ac",
   "metadata": {},
   "source": [
    "### OC CP"
   ]
  },
  {
   "cell_type": "code",
   "execution_count": 172,
   "id": "1615cad5-25ef-4324-b238-9bc0c0c4579a",
   "metadata": {},
   "outputs": [
    {
     "name": "stderr",
     "output_type": "stream",
     "text": [
      "100%|██████████████████████████████████████████████████████████████████████████████| 1932/1932 [00:58<00:00, 33.02it/s]\n"
     ]
    }
   ],
   "source": [
    "mycursor.execute(\"DROP TABLE IF EXISTS fact_oc_cp\")\n",
    "mycursor.execute('''CREATE TABLE fact_oc_cp (\n",
    "id_fact_oc_cp INT PRIMARY KEY,\n",
    "id_razon_social INT NOT NULL,\n",
    "id_curso_perfil INT NOT NULL,\n",
    "id_fecha INT NOT NULL,\n",
    "num_cap_cer INT NOT NULL,\n",
    "prediction_num_cap_cer INT NOT NULL,\n",
    "total_horas INT NOT NULL,\n",
    "prediction_total_horas INT NOT NULL,\n",
    "total_ganancias FLOAT NOT NULL,\n",
    "prediction_total_ganancias FLOAT NOT NULL,\n",
    "porcentaje_asistencia FLOAT NOT NULL,\n",
    "prediction_porcentaje_asistencia FLOAT NOT NULL\n",
    ")''')\n",
    "sql_formula = '''INSERT INTO fact_oc_cp (id_fact_oc_cp,\n",
    "id_razon_social,\n",
    "id_curso_perfil,\n",
    "id_fecha,\n",
    "num_cap_cer,\n",
    "prediction_num_cap_cer,\n",
    "total_horas,\n",
    "prediction_total_horas,\n",
    "total_ganancias,\n",
    "prediction_total_ganancias,\n",
    "porcentaje_asistencia,\n",
    "prediction_porcentaje_asistencia)\n",
    "VALUES (%s,%s,%s,%s,%s,%s,%s,%s,%s,%s,%s,%s)'''\n",
    "for row in tqdm(arr_tablas[5].values):\n",
    "    mycursor.execute(sql_formula,tuple(row))\n",
    "    mydb.commit()"
   ]
  },
  {
   "cell_type": "markdown",
   "id": "52be2150-8f17-4b80-a864-329febe9c64a",
   "metadata": {},
   "source": [
    "## OC RS"
   ]
  },
  {
   "cell_type": "code",
   "execution_count": 177,
   "id": "e3517044-29af-4896-a7df-a0b66432a982",
   "metadata": {},
   "outputs": [
    {
     "name": "stderr",
     "output_type": "stream",
     "text": [
      "100%|████████████████████████████████████████████████████████████████████████████████| 283/283 [00:10<00:00, 26.07it/s]\n"
     ]
    }
   ],
   "source": [
    "mycursor.execute(\"DROP TABLE IF EXISTS fact_oc_rs\")\n",
    "mycursor.execute('''CREATE TABLE fact_oc_rs (\n",
    "id_fact_oc_rs INT PRIMARY KEY,\n",
    "id_razon_social INT NOT NULL,\n",
    "id_fecha INT NOT NULL,\n",
    "volumen_cap_cer INT NOT NULL,\n",
    "prediction_volumen_cap_cer INT NOT NULL,\n",
    "volumen_horas INT NOT NULL,\n",
    "prediction_volumen_horas INT NOT NULL,\n",
    "volumen_ganancias FLOAT NOT NULL,\n",
    "prediction_volumen_ganancias FLOAT NOT NULL,\n",
    "volumen_porcentaje_asistencia FLOAT NOT NULL,\n",
    "prediction_volumen_porcentaje_asistencia FLOAT NOT NULL\n",
    ")''')\n",
    "sql_formula = '''INSERT INTO fact_oc_rs (id_fact_oc_rs,\n",
    "id_razon_social,\n",
    "id_fecha,\n",
    "volumen_cap_cer,\n",
    "prediction_volumen_cap_cer,\n",
    "volumen_horas,\n",
    "prediction_volumen_horas,\n",
    "volumen_ganancias,\n",
    "prediction_volumen_ganancias,\n",
    "volumen_porcentaje_asistencia,\n",
    "prediction_volumen_porcentaje_asistencia)\n",
    "VALUES (%s,%s,%s,%s,%s,%s,%s,%s,%s,%s,%s)'''\n",
    "for row in tqdm(arr_tablas[6].values):\n",
    "    mycursor.execute(sql_formula,tuple(row))\n",
    "    mydb.commit()"
   ]
  },
  {
   "cell_type": "markdown",
   "id": "8943fe7d-27d5-4b74-a994-8e2cc89ba830",
   "metadata": {},
   "source": [
    "## OEC"
   ]
  },
  {
   "cell_type": "markdown",
   "id": "cfdc9231-7046-4249-80d6-f8cead7c49df",
   "metadata": {},
   "source": [
    "### OEC CP"
   ]
  },
  {
   "cell_type": "code",
   "execution_count": 179,
   "id": "d4b88a61-b498-4f6f-9df6-183f216884ba",
   "metadata": {},
   "outputs": [
    {
     "name": "stderr",
     "output_type": "stream",
     "text": [
      "100%|████████████████████████████████████████████████████████████████████████████| 18211/18211 [18:48<00:00, 16.13it/s]\n"
     ]
    }
   ],
   "source": [
    "mycursor.execute(\"DROP TABLE IF EXISTS fact_oec_cp\")\n",
    "mycursor.execute('''CREATE TABLE fact_oec_cp (\n",
    "id_fact_oec_cp INT PRIMARY KEY,\n",
    "id_razon_social INT NOT NULL,\n",
    "id_curso_perfil INT NOT NULL,\n",
    "id_fecha INT NOT NULL,\n",
    "num_cer INT NOT NULL,\n",
    "prediction_num_cer INT NOT NULL,\n",
    "total_horas INT NOT NULL,\n",
    "prediction_total_horas INT NOT NULL,\n",
    "total_ganancias FLOAT NOT NULL,\n",
    "prediction_total_ganancias FLOAT NOT NULL,\n",
    "porcentaje_asistencia FLOAT NOT NULL,\n",
    "prediction_porcentaje_asistencia FLOAT NOT NULL\n",
    ")''')\n",
    "sql_formula = '''INSERT INTO fact_oec_cp (id_fact_oec_cp,\n",
    "id_razon_social,\n",
    "id_curso_perfil,\n",
    "id_fecha,\n",
    "num_cer,\n",
    "prediction_num_cer,\n",
    "total_horas,\n",
    "prediction_total_horas,\n",
    "total_ganancias,\n",
    "prediction_total_ganancias,\n",
    "porcentaje_asistencia,\n",
    "prediction_porcentaje_asistencia)\n",
    "VALUES (%s,%s,%s,%s,%s,%s,%s,%s,%s,%s,%s,%s)'''\n",
    "for row in tqdm(arr_tablas[7].values):\n",
    "    mycursor.execute(sql_formula,tuple(row))\n",
    "    mydb.commit()"
   ]
  },
  {
   "cell_type": "markdown",
   "id": "a2ef3c2a-e0c2-48f0-8143-47224aa49ba0",
   "metadata": {},
   "source": [
    "### OEC RS"
   ]
  },
  {
   "cell_type": "code",
   "execution_count": 185,
   "id": "706cbfa7-b2bf-4648-8737-63ef91614020",
   "metadata": {},
   "outputs": [
    {
     "name": "stdout",
     "output_type": "stream",
     "text": [
      "id_fact_oec_rs\n",
      "id_razon_social\n",
      "id_fecha\n",
      "volumen_cer\n",
      "prediction_volumen_cer\n",
      "volumen_horas\n",
      "prediction_volumen_horas\n",
      "volumen_ganancias\n",
      "prediction_volumen_ganancias\n",
      "volumen_porcentaje_asistencia\n",
      "prediction_volumen_porcentaje_asistencia\n"
     ]
    }
   ],
   "source": [
    "for val in arr_tablas[8].columns:\n",
    "    print(val)"
   ]
  },
  {
   "cell_type": "code",
   "execution_count": 187,
   "id": "f9c576af-1d96-4846-b1f4-6c0ce7a33de1",
   "metadata": {},
   "outputs": [
    {
     "name": "stderr",
     "output_type": "stream",
     "text": [
      "100%|████████████████████████████████████████████████████████████████████████████| 12730/12730 [08:45<00:00, 24.25it/s]\n"
     ]
    }
   ],
   "source": [
    "mycursor.execute(\"DROP TABLE IF EXISTS fact_oec_rs\")\n",
    "mycursor.execute('''CREATE TABLE fact_oec_rs (\n",
    "id_fact_oec_rs INT PRIMARY KEY,\n",
    "id_razon_social INT NOT NULL,\n",
    "id_fecha INT NOT NULL,\n",
    "volumen_cer INT NOT NULL,\n",
    "prediction_volumen_cer INT NOT NULL,\n",
    "volumen_horas INT NOT NULL,\n",
    "prediction_volumen_horas INT NOT NULL,\n",
    "volumen_ganancias FLOAT NOT NULL,\n",
    "prediction_volumen_ganancias FLOAT NOT NULL,\n",
    "volumen_porcentaje_asistencia FLOAT NOT NULL,\n",
    "prediction_volumen_porcentaje_asistencia FLOAT NOT NULL\n",
    ")''')\n",
    "sql_formula = '''INSERT INTO fact_oec_rs (id_fact_oec_rs,\n",
    "id_razon_social,\n",
    "id_fecha,\n",
    "volumen_cer,\n",
    "prediction_volumen_cer,\n",
    "volumen_horas,\n",
    "prediction_volumen_horas,\n",
    "volumen_ganancias,\n",
    "prediction_volumen_ganancias,\n",
    "volumen_porcentaje_asistencia,\n",
    "prediction_volumen_porcentaje_asistencia)\n",
    "VALUES (%s,%s,%s,%s,%s,%s,%s,%s,%s,%s,%s)'''\n",
    "for row in tqdm(arr_tablas[8].values):\n",
    "    mycursor.execute(sql_formula,tuple(row))\n",
    "    mydb.commit()"
   ]
  },
  {
   "cell_type": "markdown",
   "id": "5f981aae-e8a1-4022-997d-fd122513842c",
   "metadata": {},
   "source": [
    "## CREAR CLAVES FORANEAS OC"
   ]
  },
  {
   "cell_type": "markdown",
   "id": "316af115-8457-47f7-be53-cbb7fc64cb63",
   "metadata": {},
   "source": [
    "### FK dim fecha"
   ]
  },
  {
   "cell_type": "code",
   "execution_count": 181,
   "id": "61b139dc-125b-48b7-bc21-aa333a564a99",
   "metadata": {},
   "outputs": [],
   "source": [
    "mycursor.execute(''' \n",
    "ALTER TABLE fact_oc_cp\n",
    "ADD FOREIGN KEY (id_fecha) REFERENCES dim_fecha(id_fecha)\n",
    "''')"
   ]
  },
  {
   "cell_type": "code",
   "execution_count": 188,
   "id": "de2fd736-e7ab-4a5c-89c3-c21b45f8beac",
   "metadata": {},
   "outputs": [],
   "source": [
    "mycursor.execute(''' \n",
    "ALTER TABLE fact_oc_rs\n",
    "ADD FOREIGN KEY (id_fecha) REFERENCES dim_fecha(id_fecha)\n",
    "''')"
   ]
  },
  {
   "cell_type": "markdown",
   "id": "56845d09-6aae-4510-979f-d3ebc4c0b4cd",
   "metadata": {},
   "source": [
    "### FK dim razon social"
   ]
  },
  {
   "cell_type": "code",
   "execution_count": 193,
   "id": "183f4508-3251-4a63-b4c5-3164710481a8",
   "metadata": {},
   "outputs": [],
   "source": [
    "mycursor.execute(''' \n",
    "ALTER TABLE fact_oc_cp\n",
    "ADD FOREIGN KEY (id_razon_social) REFERENCES dim_razon_social(id_razon_social)\n",
    "''')"
   ]
  },
  {
   "cell_type": "code",
   "execution_count": 194,
   "id": "5ba830e5-b0b8-4a8c-b08c-14b2b3b136e9",
   "metadata": {},
   "outputs": [],
   "source": [
    "mycursor.execute(''' \n",
    "ALTER TABLE fact_oc_rs\n",
    "ADD FOREIGN KEY (id_razon_social) REFERENCES dim_razon_social(id_razon_social)\n",
    "''')"
   ]
  },
  {
   "cell_type": "markdown",
   "id": "33015a55-da04-42a9-9324-40d1ec9b726a",
   "metadata": {},
   "source": [
    "### FK dim curso perfil"
   ]
  },
  {
   "cell_type": "code",
   "execution_count": 200,
   "id": "5ac5c2d4-ae58-4f7f-9b7f-a91c20e1e553",
   "metadata": {},
   "outputs": [],
   "source": [
    "mycursor.execute(''' \n",
    "ALTER TABLE fact_oc_cp\n",
    "ADD FOREIGN KEY (id_curso_perfil) REFERENCES dim_curso_perfil(id_curso_perfil)\n",
    "''')"
   ]
  },
  {
   "cell_type": "markdown",
   "id": "be4dbbed-a5c9-4ede-82d1-e05653f7d1be",
   "metadata": {},
   "source": [
    "## CREAR CLAVES FORANEAS OEC"
   ]
  },
  {
   "cell_type": "markdown",
   "id": "1bc37054-f0d1-43ce-98ae-44b918cbcfc7",
   "metadata": {},
   "source": [
    "### FK dim fecha"
   ]
  },
  {
   "cell_type": "code",
   "execution_count": 189,
   "id": "615c5c7b-26ba-4c8a-bb62-fc9cfc47eea2",
   "metadata": {},
   "outputs": [],
   "source": [
    "mycursor.execute(''' \n",
    "ALTER TABLE fact_oec_cp\n",
    "ADD FOREIGN KEY (id_fecha) REFERENCES dim_fecha(id_fecha)\n",
    "''')"
   ]
  },
  {
   "cell_type": "code",
   "execution_count": 190,
   "id": "7e18322b-7ff9-406c-845d-2fd38b6b3281",
   "metadata": {},
   "outputs": [],
   "source": [
    "mycursor.execute(''' \n",
    "ALTER TABLE fact_oec_rs\n",
    "ADD FOREIGN KEY (id_fecha) REFERENCES dim_fecha(id_fecha)\n",
    "''')"
   ]
  },
  {
   "cell_type": "markdown",
   "id": "57663e05-1141-4ce7-b048-9b7e4171b015",
   "metadata": {},
   "source": [
    "### FK dim razon social"
   ]
  },
  {
   "cell_type": "code",
   "execution_count": 195,
   "id": "813907e1-e9fb-47b4-8901-e96d66ac1552",
   "metadata": {},
   "outputs": [],
   "source": [
    "mycursor.execute(''' \n",
    "ALTER TABLE fact_oec_cp\n",
    "ADD FOREIGN KEY (id_razon_social) REFERENCES dim_razon_social(id_razon_social)\n",
    "''')"
   ]
  },
  {
   "cell_type": "code",
   "execution_count": 197,
   "id": "79b3ee69-4453-418a-8961-b66b89cba8e8",
   "metadata": {},
   "outputs": [],
   "source": [
    "mycursor.execute(''' \n",
    "ALTER TABLE fact_oec_rs\n",
    "ADD FOREIGN KEY (id_razon_social) REFERENCES dim_razon_social(id_razon_social)\n",
    "''')"
   ]
  },
  {
   "cell_type": "markdown",
   "id": "f4a65dd9-faf9-41d1-9d97-591e9428bfb0",
   "metadata": {},
   "source": [
    "### FK dim curso perfil"
   ]
  },
  {
   "cell_type": "code",
   "execution_count": 201,
   "id": "0e8141a4-c64f-413f-be7c-9552acc5862a",
   "metadata": {},
   "outputs": [],
   "source": [
    "mycursor.execute(''' \n",
    "ALTER TABLE fact_oec_cp\n",
    "ADD FOREIGN KEY (id_curso_perfil) REFERENCES dim_curso_perfil(id_curso_perfil)\n",
    "''')"
   ]
  },
  {
   "cell_type": "markdown",
   "id": "8555f968-9a39-4651-9e7b-84876ea0b332",
   "metadata": {
    "tags": []
   },
   "source": [
    "## CREAR CLAVES FORANEAS CI"
   ]
  },
  {
   "cell_type": "markdown",
   "id": "9b82dc1a-df49-4ff8-9a58-852485cf2d02",
   "metadata": {},
   "source": [
    "### FK dim fecha"
   ]
  },
  {
   "cell_type": "code",
   "execution_count": 191,
   "id": "17554a8c-5e0b-487c-8471-f0c153a040fa",
   "metadata": {},
   "outputs": [],
   "source": [
    "mycursor.execute(''' \n",
    "ALTER TABLE fact_ci_cp\n",
    "ADD FOREIGN KEY (id_fecha) REFERENCES dim_fecha(id_fecha)\n",
    "''')"
   ]
  },
  {
   "cell_type": "code",
   "execution_count": 192,
   "id": "53d8cf53-da36-436d-a76c-892ea15a23b9",
   "metadata": {},
   "outputs": [],
   "source": [
    "mycursor.execute(''' \n",
    "ALTER TABLE fact_ci_rs\n",
    "ADD FOREIGN KEY (id_fecha) REFERENCES dim_fecha(id_fecha)\n",
    "''')"
   ]
  },
  {
   "cell_type": "markdown",
   "id": "30c4b8cf-c11a-468e-9150-2e4b67b5546a",
   "metadata": {},
   "source": [
    "### FK dim razon social"
   ]
  },
  {
   "cell_type": "code",
   "execution_count": 198,
   "id": "3b2e0da0-ea35-420c-b3f6-f16af56c56e2",
   "metadata": {},
   "outputs": [],
   "source": [
    "mycursor.execute(''' \n",
    "ALTER TABLE fact_ci_cp\n",
    "ADD FOREIGN KEY (id_razon_social) REFERENCES dim_razon_social(id_razon_social)\n",
    "''')"
   ]
  },
  {
   "cell_type": "code",
   "execution_count": 199,
   "id": "08f77218-7b6e-44f4-91a4-2caf9e2cc3a6",
   "metadata": {},
   "outputs": [],
   "source": [
    "mycursor.execute(''' \n",
    "ALTER TABLE fact_ci_rs\n",
    "ADD FOREIGN KEY (id_razon_social) REFERENCES dim_razon_social(id_razon_social)\n",
    "''')"
   ]
  },
  {
   "cell_type": "markdown",
   "id": "23440bec-ab9e-4fcf-a567-9d9f19918ee4",
   "metadata": {},
   "source": [
    "### FK dim curso perfil"
   ]
  },
  {
   "cell_type": "code",
   "execution_count": 202,
   "id": "23a53640-b72b-42fb-aba6-14f6f10189e0",
   "metadata": {},
   "outputs": [],
   "source": [
    "mycursor.execute(''' \n",
    "ALTER TABLE fact_ci_cp\n",
    "ADD FOREIGN KEY (id_curso_perfil) REFERENCES dim_curso_perfil(id_curso_perfil)\n",
    "''')"
   ]
  }
 ],
 "metadata": {
  "kernelspec": {
   "display_name": "Python 3 (ipykernel)",
   "language": "python",
   "name": "python3"
  },
  "language_info": {
   "codemirror_mode": {
    "name": "ipython",
    "version": 3
   },
   "file_extension": ".py",
   "mimetype": "text/x-python",
   "name": "python",
   "nbconvert_exporter": "python",
   "pygments_lexer": "ipython3",
   "version": "3.9.12"
  }
 },
 "nbformat": 4,
 "nbformat_minor": 5
}
