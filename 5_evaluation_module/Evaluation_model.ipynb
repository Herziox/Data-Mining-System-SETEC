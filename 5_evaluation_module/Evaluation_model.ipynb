{
 "cells": [
  {
   "cell_type": "markdown",
   "metadata": {},
   "source": [
    "# Modelo de Machine Learning"
   ]
  },
  {
   "cell_type": "code",
   "execution_count": 1,
   "metadata": {},
   "outputs": [],
   "source": [
    "import pandas as pd\n",
    "import os\n",
    "from random import randint\n",
    "import mysql.connector\n",
    "from tqdm import tqdm"
   ]
  },
  {
   "cell_type": "markdown",
   "metadata": {},
   "source": [
    "# Ruta de archivos"
   ]
  },
  {
   "cell_type": "code",
   "execution_count": 7,
   "metadata": {},
   "outputs": [],
   "source": [
    "path_train = os.path.join(os.getcwd(), '..', '4_modeling_module',\"TRAIN_DATA\")\n",
    "path_dwh = os.path.join(os.getcwd(), '..', '3_data_preprocesing_module',\"DATAWAREHOUSE\")\n",
    "path_scoring_db = os.path.join(os.getcwd(),\"DATABASE_SCORING\")\n",
    "path_scored_new_data = os.path.join(os.getcwd(), '..', '6_deploying_module',\"DB_SC\")\n",
    "path_dwh_sc = os.path.join(os.getcwd(), '..', '6_deploying_module',\"DWH-SC\")\n",
    "path_dwh_final = os.path.join(os.getcwd(), '..', '6_deploying_module',\"DATAWAREHOUSE_DP\")"
   ]
  },
  {
   "cell_type": "code",
   "execution_count": 8,
   "metadata": {},
   "outputs": [],
   "source": [
    "df_razon_social = pd.read_csv(os.path.join(path_dwh,'dim_razon_social.csv'))\n",
    "df_fecha = pd.read_csv(os.path.join(path_dwh,'dim_fecha.csv'))\n",
    "df_curso_perfil = pd.read_csv(os.path.join(path_dwh,'dim_curso_perfil.csv'))"
   ]
  },
  {
   "cell_type": "code",
   "execution_count": 9,
   "metadata": {},
   "outputs": [],
   "source": [
    "df_ci_cp = pd.read_csv(os.path.join(path_dwh,'fact_ci_cp.csv'))\n",
    "df_ci_rs = pd.read_csv(os.path.join(path_dwh,'fact_ci_rs.csv'))\n",
    "df_oc_cp = pd.read_csv(os.path.join(path_dwh,'fact_oc_cp.csv'))\n",
    "df_oc_rs = pd.read_csv(os.path.join(path_dwh,'fact_oc_rs.csv'))\n",
    "df_oec_cp = pd.read_csv(os.path.join(path_dwh,'fact_oec_cp.csv'))\n",
    "df_oec_rs = pd.read_csv(os.path.join(path_dwh,'fact_oec_rs.csv'))"
   ]
  },
  {
   "cell_type": "code",
   "execution_count": 10,
   "metadata": {},
   "outputs": [],
   "source": [
    "df_fecha = pd.read_csv(os.path.join(path_dwh,'dim_fecha.csv'))"
   ]
  },
  {
   "cell_type": "code",
   "execution_count": 8,
   "metadata": {},
   "outputs": [
    {
     "name": "stdout",
     "output_type": "stream",
     "text": [
      "<class 'pandas.core.frame.DataFrame'>\n",
      "RangeIndex: 2142 entries, 0 to 2141\n",
      "Data columns (total 5 columns):\n",
      " #   Column    Non-Null Count  Dtype \n",
      "---  ------    --------------  ----- \n",
      " 0   id_fecha  2142 non-null   int64 \n",
      " 1   fecha     2142 non-null   object\n",
      " 2   dia       2142 non-null   int64 \n",
      " 3   mes       2142 non-null   int64 \n",
      " 4   anio      2142 non-null   int64 \n",
      "dtypes: int64(4), object(1)\n",
      "memory usage: 83.8+ KB\n"
     ]
    }
   ],
   "source": [
    "df_fecha.info()"
   ]
  },
  {
   "cell_type": "code",
   "execution_count": 29,
   "metadata": {},
   "outputs": [
    {
     "data": {
      "text/html": [
       "<div>\n",
       "<style scoped>\n",
       "    .dataframe tbody tr th:only-of-type {\n",
       "        vertical-align: middle;\n",
       "    }\n",
       "\n",
       "    .dataframe tbody tr th {\n",
       "        vertical-align: top;\n",
       "    }\n",
       "\n",
       "    .dataframe thead th {\n",
       "        text-align: right;\n",
       "    }\n",
       "</style>\n",
       "<table border=\"1\" class=\"dataframe\">\n",
       "  <thead>\n",
       "    <tr style=\"text-align: right;\">\n",
       "      <th></th>\n",
       "      <th>id_fecha</th>\n",
       "      <th>fecha</th>\n",
       "      <th>dia</th>\n",
       "      <th>mes</th>\n",
       "      <th>anio</th>\n",
       "    </tr>\n",
       "  </thead>\n",
       "  <tbody>\n",
       "    <tr>\n",
       "      <th>2137</th>\n",
       "      <td>2137</td>\n",
       "      <td>31-10-2017</td>\n",
       "      <td>31</td>\n",
       "      <td>10</td>\n",
       "      <td>2017</td>\n",
       "    </tr>\n",
       "    <tr>\n",
       "      <th>2138</th>\n",
       "      <td>2138</td>\n",
       "      <td>31-10-2018</td>\n",
       "      <td>31</td>\n",
       "      <td>10</td>\n",
       "      <td>2018</td>\n",
       "    </tr>\n",
       "    <tr>\n",
       "      <th>2139</th>\n",
       "      <td>2139</td>\n",
       "      <td>31-10-2019</td>\n",
       "      <td>31</td>\n",
       "      <td>10</td>\n",
       "      <td>2019</td>\n",
       "    </tr>\n",
       "    <tr>\n",
       "      <th>2140</th>\n",
       "      <td>2140</td>\n",
       "      <td>31-10-2020</td>\n",
       "      <td>31</td>\n",
       "      <td>10</td>\n",
       "      <td>2020</td>\n",
       "    </tr>\n",
       "    <tr>\n",
       "      <th>2141</th>\n",
       "      <td>2141</td>\n",
       "      <td>31-10-2021</td>\n",
       "      <td>31</td>\n",
       "      <td>10</td>\n",
       "      <td>2021</td>\n",
       "    </tr>\n",
       "  </tbody>\n",
       "</table>\n",
       "</div>"
      ],
      "text/plain": [
       "      id_fecha       fecha  dia  mes  anio\n",
       "2137      2137  31-10-2017   31   10  2017\n",
       "2138      2138  31-10-2018   31   10  2018\n",
       "2139      2139  31-10-2019   31   10  2019\n",
       "2140      2140  31-10-2020   31   10  2020\n",
       "2141      2141  31-10-2021   31   10  2021"
      ]
     },
     "execution_count": 29,
     "metadata": {},
     "output_type": "execute_result"
    }
   ],
   "source": [
    "df_fecha.tail()"
   ]
  },
  {
   "cell_type": "markdown",
   "metadata": {},
   "source": [
    "# Generación de datos ficticios"
   ]
  },
  {
   "cell_type": "markdown",
   "metadata": {},
   "source": [
    "Generación de nuevas fechas"
   ]
  },
  {
   "cell_type": "code",
   "execution_count": 90,
   "metadata": {},
   "outputs": [],
   "source": [
    "nueva_fecha = [\n",
    "    [2142,'31-01-2023',31,1,2023],\n",
    "    [2143,'28-02-2023',28,2,2023]\n",
    "]"
   ]
  },
  {
   "cell_type": "code",
   "execution_count": 91,
   "metadata": {},
   "outputs": [],
   "source": [
    "df_new_fecha = pd.DataFrame(data=nueva_fecha,columns=df_fecha.columns)"
   ]
  },
  {
   "cell_type": "code",
   "execution_count": 92,
   "metadata": {},
   "outputs": [],
   "source": [
    "df_fecha = pd.concat([df_fecha,df_new_fecha],ignore_index=True)"
   ]
  },
  {
   "cell_type": "markdown",
   "metadata": {},
   "source": [
    "## CI CP"
   ]
  },
  {
   "cell_type": "code",
   "execution_count": 119,
   "metadata": {},
   "outputs": [],
   "source": [
    "\n",
    "new_data_ci_cp = [] \n",
    "size_ci_cp = df_ci_cp.shape[0]\n",
    "size_new_fecha =df_new_fecha.shape[0]\n",
    "for i in range(300):\n",
    "    rd_idx = randint(0,size_ci_cp-1)\n",
    "    rd_f_idx = randint(0,size_new_fecha-1)\n",
    "    id_rs_rd = df_ci_cp['id_razon_social'].iloc[rd_idx]\n",
    "    id_cp_rd = df_ci_cp['id_curso_perfil'].iloc[rd_idx]\n",
    "    id_fecha_rd = df_new_fecha['id_fecha'].iloc[rd_f_idx]\n",
    "    rd_num_cap = 0\n",
    "    rd_total_horas = 0\n",
    "    rd_total_ganancias = 0\n",
    "    new_data_ci_cp.append([id_rs_rd,id_cp_rd,id_fecha_rd,rd_num_cap,rd_total_horas,rd_total_ganancias])\n",
    "    \n",
    "   \n",
    "df_new_ci_cp = pd.DataFrame(data=new_data_ci_cp,columns=['id_razon_social',\t'id_curso_perfil',\t'id_fecha',\t'num_cap',\t'total_horas',\t'total_ganancias'])\n",
    "    "
   ]
  },
  {
   "cell_type": "code",
   "execution_count": 120,
   "metadata": {},
   "outputs": [],
   "source": [
    "df_new_ci_cp = df_new_ci_cp.drop_duplicates()"
   ]
  },
  {
   "cell_type": "code",
   "execution_count": 121,
   "metadata": {},
   "outputs": [],
   "source": [
    "df_new_ci_cp['id_fact_ci_cp'] = [x for x in range(df_ci_cp.shape[0],df_ci_cp.shape[0]+df_new_ci_cp.shape[0])]"
   ]
  },
  {
   "cell_type": "code",
   "execution_count": 122,
   "metadata": {},
   "outputs": [],
   "source": [
    "df_new_ci_cp.insert(0, 'id_fact_ci_cp', df_new_ci_cp.pop('id_fact_ci_cp'))"
   ]
  },
  {
   "cell_type": "code",
   "execution_count": 132,
   "metadata": {},
   "outputs": [],
   "source": [
    "df_ci_cp = pd.concat([df_ci_cp,df_new_ci_cp],ignore_index=True)"
   ]
  },
  {
   "cell_type": "code",
   "execution_count": 125,
   "metadata": {},
   "outputs": [],
   "source": [
    "data_ci_cp = pd.merge(data_ci_cp,df_curso_perfil,on='id_curso_perfil',how='inner')\n",
    "data_ci_cp = pd.merge(data_ci_cp,df_fecha,on='id_fecha',how='inner')\n",
    "data_ci_cp = pd.merge(data_ci_cp,df_razon_social,on='id_razon_social',how='inner')"
   ]
  },
  {
   "cell_type": "code",
   "execution_count": 126,
   "metadata": {},
   "outputs": [],
   "source": [
    "data_ci_cp = data_ci_cp.drop(['num_cap','total_horas','total_ganancias'],axis=1)"
   ]
  },
  {
   "cell_type": "code",
   "execution_count": 128,
   "metadata": {},
   "outputs": [],
   "source": [
    "data_ci_cp.to_csv(os.path.join(path_scoring_db,'data_ci_cp_sc.csv'),index=False)"
   ]
  },
  {
   "cell_type": "markdown",
   "metadata": {
    "tags": []
   },
   "source": [
    "## CI RS"
   ]
  },
  {
   "cell_type": "code",
   "execution_count": 158,
   "metadata": {},
   "outputs": [],
   "source": [
    "df_new_ci_rs = df_new_ci_cp.groupby(['id_razon_social','id_fecha']).count().reset_index()[['id_razon_social','id_fecha']]"
   ]
  },
  {
   "cell_type": "code",
   "execution_count": 159,
   "metadata": {},
   "outputs": [],
   "source": [
    "df_new_ci_rs['id_fact_ci_rs'] = [x for x in range(df_ci_rs.shape[0],df_ci_rs.shape[0]+df_new_ci_rs.shape[0])]\n",
    "df_new_ci_rs.insert(0, 'id_fact_ci_rs', df_new_ci_rs.pop('id_fact_ci_rs'))\n",
    "data_ci_rs = pd.concat([df_ci_rs,df_new_ci_rs],ignore_index=True)"
   ]
  },
  {
   "cell_type": "code",
   "execution_count": 160,
   "metadata": {},
   "outputs": [],
   "source": [
    "data_ci_rs = data_ci_rs.drop(['volumen_cap','volumen_horas','volumen_ganancias','total_cursos'],axis=1)"
   ]
  },
  {
   "cell_type": "code",
   "execution_count": 162,
   "metadata": {},
   "outputs": [],
   "source": [
    "data_ci_rs = pd.merge(data_ci_rs,df_fecha,on='id_fecha',how='inner')\n",
    "data_ci_rs = pd.merge(data_ci_rs,df_razon_social,on='id_razon_social',how='inner')"
   ]
  },
  {
   "cell_type": "code",
   "execution_count": 176,
   "metadata": {},
   "outputs": [],
   "source": [
    "data_ci_rs.to_csv(os.path.join(path_scoring_db,'data_ci_rs_sc.csv'),index=False)"
   ]
  },
  {
   "cell_type": "markdown",
   "metadata": {},
   "source": [
    "## OC CP "
   ]
  },
  {
   "cell_type": "code",
   "execution_count": 189,
   "metadata": {},
   "outputs": [],
   "source": [
    "new_data_oc_cp = [] \n",
    "size_oc_cp = df_oc_cp.shape[0]\n",
    "for i in range(300):\n",
    "    rd_idx = randint(0,size_ci_cp-1)\n",
    "    rd_f_idx = randint(0,size_new_fecha-1)\n",
    "    id_rs_rd = df_oc_cp['id_razon_social'].iloc[rd_idx]\n",
    "    id_cp_rd = df_oc_cp['id_curso_perfil'].iloc[rd_idx]\n",
    "    id_fecha_rd = df_new_fecha['id_fecha'].iloc[rd_f_idx]\n",
    "    new_data_oc_cp.append([id_rs_rd,id_cp_rd,id_fecha_rd])\n",
    "    \n",
    "   \n",
    "df_new_oc_cp = pd.DataFrame(data=new_data_oc_cp,columns=['id_razon_social',\t'id_curso_perfil',\t'id_fecha'])\n",
    "    "
   ]
  },
  {
   "cell_type": "code",
   "execution_count": 190,
   "metadata": {},
   "outputs": [],
   "source": [
    "df_new_oc_cp = df_new_oc_cp.drop_duplicates()\n",
    "df_new_oc_cp['id_fact_oc_cp'] = [x for x in range(df_oc_cp.shape[0],df_oc_cp.shape[0]+df_new_oc_cp.shape[0])]\n",
    "df_new_oc_cp.insert(0, 'id_fact_oc_cp', df_new_oc_cp.pop('id_fact_oc_cp'))\n",
    "data_oc_cp = pd.concat([df_oc_cp,df_new_oc_cp],ignore_index=True)"
   ]
  },
  {
   "cell_type": "code",
   "execution_count": 191,
   "metadata": {},
   "outputs": [],
   "source": [
    "data_oc_cp.dropna(axis='columns',inplace=True)"
   ]
  },
  {
   "cell_type": "code",
   "execution_count": 192,
   "metadata": {},
   "outputs": [],
   "source": [
    "data_oc_cp = pd.merge(data_oc_cp,df_curso_perfil,on='id_curso_perfil',how='inner')\n",
    "data_oc_cp = pd.merge(data_oc_cp,df_fecha,on='id_fecha',how='inner')\n",
    "data_oc_cp = pd.merge(data_oc_cp,df_razon_social,on='id_razon_social',how='inner')"
   ]
  },
  {
   "cell_type": "code",
   "execution_count": 193,
   "metadata": {},
   "outputs": [],
   "source": [
    "data_oc_cp.to_csv(os.path.join(path_scoring_db,'data_oc_cp_sc.csv'),index=False)"
   ]
  },
  {
   "cell_type": "markdown",
   "metadata": {},
   "source": [
    "## OC RS"
   ]
  },
  {
   "cell_type": "code",
   "execution_count": 233,
   "metadata": {},
   "outputs": [],
   "source": [
    "df_new_oc_rs = df_new_oc_cp.groupby(['id_razon_social','id_fecha']).count().reset_index()\n",
    "df_new_oc_rs['id_fact_oc_rs'] = [x for x in range(df_oc_rs.shape[0],df_oc_rs.shape[0]+df_new_oc_rs.shape[0])]\n",
    "df_new_oc_rs.insert(0, 'id_fact_oc_rs', df_new_oc_rs.pop('id_fact_oc_rs'))\n",
    "data_oc_rs = pd.concat([df_oc_rs,df_new_oc_rs],ignore_index=True)\n",
    "data_oc_rs.dropna(axis='columns',inplace=True)\n",
    "data_oc_rs = pd.merge(data_oc_rs,df_fecha,on='id_fecha',how='inner')\n",
    "data_oc_rs = pd.merge(data_oc_rs,df_razon_social,on='id_razon_social',how='inner')\n"
   ]
  },
  {
   "cell_type": "code",
   "execution_count": 235,
   "metadata": {},
   "outputs": [
    {
     "data": {
      "text/plain": [
       "(396, 13)"
      ]
     },
     "execution_count": 235,
     "metadata": {},
     "output_type": "execute_result"
    }
   ],
   "source": [
    "data_oc_rs.shape"
   ]
  },
  {
   "cell_type": "code",
   "execution_count": 234,
   "metadata": {},
   "outputs": [],
   "source": [
    "data_oc_rs.to_csv(os.path.join(path_scoring_db,'data_oc_rs_sc.csv'),index=False)"
   ]
  },
  {
   "cell_type": "markdown",
   "metadata": {},
   "source": [
    "## OEC CP"
   ]
  },
  {
   "cell_type": "code",
   "execution_count": 224,
   "metadata": {},
   "outputs": [],
   "source": [
    "new_data_oec_cp = [] \n",
    "size_oec_cp = df_oec_cp.shape[0]\n",
    "for i in range(300):\n",
    "    rd_idx = randint(0,size_ci_cp-1)\n",
    "    rd_f_idx = randint(0,size_new_fecha-1)\n",
    "    id_rs_rd = df_oec_cp['id_razon_social'].iloc[rd_idx]\n",
    "    id_cp_rd = df_oec_cp['id_curso_perfil'].iloc[rd_idx]\n",
    "    id_fecha_rd = df_new_fecha['id_fecha'].iloc[rd_f_idx]\n",
    "    new_data_oec_cp.append([id_rs_rd,id_cp_rd,id_fecha_rd])\n",
    "    \n",
    "   \n",
    "df_new_oec_cp = pd.DataFrame(data=new_data_oec_cp,columns=['id_razon_social',\t'id_curso_perfil',\t'id_fecha'])\n",
    "    "
   ]
  },
  {
   "cell_type": "code",
   "execution_count": 225,
   "metadata": {},
   "outputs": [],
   "source": [
    "df_new_oec_cp = df_new_oec_cp.drop_duplicates()\n",
    "df_new_oec_cp['id_fact_oec_cp'] = [x for x in range(df_oec_cp.shape[0],df_oec_cp.shape[0]+df_new_oec_cp.shape[0])]\n",
    "df_new_oec_cp.insert(0, 'id_fact_oec_cp', df_new_oec_cp.pop('id_fact_oec_cp'))\n",
    "data_oec_cp = pd.concat([df_oec_cp,df_new_oec_cp],ignore_index=True)\n",
    "data_oec_cp.dropna(axis='columns',inplace=True)\n",
    "data_oec_cp = pd.merge(data_oec_cp,df_curso_perfil,on='id_curso_perfil',how='inner')\n",
    "data_oec_cp = pd.merge(data_oec_cp,df_fecha,on='id_fecha',how='inner')\n",
    "data_oec_cp = pd.merge(data_oec_cp,df_razon_social,on='id_razon_social',how='inner')"
   ]
  },
  {
   "cell_type": "code",
   "execution_count": 226,
   "metadata": {},
   "outputs": [
    {
     "data": {
      "text/plain": [
       "(18399, 21)"
      ]
     },
     "execution_count": 226,
     "metadata": {},
     "output_type": "execute_result"
    }
   ],
   "source": [
    "data_oec_cp.shape"
   ]
  },
  {
   "cell_type": "code",
   "execution_count": 227,
   "metadata": {},
   "outputs": [],
   "source": [
    "data_oec_cp.to_csv(os.path.join(path_scoring_db,'data_oec_cp_sc.csv'),index=False)"
   ]
  },
  {
   "cell_type": "markdown",
   "metadata": {},
   "source": [
    "## OEC RS"
   ]
  },
  {
   "cell_type": "code",
   "execution_count": 229,
   "metadata": {},
   "outputs": [],
   "source": [
    "df_new_oec_rs = df_new_oec_cp.groupby(['id_razon_social','id_fecha']).count().reset_index()\n",
    "df_new_oec_rs['id_fact_oec_rs'] = [x for x in range(df_oec_rs.shape[0],df_oec_rs.shape[0]+df_new_oec_rs.shape[0])]\n",
    "df_new_oec_rs.insert(0, 'id_fact_oec_rs', df_new_oec_rs.pop('id_fact_oec_rs'))\n",
    "data_oec_rs = pd.concat([df_oec_rs,df_new_oec_rs],ignore_index=True)\n",
    "data_oec_rs.dropna(axis='columns',inplace=True)\n",
    "data_oec_rs = pd.merge(data_oec_rs,df_fecha,on='id_fecha',how='inner')\n",
    "data_oec_rs = pd.merge(data_oec_rs,df_razon_social,on='id_razon_social',how='inner')\n"
   ]
  },
  {
   "cell_type": "code",
   "execution_count": 232,
   "metadata": {},
   "outputs": [],
   "source": [
    "data_oec_rs.to_csv(os.path.join(path_scoring_db,'data_oec_rs_sc.csv'),index=False)"
   ]
  },
  {
   "attachments": {},
   "cell_type": "markdown",
   "metadata": {},
   "source": [
    "# Union de datos"
   ]
  },
  {
   "cell_type": "code",
   "execution_count": 11,
   "metadata": {},
   "outputs": [],
   "source": [
    "filelist = os.listdir(path_scored_new_data)"
   ]
  },
  {
   "cell_type": "code",
   "execution_count": 12,
   "metadata": {},
   "outputs": [
    {
     "data": {
      "text/plain": [
       "['.ipynb_checkpoints',\n",
       " 'sc_ci_cp_num_cap.csv',\n",
       " 'sc_ci_cp_total_ganancias.csv',\n",
       " 'sc_ci_cp_total_horas.csv',\n",
       " 'sc_ci_rs_total_cursos.csv',\n",
       " 'sc_ci_rs_volumen_cap.csv',\n",
       " 'sc_ci_rs_volumen_ganancias.csv',\n",
       " 'sc_ci_rs_volumen_horas.csv',\n",
       " 'sc_oc_cp_num_cap_cer.csv',\n",
       " 'sc_oc_cp_porcentaje_asistencia.csv',\n",
       " 'sc_oc_cp_total_ganancias.csv',\n",
       " 'sc_oc_cp_total_horas.csv',\n",
       " 'sc_oc_rs_total_cursos.csv',\n",
       " 'sc_oc_rs_volumen_cap_cer.csv',\n",
       " 'sc_oc_rs_volumen_ganancias.csv',\n",
       " 'sc_oc_rs_volumen_horas.csv',\n",
       " 'sc_oec_cp_num_cer.csv',\n",
       " 'sc_oec_cp_porcentaje_asistencia.csv',\n",
       " 'sc_oec_cp_total_ganancias.csv',\n",
       " 'sc_oec_cp_total_horas.csv',\n",
       " 'sc_oec_rs_total_perfiles.csv',\n",
       " 'sc_oec_rs_volumen_cer.csv',\n",
       " 'sc_oec_rs_volumen_ganacias.csv',\n",
       " 'sc_oec_rs_volumen_horas.csv',\n",
       " 'sc_oec_rs_volumen_porcentaje.csv']"
      ]
     },
     "execution_count": 12,
     "metadata": {},
     "output_type": "execute_result"
    }
   ],
   "source": [
    "filelist"
   ]
  },
  {
   "cell_type": "code",
   "execution_count": null,
   "metadata": {},
   "outputs": [],
   "source": []
  },
  {
   "cell_type": "code",
   "execution_count": 13,
   "metadata": {},
   "outputs": [],
   "source": [
    "df = []\n",
    "fact_oc_cp = None\n",
    "fact_oec_cp = None\n",
    "fact_ci_cp = None\n",
    "fact_oc_rs = None\n",
    "fact_oec_rs = None\n",
    "fact_ci_rs = None\n",
    "for file in filelist:\n",
    "    if '.csv' in file:\n",
    "            \n",
    "        df = pd.read_csv(os.path.join(path_scored_new_data,file))\n",
    "        idx_pred = [ i for i, word in enumerate(df.columns) if word.startswith('prediction') ]\n",
    "        pred_col = df.columns[idx_pred][0]\n",
    "        if 'oc_cp_' in file:\n",
    "            if fact_oc_cp is None:\n",
    "                fact_oc_cp = df\n",
    "            else: \n",
    "                fact_oc_cp = fact_oc_cp.merge(df[['id_fact_oc_cp',pred_col]],on='id_fact_oc_cp',how='inner')\n",
    "\n",
    "        elif 'oec_cp_' in file:\n",
    "            if fact_oec_cp is None:\n",
    "                fact_oec_cp = df\n",
    "            else:\n",
    "                fact_oec_cp = fact_oec_cp.merge(df[['id_fact_oec_cp',pred_col]],on='id_fact_oec_cp',how='inner')\n",
    "\n",
    "        elif 'ci_cp_' in file:\n",
    "            if fact_ci_cp is None:\n",
    "                fact_ci_cp = df\n",
    "            else:\n",
    "                fact_ci_cp = fact_ci_cp.merge(df[['id_fact_ci_cp',pred_col]],on='id_fact_ci_cp',how='inner')\n",
    "\n",
    "        elif 'oc_rs_' in file:\n",
    "            if fact_oc_rs is None:\n",
    "                fact_oc_rs = df\n",
    "            else:\n",
    "                fact_oc_rs = fact_oc_rs.merge(df[['id_fact_oc_rs',pred_col]],on='id_fact_oc_rs',how='inner')\n",
    "\n",
    "        elif 'oec_rs_' in file:\n",
    "            if fact_oec_rs is None:\n",
    "                fact_oec_rs = df\n",
    "            else:\n",
    "                fact_oec_rs = fact_oec_rs.merge(df[['id_fact_oec_rs',pred_col]],on='id_fact_oec_rs',how='inner')\n",
    "\n",
    "        elif 'ci_rs_' in file:\n",
    "            if fact_ci_rs is None:\n",
    "                fact_ci_rs = df\n",
    "            else:\n",
    "                fact_ci_rs = fact_ci_rs.merge(df[['id_fact_ci_rs',pred_col]],on='id_fact_ci_rs',how='inner')\n"
   ]
  },
  {
   "cell_type": "code",
   "execution_count": 14,
   "metadata": {},
   "outputs": [],
   "source": [
    "fact_oc_cp['num_cap_cer']=0\n",
    "fact_oc_cp['total_horas']=0\n",
    "fact_oc_cp['total_ganancias']=0\n",
    "fact_oc_cp['porcentaje_asistencia']=0\n",
    "\n",
    "fact_oc_rs['total_cursos_perfiles']=0\n",
    "fact_oc_rs['volumen_cap_cer']=0\n",
    "fact_oc_rs['volumen_horas']=0\n",
    "fact_oc_rs['volumen_ganancias']=0\n",
    "fact_oc_rs['volumen_porcentaje_asistencia']=0\n",
    "\n",
    "\n",
    "fact_oec_cp['num_cer']=0\n",
    "fact_oec_cp['total_horas']=0\n",
    "fact_oec_cp['total_ganancias']=0\n",
    "fact_oec_cp['porcentaje_asistencia']=0\n",
    "\n",
    "fact_oec_rs['total_perfiles']=0\n",
    "fact_oec_rs['volumen_cer']=0\n",
    "fact_oec_rs['volumen_horas']=0\n",
    "fact_oec_rs['volumen_ganancias']=0\n",
    "fact_oec_rs['volumen_porcentaje_asistencia']=0\n",
    "\n",
    "\n",
    "fact_ci_cp['num_cap']=0\n",
    "fact_ci_cp['total_horas']=0\n",
    "fact_ci_cp['total_ganancias']=0\n",
    "\n",
    "fact_ci_rs['total_cursos']=0\n",
    "fact_ci_rs['volumen_cap']=0\n",
    "fact_ci_rs['volumen_horas']=0\n",
    "fact_ci_rs['volumen_ganancias']=0"
   ]
  },
  {
   "cell_type": "code",
   "execution_count": 15,
   "metadata": {},
   "outputs": [],
   "source": [
    "fact_oc_cp_final = fact_oc_cp[['id_fact_oc_cp','id_razon_social','id_curso_perfil','id_fecha','num_cap_cer','prediction(num_cap_cer)','total_horas','prediction(total_horas)', 'total_ganancias', 'prediction(total_ganancias)', 'porcentaje_asistencia','prediction(porcentaje_asistencia)']]\n",
    "\n",
    "fact_oc_rs_final = fact_oc_rs[['id_fact_oc_rs','id_razon_social','id_fecha','total_cursos_perfiles','prediction(total_cursos)','volumen_cap_cer','prediction(volumen_cap_cer)','volumen_horas','prediction(volumen_horas)', 'volumen_ganancias', 'prediction(volumen_ganancias)', 'volumen_porcentaje_asistencia']]\n",
    "\n",
    "fact_oec_cp_final = fact_oec_cp[['id_fact_oec_cp','id_razon_social','id_curso_perfil','id_fecha','num_cer','prediction(num_cer)','total_horas','prediction(total_horas)', 'total_ganancias', 'prediction(total_ganancias)', 'porcentaje_asistencia','prediction(porcentaje_asistencia)']]\n",
    "\n",
    "fact_oec_rs_final = fact_oec_rs[['id_fact_oec_rs','id_razon_social','id_fecha','total_perfiles','prediction(total_perfiles)','volumen_cer','prediction(volumen_cer)','volumen_horas','prediction(volumen_horas)', 'volumen_ganancias', 'prediction(volumen_ganancias)', 'volumen_porcentaje_asistencia','prediction(volumen_porcentaje_asistencia)']]\n",
    "\n",
    "fact_ci_cp_final = fact_ci_cp[['id_fact_ci_cp','id_razon_social','id_curso_perfil','id_fecha','num_cap','prediction(num_cap)','total_horas','prediction(total_horas)', 'total_ganancias', 'prediction(total_ganancias)']]\n",
    "\n",
    "fact_ci_rs_final = fact_ci_rs[['id_fact_ci_rs','id_razon_social','id_fecha','total_cursos','prediction(total_cursos)','volumen_cap','prediction(volumen_cap)','volumen_horas','prediction(volumen_horas)', 'volumen_ganancias', 'prediction(volumen_ganancias)']]"
   ]
  },
  {
   "cell_type": "code",
   "execution_count": 16,
   "metadata": {},
   "outputs": [],
   "source": [
    "val_extra = fact_oc_cp_final.groupby(['id_razon_social','id_fecha']).sum().reset_index()[['id_razon_social','id_fecha','prediction(porcentaje_asistencia)']]"
   ]
  },
  {
   "cell_type": "code",
   "execution_count": 17,
   "metadata": {},
   "outputs": [
    {
     "name": "stderr",
     "output_type": "stream",
     "text": [
      "C:\\Users\\sjime\\AppData\\Local\\Temp\\ipykernel_23088\\4114751181.py:1: SettingWithCopyWarning: \n",
      "A value is trying to be set on a copy of a slice from a DataFrame.\n",
      "Try using .loc[row_indexer,col_indexer] = value instead\n",
      "\n",
      "See the caveats in the documentation: https://pandas.pydata.org/pandas-docs/stable/user_guide/indexing.html#returning-a-view-versus-a-copy\n",
      "  fact_oc_rs_final['prediction(volumen_porcentaje_asistencia)'] = val_extra['prediction(porcentaje_asistencia)']\n"
     ]
    }
   ],
   "source": [
    "fact_oc_rs_final['prediction(volumen_porcentaje_asistencia)'] = val_extra['prediction(porcentaje_asistencia)']"
   ]
  },
  {
   "cell_type": "code",
   "execution_count": 18,
   "metadata": {},
   "outputs": [],
   "source": [
    "arr_df_finals = [fact_ci_cp_final.sort_values(by='id_fact_ci_cp'),fact_ci_rs_final.sort_values(by='id_fact_ci_rs'),fact_oc_cp_final.sort_values(by='id_fact_oc_cp'),fact_oc_rs_final.sort_values(by='id_fact_oc_rs'), fact_oec_cp_final.sort_values(by='id_fact_oec_cp'),fact_oec_rs_final.sort_values(by='id_fact_oec_rs')]\n",
    "arr_df_finals_refact = []"
   ]
  },
  {
   "cell_type": "code",
   "execution_count": 19,
   "metadata": {},
   "outputs": [],
   "source": [
    "for df_final in arr_df_finals:\n",
    "    df_final_aux = df_final.copy()\n",
    "    idxs_pred = [ i for i, word in enumerate(df_final_aux.columns) if word.startswith('prediction')]\n",
    "    for i in idxs_pred:\n",
    "        old_col = df_final_aux.columns[i]\n",
    "        new_col = old_col.replace('(','_').replace(')','')\n",
    "        df_final_aux = df_final_aux.rename(columns={old_col:new_col})\n",
    "    arr_df_finals_refact.append(df_final_aux)"
   ]
  },
  {
   "cell_type": "code",
   "execution_count": 20,
   "metadata": {},
   "outputs": [],
   "source": [
    "list_files_dwh = os.listdir(path_dwh_final)"
   ]
  },
  {
   "cell_type": "code",
   "execution_count": 21,
   "metadata": {},
   "outputs": [],
   "source": [
    "df_oc_cp_dpt = pd.read_csv(os.path.join(path_dwh_final,'fact_oc_cp_dpt.csv'))"
   ]
  },
  {
   "cell_type": "code",
   "execution_count": 22,
   "metadata": {},
   "outputs": [],
   "source": [
    "arr_df = []\n",
    "for file in list_files_dwh:\n",
    "    if 'fact' in file:\n",
    "        df_old = pd.read_csv(os.path.join(path_dwh_final,file))\n",
    "        arr_df.append(df_old)\n",
    "        "
   ]
  },
  {
   "cell_type": "code",
   "execution_count": 23,
   "metadata": {},
   "outputs": [],
   "source": [
    "doc_names = ['fact_ci_cp','fact_ci_rs','fact_oc_cp','fact_oc_rs','fact_oec_cp','fact_oec_rs']"
   ]
  },
  {
   "cell_type": "code",
   "execution_count": null,
   "metadata": {},
   "outputs": [],
   "source": []
  },
  {
   "cell_type": "code",
   "execution_count": 24,
   "metadata": {},
   "outputs": [],
   "source": [
    "for i in range(len(arr_df_finals_refact)):\n",
    "    aux_1 = arr_df[i]\n",
    "    aux_2 = arr_df_finals_refact[i]\n",
    "    aux_2 = aux_2.iloc[aux_1.shape[0]:]\n",
    "    doc_name = doc_names[i]\n",
    "    df_dpt = pd.concat([aux_1,aux_2],ignore_index=True)\n",
    "    df_dpt.to_csv(os.path.join(path_dwh_sc,doc_name+'_dpt_sc.csv'),index=False)"
   ]
  },
  {
   "cell_type": "markdown",
   "metadata": {},
   "source": [
    "# Carga de datos"
   ]
  },
  {
   "cell_type": "code",
   "execution_count": 25,
   "metadata": {},
   "outputs": [],
   "source": [
    "arr_tablas = []\n",
    "file_list_dp = os.listdir(path_dwh_sc)\n",
    "for file in file_list_dp:\n",
    "    arr_tablas.append(pd.read_csv(os.path.join(path_dwh_sc,file)))"
   ]
  },
  {
   "cell_type": "code",
   "execution_count": 26,
   "metadata": {},
   "outputs": [
    {
     "data": {
      "text/plain": [
       "['dim_curso_perfil.csv',\n",
       " 'dim_fecha.csv',\n",
       " 'dim_razon_social.csv',\n",
       " 'fact_ci_cp_dpt_sc.csv',\n",
       " 'fact_ci_rs_dpt_sc.csv',\n",
       " 'fact_oc_cp_dpt_sc.csv',\n",
       " 'fact_oc_rs_dpt_sc.csv',\n",
       " 'fact_oec_cp_dpt_sc.csv',\n",
       " 'fact_oec_rs_dpt_sc.csv']"
      ]
     },
     "execution_count": 26,
     "metadata": {},
     "output_type": "execute_result"
    }
   ],
   "source": [
    "file_list_dp"
   ]
  },
  {
   "cell_type": "code",
   "execution_count": 27,
   "metadata": {},
   "outputs": [],
   "source": [
    "df_ert = arr_tablas[0]\n",
    "df_ert['area_familia']=df_ert['area_familia'].fillna('sin_area_familia')\n",
    "df_ert['especialidad_sector']=df_ert['especialidad_sector'].fillna('sin_especialidad_sector')\n",
    "df_ert['curso_perfil']=df_ert['curso_perfil'].fillna('curso_perfil')"
   ]
  },
  {
   "cell_type": "code",
   "execution_count": 52,
   "metadata": {},
   "outputs": [
    {
     "data": {
      "text/html": [
       "<div>\n",
       "<style scoped>\n",
       "    .dataframe tbody tr th:only-of-type {\n",
       "        vertical-align: middle;\n",
       "    }\n",
       "\n",
       "    .dataframe tbody tr th {\n",
       "        vertical-align: top;\n",
       "    }\n",
       "\n",
       "    .dataframe thead th {\n",
       "        text-align: right;\n",
       "    }\n",
       "</style>\n",
       "<table border=\"1\" class=\"dataframe\">\n",
       "  <thead>\n",
       "    <tr style=\"text-align: right;\">\n",
       "      <th></th>\n",
       "      <th>id_razon_social</th>\n",
       "      <th>razon_social</th>\n",
       "      <th>estado</th>\n",
       "      <th>tipo_razon_social</th>\n",
       "      <th>fecha_resolucion</th>\n",
       "      <th>canton</th>\n",
       "      <th>provincia</th>\n",
       "    </tr>\n",
       "  </thead>\n",
       "  <tbody>\n",
       "    <tr>\n",
       "      <th>0</th>\n",
       "      <td>0</td>\n",
       "      <td>3cgreat solutions s.a.s.</td>\n",
       "      <td>calificado</td>\n",
       "      <td>operador de capacitación</td>\n",
       "      <td>29-11-2021</td>\n",
       "      <td>latacunga</td>\n",
       "      <td>cotopaxi</td>\n",
       "    </tr>\n",
       "    <tr>\n",
       "      <th>1</th>\n",
       "      <td>1</td>\n",
       "      <td>abalco haro cristian patricio</td>\n",
       "      <td>calificado</td>\n",
       "      <td>operador de capacitación</td>\n",
       "      <td>19-10-2021</td>\n",
       "      <td>quito</td>\n",
       "      <td>pichincha</td>\n",
       "    </tr>\n",
       "    <tr>\n",
       "      <th>2</th>\n",
       "      <td>2</td>\n",
       "      <td>abalco haro cristian patricio</td>\n",
       "      <td>habilitado</td>\n",
       "      <td>organismo evaluador de la conformidad</td>\n",
       "      <td>23-11-2021</td>\n",
       "      <td>guayaquil</td>\n",
       "      <td>guayas</td>\n",
       "    </tr>\n",
       "    <tr>\n",
       "      <th>3</th>\n",
       "      <td>3</td>\n",
       "      <td>abata carrera gloria beatriz</td>\n",
       "      <td>calificado</td>\n",
       "      <td>capacitador independiente</td>\n",
       "      <td>resolución no. mdt-ci-cal-2021-0021</td>\n",
       "      <td>esmeraldas</td>\n",
       "      <td>esmeraldas</td>\n",
       "    </tr>\n",
       "    <tr>\n",
       "      <th>4</th>\n",
       "      <td>4</td>\n",
       "      <td>abkrea ingenieria cia. ltda.</td>\n",
       "      <td>calificado</td>\n",
       "      <td>operador de capacitación</td>\n",
       "      <td>28-03-2021</td>\n",
       "      <td>ambato</td>\n",
       "      <td>tungurahua</td>\n",
       "    </tr>\n",
       "    <tr>\n",
       "      <th>...</th>\n",
       "      <td>...</td>\n",
       "      <td>...</td>\n",
       "      <td>...</td>\n",
       "      <td>...</td>\n",
       "      <td>...</td>\n",
       "      <td>...</td>\n",
       "      <td>...</td>\n",
       "    </tr>\n",
       "    <tr>\n",
       "      <th>2252</th>\n",
       "      <td>2252</td>\n",
       "      <td>zorrilla certuche mario andres</td>\n",
       "      <td>calificado</td>\n",
       "      <td>capacitador independiente</td>\n",
       "      <td>resolución no. mdt-ci-cal-2021-0467</td>\n",
       "      <td>quito</td>\n",
       "      <td>pichincha</td>\n",
       "    </tr>\n",
       "    <tr>\n",
       "      <th>2253</th>\n",
       "      <td>2253</td>\n",
       "      <td>zumarraga proaño bertha oliva</td>\n",
       "      <td>calificado</td>\n",
       "      <td>capacitador independiente</td>\n",
       "      <td>resolución no. mdt-ci-cal-2021-0264</td>\n",
       "      <td>quito</td>\n",
       "      <td>pichincha</td>\n",
       "    </tr>\n",
       "    <tr>\n",
       "      <th>2254</th>\n",
       "      <td>2254</td>\n",
       "      <td>zuriaga anchundia maria jose</td>\n",
       "      <td>calificado</td>\n",
       "      <td>capacitador independiente</td>\n",
       "      <td>resolución no. mdt-ci-cal-2021-0220</td>\n",
       "      <td>quevedo</td>\n",
       "      <td>los rios</td>\n",
       "    </tr>\n",
       "    <tr>\n",
       "      <th>2255</th>\n",
       "      <td>2255</td>\n",
       "      <td>zurita guevara jose roberto</td>\n",
       "      <td>calificado</td>\n",
       "      <td>operador de capacitación</td>\n",
       "      <td>29-07-2022</td>\n",
       "      <td>santo domingo</td>\n",
       "      <td>santo domingo de los tsachilas</td>\n",
       "    </tr>\n",
       "    <tr>\n",
       "      <th>2256</th>\n",
       "      <td>2256</td>\n",
       "      <td>zurita tinta monica yasmin del carmen</td>\n",
       "      <td>calificado</td>\n",
       "      <td>capacitador independiente</td>\n",
       "      <td>resolución no. mdt-ci-cal-2020-0437</td>\n",
       "      <td>rumiñahui</td>\n",
       "      <td>pichincha</td>\n",
       "    </tr>\n",
       "  </tbody>\n",
       "</table>\n",
       "<p>2257 rows × 7 columns</p>\n",
       "</div>"
      ],
      "text/plain": [
       "      id_razon_social                           razon_social      estado  \\\n",
       "0                   0               3cgreat solutions s.a.s.  calificado   \n",
       "1                   1          abalco haro cristian patricio  calificado   \n",
       "2                   2          abalco haro cristian patricio  habilitado   \n",
       "3                   3           abata carrera gloria beatriz  calificado   \n",
       "4                   4           abkrea ingenieria cia. ltda.  calificado   \n",
       "...               ...                                    ...         ...   \n",
       "2252             2252         zorrilla certuche mario andres  calificado   \n",
       "2253             2253          zumarraga proaño bertha oliva  calificado   \n",
       "2254             2254           zuriaga anchundia maria jose  calificado   \n",
       "2255             2255            zurita guevara jose roberto  calificado   \n",
       "2256             2256  zurita tinta monica yasmin del carmen  calificado   \n",
       "\n",
       "                          tipo_razon_social  \\\n",
       "0                  operador de capacitación   \n",
       "1                  operador de capacitación   \n",
       "2     organismo evaluador de la conformidad   \n",
       "3                 capacitador independiente   \n",
       "4                  operador de capacitación   \n",
       "...                                     ...   \n",
       "2252              capacitador independiente   \n",
       "2253              capacitador independiente   \n",
       "2254              capacitador independiente   \n",
       "2255               operador de capacitación   \n",
       "2256              capacitador independiente   \n",
       "\n",
       "                         fecha_resolucion         canton  \\\n",
       "0                              29-11-2021      latacunga   \n",
       "1                              19-10-2021          quito   \n",
       "2                              23-11-2021      guayaquil   \n",
       "3     resolución no. mdt-ci-cal-2021-0021     esmeraldas   \n",
       "4                              28-03-2021         ambato   \n",
       "...                                   ...            ...   \n",
       "2252  resolución no. mdt-ci-cal-2021-0467          quito   \n",
       "2253  resolución no. mdt-ci-cal-2021-0264          quito   \n",
       "2254  resolución no. mdt-ci-cal-2021-0220        quevedo   \n",
       "2255                           29-07-2022  santo domingo   \n",
       "2256  resolución no. mdt-ci-cal-2020-0437      rumiñahui   \n",
       "\n",
       "                           provincia  \n",
       "0                           cotopaxi  \n",
       "1                          pichincha  \n",
       "2                             guayas  \n",
       "3                         esmeraldas  \n",
       "4                         tungurahua  \n",
       "...                              ...  \n",
       "2252                       pichincha  \n",
       "2253                       pichincha  \n",
       "2254                        los rios  \n",
       "2255  santo domingo de los tsachilas  \n",
       "2256                       pichincha  \n",
       "\n",
       "[2257 rows x 7 columns]"
      ]
     },
     "execution_count": 52,
     "metadata": {},
     "output_type": "execute_result"
    }
   ],
   "source": [
    "arr_tablas[2]"
   ]
  },
  {
   "cell_type": "code",
   "execution_count": 29,
   "metadata": {},
   "outputs": [
    {
     "name": "stderr",
     "output_type": "stream",
     "text": [
      "100%|██████████| 11149/11149 [00:07<00:00, 1456.18it/s]\n",
      "100%|██████████| 2144/2144 [00:01<00:00, 1441.87it/s]\n",
      "100%|██████████| 2257/2257 [00:01<00:00, 1365.83it/s]\n"
     ]
    }
   ],
   "source": [
    "# Conexión con MySQL\n",
    "mydb = mysql.connector.connect(\n",
    "    host='localhost',\n",
    "    user='root',\n",
    "    passwd='KappaTao1233'\n",
    ")\n",
    "\n",
    "mycursor = mydb.cursor()\n",
    "# Creación de la base de datos¶\n",
    "mycursor.execute(\"DROP DATABASE IF EXISTS dwh_setec\")\n",
    "mycursor.execute(\"CREATE DATABASE dwh_setec\")\n",
    "mycursor.execute(\"USE dwh_setec\")\n",
    "## DIMENSIÓN CURSO PERFIL\n",
    "mycursor.execute(\"DROP TABLE IF EXISTS dim_curso_perfil\")\n",
    "mycursor.execute('''CREATE TABLE dim_curso_perfil (\n",
    "id_curso_perfil INT PRIMARY KEY,\n",
    "tipo VARCHAR(63) NOT NULL,\n",
    "area_familia VARCHAR(255) NOT NULL,\n",
    "especialidad_sector VARCHAR(255) NOT NULL,\n",
    "curso_perfil VARCHAR(255) NOT NULL,\n",
    "modalidad VARCHAR(255) NOT NULL,\n",
    "carga_horaria INT NOT NULL,\n",
    "costo FLOAT NOT NULL\n",
    ")''')\n",
    "sql_formula = 'INSERT INTO dim_curso_perfil ( id_curso_perfil, tipo, area_familia, especialidad_sector, curso_perfil, modalidad, carga_horaria, costo) VALUES (%s,%s,%s,%s,%s,%s,%s,%s)'\n",
    "for row in tqdm(df_ert.values):\n",
    "    mycursor.execute(sql_formula,tuple(row))\n",
    "    mydb.commit()\n",
    "## DIMENSION FECHA\n",
    "mycursor.execute(\"DROP TABLE IF EXISTS dim_fecha\")\n",
    "mycursor.execute('''CREATE TABLE dim_fecha (\n",
    "id_fecha INT PRIMARY KEY,\n",
    "fecha VARCHAR(63) NOT NULL,\n",
    "dia INT NOT NULL,\n",
    "mes INT NOT NULL,\n",
    "anio INT NOT NULL\n",
    ")''')\n",
    "sql_formula = 'INSERT INTO dim_fecha (id_fecha,fecha, dia, mes, anio) VALUES (%s,%s,%s,%s,%s)'\n",
    "for row in tqdm(arr_tablas[1].values):\n",
    "    mycursor.execute(sql_formula,tuple(row))\n",
    "    mydb.commit()\n",
    "## DIMENSIÓN RAZÓN SOCIAL\n",
    "mycursor.execute(\"DROP TABLE IF EXISTS dim_razon_social\")\n",
    "mycursor.execute('''CREATE TABLE dim_razon_social (\n",
    "id_razon_social INT PRIMARY KEY,\n",
    "razon_social VARCHAR(255) NOT NULL,\n",
    "estado VARCHAR(63) NOT NULL,\n",
    "tipo_razon_social VARCHAR(255) NOT NULL,\n",
    "fecha_resolucion VARCHAR(63) NOT NULL,\n",
    "canton VARCHAR(63) NOT NULL,\n",
    "provincia VARCHAR(63) NOT NULL\n",
    ")''')\n",
    "sql_formula = 'INSERT INTO dim_razon_social ( id_razon_social, razon_social,estado, tipo_razon_social,  fecha_resolucion, canton, provincia) VALUES (%s,%s,%s,%s,%s,%s,%s)'\n",
    "for row in tqdm(arr_tablas[2].values):\n",
    "    mycursor.execute(sql_formula,tuple(row))\n",
    "    mydb.commit()"
   ]
  },
  {
   "cell_type": "code",
   "execution_count": 41,
   "metadata": {},
   "outputs": [
    {
     "name": "stdout",
     "output_type": "stream",
     "text": [
      "work\n"
     ]
    },
    {
     "name": "stderr",
     "output_type": "stream",
     "text": [
      "100%|██████████| 1379/1379 [00:00<00:00, 1392.72it/s]\n"
     ]
    }
   ],
   "source": [
    "# DATAMART CI\n",
    "### CI CP\n",
    "mycursor.execute(\"DROP TABLE IF EXISTS fact_ci_cp\")\n",
    "mycursor.execute('''CREATE TABLE fact_ci_cp (\n",
    "id_fact_ci_cp INT PRIMARY KEY,\n",
    "id_razon_social INT NOT NULL,\n",
    "id_curso_perfil INT NOT NULL,\n",
    "id_fecha INT NOT NULL,\n",
    "num_cap INT NOT NULL,\n",
    "prediction_num_cap INT NOT NULL,\n",
    "total_horas INT NOT NULL,\n",
    "prediction_total_horas INT NOT NULL,\n",
    "total_ganancias FLOAT NOT NULL,\n",
    "prediction_total_ganancias FLOAT NOT NULL\n",
    ")''')\n",
    "sql_formula = '''INSERT INTO fact_ci_cp (id_fact_ci_cp,id_razon_social,id_curso_perfil,id_fecha,num_cap,prediction_num_cap,total_horas,prediction_total_horas,total_ganancias,prediction_total_ganancias) \n",
    "VALUES (%s,%s,%s,%s,%s,%s,%s,%s,%s,%s)'''\n",
    "print('work')\n",
    "for row in tqdm(arr_tablas[3].astype('str').values):\n",
    "    mycursor.execute(sql_formula,tuple(row))\n",
    "    mydb.commit()"
   ]
  },
  {
   "cell_type": "code",
   "execution_count": 43,
   "metadata": {},
   "outputs": [
    {
     "name": "stderr",
     "output_type": "stream",
     "text": [
      "100%|██████████| 883/883 [00:00<00:00, 1350.55it/s]\n"
     ]
    }
   ],
   "source": [
    "\n",
    "\n",
    "### CI RS\n",
    "mycursor.execute(\"DROP TABLE IF EXISTS fact_ci_rs\")\n",
    "mycursor.execute('''CREATE TABLE fact_ci_rs (\n",
    "id_fact_ci_rs INT PRIMARY KEY,\n",
    "id_razon_social INT NOT NULL,\n",
    "id_fecha INT NOT NULL,\n",
    "total_cursos INT NOT NULL,\n",
    "prediction_total_cursos INT NOT NULL,\n",
    "volumen_cap INT NOT NULL,\n",
    "prediction_volumen_cap INT NOT NULL,\n",
    "volumen_horas INT NOT NULL,\n",
    "prediction_volumen_horas INT NOT NULL,\n",
    "volumen_ganancias FLOAT NOT NULL,\n",
    "prediction_volumen_ganancias FLOAT NOT NULL\n",
    ")''')\n",
    "sql_formula = '''INSERT INTO fact_ci_rs (id_fact_ci_rs,\n",
    "id_razon_social,\n",
    "id_fecha,\n",
    "total_cursos,\n",
    "prediction_total_cursos,\n",
    "volumen_cap,\n",
    "prediction_volumen_cap,\n",
    "volumen_horas,\n",
    "prediction_volumen_horas,\n",
    "volumen_ganancias,\n",
    "prediction_volumen_ganancias)\n",
    "VALUES (%s,%s,%s,%s,%s,%s,%s,%s,%s,%s,%s)'''\n",
    "for row in tqdm(arr_tablas[4].astype('str').values):\n",
    "    mycursor.execute(sql_formula,tuple(row))\n",
    "    mydb.commit()"
   ]
  },
  {
   "cell_type": "code",
   "execution_count": 45,
   "metadata": {},
   "outputs": [
    {
     "name": "stderr",
     "output_type": "stream",
     "text": [
      "100%|██████████| 2201/2201 [00:01<00:00, 1399.40it/s]\n"
     ]
    }
   ],
   "source": [
    "\n",
    "## OC\n",
    "### OC CP\n",
    "mycursor.execute(\"DROP TABLE IF EXISTS fact_oc_cp\")\n",
    "mycursor.execute('''CREATE TABLE fact_oc_cp (\n",
    "id_fact_oc_cp INT PRIMARY KEY,\n",
    "id_razon_social INT NOT NULL,\n",
    "id_curso_perfil INT NOT NULL,\n",
    "id_fecha INT NOT NULL,\n",
    "num_cap_cer INT NOT NULL,\n",
    "prediction_num_cap_cer INT NOT NULL,\n",
    "total_horas INT NOT NULL,\n",
    "prediction_total_horas INT NOT NULL,\n",
    "total_ganancias FLOAT NOT NULL,\n",
    "prediction_total_ganancias FLOAT NOT NULL,\n",
    "porcentaje_asistencia FLOAT NOT NULL,\n",
    "prediction_porcentaje_asistencia FLOAT NOT NULL\n",
    ")''')\n",
    "sql_formula = '''INSERT INTO fact_oc_cp (id_fact_oc_cp,\n",
    "id_razon_social,\n",
    "id_curso_perfil,\n",
    "id_fecha,\n",
    "num_cap_cer,\n",
    "prediction_num_cap_cer,\n",
    "total_horas,\n",
    "prediction_total_horas,\n",
    "total_ganancias,\n",
    "prediction_total_ganancias,\n",
    "porcentaje_asistencia,\n",
    "prediction_porcentaje_asistencia)\n",
    "VALUES (%s,%s,%s,%s,%s,%s,%s,%s,%s,%s,%s,%s)'''\n",
    "for row in tqdm(arr_tablas[5].astype('str').values):\n",
    "    mycursor.execute(sql_formula,tuple(row))\n",
    "    mydb.commit()"
   ]
  },
  {
   "cell_type": "code",
   "execution_count": 48,
   "metadata": {},
   "outputs": [
    {
     "name": "stderr",
     "output_type": "stream",
     "text": [
      "100%|██████████| 396/396 [00:00<00:00, 1337.74it/s]\n"
     ]
    }
   ],
   "source": [
    "\n",
    "## OC RS\n",
    "mycursor.execute(\"DROP TABLE IF EXISTS fact_oc_rs\")\n",
    "mycursor.execute('''CREATE TABLE fact_oc_rs (\n",
    "id_fact_oc_rs INT PRIMARY KEY,\n",
    "id_razon_social INT NOT NULL,\n",
    "id_fecha INT NOT NULL,\n",
    "total_cursos_perfiles INT NOT NULL,\n",
    "prediction_total_cursos INT NOT NULL,\n",
    "volumen_cap_cer INT NOT NULL,\n",
    "prediction_volumen_cap_cer INT NOT NULL,\n",
    "volumen_horas INT NOT NULL,\n",
    "prediction_volumen_horas INT NOT NULL,\n",
    "volumen_ganancias FLOAT NOT NULL,\n",
    "prediction_volumen_ganancias FLOAT NOT NULL,\n",
    "volumen_porcentaje_asistencia FLOAT NOT NULL,\n",
    "prediction_volumen_porcentaje_asistencia FLOAT NOT NULL\n",
    ")''')\n",
    "sql_formula = '''INSERT INTO fact_oc_rs (id_fact_oc_rs,\n",
    "id_razon_social,\n",
    "id_fecha,\n",
    "total_cursos_perfiles,\n",
    "prediction_total_cursos,\n",
    "volumen_cap_cer,\n",
    "prediction_volumen_cap_cer,\n",
    "volumen_horas,\n",
    "prediction_volumen_horas,\n",
    "volumen_ganancias,\n",
    "prediction_volumen_ganancias,\n",
    "volumen_porcentaje_asistencia,\n",
    "prediction_volumen_porcentaje_asistencia)\n",
    "VALUES (%s,%s,%s,%s,%s,%s,%s,%s,%s,%s,%s,%s,%s)'''\n",
    "for row in tqdm(arr_tablas[6].astype('str').values):\n",
    "    mycursor.execute(sql_formula,tuple(row))\n",
    "    mydb.commit()"
   ]
  },
  {
   "cell_type": "code",
   "execution_count": 49,
   "metadata": {},
   "outputs": [
    {
     "name": "stderr",
     "output_type": "stream",
     "text": [
      "100%|██████████| 18399/18399 [00:12<00:00, 1442.73it/s]\n"
     ]
    }
   ],
   "source": [
    "## OEC\n",
    "### OEC CP\n",
    "mycursor.execute(\"DROP TABLE IF EXISTS fact_oec_cp\")\n",
    "mycursor.execute('''CREATE TABLE fact_oec_cp (\n",
    "id_fact_oec_cp INT PRIMARY KEY,\n",
    "id_razon_social INT NOT NULL,\n",
    "id_curso_perfil INT NOT NULL,\n",
    "id_fecha INT NOT NULL,\n",
    "num_cer INT NOT NULL,\n",
    "prediction_num_cer INT NOT NULL,\n",
    "total_horas INT NOT NULL,\n",
    "prediction_total_horas INT NOT NULL,\n",
    "total_ganancias FLOAT NOT NULL,\n",
    "prediction_total_ganancias FLOAT NOT NULL,\n",
    "porcentaje_asistencia FLOAT NOT NULL,\n",
    "prediction_porcentaje_asistencia FLOAT NOT NULL\n",
    ")''')\n",
    "sql_formula = '''INSERT INTO fact_oec_cp (id_fact_oec_cp,\n",
    "id_razon_social,\n",
    "id_curso_perfil,\n",
    "id_fecha,\n",
    "num_cer,\n",
    "prediction_num_cer,\n",
    "total_horas,\n",
    "prediction_total_horas,\n",
    "total_ganancias,\n",
    "prediction_total_ganancias,\n",
    "porcentaje_asistencia,\n",
    "prediction_porcentaje_asistencia)\n",
    "VALUES (%s,%s,%s,%s,%s,%s,%s,%s,%s,%s,%s,%s)'''\n",
    "for row in tqdm(arr_tablas[7].astype('str').values):\n",
    "    mycursor.execute(sql_formula,tuple(row))\n",
    "    mydb.commit()"
   ]
  },
  {
   "cell_type": "code",
   "execution_count": 50,
   "metadata": {},
   "outputs": [
    {
     "name": "stdout",
     "output_type": "stream",
     "text": [
      "id_fact_oec_rs\n",
      "id_razon_social\n",
      "id_fecha\n",
      "total_perfiles\n",
      "prediction_total_perfiles\n",
      "volumen_cer\n",
      "prediction_volumen_cer\n",
      "volumen_horas\n",
      "prediction_volumen_horas\n",
      "volumen_ganancias\n",
      "prediction_volumen_ganancias\n",
      "volumen_porcentaje_asistencia\n",
      "prediction_volumen_porcentaje_asistencia\n"
     ]
    },
    {
     "name": "stderr",
     "output_type": "stream",
     "text": [
      "100%|██████████| 12839/12839 [00:08<00:00, 1428.62it/s]\n"
     ]
    }
   ],
   "source": [
    "\n",
    "\n",
    "### OEC RS\n",
    "for val in arr_tablas[8].columns:\n",
    "    print(val)\n",
    "mycursor.execute(\"DROP TABLE IF EXISTS fact_oec_rs\")\n",
    "mycursor.execute('''CREATE TABLE fact_oec_rs (\n",
    "id_fact_oec_rs INT PRIMARY KEY,\n",
    "id_razon_social INT NOT NULL,\n",
    "id_fecha INT NOT NULL,\n",
    "total_perfiles INT NOT NULL,\n",
    "prediction_total_perfiles INT NOT NULL,\n",
    "volumen_cer INT NOT NULL,\n",
    "prediction_volumen_cer INT NOT NULL,\n",
    "volumen_horas INT NOT NULL,\n",
    "prediction_volumen_horas INT NOT NULL,\n",
    "volumen_ganancias FLOAT NOT NULL,\n",
    "prediction_volumen_ganancias FLOAT NOT NULL,\n",
    "volumen_porcentaje_asistencia FLOAT NOT NULL,\n",
    "prediction_volumen_porcentaje_asistencia FLOAT NOT NULL\n",
    ")''')\n",
    "sql_formula = '''INSERT INTO fact_oec_rs (id_fact_oec_rs,\n",
    "id_razon_social,\n",
    "id_fecha,\n",
    "total_perfiles,\n",
    "prediction_total_perfiles,\n",
    "volumen_cer,\n",
    "prediction_volumen_cer,\n",
    "volumen_horas,\n",
    "prediction_volumen_horas,\n",
    "volumen_ganancias,\n",
    "prediction_volumen_ganancias,\n",
    "volumen_porcentaje_asistencia,\n",
    "prediction_volumen_porcentaje_asistencia)\n",
    "VALUES (%s,%s,%s,%s,%s,%s,%s,%s,%s,%s,%s,%s,%s)'''\n",
    "for row in tqdm(arr_tablas[8].astype('str').values):\n",
    "    mycursor.execute(sql_formula,tuple(row))\n",
    "    mydb.commit()"
   ]
  },
  {
   "cell_type": "code",
   "execution_count": null,
   "metadata": {},
   "outputs": [],
   "source": []
  },
  {
   "cell_type": "code",
   "execution_count": 51,
   "metadata": {},
   "outputs": [],
   "source": [
    "\n",
    "## CREAR CLAVES FORANEAS OC\n",
    "### FK dim fecha\n",
    "mycursor.execute(''' \n",
    "ALTER TABLE fact_oc_cp\n",
    "ADD FOREIGN KEY (id_fecha) REFERENCES dim_fecha(id_fecha)\n",
    "''')\n",
    "mycursor.execute(''' \n",
    "ALTER TABLE fact_oc_rs\n",
    "ADD FOREIGN KEY (id_fecha) REFERENCES dim_fecha(id_fecha)\n",
    "''')\n",
    "### FK dim razon social\n",
    "mycursor.execute(''' \n",
    "ALTER TABLE fact_oc_cp\n",
    "ADD FOREIGN KEY (id_razon_social) REFERENCES dim_razon_social(id_razon_social)\n",
    "''')\n",
    "mycursor.execute(''' \n",
    "ALTER TABLE fact_oc_rs\n",
    "ADD FOREIGN KEY (id_razon_social) REFERENCES dim_razon_social(id_razon_social)\n",
    "''')\n",
    "### FK dim curso perfil\n",
    "mycursor.execute(''' \n",
    "ALTER TABLE fact_oc_cp\n",
    "ADD FOREIGN KEY (id_curso_perfil) REFERENCES dim_curso_perfil(id_curso_perfil)\n",
    "''')\n",
    "## CREAR CLAVES FORANEAS OEC\n",
    "### FK dim fecha\n",
    "mycursor.execute(''' \n",
    "ALTER TABLE fact_oec_cp\n",
    "ADD FOREIGN KEY (id_fecha) REFERENCES dim_fecha(id_fecha)\n",
    "''')\n",
    "mycursor.execute(''' \n",
    "ALTER TABLE fact_oec_rs\n",
    "ADD FOREIGN KEY (id_fecha) REFERENCES dim_fecha(id_fecha)\n",
    "''')\n",
    "### FK dim razon social\n",
    "mycursor.execute(''' \n",
    "ALTER TABLE fact_oec_cp\n",
    "ADD FOREIGN KEY (id_razon_social) REFERENCES dim_razon_social(id_razon_social)\n",
    "''')\n",
    "mycursor.execute(''' \n",
    "ALTER TABLE fact_oec_rs\n",
    "ADD FOREIGN KEY (id_razon_social) REFERENCES dim_razon_social(id_razon_social)\n",
    "''')\n",
    "### FK dim curso perfil\n",
    "mycursor.execute(''' \n",
    "ALTER TABLE fact_oec_cp\n",
    "ADD FOREIGN KEY (id_curso_perfil) REFERENCES dim_curso_perfil(id_curso_perfil)\n",
    "''')\n",
    "## CREAR CLAVES FORANEAS CI\n",
    "### FK dim fecha\n",
    "mycursor.execute(''' \n",
    "ALTER TABLE fact_ci_cp\n",
    "ADD FOREIGN KEY (id_fecha) REFERENCES dim_fecha(id_fecha)\n",
    "''')\n",
    "mycursor.execute(''' \n",
    "ALTER TABLE fact_ci_rs\n",
    "ADD FOREIGN KEY (id_fecha) REFERENCES dim_fecha(id_fecha)\n",
    "''')\n",
    "### FK dim razon social\n",
    "mycursor.execute(''' \n",
    "ALTER TABLE fact_ci_cp\n",
    "ADD FOREIGN KEY (id_razon_social) REFERENCES dim_razon_social(id_razon_social)\n",
    "''')\n",
    "mycursor.execute(''' \n",
    "ALTER TABLE fact_ci_rs\n",
    "ADD FOREIGN KEY (id_razon_social) REFERENCES dim_razon_social(id_razon_social)\n",
    "''')\n",
    "### FK dim curso perfil\n",
    "mycursor.execute(''' \n",
    "ALTER TABLE fact_ci_cp\n",
    "ADD FOREIGN KEY (id_curso_perfil) REFERENCES dim_curso_perfil(id_curso_perfil)\n",
    "''')"
   ]
  },
  {
   "cell_type": "code",
   "execution_count": null,
   "metadata": {},
   "outputs": [],
   "source": []
  }
 ],
 "metadata": {
  "kernelspec": {
   "display_name": "base",
   "language": "python",
   "name": "python3"
  },
  "language_info": {
   "codemirror_mode": {
    "name": "ipython",
    "version": 3
   },
   "file_extension": ".py",
   "mimetype": "text/x-python",
   "name": "python",
   "nbconvert_exporter": "python",
   "pygments_lexer": "ipython3",
   "version": "3.9.16"
  },
  "vscode": {
   "interpreter": {
    "hash": "857d8669872199a61137514e88186641c3493fcbfa068d2d6eeeca0b699193af"
   }
  }
 },
 "nbformat": 4,
 "nbformat_minor": 4
}
