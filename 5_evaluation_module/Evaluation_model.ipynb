{
 "cells": [
  {
   "cell_type": "markdown",
   "metadata": {},
   "source": [
    "# Modelo de Machine Learning"
   ]
  },
  {
   "cell_type": "code",
   "execution_count": 35,
   "metadata": {},
   "outputs": [],
   "source": [
    "import numpy as np\n",
    "import pandas as pd\n",
    "import os\n",
    "import math\n",
    "from random import randint"
   ]
  },
  {
   "cell_type": "markdown",
   "metadata": {},
   "source": [
    "# Ruta de archivos"
   ]
  },
  {
   "cell_type": "code",
   "execution_count": 101,
   "metadata": {},
   "outputs": [],
   "source": [
    "path_train = os.path.join(os.getcwd(), '..', '4_modeling_module',\"TRAIN_DATA\")\n",
    "path_dwh = os.path.join(os.getcwd(), '..', '3_data_preprocesing_module',\"DATAWAREHOUSE\")\n",
    "path_scoring_db = os.path.join(os.getcwd(),\"DATABASE_SCORING\")"
   ]
  },
  {
   "cell_type": "code",
   "execution_count": 76,
   "metadata": {},
   "outputs": [],
   "source": [
    "df_razon_social = pd.read_csv(os.path.join(path_dwh,'dim_razon_social.csv'))\n",
    "df_fecha = pd.read_csv(os.path.join(path_dwh,'dim_fecha.csv'))\n",
    "df_curso_perfil = pd.read_csv(os.path.join(path_dwh,'dim_curso_perfil.csv'))"
   ]
  },
  {
   "cell_type": "code",
   "execution_count": 149,
   "metadata": {},
   "outputs": [],
   "source": [
    "df_ci_cp = pd.read_csv(os.path.join(path_dwh,'fact_ci_cp.csv'))\n",
    "df_ci_rs = pd.read_csv(os.path.join(path_dwh,'fact_ci_rs.csv'))\n",
    "df_oc_cp = pd.read_csv(os.path.join(path_dwh,'fact_oc_cp.csv'))\n",
    "df_oc_rs = pd.read_csv(os.path.join(path_dwh,'fact_oc_rs.csv'))\n",
    "df_oec_cp = pd.read_csv(os.path.join(path_dwh,'fact_oec_cp.csv'))\n",
    "df_oec_rs = pd.read_csv(os.path.join(path_dwh,'fact_oec_rs.csv'))"
   ]
  },
  {
   "cell_type": "code",
   "execution_count": 26,
   "metadata": {},
   "outputs": [],
   "source": [
    "df_fecha = pd.read_csv(os.path.join(path_scoring,'dim_fecha.csv'))"
   ]
  },
  {
   "cell_type": "code",
   "execution_count": 27,
   "metadata": {},
   "outputs": [
    {
     "name": "stdout",
     "output_type": "stream",
     "text": [
      "<class 'pandas.core.frame.DataFrame'>\n",
      "RangeIndex: 2142 entries, 0 to 2141\n",
      "Data columns (total 5 columns):\n",
      " #   Column    Non-Null Count  Dtype \n",
      "---  ------    --------------  ----- \n",
      " 0   id_fecha  2142 non-null   int64 \n",
      " 1   fecha     2142 non-null   object\n",
      " 2   dia       2142 non-null   int64 \n",
      " 3   mes       2142 non-null   int64 \n",
      " 4   anio      2142 non-null   int64 \n",
      "dtypes: int64(4), object(1)\n",
      "memory usage: 83.8+ KB\n"
     ]
    }
   ],
   "source": [
    "df_fecha.info()"
   ]
  },
  {
   "cell_type": "code",
   "execution_count": 29,
   "metadata": {},
   "outputs": [
    {
     "data": {
      "text/html": [
       "<div>\n",
       "<style scoped>\n",
       "    .dataframe tbody tr th:only-of-type {\n",
       "        vertical-align: middle;\n",
       "    }\n",
       "\n",
       "    .dataframe tbody tr th {\n",
       "        vertical-align: top;\n",
       "    }\n",
       "\n",
       "    .dataframe thead th {\n",
       "        text-align: right;\n",
       "    }\n",
       "</style>\n",
       "<table border=\"1\" class=\"dataframe\">\n",
       "  <thead>\n",
       "    <tr style=\"text-align: right;\">\n",
       "      <th></th>\n",
       "      <th>id_fecha</th>\n",
       "      <th>fecha</th>\n",
       "      <th>dia</th>\n",
       "      <th>mes</th>\n",
       "      <th>anio</th>\n",
       "    </tr>\n",
       "  </thead>\n",
       "  <tbody>\n",
       "    <tr>\n",
       "      <th>2137</th>\n",
       "      <td>2137</td>\n",
       "      <td>31-10-2017</td>\n",
       "      <td>31</td>\n",
       "      <td>10</td>\n",
       "      <td>2017</td>\n",
       "    </tr>\n",
       "    <tr>\n",
       "      <th>2138</th>\n",
       "      <td>2138</td>\n",
       "      <td>31-10-2018</td>\n",
       "      <td>31</td>\n",
       "      <td>10</td>\n",
       "      <td>2018</td>\n",
       "    </tr>\n",
       "    <tr>\n",
       "      <th>2139</th>\n",
       "      <td>2139</td>\n",
       "      <td>31-10-2019</td>\n",
       "      <td>31</td>\n",
       "      <td>10</td>\n",
       "      <td>2019</td>\n",
       "    </tr>\n",
       "    <tr>\n",
       "      <th>2140</th>\n",
       "      <td>2140</td>\n",
       "      <td>31-10-2020</td>\n",
       "      <td>31</td>\n",
       "      <td>10</td>\n",
       "      <td>2020</td>\n",
       "    </tr>\n",
       "    <tr>\n",
       "      <th>2141</th>\n",
       "      <td>2141</td>\n",
       "      <td>31-10-2021</td>\n",
       "      <td>31</td>\n",
       "      <td>10</td>\n",
       "      <td>2021</td>\n",
       "    </tr>\n",
       "  </tbody>\n",
       "</table>\n",
       "</div>"
      ],
      "text/plain": [
       "      id_fecha       fecha  dia  mes  anio\n",
       "2137      2137  31-10-2017   31   10  2017\n",
       "2138      2138  31-10-2018   31   10  2018\n",
       "2139      2139  31-10-2019   31   10  2019\n",
       "2140      2140  31-10-2020   31   10  2020\n",
       "2141      2141  31-10-2021   31   10  2021"
      ]
     },
     "execution_count": 29,
     "metadata": {},
     "output_type": "execute_result"
    }
   ],
   "source": [
    "df_fecha.tail()"
   ]
  },
  {
   "cell_type": "markdown",
   "metadata": {},
   "source": [
    "# Generación de datos ficticios"
   ]
  },
  {
   "cell_type": "markdown",
   "metadata": {},
   "source": [
    "Generación de nuevas fechas"
   ]
  },
  {
   "cell_type": "code",
   "execution_count": 90,
   "metadata": {},
   "outputs": [],
   "source": [
    "nueva_fecha = [\n",
    "    [2142,'31-01-2023',31,1,2023],\n",
    "    [2143,'28-02-2023',28,2,2023]\n",
    "]"
   ]
  },
  {
   "cell_type": "code",
   "execution_count": 91,
   "metadata": {},
   "outputs": [],
   "source": [
    "df_new_fecha = pd.DataFrame(data=nueva_fecha,columns=df_fecha.columns)"
   ]
  },
  {
   "cell_type": "code",
   "execution_count": 92,
   "metadata": {},
   "outputs": [],
   "source": [
    "df_fecha = pd.concat([df_fecha,df_new_fecha],ignore_index=True)"
   ]
  },
  {
   "cell_type": "markdown",
   "metadata": {},
   "source": [
    "## CI CP"
   ]
  },
  {
   "cell_type": "code",
   "execution_count": 119,
   "metadata": {},
   "outputs": [],
   "source": [
    "\n",
    "new_data_ci_cp = [] \n",
    "size_ci_cp = df_ci_cp.shape[0]\n",
    "size_new_fecha =df_new_fecha.shape[0]\n",
    "for i in range(300):\n",
    "    rd_idx = randint(0,size_ci_cp-1)\n",
    "    rd_f_idx = randint(0,size_new_fecha-1)\n",
    "    id_rs_rd = df_ci_cp['id_razon_social'].iloc[rd_idx]\n",
    "    id_cp_rd = df_ci_cp['id_curso_perfil'].iloc[rd_idx]\n",
    "    id_fecha_rd = df_new_fecha['id_fecha'].iloc[rd_f_idx]\n",
    "    rd_num_cap = 0\n",
    "    rd_total_horas = 0\n",
    "    rd_total_ganancias = 0\n",
    "    new_data_ci_cp.append([id_rs_rd,id_cp_rd,id_fecha_rd,rd_num_cap,rd_total_horas,rd_total_ganancias])\n",
    "    \n",
    "   \n",
    "df_new_ci_cp = pd.DataFrame(data=new_data_ci_cp,columns=['id_razon_social',\t'id_curso_perfil',\t'id_fecha',\t'num_cap',\t'total_horas',\t'total_ganancias'])\n",
    "    "
   ]
  },
  {
   "cell_type": "code",
   "execution_count": 120,
   "metadata": {},
   "outputs": [],
   "source": [
    "df_new_ci_cp = df_new_ci_cp.drop_duplicates()"
   ]
  },
  {
   "cell_type": "code",
   "execution_count": 121,
   "metadata": {},
   "outputs": [],
   "source": [
    "df_new_ci_cp['id_fact_ci_cp'] = [x for x in range(df_ci_cp.shape[0],df_ci_cp.shape[0]+df_new_ci_cp.shape[0])]"
   ]
  },
  {
   "cell_type": "code",
   "execution_count": 122,
   "metadata": {},
   "outputs": [],
   "source": [
    "df_new_ci_cp.insert(0, 'id_fact_ci_cp', df_new_ci_cp.pop('id_fact_ci_cp'))"
   ]
  },
  {
   "cell_type": "code",
   "execution_count": 132,
   "metadata": {},
   "outputs": [],
   "source": [
    "df_ci_cp = pd.concat([df_ci_cp,df_new_ci_cp],ignore_index=True)"
   ]
  },
  {
   "cell_type": "code",
   "execution_count": 125,
   "metadata": {},
   "outputs": [],
   "source": [
    "data_ci_cp = pd.merge(data_ci_cp,df_curso_perfil,on='id_curso_perfil',how='inner')\n",
    "data_ci_cp = pd.merge(data_ci_cp,df_fecha,on='id_fecha',how='inner')\n",
    "data_ci_cp = pd.merge(data_ci_cp,df_razon_social,on='id_razon_social',how='inner')"
   ]
  },
  {
   "cell_type": "code",
   "execution_count": 126,
   "metadata": {},
   "outputs": [],
   "source": [
    "data_ci_cp = data_ci_cp.drop(['num_cap','total_horas','total_ganancias'],axis=1)"
   ]
  },
  {
   "cell_type": "code",
   "execution_count": 128,
   "metadata": {},
   "outputs": [],
   "source": [
    "data_ci_cp.to_csv(os.path.join(path_scoring_db,'data_ci_cp_sc.csv'),index=False)"
   ]
  },
  {
   "cell_type": "markdown",
   "metadata": {
    "tags": []
   },
   "source": [
    "## CI RS"
   ]
  },
  {
   "cell_type": "code",
   "execution_count": 158,
   "metadata": {},
   "outputs": [],
   "source": [
    "df_new_ci_rs = df_new_ci_cp.groupby(['id_razon_social','id_fecha']).count().reset_index()[['id_razon_social','id_fecha']]"
   ]
  },
  {
   "cell_type": "code",
   "execution_count": 159,
   "metadata": {},
   "outputs": [],
   "source": [
    "df_new_ci_rs['id_fact_ci_rs'] = [x for x in range(df_ci_rs.shape[0],df_ci_rs.shape[0]+df_new_ci_rs.shape[0])]\n",
    "df_new_ci_rs.insert(0, 'id_fact_ci_rs', df_new_ci_rs.pop('id_fact_ci_rs'))\n",
    "data_ci_rs = pd.concat([df_ci_rs,df_new_ci_rs],ignore_index=True)"
   ]
  },
  {
   "cell_type": "code",
   "execution_count": 160,
   "metadata": {},
   "outputs": [],
   "source": [
    "data_ci_rs = data_ci_rs.drop(['volumen_cap','volumen_horas','volumen_ganancias','total_cursos'],axis=1)"
   ]
  },
  {
   "cell_type": "code",
   "execution_count": 162,
   "metadata": {},
   "outputs": [],
   "source": [
    "data_ci_rs = pd.merge(data_ci_rs,df_fecha,on='id_fecha',how='inner')\n",
    "data_ci_rs = pd.merge(data_ci_rs,df_razon_social,on='id_razon_social',how='inner')"
   ]
  },
  {
   "cell_type": "code",
   "execution_count": 176,
   "metadata": {},
   "outputs": [],
   "source": [
    "data_ci_rs.to_csv(os.path.join(path_scoring_db,'data_ci_rs_sc.csv'),index=False)"
   ]
  },
  {
   "cell_type": "markdown",
   "metadata": {},
   "source": [
    "## OC CP "
   ]
  },
  {
   "cell_type": "code",
   "execution_count": 189,
   "metadata": {},
   "outputs": [],
   "source": [
    "new_data_oc_cp = [] \n",
    "size_oc_cp = df_oc_cp.shape[0]\n",
    "for i in range(300):\n",
    "    rd_idx = randint(0,size_ci_cp-1)\n",
    "    rd_f_idx = randint(0,size_new_fecha-1)\n",
    "    id_rs_rd = df_oc_cp['id_razon_social'].iloc[rd_idx]\n",
    "    id_cp_rd = df_oc_cp['id_curso_perfil'].iloc[rd_idx]\n",
    "    id_fecha_rd = df_new_fecha['id_fecha'].iloc[rd_f_idx]\n",
    "    new_data_oc_cp.append([id_rs_rd,id_cp_rd,id_fecha_rd])\n",
    "    \n",
    "   \n",
    "df_new_oc_cp = pd.DataFrame(data=new_data_oc_cp,columns=['id_razon_social',\t'id_curso_perfil',\t'id_fecha'])\n",
    "    "
   ]
  },
  {
   "cell_type": "code",
   "execution_count": 190,
   "metadata": {},
   "outputs": [],
   "source": [
    "df_new_oc_cp = df_new_oc_cp.drop_duplicates()\n",
    "df_new_oc_cp['id_fact_oc_cp'] = [x for x in range(df_oc_cp.shape[0],df_oc_cp.shape[0]+df_new_oc_cp.shape[0])]\n",
    "df_new_oc_cp.insert(0, 'id_fact_oc_cp', df_new_oc_cp.pop('id_fact_oc_cp'))\n",
    "data_oc_cp = pd.concat([df_oc_cp,df_new_oc_cp],ignore_index=True)"
   ]
  },
  {
   "cell_type": "code",
   "execution_count": 191,
   "metadata": {},
   "outputs": [],
   "source": [
    "data_oc_cp.dropna(axis='columns',inplace=True)"
   ]
  },
  {
   "cell_type": "code",
   "execution_count": 192,
   "metadata": {},
   "outputs": [],
   "source": [
    "data_oc_cp = pd.merge(data_oc_cp,df_curso_perfil,on='id_curso_perfil',how='inner')\n",
    "data_oc_cp = pd.merge(data_oc_cp,df_fecha,on='id_fecha',how='inner')\n",
    "data_oc_cp = pd.merge(data_oc_cp,df_razon_social,on='id_razon_social',how='inner')"
   ]
  },
  {
   "cell_type": "code",
   "execution_count": 193,
   "metadata": {},
   "outputs": [],
   "source": [
    "data_oc_cp.to_csv(os.path.join(path_scoring_db,'data_oc_cp_sc.csv'),index=False)"
   ]
  },
  {
   "cell_type": "markdown",
   "metadata": {},
   "source": [
    "## OC RS"
   ]
  },
  {
   "cell_type": "code",
   "execution_count": 233,
   "metadata": {},
   "outputs": [],
   "source": [
    "df_new_oc_rs = df_new_oc_cp.groupby(['id_razon_social','id_fecha']).count().reset_index()\n",
    "df_new_oc_rs['id_fact_oc_rs'] = [x for x in range(df_oc_rs.shape[0],df_oc_rs.shape[0]+df_new_oc_rs.shape[0])]\n",
    "df_new_oc_rs.insert(0, 'id_fact_oc_rs', df_new_oc_rs.pop('id_fact_oc_rs'))\n",
    "data_oc_rs = pd.concat([df_oc_rs,df_new_oc_rs],ignore_index=True)\n",
    "data_oc_rs.dropna(axis='columns',inplace=True)\n",
    "data_oc_rs = pd.merge(data_oc_rs,df_fecha,on='id_fecha',how='inner')\n",
    "data_oc_rs = pd.merge(data_oc_rs,df_razon_social,on='id_razon_social',how='inner')\n"
   ]
  },
  {
   "cell_type": "code",
   "execution_count": 235,
   "metadata": {},
   "outputs": [
    {
     "data": {
      "text/plain": [
       "(396, 13)"
      ]
     },
     "execution_count": 235,
     "metadata": {},
     "output_type": "execute_result"
    }
   ],
   "source": [
    "data_oc_rs.shape"
   ]
  },
  {
   "cell_type": "code",
   "execution_count": 234,
   "metadata": {},
   "outputs": [],
   "source": [
    "data_oc_rs.to_csv(os.path.join(path_scoring_db,'data_oc_rs_sc.csv'),index=False)"
   ]
  },
  {
   "cell_type": "markdown",
   "metadata": {},
   "source": [
    "## OEC CP"
   ]
  },
  {
   "cell_type": "code",
   "execution_count": 224,
   "metadata": {},
   "outputs": [],
   "source": [
    "new_data_oec_cp = [] \n",
    "size_oec_cp = df_oec_cp.shape[0]\n",
    "for i in range(300):\n",
    "    rd_idx = randint(0,size_ci_cp-1)\n",
    "    rd_f_idx = randint(0,size_new_fecha-1)\n",
    "    id_rs_rd = df_oec_cp['id_razon_social'].iloc[rd_idx]\n",
    "    id_cp_rd = df_oec_cp['id_curso_perfil'].iloc[rd_idx]\n",
    "    id_fecha_rd = df_new_fecha['id_fecha'].iloc[rd_f_idx]\n",
    "    new_data_oec_cp.append([id_rs_rd,id_cp_rd,id_fecha_rd])\n",
    "    \n",
    "   \n",
    "df_new_oec_cp = pd.DataFrame(data=new_data_oec_cp,columns=['id_razon_social',\t'id_curso_perfil',\t'id_fecha'])\n",
    "    "
   ]
  },
  {
   "cell_type": "code",
   "execution_count": 225,
   "metadata": {},
   "outputs": [],
   "source": [
    "df_new_oec_cp = df_new_oec_cp.drop_duplicates()\n",
    "df_new_oec_cp['id_fact_oec_cp'] = [x for x in range(df_oec_cp.shape[0],df_oec_cp.shape[0]+df_new_oec_cp.shape[0])]\n",
    "df_new_oec_cp.insert(0, 'id_fact_oec_cp', df_new_oec_cp.pop('id_fact_oec_cp'))\n",
    "data_oec_cp = pd.concat([df_oec_cp,df_new_oec_cp],ignore_index=True)\n",
    "data_oec_cp.dropna(axis='columns',inplace=True)\n",
    "data_oec_cp = pd.merge(data_oec_cp,df_curso_perfil,on='id_curso_perfil',how='inner')\n",
    "data_oec_cp = pd.merge(data_oec_cp,df_fecha,on='id_fecha',how='inner')\n",
    "data_oec_cp = pd.merge(data_oec_cp,df_razon_social,on='id_razon_social',how='inner')"
   ]
  },
  {
   "cell_type": "code",
   "execution_count": 226,
   "metadata": {},
   "outputs": [
    {
     "data": {
      "text/plain": [
       "(18399, 21)"
      ]
     },
     "execution_count": 226,
     "metadata": {},
     "output_type": "execute_result"
    }
   ],
   "source": [
    "data_oec_cp.shape"
   ]
  },
  {
   "cell_type": "code",
   "execution_count": 227,
   "metadata": {},
   "outputs": [],
   "source": [
    "data_oec_cp.to_csv(os.path.join(path_scoring_db,'data_oec_cp_sc.csv'),index=False)"
   ]
  },
  {
   "cell_type": "markdown",
   "metadata": {},
   "source": [
    "## OEC RS"
   ]
  },
  {
   "cell_type": "code",
   "execution_count": 229,
   "metadata": {},
   "outputs": [],
   "source": [
    "df_new_oec_rs = df_new_oec_cp.groupby(['id_razon_social','id_fecha']).count().reset_index()\n",
    "df_new_oec_rs['id_fact_oec_rs'] = [x for x in range(df_oec_rs.shape[0],df_oec_rs.shape[0]+df_new_oec_rs.shape[0])]\n",
    "df_new_oec_rs.insert(0, 'id_fact_oec_rs', df_new_oec_rs.pop('id_fact_oec_rs'))\n",
    "data_oec_rs = pd.concat([df_oec_rs,df_new_oec_rs],ignore_index=True)\n",
    "data_oec_rs.dropna(axis='columns',inplace=True)\n",
    "data_oec_rs = pd.merge(data_oec_rs,df_fecha,on='id_fecha',how='inner')\n",
    "data_oec_rs = pd.merge(data_oec_rs,df_razon_social,on='id_razon_social',how='inner')\n"
   ]
  },
  {
   "cell_type": "code",
   "execution_count": 232,
   "metadata": {},
   "outputs": [],
   "source": [
    "data_oec_rs.to_csv(os.path.join(path_scoring_db,'data_oec_rs_sc.csv'),index=False)"
   ]
  },
  {
   "cell_type": "markdown",
   "metadata": {},
   "source": [
    "r"
   ]
  },
  {
   "cell_type": "code",
   "execution_count": null,
   "metadata": {},
   "outputs": [],
   "source": [
    "df = []\n",
    "fact_oc_cp = None\n",
    "fact_oec_cp = None\n",
    "fact_ci_cp = None\n",
    "fact_oc_rs = None\n",
    "fact_oec_rs = None\n",
    "fact_ci_rs = None\n",
    "for file in filelist:\n",
    "    if '.csv' in file:\n",
    "            \n",
    "        df = pd.read_csv(os.path.join(path_model,file))\n",
    "        idx_pred = [ i for i, word in enumerate(df.columns) if word.startswith('prediction') ]\n",
    "        pred_col = df.columns[idx_pred][0]\n",
    "        if 'oc_cp_' in file:\n",
    "            if fact_oc_cp is None:\n",
    "                fact_oc_cp = df\n",
    "            else: \n",
    "                fact_oc_cp = fact_oc_cp.merge(df[['id_fact_oc_cp',pred_col]],on='id_fact_oc_cp',how='inner')\n",
    "\n",
    "        elif 'oec_cp_' in file:\n",
    "            if fact_oec_cp is None:\n",
    "                fact_oec_cp = df\n",
    "            else:\n",
    "                fact_oec_cp = fact_oec_cp.merge(df[['id_fact_oec_cp',pred_col]],on='id_fact_oec_cp',how='inner')\n",
    "\n",
    "        elif 'ci_cp_' in file:\n",
    "            if fact_ci_cp is None:\n",
    "                fact_ci_cp = df\n",
    "            else:\n",
    "                fact_ci_cp = fact_ci_cp.merge(df[['id_fact_ci_cp',pred_col]],on='id_fact_ci_cp',how='inner')\n",
    "\n",
    "        elif 'oc_rs_' in file:\n",
    "            if fact_oc_rs is None:\n",
    "                fact_oc_rs = df\n",
    "            else:\n",
    "                fact_oc_rs = fact_oc_rs.merge(df[['id_fact_oc_rs',pred_col]],on='id_fact_oc_rs',how='inner')\n",
    "\n",
    "        elif 'oec_rs_' in file:\n",
    "            if fact_oec_rs is None:\n",
    "                fact_oec_rs = df\n",
    "            else:\n",
    "                fact_oec_rs = fact_oec_rs.merge(df[['id_fact_oec_rs',pred_col]],on='id_fact_oec_rs',how='inner')\n",
    "\n",
    "        elif 'ci_rs_' in file:\n",
    "            if fact_ci_rs is None:\n",
    "                fact_ci_rs = df\n",
    "            else:\n",
    "                fact_ci_rs = fact_ci_rs.merge(df[['id_fact_ci_rs',pred_col]],on='id_fact_ci_rs',how='inner')\n"
   ]
  }
 ],
 "metadata": {
  "kernelspec": {
   "display_name": "Python 3 (ipykernel)",
   "language": "python",
   "name": "python3"
  },
  "language_info": {
   "codemirror_mode": {
    "name": "ipython",
    "version": 3
   },
   "file_extension": ".py",
   "mimetype": "text/x-python",
   "name": "python",
   "nbconvert_exporter": "python",
   "pygments_lexer": "ipython3",
   "version": "3.9.12"
  },
  "vscode": {
   "interpreter": {
    "hash": "63c661572d1cc22dc54492c85e597a6f4d3f68ba2942f5ce5052621dfc927a3c"
   }
  }
 },
 "nbformat": 4,
 "nbformat_minor": 4
}
