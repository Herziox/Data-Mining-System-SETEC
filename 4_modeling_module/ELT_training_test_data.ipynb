{
 "cells": [
  {
   "cell_type": "markdown",
   "metadata": {},
   "source": [
    "# Instalación e Importación de  librerías"
   ]
  },
  {
   "cell_type": "code",
   "execution_count": 2,
   "metadata": {},
   "outputs": [],
   "source": [
    "import numpy as np\n",
    "import pandas as pd\n",
    "import os\n",
    "import re"
   ]
  },
  {
   "cell_type": "markdown",
   "metadata": {},
   "source": [
    "# Ruta de datos"
   ]
  },
  {
   "cell_type": "code",
   "execution_count": 3,
   "metadata": {},
   "outputs": [],
   "source": [
    "path_dwh = os.path.join(os.getcwd(), '..', '3_data_preprocesing_module',\"DATAWAREHOUSE\")\n",
    "path_dm_oc = os.path.join(path_dwh,'datamart_oc')\n",
    "path_dm_oec = os.path.join(path_dwh,'datamart_oec')\n",
    "path_dm_ci = os.path.join(path_dwh,'datamart_ci')\n",
    "path_train_test_data = os.path.join(os.getcwd(),'TRAIN_TEST_DATA')"
   ]
  },
  {
   "cell_type": "markdown",
   "metadata": {},
   "source": [
    "# Extraccion de datos  "
   ]
  },
  {
   "cell_type": "code",
   "execution_count": 4,
   "metadata": {},
   "outputs": [],
   "source": [
    "df_razon_social = pd.read_csv(os.path.join(path_dwh,'dim_razon_social.csv'))"
   ]
  },
  {
   "cell_type": "markdown",
   "metadata": {},
   "source": [
    "## OC"
   ]
  },
  {
   "cell_type": "code",
   "execution_count": 5,
   "metadata": {},
   "outputs": [],
   "source": [
    "df_fact_oc = pd.read_csv(os.path.join(path_dm_oc,'fact_oc.csv'))\n",
    "df_curso_perfil = pd.read_csv(os.path.join(path_dm_oc,'dim_curso_perfil.csv'))\n",
    "df_fecha = pd.read_csv(os.path.join(path_dm_oc,'dim_fecha.csv'))"
   ]
  },
  {
   "cell_type": "code",
   "execution_count": 6,
   "metadata": {},
   "outputs": [],
   "source": [
    "data_oc = pd.merge(df_fact_oc,df_curso_perfil,on='id_curso_perfil',how='inner')\n",
    "data_oc = pd.merge(data_oc,df_fecha,on='id_fecha',how='inner')\n",
    "data_oc = pd.merge(data_oc,df_razon_social,on='id_razon_social',how='inner')"
   ]
  },
  {
   "cell_type": "code",
   "execution_count": 7,
   "metadata": {},
   "outputs": [],
   "source": [
    "data_oc.fillna({'costo':0.0},inplace=True)"
   ]
  },
  {
   "cell_type": "code",
   "execution_count": 8,
   "metadata": {},
   "outputs": [],
   "source": [
    "#data_oc = data_oc.drop(['id_razon_social','id_curso_perfil','id_fecha'],axis=1)"
   ]
  },
  {
   "cell_type": "code",
   "execution_count": 9,
   "metadata": {},
   "outputs": [],
   "source": [
    "data_oc= data_oc.rename_axis('id_fact_oc').reset_index()\n",
    "data_oc['id_fact_oc'] = data_oc['id_fact_oc'].astype('str')"
   ]
  },
  {
   "cell_type": "code",
   "execution_count": 10,
   "metadata": {},
   "outputs": [
    {
     "name": "stdout",
     "output_type": "stream",
     "text": [
      "<class 'pandas.core.frame.DataFrame'>\n",
      "RangeIndex: 1580 entries, 0 to 1579\n",
      "Data columns (total 24 columns):\n",
      " #   Column               Non-Null Count  Dtype  \n",
      "---  ------               --------------  -----  \n",
      " 0   id_fact_oc           1580 non-null   object \n",
      " 1   id_razon_social      1580 non-null   int64  \n",
      " 2   id_curso_perfil      1580 non-null   int64  \n",
      " 3   id_fecha             1580 non-null   int64  \n",
      " 4   num_cap_cer          1580 non-null   int64  \n",
      " 5   total_cursos         1580 non-null   int64  \n",
      " 6   volumen_capacitados  1580 non-null   int64  \n",
      " 7   total_horas          1580 non-null   int64  \n",
      " 8   total_ganancias      1580 non-null   float64\n",
      " 9   %_asistencia         1580 non-null   float64\n",
      " 10  tipo                 1580 non-null   object \n",
      " 11  area_familia         1580 non-null   object \n",
      " 12  especialidad_sector  1580 non-null   object \n",
      " 13  curso_perfil         1580 non-null   object \n",
      " 14  modalidad            1580 non-null   object \n",
      " 15  carga_horaria        1580 non-null   int64  \n",
      " 16  costo                1580 non-null   float64\n",
      " 17  anio                 1580 non-null   int64  \n",
      " 18  razon_social         1580 non-null   object \n",
      " 19  estado               1580 non-null   object \n",
      " 20  tipo_razon_social    1580 non-null   object \n",
      " 21  fecha_resolucion     1580 non-null   object \n",
      " 22  canton               1580 non-null   object \n",
      " 23  provincia            1580 non-null   object \n",
      "dtypes: float64(3), int64(9), object(12)\n",
      "memory usage: 296.4+ KB\n"
     ]
    }
   ],
   "source": [
    "data_oc.info()"
   ]
  },
  {
   "cell_type": "code",
   "execution_count": 11,
   "metadata": {},
   "outputs": [],
   "source": [
    "data_oc_kpi1 = data_oc[data_oc['num_cap_cer']>0]\n",
    "data_oc_kpi1.to_csv(os.path.join(path_train_test_data,'data_oc_kpi1.csv'),index=False)"
   ]
  },
  {
   "cell_type": "code",
   "execution_count": 12,
   "metadata": {},
   "outputs": [],
   "source": [
    "data_oc_kpi2 = data_oc[data_oc['total_cursos']>0]\n",
    "data_oc_kpi2.to_csv(os.path.join(path_train_test_data,'data_oc_kpi2.csv'),index=False)"
   ]
  },
  {
   "cell_type": "code",
   "execution_count": 13,
   "metadata": {},
   "outputs": [],
   "source": [
    "data_oc_kpi3 = data_oc[data_oc['volumen_capacitados']>0]\n",
    "data_oc_kpi3.to_csv(os.path.join(path_train_test_data,'data_oc_kpi3.csv'),index=False)"
   ]
  },
  {
   "cell_type": "code",
   "execution_count": 14,
   "metadata": {},
   "outputs": [],
   "source": [
    "data_oc_kpi4 = data_oc[data_oc['total_horas']>0]\n",
    "data_oc_kpi4.to_csv(os.path.join(path_train_test_data,'data_oc_kpi4.csv'),index=False)"
   ]
  },
  {
   "cell_type": "code",
   "execution_count": 15,
   "metadata": {},
   "outputs": [],
   "source": [
    "data_oc_kpi5 = data_oc[data_oc['total_ganancias']>0]\n",
    "data_oc_kpi5.to_csv(os.path.join(path_train_test_data,'data_oc_kpi5.csv'),index=False)"
   ]
  },
  {
   "cell_type": "code",
   "execution_count": 16,
   "metadata": {},
   "outputs": [],
   "source": [
    "data_oc_kpi6 = data_oc[data_oc['%_asistencia']>0]\n",
    "data_oc_kpi6.to_csv(os.path.join(path_train_test_data,'data_oc_kpi6.csv'),index=False)"
   ]
  },
  {
   "cell_type": "code",
   "execution_count": 17,
   "metadata": {},
   "outputs": [],
   "source": [
    "data_oc.to_csv(os.path.join(path_train_test_data,'data_oc.csv'),index=False)"
   ]
  },
  {
   "cell_type": "markdown",
   "metadata": {},
   "source": [
    "## OEC"
   ]
  },
  {
   "cell_type": "code",
   "execution_count": 18,
   "metadata": {},
   "outputs": [],
   "source": [
    "df_fact_oec = pd.read_csv(os.path.join(path_dm_oec,'fact_oec.csv'))\n",
    "df_perfil = pd.read_csv(os.path.join(path_dm_oec,'dim_perfil.csv'))\n",
    "df_fecha = pd.read_csv(os.path.join(path_dm_oec,'dim_fecha.csv'))"
   ]
  },
  {
   "cell_type": "code",
   "execution_count": 19,
   "metadata": {},
   "outputs": [],
   "source": [
    "data_oec = pd.merge(df_fact_oec,df_perfil,on='id_perfil',how='inner')\n",
    "data_oec = pd.merge(data_oec,df_fecha,on='id_fecha',how='inner')\n",
    "data_oec = pd.merge(data_oec,df_razon_social,on='id_razon_social',how='inner')"
   ]
  },
  {
   "cell_type": "code",
   "execution_count": 20,
   "metadata": {},
   "outputs": [],
   "source": [
    "data_oec.fillna({'costo':0.0},inplace=True)"
   ]
  },
  {
   "cell_type": "code",
   "execution_count": 21,
   "metadata": {},
   "outputs": [],
   "source": [
    "data_oec= data_oec.rename_axis('id_fact_oec').reset_index()\n",
    "data_oec['id_fact_oec'] = data_oec['id_fact_oec'].astype('str')"
   ]
  },
  {
   "cell_type": "code",
   "execution_count": 22,
   "metadata": {},
   "outputs": [],
   "source": [
    "#data_oec = data_oec.drop(['id_razon_social','id_perfil','id_fecha'],axis=1)"
   ]
  },
  {
   "cell_type": "code",
   "execution_count": 23,
   "metadata": {},
   "outputs": [
    {
     "data": {
      "text/html": [
       "<div>\n",
       "<style scoped>\n",
       "    .dataframe tbody tr th:only-of-type {\n",
       "        vertical-align: middle;\n",
       "    }\n",
       "\n",
       "    .dataframe tbody tr th {\n",
       "        vertical-align: top;\n",
       "    }\n",
       "\n",
       "    .dataframe thead th {\n",
       "        text-align: right;\n",
       "    }\n",
       "</style>\n",
       "<table border=\"1\" class=\"dataframe\">\n",
       "  <thead>\n",
       "    <tr style=\"text-align: right;\">\n",
       "      <th></th>\n",
       "      <th>id_fact_oec</th>\n",
       "      <th>id_razon_social</th>\n",
       "      <th>id_perfil</th>\n",
       "      <th>id_fecha</th>\n",
       "      <th>num_cer</th>\n",
       "      <th>total_horas</th>\n",
       "      <th>total_cursos</th>\n",
       "      <th>volumen_capacitados</th>\n",
       "      <th>total_ganacias</th>\n",
       "      <th>%_asistencia</th>\n",
       "      <th>...</th>\n",
       "      <th>costo</th>\n",
       "      <th>dia</th>\n",
       "      <th>mes</th>\n",
       "      <th>anio</th>\n",
       "      <th>razon_social</th>\n",
       "      <th>estado</th>\n",
       "      <th>tipo_razon_social</th>\n",
       "      <th>fecha_resolucion</th>\n",
       "      <th>canton</th>\n",
       "      <th>provincia</th>\n",
       "    </tr>\n",
       "  </thead>\n",
       "  <tbody>\n",
       "    <tr>\n",
       "      <th>0</th>\n",
       "      <td>0</td>\n",
       "      <td>2</td>\n",
       "      <td>1457</td>\n",
       "      <td>28</td>\n",
       "      <td>6</td>\n",
       "      <td>36</td>\n",
       "      <td>3</td>\n",
       "      <td>8</td>\n",
       "      <td>1500.0</td>\n",
       "      <td>0.0</td>\n",
       "      <td>...</td>\n",
       "      <td>250.0</td>\n",
       "      <td>1</td>\n",
       "      <td>6</td>\n",
       "      <td>2022</td>\n",
       "      <td>abalco haro cristian patricio</td>\n",
       "      <td>habilitado</td>\n",
       "      <td>organismo evaluador de la conformidad</td>\n",
       "      <td>23-11-2021</td>\n",
       "      <td>guayaquil</td>\n",
       "      <td>guayas</td>\n",
       "    </tr>\n",
       "    <tr>\n",
       "      <th>1</th>\n",
       "      <td>1</td>\n",
       "      <td>2</td>\n",
       "      <td>1457</td>\n",
       "      <td>109</td>\n",
       "      <td>1</td>\n",
       "      <td>6</td>\n",
       "      <td>1</td>\n",
       "      <td>1</td>\n",
       "      <td>250.0</td>\n",
       "      <td>0.0</td>\n",
       "      <td>...</td>\n",
       "      <td>250.0</td>\n",
       "      <td>2</td>\n",
       "      <td>8</td>\n",
       "      <td>2022</td>\n",
       "      <td>abalco haro cristian patricio</td>\n",
       "      <td>habilitado</td>\n",
       "      <td>organismo evaluador de la conformidad</td>\n",
       "      <td>23-11-2021</td>\n",
       "      <td>guayaquil</td>\n",
       "      <td>guayas</td>\n",
       "    </tr>\n",
       "    <tr>\n",
       "      <th>2</th>\n",
       "      <td>2</td>\n",
       "      <td>2</td>\n",
       "      <td>1457</td>\n",
       "      <td>231</td>\n",
       "      <td>3</td>\n",
       "      <td>18</td>\n",
       "      <td>1</td>\n",
       "      <td>3</td>\n",
       "      <td>750.0</td>\n",
       "      <td>0.0</td>\n",
       "      <td>...</td>\n",
       "      <td>250.0</td>\n",
       "      <td>4</td>\n",
       "      <td>4</td>\n",
       "      <td>2022</td>\n",
       "      <td>abalco haro cristian patricio</td>\n",
       "      <td>habilitado</td>\n",
       "      <td>organismo evaluador de la conformidad</td>\n",
       "      <td>23-11-2021</td>\n",
       "      <td>guayaquil</td>\n",
       "      <td>guayas</td>\n",
       "    </tr>\n",
       "    <tr>\n",
       "      <th>3</th>\n",
       "      <td>3</td>\n",
       "      <td>2</td>\n",
       "      <td>1457</td>\n",
       "      <td>301</td>\n",
       "      <td>4</td>\n",
       "      <td>24</td>\n",
       "      <td>1</td>\n",
       "      <td>4</td>\n",
       "      <td>1000.0</td>\n",
       "      <td>0.0</td>\n",
       "      <td>...</td>\n",
       "      <td>250.0</td>\n",
       "      <td>5</td>\n",
       "      <td>3</td>\n",
       "      <td>2022</td>\n",
       "      <td>abalco haro cristian patricio</td>\n",
       "      <td>habilitado</td>\n",
       "      <td>organismo evaluador de la conformidad</td>\n",
       "      <td>23-11-2021</td>\n",
       "      <td>guayaquil</td>\n",
       "      <td>guayas</td>\n",
       "    </tr>\n",
       "    <tr>\n",
       "      <th>4</th>\n",
       "      <td>4</td>\n",
       "      <td>2</td>\n",
       "      <td>1457</td>\n",
       "      <td>365</td>\n",
       "      <td>8</td>\n",
       "      <td>48</td>\n",
       "      <td>3</td>\n",
       "      <td>12</td>\n",
       "      <td>2000.0</td>\n",
       "      <td>0.0</td>\n",
       "      <td>...</td>\n",
       "      <td>250.0</td>\n",
       "      <td>6</td>\n",
       "      <td>2</td>\n",
       "      <td>2022</td>\n",
       "      <td>abalco haro cristian patricio</td>\n",
       "      <td>habilitado</td>\n",
       "      <td>organismo evaluador de la conformidad</td>\n",
       "      <td>23-11-2021</td>\n",
       "      <td>guayaquil</td>\n",
       "      <td>guayas</td>\n",
       "    </tr>\n",
       "  </tbody>\n",
       "</table>\n",
       "<p>5 rows × 25 columns</p>\n",
       "</div>"
      ],
      "text/plain": [
       "  id_fact_oec  id_razon_social  id_perfil  id_fecha  num_cer  total_horas  \\\n",
       "0           0                2       1457        28        6           36   \n",
       "1           1                2       1457       109        1            6   \n",
       "2           2                2       1457       231        3           18   \n",
       "3           3                2       1457       301        4           24   \n",
       "4           4                2       1457       365        8           48   \n",
       "\n",
       "   total_cursos  volumen_capacitados  total_ganacias  %_asistencia  ...  \\\n",
       "0             3                    8          1500.0           0.0  ...   \n",
       "1             1                    1           250.0           0.0  ...   \n",
       "2             1                    3           750.0           0.0  ...   \n",
       "3             1                    4          1000.0           0.0  ...   \n",
       "4             3                   12          2000.0           0.0  ...   \n",
       "\n",
       "   costo dia mes  anio                   razon_social      estado  \\\n",
       "0  250.0   1   6  2022  abalco haro cristian patricio  habilitado   \n",
       "1  250.0   2   8  2022  abalco haro cristian patricio  habilitado   \n",
       "2  250.0   4   4  2022  abalco haro cristian patricio  habilitado   \n",
       "3  250.0   5   3  2022  abalco haro cristian patricio  habilitado   \n",
       "4  250.0   6   2  2022  abalco haro cristian patricio  habilitado   \n",
       "\n",
       "                       tipo_razon_social  fecha_resolucion     canton  \\\n",
       "0  organismo evaluador de la conformidad        23-11-2021  guayaquil   \n",
       "1  organismo evaluador de la conformidad        23-11-2021  guayaquil   \n",
       "2  organismo evaluador de la conformidad        23-11-2021  guayaquil   \n",
       "3  organismo evaluador de la conformidad        23-11-2021  guayaquil   \n",
       "4  organismo evaluador de la conformidad        23-11-2021  guayaquil   \n",
       "\n",
       "  provincia  \n",
       "0    guayas  \n",
       "1    guayas  \n",
       "2    guayas  \n",
       "3    guayas  \n",
       "4    guayas  \n",
       "\n",
       "[5 rows x 25 columns]"
      ]
     },
     "execution_count": 23,
     "metadata": {},
     "output_type": "execute_result"
    }
   ],
   "source": [
    "data_oec.head()"
   ]
  },
  {
   "cell_type": "code",
   "execution_count": 24,
   "metadata": {},
   "outputs": [
    {
     "name": "stdout",
     "output_type": "stream",
     "text": [
      "<class 'pandas.core.frame.DataFrame'>\n",
      "RangeIndex: 14915 entries, 0 to 14914\n",
      "Data columns (total 25 columns):\n",
      " #   Column               Non-Null Count  Dtype  \n",
      "---  ------               --------------  -----  \n",
      " 0   id_fact_oec          14915 non-null  object \n",
      " 1   id_razon_social      14915 non-null  int64  \n",
      " 2   id_perfil            14915 non-null  int64  \n",
      " 3   id_fecha             14915 non-null  int64  \n",
      " 4   num_cer              14915 non-null  int64  \n",
      " 5   total_horas          14915 non-null  int64  \n",
      " 6   total_cursos         14915 non-null  int64  \n",
      " 7   volumen_capacitados  14915 non-null  int64  \n",
      " 8   total_ganacias       14915 non-null  float64\n",
      " 9   %_asistencia         14915 non-null  float64\n",
      " 10  familia              14915 non-null  object \n",
      " 11  sector               14915 non-null  object \n",
      " 12  perfil               14915 non-null  object \n",
      " 13  modalidad            14915 non-null  object \n",
      " 14  carga_horaria        14915 non-null  int64  \n",
      " 15  costo                14915 non-null  float64\n",
      " 16  dia                  14915 non-null  int64  \n",
      " 17  mes                  14915 non-null  int64  \n",
      " 18  anio                 14915 non-null  int64  \n",
      " 19  razon_social         14915 non-null  object \n",
      " 20  estado               14915 non-null  object \n",
      " 21  tipo_razon_social    14915 non-null  object \n",
      " 22  fecha_resolucion     14915 non-null  object \n",
      " 23  canton               14915 non-null  object \n",
      " 24  provincia            14915 non-null  object \n",
      "dtypes: float64(3), int64(11), object(11)\n",
      "memory usage: 2.8+ MB\n"
     ]
    }
   ],
   "source": [
    "data_oec.info()"
   ]
  },
  {
   "cell_type": "code",
   "execution_count": 25,
   "metadata": {
    "tags": []
   },
   "outputs": [],
   "source": [
    "data_oec_kpi1 = data_oec[data_oec['num_cer']>0]\n",
    "data_oec_kpi1.to_csv(os.path.join(path_train_test_data,'data_oec_kpi1.csv'),index=False)"
   ]
  },
  {
   "cell_type": "code",
   "execution_count": 26,
   "metadata": {},
   "outputs": [],
   "source": [
    "data_oec_kpi2 = data_oec[data_oec['total_cursos']>0]\n",
    "data_oec_kpi2.to_csv(os.path.join(path_train_test_data,'data_oec_kpi2.csv'),index=False)"
   ]
  },
  {
   "cell_type": "code",
   "execution_count": 27,
   "metadata": {},
   "outputs": [],
   "source": [
    "data_oec_kpi3 = data_oec[data_oec['volumen_capacitados']>0]\n",
    "data_oec_kpi3.to_csv(os.path.join(path_train_test_data,'data_oec_kpi3.csv'),index=False)"
   ]
  },
  {
   "cell_type": "code",
   "execution_count": 28,
   "metadata": {},
   "outputs": [],
   "source": [
    "data_oec_kpi4 = data_oec[data_oec['total_horas']>0]\n",
    "data_oec_kpi4.to_csv(os.path.join(path_train_test_data,'data_oec_kpi4.csv'),index=False)"
   ]
  },
  {
   "cell_type": "code",
   "execution_count": 29,
   "metadata": {},
   "outputs": [],
   "source": [
    "data_oec_kpi5 = data_oec[data_oec['total_ganacias']>0]\n",
    "data_oec_kpi5.to_csv(os.path.join(path_train_test_data,'data_oec_kpi5.csv'),index=False)"
   ]
  },
  {
   "cell_type": "code",
   "execution_count": 30,
   "metadata": {},
   "outputs": [],
   "source": [
    "data_oec_kpi6 = data_oec[data_oec['%_asistencia']>0]\n",
    "data_oec_kpi6.to_csv(os.path.join(path_train_test_data,'data_oec_kpi6.csv'),index=False)"
   ]
  },
  {
   "cell_type": "code",
   "execution_count": 31,
   "metadata": {},
   "outputs": [],
   "source": [
    "data_oec.to_csv(os.path.join(path_train_test_data,'data_oec.csv'),index=False)"
   ]
  },
  {
   "cell_type": "markdown",
   "metadata": {},
   "source": [
    "## CI"
   ]
  },
  {
   "cell_type": "code",
   "execution_count": 32,
   "metadata": {},
   "outputs": [],
   "source": [
    "df_fact_ci = pd.read_csv(os.path.join(path_dm_ci,'fact_ci.csv'))\n",
    "df_curso = pd.read_csv(os.path.join(path_dm_ci,'dim_curso_ci.csv'))\n",
    "df_fecha = pd.read_csv(os.path.join(path_dm_ci,'dim_fecha_ci.csv'))"
   ]
  },
  {
   "cell_type": "code",
   "execution_count": 33,
   "metadata": {},
   "outputs": [],
   "source": [
    "data_ci = pd.merge(df_fact_ci,df_curso,on='id_curso',how='inner')\n",
    "data_ci = pd.merge(data_ci,df_fecha,on='id_fecha',how='inner')\n",
    "data_ci = pd.merge(data_ci,df_razon_social,on='id_razon_social',how='inner')"
   ]
  },
  {
   "cell_type": "code",
   "execution_count": 34,
   "metadata": {},
   "outputs": [],
   "source": [
    "data_ci.fillna({'costo':0.0},inplace=True)"
   ]
  },
  {
   "cell_type": "code",
   "execution_count": 35,
   "metadata": {},
   "outputs": [],
   "source": [
    "data_ci= data_ci.rename_axis('id_fact_ci').reset_index()\n",
    "data_ci['id_fact_ci'] = data_ci['id_fact_ci'].astype('str')"
   ]
  },
  {
   "cell_type": "code",
   "execution_count": 36,
   "metadata": {},
   "outputs": [],
   "source": [
    "#data_ci = data_ci.drop(['id_razon_social','id_curso','id_fecha'],axis=1)"
   ]
  },
  {
   "cell_type": "code",
   "execution_count": 37,
   "metadata": {},
   "outputs": [
    {
     "data": {
      "text/html": [
       "<div>\n",
       "<style scoped>\n",
       "    .dataframe tbody tr th:only-of-type {\n",
       "        vertical-align: middle;\n",
       "    }\n",
       "\n",
       "    .dataframe tbody tr th {\n",
       "        vertical-align: top;\n",
       "    }\n",
       "\n",
       "    .dataframe thead th {\n",
       "        text-align: right;\n",
       "    }\n",
       "</style>\n",
       "<table border=\"1\" class=\"dataframe\">\n",
       "  <thead>\n",
       "    <tr style=\"text-align: right;\">\n",
       "      <th></th>\n",
       "      <th>id_fact_ci</th>\n",
       "      <th>id_razon_social</th>\n",
       "      <th>id_curso</th>\n",
       "      <th>id_fecha</th>\n",
       "      <th>num_cap</th>\n",
       "      <th>total_cursos</th>\n",
       "      <th>volumen_capacitados</th>\n",
       "      <th>total_horas</th>\n",
       "      <th>total_ganancias</th>\n",
       "      <th>curso</th>\n",
       "      <th>...</th>\n",
       "      <th>modalidad</th>\n",
       "      <th>carga_horaria</th>\n",
       "      <th>costo</th>\n",
       "      <th>anio</th>\n",
       "      <th>razon_social</th>\n",
       "      <th>estado</th>\n",
       "      <th>tipo_razon_social</th>\n",
       "      <th>fecha_resolucion</th>\n",
       "      <th>canton</th>\n",
       "      <th>provincia</th>\n",
       "    </tr>\n",
       "  </thead>\n",
       "  <tbody>\n",
       "    <tr>\n",
       "      <th>0</th>\n",
       "      <td>0</td>\n",
       "      <td>3</td>\n",
       "      <td>1671</td>\n",
       "      <td>0</td>\n",
       "      <td>14</td>\n",
       "      <td>1</td>\n",
       "      <td>14</td>\n",
       "      <td>336</td>\n",
       "      <td>0.0</td>\n",
       "      <td>curso básico de la competencia lingüística del...</td>\n",
       "      <td>...</td>\n",
       "      <td>desconocida</td>\n",
       "      <td>24</td>\n",
       "      <td>0.0</td>\n",
       "      <td>2021</td>\n",
       "      <td>abata carrera gloria beatriz</td>\n",
       "      <td>calificado</td>\n",
       "      <td>capacitador independiente</td>\n",
       "      <td>resolución no. mdt-ci-cal-2021-0021</td>\n",
       "      <td>esmeraldas</td>\n",
       "      <td>esmeraldas</td>\n",
       "    </tr>\n",
       "    <tr>\n",
       "      <th>1</th>\n",
       "      <td>1</td>\n",
       "      <td>19</td>\n",
       "      <td>3305</td>\n",
       "      <td>0</td>\n",
       "      <td>69</td>\n",
       "      <td>1</td>\n",
       "      <td>69</td>\n",
       "      <td>2760</td>\n",
       "      <td>0.0</td>\n",
       "      <td>gestión de los procesos de contratación en la ...</td>\n",
       "      <td>...</td>\n",
       "      <td>desconocida</td>\n",
       "      <td>40</td>\n",
       "      <td>0.0</td>\n",
       "      <td>2021</td>\n",
       "      <td>acosta mensias david alejandro</td>\n",
       "      <td>calificado</td>\n",
       "      <td>capacitador independiente</td>\n",
       "      <td>resolución no. mdt-ci-cal-2021-0380</td>\n",
       "      <td>quito</td>\n",
       "      <td>pichincha</td>\n",
       "    </tr>\n",
       "    <tr>\n",
       "      <th>2</th>\n",
       "      <td>2</td>\n",
       "      <td>24</td>\n",
       "      <td>1949</td>\n",
       "      <td>0</td>\n",
       "      <td>102</td>\n",
       "      <td>3</td>\n",
       "      <td>126</td>\n",
       "      <td>1632</td>\n",
       "      <td>0.0</td>\n",
       "      <td>prevención de riesgos laborales</td>\n",
       "      <td>...</td>\n",
       "      <td>desconocida</td>\n",
       "      <td>16</td>\n",
       "      <td>0.0</td>\n",
       "      <td>2021</td>\n",
       "      <td>acurio rivera alexandra pamela</td>\n",
       "      <td>calificado</td>\n",
       "      <td>capacitador independiente</td>\n",
       "      <td>resolución no. mdt-ci-cal-2021-0103</td>\n",
       "      <td>zaruma</td>\n",
       "      <td>el oro</td>\n",
       "    </tr>\n",
       "    <tr>\n",
       "      <th>3</th>\n",
       "      <td>3</td>\n",
       "      <td>24</td>\n",
       "      <td>3862</td>\n",
       "      <td>0</td>\n",
       "      <td>7</td>\n",
       "      <td>3</td>\n",
       "      <td>126</td>\n",
       "      <td>112</td>\n",
       "      <td>0.0</td>\n",
       "      <td>primeros auxilios.</td>\n",
       "      <td>...</td>\n",
       "      <td>desconocida</td>\n",
       "      <td>16</td>\n",
       "      <td>0.0</td>\n",
       "      <td>2021</td>\n",
       "      <td>acurio rivera alexandra pamela</td>\n",
       "      <td>calificado</td>\n",
       "      <td>capacitador independiente</td>\n",
       "      <td>resolución no. mdt-ci-cal-2021-0103</td>\n",
       "      <td>zaruma</td>\n",
       "      <td>el oro</td>\n",
       "    </tr>\n",
       "    <tr>\n",
       "      <th>4</th>\n",
       "      <td>4</td>\n",
       "      <td>24</td>\n",
       "      <td>3860</td>\n",
       "      <td>0</td>\n",
       "      <td>17</td>\n",
       "      <td>3</td>\n",
       "      <td>126</td>\n",
       "      <td>272</td>\n",
       "      <td>0.0</td>\n",
       "      <td>seguridad en el manejo de explosivos.</td>\n",
       "      <td>...</td>\n",
       "      <td>desconocida</td>\n",
       "      <td>16</td>\n",
       "      <td>0.0</td>\n",
       "      <td>2021</td>\n",
       "      <td>acurio rivera alexandra pamela</td>\n",
       "      <td>calificado</td>\n",
       "      <td>capacitador independiente</td>\n",
       "      <td>resolución no. mdt-ci-cal-2021-0103</td>\n",
       "      <td>zaruma</td>\n",
       "      <td>el oro</td>\n",
       "    </tr>\n",
       "  </tbody>\n",
       "</table>\n",
       "<p>5 rows × 22 columns</p>\n",
       "</div>"
      ],
      "text/plain": [
       "  id_fact_ci  id_razon_social  id_curso  id_fecha  num_cap  total_cursos  \\\n",
       "0          0                3      1671         0       14             1   \n",
       "1          1               19      3305         0       69             1   \n",
       "2          2               24      1949         0      102             3   \n",
       "3          3               24      3862         0        7             3   \n",
       "4          4               24      3860         0       17             3   \n",
       "\n",
       "   volumen_capacitados  total_horas  total_ganancias  \\\n",
       "0                   14          336              0.0   \n",
       "1                   69         2760              0.0   \n",
       "2                  126         1632              0.0   \n",
       "3                  126          112              0.0   \n",
       "4                  126          272              0.0   \n",
       "\n",
       "                                               curso  ...    modalidad  \\\n",
       "0  curso básico de la competencia lingüística del...  ...  desconocida   \n",
       "1  gestión de los procesos de contratación en la ...  ...  desconocida   \n",
       "2                    prevención de riesgos laborales  ...  desconocida   \n",
       "3                                 primeros auxilios.  ...  desconocida   \n",
       "4              seguridad en el manejo de explosivos.  ...  desconocida   \n",
       "\n",
       "  carga_horaria costo  anio                    razon_social      estado  \\\n",
       "0            24   0.0  2021    abata carrera gloria beatriz  calificado   \n",
       "1            40   0.0  2021  acosta mensias david alejandro  calificado   \n",
       "2            16   0.0  2021  acurio rivera alexandra pamela  calificado   \n",
       "3            16   0.0  2021  acurio rivera alexandra pamela  calificado   \n",
       "4            16   0.0  2021  acurio rivera alexandra pamela  calificado   \n",
       "\n",
       "           tipo_razon_social                     fecha_resolucion      canton  \\\n",
       "0  capacitador independiente  resolución no. mdt-ci-cal-2021-0021  esmeraldas   \n",
       "1  capacitador independiente  resolución no. mdt-ci-cal-2021-0380       quito   \n",
       "2  capacitador independiente  resolución no. mdt-ci-cal-2021-0103      zaruma   \n",
       "3  capacitador independiente  resolución no. mdt-ci-cal-2021-0103      zaruma   \n",
       "4  capacitador independiente  resolución no. mdt-ci-cal-2021-0103      zaruma   \n",
       "\n",
       "    provincia  \n",
       "0  esmeraldas  \n",
       "1   pichincha  \n",
       "2      el oro  \n",
       "3      el oro  \n",
       "4      el oro  \n",
       "\n",
       "[5 rows x 22 columns]"
      ]
     },
     "execution_count": 37,
     "metadata": {},
     "output_type": "execute_result"
    }
   ],
   "source": [
    "data_ci.head()"
   ]
  },
  {
   "cell_type": "code",
   "execution_count": 38,
   "metadata": {},
   "outputs": [
    {
     "name": "stdout",
     "output_type": "stream",
     "text": [
      "<class 'pandas.core.frame.DataFrame'>\n",
      "RangeIndex: 1100 entries, 0 to 1099\n",
      "Data columns (total 22 columns):\n",
      " #   Column               Non-Null Count  Dtype  \n",
      "---  ------               --------------  -----  \n",
      " 0   id_fact_ci           1100 non-null   object \n",
      " 1   id_razon_social      1100 non-null   int64  \n",
      " 2   id_curso             1100 non-null   int64  \n",
      " 3   id_fecha             1100 non-null   int64  \n",
      " 4   num_cap              1100 non-null   int64  \n",
      " 5   total_cursos         1100 non-null   int64  \n",
      " 6   volumen_capacitados  1100 non-null   int64  \n",
      " 7   total_horas          1100 non-null   int64  \n",
      " 8   total_ganancias      1100 non-null   float64\n",
      " 9   curso                1100 non-null   object \n",
      " 10  area                 1100 non-null   object \n",
      " 11  especialidad         1100 non-null   object \n",
      " 12  modalidad            1100 non-null   object \n",
      " 13  carga_horaria        1100 non-null   int64  \n",
      " 14  costo                1100 non-null   float64\n",
      " 15  anio                 1100 non-null   int64  \n",
      " 16  razon_social         1100 non-null   object \n",
      " 17  estado               1100 non-null   object \n",
      " 18  tipo_razon_social    1100 non-null   object \n",
      " 19  fecha_resolucion     1100 non-null   object \n",
      " 20  canton               1100 non-null   object \n",
      " 21  provincia            1100 non-null   object \n",
      "dtypes: float64(2), int64(9), object(11)\n",
      "memory usage: 189.2+ KB\n"
     ]
    }
   ],
   "source": [
    "data_ci.info()"
   ]
  },
  {
   "cell_type": "code",
   "execution_count": 39,
   "metadata": {
    "tags": []
   },
   "outputs": [],
   "source": [
    "data_ci_kpi1 = data_ci[data_ci['num_cap']>0]\n",
    "data_ci_kpi1.to_csv(os.path.join(path_train_test_data,'data_ci_kpi1.csv'),index=False)"
   ]
  },
  {
   "cell_type": "code",
   "execution_count": 40,
   "metadata": {},
   "outputs": [],
   "source": [
    "data_ci_kpi2 = data_ci[data_ci['total_cursos']>0]\n",
    "data_ci_kpi2.to_csv(os.path.join(path_train_test_data,'data_ci_kpi2.csv'),index=False)"
   ]
  },
  {
   "cell_type": "code",
   "execution_count": 41,
   "metadata": {},
   "outputs": [],
   "source": [
    "data_ci_kpi3 = data_ci[data_ci['volumen_capacitados']>0]\n",
    "data_ci_kpi3.to_csv(os.path.join(path_train_test_data,'data_ci_kpi3.csv'),index=False)"
   ]
  },
  {
   "cell_type": "code",
   "execution_count": 42,
   "metadata": {},
   "outputs": [],
   "source": [
    "data_ci_kpi4 = data_ci[data_ci['total_horas']>0]\n",
    "data_ci_kpi4.to_csv(os.path.join(path_train_test_data,'data_ci_kpi4.csv'),index=False)"
   ]
  },
  {
   "cell_type": "code",
   "execution_count": 43,
   "metadata": {},
   "outputs": [],
   "source": [
    "data_ci_kpi5 = data_ci[data_ci['total_ganancias']>0]\n",
    "data_ci_kpi5.to_csv(os.path.join(path_train_test_data,'data_ci_kpi5.csv'),index=False)"
   ]
  },
  {
   "cell_type": "code",
   "execution_count": 44,
   "metadata": {},
   "outputs": [],
   "source": [
    "data_ci.to_csv(os.path.join(path_train_test_data,'data_ci.csv'),index=False)"
   ]
  },
  {
   "cell_type": "markdown",
   "metadata": {},
   "source": [
    "# Investigación"
   ]
  },
  {
   "cell_type": "code",
   "execution_count": 38,
   "metadata": {},
   "outputs": [
    {
     "data": {
      "text/plain": [
       "pandas.core.series.Series"
      ]
     },
     "execution_count": 38,
     "metadata": {},
     "output_type": "execute_result"
    }
   ],
   "source": [
    "type(data_oec['familia'].value_counts())"
   ]
  },
  {
   "cell_type": "code",
   "execution_count": 41,
   "metadata": {},
   "outputs": [],
   "source": [
    "consulta = pd.concat([data_oc['area_familia'],data_oec['familia'],data_ci['area']],axis=0)"
   ]
  },
  {
   "cell_type": "code",
   "execution_count": 43,
   "metadata": {},
   "outputs": [
    {
     "data": {
      "text/plain": [
       "actividades tipo servicios                                                                  7844\n",
       "actividades de enseñanza                                                                    3007\n",
       "actividades comunitarias                                                                    1346\n",
       "turismo y alimentación                                                                       933\n",
       "procesos industriales                                                                        885\n",
       "tecnología: hardware y software (incluye tic)                                                525\n",
       "metalmecánica                                                                                453\n",
       "administración y legislación                                                                 396\n",
       "educación y capacitación                                                                     389\n",
       "servicios financieros                                                                        277\n",
       "tecnologías de la información y comunicación                                                 219\n",
       "servicios socioculturales y a la comunidad                                                   141\n",
       "comercialización y venta de productos                                                        139\n",
       "alimentación gastronomía y turismo                                                           124\n",
       "actividades de salud                                                                         105\n",
       "forestal ecología y medio ambiente                                                           103\n",
       "vehículos, automotores, carrocerías y sus partes                                             102\n",
       "finanzas comercio y ventas                                                                    91\n",
       "electricidad y electrónica                                                                    87\n",
       "pesca, acuacultura y maricultura                                                              77\n",
       "transporte y logística                                                                        71\n",
       "artes y artesanía                                                                             58\n",
       "construcción                                                                                  56\n",
       "construcción e infraestructura                                                                37\n",
       "comunicación y artes gráficas                                                                 23\n",
       "producción pecuaria                                                                           16\n",
       "productos industriales, farmacéuticos y químicos                                              15\n",
       "otras actividades de servicios                                                                14\n",
       "mecánica industrial y minería                                                                 11\n",
       "mecánica automotriz                                                                            9\n",
       "agricultura y plantaciones                                                                     7\n",
       "productos textiles, cuero y calzado                                                            7\n",
       "enseñanza                                                                                      5\n",
       "transporte, almacenamiento y logística                                                         4\n",
       "actividades profesionales, científicas y técnicas                                              4\n",
       "industrias manufactureras                                                                      2\n",
       "industria agropecuaria                                                                         2\n",
       "industrias  manufactureras                                                                     2\n",
       "actividades de atención de la salud humana y de asistencia social                              2\n",
       "electricidad, gas y agua                                                                       1\n",
       "suministro de electricidad, gas, vapor y aire acondicionado                                    1\n",
       "información y comunicación                                                                     1\n",
       "actividades inmobiliarias                                                                      1\n",
       "actividades de servicios administrativos y de apoyo                                            1\n",
       "transformación de alimentos (incluye agroindustria)                                            1\n",
       "comercio al por mayor y al por menor; reparación de vehículos automotores y motocicletas       1\n",
       "dtype: int64"
      ]
     },
     "execution_count": 43,
     "metadata": {},
     "output_type": "execute_result"
    }
   ],
   "source": [
    "consulta.value_counts()"
   ]
  }
 ],
 "metadata": {
  "kernelspec": {
   "display_name": "Python 3 (ipykernel)",
   "language": "python",
   "name": "python3"
  },
  "language_info": {
   "codemirror_mode": {
    "name": "ipython",
    "version": 3
   },
   "file_extension": ".py",
   "mimetype": "text/x-python",
   "name": "python",
   "nbconvert_exporter": "python",
   "pygments_lexer": "ipython3",
   "version": "3.9.12"
  },
  "vscode": {
   "interpreter": {
    "hash": "63c661572d1cc22dc54492c85e597a6f4d3f68ba2942f5ce5052621dfc927a3c"
   }
  }
 },
 "nbformat": 4,
 "nbformat_minor": 4
}
