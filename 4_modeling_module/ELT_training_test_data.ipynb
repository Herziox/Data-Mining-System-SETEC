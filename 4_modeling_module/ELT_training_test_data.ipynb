{
 "cells": [
  {
   "cell_type": "markdown",
   "metadata": {},
   "source": [
    "# Instalación e Importación de  librerías"
   ]
  },
  {
   "cell_type": "code",
   "execution_count": 12,
   "metadata": {},
   "outputs": [],
   "source": [
    "import numpy as np\n",
    "import pandas as pd\n",
    "import os\n",
    "import re"
   ]
  },
  {
   "cell_type": "markdown",
   "metadata": {},
   "source": [
    "# Ruta de datos"
   ]
  },
  {
   "cell_type": "code",
   "execution_count": 13,
   "metadata": {},
   "outputs": [],
   "source": [
    "path_dwh = os.path.join(os.getcwd(), '..', '3_data_preprocesing_module',\"DATAWAREHOUSE\")\n",
    "path_dm_oc = os.path.join(path_dwh,'datamart_oc')\n",
    "path_dm_oec = os.path.join(path_dwh,'datamart_oec')\n",
    "path_dm_ci = os.path.join(path_dwh,'datamart_ci')\n",
    "path_train_test_data = os.path.join(os.getcwd(),'TRAIN_TEST_DATA')"
   ]
  },
  {
   "cell_type": "markdown",
   "metadata": {},
   "source": [
    "# Extraccion de datos  "
   ]
  },
  {
   "cell_type": "code",
   "execution_count": 14,
   "metadata": {},
   "outputs": [],
   "source": [
    "df_razon_social = pd.read_csv(os.path.join(path_dwh,'dim_razon_social.csv'))"
   ]
  },
  {
   "cell_type": "markdown",
   "metadata": {},
   "source": [
    "## OC"
   ]
  },
  {
   "cell_type": "code",
   "execution_count": 15,
   "metadata": {},
   "outputs": [],
   "source": [
    "df_fact_oc = pd.read_csv(os.path.join(path_dm_oc,'fact_oc.csv'))\n",
    "df_curso_perfil = pd.read_csv(os.path.join(path_dm_oc,'dim_curso_perfil.csv'))\n",
    "df_fecha = pd.read_csv(os.path.join(path_dm_oc,'dim_fecha.csv'))"
   ]
  },
  {
   "cell_type": "code",
   "execution_count": 16,
   "metadata": {},
   "outputs": [],
   "source": [
    "data_oc = pd.merge(df_fact_oc,df_curso_perfil,on='id_curso_perfil',how='inner')\n",
    "data_oc = pd.merge(data_oc,df_fecha,on='id_fecha',how='inner')\n",
    "data_oc = pd.merge(data_oc,df_razon_social,on='id_razon_social',how='inner')"
   ]
  },
  {
   "cell_type": "code",
   "execution_count": 17,
   "metadata": {},
   "outputs": [],
   "source": [
    "data_oc.fillna({'costo':0.0},inplace=True)"
   ]
  },
  {
   "cell_type": "code",
   "execution_count": 18,
   "metadata": {},
   "outputs": [],
   "source": [
    "#data_oc = data_oc.drop(['id_razon_social','id_curso_perfil','id_fecha'],axis=1)"
   ]
  },
  {
   "cell_type": "code",
   "execution_count": 19,
   "metadata": {},
   "outputs": [],
   "source": [
    "data_oc= data_oc.rename_axis('id_fact_oc').reset_index()\n",
    "data_oc['id_fact_oc'] = data_oc['id_fact_oc'].astype('str')"
   ]
  },
  {
   "cell_type": "code",
   "execution_count": 20,
   "metadata": {},
   "outputs": [
    {
     "name": "stdout",
     "output_type": "stream",
     "text": [
      "<class 'pandas.core.frame.DataFrame'>\n",
      "RangeIndex: 1580 entries, 0 to 1579\n",
      "Data columns (total 23 columns):\n",
      " #   Column               Non-Null Count  Dtype  \n",
      "---  ------               --------------  -----  \n",
      " 0   id_fact_oc           1580 non-null   object \n",
      " 1   id_razon_social      1580 non-null   int64  \n",
      " 2   id_curso_perfil      1580 non-null   int64  \n",
      " 3   id_fecha             1580 non-null   int64  \n",
      " 4   num_cap_cer          1580 non-null   int64  \n",
      " 5   total_cursos         1580 non-null   int64  \n",
      " 6   volumen_capacitados  1580 non-null   int64  \n",
      " 7   total_horas          1580 non-null   int64  \n",
      " 8   total_ganancias      1580 non-null   float64\n",
      " 9   %_asistencia         1580 non-null   float64\n",
      " 10  tipo                 1580 non-null   object \n",
      " 11  area_familia         1580 non-null   object \n",
      " 12  especialidad_sector  1580 non-null   object \n",
      " 13  curso_perfil         1580 non-null   object \n",
      " 14  modalidad            1580 non-null   object \n",
      " 15  carga_horaria        1580 non-null   int64  \n",
      " 16  costo                1580 non-null   float64\n",
      " 17  anio                 1580 non-null   int64  \n",
      " 18  razon_social         1580 non-null   object \n",
      " 19  estado               1580 non-null   object \n",
      " 20  tipo_razon_social    1580 non-null   object \n",
      " 21  canton               1580 non-null   object \n",
      " 22  provincia            1580 non-null   object \n",
      "dtypes: float64(3), int64(9), object(11)\n",
      "memory usage: 284.0+ KB\n"
     ]
    }
   ],
   "source": [
    "data_oc.info()"
   ]
  },
  {
   "cell_type": "code",
   "execution_count": 21,
   "metadata": {},
   "outputs": [],
   "source": [
    "data_oc.to_csv(os.path.join(path_train_test_data,'data_oc.csv'),index=False)"
   ]
  },
  {
   "cell_type": "markdown",
   "metadata": {},
   "source": [
    "## OEC"
   ]
  },
  {
   "cell_type": "code",
   "execution_count": 13,
   "metadata": {},
   "outputs": [],
   "source": [
    "df_fact_oec = pd.read_csv(os.path.join(path_dm_oec,'fact_oec.csv'))\n",
    "df_perfil = pd.read_csv(os.path.join(path_dm_oec,'dim_perfil.csv'))\n",
    "df_fecha = pd.read_csv(os.path.join(path_dm_oec,'dim_fecha.csv'))"
   ]
  },
  {
   "cell_type": "code",
   "execution_count": 14,
   "metadata": {},
   "outputs": [],
   "source": [
    "data_oec = pd.merge(df_fact_oec,df_perfil,on='id_perfil',how='inner')\n",
    "data_oec = pd.merge(data_oec,df_fecha,on='id_fecha',how='inner')\n",
    "data_oec = pd.merge(data_oec,df_razon_social,on='id_razon_social',how='inner')"
   ]
  },
  {
   "cell_type": "code",
   "execution_count": 15,
   "metadata": {},
   "outputs": [],
   "source": [
    "data_oec.fillna({'costo':0.0},inplace=True)"
   ]
  },
  {
   "cell_type": "code",
   "execution_count": 16,
   "metadata": {},
   "outputs": [],
   "source": [
    "data_oec = data_oec.drop(['id_razon_social','id_perfil','id_fecha'],axis=1)"
   ]
  },
  {
   "cell_type": "code",
   "execution_count": 18,
   "metadata": {},
   "outputs": [
    {
     "data": {
      "text/html": [
       "<div>\n",
       "<style scoped>\n",
       "    .dataframe tbody tr th:only-of-type {\n",
       "        vertical-align: middle;\n",
       "    }\n",
       "\n",
       "    .dataframe tbody tr th {\n",
       "        vertical-align: top;\n",
       "    }\n",
       "\n",
       "    .dataframe thead th {\n",
       "        text-align: right;\n",
       "    }\n",
       "</style>\n",
       "<table border=\"1\" class=\"dataframe\">\n",
       "  <thead>\n",
       "    <tr style=\"text-align: right;\">\n",
       "      <th></th>\n",
       "      <th>num_cer</th>\n",
       "      <th>total_horas</th>\n",
       "      <th>total_cursos</th>\n",
       "      <th>volumen_capacitados</th>\n",
       "      <th>total_ganacias</th>\n",
       "      <th>%_asistencia</th>\n",
       "      <th>familia</th>\n",
       "      <th>sector</th>\n",
       "      <th>perfil</th>\n",
       "      <th>modalidad</th>\n",
       "      <th>carga_horaria</th>\n",
       "      <th>costo</th>\n",
       "      <th>dia</th>\n",
       "      <th>mes</th>\n",
       "      <th>anio</th>\n",
       "      <th>razon_social</th>\n",
       "      <th>estado</th>\n",
       "      <th>tipo_razon_social</th>\n",
       "      <th>canton</th>\n",
       "      <th>provincia</th>\n",
       "    </tr>\n",
       "  </thead>\n",
       "  <tbody>\n",
       "    <tr>\n",
       "      <th>0</th>\n",
       "      <td>6</td>\n",
       "      <td>36</td>\n",
       "      <td>3</td>\n",
       "      <td>8</td>\n",
       "      <td>1500.0</td>\n",
       "      <td>0.0</td>\n",
       "      <td>servicios financieros</td>\n",
       "      <td>actividades jurídicas y de contabilidad</td>\n",
       "      <td>asistencia de contabilidad</td>\n",
       "      <td>desconocida</td>\n",
       "      <td>6</td>\n",
       "      <td>250.0</td>\n",
       "      <td>1</td>\n",
       "      <td>6</td>\n",
       "      <td>2022</td>\n",
       "      <td>abalco haro cristian patricio</td>\n",
       "      <td>habilitado</td>\n",
       "      <td>organismo evaluador de la conformidad</td>\n",
       "      <td>guayaquil</td>\n",
       "      <td>guayas</td>\n",
       "    </tr>\n",
       "    <tr>\n",
       "      <th>1</th>\n",
       "      <td>1</td>\n",
       "      <td>6</td>\n",
       "      <td>1</td>\n",
       "      <td>1</td>\n",
       "      <td>250.0</td>\n",
       "      <td>0.0</td>\n",
       "      <td>servicios financieros</td>\n",
       "      <td>actividades jurídicas y de contabilidad</td>\n",
       "      <td>asistencia de contabilidad</td>\n",
       "      <td>desconocida</td>\n",
       "      <td>6</td>\n",
       "      <td>250.0</td>\n",
       "      <td>2</td>\n",
       "      <td>8</td>\n",
       "      <td>2022</td>\n",
       "      <td>abalco haro cristian patricio</td>\n",
       "      <td>habilitado</td>\n",
       "      <td>organismo evaluador de la conformidad</td>\n",
       "      <td>guayaquil</td>\n",
       "      <td>guayas</td>\n",
       "    </tr>\n",
       "    <tr>\n",
       "      <th>2</th>\n",
       "      <td>3</td>\n",
       "      <td>18</td>\n",
       "      <td>1</td>\n",
       "      <td>3</td>\n",
       "      <td>750.0</td>\n",
       "      <td>0.0</td>\n",
       "      <td>servicios financieros</td>\n",
       "      <td>actividades jurídicas y de contabilidad</td>\n",
       "      <td>asistencia de contabilidad</td>\n",
       "      <td>desconocida</td>\n",
       "      <td>6</td>\n",
       "      <td>250.0</td>\n",
       "      <td>4</td>\n",
       "      <td>4</td>\n",
       "      <td>2022</td>\n",
       "      <td>abalco haro cristian patricio</td>\n",
       "      <td>habilitado</td>\n",
       "      <td>organismo evaluador de la conformidad</td>\n",
       "      <td>guayaquil</td>\n",
       "      <td>guayas</td>\n",
       "    </tr>\n",
       "    <tr>\n",
       "      <th>3</th>\n",
       "      <td>4</td>\n",
       "      <td>24</td>\n",
       "      <td>1</td>\n",
       "      <td>4</td>\n",
       "      <td>1000.0</td>\n",
       "      <td>0.0</td>\n",
       "      <td>servicios financieros</td>\n",
       "      <td>actividades jurídicas y de contabilidad</td>\n",
       "      <td>asistencia de contabilidad</td>\n",
       "      <td>desconocida</td>\n",
       "      <td>6</td>\n",
       "      <td>250.0</td>\n",
       "      <td>5</td>\n",
       "      <td>3</td>\n",
       "      <td>2022</td>\n",
       "      <td>abalco haro cristian patricio</td>\n",
       "      <td>habilitado</td>\n",
       "      <td>organismo evaluador de la conformidad</td>\n",
       "      <td>guayaquil</td>\n",
       "      <td>guayas</td>\n",
       "    </tr>\n",
       "    <tr>\n",
       "      <th>4</th>\n",
       "      <td>8</td>\n",
       "      <td>48</td>\n",
       "      <td>3</td>\n",
       "      <td>12</td>\n",
       "      <td>2000.0</td>\n",
       "      <td>0.0</td>\n",
       "      <td>servicios financieros</td>\n",
       "      <td>actividades jurídicas y de contabilidad</td>\n",
       "      <td>asistencia de contabilidad</td>\n",
       "      <td>desconocida</td>\n",
       "      <td>6</td>\n",
       "      <td>250.0</td>\n",
       "      <td>6</td>\n",
       "      <td>2</td>\n",
       "      <td>2022</td>\n",
       "      <td>abalco haro cristian patricio</td>\n",
       "      <td>habilitado</td>\n",
       "      <td>organismo evaluador de la conformidad</td>\n",
       "      <td>guayaquil</td>\n",
       "      <td>guayas</td>\n",
       "    </tr>\n",
       "  </tbody>\n",
       "</table>\n",
       "</div>"
      ],
      "text/plain": [
       "   num_cer  total_horas  total_cursos  volumen_capacitados  total_ganacias  \\\n",
       "0        6           36             3                    8          1500.0   \n",
       "1        1            6             1                    1           250.0   \n",
       "2        3           18             1                    3           750.0   \n",
       "3        4           24             1                    4          1000.0   \n",
       "4        8           48             3                   12          2000.0   \n",
       "\n",
       "   %_asistencia                familia  \\\n",
       "0           0.0  servicios financieros   \n",
       "1           0.0  servicios financieros   \n",
       "2           0.0  servicios financieros   \n",
       "3           0.0  servicios financieros   \n",
       "4           0.0  servicios financieros   \n",
       "\n",
       "                                    sector                      perfil  \\\n",
       "0  actividades jurídicas y de contabilidad  asistencia de contabilidad   \n",
       "1  actividades jurídicas y de contabilidad  asistencia de contabilidad   \n",
       "2  actividades jurídicas y de contabilidad  asistencia de contabilidad   \n",
       "3  actividades jurídicas y de contabilidad  asistencia de contabilidad   \n",
       "4  actividades jurídicas y de contabilidad  asistencia de contabilidad   \n",
       "\n",
       "     modalidad  carga_horaria  costo  dia  mes  anio  \\\n",
       "0  desconocida              6  250.0    1    6  2022   \n",
       "1  desconocida              6  250.0    2    8  2022   \n",
       "2  desconocida              6  250.0    4    4  2022   \n",
       "3  desconocida              6  250.0    5    3  2022   \n",
       "4  desconocida              6  250.0    6    2  2022   \n",
       "\n",
       "                    razon_social      estado  \\\n",
       "0  abalco haro cristian patricio  habilitado   \n",
       "1  abalco haro cristian patricio  habilitado   \n",
       "2  abalco haro cristian patricio  habilitado   \n",
       "3  abalco haro cristian patricio  habilitado   \n",
       "4  abalco haro cristian patricio  habilitado   \n",
       "\n",
       "                       tipo_razon_social     canton provincia  \n",
       "0  organismo evaluador de la conformidad  guayaquil    guayas  \n",
       "1  organismo evaluador de la conformidad  guayaquil    guayas  \n",
       "2  organismo evaluador de la conformidad  guayaquil    guayas  \n",
       "3  organismo evaluador de la conformidad  guayaquil    guayas  \n",
       "4  organismo evaluador de la conformidad  guayaquil    guayas  "
      ]
     },
     "execution_count": 18,
     "metadata": {},
     "output_type": "execute_result"
    }
   ],
   "source": [
    "data_oec.head()"
   ]
  },
  {
   "cell_type": "code",
   "execution_count": 19,
   "metadata": {},
   "outputs": [
    {
     "name": "stdout",
     "output_type": "stream",
     "text": [
      "<class 'pandas.core.frame.DataFrame'>\n",
      "Int64Index: 14915 entries, 0 to 14914\n",
      "Data columns (total 20 columns):\n",
      " #   Column               Non-Null Count  Dtype  \n",
      "---  ------               --------------  -----  \n",
      " 0   num_cer              14915 non-null  int64  \n",
      " 1   total_horas          14915 non-null  int64  \n",
      " 2   total_cursos         14915 non-null  int64  \n",
      " 3   volumen_capacitados  14915 non-null  int64  \n",
      " 4   total_ganacias       14915 non-null  float64\n",
      " 5   %_asistencia         14915 non-null  float64\n",
      " 6   familia              14915 non-null  object \n",
      " 7   sector               14915 non-null  object \n",
      " 8   perfil               14915 non-null  object \n",
      " 9   modalidad            14915 non-null  object \n",
      " 10  carga_horaria        14915 non-null  int64  \n",
      " 11  costo                14915 non-null  float64\n",
      " 12  dia                  14915 non-null  int64  \n",
      " 13  mes                  14915 non-null  int64  \n",
      " 14  anio                 14915 non-null  int64  \n",
      " 15  razon_social         14915 non-null  object \n",
      " 16  estado               14915 non-null  object \n",
      " 17  tipo_razon_social    14915 non-null  object \n",
      " 18  canton               14915 non-null  object \n",
      " 19  provincia            14915 non-null  object \n",
      "dtypes: float64(3), int64(8), object(9)\n",
      "memory usage: 2.4+ MB\n"
     ]
    }
   ],
   "source": [
    "data_oec.info()"
   ]
  },
  {
   "cell_type": "code",
   "execution_count": 20,
   "metadata": {},
   "outputs": [],
   "source": [
    "data_oec.to_csv(os.path.join(path_train_test_data,'data_oec.csv'),index=False)"
   ]
  },
  {
   "cell_type": "markdown",
   "metadata": {},
   "source": [
    "## CI"
   ]
  },
  {
   "cell_type": "code",
   "execution_count": 21,
   "metadata": {},
   "outputs": [],
   "source": [
    "df_fact_ci = pd.read_csv(os.path.join(path_dm_ci,'fact_ci.csv'))\n",
    "df_curso = pd.read_csv(os.path.join(path_dm_ci,'dim_curso_ci.csv'))\n",
    "df_fecha = pd.read_csv(os.path.join(path_dm_ci,'dim_fecha_ci.csv'))"
   ]
  },
  {
   "cell_type": "code",
   "execution_count": 22,
   "metadata": {},
   "outputs": [],
   "source": [
    "data_ci = pd.merge(df_fact_ci,df_curso,on='id_curso',how='inner')\n",
    "data_ci = pd.merge(data_ci,df_fecha,on='id_fecha',how='inner')\n",
    "data_ci = pd.merge(data_ci,df_razon_social,on='id_razon_social',how='inner')"
   ]
  },
  {
   "cell_type": "code",
   "execution_count": 23,
   "metadata": {},
   "outputs": [],
   "source": [
    "data_ci.fillna({'costo':0.0},inplace=True)"
   ]
  },
  {
   "cell_type": "code",
   "execution_count": 24,
   "metadata": {},
   "outputs": [],
   "source": [
    "data_ci = data_ci.drop(['id_razon_social','id_curso','id_fecha'],axis=1)"
   ]
  },
  {
   "cell_type": "code",
   "execution_count": 25,
   "metadata": {},
   "outputs": [
    {
     "data": {
      "text/html": [
       "<div>\n",
       "<style scoped>\n",
       "    .dataframe tbody tr th:only-of-type {\n",
       "        vertical-align: middle;\n",
       "    }\n",
       "\n",
       "    .dataframe tbody tr th {\n",
       "        vertical-align: top;\n",
       "    }\n",
       "\n",
       "    .dataframe thead th {\n",
       "        text-align: right;\n",
       "    }\n",
       "</style>\n",
       "<table border=\"1\" class=\"dataframe\">\n",
       "  <thead>\n",
       "    <tr style=\"text-align: right;\">\n",
       "      <th></th>\n",
       "      <th>num_cap</th>\n",
       "      <th>total_cursos</th>\n",
       "      <th>volumen_capacitados</th>\n",
       "      <th>total_horas</th>\n",
       "      <th>total_ganancias</th>\n",
       "      <th>curso</th>\n",
       "      <th>area</th>\n",
       "      <th>especialidad</th>\n",
       "      <th>modalidad</th>\n",
       "      <th>carga_horaria</th>\n",
       "      <th>costo</th>\n",
       "      <th>anio</th>\n",
       "      <th>razon_social</th>\n",
       "      <th>estado</th>\n",
       "      <th>tipo_razon_social</th>\n",
       "      <th>canton</th>\n",
       "      <th>provincia</th>\n",
       "    </tr>\n",
       "  </thead>\n",
       "  <tbody>\n",
       "    <tr>\n",
       "      <th>0</th>\n",
       "      <td>14</td>\n",
       "      <td>1</td>\n",
       "      <td>14</td>\n",
       "      <td>336</td>\n",
       "      <td>0.0</td>\n",
       "      <td>curso básico de la competencia lingüística del...</td>\n",
       "      <td>educación y capacitación</td>\n",
       "      <td>idiomas</td>\n",
       "      <td>desconocida</td>\n",
       "      <td>24</td>\n",
       "      <td>0.0</td>\n",
       "      <td>2021</td>\n",
       "      <td>abata carrera gloria beatriz</td>\n",
       "      <td>calificado</td>\n",
       "      <td>capacitador independiente</td>\n",
       "      <td>esmeraldas</td>\n",
       "      <td>esmeraldas</td>\n",
       "    </tr>\n",
       "    <tr>\n",
       "      <th>1</th>\n",
       "      <td>69</td>\n",
       "      <td>1</td>\n",
       "      <td>69</td>\n",
       "      <td>2760</td>\n",
       "      <td>0.0</td>\n",
       "      <td>gestión de los procesos de contratación en la ...</td>\n",
       "      <td>administración y legislación</td>\n",
       "      <td>administración general</td>\n",
       "      <td>desconocida</td>\n",
       "      <td>40</td>\n",
       "      <td>0.0</td>\n",
       "      <td>2021</td>\n",
       "      <td>acosta mensias david alejandro</td>\n",
       "      <td>calificado</td>\n",
       "      <td>capacitador independiente</td>\n",
       "      <td>quito</td>\n",
       "      <td>pichincha</td>\n",
       "    </tr>\n",
       "    <tr>\n",
       "      <th>2</th>\n",
       "      <td>102</td>\n",
       "      <td>3</td>\n",
       "      <td>126</td>\n",
       "      <td>1632</td>\n",
       "      <td>0.0</td>\n",
       "      <td>prevención de riesgos laborales</td>\n",
       "      <td>procesos industriales</td>\n",
       "      <td>seguridad prevención de riesgos e higiene indu...</td>\n",
       "      <td>desconocida</td>\n",
       "      <td>16</td>\n",
       "      <td>0.0</td>\n",
       "      <td>2021</td>\n",
       "      <td>acurio rivera alexandra pamela</td>\n",
       "      <td>calificado</td>\n",
       "      <td>capacitador independiente</td>\n",
       "      <td>zaruma</td>\n",
       "      <td>el oro</td>\n",
       "    </tr>\n",
       "    <tr>\n",
       "      <th>3</th>\n",
       "      <td>7</td>\n",
       "      <td>3</td>\n",
       "      <td>126</td>\n",
       "      <td>112</td>\n",
       "      <td>0.0</td>\n",
       "      <td>primeros auxilios.</td>\n",
       "      <td>educación y capacitación</td>\n",
       "      <td>capacitación</td>\n",
       "      <td>desconocida</td>\n",
       "      <td>16</td>\n",
       "      <td>0.0</td>\n",
       "      <td>2021</td>\n",
       "      <td>acurio rivera alexandra pamela</td>\n",
       "      <td>calificado</td>\n",
       "      <td>capacitador independiente</td>\n",
       "      <td>zaruma</td>\n",
       "      <td>el oro</td>\n",
       "    </tr>\n",
       "    <tr>\n",
       "      <th>4</th>\n",
       "      <td>17</td>\n",
       "      <td>3</td>\n",
       "      <td>126</td>\n",
       "      <td>272</td>\n",
       "      <td>0.0</td>\n",
       "      <td>seguridad en el manejo de explosivos.</td>\n",
       "      <td>mecánica industrial y minería</td>\n",
       "      <td>explosivos</td>\n",
       "      <td>desconocida</td>\n",
       "      <td>16</td>\n",
       "      <td>0.0</td>\n",
       "      <td>2021</td>\n",
       "      <td>acurio rivera alexandra pamela</td>\n",
       "      <td>calificado</td>\n",
       "      <td>capacitador independiente</td>\n",
       "      <td>zaruma</td>\n",
       "      <td>el oro</td>\n",
       "    </tr>\n",
       "  </tbody>\n",
       "</table>\n",
       "</div>"
      ],
      "text/plain": [
       "   num_cap  total_cursos  volumen_capacitados  total_horas  total_ganancias  \\\n",
       "0       14             1                   14          336              0.0   \n",
       "1       69             1                   69         2760              0.0   \n",
       "2      102             3                  126         1632              0.0   \n",
       "3        7             3                  126          112              0.0   \n",
       "4       17             3                  126          272              0.0   \n",
       "\n",
       "                                               curso  \\\n",
       "0  curso básico de la competencia lingüística del...   \n",
       "1  gestión de los procesos de contratación en la ...   \n",
       "2                    prevención de riesgos laborales   \n",
       "3                                 primeros auxilios.   \n",
       "4              seguridad en el manejo de explosivos.   \n",
       "\n",
       "                            area  \\\n",
       "0       educación y capacitación   \n",
       "1   administración y legislación   \n",
       "2          procesos industriales   \n",
       "3       educación y capacitación   \n",
       "4  mecánica industrial y minería   \n",
       "\n",
       "                                        especialidad    modalidad  \\\n",
       "0                                            idiomas  desconocida   \n",
       "1                             administración general  desconocida   \n",
       "2  seguridad prevención de riesgos e higiene indu...  desconocida   \n",
       "3                                       capacitación  desconocida   \n",
       "4                                         explosivos  desconocida   \n",
       "\n",
       "   carga_horaria  costo  anio                    razon_social      estado  \\\n",
       "0             24    0.0  2021    abata carrera gloria beatriz  calificado   \n",
       "1             40    0.0  2021  acosta mensias david alejandro  calificado   \n",
       "2             16    0.0  2021  acurio rivera alexandra pamela  calificado   \n",
       "3             16    0.0  2021  acurio rivera alexandra pamela  calificado   \n",
       "4             16    0.0  2021  acurio rivera alexandra pamela  calificado   \n",
       "\n",
       "           tipo_razon_social      canton   provincia  \n",
       "0  capacitador independiente  esmeraldas  esmeraldas  \n",
       "1  capacitador independiente       quito   pichincha  \n",
       "2  capacitador independiente      zaruma      el oro  \n",
       "3  capacitador independiente      zaruma      el oro  \n",
       "4  capacitador independiente      zaruma      el oro  "
      ]
     },
     "execution_count": 25,
     "metadata": {},
     "output_type": "execute_result"
    }
   ],
   "source": [
    "data_ci.head()"
   ]
  },
  {
   "cell_type": "code",
   "execution_count": 26,
   "metadata": {},
   "outputs": [
    {
     "name": "stdout",
     "output_type": "stream",
     "text": [
      "<class 'pandas.core.frame.DataFrame'>\n",
      "Int64Index: 1100 entries, 0 to 1099\n",
      "Data columns (total 17 columns):\n",
      " #   Column               Non-Null Count  Dtype  \n",
      "---  ------               --------------  -----  \n",
      " 0   num_cap              1100 non-null   int64  \n",
      " 1   total_cursos         1100 non-null   int64  \n",
      " 2   volumen_capacitados  1100 non-null   int64  \n",
      " 3   total_horas          1100 non-null   int64  \n",
      " 4   total_ganancias      1100 non-null   float64\n",
      " 5   curso                1100 non-null   object \n",
      " 6   area                 1100 non-null   object \n",
      " 7   especialidad         1100 non-null   object \n",
      " 8   modalidad            1100 non-null   object \n",
      " 9   carga_horaria        1100 non-null   int64  \n",
      " 10  costo                1100 non-null   float64\n",
      " 11  anio                 1100 non-null   int64  \n",
      " 12  razon_social         1100 non-null   object \n",
      " 13  estado               1100 non-null   object \n",
      " 14  tipo_razon_social    1100 non-null   object \n",
      " 15  canton               1100 non-null   object \n",
      " 16  provincia            1100 non-null   object \n",
      "dtypes: float64(2), int64(6), object(9)\n",
      "memory usage: 154.7+ KB\n"
     ]
    }
   ],
   "source": [
    "data_ci.info()"
   ]
  },
  {
   "cell_type": "code",
   "execution_count": 27,
   "metadata": {},
   "outputs": [],
   "source": [
    "data_ci.to_csv(os.path.join(path_train_test_data,'data_ci.csv'),index=False)"
   ]
  }
 ],
 "metadata": {
  "kernelspec": {
   "display_name": "Python 3 (ipykernel)",
   "language": "python",
   "name": "python3"
  },
  "language_info": {
   "codemirror_mode": {
    "name": "ipython",
    "version": 3
   },
   "file_extension": ".py",
   "mimetype": "text/x-python",
   "name": "python",
   "nbconvert_exporter": "python",
   "pygments_lexer": "ipython3",
   "version": "3.9.12"
  },
  "vscode": {
   "interpreter": {
    "hash": "63c661572d1cc22dc54492c85e597a6f4d3f68ba2942f5ce5052621dfc927a3c"
   }
  }
 },
 "nbformat": 4,
 "nbformat_minor": 4
}
