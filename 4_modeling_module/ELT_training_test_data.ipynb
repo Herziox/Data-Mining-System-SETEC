{
 "cells": [
  {
   "cell_type": "markdown",
   "metadata": {},
   "source": [
    "# Instalación e Importación de  librerías"
   ]
  },
  {
   "cell_type": "code",
   "execution_count": 2,
   "metadata": {},
   "outputs": [],
   "source": [
    "import numpy as np\n",
    "import pandas as pd\n",
    "import os\n",
    "import re"
   ]
  },
  {
   "cell_type": "markdown",
   "metadata": {},
   "source": [
    "# Ruta de datos"
   ]
  },
  {
   "cell_type": "code",
   "execution_count": 3,
   "metadata": {},
   "outputs": [],
   "source": [
    "path_dwh = os.path.join(os.getcwd(), '..', '3_data_preprocesing_module',\"DATAWAREHOUSE\")\n",
    "path_dm_oc = os.path.join(path_dwh,'datamart_oc')\n",
    "path_dm_oec = os.path.join(path_dwh,'datamart_oec')\n",
    "path_dm_ci = os.path.join(path_dwh,'datamart_ci')\n",
    "path_train_data = os.path.join(os.getcwd(),'TRAIN_DATA')\n",
    "path_test_data = os.path.join(os.getcwd(),'TEST_DATA')"
   ]
  },
  {
   "cell_type": "markdown",
   "metadata": {},
   "source": [
    "# Extraccion de datos  "
   ]
  },
  {
   "cell_type": "markdown",
   "metadata": {},
   "source": [
    "## Dimensiones Razon_Social, Curso_Perfil y Fecha"
   ]
  },
  {
   "cell_type": "code",
   "execution_count": 20,
   "metadata": {},
   "outputs": [],
   "source": [
    "df_razon_social = pd.read_csv(os.path.join(path_dwh,'dim_razon_social.csv'))\n",
    "df_fecha = pd.read_csv(os.path.join(path_dwh,'dim_fecha.csv'))\n",
    "df_curso_perfil = pd.read_csv(os.path.join(path_dwh,'dim_curso_perfil.csv'))"
   ]
  },
  {
   "cell_type": "markdown",
   "metadata": {},
   "source": [
    "## Hechos OC, OEC y CI"
   ]
  },
  {
   "cell_type": "code",
   "execution_count": 21,
   "metadata": {},
   "outputs": [],
   "source": [
    "df_fact_oc_cp = pd.read_csv(os.path.join(path_dwh,'fact_oc_cp.csv'))\n",
    "df_fact_oc_rs = pd.read_csv(os.path.join(path_dwh,'fact_oc_rs.csv'))\n",
    "df_fact_oec_cp = pd.read_csv(os.path.join(path_dwh,'fact_oec_cp.csv'))\n",
    "df_fact_oec_rs = pd.read_csv(os.path.join(path_dwh,'fact_oec_rs.csv'))\n",
    "df_fact_ci_cp = pd.read_csv(os.path.join(path_dwh,'fact_ci_cp.csv'))\n",
    "df_fact_ci_rs = pd.read_csv(os.path.join(path_dwh,'fact_ci_rs.csv'))"
   ]
  },
  {
   "cell_type": "markdown",
   "metadata": {
    "tags": []
   },
   "source": [
    "## OC"
   ]
  },
  {
   "cell_type": "markdown",
   "metadata": {},
   "source": [
    "OC curso perfil"
   ]
  },
  {
   "cell_type": "code",
   "execution_count": 22,
   "metadata": {},
   "outputs": [],
   "source": [
    "data_oc_cp = pd.merge(df_fact_oc_cp,df_curso_perfil,on='id_curso_perfil',how='inner')\n",
    "data_oc_cp = pd.merge(data_oc_cp,df_fecha,on='id_fecha',how='inner')\n",
    "data_oc_cp = pd.merge(data_oc_cp,df_razon_social,on='id_razon_social',how='inner')"
   ]
  },
  {
   "cell_type": "code",
   "execution_count": 24,
   "metadata": {},
   "outputs": [],
   "source": [
    "#data_oc_cp.tail()\n",
    "#data_oc_cp.info()"
   ]
  },
  {
   "cell_type": "code",
   "execution_count": 25,
   "metadata": {},
   "outputs": [],
   "source": [
    "data_oc_cp_kpi4 = data_oc_cp[data_oc_cp['porcentaje_asistencia']>0]\n",
    "data_oc_cp_kpi4.to_csv(os.path.join(path_train_data,'data_oc_cp_kpi4.csv'),index=False)"
   ]
  },
  {
   "cell_type": "code",
   "execution_count": 26,
   "metadata": {},
   "outputs": [],
   "source": [
    "data_oc_cp.to_csv(os.path.join(path_train_data,'data_oc_cp.csv'),index=False)"
   ]
  },
  {
   "cell_type": "markdown",
   "metadata": {},
   "source": [
    "OC razon social"
   ]
  },
  {
   "cell_type": "code",
   "execution_count": 27,
   "metadata": {},
   "outputs": [],
   "source": [
    "data_oc_rs = pd.merge(df_fact_oc_rs,df_fecha,on='id_fecha',how='inner')\n",
    "data_oc_rs = pd.merge(data_oc_rs,df_razon_social,on='id_razon_social',how='inner')"
   ]
  },
  {
   "cell_type": "code",
   "execution_count": 28,
   "metadata": {},
   "outputs": [],
   "source": [
    "#data_oc_rs.head()\n",
    "#data_oc_rs.info()"
   ]
  },
  {
   "cell_type": "code",
   "execution_count": 29,
   "metadata": {},
   "outputs": [],
   "source": [
    "data_oc_rs_kpi4 = data_oc_rs[data_oc_rs['volumen_porcentaje_asistencia']>0]\n",
    "data_oc_rs_kpi4.to_csv(os.path.join(path_train_data,'data_oc_rs_kpi4.csv'),index=False)"
   ]
  },
  {
   "cell_type": "code",
   "execution_count": 30,
   "metadata": {},
   "outputs": [],
   "source": [
    "data_oc_rs.to_csv(os.path.join(path_train_data,'data_oc_rs.csv'),index=False)"
   ]
  },
  {
   "cell_type": "markdown",
   "metadata": {},
   "source": [
    "## OEC"
   ]
  },
  {
   "cell_type": "markdown",
   "metadata": {},
   "source": [
    "OEC Curso Perfil"
   ]
  },
  {
   "cell_type": "code",
   "execution_count": 31,
   "metadata": {},
   "outputs": [],
   "source": [
    "data_oec_cp = pd.merge(df_fact_oec_cp,df_curso_perfil,on='id_curso_perfil',how='inner')\n",
    "data_oec_cp = pd.merge(data_oec_cp,df_fecha,on='id_fecha',how='inner')\n",
    "data_oec_cp = pd.merge(data_oec_cp,df_razon_social,on='id_razon_social',how='inner')"
   ]
  },
  {
   "cell_type": "code",
   "execution_count": 32,
   "metadata": {},
   "outputs": [],
   "source": [
    "#data_oec_cp.head()\n",
    "#data_oec_cp.info()"
   ]
  },
  {
   "cell_type": "code",
   "execution_count": 33,
   "metadata": {},
   "outputs": [],
   "source": [
    "data_oec_cp_kpi4 = data_oec_cp[data_oec_cp['porcentaje_asistencia']>0]\n",
    "data_oec_cp_kpi4.to_csv(os.path.join(path_train_data,'data_oec_cp_kpi4.csv'),index=False)"
   ]
  },
  {
   "cell_type": "code",
   "execution_count": 34,
   "metadata": {},
   "outputs": [],
   "source": [
    "data_oec_cp.to_csv(os.path.join(path_train_data,'data_oec_cp.csv'),index=False)"
   ]
  },
  {
   "cell_type": "markdown",
   "metadata": {},
   "source": [
    "OEC Razon Social"
   ]
  },
  {
   "cell_type": "code",
   "execution_count": 35,
   "metadata": {},
   "outputs": [],
   "source": [
    "data_oec_rs = pd.merge(df_fact_oec_rs,df_fecha,on='id_fecha',how='inner')\n",
    "data_oec_rs = pd.merge(data_oec_rs,df_razon_social,on='id_razon_social',how='inner')"
   ]
  },
  {
   "cell_type": "code",
   "execution_count": 36,
   "metadata": {},
   "outputs": [],
   "source": [
    "#data_oec_rs.head()\n",
    "#data_oec_rs.info()"
   ]
  },
  {
   "cell_type": "code",
   "execution_count": 37,
   "metadata": {},
   "outputs": [],
   "source": [
    "data_oec_rs_kpi4 = data_oec_rs[data_oec_rs['volumen_porcentaje_asistencia']>0]\n",
    "data_oec_rs_kpi4.to_csv(os.path.join(path_train_data,'data_oec_rs_kpi4.csv'),index=False)"
   ]
  },
  {
   "cell_type": "code",
   "execution_count": 38,
   "metadata": {},
   "outputs": [],
   "source": [
    "data_oec_rs.to_csv(os.path.join(path_train_data,'data_oec_rs.csv'),index=False)"
   ]
  },
  {
   "cell_type": "markdown",
   "metadata": {},
   "source": [
    "## CI"
   ]
  },
  {
   "cell_type": "markdown",
   "metadata": {},
   "source": [
    "CI Curso Perfil"
   ]
  },
  {
   "cell_type": "code",
   "execution_count": 39,
   "metadata": {},
   "outputs": [],
   "source": [
    "data_ci_cp = pd.merge(df_fact_ci_cp,df_curso_perfil,on='id_curso_perfil',how='inner')\n",
    "data_ci_cp = pd.merge(data_ci_cp,df_fecha,on='id_fecha',how='inner')\n",
    "data_ci_cp = pd.merge(data_ci_cp,df_razon_social,on='id_razon_social',how='inner')"
   ]
  },
  {
   "cell_type": "code",
   "execution_count": 40,
   "metadata": {},
   "outputs": [],
   "source": [
    "#data_ci_cp.head()\n",
    "#data_ci_cp.info()"
   ]
  },
  {
   "cell_type": "code",
   "execution_count": 41,
   "metadata": {},
   "outputs": [],
   "source": [
    "data_ci_cp.to_csv(os.path.join(path_train_data,'data_ci_cp.csv'),index=False)"
   ]
  },
  {
   "cell_type": "markdown",
   "metadata": {},
   "source": [
    "CI Razon Social"
   ]
  },
  {
   "cell_type": "code",
   "execution_count": 42,
   "metadata": {},
   "outputs": [],
   "source": [
    "data_ci_rs = pd.merge(df_fact_ci_rs,df_fecha,on='id_fecha',how='inner')\n",
    "data_ci_rs = pd.merge(data_ci_rs,df_razon_social,on='id_razon_social',how='inner')"
   ]
  },
  {
   "cell_type": "code",
   "execution_count": 43,
   "metadata": {},
   "outputs": [],
   "source": [
    "#data_ci_rs.head()\n",
    "#data_ci_rs.info()"
   ]
  },
  {
   "cell_type": "code",
   "execution_count": 44,
   "metadata": {},
   "outputs": [],
   "source": [
    "data_ci_rs.to_csv(os.path.join(path_train_data,'data_ci_rs.csv'),index=False)"
   ]
  },
  {
   "cell_type": "code",
   "execution_count": null,
   "metadata": {},
   "outputs": [],
   "source": []
  }
 ],
 "metadata": {
  "kernelspec": {
   "display_name": "Python 3",
   "language": "python",
   "name": "python3"
  },
  "language_info": {
   "codemirror_mode": {
    "name": "ipython",
    "version": 3
   },
   "file_extension": ".py",
   "mimetype": "text/x-python",
   "name": "python",
   "nbconvert_exporter": "python",
   "pygments_lexer": "ipython3",
   "version": "3.11.2"
  },
  "vscode": {
   "interpreter": {
    "hash": "074baf2443af9b9e7a5cc585dd3f00f918704c09e8006da438627ab36315982b"
   }
  }
 },
 "nbformat": 4,
 "nbformat_minor": 4
}
