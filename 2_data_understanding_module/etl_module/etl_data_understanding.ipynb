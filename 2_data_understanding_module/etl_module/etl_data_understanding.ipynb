{
 "cells": [
  {
   "cell_type": "code",
   "execution_count": 1,
   "id": "ae05461e",
   "metadata": {},
   "outputs": [],
   "source": [
    "import numpy as np\n",
    "import pandas as pd"
   ]
  },
  {
   "cell_type": "markdown",
   "id": "f82d724a",
   "metadata": {},
   "source": [
    "# Describing Data"
   ]
  },
  {
   "cell_type": "markdown",
   "id": "c5d6be0c",
   "metadata": {},
   "source": [
    "**Amount of data.** For most modeling techniques, there are trade-offs associated with data size. Large data sets can produce more accurate models, but they can also lengthen the processing time. Consider whether using a subset of data is a possibility. When taking notes for the final report, be sure to include size statistics for all data sets, and remember to consider both the number of records as well as fields (attributes) when describing data.\n",
    "\n",
    "**Value types.** Data can take a variety of formats, such as numeric, categorical (string), or Boolean (true/false). Paying attention to value type can head off problems during later modeling.\n",
    "\n",
    "**Coding schemes.** Frequently, values in the database are representations of characteristics such as gender or product type. For example, one data set may use M and F to represent male and female, while another may use the numeric values 1 and 2. Note any conflicting schemes in the data report."
   ]
  },
  {
   "cell_type": "markdown",
   "id": "0e29f6eb",
   "metadata": {},
   "source": []
  },
  {
   "cell_type": "code",
   "execution_count": 1,
   "id": "e6cf05bf",
   "metadata": {},
   "outputs": [
    {
     "name": "stdout",
     "output_type": "stream",
     "text": [
      "hello word\n"
     ]
    }
   ],
   "source": [
    "# PCOC \n",
    "# OC\n",
    "# "
   ]
  },
  {
   "cell_type": "markdown",
   "id": "956e9251",
   "metadata": {},
   "source": [
    "## Exploring Data"
   ]
  },
  {
   "cell_type": "markdown",
   "id": "d5af4749",
   "metadata": {},
   "source": []
  },
  {
   "cell_type": "markdown",
   "id": "ae07f53b",
   "metadata": {},
   "source": [
    "# Verifying Data Quality"
   ]
  },
  {
   "cell_type": "markdown",
   "id": "aef84840",
   "metadata": {},
   "source": []
  }
 ],
 "metadata": {
  "kernelspec": {
   "display_name": "Python 3.10.7 64-bit",
   "language": "python",
   "name": "python3"
  },
  "language_info": {
   "codemirror_mode": {
    "name": "ipython",
    "version": 3
   },
   "file_extension": ".py",
   "mimetype": "text/x-python",
   "name": "python",
   "nbconvert_exporter": "python",
   "pygments_lexer": "ipython3",
   "version": "3.10.7"
  },
  "vscode": {
   "interpreter": {
    "hash": "63c661572d1cc22dc54492c85e597a6f4d3f68ba2942f5ce5052621dfc927a3c"
   }
  }
 },
 "nbformat": 4,
 "nbformat_minor": 5
}
