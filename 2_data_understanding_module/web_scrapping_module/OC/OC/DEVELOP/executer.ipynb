{
 "cells": [
  {
   "cell_type": "code",
   "execution_count": 1,
   "id": "aafea464-d48a-4684-b1a7-291cd0ba6eac",
   "metadata": {},
   "outputs": [],
   "source": [
    "import sys\n",
    "import os\n",
    "import shutil\n",
    "import pandas as pd\n",
    "import time\n",
    "from threading import Thread, Barrier"
   ]
  },
  {
   "cell_type": "code",
   "execution_count": null,
   "id": "a91f55a3-9a33-41da-b4eb-1238c9e2bffa",
   "metadata": {},
   "outputs": [],
   "source": [
    "arr = ['oc','ocf','occ','ocs','oc_cc','oc_cl','pcoc','oec','oecc','oecs','oecf','pcoec','ci','ci_lca','pcci']\n",
    "doc_name = 'ci_lca'\n",
    "QUERY_INPUT = '_'\n",
    "N_DRIVERS = 8\n",
    "new_ws = no\n",
    "\n",
    "os.system(f'python web_scraper.py {doc_name} {QUERY_INPUT} {N_DRIVERS} {new_ws}')"
   ]
  }
 ],
 "metadata": {
  "kernelspec": {
   "display_name": "Python 3 (ipykernel)",
   "language": "python",
   "name": "python3"
  },
  "language_info": {
   "codemirror_mode": {
    "name": "ipython",
    "version": 3
   },
   "file_extension": ".py",
   "mimetype": "text/x-python",
   "name": "python",
   "nbconvert_exporter": "python",
   "pygments_lexer": "ipython3",
   "version": "3.9.12"
  }
 },
 "nbformat": 4,
 "nbformat_minor": 5
}
