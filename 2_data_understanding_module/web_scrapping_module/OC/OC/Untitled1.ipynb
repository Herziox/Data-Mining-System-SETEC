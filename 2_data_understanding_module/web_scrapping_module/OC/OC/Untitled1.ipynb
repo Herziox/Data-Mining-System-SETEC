{
 "cells": [
  {
   "cell_type": "code",
   "execution_count": 1,
   "id": "3d472a33-328b-4981-8ad9-b8c9ec6a614a",
   "metadata": {},
   "outputs": [],
   "source": [
    "import pandas as pd"
   ]
  },
  {
   "cell_type": "code",
   "execution_count": 2,
   "id": "70965639-e89b-4e97-a329-a35f72f4e854",
   "metadata": {},
   "outputs": [],
   "source": [
    "df = pd.read_csv('oc0.csv')"
   ]
  },
  {
   "cell_type": "code",
   "execution_count": 5,
   "id": "2d2cdfb9-3894-4b45-a218-88309b8da5c4",
   "metadata": {},
   "outputs": [
    {
     "data": {
      "text/plain": [
       "'CECAD-CENTRO DE CAPACITACIONES S.A.S. B.I.C.'"
      ]
     },
     "execution_count": 5,
     "metadata": {},
     "output_type": "execute_result"
    }
   ],
   "source": [
    "df['Razon_Social'].iloc[-1]"
   ]
  },
  {
   "cell_type": "code",
   "execution_count": null,
   "id": "35c9280d-4d38-4a8e-9ca2-ca0e5478cd61",
   "metadata": {},
   "outputs": [],
   "source": []
  }
 ],
 "metadata": {
  "kernelspec": {
   "display_name": "Python 3 (ipykernel)",
   "language": "python",
   "name": "python3"
  },
  "language_info": {
   "codemirror_mode": {
    "name": "ipython",
    "version": 3
   },
   "file_extension": ".py",
   "mimetype": "text/x-python",
   "name": "python",
   "nbconvert_exporter": "python",
   "pygments_lexer": "ipython3",
   "version": "3.9.12"
  }
 },
 "nbformat": 4,
 "nbformat_minor": 5
}
