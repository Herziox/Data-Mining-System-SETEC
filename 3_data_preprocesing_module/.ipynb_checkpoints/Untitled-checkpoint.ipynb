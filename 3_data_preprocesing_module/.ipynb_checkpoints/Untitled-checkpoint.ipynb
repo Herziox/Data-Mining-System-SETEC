{
 "cells": [
  {
   "cell_type": "code",
   "execution_count": null,
   "id": "8fa04cdb-6175-49b8-9d22-40af89b90c00",
   "metadata": {},
   "outputs": [],
   "source": [
    "# Funciones extra"
   ]
  },
  {
   "cell_type": "code",
   "execution_count": null,
   "id": "dd35606b-0a35-4074-8c9e-afcb6ebb8707",
   "metadata": {},
   "outputs": [],
   "source": [
    "new_df = []\n",
    "aux_tipo = []\n",
    "len_rs = df_razon_social.shape[0]\n",
    "for i in range(len_rs):\n",
    "    if i > 0:\n",
    "        row_last = df_razon_social.iloc[i-1]\n",
    "        \n",
    "    row = df_razon_social.iloc[i]\n",
    "    \n",
    "    if i < len_rs-1: \n",
    "        row_next = df_razon_social.iloc[i+1]\n",
    "        \n",
    "    if row_next[0] == row[0] and row_next[4] == row[4] and i>0:\n",
    "        \n",
    "        aux_tipo= [row_next[2],row[2]]\n",
    "        if i < len_rs-2:\n",
    "            row_next_next = df_razon_social.iloc[i+2]\n",
    "            if row_next[0] == row_next_next[0] and row_next[4] == row_next_next[4]:\n",
    "                aux_tipo= [row_next_next[2],row_next[2],row[2]]\n",
    "        aux_row = [row[0],row[1],aux_tipo,row[3],row[4],row[5]]\n",
    "        new_df.append(aux_row)\n",
    "        aux_tipo=[]\n",
    "    else:\n",
    "        if row_last[0] == row[0] and row_last[4] == row[4] and i>0:\n",
    "            continue\n",
    "        new_df.append(row.values)"
   ]
  }
 ],
 "metadata": {
  "kernelspec": {
   "display_name": "Python 3 (ipykernel)",
   "language": "python",
   "name": "python3"
  },
  "language_info": {
   "name": ""
  }
 },
 "nbformat": 4,
 "nbformat_minor": 5
}
