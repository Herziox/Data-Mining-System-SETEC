{
 "cells": [
  {
   "cell_type": "markdown",
   "id": "306d4027-7e3d-459a-b06a-5f516a3365ca",
   "metadata": {},
   "source": [
    "# Importación e Intalación de Librerías"
   ]
  },
  {
   "cell_type": "code",
   "execution_count": 1,
   "id": "d323e615-bfe7-4f26-a76e-6777c8f1d197",
   "metadata": {},
   "outputs": [],
   "source": [
    "import csv\n",
    "import pandas as pd\n",
    "import sys\n",
    "import numpy as np\n",
    "import os\n",
    "from hermetrics.levenshtein import Levenshtein\n",
    "import re\n",
    "import mysql.connector\n",
    "from tqdm import tqdm"
   ]
  },
  {
   "cell_type": "markdown",
   "id": "dc6456c3-4d65-42e2-b0e5-2ade24851326",
   "metadata": {},
   "source": [
    "# Ruta de archivos"
   ]
  },
  {
   "cell_type": "code",
   "execution_count": 2,
   "id": "3b4c8576-ca9c-46eb-a52c-9105e39bb725",
   "metadata": {},
   "outputs": [
    {
     "name": "stdout",
     "output_type": "stream",
     "text": [
      "Definición de rutas de entrada y salida\n"
     ]
    }
   ],
   "source": [
    "print('Definición de rutas de entrada y salida')"
   ]
  },
  {
   "cell_type": "code",
   "execution_count": 3,
   "id": "e51c352a-af91-43dc-bb9b-d91c5ea31b8c",
   "metadata": {},
   "outputs": [],
   "source": [
    "#Rutas de entrada\n",
    "path_sd = os.path.abspath(os.path.join(os.getcwd(), '..','2_data_understanding_module','collecting_initial_data','existing_data','DIRTY_DATA'))\n",
    "path_dd = os.path.abspath(os.path.join(os.getcwd(), '..','2_data_understanding_module','collecting_initial_data','existing_data','DOWNLOADED_DATA'))\n",
    "path_ad = os.path.abspath(os.path.join(os.getcwd(), '..','2_data_understanding_module','collecting_initial_data','additional_data'))\n",
    "\n",
    "#Rutas salida\n",
    "path_db = os.path.abspath(os.path.join(os.getcwd(),'CLEANED_DATA'))\n",
    "path_dwh = os.path.join(os.getcwd(), \"DATAWAREHOUSE\")\n",
    "path_dm_oc = os.path.join(path_dwh,'datamart_oc')\n",
    "path_dm_oec = os.path.join(path_dwh,'datamart_oec')\n",
    "path_dm_ci = os.path.join(path_dwh,'datamart_ci')"
   ]
  },
  {
   "cell_type": "markdown",
   "id": "71c1b420-5933-4a97-a2e6-88b03ed845b9",
   "metadata": {},
   "source": [
    "# Funciones"
   ]
  },
  {
   "cell_type": "code",
   "execution_count": 4,
   "id": "13dc7f05-e79b-4be4-b26d-193a858b0d69",
   "metadata": {},
   "outputs": [
    {
     "name": "stdout",
     "output_type": "stream",
     "text": [
      "Definición de Funciones\n"
     ]
    }
   ],
   "source": [
    "print('Definición de Funciones')"
   ]
  },
  {
   "cell_type": "code",
   "execution_count": 5,
   "id": "792c92fd-c9e8-4403-bc8a-f409c40a2fec",
   "metadata": {},
   "outputs": [],
   "source": [
    "stopwords = open(os.path.join(path_db,'spanish.txt'),\"r\", encoding='utf-8')\n",
    "stopwords = stopwords.readlines()\n",
    "stopwords = [x.replace('\\n','') for x in stopwords]\n",
    "global puntuacion\n",
    "puntuacion = '!\"#$%&:;\\'()*+,-./?@[\\]^_`{|}~()'"
   ]
  },
  {
   "cell_type": "code",
   "execution_count": 6,
   "id": "907ebf57-eab4-48dd-a122-30fbc5504d93",
   "metadata": {},
   "outputs": [],
   "source": [
    "def normalizar(text):\n",
    "    text = text.lower() \n",
    "    text = text.replace('á','a')\n",
    "    text = text.replace('é','e')\n",
    "    text = text.replace('í','i')\n",
    "    text = text.replace('ó','o')\n",
    "    text = text.replace('ú','u')\n",
    "    text = text.strip()\n",
    "    text = text.split(' ')\n",
    "    re_punc = re.compile('[%s]' % re.escape(puntuacion))\n",
    "    stripped = [re_punc.sub(' ', w) for w in text]\n",
    "    text = ' '.join(stripped)\n",
    "    text = text.split(' ')\n",
    "    new_text = []\n",
    "    for i in range(len(text)):\n",
    "        char = text[i]\n",
    "        if char not in stopwords and char!=' ':\n",
    "            new_text.append(text[i])\n",
    "    new_text = ' '.join(new_text)\n",
    "    new_text = new_text.strip()\n",
    "            \n",
    "    return new_text"
   ]
  },
  {
   "cell_type": "code",
   "execution_count": 7,
   "id": "1ff6cfb6-c679-4f87-8afb-8615dfe518b4",
   "metadata": {},
   "outputs": [],
   "source": [
    "def get_costos(dfp,df_info):\n",
    "    \n",
    "    return dfp"
   ]
  },
  {
   "cell_type": "code",
   "execution_count": 8,
   "id": "c154b3b8-8152-43f6-b993-4ddf8c9d279a",
   "metadata": {},
   "outputs": [],
   "source": [
    "year_list = [str(x) for x in range(2022,2009,-1)]\n",
    "\n",
    "def get_year(x):\n",
    "    for year in year_list:\n",
    "        if re.search('-'+year+'\\s|'+year+'-|-'+year+'$',x.replace('/','-')):\n",
    "            return '31-12-'+year\n",
    "    return 'sin_anio'"
   ]
  },
  {
   "cell_type": "code",
   "execution_count": 9,
   "id": "bd42109d-91e0-41b6-8d70-464a9686a847",
   "metadata": {},
   "outputs": [],
   "source": [
    "def get_year_by_oc(x,y):\n",
    "    if x=='sin_anio':\n",
    "        if y != 'sin fecha resolución' and not pd.isna(y):\n",
    "            return '31-12-'+str(y[-4:])\n",
    "    else:\n",
    "        return x"
   ]
  },
  {
   "cell_type": "code",
   "execution_count": 10,
   "id": "6d1cc6b9-20a3-4343-b20b-8a973ba3fc75",
   "metadata": {},
   "outputs": [],
   "source": [
    "def get_perfil_price(x,y):\n",
    "    if x=='perfil':\n",
    "        return 250.0\n",
    "    else:\n",
    "        return y"
   ]
  },
  {
   "cell_type": "code",
   "execution_count": 11,
   "id": "0313028d-c37f-41d1-beae-4ab7b1c9c3d8",
   "metadata": {},
   "outputs": [],
   "source": [
    "def get_perfil_hours(x,y):\n",
    "    if x=='perfil':\n",
    "        return 6\n",
    "    else:\n",
    "        return y"
   ]
  },
  {
   "cell_type": "code",
   "execution_count": 12,
   "id": "e6d414d9-8fe0-4903-b532-a61d922d3d50",
   "metadata": {},
   "outputs": [],
   "source": [
    "lev = Levenshtein()"
   ]
  },
  {
   "cell_type": "markdown",
   "id": "c3a27afa-5929-40ab-bc88-d5371f31aa13",
   "metadata": {},
   "source": [
    "# EXTRACCIÓN DE DATOS"
   ]
  },
  {
   "cell_type": "code",
   "execution_count": 13,
   "id": "b8fa994a-a385-4cc0-b94c-5d2bc90b6022",
   "metadata": {},
   "outputs": [
    {
     "name": "stdout",
     "output_type": "stream",
     "text": [
      "############ FASE DE EXTRACCIÓN DE DATOS ############\n"
     ]
    }
   ],
   "source": [
    "print('############ FASE DE EXTRACCIÓN DE DATOS ############')"
   ]
  },
  {
   "cell_type": "markdown",
   "id": "1358d9c4-70cb-4c80-af85-799b531777a0",
   "metadata": {
    "id": "ZAb2UjZFkzwh",
    "tags": []
   },
   "source": [
    "## Catálogo Nacional de Cualificaciones - CNC \n",
    "\n",
    "- CNC para Operadores de Capacitación - CNCOC\n",
    "- CNC para Organismos Evaluadores de  la Conformidad - CNCOEC\n",
    "- CNC  Perfiles Inhabilitados - CNCPI"
   ]
  },
  {
   "cell_type": "code",
   "execution_count": 69,
   "id": "2a56a2b0-8abd-4b9b-98df-d69ead4962b1",
   "metadata": {},
   "outputs": [
    {
     "name": "stdout",
     "output_type": "stream",
     "text": [
      "ETL CNC\n"
     ]
    }
   ],
   "source": [
    "print('ETL CNC')"
   ]
  },
  {
   "cell_type": "markdown",
   "id": "63eddaed-c505-44cf-bc8b-dfaf52c513a9",
   "metadata": {
    "id": "VWx4LGntlVMF"
   },
   "source": [
    "### ETL CNCOC"
   ]
  },
  {
   "cell_type": "code",
   "execution_count": 70,
   "id": "2d6da2b7-d0c3-4cac-ba37-91596b5ce81d",
   "metadata": {
    "id": "DXnzxy-EfOya"
   },
   "outputs": [],
   "source": [
    "df_cncoc = pd.read_csv(os.path.join(path_sd,'cncoc.csv'))\n",
    "df_cncoc.insert(4, 'tipo', \"oc\")\n",
    "df_cncoc.insert(5, 'estado', \"habilitado\")"
   ]
  },
  {
   "cell_type": "code",
   "execution_count": 71,
   "id": "c395067e-600d-4964-8cc2-0782322615a2",
   "metadata": {
    "id": "5bRma65oXBhW"
   },
   "outputs": [],
   "source": [
    "# df_cncoc.info()"
   ]
  },
  {
   "cell_type": "markdown",
   "id": "38a817a5-3a3a-47e5-8601-5f8faf9b6f49",
   "metadata": {
    "id": "zu0ZfZL3mJQA"
   },
   "source": [
    "### ETL CNCOEC"
   ]
  },
  {
   "cell_type": "code",
   "execution_count": 73,
   "id": "5673b486-2bda-4997-89f5-ffc754a522f7",
   "metadata": {
    "id": "SPpYj32ymL0l"
   },
   "outputs": [],
   "source": [
    "df_cncoec = pd.read_csv(os.path.join(path_sd,'cncoec0.csv'))\n",
    "df_cncoec.insert(4, 'tipo', \"oec\")\n",
    "df_cncoec.insert(5, 'estado', \"habilitado\")"
   ]
  },
  {
   "cell_type": "code",
   "execution_count": 74,
   "id": "7b6e0a9b-286c-4616-a834-75c6dd475b87",
   "metadata": {
    "id": "qjh1y45RXO4G"
   },
   "outputs": [],
   "source": [
    "# df_cncoec.info()"
   ]
  },
  {
   "cell_type": "markdown",
   "id": "34787a9a-3537-4bfc-ab66-6a2ee1ebb475",
   "metadata": {
    "id": "5W9Ce-kNmMcO"
   },
   "source": [
    "### ETL CNCPI"
   ]
  },
  {
   "cell_type": "code",
   "execution_count": 75,
   "id": "23b3f6d8-e310-4e56-8700-d08f2dbeee9e",
   "metadata": {
    "id": "aLDcElUfo1Wz"
   },
   "outputs": [],
   "source": [
    "df_cncpi = pd.read_csv(os.path.join(path_sd,'cncpi0.csv'))\n",
    "df_cncpi.insert(1, 'competenecia_laboral', \"sin competencia laboral\")\n",
    "df_cncpi.insert(4, 'tipo', \"desconocido\")\n",
    "df_cncpi.insert(5, 'estado', \"inhabilidato\")"
   ]
  },
  {
   "cell_type": "code",
   "execution_count": 76,
   "id": "c7ad9d16-6764-4aaf-9d70-47eae2b7c89f",
   "metadata": {
    "id": "yludAgpYXzgh"
   },
   "outputs": [],
   "source": [
    "# df_cncpi.info()"
   ]
  },
  {
   "cell_type": "markdown",
   "id": "31388027-bd3f-40f5-a265-d6baf7507d54",
   "metadata": {
    "id": "Jky1Q-6ZqPtZ"
   },
   "source": [
    " ### **CNC** - INTEGRACIÓN DE DATOS"
   ]
  },
  {
   "cell_type": "code",
   "execution_count": 77,
   "id": "277d0ae2-d6a0-479d-8eab-1262bc889a43",
   "metadata": {
    "id": "uuIYxMwzsU-K"
   },
   "outputs": [],
   "source": [
    "df_cnc = pd.concat([df_cncoc,df_cncoec,df_cncpi],axis=0)\n",
    "df_cnc = df_cnc.apply(lambda x: x.astype(str).str.lower())"
   ]
  },
  {
   "cell_type": "code",
   "execution_count": 78,
   "id": "06cec7b3-5f86-4790-be22-047ae2dab530",
   "metadata": {
    "id": "l40F17Vebn7g"
   },
   "outputs": [],
   "source": [
    "df_cnc = df_cnc.drop_duplicates()"
   ]
  },
  {
   "cell_type": "code",
   "execution_count": 79,
   "id": "ce7a0eaa-ae21-44ba-b4ad-a3a57bc019bf",
   "metadata": {
    "id": "pOdTOSsqYaOO"
   },
   "outputs": [],
   "source": [
    "#df_cnc.tail()\n",
    "#df_cnc.info()"
   ]
  },
  {
   "cell_type": "markdown",
   "id": "1421c093-ad55-4e5d-942a-cbfee8feedd4",
   "metadata": {
    "id": "ng_3L5p_s_Dm"
   },
   "source": [
    "### Guardar datos CNC"
   ]
  },
  {
   "cell_type": "code",
   "execution_count": 80,
   "id": "698706c9-d0b5-4528-88cd-8ca455721600",
   "metadata": {
    "id": "tYfGT-KVsrjS"
   },
   "outputs": [],
   "source": [
    "df_cnc.to_csv(os.path.join(path_db,'cnc.csv'),index=False)"
   ]
  },
  {
   "cell_type": "markdown",
   "id": "ab8b000e-112a-41e1-b4d8-cd9b062899ed",
   "metadata": {
    "id": "53weQp7UtFOc"
   },
   "source": [
    "## Operadores de Capacitación - OC\n",
    "\n",
    "• [Operadores de Capacitación](http://portal.trabajo.gob.ec/setec-portal-web/pages/operadoresCapacitacion.jsf#j_idt24:j_idt25) - OC\n",
    "\n",
    "• [OC - Suspendidos](http://portal.trabajo.gob.ec/setec-portal-web/pages/operadoresCapacitacion.jsf#j_idt24:j_idt125) - OCS\n",
    "\n",
    "• [OC - Finalizaron su vigencia de Calificación](http://portal.trabajo.gob.ec/setec-portal-web/pages/operadoresCapacitacion.jsf#j_idt24:j_idt134) - OCF\n",
    "\n",
    "• [OC - Cancelados](http://portal.trabajo.gob.ec/setec-portal-web/pages/operadoresCapacitacion.jsf#j_idt24:j_idt144) - OCC\n"
   ]
  },
  {
   "cell_type": "code",
   "execution_count": 81,
   "id": "d883b65a-29cb-412a-b85a-d98a6d020869",
   "metadata": {},
   "outputs": [
    {
     "name": "stdout",
     "output_type": "stream",
     "text": [
      "ETL OC\n"
     ]
    }
   ],
   "source": [
    "print('ETL OC')"
   ]
  },
  {
   "cell_type": "markdown",
   "id": "15b6de4d-90d0-46f8-8afe-134acd24553c",
   "metadata": {
    "id": "DQmP98C4tk_D"
   },
   "source": [
    "### ETL OC"
   ]
  },
  {
   "cell_type": "code",
   "execution_count": 82,
   "id": "cbf251e5-3820-44fc-9273-8b849c832d4e",
   "metadata": {
    "id": "K5R5LaWYts8B"
   },
   "outputs": [],
   "source": [
    "df_oc = pd.read_csv(os.path.join(path_sd,'oc0.csv'))\n",
    "df_oc['ruc_o_codigo'] = df_oc['ruc_o_codigo'].astype('object')\n",
    "df_oc[\"nombre_comercial\"].fillna(\"Sin Nombre Comercial\", inplace = True) \n",
    "df_oc.insert(9, 'estado', df_oc.pop('estado'))"
   ]
  },
  {
   "cell_type": "code",
   "execution_count": 83,
   "id": "2af6d9ae-e255-4a2a-9b52-51692320257c",
   "metadata": {},
   "outputs": [],
   "source": [
    "df_oc['ruc_o_codigo'] = df_oc['ruc_o_codigo'].apply(lambda x: '0'+x if len(x)==12 else x)\n",
    "df_oc['celular'] = df_oc['celular'].apply(lambda x: '0'+x if len(x)==9 else x)"
   ]
  },
  {
   "cell_type": "code",
   "execution_count": 84,
   "id": "322eb48d-0afe-4a9c-b481-91e219aff04c",
   "metadata": {
    "id": "KV3ByWmEENMm"
   },
   "outputs": [],
   "source": [
    "#df_oc.head()\n",
    "#df_oc.info()"
   ]
  },
  {
   "cell_type": "markdown",
   "id": "b42713e4-4b85-4f76-94ac-5c2d7f9a16ea",
   "metadata": {
    "id": "CAVyFsTay8ZT"
   },
   "source": [
    "### ETL OCS"
   ]
  },
  {
   "cell_type": "code",
   "execution_count": 85,
   "id": "a0b0b1ac-ec88-4340-b534-4d4ea55a3ab9",
   "metadata": {
    "id": "D3QTbHK1uMfy"
   },
   "outputs": [],
   "source": [
    "df_ocs = pd.read_csv(os.path.join(path_sd,'ocs.csv'))\n",
    "df_ocs['ruc_o_codigo'] = df_ocs['ruc_o_codigo'].astype('object')\n",
    "df_ocs.insert(2, 'nombre_comercial', 'Sin Nombre Comercial')\n",
    "df_ocs.insert(3, 'telefono', 'Sin Teléfono')\n",
    "df_ocs.insert(4, 'celular', 'Sin Celular')\n",
    "df_ocs.insert(5, 'correo_electronico', 'Sin Email')\n",
    "df_ocs.insert(6, 'numero_resolucion', 'Sin Número Resolución')\n",
    "df_ocs.insert(7, 'fecha_resolucion', 'Sin Fecha Resolución')\n",
    "df_ocs.insert(8, 'canton', 'Sin Cantón')"
   ]
  },
  {
   "cell_type": "code",
   "execution_count": 86,
   "id": "31514e3b-e042-4a3d-a524-ca6d6de3652e",
   "metadata": {
    "id": "416tELntERqU"
   },
   "outputs": [],
   "source": [
    "#df_ocs.head()\n",
    "#df_ocs.info()"
   ]
  },
  {
   "cell_type": "markdown",
   "id": "fe63c7f6-f3cb-4b0c-85d5-029f8ee81c8a",
   "metadata": {
    "id": "tav2VpmDWN3s"
   },
   "source": [
    "### ETL OCC"
   ]
  },
  {
   "cell_type": "code",
   "execution_count": 87,
   "id": "b96f9319-c050-4483-b4f8-5b8d3df4da7f",
   "metadata": {
    "id": "g4xdN_z5ZS1s"
   },
   "outputs": [],
   "source": [
    "df_occ = pd.read_csv(os.path.join(path_sd,'occ.csv'))\n",
    "df_occ['ruc_o_codigo'] = df_occ['ruc_o_codigo'].astype('str')\n",
    "df_occ.insert(2, 'nombre_comercial', 'Sin Nombre Comercial')\n",
    "df_occ.insert(3, 'telefono', 'Sin Teléfono')\n",
    "df_occ.insert(4, 'celular', 'Sin Celular')\n",
    "df_occ.insert(5, 'correo_electronico', 'Sin Email')\n",
    "df_occ.insert(6, 'numero_resolucion', 'Sin Número Resolución')\n",
    "df_occ.insert(7, 'fecha_resolucion', 'Sin Fecha Resolución')\n",
    "df_occ.insert(8, 'canton', 'Sin Cantón')"
   ]
  },
  {
   "cell_type": "code",
   "execution_count": 88,
   "id": "d5fb1749-762e-4e86-97d6-59b65c32cc9e",
   "metadata": {},
   "outputs": [],
   "source": [
    "df_occ['ruc_o_codigo'] = df_occ['ruc_o_codigo'].apply(lambda x: '0'+x if len(x)==12 else x)"
   ]
  },
  {
   "cell_type": "code",
   "execution_count": 89,
   "id": "fa749112-3adf-4c85-8f71-23d339353ce6",
   "metadata": {
    "id": "NodvwnDmEe3H"
   },
   "outputs": [],
   "source": [
    "#df_occ.head()\n",
    "#df_occ.info()"
   ]
  },
  {
   "cell_type": "markdown",
   "id": "be2e84e9-d508-47ad-89c1-886914e6cac9",
   "metadata": {
    "id": "Siwhx6b2ZQLH"
   },
   "source": [
    "### ETL OCF"
   ]
  },
  {
   "cell_type": "code",
   "execution_count": 90,
   "id": "3c37b9e8-5847-4302-8b1b-b87b8b818c4a",
   "metadata": {
    "id": "EKcfmeeHuIHs"
   },
   "outputs": [],
   "source": [
    "df_ocf = pd.read_csv(os.path.join(path_sd,'ocf0.csv'))\n",
    "df_ocf['ruc_o_codigo'] = df_ocf['ruc_o_codigo'].astype('str')\n",
    "df_ocf.insert(2, 'nombre_comercial', 'Sin Nombre Comercial')\n",
    "df_ocf.insert(3, 'telefono', 'Sin Teléfono')\n",
    "df_ocf.insert(4, 'celular', 'Sin Celular')\n",
    "df_ocf.insert(5, 'correo_electronico', 'Sin Correo Electronico')\n",
    "df_ocf.insert(6, 'numero_resolucion', 'Sin Número Resolución')\n",
    "df_ocf.insert(7, 'fecha_resolucion', 'Sin Fecha Resolución')\n",
    "df_ocf.insert(8, 'canton', 'Sin Cantón')"
   ]
  },
  {
   "cell_type": "code",
   "execution_count": 91,
   "id": "3076c3d2-49d3-46c3-b86b-1451b63e9e48",
   "metadata": {
    "colab": {
     "base_uri": "https://localhost:8080/"
    },
    "executionInfo": {
     "elapsed": 209,
     "status": "ok",
     "timestamp": 1670123314644,
     "user": {
      "displayName": "Sergio Jimenez",
      "userId": "03709241177248490041"
     },
     "user_tz": 300
    },
    "id": "UocjqTHIGG1U",
    "outputId": "2eb02001-7265-492b-e48d-dce7ec9539ae"
   },
   "outputs": [],
   "source": [
    "df_ocf['ruc_o_codigo'] = df_ocf['ruc_o_codigo'].apply(lambda x: '0'+x if len(x)==12 else x)"
   ]
  },
  {
   "cell_type": "code",
   "execution_count": 92,
   "id": "30d27c2e-cd20-4c29-aec2-a3fc0ac9d337",
   "metadata": {},
   "outputs": [],
   "source": [
    "#df_ocf.head()\n",
    "#df_ocf.info()"
   ]
  },
  {
   "cell_type": "markdown",
   "id": "a5c917ee-3deb-4c12-92a1-77713581cfee",
   "metadata": {
    "id": "Vh8ENpmAWy0A"
   },
   "source": [
    "### DATOS LIMPIOS OC"
   ]
  },
  {
   "cell_type": "code",
   "execution_count": 93,
   "id": "ec48c7f4-f123-4a15-b751-dec8d2cd6470",
   "metadata": {
    "id": "GVlTr6c-W6gL"
   },
   "outputs": [],
   "source": [
    "df_oc = pd.concat([df_oc,df_ocs,df_ocf,df_occ],axis=0)\n",
    "df_oc = df_oc.apply(lambda x: x.astype(str).str.lower())\n",
    "df_oc = df_oc.drop_duplicates()\n",
    "df_oc = df_oc.drop_duplicates(subset='razon_social',keep='first')"
   ]
  },
  {
   "cell_type": "code",
   "execution_count": 94,
   "id": "518e142b-1898-4a23-b336-84f86f91a207",
   "metadata": {
    "colab": {
     "base_uri": "https://localhost:8080/"
    },
    "executionInfo": {
     "elapsed": 232,
     "status": "ok",
     "timestamp": 1670126718929,
     "user": {
      "displayName": "Sergio Jimenez",
      "userId": "03709241177248490041"
     },
     "user_tz": 300
    },
    "id": "h7CycEl-HfcW",
    "outputId": "a7dd9b46-5506-45d3-c3b9-428986768d66"
   },
   "outputs": [],
   "source": [
    "#df_oc.head()\n",
    "#df_OC.info()"
   ]
  },
  {
   "cell_type": "markdown",
   "id": "d2e63eee-ebd3-4530-a658-af1ccb450990",
   "metadata": {
    "id": "3irbh91bGSDR"
   },
   "source": [
    "### Guardar datos OC"
   ]
  },
  {
   "cell_type": "code",
   "execution_count": 95,
   "id": "7c92848b-069b-4eb8-981f-c5cb822a94f3",
   "metadata": {
    "id": "vkC_P2l4XNMf"
   },
   "outputs": [],
   "source": [
    "df_oc.to_csv(os.path.join(path_db,'oc.csv'),index=False)"
   ]
  },
  {
   "cell_type": "markdown",
   "id": "884ae9a6-a7c9-4f0a-a049-dab4c75d56bd",
   "metadata": {
    "id": "kgtmYINPatOh"
   },
   "source": [
    "### ETL OC_CC"
   ]
  },
  {
   "cell_type": "code",
   "execution_count": 54,
   "id": "5b760e51-220b-464d-af16-7b3ac32b345f",
   "metadata": {
    "id": "A23oAFWza00e"
   },
   "outputs": [],
   "source": [
    "df_oc_cc = pd.read_csv(os.path.join(path_sd,'oc_cc0.csv'))\n",
    "df_oc_cc = df_oc_cc.dropna(subset=['area','especialidad','curso','modalidad','carga_horaria'])\n",
    "df_oc_cc = df_oc_cc.apply(lambda x: x.astype(str).str.lower())\n",
    "df_oc_cc['carga_horaria'] = df_oc_cc['carga_horaria'].astype('int64')\n",
    "df_oc_cc = df_oc_cc.drop_duplicates()"
   ]
  },
  {
   "cell_type": "code",
   "execution_count": 55,
   "id": "ba6ed10f-1bfe-4510-9b4c-9708593536fb",
   "metadata": {
    "id": "rThWKmLAIw_y"
   },
   "outputs": [],
   "source": [
    "#df_oc_cc.head()\n",
    "#df_oc_cc.info()"
   ]
  },
  {
   "cell_type": "markdown",
   "id": "244741ce-ed26-40a0-b92d-a77870549964",
   "metadata": {
    "id": "OKSknk8TGbgg"
   },
   "source": [
    "### Guardar datos OC_CC"
   ]
  },
  {
   "cell_type": "code",
   "execution_count": 56,
   "id": "57483df8-1bd8-403c-ae8c-b027cd729d1f",
   "metadata": {
    "id": "BnqJehR6bRXN"
   },
   "outputs": [],
   "source": [
    "df_oc_cc.to_csv(os.path.join(path_db,'oc_cc.csv'),index=False)"
   ]
  },
  {
   "cell_type": "markdown",
   "id": "31287a82-1875-4796-8bd8-ca0365efd795",
   "metadata": {
    "id": "T9WommIObvg8"
   },
   "source": [
    "### ETL OC_CL"
   ]
  },
  {
   "cell_type": "code",
   "execution_count": 99,
   "id": "44283586-2155-4981-a2a0-436ce4959cd7",
   "metadata": {
    "colab": {
     "base_uri": "https://localhost:8080/"
    },
    "executionInfo": {
     "elapsed": 218,
     "status": "ok",
     "timestamp": 1666275347629,
     "user": {
      "displayName": "Sergio Jimenez",
      "userId": "03709241177248490041"
     },
     "user_tz": 300
    },
    "id": "Uod-4gw-bzYO",
    "outputId": "fbf6e56e-aca2-42e7-c57f-5bae774980ae"
   },
   "outputs": [],
   "source": [
    "df_oc_cl = pd.read_csv(os.path.join(path_sd,'oc_cl0.csv'))\n",
    "df_oc_cl = df_oc_cl.apply(lambda x: x.astype(str).str.lower())\n",
    "df_oc_cl = df_oc_cl.drop_duplicates()"
   ]
  },
  {
   "cell_type": "code",
   "execution_count": 100,
   "id": "07d2149a-412b-4ef5-aab1-38b15fb2ede7",
   "metadata": {},
   "outputs": [],
   "source": [
    "#df_oc_cl.head()\n",
    "#df_oc_cl.info()"
   ]
  },
  {
   "cell_type": "markdown",
   "id": "50eb2318-cb79-4416-8df2-9d04e6c0fe7e",
   "metadata": {
    "id": "Jx6uRYeuGg05"
   },
   "source": [
    "### Guardar datos OC_CL"
   ]
  },
  {
   "cell_type": "code",
   "execution_count": 101,
   "id": "a6772132-44a1-468e-b2b1-0607e92acaf3",
   "metadata": {
    "id": "G-HoQ81kb8tv"
   },
   "outputs": [],
   "source": [
    "df_oc_cl.to_csv(os.path.join(path_db,'oc_cl.csv'),index=False)"
   ]
  },
  {
   "cell_type": "markdown",
   "id": "1c9c481d-a8bc-4556-a1a7-0b0970ef0c14",
   "metadata": {
    "id": "1nA3GQd7cM-V"
   },
   "source": [
    "## Personas Capacitadas por OC - PCOC\n",
    "\n",
    "• [Búsqueda Personas Capacitadas](http://portal.trabajo.gob.ec/setec-portal-web/pages/personasCapacitadasOperadores.jsf#j_idt24:j_idt25) - PCOC"
   ]
  },
  {
   "cell_type": "code",
   "execution_count": 102,
   "id": "d48c99c5-a1bb-4123-96dc-357c4d241763",
   "metadata": {},
   "outputs": [
    {
     "name": "stdout",
     "output_type": "stream",
     "text": [
      "ETL PCOC\n"
     ]
    }
   ],
   "source": [
    "print('ETL PCOC')"
   ]
  },
  {
   "cell_type": "code",
   "execution_count": 103,
   "id": "f6a9863b-e1d2-4b08-b8b4-d5c19aac7245",
   "metadata": {
    "colab": {
     "base_uri": "https://localhost:8080/"
    },
    "executionInfo": {
     "elapsed": 1890,
     "status": "ok",
     "timestamp": 1666275698164,
     "user": {
      "displayName": "Sergio Jimenez",
      "userId": "03709241177248490041"
     },
     "user_tz": 300
    },
    "id": "e_F_8QMWcSMa",
    "outputId": "dfb5c3ca-79b0-40a7-fb8f-c5f0ae143a3f"
   },
   "outputs": [],
   "source": [
    "df_pcoc = pd.read_csv(os.path.join(path_sd,'pcoc.csv'))\n",
    "df_pcoc[\"numero_documento\"].fillna(\"Sin Número Documento\", inplace = True)\n",
    "df_pcoc[\"apellidos_nombres\"].fillna(\"Sin Apellidos y Nombres\", inplace = True)\n",
    "df_pcoc[\"numero_horas\"].fillna(0, inplace = True)\n",
    "df_pcoc[\"numero_horas\"]=df_pcoc[\"numero_horas\"].astype('int64')\n",
    "df_pcoc[\"razon_social_oc\"].fillna(\"Sin Razón Social OC\", inplace = True)\n",
    "df_pcoc[\"nombre_comercial_oc\"].fillna(\"Sin Nombre Comercial OC\", inplace = True)\n",
    "df_pcoc = df_pcoc.apply(lambda x: x.astype(str).str.lower())\n",
    "df_pcoc[\"numero_horas\"]=df_pcoc[\"numero_horas\"].astype('int64')\n",
    "df_pcoc = df_pcoc.drop_duplicates()    "
   ]
  },
  {
   "cell_type": "code",
   "execution_count": 104,
   "id": "deaea957-57aa-4995-b83c-9b71b935b2af",
   "metadata": {
    "id": "jFXt0ZrhKn_-"
   },
   "outputs": [],
   "source": [
    "#df_pcoc.head()\n",
    "#df_pcoc.info()"
   ]
  },
  {
   "cell_type": "code",
   "execution_count": 105,
   "id": "fbed951e-f049-4406-bdeb-e7d21c047122",
   "metadata": {
    "id": "nQUOOaWUdhnY"
   },
   "outputs": [],
   "source": [
    "df_pcoc.to_csv(os.path.join(path_db,'pcoc.csv'),index=False)"
   ]
  },
  {
   "cell_type": "markdown",
   "id": "895c30c4-a7b7-4efd-b34d-12350dc9e193",
   "metadata": {
    "id": "2Fp1wCiTY-qs"
   },
   "source": [
    "## Organismos Evaluadores de  la Conformidad - OEC\n",
    "\n",
    "• [Organismos Evaluadores de la Conformidad](http://portal.trabajo.gob.ec/setec-portal-web/pages/evaluadoresConformidad.jsf#j_idt24:j_idt25) - OEC\n",
    "\n",
    "• [OEC - Suspendidos](http://portal.trabajo.gob.ec/setec-portal-web/pages/evaluadoresConformidad.jsf#j_idt24:j_idt103) - OECS\n",
    "\n",
    "• [OEC - Finalizaron su vigencia de Reconocimiento](http://portal.trabajo.gob.ec/setec-portal-web/pages/evaluadoresConformidad.jsf#j_idt24:j_idt112) - OECF\n",
    "\n",
    "• [OEC - Cancelados](http://portal.trabajo.gob.ec/setec-portal-web/pages/evaluadoresConformidad.jsf#j_idt24:j_idt122) - OECC"
   ]
  },
  {
   "cell_type": "code",
   "execution_count": 106,
   "id": "ce7e807d-2b45-4e6e-93df-9ba7cbf2135e",
   "metadata": {},
   "outputs": [
    {
     "name": "stdout",
     "output_type": "stream",
     "text": [
      "ETL OEC\n"
     ]
    }
   ],
   "source": [
    "print('ETL OEC')"
   ]
  },
  {
   "cell_type": "markdown",
   "id": "3df27f75-be97-41a1-a765-926f1dc88489",
   "metadata": {
    "id": "Cz_o_WfmaCtZ"
   },
   "source": [
    "### ETL OEC"
   ]
  },
  {
   "cell_type": "code",
   "execution_count": 107,
   "id": "74d90b72-d104-4efd-9b45-a454ba5ba87d",
   "metadata": {
    "colab": {
     "base_uri": "https://localhost:8080/"
    },
    "executionInfo": {
     "elapsed": 1399,
     "status": "ok",
     "timestamp": 1667837706414,
     "user": {
      "displayName": "Sergio Jimenez",
      "userId": "03709241177248490041"
     },
     "user_tz": 300
    },
    "id": "Q3Ii7zBwY7GY",
    "outputId": "ec853b3f-11ce-46b8-ae4e-98f369ea6149"
   },
   "outputs": [],
   "source": [
    "df_oec = pd.read_csv(os.path.join(path_sd,'oec0.csv'))\n",
    "df_oec['celular'] = df_oec['celular'].astype('object')\n",
    "df_oec = df_oec.apply(lambda x: x.astype(str).str.lower())\n",
    "df_oec['ruc_o_codigo'] = df_oec['ruc_o_codigo'].apply(lambda x: '0'+x if len(x)==12 else x)\n",
    "df_oec['celular'] = df_oec['celular'].apply(lambda x: '0'+x if len(x)==9 else x)\n",
    "df_oec = df_oec.drop_duplicates()"
   ]
  },
  {
   "cell_type": "code",
   "execution_count": 108,
   "id": "63b4924a-73a2-4495-ac81-7cc634dfe449",
   "metadata": {},
   "outputs": [],
   "source": [
    "#df_oec.head()\n",
    "#df_oec.info()"
   ]
  },
  {
   "cell_type": "markdown",
   "id": "0bfc66e2-9ae8-4117-9c4a-6f92cadc49a4",
   "metadata": {
    "id": "JeWQ5Q8qeeIt"
   },
   "source": [
    "### ETL OECS"
   ]
  },
  {
   "cell_type": "code",
   "execution_count": 109,
   "id": "fb2d6a1b-6c8f-4d2e-a832-c786b291f889",
   "metadata": {
    "colab": {
     "base_uri": "https://localhost:8080/"
    },
    "executionInfo": {
     "elapsed": 715,
     "status": "ok",
     "timestamp": 1667837728936,
     "user": {
      "displayName": "Sergio Jimenez",
      "userId": "03709241177248490041"
     },
     "user_tz": 300
    },
    "id": "0oRtTLDoeh8f",
    "outputId": "57d75c4e-b2a3-4778-dfde-ee3b2f9714db"
   },
   "outputs": [],
   "source": [
    "df_oecs = pd.read_csv(os.path.join(path_sd,'oecs.csv'))\n",
    "df_oecs.insert(2, 'direccion', 'Sin Dirección')\n",
    "df_oecs.insert(3, 'telefono', 'Sin Teléfono')\n",
    "df_oecs.insert(4, 'celular', 'Sin Celular')\n",
    "df_oecs.insert(5, 'correo_electronico', 'Sin Email')\n",
    "df_oecs.insert(6, 'numero_resolucion', 'Sin Número Resolución')\n",
    "df_oecs.insert(7, 'fecha_resolucion', 'Sin Fecha Resolución')\n",
    "df_oecs.insert(8, 'canton', 'Sin Cantón')\n",
    "df_oecs = df_oecs.apply(lambda x: x.astype(str).str.lower())"
   ]
  },
  {
   "cell_type": "code",
   "execution_count": 110,
   "id": "d143f273-7a32-4c4c-aaa8-cee1c5561d91",
   "metadata": {},
   "outputs": [],
   "source": [
    "df_oecs['ruc_o_codigo'] = df_oecs['ruc_o_codigo'].apply(lambda x: '0'+x if len(x)==12 else x)"
   ]
  },
  {
   "cell_type": "code",
   "execution_count": 111,
   "id": "6fb87615-80db-4b12-9654-a227b03d4467",
   "metadata": {},
   "outputs": [],
   "source": [
    "#df_oecs.head()\n",
    "#df_oecs.info()"
   ]
  },
  {
   "cell_type": "markdown",
   "id": "2e3c3ab9-910a-433e-83b7-4e9cd8a90178",
   "metadata": {
    "id": "IkoZwzy4gGkl"
   },
   "source": [
    "### ETL OECF"
   ]
  },
  {
   "cell_type": "code",
   "execution_count": 112,
   "id": "5d9dee9a-44e9-40d7-95e9-0f6c2b58de95",
   "metadata": {
    "colab": {
     "base_uri": "https://localhost:8080/"
    },
    "executionInfo": {
     "elapsed": 671,
     "status": "ok",
     "timestamp": 1667837731617,
     "user": {
      "displayName": "Sergio Jimenez",
      "userId": "03709241177248490041"
     },
     "user_tz": 300
    },
    "id": "KzovkkyKePkn",
    "outputId": "720c6efa-c492-4bdd-c039-28b7923774b5"
   },
   "outputs": [],
   "source": [
    "df_oecf = pd.read_csv(os.path.join(path_sd,'oecf0.csv'))\n",
    "df_oecf.insert(2, 'direccion', 'Sin Dirección')\n",
    "df_oecf.insert(3, 'telefono', 'Sin Teléfono')\n",
    "df_oecf.insert(4, 'celular', 'Sin Celular')\n",
    "df_oecf.insert(5, 'correo_electronico', 'Sin Email')\n",
    "df_oecf.insert(6, 'numero_resolucion', 'Sin Número Resolución')\n",
    "df_oecf.insert(7, 'fecha_resolucion', 'Sin Fecha Resolución')\n",
    "df_oecf.insert(8, 'canton', 'Sin Cantón')\n",
    "df_oecf = df_oecf.apply(lambda x: x.astype(str).str.lower())\n",
    "df_oecs['ruc_o_codigo'] = df_oecs['ruc_o_codigo'].apply(lambda x: '0'+x if len(x)==12 else x)"
   ]
  },
  {
   "cell_type": "code",
   "execution_count": 113,
   "id": "5530c221-1704-43b5-af17-be9530d6db36",
   "metadata": {},
   "outputs": [],
   "source": [
    "#df_oecf.head()\n",
    "#df_oecf.info()"
   ]
  },
  {
   "cell_type": "markdown",
   "id": "88eff452-e13f-42ef-9ee9-8d10d1f776c2",
   "metadata": {
    "id": "ULvq4WPZgIH9"
   },
   "source": [
    "### ETL OECC"
   ]
  },
  {
   "cell_type": "code",
   "execution_count": 114,
   "id": "d138babd-bfb3-40a1-a842-a5dbbcca30ba",
   "metadata": {
    "colab": {
     "base_uri": "https://localhost:8080/"
    },
    "executionInfo": {
     "elapsed": 966,
     "status": "ok",
     "timestamp": 1667837733910,
     "user": {
      "displayName": "Sergio Jimenez",
      "userId": "03709241177248490041"
     },
     "user_tz": 300
    },
    "id": "RBhiU6xxf7wM",
    "outputId": "879b92f4-9282-4203-e448-dc7247b9bad9"
   },
   "outputs": [],
   "source": [
    "df_oecc = pd.read_csv(os.path.join(path_sd,'oecc.csv'))\n",
    "df_oecc.insert(2, 'direccion', 'Sin Dirección')\n",
    "df_oecc.insert(3, 'telefono', 'Sin Teléfono')\n",
    "df_oecc.insert(4, 'celular', 'Sin Celular')\n",
    "df_oecc.insert(5, 'correo_electronico', 'Sin Email')\n",
    "df_oecc.insert(6, 'numero_resolucion', 'Sin Número Resolución')\n",
    "df_oecc.insert(7, 'fecha_resolucion', 'Sin Fecha Resolución')\n",
    "df_oecc.insert(8, 'canton', 'Sin Cantón')                               \n",
    "df_oecc = df_oecc.apply(lambda x: x.astype(str).str.lower())\n",
    "df_oecc['ruc_o_codigo'] = df_oecc['ruc_o_codigo'].apply(lambda x: '0'+x if len(x)==12 else x)"
   ]
  },
  {
   "cell_type": "code",
   "execution_count": 115,
   "id": "76fa7e7c-e03d-4bf9-b7a1-800dea1a8675",
   "metadata": {},
   "outputs": [],
   "source": [
    "#df_oecc.head()\n",
    "#df_oecc.info()"
   ]
  },
  {
   "cell_type": "markdown",
   "id": "cded6aeb-790e-4474-bcf5-00e619e9a783",
   "metadata": {
    "id": "XGizLJlRgJS2"
   },
   "source": [
    "### DATOS LIMPIOS OEC"
   ]
  },
  {
   "cell_type": "code",
   "execution_count": 116,
   "id": "e0332b99-51e2-4968-b7bd-9f8abdf9e87e",
   "metadata": {
    "colab": {
     "base_uri": "https://localhost:8080/"
    },
    "executionInfo": {
     "elapsed": 300,
     "status": "ok",
     "timestamp": 1667837736464,
     "user": {
      "displayName": "Sergio Jimenez",
      "userId": "03709241177248490041"
     },
     "user_tz": 300
    },
    "id": "df6k4OujgMP1",
    "outputId": "e43af870-3281-44a4-e783-0a734d1519cf"
   },
   "outputs": [],
   "source": [
    "df_oec = pd.concat([df_oec,df_oecs,df_oecf,df_oecc],axis=0)\n",
    "df_oec = df_oec.drop_duplicates()\n",
    "df_oec = df_oec.drop_duplicates(subset='razon_social',keep='first')"
   ]
  },
  {
   "cell_type": "code",
   "execution_count": 117,
   "id": "3d7bd566-0bdf-4413-af08-c1d78858004e",
   "metadata": {},
   "outputs": [],
   "source": [
    "#df_OEC.head()\n",
    "#df_OEC.info()"
   ]
  },
  {
   "cell_type": "markdown",
   "id": "9716cb29-8cf6-43fb-bfae-3e142708a073",
   "metadata": {
    "id": "gzhqr2iQGp5n"
   },
   "source": [
    "### Guardar datos OEC"
   ]
  },
  {
   "cell_type": "code",
   "execution_count": 118,
   "id": "b9f3d6ac-8b69-4020-a810-1245a023e2dc",
   "metadata": {
    "id": "PHNP_3T9gDVW"
   },
   "outputs": [],
   "source": [
    "df_oec.to_csv(os.path.join(path_db,'oec.csv'),index=False)"
   ]
  },
  {
   "cell_type": "markdown",
   "id": "f32fa8f6-636b-4c31-b1a4-314aa497000e",
   "metadata": {
    "id": "2iJYmLlphJ6f"
   },
   "source": [
    "### ETL OEC_DR"
   ]
  },
  {
   "cell_type": "code",
   "execution_count": 119,
   "id": "ed54cb96-1fcc-4a68-b81b-6c2ca5c25f6f",
   "metadata": {
    "colab": {
     "base_uri": "https://localhost:8080/"
    },
    "executionInfo": {
     "elapsed": 5,
     "status": "ok",
     "timestamp": 1666276584696,
     "user": {
      "displayName": "Sergio Jimenez",
      "userId": "03709241177248490041"
     },
     "user_tz": 300
    },
    "id": "Z4B7HpU2hHCn",
    "outputId": "3297399a-0b49-4feb-b516-2fae2cac431b"
   },
   "outputs": [],
   "source": [
    "df_oec_dr = pd.read_csv(os.path.join(path_sd,'oec_dr0.csv'))\n",
    "df_oec_dr[\"perfil\"].fillna(\"Sin Perfil\", inplace = True)\n",
    "df_oec_dr[\"esquema_de_certificacion\"].fillna(\"Sin Esquema de Certificación\", inplace = True)\n",
    "df_oec_dr = df_oec_dr.apply(lambda x: x.astype(str).str.lower())\n",
    "df_oec_dr['ruc_o_codigo'] = df_oec_dr['ruc_o_codigo'].apply(lambda x: '0'+x if len(x)==12 else x)\n",
    "df_oec_dr = df_oec_dr.drop_duplicates()"
   ]
  },
  {
   "cell_type": "code",
   "execution_count": 120,
   "id": "f8ef72ea-7d78-458d-9014-c06ea8cc11d0",
   "metadata": {},
   "outputs": [],
   "source": [
    "#df_oec_dr.head()\n",
    "#df_oec_dr.info()"
   ]
  },
  {
   "cell_type": "markdown",
   "id": "86559ccf-3217-4ad6-a60b-df59f3627716",
   "metadata": {
    "id": "yIilWkS6GtWK"
   },
   "source": [
    "### Guardar datos OEC_DR"
   ]
  },
  {
   "cell_type": "code",
   "execution_count": 121,
   "id": "d150ce9b-987c-45b9-aec2-6ca020cf665d",
   "metadata": {
    "id": "IjJ4Cdbtil43"
   },
   "outputs": [],
   "source": [
    "df_oec_dr.to_csv(os.path.join(path_db,'oec_dr.csv'),index=False)"
   ]
  },
  {
   "cell_type": "markdown",
   "id": "cc6cea67-d817-464a-98ce-4e203b227509",
   "metadata": {
    "id": "LPQ3uyN6miXw"
   },
   "source": [
    "## Personas Certificadas por OEC - PCOEC\n",
    "\n",
    "• [Búsqueda Personas Certificadas](http://portal.trabajo.gob.ec/setec-portal-web/pages/legitimidadCertificacion.jsf#j_idt24:j_idt25) - PCOEC"
   ]
  },
  {
   "cell_type": "code",
   "execution_count": 122,
   "id": "4197c4c7-518b-4d02-93af-e99cd777936d",
   "metadata": {},
   "outputs": [
    {
     "name": "stdout",
     "output_type": "stream",
     "text": [
      "ETL PCOEC\n"
     ]
    }
   ],
   "source": [
    "print('ETL PCOEC')"
   ]
  },
  {
   "cell_type": "code",
   "execution_count": 123,
   "id": "252774ca-e6ca-43f1-b6ca-fed09443e60f",
   "metadata": {
    "colab": {
     "base_uri": "https://localhost:8080/"
    },
    "executionInfo": {
     "elapsed": 2803,
     "status": "ok",
     "timestamp": 1666276796481,
     "user": {
      "displayName": "Sergio Jimenez",
      "userId": "03709241177248490041"
     },
     "user_tz": 300
    },
    "id": "NJ9d2qxFiqwP",
    "outputId": "b959dbe8-00e9-4446-9320-23287cc4d656"
   },
   "outputs": [],
   "source": [
    "df_pcoec = pd.read_csv(os.path.join(path_sd,'pcoec.csv'))\n",
    "\n",
    "df_pcoec = df_pcoec.apply(lambda x: x.astype(str).str.lower())\n",
    "df_pcoec['ruc_o_codigo'] = df_pcoec['ruc_o_codigo'].apply(lambda x: '0'+x if len(x)==12 else x)\n",
    "df_pcoec['celular'] = df_pcoec['celular'].apply(lambda x: '0'+x if len(x)==9 else x)\n",
    "df_pcoec = df_pcoec.drop_duplicates()"
   ]
  },
  {
   "cell_type": "code",
   "execution_count": 124,
   "id": "1a75cf71-c5a7-4665-aee7-064f3593d0a8",
   "metadata": {},
   "outputs": [],
   "source": [
    "#df_pcoec.head()\n",
    "#df_pcoec.info()"
   ]
  },
  {
   "cell_type": "markdown",
   "id": "750a4c76-90e9-47a6-9dcd-baf958721411",
   "metadata": {
    "id": "kiB1LVa8GzEw"
   },
   "source": [
    "### Guardar datos PCOEC"
   ]
  },
  {
   "cell_type": "code",
   "execution_count": 125,
   "id": "63a1eb2f-e5f0-4e51-85c0-675a74eaeb5f",
   "metadata": {
    "id": "RaUMbFsVo6CG"
   },
   "outputs": [],
   "source": [
    "df_pcoec.to_csv(os.path.join(path_db,'pcoec.csv'),index=False)"
   ]
  },
  {
   "cell_type": "markdown",
   "id": "28746b63-78f4-4d36-be59-e42d485320f2",
   "metadata": {
    "id": "6nTZQVaopGGO"
   },
   "source": [
    "## Capacitadores Independientes - CI\n",
    "\n",
    "• [Búsqueda de Capacitadores Independientes](http://portal.trabajo.gob.ec/setec-portal-web/pages/operadoresCapacitacionIndependientes.jsf#j_idt24:j_idt25) - CI"
   ]
  },
  {
   "cell_type": "code",
   "execution_count": 126,
   "id": "f4a40b30-de38-44bd-a85f-9ad7f6b40032",
   "metadata": {},
   "outputs": [
    {
     "name": "stdout",
     "output_type": "stream",
     "text": [
      "ETL CI\n"
     ]
    }
   ],
   "source": [
    "print('ETL CI')"
   ]
  },
  {
   "cell_type": "markdown",
   "id": "8cb5a115-dff2-4d7f-9768-2c023b74fc94",
   "metadata": {
    "id": "aZ8NFoxJpNOF"
   },
   "source": [
    "### ETL CI"
   ]
  },
  {
   "cell_type": "code",
   "execution_count": 25,
   "id": "ac755123-6dd8-425b-acc3-1e334185071f",
   "metadata": {
    "colab": {
     "base_uri": "https://localhost:8080/"
    },
    "executionInfo": {
     "elapsed": 446,
     "status": "ok",
     "timestamp": 1666276996713,
     "user": {
      "displayName": "Sergio Jimenez",
      "userId": "03709241177248490041"
     },
     "user_tz": 300
    },
    "id": "xMXS6RfYpEe4",
    "outputId": "3beac102-f27f-42df-dbf6-69e9690335c0"
   },
   "outputs": [],
   "source": [
    "df_ci = pd.read_csv(os.path.join(path_sd,'ci0.csv'))\n",
    "df_ci = df_ci.apply(lambda x: x.astype(str).str.lower())\n",
    "df_ci['numero_documento'] = df_ci['numero_documento'].apply(lambda x: '0'+x if len(x)==9 else x)\n",
    "df_ci['celular'] = df_ci['celular'].apply(lambda x: '0'+x if len(x)==9 else x)\n",
    "df_ci = df_ci.drop_duplicates()\n",
    "df_ci = df_ci.rename(columns={'apellidos_nombres':'razon_social'})\n",
    "df_ci = df_ci.rename(columns={'codigo_resolucion':'fecha_resolucion'})"
   ]
  },
  {
   "cell_type": "code",
   "execution_count": 26,
   "id": "a9b2bef5-576c-442d-8e91-e0fc8b000b51",
   "metadata": {},
   "outputs": [],
   "source": [
    "#df_ci.head()\n",
    "#df_ci.info()"
   ]
  },
  {
   "cell_type": "markdown",
   "id": "7328cbc5-d2d5-4884-ad02-885613ae864a",
   "metadata": {
    "id": "D2WSfmtOG2WY"
   },
   "source": [
    "### Guardar datos CI"
   ]
  },
  {
   "cell_type": "code",
   "execution_count": 27,
   "id": "90f89346-54c0-495e-af65-8f5c3537b4d2",
   "metadata": {
    "id": "2HWludjlprZA"
   },
   "outputs": [],
   "source": [
    "df_ci.to_csv(os.path.join(path_db,'ci.csv'),index=False)"
   ]
  },
  {
   "cell_type": "markdown",
   "id": "015308f3-2a09-47bb-920d-84601dbdddb6",
   "metadata": {
    "id": "-Mvx60T_0wYz"
   },
   "source": [
    "### ETL CI_LCA"
   ]
  },
  {
   "cell_type": "code",
   "execution_count": 130,
   "id": "e81f4869-8779-45ec-b1fe-6ec2b8a51206",
   "metadata": {
    "colab": {
     "base_uri": "https://localhost:8080/"
    },
    "executionInfo": {
     "elapsed": 411,
     "status": "ok",
     "timestamp": 1666277155339,
     "user": {
      "displayName": "Sergio Jimenez",
      "userId": "03709241177248490041"
     },
     "user_tz": 300
    },
    "id": "mOOQH0Rc0l-D",
    "outputId": "4cbb6ad0-a3f3-4048-8755-8cea883579ca"
   },
   "outputs": [],
   "source": [
    "df_ci_lca =pd.read_csv(os.path.join(path_sd,'ci_lca0.csv'))\n",
    "df_ci_lca[\"carga_horaria\"].fillna(0, inplace = True)\n",
    "df_ci_lca[\"carga_horaria\"]=df_ci_lca[\"carga_horaria\"].astype('int64')\n",
    "df_ci_lca = df_ci_lca.apply(lambda x: x.astype(str).str.lower())\n",
    "df_ci_lca[\"carga_horaria\"]=df_ci_lca[\"carga_horaria\"].astype('int64')\n",
    "df_ci_lca = df_ci_lca.drop_duplicates()"
   ]
  },
  {
   "cell_type": "code",
   "execution_count": 131,
   "id": "4587cb54-933a-4190-9a4d-fabf9988c878",
   "metadata": {},
   "outputs": [],
   "source": [
    "#df_ci_lca.head()\n",
    "#df_ci_lca.info()"
   ]
  },
  {
   "cell_type": "markdown",
   "id": "12d3700b-a326-4789-8168-9e28f132b6c3",
   "metadata": {
    "id": "Skpgv4M1G45p"
   },
   "source": [
    "### Guardar datos CI_LCA"
   ]
  },
  {
   "cell_type": "code",
   "execution_count": 132,
   "id": "8033ce10-5ae4-42a0-ae99-d2b91a24ea72",
   "metadata": {
    "id": "GL-pc3k_4Pj9"
   },
   "outputs": [],
   "source": [
    "df_ci_lca.to_csv(os.path.join(path_db,'ci_lca.csv'),index=False)"
   ]
  },
  {
   "cell_type": "markdown",
   "id": "5b7d0dcf-312a-40af-b0a9-4740d45fe976",
   "metadata": {
    "id": "2Gi_EegOp9TR"
   },
   "source": [
    "## Personas Capacitadas por CI - PCCI\n",
    "\n",
    "• [Búsqueda de Personas Capacitadas](http://portal.trabajo.gob.ec/setec-portal-web/pages/personasCapacitadas.jsf#j_idt24:j_idt25) - PCCI"
   ]
  },
  {
   "cell_type": "code",
   "execution_count": 133,
   "id": "45e40d1f-4c8b-49f2-aa64-3d2df910368d",
   "metadata": {},
   "outputs": [
    {
     "name": "stdout",
     "output_type": "stream",
     "text": [
      "ETL PCCI\n"
     ]
    }
   ],
   "source": [
    "print('ETL PCCI')"
   ]
  },
  {
   "cell_type": "code",
   "execution_count": 134,
   "id": "24c154c2-d5b9-4eda-9518-20f4059f546f",
   "metadata": {
    "colab": {
     "base_uri": "https://localhost:8080/"
    },
    "executionInfo": {
     "elapsed": 1327,
     "status": "ok",
     "timestamp": 1666277295428,
     "user": {
      "displayName": "Sergio Jimenez",
      "userId": "03709241177248490041"
     },
     "user_tz": 300
    },
    "id": "9jIqi9tbp8m4",
    "outputId": "1a338e20-2301-4e77-a642-5a7a33a15991"
   },
   "outputs": [],
   "source": [
    "df_pcci =pd.read_csv(os.path.join(path_sd,'pcci.csv'))\n",
    "df_pcci = df_pcci.apply(lambda x: x.astype(str).str.lower())\n",
    "df_pcci[\"numero_horas\"]=df_pcci[\"numero_horas\"].astype('int64')\n",
    "df_pcci = df_pcci.drop_duplicates()"
   ]
  },
  {
   "cell_type": "code",
   "execution_count": 135,
   "id": "7f15c89a-a6dc-4c34-a818-f38899e0cb60",
   "metadata": {},
   "outputs": [],
   "source": [
    "#df_pcci.head()\n",
    "#df_pcci.info()"
   ]
  },
  {
   "cell_type": "markdown",
   "id": "68f57770-5eb8-4bf4-95b8-55b4e1f73191",
   "metadata": {
    "id": "TIIl9zi4G8Nb"
   },
   "source": [
    "### Guardar datos PCCI"
   ]
  },
  {
   "cell_type": "code",
   "execution_count": 136,
   "id": "c1510adc-d972-406a-a57a-116dda4be61d",
   "metadata": {
    "id": "cdyy5RUOqqFb"
   },
   "outputs": [],
   "source": [
    "df_pcci.to_csv(os.path.join(path_db,'pcci.csv'),index=False)"
   ]
  },
  {
   "cell_type": "markdown",
   "id": "6558f87e-424d-447c-95b0-35316e52bedf",
   "metadata": {},
   "source": [
    "# TRANSFORMACIÓN DE DATOS"
   ]
  },
  {
   "cell_type": "code",
   "execution_count": 137,
   "id": "feef40b1-d79d-4fb5-b787-ac76c7868c30",
   "metadata": {},
   "outputs": [
    {
     "name": "stdout",
     "output_type": "stream",
     "text": [
      "############ FASE DE TRANSFORMACIÓN DE DATOS ###########\n"
     ]
    }
   ],
   "source": [
    "print('############ FASE DE TRANSFORMACIÓN DE DATOS ###########')"
   ]
  },
  {
   "cell_type": "markdown",
   "id": "cbe401b8-7712-4146-bc84-fb341ad4ef5c",
   "metadata": {
    "id": "wmmXaaIE_KJ7",
    "tags": []
   },
   "source": [
    " ## Tabla Ubicacion"
   ]
  },
  {
   "cell_type": "code",
   "execution_count": 18,
   "id": "8acbbd75-c768-4e03-9a37-7b6355fa4c69",
   "metadata": {
    "executionInfo": {
     "elapsed": 289,
     "status": "ok",
     "timestamp": 1670199223144,
     "user": {
      "displayName": "Sergio Jimenez",
      "userId": "03709241177248490041"
     },
     "user_tz": 300
    },
    "id": "XQhVmfpsF0ZI"
   },
   "outputs": [],
   "source": [
    "df_ubicacion = pd.read_csv(os.path.join(path_db, 'ubicacion.csv'))"
   ]
  },
  {
   "cell_type": "markdown",
   "id": "f37d2548-51b6-49b8-a6de-938619a48928",
   "metadata": {},
   "source": [
    "# DIMENSION Razon Social (OC, OEC y CI)"
   ]
  },
  {
   "cell_type": "code",
   "execution_count": 14,
   "id": "5a28db70-0400-41ce-9e4d-b0798ffcd6f7",
   "metadata": {},
   "outputs": [
    {
     "name": "stdout",
     "output_type": "stream",
     "text": [
      "DIMENSION Razon Social (OC, OEC y CI)\n"
     ]
    }
   ],
   "source": [
    "print('DIMENSION Razon Social (OC, OEC y CI)')"
   ]
  },
  {
   "cell_type": "code",
   "execution_count": 15,
   "id": "43d53dc6-30fe-4216-9486-bdbff3600cb5",
   "metadata": {},
   "outputs": [],
   "source": [
    "df_oc = pd.read_csv(os.path.join(path_db,'oc.csv'))\n",
    "df_oec = pd.read_csv(os.path.join(path_db,'oec.csv'))\n",
    "df_ci = pd.read_csv(os.path.join(path_db,'ci.csv'))\n",
    "df_pcoc = pd.read_csv(os.path.join(path_db,'pcoc.csv'))\n",
    "df_pcoec = pd.read_csv(os.path.join(path_db,'pcoec.csv'))\n",
    "df_pcci = pd.read_csv(os.path.join(path_db,'pcci.csv'))"
   ]
  },
  {
   "cell_type": "code",
   "execution_count": 19,
   "id": "44ffda0b-7977-42d5-bee2-d26b41323244",
   "metadata": {},
   "outputs": [],
   "source": [
    "df_oc_ug = pd.read_csv(os.path.join(path_db,'oc_dl_provincia_canton.csv'))\n",
    "df_oc_ug['estado']='desconocido'\n",
    "df_razon_social_oc = pd.concat([df_oc[['razon_social','estado','fecha_resolucion','canton']],df_oc_ug[['razon_social','estado','canton']]],axis=0)\n",
    "df_razon_social_oc.insert(2,'tipo_razon_social','operador de capacitación')\n",
    "df_razon_social_oc = df_razon_social_oc.drop_duplicates(subset=['razon_social','canton'],keep='first')\n",
    "df_oec_ug = pd.read_csv(os.path.join(path_db,'oec_dl_provincia_canton.csv'))\n",
    "df_oec_ug['estado'] = 'desconocido'\n",
    "df_razon_social_oec = pd.concat([df_oec[['razon_social','estado','fecha_resolucion','canton']],df_oec_ug[['razon_social','estado','canton']]])\n",
    "df_razon_social_oec.insert(2,'tipo_razon_social','organismo evaluador de la conformidad')\n",
    "df_razon_social_oec = df_razon_social_oec.drop_duplicates(subset=['razon_social','canton'], keep='first')\n",
    "df_ci_ug = pd.read_csv(os.path.join(path_db,'ci_dl_provincia_canton.csv'))\n",
    "df_razon_social_ci = pd.merge(df_ci,df_ci_ug,on=['razon_social'],how=\"inner\")\n",
    "df_razon_social_ci.insert(1,'estado','calificado')\n",
    "df_razon_social_ci = df_razon_social_ci[['razon_social','estado','fecha_resolucion','canton']]\n",
    "df_razon_social_ci.insert(2,'tipo_razon_social','capacitador independiente')\n",
    "df_razon_social_ci = df_razon_social_ci.drop_duplicates(subset=['razon_social','canton'],keep='first')\n",
    "df_razon_social = pd.concat([df_razon_social_oc,df_razon_social_oec,df_razon_social_ci],axis=0)\n",
    "df_razon_social = pd.merge(df_razon_social,df_ubicacion,on=['canton'],how='left')\n",
    "df_razon_social.drop(['id_ubicacion'],axis=1,inplace=True)\n",
    "df_razon_social = df_razon_social.fillna({'provincia':'sin provincia'})\n",
    "df_razon_social = df_razon_social.fillna({'fecha_resolucion':'sin fecha resolución'})\n",
    "df_razon_social['estado']=pd.Categorical(df_razon_social['estado'],categories=['calificado', 'habilitado', 'finalizo vigencia de calificacion','finalizo vigencia de reconocimiento','cancelado definitivamente','suspendido','desconocido'])\n",
    "df_razon_social=df_razon_social.sort_values('estado')\n",
    "df_razon_social = df_razon_social.drop_duplicates(subset=['razon_social','tipo_razon_social'],keep='first')\n",
    "df_razon_social=df_razon_social.sort_values(by=['razon_social','tipo_razon_social'])\n",
    "df_razon_social = df_razon_social.reset_index().rename_axis('id_razon_social').reset_index().astype('str').drop(['index'],axis=1)"
   ]
  },
  {
   "cell_type": "code",
   "execution_count": 20,
   "id": "1fe6e3ba-4751-46b2-a2ba-56629b72c6d9",
   "metadata": {},
   "outputs": [],
   "source": [
    "#df_razon_social.head()\n",
    "#df_razon_social.info()"
   ]
  },
  {
   "cell_type": "markdown",
   "id": "e7b73866-3bec-4c38-aaa2-537e9bf22f88",
   "metadata": {},
   "source": [
    "# Dimensión Curso-Perfil (OC, OEC, CI)"
   ]
  },
  {
   "cell_type": "code",
   "execution_count": 21,
   "id": "07fd6f54-fb5b-44f5-8ebe-f5578bb72e73",
   "metadata": {},
   "outputs": [],
   "source": [
    "df_oc_cl = pd.read_csv(os.path.join(path_db,'oc_cl.csv')) # Comentar en produccion\n",
    "df_oc_cl = df_oc_cl.drop(['ruc_o_codigo'],axis=1)\n",
    "df_oc_cl_2 = pd.read_csv(os.path.join(path_db,'oc_dl_familia_sector_perfil.csv'))\n",
    "df_oc_cl = pd.concat([df_oc_cl,df_oc_cl_2],axis=0)\n",
    "df_oc_cl = df_oc_cl.drop_duplicates()\n",
    "df_oc_cl['modalidad'] = 'desconocida'\n",
    "df_oc_cl['carga_horaria'] = 6\n",
    "df_oc_cl['tipo'] = 'perfil'\n",
    "df_oc_cl['costo'] =250.0\n",
    "df_oc_cl['tipo_razon_social'] ='operador de capacitación'"
   ]
  },
  {
   "cell_type": "code",
   "execution_count": 22,
   "id": "0effa051-442a-451f-baee-954e3431d2cd",
   "metadata": {},
   "outputs": [],
   "source": [
    "df_oc_cc = pd.read_csv(os.path.join(path_db,'oc_cc.csv')) # Comentar en produccion\n",
    "df_oc_cc = df_oc_cc.drop(['documento'],axis=1)\n",
    "df_oc_cc['tipo'] = 'curso'\n",
    "df_oc_cc['costo'] =0.0\n",
    "df_oc_cc['tipo_razon_social'] ='operador de capacitación'"
   ]
  },
  {
   "cell_type": "code",
   "execution_count": 23,
   "id": "ec3dd3b0-76c0-42fd-b91f-23979158af91",
   "metadata": {},
   "outputs": [],
   "source": [
    "df_perfil = pd.read_csv(os.path.join(path_db,'oec_dl_familia_sector_perfil.csv'))\n",
    "df_perfil['modalidad'] = 'desconocida'\n",
    "df_perfil['carga_horaria'] = 6\n",
    "df_perfil['tipo'] = 'perfil'\n",
    "df_perfil['costo'] = 250.0\n",
    "df_perfil['tipo_razon_social'] ='organismo evaluador de la conformidad'"
   ]
  },
  {
   "cell_type": "code",
   "execution_count": 24,
   "id": "a2d4b932-e8f7-49ac-9ad4-7acc88bb9b5c",
   "metadata": {},
   "outputs": [],
   "source": [
    "df_ci_lca = pd.read_csv(os.path.join(path_db,'ci_lca.csv')) # Comentar en produccion\n",
    "df_ci_lca = df_ci_lca[['apellidos_nombres','area','especialidad','curso','carga_horaria']]\n",
    "df_ci_lca.insert(4,'modalidad', 'desconocida')\n",
    "df_ci_lca['tipo'] = 'curso'\n",
    "df_ci_lca['costo'] = 0.0\n",
    "df_ci_lca['tipo_razon_social'] ='capacitador independiente'"
   ]
  },
  {
   "cell_type": "code",
   "execution_count": 25,
   "id": "49d10aaa-3467-4e58-bf40-676ca2387ec4",
   "metadata": {},
   "outputs": [],
   "source": [
    "data_curso_perfil = np.concatenate((df_oc_cc.values,df_oc_cl.values,df_perfil.values,df_ci_lca.values), axis=0)\n",
    "df_curso_perfil = pd.DataFrame(data=data_curso_perfil[:,:-1],columns=['razon_social','area_familia','especialidad_sector','curso_perfil','modalidad','carga_horaria','tipo','costo'])\n",
    "df_curso_perfil.insert(0,'tipo',df_curso_perfil.pop('tipo'))\n",
    "df_curso_perfil = df_curso_perfil.apply(lambda x: x.astype(str).str.lower())\n",
    "df_curso_perfil['carga_horaria'] = df_curso_perfil['carga_horaria'].astype('int64')\n",
    "df_curso_perfil = df_curso_perfil.drop_duplicates()\n",
    "df_curso_perfil = df_curso_perfil.rename_axis('id_curso_perfil').reset_index().astype('str')"
   ]
  },
  {
   "cell_type": "code",
   "execution_count": 26,
   "id": "d2b14550-11b8-4f94-9a78-d26ddcceb51e",
   "metadata": {},
   "outputs": [
    {
     "data": {
      "text/plain": [
       "(10147, 9)"
      ]
     },
     "execution_count": 26,
     "metadata": {},
     "output_type": "execute_result"
    }
   ],
   "source": [
    "df_curso_perfil.shape"
   ]
  },
  {
   "cell_type": "code",
   "execution_count": 27,
   "id": "7a72bf3e-c225-482c-9645-e51391c80e2b",
   "metadata": {},
   "outputs": [
    {
     "data": {
      "text/html": [
       "<div>\n",
       "<style scoped>\n",
       "    .dataframe tbody tr th:only-of-type {\n",
       "        vertical-align: middle;\n",
       "    }\n",
       "\n",
       "    .dataframe tbody tr th {\n",
       "        vertical-align: top;\n",
       "    }\n",
       "\n",
       "    .dataframe thead th {\n",
       "        text-align: right;\n",
       "    }\n",
       "</style>\n",
       "<table border=\"1\" class=\"dataframe\">\n",
       "  <thead>\n",
       "    <tr style=\"text-align: right;\">\n",
       "      <th></th>\n",
       "      <th>id_razon_social</th>\n",
       "      <th>razon_social</th>\n",
       "      <th>estado</th>\n",
       "      <th>tipo_razon_social</th>\n",
       "      <th>fecha_resolucion</th>\n",
       "      <th>canton</th>\n",
       "      <th>provincia</th>\n",
       "    </tr>\n",
       "  </thead>\n",
       "  <tbody>\n",
       "    <tr>\n",
       "      <th>0</th>\n",
       "      <td>0</td>\n",
       "      <td>3cgreat solutions s.a.s.</td>\n",
       "      <td>calificado</td>\n",
       "      <td>operador de capacitación</td>\n",
       "      <td>29-11-2021</td>\n",
       "      <td>latacunga</td>\n",
       "      <td>cotopaxi</td>\n",
       "    </tr>\n",
       "    <tr>\n",
       "      <th>1</th>\n",
       "      <td>1</td>\n",
       "      <td>abalco haro cristian patricio</td>\n",
       "      <td>calificado</td>\n",
       "      <td>operador de capacitación</td>\n",
       "      <td>19-10-2021</td>\n",
       "      <td>quito</td>\n",
       "      <td>pichincha</td>\n",
       "    </tr>\n",
       "    <tr>\n",
       "      <th>2</th>\n",
       "      <td>2</td>\n",
       "      <td>abalco haro cristian patricio</td>\n",
       "      <td>habilitado</td>\n",
       "      <td>organismo evaluador de la conformidad</td>\n",
       "      <td>23-11-2021</td>\n",
       "      <td>guayaquil</td>\n",
       "      <td>guayas</td>\n",
       "    </tr>\n",
       "    <tr>\n",
       "      <th>3</th>\n",
       "      <td>3</td>\n",
       "      <td>abata carrera gloria beatriz</td>\n",
       "      <td>calificado</td>\n",
       "      <td>capacitador independiente</td>\n",
       "      <td>resolución no. mdt-ci-cal-2021-0021</td>\n",
       "      <td>esmeraldas</td>\n",
       "      <td>esmeraldas</td>\n",
       "    </tr>\n",
       "    <tr>\n",
       "      <th>4</th>\n",
       "      <td>4</td>\n",
       "      <td>abkrea ingenieria cia. ltda.</td>\n",
       "      <td>calificado</td>\n",
       "      <td>operador de capacitación</td>\n",
       "      <td>28-03-2021</td>\n",
       "      <td>ambato</td>\n",
       "      <td>tungurahua</td>\n",
       "    </tr>\n",
       "  </tbody>\n",
       "</table>\n",
       "</div>"
      ],
      "text/plain": [
       "  id_razon_social                   razon_social      estado  \\\n",
       "0               0       3cgreat solutions s.a.s.  calificado   \n",
       "1               1  abalco haro cristian patricio  calificado   \n",
       "2               2  abalco haro cristian patricio  habilitado   \n",
       "3               3   abata carrera gloria beatriz  calificado   \n",
       "4               4   abkrea ingenieria cia. ltda.  calificado   \n",
       "\n",
       "                       tipo_razon_social                     fecha_resolucion  \\\n",
       "0               operador de capacitación                           29-11-2021   \n",
       "1               operador de capacitación                           19-10-2021   \n",
       "2  organismo evaluador de la conformidad                           23-11-2021   \n",
       "3              capacitador independiente  resolución no. mdt-ci-cal-2021-0021   \n",
       "4               operador de capacitación                           28-03-2021   \n",
       "\n",
       "       canton   provincia  \n",
       "0   latacunga    cotopaxi  \n",
       "1       quito   pichincha  \n",
       "2   guayaquil      guayas  \n",
       "3  esmeraldas  esmeraldas  \n",
       "4      ambato  tungurahua  "
      ]
     },
     "execution_count": 27,
     "metadata": {},
     "output_type": "execute_result"
    }
   ],
   "source": [
    "df_razon_social.head()"
   ]
  },
  {
   "cell_type": "code",
   "execution_count": 28,
   "id": "156c6713-1c11-4bd4-a28c-1fd6c21633c7",
   "metadata": {},
   "outputs": [
    {
     "data": {
      "text/html": [
       "<div>\n",
       "<style scoped>\n",
       "    .dataframe tbody tr th:only-of-type {\n",
       "        vertical-align: middle;\n",
       "    }\n",
       "\n",
       "    .dataframe tbody tr th {\n",
       "        vertical-align: top;\n",
       "    }\n",
       "\n",
       "    .dataframe thead th {\n",
       "        text-align: right;\n",
       "    }\n",
       "</style>\n",
       "<table border=\"1\" class=\"dataframe\">\n",
       "  <thead>\n",
       "    <tr style=\"text-align: right;\">\n",
       "      <th></th>\n",
       "      <th>id_curso_perfil</th>\n",
       "      <th>tipo</th>\n",
       "      <th>razon_social</th>\n",
       "      <th>area_familia</th>\n",
       "      <th>especialidad_sector</th>\n",
       "      <th>curso_perfil</th>\n",
       "      <th>modalidad</th>\n",
       "      <th>carga_horaria</th>\n",
       "      <th>costo</th>\n",
       "    </tr>\n",
       "  </thead>\n",
       "  <tbody>\n",
       "    <tr>\n",
       "      <th>0</th>\n",
       "      <td>0</td>\n",
       "      <td>curso</td>\n",
       "      <td>mogrovejo narvaez jhoni william</td>\n",
       "      <td>mecánica automotriz</td>\n",
       "      <td>mecánica general</td>\n",
       "      <td>mecánica automotriz</td>\n",
       "      <td>presencial</td>\n",
       "      <td>120</td>\n",
       "      <td>0.0</td>\n",
       "    </tr>\n",
       "    <tr>\n",
       "      <th>1</th>\n",
       "      <td>1</td>\n",
       "      <td>curso</td>\n",
       "      <td>mogrovejo narvaez jhoni william</td>\n",
       "      <td>artes y artesanía</td>\n",
       "      <td>peluquería y belleza barbería y estilismo</td>\n",
       "      <td>belleza integral</td>\n",
       "      <td>presencial</td>\n",
       "      <td>120</td>\n",
       "      <td>0.0</td>\n",
       "    </tr>\n",
       "    <tr>\n",
       "      <th>2</th>\n",
       "      <td>2</td>\n",
       "      <td>curso</td>\n",
       "      <td>mogrovejo narvaez jhoni william</td>\n",
       "      <td>artes y artesanía</td>\n",
       "      <td>cosmetología</td>\n",
       "      <td>cosmetología</td>\n",
       "      <td>presencial</td>\n",
       "      <td>120</td>\n",
       "      <td>0.0</td>\n",
       "    </tr>\n",
       "    <tr>\n",
       "      <th>3</th>\n",
       "      <td>3</td>\n",
       "      <td>curso</td>\n",
       "      <td>mogrovejo narvaez jhoni william</td>\n",
       "      <td>mecánica automotriz</td>\n",
       "      <td>carrocería</td>\n",
       "      <td>latonería</td>\n",
       "      <td>presencial</td>\n",
       "      <td>120</td>\n",
       "      <td>0.0</td>\n",
       "    </tr>\n",
       "    <tr>\n",
       "      <th>4</th>\n",
       "      <td>4</td>\n",
       "      <td>curso</td>\n",
       "      <td>mogrovejo narvaez jhoni william</td>\n",
       "      <td>mecánica automotriz</td>\n",
       "      <td>mecánica general</td>\n",
       "      <td>fundamentos teóricos mecánica automotriz</td>\n",
       "      <td>virtual</td>\n",
       "      <td>40</td>\n",
       "      <td>0.0</td>\n",
       "    </tr>\n",
       "  </tbody>\n",
       "</table>\n",
       "</div>"
      ],
      "text/plain": [
       "  id_curso_perfil   tipo                     razon_social  \\\n",
       "0               0  curso  mogrovejo narvaez jhoni william   \n",
       "1               1  curso  mogrovejo narvaez jhoni william   \n",
       "2               2  curso  mogrovejo narvaez jhoni william   \n",
       "3               3  curso  mogrovejo narvaez jhoni william   \n",
       "4               4  curso  mogrovejo narvaez jhoni william   \n",
       "\n",
       "          area_familia                        especialidad_sector  \\\n",
       "0  mecánica automotriz                           mecánica general   \n",
       "1    artes y artesanía  peluquería y belleza barbería y estilismo   \n",
       "2    artes y artesanía                               cosmetología   \n",
       "3  mecánica automotriz                                 carrocería   \n",
       "4  mecánica automotriz                           mecánica general   \n",
       "\n",
       "                               curso_perfil   modalidad carga_horaria costo  \n",
       "0                       mecánica automotriz  presencial           120   0.0  \n",
       "1                          belleza integral  presencial           120   0.0  \n",
       "2                              cosmetología  presencial           120   0.0  \n",
       "3                                 latonería  presencial           120   0.0  \n",
       "4  fundamentos teóricos mecánica automotriz     virtual            40   0.0  "
      ]
     },
     "execution_count": 28,
     "metadata": {},
     "output_type": "execute_result"
    }
   ],
   "source": [
    "df_curso_perfil.head()"
   ]
  },
  {
   "cell_type": "code",
   "execution_count": 29,
   "id": "0a98d725-0f44-47e6-813d-29b7af5de5cb",
   "metadata": {},
   "outputs": [],
   "source": [
    "df_info_cursos_edu = pd.read_csv(os.path.join(path_db,'costos_cursos_educacion_continua.csv'))"
   ]
  },
  {
   "cell_type": "code",
   "execution_count": 30,
   "id": "a19afef4-b574-4ba3-a35f-63f0fc2e1e75",
   "metadata": {},
   "outputs": [
    {
     "data": {
      "text/html": [
       "<div>\n",
       "<style scoped>\n",
       "    .dataframe tbody tr th:only-of-type {\n",
       "        vertical-align: middle;\n",
       "    }\n",
       "\n",
       "    .dataframe tbody tr th {\n",
       "        vertical-align: top;\n",
       "    }\n",
       "\n",
       "    .dataframe thead th {\n",
       "        text-align: right;\n",
       "    }\n",
       "</style>\n",
       "<table border=\"1\" class=\"dataframe\">\n",
       "  <thead>\n",
       "    <tr style=\"text-align: right;\">\n",
       "      <th></th>\n",
       "      <th>ciudad</th>\n",
       "      <th>area_familia</th>\n",
       "      <th>cursos</th>\n",
       "      <th>modalidad_set</th>\n",
       "      <th>carga_horaria</th>\n",
       "      <th>precio_por_hora</th>\n",
       "      <th>precio_mean_by_mod</th>\n",
       "      <th>precio_mean_by_area</th>\n",
       "      <th>precio_mean_by_ciudad</th>\n",
       "      <th>precio_mean_by_ma</th>\n",
       "      <th>precio_mean_by_ac</th>\n",
       "      <th>precio_mean_by_mc</th>\n",
       "    </tr>\n",
       "  </thead>\n",
       "  <tbody>\n",
       "    <tr>\n",
       "      <th>0</th>\n",
       "      <td>quito</td>\n",
       "      <td>administración y legislación</td>\n",
       "      <td>gerencia de instituciones de salud</td>\n",
       "      <td>online</td>\n",
       "      <td>1736.0</td>\n",
       "      <td>6.875873</td>\n",
       "      <td>0.10</td>\n",
       "      <td>0.21</td>\n",
       "      <td>0.1</td>\n",
       "      <td>0.07</td>\n",
       "      <td>0.06</td>\n",
       "      <td>0.18</td>\n",
       "    </tr>\n",
       "    <tr>\n",
       "      <th>1</th>\n",
       "      <td>quito</td>\n",
       "      <td>educación y capacitación</td>\n",
       "      <td>liderazgo educativo</td>\n",
       "      <td>online</td>\n",
       "      <td>1680.0</td>\n",
       "      <td>6.875873</td>\n",
       "      <td>0.10</td>\n",
       "      <td>0.08</td>\n",
       "      <td>0.1</td>\n",
       "      <td>0.12</td>\n",
       "      <td>0.05</td>\n",
       "      <td>0.18</td>\n",
       "    </tr>\n",
       "    <tr>\n",
       "      <th>2</th>\n",
       "      <td>quito</td>\n",
       "      <td>actividades de salud</td>\n",
       "      <td>seguridad y salud ocupacional</td>\n",
       "      <td>online</td>\n",
       "      <td>1680.0</td>\n",
       "      <td>6.875873</td>\n",
       "      <td>0.10</td>\n",
       "      <td>0.31</td>\n",
       "      <td>0.1</td>\n",
       "      <td>0.04</td>\n",
       "      <td>0.54</td>\n",
       "      <td>0.18</td>\n",
       "    </tr>\n",
       "    <tr>\n",
       "      <th>3</th>\n",
       "      <td>quito</td>\n",
       "      <td>administración y legislación</td>\n",
       "      <td>administracion de empresas</td>\n",
       "      <td>online</td>\n",
       "      <td>168.0</td>\n",
       "      <td>6.875873</td>\n",
       "      <td>1.01</td>\n",
       "      <td>2.15</td>\n",
       "      <td>1.0</td>\n",
       "      <td>0.67</td>\n",
       "      <td>0.67</td>\n",
       "      <td>1.84</td>\n",
       "    </tr>\n",
       "    <tr>\n",
       "      <th>4</th>\n",
       "      <td>quito</td>\n",
       "      <td>administración y legislación</td>\n",
       "      <td>desarrollo de negocios y emprendimiento</td>\n",
       "      <td>online</td>\n",
       "      <td>168.0</td>\n",
       "      <td>6.875873</td>\n",
       "      <td>1.01</td>\n",
       "      <td>2.15</td>\n",
       "      <td>1.0</td>\n",
       "      <td>0.67</td>\n",
       "      <td>0.67</td>\n",
       "      <td>1.84</td>\n",
       "    </tr>\n",
       "  </tbody>\n",
       "</table>\n",
       "</div>"
      ],
      "text/plain": [
       "  ciudad                  area_familia  \\\n",
       "0  quito  administración y legislación   \n",
       "1  quito      educación y capacitación   \n",
       "2  quito          actividades de salud   \n",
       "3  quito  administración y legislación   \n",
       "4  quito  administración y legislación   \n",
       "\n",
       "                                    cursos modalidad_set  carga_horaria  \\\n",
       "0       gerencia de instituciones de salud        online         1736.0   \n",
       "1                      liderazgo educativo        online         1680.0   \n",
       "2            seguridad y salud ocupacional        online         1680.0   \n",
       "3               administracion de empresas        online          168.0   \n",
       "4  desarrollo de negocios y emprendimiento        online          168.0   \n",
       "\n",
       "   precio_por_hora  precio_mean_by_mod  precio_mean_by_area  \\\n",
       "0         6.875873                0.10                 0.21   \n",
       "1         6.875873                0.10                 0.08   \n",
       "2         6.875873                0.10                 0.31   \n",
       "3         6.875873                1.01                 2.15   \n",
       "4         6.875873                1.01                 2.15   \n",
       "\n",
       "   precio_mean_by_ciudad  precio_mean_by_ma  precio_mean_by_ac  \\\n",
       "0                    0.1               0.07               0.06   \n",
       "1                    0.1               0.12               0.05   \n",
       "2                    0.1               0.04               0.54   \n",
       "3                    1.0               0.67               0.67   \n",
       "4                    1.0               0.67               0.67   \n",
       "\n",
       "   precio_mean_by_mc  \n",
       "0               0.18  \n",
       "1               0.18  \n",
       "2               0.18  \n",
       "3               1.84  \n",
       "4               1.84  "
      ]
     },
     "execution_count": 30,
     "metadata": {},
     "output_type": "execute_result"
    }
   ],
   "source": [
    "df_info_cursos_edu.head()"
   ]
  },
  {
   "cell_type": "code",
   "execution_count": 31,
   "id": "d6eaf007-7130-44fe-9bce-20deb245aff2",
   "metadata": {},
   "outputs": [],
   "source": [
    "data_rs_canton = df_razon_social.groupby(['razon_social','canton']).count().reset_index()[['razon_social','canton']]"
   ]
  },
  {
   "cell_type": "code",
   "execution_count": 32,
   "id": "e7e3ed8b-b818-4875-9f0c-6cb681be3982",
   "metadata": {},
   "outputs": [],
   "source": [
    "df_curso_perfil = pd.merge(df_curso_perfil,data_rs_canton,on='razon_social',how=\"left\")"
   ]
  },
  {
   "cell_type": "code",
   "execution_count": 33,
   "id": "252733fc-4401-4d5c-84a4-dec5dbbf8719",
   "metadata": {},
   "outputs": [],
   "source": [
    "df_curso_perfil['canton'] = df_curso_perfil['canton'].fillna('sin_canton')"
   ]
  },
  {
   "cell_type": "code",
   "execution_count": 127,
   "id": "b4637610-9f99-4ecc-b314-afdf6325df3f",
   "metadata": {},
   "outputs": [
    {
     "name": "stdout",
     "output_type": "stream",
     "text": [
      "1.0\n",
      "2.0\n",
      "3.0\n",
      "nan\n"
     ]
    },
    {
     "data": {
      "text/plain": [
       "array([False, False, False,  True])"
      ]
     },
     "execution_count": 127,
     "metadata": {},
     "output_type": "execute_result"
    }
   ],
   "source": [
    "arr = np.array([1,2,3,np.nan])\n",
    "for i in arr:\n",
    "    print(i)\n",
    "np.isnan(arr)"
   ]
  },
  {
   "cell_type": "code",
   "execution_count": 167,
   "id": "066597bd-6136-4776-a787-27be9b7d1770",
   "metadata": {},
   "outputs": [
    {
     "data": {
      "text/plain": [
       "11149"
      ]
     },
     "execution_count": 167,
     "metadata": {},
     "output_type": "execute_result"
    }
   ],
   "source": [
    "df_curso_perfil.shape[0]"
   ]
  },
  {
   "cell_type": "code",
   "execution_count": 38,
   "id": "8ff87436-39ba-412c-bee0-3ef1c479c299",
   "metadata": {},
   "outputs": [],
   "source": [
    "def get_costo2(df_curso_perfil,df_info_cursos_edu):\n",
    "    size_cp = df_curso_perfil.shape[0]\n",
    "    size_ic = df_info_cursos_edu.shape[0]\n",
    "    arr = np.zeros(size_cp)\n",
    "    for i in tqdm(range(0,20)):\n",
    "        if df_curso_perfil.iloc[i]['tipo'] == 'curso':\n",
    "            valor_comparacion = 0\n",
    "            index_valor = 0\n",
    "            variables_similaridad_select = {}\n",
    "            for j in range(0,size_ic):\n",
    "                # Variables de similaridad\n",
    "                #Comprobar la similalidad del curso\n",
    "                curso_fuente = df_curso_perfil.iloc[i]['curso_perfil']\n",
    "                curso_comparar = df_info_cursos_edu.iloc[j]['cursos']\n",
    "                variables_similaridad_select['precio_por_hora'] = lev.similarity(curso_fuente,curso_comparar,(1.25,4,1.5))\n",
    "\n",
    "                #Comprobar la similalidad por modalidad\n",
    "                mod_fuente = df_curso_perfil.iloc[i]['modalidad']\n",
    "                mod_comparar = df_info_cursos_edu.iloc[j]['modalidad_set']\n",
    "                variables_similaridad_select['precio_mean_by_mod']  = 1 if mod_fuente == mod_comparar else 0\n",
    "\n",
    "                #Comprobar la similalidad por area\n",
    "                area_fuente = df_curso_perfil.iloc[i]['area_familia']\n",
    "                area_comparar = df_info_cursos_edu.iloc[j]['area_familia']\n",
    "                variables_similaridad_select['precio_mean_by_area'] = 1 if area_fuente == area_comparar else 0.5 \n",
    "\n",
    "                #Comprobar la similalidad por ciudad\n",
    "                ciu_fuente = df_curso_perfil.iloc[i]['canton']\n",
    "                ciu_comparar = df_info_cursos_edu.iloc[j]['ciudad']\n",
    "                variables_similaridad_select['precio_mean_by_ciudad']  = 1 if ciu_fuente in ciu_comparar else 0\n",
    "\n",
    "                #Comprobar la similalidad por modalidad y area\n",
    "                variables_similaridad_select['precio_mean_by_ma']  = 2 if area_fuente == area_comparar and mod_fuente == mod_comparar else 0\n",
    "\n",
    "                #Comprobar la similalidad por area y ciudad\n",
    "                variables_similaridad_select['precio_mean_by_ac']  = 2 if area_fuente == area_comparar and ciu_fuente == ciu_comparar else 0\n",
    "\n",
    "                #Comprobar la similalidad por modalidad y ciudad\n",
    "                variables_similaridad_select['precio_mean_by_mc']  = 2 if mod_fuente == mod_comparar and ciu_fuente == ciu_comparar else 0\n",
    "\n",
    "                #Comprobar la similalidad por modalidad, area y ciudad\n",
    "                variables_similaridad_select['precio_mean_by_mac']  = 3 if mod_fuente == mod_comparar and ciu_fuente == ciu_comparar and area_fuente == area_comparar else 0\n",
    "\n",
    "                 #Comprobar la similalidad por carga horaria\n",
    "                hora_fuente = df_curso_perfil.iloc[i]['carga_horaria']\n",
    "                hora_comparar = df_info_cursos_edu.iloc[j]['carga_horaria']\n",
    "                variables_similaridad_select['precio_by_horas']  = 1 if hora_fuente == hora_comparar else 0\n",
    "                aux_valor = 0\n",
    "                for var in variables_similaridad_select.values():\n",
    "                    aux_valor += var\n",
    "                if  aux_valor >=  valor_comparacion:\n",
    "                    valor_comparacion = aux_valor\n",
    "                    index_valor = j\n",
    "                    res_value = np.nan\n",
    "                    while np.isnan(res_value):\n",
    "\n",
    "                        max_key = max(variables_similaridad_select,key=variables_similaridad_select.get)\n",
    "                        if max_key == 'precio_by_horas' or  max_key == 'precio_mean_by_mac':  \n",
    "                            res_value = df_info_cursos_edu.iloc[index_valor]['precio_por_hora']\n",
    "                        else:\n",
    "                            res_value = df_info_cursos_edu.iloc[index_valor][max_key]\n",
    "\n",
    "                        #df.iloc[i]['costo'] = res_value\n",
    "                        arr[i]=res_value\n",
    "                        variables_similaridad_select[max_key] = -1\n",
    "        else:\n",
    "            arr[i]=df_curso_perfil.iloc[i]['costo']\n",
    "            \n",
    "\n",
    "    return arr\n",
    "\n",
    "            \n",
    "    "
   ]
  },
  {
   "cell_type": "code",
   "execution_count": 39,
   "id": "00b24351-8cd6-47ae-be1e-56c710c8a307",
   "metadata": {},
   "outputs": [
    {
     "name": "stderr",
     "output_type": "stream",
     "text": [
      "  7%|█████▌                                                                      | 818/11149 [16:46<3:31:52,  1.23s/it]\n"
     ]
    },
    {
     "ename": "KeyboardInterrupt",
     "evalue": "",
     "output_type": "error",
     "traceback": [
      "\u001b[1;31m---------------------------------------------------------------------------\u001b[0m",
      "\u001b[1;31mKeyboardInterrupt\u001b[0m                         Traceback (most recent call last)",
      "Input \u001b[1;32mIn [39]\u001b[0m, in \u001b[0;36m<cell line: 1>\u001b[1;34m()\u001b[0m\n\u001b[1;32m----> 1\u001b[0m arr_costo \u001b[38;5;241m=\u001b[39m \u001b[43mget_costo2\u001b[49m\u001b[43m(\u001b[49m\u001b[43mdf_curso_perfil\u001b[49m\u001b[43m,\u001b[49m\u001b[43mdf_info_cursos_edu\u001b[49m\u001b[43m)\u001b[49m\n",
      "Input \u001b[1;32mIn [38]\u001b[0m, in \u001b[0;36mget_costo2\u001b[1;34m(df_curso_perfil, df_info_cursos_edu)\u001b[0m\n\u001b[0;32m     13\u001b[0m curso_fuente \u001b[38;5;241m=\u001b[39m df_curso_perfil\u001b[38;5;241m.\u001b[39miloc[i][\u001b[38;5;124m'\u001b[39m\u001b[38;5;124mcurso_perfil\u001b[39m\u001b[38;5;124m'\u001b[39m]\n\u001b[0;32m     14\u001b[0m curso_comparar \u001b[38;5;241m=\u001b[39m df_info_cursos_edu\u001b[38;5;241m.\u001b[39miloc[j][\u001b[38;5;124m'\u001b[39m\u001b[38;5;124mcursos\u001b[39m\u001b[38;5;124m'\u001b[39m]\n\u001b[1;32m---> 15\u001b[0m variables_similaridad_select[\u001b[38;5;124m'\u001b[39m\u001b[38;5;124mprecio_por_hora\u001b[39m\u001b[38;5;124m'\u001b[39m] \u001b[38;5;241m=\u001b[39m \u001b[43mlev\u001b[49m\u001b[38;5;241;43m.\u001b[39;49m\u001b[43msimilarity\u001b[49m\u001b[43m(\u001b[49m\u001b[43mcurso_fuente\u001b[49m\u001b[43m,\u001b[49m\u001b[43mcurso_comparar\u001b[49m\u001b[43m,\u001b[49m\u001b[43m(\u001b[49m\u001b[38;5;241;43m1.25\u001b[39;49m\u001b[43m,\u001b[49m\u001b[38;5;241;43m4\u001b[39;49m\u001b[43m,\u001b[49m\u001b[38;5;241;43m1.5\u001b[39;49m\u001b[43m)\u001b[49m\u001b[43m)\u001b[49m\n\u001b[0;32m     17\u001b[0m \u001b[38;5;66;03m#Comprobar la similalidad por modalidad\u001b[39;00m\n\u001b[0;32m     18\u001b[0m mod_fuente \u001b[38;5;241m=\u001b[39m df_curso_perfil\u001b[38;5;241m.\u001b[39miloc[i][\u001b[38;5;124m'\u001b[39m\u001b[38;5;124mmodalidad\u001b[39m\u001b[38;5;124m'\u001b[39m]\n",
      "File \u001b[1;32m~\\anaconda3\\lib\\site-packages\\hermetrics\\metric.py:49\u001b[0m, in \u001b[0;36mMetric.similarity\u001b[1;34m(self, source, target, cost)\u001b[0m\n\u001b[0;32m     47\u001b[0m \u001b[38;5;28;01mdef\u001b[39;00m \u001b[38;5;21msimilarity\u001b[39m(\u001b[38;5;28mself\u001b[39m, source, target, cost\u001b[38;5;241m=\u001b[39m\u001b[38;5;241m1\u001b[39m):\n\u001b[0;32m     48\u001b[0m     \u001b[38;5;124;03m\"\"\"Normalized similarity between two objects\"\"\"\u001b[39;00m\n\u001b[1;32m---> 49\u001b[0m     \u001b[38;5;28;01mreturn\u001b[39;00m \u001b[38;5;241m1\u001b[39m \u001b[38;5;241m-\u001b[39m \u001b[38;5;28;43mself\u001b[39;49m\u001b[38;5;241;43m.\u001b[39;49m\u001b[43mnormalized_distance\u001b[49m\u001b[43m(\u001b[49m\u001b[43msource\u001b[49m\u001b[43m,\u001b[49m\u001b[43m \u001b[49m\u001b[43mtarget\u001b[49m\u001b[43m,\u001b[49m\u001b[43m \u001b[49m\u001b[43mcost\u001b[49m\u001b[43m)\u001b[49m\n",
      "File \u001b[1;32m~\\anaconda3\\lib\\site-packages\\hermetrics\\metric.py:45\u001b[0m, in \u001b[0;36mMetric.normalized_distance\u001b[1;34m(self, source, target, cost)\u001b[0m\n\u001b[0;32m     43\u001b[0m \u001b[38;5;28;01mdef\u001b[39;00m \u001b[38;5;21mnormalized_distance\u001b[39m(\u001b[38;5;28mself\u001b[39m, source, target, cost\u001b[38;5;241m=\u001b[39m\u001b[38;5;241m1\u001b[39m):\n\u001b[0;32m     44\u001b[0m     \u001b[38;5;124;03m\"\"\"Normalized distance between two objects\"\"\"\u001b[39;00m\n\u001b[1;32m---> 45\u001b[0m     \u001b[38;5;28;01mreturn\u001b[39;00m \u001b[38;5;28mself\u001b[39m\u001b[38;5;241m.\u001b[39mnormalize(\u001b[38;5;28;43mself\u001b[39;49m\u001b[38;5;241;43m.\u001b[39;49m\u001b[43mdistance\u001b[49m\u001b[43m(\u001b[49m\u001b[43msource\u001b[49m\u001b[43m,\u001b[49m\u001b[43m \u001b[49m\u001b[43mtarget\u001b[49m\u001b[43m,\u001b[49m\u001b[43m \u001b[49m\u001b[43mcost\u001b[49m\u001b[43m)\u001b[49m, \u001b[38;5;28mself\u001b[39m\u001b[38;5;241m.\u001b[39mmin_distance(source, target, cost), \u001b[38;5;28mself\u001b[39m\u001b[38;5;241m.\u001b[39mmax_distance(source, target, cost))\n",
      "File \u001b[1;32m~\\anaconda3\\lib\\site-packages\\hermetrics\\levenshtein.py:20\u001b[0m, in \u001b[0;36mLevenshtein.distance\u001b[1;34m(self, source, target, cost)\u001b[0m\n\u001b[0;32m     18\u001b[0m rows \u001b[38;5;241m=\u001b[39m s_len \u001b[38;5;241m+\u001b[39m \u001b[38;5;241m1\u001b[39m\n\u001b[0;32m     19\u001b[0m cols \u001b[38;5;241m=\u001b[39m t_len \u001b[38;5;241m+\u001b[39m \u001b[38;5;241m1\u001b[39m\n\u001b[1;32m---> 20\u001b[0m D \u001b[38;5;241m=\u001b[39m [[\u001b[38;5;241m0\u001b[39m \u001b[38;5;28;01mfor\u001b[39;00m j \u001b[38;5;129;01min\u001b[39;00m \u001b[38;5;28mrange\u001b[39m(cols)] \u001b[38;5;28;01mfor\u001b[39;00m i \u001b[38;5;129;01min\u001b[39;00m \u001b[38;5;28mrange\u001b[39m(rows)]\n\u001b[0;32m     22\u001b[0m \u001b[38;5;66;03m# source prefixes can be transformed into empty strings \u001b[39;00m\n\u001b[0;32m     23\u001b[0m \u001b[38;5;66;03m# by deletions:\u001b[39;00m\n\u001b[0;32m     24\u001b[0m \u001b[38;5;28;01mfor\u001b[39;00m i \u001b[38;5;129;01min\u001b[39;00m \u001b[38;5;28mrange\u001b[39m(\u001b[38;5;241m1\u001b[39m, rows):\n",
      "File \u001b[1;32m~\\anaconda3\\lib\\site-packages\\hermetrics\\levenshtein.py:20\u001b[0m, in \u001b[0;36m<listcomp>\u001b[1;34m(.0)\u001b[0m\n\u001b[0;32m     18\u001b[0m rows \u001b[38;5;241m=\u001b[39m s_len \u001b[38;5;241m+\u001b[39m \u001b[38;5;241m1\u001b[39m\n\u001b[0;32m     19\u001b[0m cols \u001b[38;5;241m=\u001b[39m t_len \u001b[38;5;241m+\u001b[39m \u001b[38;5;241m1\u001b[39m\n\u001b[1;32m---> 20\u001b[0m D \u001b[38;5;241m=\u001b[39m [[\u001b[38;5;241m0\u001b[39m \u001b[38;5;28;01mfor\u001b[39;00m j \u001b[38;5;129;01min\u001b[39;00m \u001b[38;5;28mrange\u001b[39m(cols)] \u001b[38;5;28;01mfor\u001b[39;00m i \u001b[38;5;129;01min\u001b[39;00m \u001b[38;5;28mrange\u001b[39m(rows)]\n\u001b[0;32m     22\u001b[0m \u001b[38;5;66;03m# source prefixes can be transformed into empty strings \u001b[39;00m\n\u001b[0;32m     23\u001b[0m \u001b[38;5;66;03m# by deletions:\u001b[39;00m\n\u001b[0;32m     24\u001b[0m \u001b[38;5;28;01mfor\u001b[39;00m i \u001b[38;5;129;01min\u001b[39;00m \u001b[38;5;28mrange\u001b[39m(\u001b[38;5;241m1\u001b[39m, rows):\n",
      "File \u001b[1;32m~\\anaconda3\\lib\\site-packages\\hermetrics\\levenshtein.py:20\u001b[0m, in \u001b[0;36m<listcomp>\u001b[1;34m(.0)\u001b[0m\n\u001b[0;32m     18\u001b[0m rows \u001b[38;5;241m=\u001b[39m s_len \u001b[38;5;241m+\u001b[39m \u001b[38;5;241m1\u001b[39m\n\u001b[0;32m     19\u001b[0m cols \u001b[38;5;241m=\u001b[39m t_len \u001b[38;5;241m+\u001b[39m \u001b[38;5;241m1\u001b[39m\n\u001b[1;32m---> 20\u001b[0m D \u001b[38;5;241m=\u001b[39m [[\u001b[38;5;241m0\u001b[39m \u001b[38;5;28;01mfor\u001b[39;00m j \u001b[38;5;129;01min\u001b[39;00m \u001b[38;5;28mrange\u001b[39m(cols)] \u001b[38;5;28;01mfor\u001b[39;00m i \u001b[38;5;129;01min\u001b[39;00m \u001b[38;5;28mrange\u001b[39m(rows)]\n\u001b[0;32m     22\u001b[0m \u001b[38;5;66;03m# source prefixes can be transformed into empty strings \u001b[39;00m\n\u001b[0;32m     23\u001b[0m \u001b[38;5;66;03m# by deletions:\u001b[39;00m\n\u001b[0;32m     24\u001b[0m \u001b[38;5;28;01mfor\u001b[39;00m i \u001b[38;5;129;01min\u001b[39;00m \u001b[38;5;28mrange\u001b[39m(\u001b[38;5;241m1\u001b[39m, rows):\n",
      "\u001b[1;31mKeyboardInterrupt\u001b[0m: "
     ]
    }
   ],
   "source": [
    "arr_costo = get_costo2(df_curso_perfil,df_info_cursos_edu) "
   ]
  },
  {
   "cell_type": "code",
   "execution_count": null,
   "id": "fb0ac785-a5dc-44c7-b42a-c06f55290713",
   "metadata": {},
   "outputs": [],
   "source": []
  },
  {
   "cell_type": "code",
   "execution_count": 181,
   "id": "d4e184b9-2098-40ad-832f-6fd2d85602a4",
   "metadata": {},
   "outputs": [
    {
     "ename": "ValueError",
     "evalue": "The truth value of a Series is ambiguous. Use a.empty, a.bool(), a.item(), a.any() or a.all().",
     "output_type": "error",
     "traceback": [
      "\u001b[1;31m---------------------------------------------------------------------------\u001b[0m",
      "\u001b[1;31mValueError\u001b[0m                                Traceback (most recent call last)",
      "Input \u001b[1;32mIn [181]\u001b[0m, in \u001b[0;36m<cell line: 1>\u001b[1;34m()\u001b[0m\n\u001b[1;32m----> 1\u001b[0m df_curso_perfil[\u001b[38;5;124m'\u001b[39m\u001b[38;5;124mcosto\u001b[39m\u001b[38;5;124m'\u001b[39m] \u001b[38;5;241m=\u001b[39m \u001b[43mdf_curso_perfil\u001b[49m\u001b[38;5;241;43m.\u001b[39;49m\u001b[43mapply\u001b[49m\u001b[43m(\u001b[49m\u001b[38;5;28;43;01mlambda\u001b[39;49;00m\u001b[43m \u001b[49m\u001b[43mx\u001b[49m\u001b[43m:\u001b[49m\u001b[43mget_costo\u001b[49m\u001b[43m(\u001b[49m\u001b[43mdf_curso_perfil\u001b[49m\u001b[43m,\u001b[49m\u001b[43mdf_info_cursos_edu\u001b[49m\u001b[43m)\u001b[49m\u001b[43m)\u001b[49m\n",
      "File \u001b[1;32m~\\anaconda3\\lib\\site-packages\\pandas\\core\\frame.py:8839\u001b[0m, in \u001b[0;36mDataFrame.apply\u001b[1;34m(self, func, axis, raw, result_type, args, **kwargs)\u001b[0m\n\u001b[0;32m   8828\u001b[0m \u001b[38;5;28;01mfrom\u001b[39;00m \u001b[38;5;21;01mpandas\u001b[39;00m\u001b[38;5;21;01m.\u001b[39;00m\u001b[38;5;21;01mcore\u001b[39;00m\u001b[38;5;21;01m.\u001b[39;00m\u001b[38;5;21;01mapply\u001b[39;00m \u001b[38;5;28;01mimport\u001b[39;00m frame_apply\n\u001b[0;32m   8830\u001b[0m op \u001b[38;5;241m=\u001b[39m frame_apply(\n\u001b[0;32m   8831\u001b[0m     \u001b[38;5;28mself\u001b[39m,\n\u001b[0;32m   8832\u001b[0m     func\u001b[38;5;241m=\u001b[39mfunc,\n\u001b[1;32m   (...)\u001b[0m\n\u001b[0;32m   8837\u001b[0m     kwargs\u001b[38;5;241m=\u001b[39mkwargs,\n\u001b[0;32m   8838\u001b[0m )\n\u001b[1;32m-> 8839\u001b[0m \u001b[38;5;28;01mreturn\u001b[39;00m \u001b[43mop\u001b[49m\u001b[38;5;241;43m.\u001b[39;49m\u001b[43mapply\u001b[49m\u001b[43m(\u001b[49m\u001b[43m)\u001b[49m\u001b[38;5;241m.\u001b[39m__finalize__(\u001b[38;5;28mself\u001b[39m, method\u001b[38;5;241m=\u001b[39m\u001b[38;5;124m\"\u001b[39m\u001b[38;5;124mapply\u001b[39m\u001b[38;5;124m\"\u001b[39m)\n",
      "File \u001b[1;32m~\\anaconda3\\lib\\site-packages\\pandas\\core\\apply.py:727\u001b[0m, in \u001b[0;36mFrameApply.apply\u001b[1;34m(self)\u001b[0m\n\u001b[0;32m    724\u001b[0m \u001b[38;5;28;01melif\u001b[39;00m \u001b[38;5;28mself\u001b[39m\u001b[38;5;241m.\u001b[39mraw:\n\u001b[0;32m    725\u001b[0m     \u001b[38;5;28;01mreturn\u001b[39;00m \u001b[38;5;28mself\u001b[39m\u001b[38;5;241m.\u001b[39mapply_raw()\n\u001b[1;32m--> 727\u001b[0m \u001b[38;5;28;01mreturn\u001b[39;00m \u001b[38;5;28;43mself\u001b[39;49m\u001b[38;5;241;43m.\u001b[39;49m\u001b[43mapply_standard\u001b[49m\u001b[43m(\u001b[49m\u001b[43m)\u001b[49m\n",
      "File \u001b[1;32m~\\anaconda3\\lib\\site-packages\\pandas\\core\\apply.py:851\u001b[0m, in \u001b[0;36mFrameApply.apply_standard\u001b[1;34m(self)\u001b[0m\n\u001b[0;32m    850\u001b[0m \u001b[38;5;28;01mdef\u001b[39;00m \u001b[38;5;21mapply_standard\u001b[39m(\u001b[38;5;28mself\u001b[39m):\n\u001b[1;32m--> 851\u001b[0m     results, res_index \u001b[38;5;241m=\u001b[39m \u001b[38;5;28;43mself\u001b[39;49m\u001b[38;5;241;43m.\u001b[39;49m\u001b[43mapply_series_generator\u001b[49m\u001b[43m(\u001b[49m\u001b[43m)\u001b[49m\n\u001b[0;32m    853\u001b[0m     \u001b[38;5;66;03m# wrap results\u001b[39;00m\n\u001b[0;32m    854\u001b[0m     \u001b[38;5;28;01mreturn\u001b[39;00m \u001b[38;5;28mself\u001b[39m\u001b[38;5;241m.\u001b[39mwrap_results(results, res_index)\n",
      "File \u001b[1;32m~\\anaconda3\\lib\\site-packages\\pandas\\core\\apply.py:867\u001b[0m, in \u001b[0;36mFrameApply.apply_series_generator\u001b[1;34m(self)\u001b[0m\n\u001b[0;32m    864\u001b[0m \u001b[38;5;28;01mwith\u001b[39;00m option_context(\u001b[38;5;124m\"\u001b[39m\u001b[38;5;124mmode.chained_assignment\u001b[39m\u001b[38;5;124m\"\u001b[39m, \u001b[38;5;28;01mNone\u001b[39;00m):\n\u001b[0;32m    865\u001b[0m     \u001b[38;5;28;01mfor\u001b[39;00m i, v \u001b[38;5;129;01min\u001b[39;00m \u001b[38;5;28menumerate\u001b[39m(series_gen):\n\u001b[0;32m    866\u001b[0m         \u001b[38;5;66;03m# ignore SettingWithCopy here in case the user mutates\u001b[39;00m\n\u001b[1;32m--> 867\u001b[0m         results[i] \u001b[38;5;241m=\u001b[39m \u001b[38;5;28;43mself\u001b[39;49m\u001b[38;5;241;43m.\u001b[39;49m\u001b[43mf\u001b[49m\u001b[43m(\u001b[49m\u001b[43mv\u001b[49m\u001b[43m)\u001b[49m\n\u001b[0;32m    868\u001b[0m         \u001b[38;5;28;01mif\u001b[39;00m \u001b[38;5;28misinstance\u001b[39m(results[i], ABCSeries):\n\u001b[0;32m    869\u001b[0m             \u001b[38;5;66;03m# If we have a view on v, we need to make a copy because\u001b[39;00m\n\u001b[0;32m    870\u001b[0m             \u001b[38;5;66;03m#  series_generator will swap out the underlying data\u001b[39;00m\n\u001b[0;32m    871\u001b[0m             results[i] \u001b[38;5;241m=\u001b[39m results[i]\u001b[38;5;241m.\u001b[39mcopy(deep\u001b[38;5;241m=\u001b[39m\u001b[38;5;28;01mFalse\u001b[39;00m)\n",
      "Input \u001b[1;32mIn [181]\u001b[0m, in \u001b[0;36m<lambda>\u001b[1;34m(x)\u001b[0m\n\u001b[1;32m----> 1\u001b[0m df_curso_perfil[\u001b[38;5;124m'\u001b[39m\u001b[38;5;124mcosto\u001b[39m\u001b[38;5;124m'\u001b[39m] \u001b[38;5;241m=\u001b[39m df_curso_perfil\u001b[38;5;241m.\u001b[39mapply(\u001b[38;5;28;01mlambda\u001b[39;00m x:\u001b[43mget_costo\u001b[49m\u001b[43m(\u001b[49m\u001b[43mdf_curso_perfil\u001b[49m\u001b[43m,\u001b[49m\u001b[43mdf_info_cursos_edu\u001b[49m\u001b[43m)\u001b[49m)\n",
      "Input \u001b[1;32mIn [180]\u001b[0m, in \u001b[0;36mget_costo\u001b[1;34m(df_curso_perfil, df_info_cursos_edu)\u001b[0m\n\u001b[0;32m      1\u001b[0m \u001b[38;5;28;01mdef\u001b[39;00m \u001b[38;5;21mget_costo\u001b[39m(df_curso_perfil,df_info_cursos_edu):\n\u001b[1;32m----> 3\u001b[0m         \u001b[38;5;28;01mif\u001b[39;00m df_curso_perfil[\u001b[38;5;124m'\u001b[39m\u001b[38;5;124mtipo\u001b[39m\u001b[38;5;124m'\u001b[39m] \u001b[38;5;241m==\u001b[39m \u001b[38;5;124m'\u001b[39m\u001b[38;5;124mcurso\u001b[39m\u001b[38;5;124m'\u001b[39m:\n\u001b[0;32m      4\u001b[0m             valor_comparacion \u001b[38;5;241m=\u001b[39m \u001b[38;5;241m0\u001b[39m\n\u001b[0;32m      5\u001b[0m             index_valor \u001b[38;5;241m=\u001b[39m \u001b[38;5;241m0\u001b[39m\n",
      "File \u001b[1;32m~\\anaconda3\\lib\\site-packages\\pandas\\core\\generic.py:1527\u001b[0m, in \u001b[0;36mNDFrame.__nonzero__\u001b[1;34m(self)\u001b[0m\n\u001b[0;32m   1525\u001b[0m \u001b[38;5;129m@final\u001b[39m\n\u001b[0;32m   1526\u001b[0m \u001b[38;5;28;01mdef\u001b[39;00m \u001b[38;5;21m__nonzero__\u001b[39m(\u001b[38;5;28mself\u001b[39m):\n\u001b[1;32m-> 1527\u001b[0m     \u001b[38;5;28;01mraise\u001b[39;00m \u001b[38;5;167;01mValueError\u001b[39;00m(\n\u001b[0;32m   1528\u001b[0m         \u001b[38;5;124mf\u001b[39m\u001b[38;5;124m\"\u001b[39m\u001b[38;5;124mThe truth value of a \u001b[39m\u001b[38;5;132;01m{\u001b[39;00m\u001b[38;5;28mtype\u001b[39m(\u001b[38;5;28mself\u001b[39m)\u001b[38;5;241m.\u001b[39m\u001b[38;5;18m__name__\u001b[39m\u001b[38;5;132;01m}\u001b[39;00m\u001b[38;5;124m is ambiguous. \u001b[39m\u001b[38;5;124m\"\u001b[39m\n\u001b[0;32m   1529\u001b[0m         \u001b[38;5;124m\"\u001b[39m\u001b[38;5;124mUse a.empty, a.bool(), a.item(), a.any() or a.all().\u001b[39m\u001b[38;5;124m\"\u001b[39m\n\u001b[0;32m   1530\u001b[0m     )\n",
      "\u001b[1;31mValueError\u001b[0m: The truth value of a Series is ambiguous. Use a.empty, a.bool(), a.item(), a.any() or a.all()."
     ]
    }
   ],
   "source": [
    "df_curso_perfil['costo'] = df_curso_perfil.apply(lambda x:get_costo(df_curso_perfil,df_info_cursos_edu))"
   ]
  },
  {
   "cell_type": "code",
   "execution_count": 180,
   "id": "4de736fa-86a7-4f49-ac0c-82237f85494f",
   "metadata": {},
   "outputs": [],
   "source": [
    "def get_costo(df_curso_perfil,df_info_cursos_edu):\n",
    "\n",
    "        if df_curso_perfil['tipo'] == 'curso':\n",
    "            valor_comparacion = 0\n",
    "            index_valor = 0\n",
    "            variables_similaridad_select = {}\n",
    "            res_value = 0\n",
    "            for j in tqdm(range(0,2)):\n",
    "                # Variables de similaridad\n",
    "                #Comprobar la similalidad del curso\n",
    "                curso_fuente = df_curso_perfil['curso_perfil']\n",
    "                curso_comparar = df_info_cursos_edu.iloc[j]['cursos']\n",
    "                variables_similaridad_select['precio_por_hora'] = lev.similarity(curso_fuente,curso_comparar,(1.25,4,1.5))\n",
    "\n",
    "                #Comprobar la similalidad por modalidad\n",
    "                mod_fuente = df_curso_perfil['modalidad']\n",
    "                mod_comparar = df_info_cursos_edu.iloc[j]['modalidad_set']\n",
    "                variables_similaridad_select['precio_mean_by_mod']  = 1 if mod_fuente == mod_comparar else 0\n",
    "\n",
    "                #Comprobar la similalidad por area\n",
    "                area_fuente = df_curso_perfil['area_familia']\n",
    "                area_comparar = df_info_cursos_edu.iloc[j]['area_familia']\n",
    "                variables_similaridad_select['precio_mean_by_area'] = 1 if area_fuente == area_comparar else 0.5 \n",
    "\n",
    "                #Comprobar la similalidad por ciudad\n",
    "                ciu_fuente = df_curso_perfil['canton']\n",
    "                ciu_comparar = df_info_cursos_edu.iloc[j]['ciudad']\n",
    "                variables_similaridad_select['precio_mean_by_ciudad']  = 1 if ciu_fuente in ciu_comparar else 0\n",
    "\n",
    "                #Comprobar la similalidad por modalidad y area\n",
    "                variables_similaridad_select['precio_mean_by_ma']  = 2 if area_fuente == area_comparar and mod_fuente == mod_comparar else 0\n",
    "\n",
    "                #Comprobar la similalidad por area y ciudad\n",
    "                variables_similaridad_select['precio_mean_by_ac']  = 2 if area_fuente == area_comparar and ciu_fuente == ciu_comparar else 0\n",
    "\n",
    "                #Comprobar la similalidad por modalidad y ciudad\n",
    "                variables_similaridad_select['precio_mean_by_mc']  = 2 if mod_fuente == mod_comparar and ciu_fuente == ciu_comparar else 0\n",
    "\n",
    "                #Comprobar la similalidad por modalidad, area y ciudad\n",
    "                variables_similaridad_select['precio_mean_by_mac']  = 3 if mod_fuente == mod_comparar and ciu_fuente == ciu_comparar and area_fuente == area_comparar else 0\n",
    "\n",
    "                 #Comprobar la similalidad por carga horaria\n",
    "                hora_fuente = df_curso_perfil['carga_horaria']\n",
    "                hora_comparar = df_info_cursos_edu.iloc[i]['carga_horaria']\n",
    "                variables_similaridad_select['precio_by_horas']  = 1 if hora_fuente == hora_comparar else 0\n",
    "                aux_valor = 0\n",
    "                for var in variables_similaridad_select.values():\n",
    "                    aux_valor += var\n",
    "                if  aux_valor >=  valor_comparacion:\n",
    "                    valor_comparacion = aux_valor\n",
    "                    index_valor = j\n",
    "                    res_value = np.nan\n",
    "                    while np.isnan(res_value):\n",
    "\n",
    "                        max_key = max(variables_similaridad_select,key=variables_similaridad_select.get)\n",
    "                        if max_key == 'precio_by_horas' or  max_key == 'precio_mean_by_mac':  \n",
    "                            res_value = df_info_cursos_edu.iloc[index_valor]['precio_por_hora']\n",
    "                        else:\n",
    "                            res_value = df_info_cursos_edu.iloc[index_valor][max_key]\n",
    "\n",
    "                        df_curso_perfil['costo'] = res_value\n",
    "                        variables_similaridad_select[max_key] = -1\n",
    "                \n",
    "            return res_value\n",
    "        else:\n",
    "            return df_curso_perfil['costo']\n"
   ]
  },
  {
   "cell_type": "code",
   "execution_count": 176,
   "id": "4df77056-349b-479b-a114-767cb1c46c2a",
   "metadata": {},
   "outputs": [
    {
     "data": {
      "text/html": [
       "<div>\n",
       "<style scoped>\n",
       "    .dataframe tbody tr th:only-of-type {\n",
       "        vertical-align: middle;\n",
       "    }\n",
       "\n",
       "    .dataframe tbody tr th {\n",
       "        vertical-align: top;\n",
       "    }\n",
       "\n",
       "    .dataframe thead th {\n",
       "        text-align: right;\n",
       "    }\n",
       "</style>\n",
       "<table border=\"1\" class=\"dataframe\">\n",
       "  <thead>\n",
       "    <tr style=\"text-align: right;\">\n",
       "      <th></th>\n",
       "      <th>id_curso_perfil</th>\n",
       "      <th>tipo</th>\n",
       "      <th>razon_social</th>\n",
       "      <th>area_familia</th>\n",
       "      <th>especialidad_sector</th>\n",
       "      <th>curso_perfil</th>\n",
       "      <th>modalidad</th>\n",
       "      <th>carga_horaria</th>\n",
       "      <th>costo</th>\n",
       "      <th>canton</th>\n",
       "    </tr>\n",
       "  </thead>\n",
       "  <tbody>\n",
       "    <tr>\n",
       "      <th>0</th>\n",
       "      <td>0</td>\n",
       "      <td>curso</td>\n",
       "      <td>mogrovejo narvaez jhoni william</td>\n",
       "      <td>mecánica automotriz</td>\n",
       "      <td>mecánica general</td>\n",
       "      <td>mecánica automotriz</td>\n",
       "      <td>presencial</td>\n",
       "      <td>120</td>\n",
       "      <td>0.0</td>\n",
       "      <td>cuenca</td>\n",
       "    </tr>\n",
       "    <tr>\n",
       "      <th>1</th>\n",
       "      <td>1</td>\n",
       "      <td>curso</td>\n",
       "      <td>mogrovejo narvaez jhoni william</td>\n",
       "      <td>artes y artesanía</td>\n",
       "      <td>peluquería y belleza barbería y estilismo</td>\n",
       "      <td>belleza integral</td>\n",
       "      <td>presencial</td>\n",
       "      <td>120</td>\n",
       "      <td>0.0</td>\n",
       "      <td>cuenca</td>\n",
       "    </tr>\n",
       "    <tr>\n",
       "      <th>2</th>\n",
       "      <td>2</td>\n",
       "      <td>curso</td>\n",
       "      <td>mogrovejo narvaez jhoni william</td>\n",
       "      <td>artes y artesanía</td>\n",
       "      <td>cosmetología</td>\n",
       "      <td>cosmetología</td>\n",
       "      <td>presencial</td>\n",
       "      <td>120</td>\n",
       "      <td>0.0</td>\n",
       "      <td>cuenca</td>\n",
       "    </tr>\n",
       "    <tr>\n",
       "      <th>3</th>\n",
       "      <td>3</td>\n",
       "      <td>curso</td>\n",
       "      <td>mogrovejo narvaez jhoni william</td>\n",
       "      <td>mecánica automotriz</td>\n",
       "      <td>carrocería</td>\n",
       "      <td>latonería</td>\n",
       "      <td>presencial</td>\n",
       "      <td>120</td>\n",
       "      <td>0.0</td>\n",
       "      <td>cuenca</td>\n",
       "    </tr>\n",
       "    <tr>\n",
       "      <th>4</th>\n",
       "      <td>4</td>\n",
       "      <td>curso</td>\n",
       "      <td>mogrovejo narvaez jhoni william</td>\n",
       "      <td>mecánica automotriz</td>\n",
       "      <td>mecánica general</td>\n",
       "      <td>fundamentos teóricos mecánica automotriz</td>\n",
       "      <td>virtual</td>\n",
       "      <td>40</td>\n",
       "      <td>0.0</td>\n",
       "      <td>cuenca</td>\n",
       "    </tr>\n",
       "  </tbody>\n",
       "</table>\n",
       "</div>"
      ],
      "text/plain": [
       "  id_curso_perfil   tipo                     razon_social  \\\n",
       "0               0  curso  mogrovejo narvaez jhoni william   \n",
       "1               1  curso  mogrovejo narvaez jhoni william   \n",
       "2               2  curso  mogrovejo narvaez jhoni william   \n",
       "3               3  curso  mogrovejo narvaez jhoni william   \n",
       "4               4  curso  mogrovejo narvaez jhoni william   \n",
       "\n",
       "          area_familia                        especialidad_sector  \\\n",
       "0  mecánica automotriz                           mecánica general   \n",
       "1    artes y artesanía  peluquería y belleza barbería y estilismo   \n",
       "2    artes y artesanía                               cosmetología   \n",
       "3  mecánica automotriz                                 carrocería   \n",
       "4  mecánica automotriz                           mecánica general   \n",
       "\n",
       "                               curso_perfil   modalidad carga_horaria costo  \\\n",
       "0                       mecánica automotriz  presencial           120   0.0   \n",
       "1                          belleza integral  presencial           120   0.0   \n",
       "2                              cosmetología  presencial           120   0.0   \n",
       "3                                 latonería  presencial           120   0.0   \n",
       "4  fundamentos teóricos mecánica automotriz     virtual            40   0.0   \n",
       "\n",
       "   canton  \n",
       "0  cuenca  \n",
       "1  cuenca  \n",
       "2  cuenca  \n",
       "3  cuenca  \n",
       "4  cuenca  "
      ]
     },
     "execution_count": 176,
     "metadata": {},
     "output_type": "execute_result"
    }
   ],
   "source": [
    "df_curso_perfil.head()"
   ]
  },
  {
   "cell_type": "code",
   "execution_count": null,
   "id": "8a3aaacb-6fd2-4fb5-85a1-8efdac769d5e",
   "metadata": {},
   "outputs": [],
   "source": [
    "df_test = df_curso_perfil.apply(lambda x: get_costos(df_curso_perfil,df_info_cursos_edu))"
   ]
  },
  {
   "cell_type": "code",
   "execution_count": 69,
   "id": "a39f6c89-8cf0-42f2-956e-c74760add20d",
   "metadata": {},
   "outputs": [],
   "source": [
    "df_curso_perfil.to_csv(os.path.join(path_dwh,'dim_curso_perfil.csv'),index=False)"
   ]
  },
  {
   "cell_type": "markdown",
   "id": "c9cbc4b8-f3c4-4432-8e54-85c6df659347",
   "metadata": {},
   "source": [
    "# Dimension Fecha (OC, OEC, CI)"
   ]
  },
  {
   "cell_type": "code",
   "execution_count": 23,
   "id": "f256c949-d49d-439f-93fb-524f6ab9f079",
   "metadata": {},
   "outputs": [],
   "source": [
    "df_pcoc = pd.read_csv(os.path.join(path_db,'pcoc.csv'))\n",
    "df_pcoc['fecha'] = df_pcoc['numero_certificado'].apply(get_year)\n",
    "df_pcoc = pd.merge(df_pcoc,df_razon_social_oc[['razon_social','fecha_resolucion']],left_on=['razon_social_oc'],right_on=['razon_social'],how=\"left\") \n",
    "df_pcoc['fecha'] = df_pcoc.apply(lambda x: get_year_by_oc(x['fecha'], x['fecha_resolucion']), axis=1)\n",
    "df_fecha_oc = df_pcoc[['fecha']].groupby(['fecha']).count().reset_index()"
   ]
  },
  {
   "cell_type": "code",
   "execution_count": 24,
   "id": "e61831e2-4832-48b3-8548-c0fd1ac6baa1",
   "metadata": {},
   "outputs": [],
   "source": [
    "df_pcoec = pd.read_csv(os.path.join(path_db,'pcoec.csv'))\n",
    "df_fecha_oec = df_pcoec[['fecha_certificacion']].groupby(['fecha_certificacion']).count().reset_index()\n",
    "df_fecha_oec = df_fecha_oec.rename(columns={'fecha_certificacion':'fecha'})"
   ]
  },
  {
   "cell_type": "code",
   "execution_count": 25,
   "id": "707be90b-81b5-43a4-b8ad-673b9c139862",
   "metadata": {},
   "outputs": [],
   "source": [
    "df_ci = pd.read_csv(os.path.join(path_db,'ci.csv'))\n",
    "df_ci['fecha'] = df_ci['fecha_resolucion'].apply(get_year)\n",
    "df_fecha_ci = pd.DataFrame(data=df_ci['fecha'].unique(),columns=['fecha'])"
   ]
  },
  {
   "cell_type": "code",
   "execution_count": 26,
   "id": "fd21831b-6811-4db9-a376-0783264a91dc",
   "metadata": {},
   "outputs": [],
   "source": [
    "df_fecha = pd.concat([df_fecha_oc,df_fecha_oec,df_fecha_ci],axis=0)\n",
    "df_fecha = df_fecha.drop_duplicates()\n",
    "df_fecha = df_fecha.reset_index().drop(['index'], axis=1)\n",
    "df_fecha = df_fecha.rename(columns={0:'dia',1:'mes',2:'anio'})\n",
    "df_fecha = df_fecha.rename_axis('id_fecha').reset_index()"
   ]
  },
  {
   "cell_type": "code",
   "execution_count": 27,
   "id": "d5fde8e1-bda3-4eb3-a540-50b831547474",
   "metadata": {},
   "outputs": [],
   "source": [
    "df_fecha.to_csv(os.path.join(path_dwh,'dim_fecha.csv'))"
   ]
  },
  {
   "cell_type": "markdown",
   "id": "a4f9fc79-4462-43e1-b625-2c569ae3f9e7",
   "metadata": {},
   "source": [
    "# Datamart OC"
   ]
  },
  {
   "cell_type": "code",
   "execution_count": 28,
   "id": "23dec98a-0b9a-4aaf-b552-4ac10d772f31",
   "metadata": {},
   "outputs": [
    {
     "name": "stdout",
     "output_type": "stream",
     "text": [
      "Datamart OC\n"
     ]
    }
   ],
   "source": [
    "print('Datamart OC')"
   ]
  },
  {
   "cell_type": "markdown",
   "id": "60751319-bd72-40de-8fe2-a73587ada7f0",
   "metadata": {
    "id": "ZaE4HScM78mS"
   },
   "source": [
    "## Dimensión Razon Social OC"
   ]
  },
  {
   "cell_type": "code",
   "execution_count": 29,
   "id": "21cd996b-b2bd-4962-9c32-3df695789747",
   "metadata": {
    "executionInfo": {
     "elapsed": 317,
     "status": "ok",
     "timestamp": 1670200490969,
     "user": {
      "displayName": "Sergio Jimenez",
      "userId": "03709241177248490041"
     },
     "user_tz": 300
    },
    "id": "C9_duNfQF0ZN"
   },
   "outputs": [],
   "source": [
    "#df_razon_social_oc = df_razon_social[df_razon_social['tipo_razon_social']=='operador de capacitación']\n",
    "#df_razon_social_oc = df_razon_social"
   ]
  },
  {
   "cell_type": "code",
   "execution_count": 63,
   "id": "cfff5a10-ddaf-4369-9b4d-9383f9651415",
   "metadata": {},
   "outputs": [
    {
     "data": {
      "text/plain": [
       "desconocida       5274\n",
       "presencial        3652\n",
       "virtual            737\n",
       "online             303\n",
       "semipresencial     181\n",
       "Name: modalidad, dtype: int64"
      ]
     },
     "execution_count": 63,
     "metadata": {},
     "output_type": "execute_result"
    }
   ],
   "source": [
    "df_curso_perfil['modalidad'].value_counts()"
   ]
  },
  {
   "cell_type": "markdown",
   "id": "ec8262a7-ce25-4f5f-b615-a389c811e444",
   "metadata": {
    "id": "hgxtmzMuCpCo"
   },
   "source": [
    "## Dimensión Curso_Perfil"
   ]
  },
  {
   "cell_type": "code",
   "execution_count": 30,
   "id": "e92061e0-31d0-4b53-ad8e-738d3c1d979c",
   "metadata": {
    "executionInfo": {
     "elapsed": 15,
     "status": "ok",
     "timestamp": 1670200594224,
     "user": {
      "displayName": "Sergio Jimenez",
      "userId": "03709241177248490041"
     },
     "user_tz": 300
    },
    "id": "TdlfI4ZuF0ZV"
   },
   "outputs": [],
   "source": [
    "#df_curso_perfil.head()\n",
    "#df_curso_perfil.info()"
   ]
  },
  {
   "cell_type": "markdown",
   "id": "164caae8-c17b-4018-b33e-05430d108ae0",
   "metadata": {
    "id": "qFEFmzjd_Hk4"
   },
   "source": [
    "## Hechos OC"
   ]
  },
  {
   "cell_type": "code",
   "execution_count": 31,
   "id": "e00ba299-f8e4-473a-8e37-82fb06b7c9f4",
   "metadata": {
    "executionInfo": {
     "elapsed": 8221,
     "status": "ok",
     "timestamp": 1670200691809,
     "user": {
      "displayName": "Sergio Jimenez",
      "userId": "03709241177248490041"
     },
     "user_tz": 300
    },
    "id": "5AWKq2lKF0ZW",
    "tags": []
   },
   "outputs": [],
   "source": [
    "#AGREGAR AÑO\n",
    "# Cargar los archivos necesarios de la ubicación de CLEANED DATA\n",
    "\n",
    "# Se extraera el año de la columna Numero_certificado.\n",
    "# Para esto se buscará porciones de texto que contengan los años del 2000 - 2022 (año actual)\n"
   ]
  },
  {
   "cell_type": "markdown",
   "id": "d2d0d618-f1b1-4951-a599-dd05ee32af64",
   "metadata": {
    "id": "HS6_SHcAF0ZW"
   },
   "source": [
    "## Dimension Fecha OC\n",
    "\n",
    "Se debe desarrollar en base a el año el cual se haya obtenido el certificado del curso o perfil OC.\n",
    "\n",
    "En caso de no existir un año registrado en el certificado en la tabla **PCOC** se deberá tomar como referencia el año de resolución de la Razon social de la tabla **OC**"
   ]
  },
  {
   "cell_type": "markdown",
   "id": "4d31e9bf-d964-4b1a-9c31-15393c733684",
   "metadata": {
    "id": "HtbS1knRHsTY"
   },
   "source": [
    "## Guardar Datamart OC"
   ]
  },
  {
   "cell_type": "code",
   "execution_count": 33,
   "id": "d1c5aca2-450e-4bb4-ba7f-1e218f8b0eab",
   "metadata": {},
   "outputs": [
    {
     "data": {
      "text/plain": [
       "(251210, 11)"
      ]
     },
     "execution_count": 33,
     "metadata": {},
     "output_type": "execute_result"
    }
   ],
   "source": [
    "df_pcoc.shape"
   ]
  },
  {
   "cell_type": "code",
   "execution_count": 49,
   "id": "c03ed4ce-7958-48f5-aa73-0dca13c0a9de",
   "metadata": {},
   "outputs": [
    {
     "data": {
      "text/plain": [
       "(4307, 4)"
      ]
     },
     "execution_count": 49,
     "metadata": {},
     "output_type": "execute_result"
    }
   ],
   "source": [
    "df_fact_oc_cp = df_pcoc.groupby(['razon_social_oc','nombre_curso_perfil','fecha']).count().reset_index().iloc[:,:4]\n",
    "df_fact_oc_cp.shape"
   ]
  },
  {
   "cell_type": "code",
   "execution_count": 46,
   "id": "53891877-c485-4749-b531-4e6459612bbc",
   "metadata": {},
   "outputs": [],
   "source": [
    "df_curso_perfil['carga_horaria'] = df_curso_perfil['carga_horaria'].astype('int64')\n",
    "df_curso_perfil['costo'] = df_curso_perfil['costo'].astype('float64')"
   ]
  },
  {
   "cell_type": "code",
   "execution_count": 50,
   "id": "dce3b81e-53a1-47de-93df-5a02fdf80865",
   "metadata": {},
   "outputs": [],
   "source": [
    "df_fact_oc_cp = df_fact_oc_cp.rename(columns={'numero_documento':'num_cap_cer'})\n",
    "df_fact_oc_cp = pd.merge(df_fact_oc_cp,df_razon_social[['id_razon_social','razon_social']],left_on=['razon_social_oc'],right_on=['razon_social'],how=\"inner\")\n",
    "df_fact_oc_cp = pd.merge(df_fact_oc_cp,df_curso_perfil,left_on=['razon_social_oc','nombre_curso_perfil'],right_on=['razon_social','curso_perfil'],how=\"inner\")\n",
    "df_fact_oc_cp = pd.merge(df_fact_oc_cp,df_fecha,left_on=['fecha'],right_on=['fecha'],how=\"inner\")\n",
    "df_fact_oc_cp['total_horas'] = df_fact_oc_cp['num_cap_cer'] * df_fact_oc_cp['carga_horaria']\n",
    "df_fact_oc_cp = df_fact_oc_cp[['id_razon_social','id_curso_perfil','id_fecha','num_cap_cer','total_horas']]"
   ]
  },
  {
   "cell_type": "code",
   "execution_count": 51,
   "id": "e68de8a1-cb4e-48c7-a7bd-5c920c2e2302",
   "metadata": {},
   "outputs": [
    {
     "data": {
      "text/html": [
       "<div>\n",
       "<style scoped>\n",
       "    .dataframe tbody tr th:only-of-type {\n",
       "        vertical-align: middle;\n",
       "    }\n",
       "\n",
       "    .dataframe tbody tr th {\n",
       "        vertical-align: top;\n",
       "    }\n",
       "\n",
       "    .dataframe thead th {\n",
       "        text-align: right;\n",
       "    }\n",
       "</style>\n",
       "<table border=\"1\" class=\"dataframe\">\n",
       "  <thead>\n",
       "    <tr style=\"text-align: right;\">\n",
       "      <th></th>\n",
       "      <th>id_razon_social</th>\n",
       "      <th>id_curso_perfil</th>\n",
       "      <th>id_fecha</th>\n",
       "      <th>num_cap_cer</th>\n",
       "      <th>total_horas</th>\n",
       "    </tr>\n",
       "  </thead>\n",
       "  <tbody>\n",
       "    <tr>\n",
       "      <th>0</th>\n",
       "      <td>1</td>\n",
       "      <td>3487</td>\n",
       "      <td>6</td>\n",
       "      <td>34</td>\n",
       "      <td>1360</td>\n",
       "    </tr>\n",
       "    <tr>\n",
       "      <th>1</th>\n",
       "      <td>2</td>\n",
       "      <td>3487</td>\n",
       "      <td>6</td>\n",
       "      <td>34</td>\n",
       "      <td>1360</td>\n",
       "    </tr>\n",
       "    <tr>\n",
       "      <th>2</th>\n",
       "      <td>1</td>\n",
       "      <td>3490</td>\n",
       "      <td>6</td>\n",
       "      <td>1</td>\n",
       "      <td>150</td>\n",
       "    </tr>\n",
       "    <tr>\n",
       "      <th>3</th>\n",
       "      <td>2</td>\n",
       "      <td>3490</td>\n",
       "      <td>6</td>\n",
       "      <td>1</td>\n",
       "      <td>150</td>\n",
       "    </tr>\n",
       "    <tr>\n",
       "      <th>4</th>\n",
       "      <td>4</td>\n",
       "      <td>2868</td>\n",
       "      <td>6</td>\n",
       "      <td>25</td>\n",
       "      <td>1500</td>\n",
       "    </tr>\n",
       "  </tbody>\n",
       "</table>\n",
       "</div>"
      ],
      "text/plain": [
       "  id_razon_social id_curso_perfil  id_fecha  num_cap_cer  total_horas\n",
       "0               1            3487         6           34         1360\n",
       "1               2            3487         6           34         1360\n",
       "2               1            3490         6            1          150\n",
       "3               2            3490         6            1          150\n",
       "4               4            2868         6           25         1500"
      ]
     },
     "execution_count": 51,
     "metadata": {},
     "output_type": "execute_result"
    }
   ],
   "source": [
    "df_fact_oc_cp.head()\n",
    "#df_fact_oc_cp.shape"
   ]
  },
  {
   "cell_type": "code",
   "execution_count": 97,
   "id": "aa5d4d7c-582b-44a0-80ba-575b7e6b6f1a",
   "metadata": {
    "executionInfo": {
     "elapsed": 320,
     "status": "ok",
     "timestamp": 1670200835029,
     "user": {
      "displayName": "Sergio Jimenez",
      "userId": "03709241177248490041"
     },
     "user_tz": 300
    },
    "id": "SR4Pn1LUF0ZY"
   },
   "outputs": [],
   "source": [
    "## UNIR DATOS\n",
    "df_fact_oc = df_pcoc.groupby(['razon_social_oc','nombre_curso_perfil','anio']).count().reset_index().iloc[:,:4]\n",
    "df_fact_oc = df_fact_oc.rename(columns={'numero_documento':'num_cap_cer'})\n",
    "df_total_cap_oc = df_pcoc.groupby(['razon_social_oc','anio']).count().reset_index().iloc[:,:3]\n",
    "df_total_cap_oc = df_total_cap_oc.rename(columns={'numero_documento':'volumen_capacitados'})\n",
    "df_total_cur_oc = df_pcoc.groupby(['razon_social_oc','nombre_curso_perfil','anio']).count().reset_index()\n",
    "df_total_cur_oc = df_total_cur_oc.groupby(['razon_social_oc','anio']).count().reset_index().iloc[:,:3]\n",
    "df_total_cur_oc = df_total_cur_oc.rename(columns={'nombre_curso_perfil':'total_cursos'})\n",
    "df_fact_oc = pd.merge(df_fact_oc,df_razon_social_oc,left_on=['razon_social_oc'],right_on=['razon_social'],how=\"inner\")\n",
    "df_fact_oc = pd.merge(df_fact_oc,df_curso_perfil,left_on=['razon_social_oc','nombre_curso_perfil'],right_on=['razon_social','curso_perfil'],how=\"inner\")\n",
    "df_fact_oc = pd.merge(df_fact_oc,df_fecha_oc,left_on=['anio'],right_on=['anio'],how=\"inner\")"
   ]
  },
  {
   "cell_type": "code",
   "execution_count": 98,
   "id": "144e04be-0dff-4ed1-b6f2-46689871c89a",
   "metadata": {},
   "outputs": [],
   "source": [
    "#df_fact_oc.head()\n",
    "#df_fact_oc.info()"
   ]
  },
  {
   "cell_type": "code",
   "execution_count": 99,
   "id": "94b4c67a-48de-47fb-9159-1d198ce31507",
   "metadata": {},
   "outputs": [],
   "source": [
    "df_fact_oc = pd.merge(df_fact_oc,df_total_cap_oc,on=['razon_social_oc','anio'],how=\"inner\")\n",
    "df_fact_oc = pd.merge(df_fact_oc,df_total_cur_oc,on=['razon_social_oc','anio'],how=\"inner\")"
   ]
  },
  {
   "cell_type": "code",
   "execution_count": 100,
   "id": "adec9ce2-5172-4138-ac20-77b07a97b630",
   "metadata": {},
   "outputs": [],
   "source": [
    "df_fact_oc = df_fact_oc[['id_razon_social','id_curso_perfil','id_fecha','num_cap_cer','carga_horaria','total_cursos','volumen_capacitados']]\n",
    "df_fact_oc['total_horas'] = df_fact_oc['num_cap_cer']*df_fact_oc['carga_horaria']\n",
    "df_fact_oc.drop('carga_horaria',axis=1,inplace=True)"
   ]
  },
  {
   "cell_type": "code",
   "execution_count": 101,
   "id": "89b9f22f-0c9f-4bf4-8bbf-ec6807a6592e",
   "metadata": {},
   "outputs": [],
   "source": [
    "df_fact_oc['total_horas'] = df_fact_oc['total_horas'].astype('int64')\n"
   ]
  },
  {
   "cell_type": "code",
   "execution_count": 102,
   "id": "a9b6ebea-a469-4756-985a-4816ad1ed8cd",
   "metadata": {},
   "outputs": [],
   "source": [
    "#df_fact_oc.head()\n",
    "#df_fact_oc.info()"
   ]
  },
  {
   "cell_type": "code",
   "execution_count": 103,
   "id": "8369c22f-3632-4b3b-beb1-f272540f7340",
   "metadata": {
    "executionInfo": {
     "elapsed": 202,
     "status": "ok",
     "timestamp": 1670200883094,
     "user": {
      "displayName": "Sergio Jimenez",
      "userId": "03709241177248490041"
     },
     "user_tz": 300
    },
    "id": "dX-67WrYF0ZY"
   },
   "outputs": [],
   "source": [
    "df_curso_perfil.drop('razon_social',axis=1,inplace=True)"
   ]
  },
  {
   "cell_type": "code",
   "execution_count": 104,
   "id": "874d310f-6fe0-432e-b992-1e17c46502fd",
   "metadata": {
    "executionInfo": {
     "elapsed": 229,
     "status": "ok",
     "timestamp": 1670107294162,
     "user": {
      "displayName": "Sergio Jimenez",
      "userId": "03709241177248490041"
     },
     "user_tz": 300
    },
    "id": "_yt0Tpr3-7AK"
   },
   "outputs": [],
   "source": [
    "df_curso_perfil.to_csv(os.path.join(path_dm_oc,'dim_curso_perfil.csv'),index=False)\n",
    "df_fact_oc.to_csv(os.path.join(path_dm_oc,'fact_oc.csv'),index=False)"
   ]
  },
  {
   "cell_type": "markdown",
   "id": "e4916448-1b7a-4a44-aba5-eb8bda0d2242",
   "metadata": {
    "id": "UKh5cHw91rOw"
   },
   "source": [
    "# Dataframe OEC"
   ]
  },
  {
   "cell_type": "markdown",
   "id": "535f267d-2182-470a-8d17-12528cc07e67",
   "metadata": {
    "id": "QJhODV_92GKa"
   },
   "source": [
    "### Dimensión Razon Social OEC"
   ]
  },
  {
   "cell_type": "code",
   "execution_count": 105,
   "id": "0f0610bd-ded5-4aeb-abf9-7fddb0aae84a",
   "metadata": {},
   "outputs": [],
   "source": [
    "df_razon_social_oec = df_razon_social[df_razon_social['tipo_razon_social']=='organismo evaluador de la conformidad']"
   ]
  },
  {
   "cell_type": "code",
   "execution_count": 106,
   "id": "180b6bc3-84d3-49bf-9ceb-ad442508deed",
   "metadata": {
    "executionInfo": {
     "elapsed": 2,
     "status": "ok",
     "timestamp": 1670106503704,
     "user": {
      "displayName": "Sergio Jimenez",
      "userId": "03709241177248490041"
     },
     "user_tz": 300
    },
    "id": "7p4JmuaZF0Za"
   },
   "outputs": [],
   "source": [
    "#df_razon_social_oec.head()\n",
    "#df_razon_social_oec.info()"
   ]
  },
  {
   "cell_type": "markdown",
   "id": "85e6ca2e-084e-4b52-903b-7eada262a47d",
   "metadata": {
    "id": "PfsuUbx54bB3"
   },
   "source": [
    "### Dimension Perfil"
   ]
  },
  {
   "cell_type": "code",
   "execution_count": 107,
   "id": "ce6346a4-29a0-468d-9cbf-00dc3c4705ca",
   "metadata": {
    "executionInfo": {
     "elapsed": 240,
     "status": "ok",
     "timestamp": 1670182696993,
     "user": {
      "displayName": "Sergio Jimenez",
      "userId": "03709241177248490041"
     },
     "user_tz": 300
    },
    "id": "yUZy-Sh8bhGX"
   },
   "outputs": [],
   "source": [
    "df_perfil = pd.read_csv(os.path.join(path_db,'oec_dl_familia_sector_perfil.csv'))\n",
    "df_perfil = df_perfil.rename(columns={'Nombre':'razon_social','Familia':'familia','Sector':'sector','Perfil':'perfil'})\n",
    "df_perfil = df_perfil.rename_axis('id_perfil').reset_index().astype('object')\n",
    "df_perfil['modalidad'] = 'desconocida'\n",
    "df_perfil = df_perfil.apply(lambda x: x.astype(str).str.lower())\n",
    "#df_perfil['carga_horaria'] = df_perfil['carga_horaria'].astype('float64')\n",
    "df_perfil['carga_horaria'] = 6\n",
    "df_perfil['costo'] = 250.0"
   ]
  },
  {
   "cell_type": "code",
   "execution_count": 108,
   "id": "d51b611c-3ba9-47f3-8565-af89b0b55a86",
   "metadata": {
    "executionInfo": {
     "elapsed": 8,
     "status": "ok",
     "timestamp": 1670178941420,
     "user": {
      "displayName": "Sergio Jimenez",
      "userId": "03709241177248490041"
     },
     "user_tz": 300
    },
    "id": "z3udrUBQF0Zc"
   },
   "outputs": [],
   "source": [
    "#df_perfil.head()\n",
    "#df_perfil.info()"
   ]
  },
  {
   "cell_type": "markdown",
   "id": "1a6be4b1-e3e7-4b0f-b6be-28fb35be698a",
   "metadata": {
    "id": "5Uc9Cww15f__"
   },
   "source": [
    "## Hechos OEC"
   ]
  },
  {
   "cell_type": "code",
   "execution_count": 109,
   "id": "5ea33a9b-3bb4-420a-b9ca-86fb696c388c",
   "metadata": {
    "executionInfo": {
     "elapsed": 2637,
     "status": "ok",
     "timestamp": 1670106514994,
     "user": {
      "displayName": "Sergio Jimenez",
      "userId": "03709241177248490041"
     },
     "user_tz": 300
    },
    "id": "RR2ufZMgjKMD"
   },
   "outputs": [],
   "source": [
    "df_pcoec = pd.read_csv(os.path.join(path_db,'pcoec.csv'))\n",
    "df_demanda_oec = df_pcoec.groupby(['razon_social','perfil','fecha_certificacion']).count().reset_index().iloc[:,:4]"
   ]
  },
  {
   "cell_type": "code",
   "execution_count": 110,
   "id": "f30b50d5-6467-46b8-a13f-aaa225811d43",
   "metadata": {},
   "outputs": [],
   "source": [
    "#df_demanda_oec.head()\n",
    "#df_demanda_oec.info()"
   ]
  },
  {
   "cell_type": "markdown",
   "id": "fbf37a3a-6ab1-49f9-beb4-236d06ed7a0a",
   "metadata": {
    "id": "UkT0aYI_F0Zf"
   },
   "source": [
    "## Dimension Fecha"
   ]
  },
  {
   "cell_type": "code",
   "execution_count": 111,
   "id": "4778031f-fb2c-42bd-b1d4-11b0dfa772d1",
   "metadata": {},
   "outputs": [],
   "source": [
    "df_fecha_oec = df_pcoec[['fecha_certificacion']].groupby(['fecha_certificacion']).count().reset_index()\n",
    "data_fecha = df_fecha_oec['fecha_certificacion'].str.rsplit(\"-\", expand=True)"
   ]
  },
  {
   "cell_type": "code",
   "execution_count": 112,
   "id": "753f9636-7739-451b-9165-d68a127b3191",
   "metadata": {
    "executionInfo": {
     "elapsed": 267,
     "status": "ok",
     "timestamp": 1670106517764,
     "user": {
      "displayName": "Sergio Jimenez",
      "userId": "03709241177248490041"
     },
     "user_tz": 300
    },
    "id": "OGWUR4168r1d"
   },
   "outputs": [],
   "source": [
    "df_fecha_oec = pd.concat([df_fecha_oec,data_fecha],axis=1)\n",
    "df_fecha_oec = df_fecha_oec.rename(columns={0:'dia',1:'mes',2:'anio'})\n",
    "df_fecha_oec = df_fecha_oec.rename_axis('id_fecha').reset_index().astype('str')"
   ]
  },
  {
   "cell_type": "code",
   "execution_count": 113,
   "id": "b7a041ea-195d-42fd-999c-345acdba8078",
   "metadata": {
    "executionInfo": {
     "elapsed": 7,
     "status": "ok",
     "timestamp": 1670106519329,
     "user": {
      "displayName": "Sergio Jimenez",
      "userId": "03709241177248490041"
     },
     "user_tz": 300
    },
    "id": "IpQXgVYHF0Zg"
   },
   "outputs": [],
   "source": [
    "#df_fecha_oec.head()\n",
    "#df_fecha_oec.info()"
   ]
  },
  {
   "cell_type": "code",
   "execution_count": 114,
   "id": "508f7fe7-abdf-42c8-a834-bb094ced5014",
   "metadata": {
    "executionInfo": {
     "elapsed": 229,
     "status": "ok",
     "timestamp": 1670106520727,
     "user": {
      "displayName": "Sergio Jimenez",
      "userId": "03709241177248490041"
     },
     "user_tz": 300
    },
    "id": "r_ZwjaKY5iXP"
   },
   "outputs": [],
   "source": [
    "df_demanda_oec = df_demanda_oec.rename(columns={'apellidos_nombres':'num_cer'})\n",
    "df_total_cap_oec = df_pcoec.groupby(['razon_social','fecha_certificacion']).count().reset_index()\n",
    "df_total_cap_oec = df_total_cap_oec.rename(columns={'numero_certificacion':'volumen_capacitados'})\n",
    "df_total_cap_oec = df_total_cap_oec[['razon_social','fecha_certificacion','volumen_capacitados']]\n",
    "df_total_cur_oec = df_pcoec.groupby(['razon_social','perfil','fecha_certificacion']).count().reset_index()\n",
    "df_total_cur_oec = df_total_cur_oec.groupby(['razon_social','fecha_certificacion']).count().reset_index()\n",
    "df_total_cur_oec = df_total_cur_oec.rename(columns={'numero_certificacion':'total_cursos'})\n",
    "df_total_cur_oec = df_total_cur_oec[['razon_social','fecha_certificacion','total_cursos']]\n",
    "df_demanda_oec = pd.merge(df_demanda_oec,df_total_cap_oec,on=['razon_social','fecha_certificacion'],how=\"inner\")\n",
    "df_demanda_oec = pd.merge(df_demanda_oec,df_total_cur_oec,on=['razon_social','fecha_certificacion'],how=\"inner\")\n",
    "df_demanda_oec = pd.merge(df_demanda_oec,df_razon_social_oec,on='razon_social',how=\"inner\")\n",
    "df_demanda_oec = pd.merge(df_demanda_oec,df_perfil,on=['razon_social','perfil'],how=\"inner\")\n",
    "df_demanda_oec = pd.merge(df_demanda_oec,df_fecha_oec,on='fecha_certificacion',how=\"inner\")\n",
    "df_demanda_oec['total_horas'] = df_demanda_oec['num_cer']*df_demanda_oec['carga_horaria']\n",
    "df_demanda_oec['total_ganacias'] = df_demanda_oec['num_cer']*df_demanda_oec['costo']\n",
    "df_demanda_oec = df_demanda_oec[['id_razon_social','id_perfil','id_fecha','num_cer','total_horas','total_cursos','volumen_capacitados','total_ganacias']]\n"
   ]
  },
  {
   "cell_type": "code",
   "execution_count": 115,
   "id": "b3d70b7f-3180-4d72-b3b2-64865f15c800",
   "metadata": {},
   "outputs": [],
   "source": [
    "#df_demanda_oec.head()\n",
    "#df_demanda_oec.info()"
   ]
  },
  {
   "cell_type": "code",
   "execution_count": 116,
   "id": "2bbee6d1-baf5-4c32-9756-c1f5bd6a35ed",
   "metadata": {
    "executionInfo": {
     "elapsed": 217,
     "status": "ok",
     "timestamp": 1670106523486,
     "user": {
      "displayName": "Sergio Jimenez",
      "userId": "03709241177248490041"
     },
     "user_tz": 300
    },
    "id": "TSJ_ird1F0Zh"
   },
   "outputs": [],
   "source": [
    "df_fecha_oec = df_fecha_oec.drop('fecha_certificacion',axis=1)\n",
    "df_fecha_oec.to_csv(os.path.join(path_dm_oec,'dim_fecha.csv'),index=False)"
   ]
  },
  {
   "cell_type": "code",
   "execution_count": 117,
   "id": "e5350cf0-8e51-48c9-ae45-98c3bbb9cd92",
   "metadata": {
    "executionInfo": {
     "elapsed": 10,
     "status": "ok",
     "timestamp": 1670178976106,
     "user": {
      "displayName": "Sergio Jimenez",
      "userId": "03709241177248490041"
     },
     "user_tz": 300
    },
    "id": "UiCbPJvLagZP"
   },
   "outputs": [],
   "source": [
    "df_perfil = df_perfil.drop('razon_social',axis=1)\n",
    "df_perfil.to_csv(os.path.join(path_dm_oec,'dim_perfil.csv'),index=False)"
   ]
  },
  {
   "cell_type": "code",
   "execution_count": 118,
   "id": "fe2ded84-57f5-4002-8250-eb1b144523db",
   "metadata": {
    "executionInfo": {
     "elapsed": 542,
     "status": "ok",
     "timestamp": 1670106524860,
     "user": {
      "displayName": "Sergio Jimenez",
      "userId": "03709241177248490041"
     },
     "user_tz": 300
    },
    "id": "8KPKpsFkF0Zh"
   },
   "outputs": [],
   "source": [
    "df_demanda_oec.to_csv(os.path.join(path_dm_oec,'fact_oec.csv'),index=False)"
   ]
  },
  {
   "cell_type": "markdown",
   "id": "cfb3b643-9e58-4253-8551-526a2a724cfb",
   "metadata": {
    "id": "mDJEaTI9XyoO"
   },
   "source": [
    "# Datamart CI"
   ]
  },
  {
   "cell_type": "code",
   "execution_count": 120,
   "id": "90de90bc-d599-4bc5-b1bf-f34630b5f8ad",
   "metadata": {},
   "outputs": [
    {
     "name": "stdout",
     "output_type": "stream",
     "text": [
      "Datamart CI\n"
     ]
    }
   ],
   "source": [
    "print('Datamart CI')"
   ]
  },
  {
   "cell_type": "markdown",
   "id": "69ffc795-bc11-48e0-b3e4-7f6e9b7c5c78",
   "metadata": {
    "id": "qdn7O9taF0Zi"
   },
   "source": [
    "## Dimensión Razon Social CI"
   ]
  },
  {
   "cell_type": "code",
   "execution_count": 121,
   "id": "68891cd4-6fbb-4612-ac5f-c13e986adb76",
   "metadata": {},
   "outputs": [],
   "source": [
    "df_razon_social_ci = df_razon_social[df_razon_social['tipo_razon_social']=='capacitador independiente']"
   ]
  },
  {
   "cell_type": "code",
   "execution_count": 122,
   "id": "f507afef-546c-48c8-b7a2-5f07863c5d6b",
   "metadata": {},
   "outputs": [
    {
     "name": "stderr",
     "output_type": "stream",
     "text": [
      "C:\\Users\\sjime\\AppData\\Local\\Temp\\ipykernel_21100\\2005973459.py:1: SettingWithCopyWarning: \n",
      "A value is trying to be set on a copy of a slice from a DataFrame.\n",
      "Try using .loc[row_indexer,col_indexer] = value instead\n",
      "\n",
      "See the caveats in the documentation: https://pandas.pydata.org/pandas-docs/stable/user_guide/indexing.html#returning-a-view-versus-a-copy\n",
      "  df_razon_social_ci['anio'] = df_razon_social_ci['fecha_resolucion'].apply(get_year)\n"
     ]
    }
   ],
   "source": [
    "df_razon_social_ci['anio'] = df_razon_social_ci['fecha_resolucion'].apply(get_year)"
   ]
  },
  {
   "cell_type": "code",
   "execution_count": 123,
   "id": "aa8f1906-8ebb-450d-a3c0-958a4c5f292b",
   "metadata": {
    "executionInfo": {
     "elapsed": 5,
     "status": "ok",
     "timestamp": 1670106530790,
     "user": {
      "displayName": "Sergio Jimenez",
      "userId": "03709241177248490041"
     },
     "user_tz": 300
    },
    "id": "1JtlqGxwF0Zm"
   },
   "outputs": [],
   "source": [
    "#df_razon_social_ci.tail()\n",
    "#df_razon_social_ci.info()"
   ]
  },
  {
   "cell_type": "markdown",
   "id": "89b21976-14a1-446a-bd8f-920832d4aac1",
   "metadata": {},
   "source": [
    "### Dimesión Fecha CI"
   ]
  },
  {
   "cell_type": "code",
   "execution_count": 124,
   "id": "3496700b-d826-4523-97e3-ac94695b8c05",
   "metadata": {
    "executionInfo": {
     "elapsed": 5,
     "status": "ok",
     "timestamp": 1670106531978,
     "user": {
      "displayName": "Sergio Jimenez",
      "userId": "03709241177248490041"
     },
     "user_tz": 300
    },
    "id": "cOLQXx5BF0Zn"
   },
   "outputs": [],
   "source": [
    "df_fecha_ci = pd.DataFrame(data=df_razon_social_ci['anio'].unique(),columns=['anio'])\n",
    "df_fecha_ci = df_fecha_ci.rename_axis('id_fecha').reset_index().astype('str')"
   ]
  },
  {
   "cell_type": "markdown",
   "id": "68f69250-450c-4ab2-ac39-13fc60d1349f",
   "metadata": {
    "id": "T0MHVPnOF0Zo"
   },
   "source": [
    "## Dimensión Curso"
   ]
  },
  {
   "cell_type": "code",
   "execution_count": 125,
   "id": "0071d51f-abdf-4a3a-a4dd-4fc98d23e141",
   "metadata": {
    "executionInfo": {
     "elapsed": 4,
     "status": "ok",
     "timestamp": 1670182706330,
     "user": {
      "displayName": "Sergio Jimenez",
      "userId": "03709241177248490041"
     },
     "user_tz": 300
    },
    "id": "KjECY3Khbc1I"
   },
   "outputs": [],
   "source": [
    "#df_ci_lca = pd.read_csv(os.path.join(path_db,'ci_lca.csv'))\n",
    "df_ci_lca =  df_ci_lca.rename_axis('id_curso').reset_index().astype('str')\n",
    "df_ci_lca[\"carga_horaria\"]=df_ci_lca[\"carga_horaria\"].astype('int64')\n",
    "df_ci_lca.insert(6,'modalidad', 'desconocida')"
   ]
  },
  {
   "cell_type": "code",
   "execution_count": 126,
   "id": "a7c75908-c752-4192-89de-90e5c120b90e",
   "metadata": {
    "executionInfo": {
     "elapsed": 227,
     "status": "ok",
     "timestamp": 1670179183804,
     "user": {
      "displayName": "Sergio Jimenez",
      "userId": "03709241177248490041"
     },
     "user_tz": 300
    },
    "id": "o6Pf3B4sF0Zr"
   },
   "outputs": [],
   "source": [
    "#df_ci_lca.tail()\n",
    "# df_ci_lca.info()"
   ]
  },
  {
   "cell_type": "markdown",
   "id": "edb7f86f-d13b-49b1-a3d0-30a2304c4401",
   "metadata": {
    "id": "3BIQWh3zF0Zs"
   },
   "source": [
    "## Hechos CI"
   ]
  },
  {
   "cell_type": "code",
   "execution_count": 127,
   "id": "e01dea4d-4143-486d-9e95-e135182b284b",
   "metadata": {},
   "outputs": [],
   "source": [
    "df_pcci = pd.read_csv(os.path.join(path_db,'pcci.csv'))\n",
    "df_pcci = df_pcci.rename(columns={'capacitador_independiente':'razon_social'})\n",
    "df_pcci = pd.merge(df_pcci,df_razon_social_ci[['anio','razon_social']],on=['razon_social'],how=\"inner\")\n",
    "df_pcci = df_pcci.rename(columns={'numero_documento':'num_cap'})\n",
    "#df_razon_social_ci = df_razon_social_ci.drop(['anio'],axis=1)\n",
    "fact_ci = df_pcci.groupby(['razon_social','curso','anio']).count().reset_index()\n",
    "fact_ci = pd.merge(fact_ci,df_razon_social_ci[['razon_social','id_razon_social']],on=['razon_social'],how=\"inner\")"
   ]
  },
  {
   "cell_type": "code",
   "execution_count": 128,
   "id": "96b9516e-a33c-41da-a761-e3ddbcde5d33",
   "metadata": {},
   "outputs": [],
   "source": [
    "#fact_ci.head()\n",
    "#fact_ci.info()"
   ]
  },
  {
   "cell_type": "code",
   "execution_count": 129,
   "id": "e24d6248-9c4e-45c0-9bef-529ee66fdd84",
   "metadata": {
    "id": "XB1vWHuC4VeK"
   },
   "outputs": [],
   "source": [
    "df_pcci = pd.read_csv(os.path.join(path_db,'pcci.csv'))\n",
    "df_pcci = df_pcci.rename(columns={'capacitador_independiente':'razon_social'})\n",
    "df_pcci = pd.merge(df_pcci,df_razon_social_ci[['anio','razon_social']],on=['razon_social'],how=\"inner\")\n",
    "df_pcci = df_pcci.rename(columns={'numero_documento':'num_cap'})\n",
    "df_ci_lca = df_ci_lca.rename(columns={'apellidos_nombres':'razon_social'})\n",
    "fact_ci = df_pcci.groupby(['razon_social','curso','anio']).count().reset_index()\n",
    "fact_ci = pd.merge(fact_ci,df_razon_social_ci[['razon_social','id_razon_social']],on=['razon_social'],how=\"inner\")\n",
    "df_total_cap_ci = df_pcci.groupby(['razon_social','anio']).count().reset_index()\n",
    "df_total_cap_ci = df_total_cap_ci.rename(columns={'num_cap':'volumen_capacitados'})\n",
    "df_total_cap_ci = df_total_cap_ci[['razon_social','anio','volumen_capacitados']]\n",
    "df_total_cur_ci = df_pcci.groupby(['razon_social','curso','anio']).count().reset_index()\n",
    "df_total_cur_ci = df_total_cur_ci.groupby(['razon_social','anio']).count().reset_index()\n",
    "df_total_cur_ci = df_total_cur_ci.rename(columns={'num_cap':'total_cursos'})\n",
    "df_total_cur_ci = df_total_cur_ci[['razon_social','anio','total_cursos']]\n",
    "fact_ci = pd.merge(fact_ci,df_total_cap_ci,on=['razon_social','anio'],how=\"inner\")\n",
    "fact_ci = pd.merge(fact_ci,df_total_cur_ci,on=['razon_social','anio'],how=\"inner\")\n",
    "fact_ci = pd.merge(fact_ci,df_ci_lca,on=['razon_social','curso'],how=\"inner\")\n",
    "fact_ci = pd.merge(fact_ci,df_fecha_ci,left_on=['anio'],right_on=['anio'],how=\"inner\")\n",
    "fact_ci['num_cap'] = fact_ci['num_cap'].astype('int64')\n",
    "fact_ci['total_horas'] = fact_ci['num_cap']*fact_ci['carga_horaria']\n",
    "fact_ci['total_horas'] = fact_ci['total_horas'].astype('int64')\n",
    "fact_ci = fact_ci[['id_razon_social','id_curso','id_fecha','num_cap','total_horas','total_cursos','volumen_capacitados','carga_horaria']]"
   ]
  },
  {
   "cell_type": "code",
   "execution_count": 130,
   "id": "8ab82fe5-7956-47a9-a26b-72098f55ad15",
   "metadata": {},
   "outputs": [],
   "source": [
    "#fact_ci.tail()\n",
    "#fact_ci.info()\n",
    "# fact_ci.describe(include='all')"
   ]
  },
  {
   "cell_type": "markdown",
   "id": "0a125a9a-4fff-4f65-82d4-5cf6790c1aa4",
   "metadata": {},
   "source": [
    "### Guardar Datamart"
   ]
  },
  {
   "cell_type": "code",
   "execution_count": 131,
   "id": "5d96a96d-434e-47ec-8791-bd5434acd3bd",
   "metadata": {},
   "outputs": [],
   "source": [
    "df_ci_lca = df_ci_lca[['id_curso', 'curso', 'area','especialidad', 'modalidad', 'carga_horaria']]\n",
    "df_ci_lca.to_csv(os.path.join(path_dm_ci,'dim_curso_ci.csv'),index=False)"
   ]
  },
  {
   "cell_type": "code",
   "execution_count": 132,
   "id": "79f41628-f4da-48df-a821-97fee11ec867",
   "metadata": {
    "id": "dq6s6tzvG24D"
   },
   "outputs": [],
   "source": [
    "df_razon_social_ci = df_razon_social_ci.drop(['anio'],axis=1)\n",
    "df_razon_social_ci.to_csv(os.path.join(path_dm_ci,'dim_razon_social_ci.csv'),index=False)\n",
    "df_fecha_ci.to_csv(os.path.join(path_dm_ci,'dim_fecha_ci.csv'),index=False)\n",
    "fact_ci.to_csv(os.path.join(path_dm_ci,'fact_ci.csv'),index=False)"
   ]
  },
  {
   "cell_type": "code",
   "execution_count": 135,
   "id": "8fb9e93f-9a51-49d0-b4e6-53c06ce75799",
   "metadata": {},
   "outputs": [],
   "source": [
    "df_razon_social.to_csv(os.path.join(path_dwh,'dim_razon_social.csv'),index=False)"
   ]
  },
  {
   "cell_type": "markdown",
   "id": "7b44b76f-99ff-456c-a670-a583f07d129b",
   "metadata": {
    "id": "47M_Nydt4cAe"
   },
   "source": [
    "# Costos"
   ]
  },
  {
   "cell_type": "code",
   "execution_count": 177,
   "id": "5ea4d78f-bd84-4fdd-97b4-17febbebd880",
   "metadata": {
    "executionInfo": {
     "elapsed": 1076,
     "status": "ok",
     "timestamp": 1670186855789,
     "user": {
      "displayName": "Sergio Jimenez",
      "userId": "03709241177248490041"
     },
     "user_tz": 300
    },
    "id": "8ARfEHES5HCc"
   },
   "outputs": [],
   "source": [
    "#Filtrar las areas de Tecnologia y TICs\n",
    "df_dim_curso_perfil = pd.read_csv(os.path.join(path_dm_oc,'dim_curso_perfil.csv'))\n",
    "df_dim_curso_perfil = df_dim_curso_perfil[((df_dim_curso_perfil['area_familia']=='información y comunicación')|(df_dim_curso_perfil['area_familia'] == 'tecnologías de la información y comunicación'))]\n",
    "data_1= df_dim_curso_perfil.groupby(['curso_perfil','modalidad']).count().reset_index()\n",
    "data_1 = data_1[['curso_perfil','modalidad']]\n",
    "\n",
    "df_dim_curso = pd.read_csv(os.path.join(path_dm_ci,'dim_curso_ci.csv'))\n",
    "df_dim_curso = df_dim_curso[df_dim_curso['area']=='tecnologías de la información y comunicación']\n",
    "data_3 = df_dim_curso.groupby('curso').count().reset_index()\n",
    "data_3['modalidad'] = 'desconocida'\n",
    "data_3 = data_3[['curso','modalidad']]\n",
    "\n",
    "arr_dims_curso_perfil = [df_dim_curso_perfil,df_dim_curso]"
   ]
  },
  {
   "cell_type": "code",
   "execution_count": 178,
   "id": "4d6953bb-f992-4157-8374-9e911f377cdc",
   "metadata": {
    "executionInfo": {
     "elapsed": 342,
     "status": "ok",
     "timestamp": 1670186939857,
     "user": {
      "displayName": "Sergio Jimenez",
      "userId": "03709241177248490041"
     },
     "user_tz": 300
    },
    "id": "1Vzn5ddA5I_5"
   },
   "outputs": [],
   "source": [
    "data = np.concatenate((data_1.values,data_3.values),axis=0)\n",
    "data = pd.DataFrame(data=data,columns=['curso_perfil','modalidad'])\n",
    "data = data.drop_duplicates()\n",
    "data['aux_2_curso_perfil'] = data['curso_perfil'].str.cat(data['modalidad'],sep=' | ')\n",
    "data['aux_curso_perfil'] = data['curso_perfil'].apply(lambda x: normalizar(x))"
   ]
  },
  {
   "cell_type": "code",
   "execution_count": 179,
   "id": "60f6b9a0-18c4-4458-9820-c169175ed156",
   "metadata": {
    "executionInfo": {
     "elapsed": 720,
     "status": "ok",
     "timestamp": 1670186958810,
     "user": {
      "displayName": "Sergio Jimenez",
      "userId": "03709241177248490041"
     },
     "user_tz": 300
    },
    "id": "A2FWNuTh5jLs"
   },
   "outputs": [],
   "source": [
    "df_coec = pd.read_csv(os.path.join(path_db,'costos_estimados_cursos.csv'))\n",
    "df_coec['aux_2_curso'] = df_coec['curso'].str.cat(df_coec['modalidad'],sep=' | ')\n",
    "df_coec['aux_curso'] = df_coec['curso'].apply(lambda x: normalizar(x))"
   ]
  },
  {
   "cell_type": "code",
   "execution_count": 180,
   "id": "0a3cc884-eeb6-4955-98c6-e41370837886",
   "metadata": {
    "executionInfo": {
     "elapsed": 17394,
     "status": "ok",
     "timestamp": 1670186985938,
     "user": {
      "displayName": "Sergio Jimenez",
      "userId": "03709241177248490041"
     },
     "user_tz": 300
    },
    "id": "PGBLREUn5knr"
   },
   "outputs": [],
   "source": [
    "arr = []\n",
    "\n",
    "for i in range(len(df_coec['aux_curso'])):\n",
    "    # Similaridad \n",
    "    sub_arr = []\n",
    "    for j in range(len(data['aux_curso_perfil'])):\n",
    "        curso_fuente = df_coec['aux_curso'].iloc[i]\n",
    "        curso_comparar = data['aux_curso_perfil'].iloc[j]\n",
    "        similary = lev.similarity(curso_fuente,curso_comparar,(1,1.5,1.25))\n",
    "        aux_similary=0\n",
    "        arr_curso = curso_comparar.split(' ')\n",
    "        if curso_comparar in curso_fuente :\n",
    "            similary = 1.0\n",
    "        else:\n",
    "            for word in arr_curso:\n",
    "                if word in curso_fuente:\n",
    "                    aux_similary+=1/len(arr_curso)\n",
    "            if data['modalidad'].iloc[j] == df_coec['modalidad'].iloc[i]:\n",
    "                aux_similary += aux_similary/2\n",
    "        if aux_similary > similary and aux_similary > 2/len(arr_curso):\n",
    "            similary = aux_similary\n",
    "        sub_arr.append(similary)\n",
    "    arr.append(sub_arr)\n"
   ]
  },
  {
   "cell_type": "code",
   "execution_count": 181,
   "id": "a50317f6-6afb-45cd-8a0a-aeadc4f68443",
   "metadata": {
    "executionInfo": {
     "elapsed": 319,
     "status": "ok",
     "timestamp": 1670186988381,
     "user": {
      "displayName": "Sergio Jimenez",
      "userId": "03709241177248490041"
     },
     "user_tz": 300
    },
    "id": "Br_dJ3Kh5qMT"
   },
   "outputs": [],
   "source": [
    "res = pd.DataFrame(data=arr,index=df_coec['aux_2_curso'],columns=data['aux_2_curso_perfil'])"
   ]
  },
  {
   "cell_type": "code",
   "execution_count": 182,
   "id": "6287c552-fa7f-4d8b-9330-55126dbf7446",
   "metadata": {
    "id": "Hhdak3EY5vCF"
   },
   "outputs": [],
   "source": [
    "arr_dims_cols = ['curso_perfil','curso']\n",
    "arr_datamarts = [path_dm_oc,path_dm_ci]\n",
    "arr_files = ['dim_curso_perfil.csv','dim_curso_ci.csv']\n",
    "arr_df_final_dims = []\n",
    "for i in range(len(arr_dims_curso_perfil)):\n",
    "  df_dim = arr_dims_curso_perfil[i]\n",
    "  df_dim['curso_modalidad'] = df_dim[arr_dims_cols[i]].str.cat(df_dim['modalidad'],sep=' | ')\n",
    "  arr_curso_fuente = []\n",
    "  for j in range(arr_dims_curso_perfil[i].shape[0]):\n",
    "      query = df_dim['curso_modalidad'].iloc[j]\n",
    "      val = res[res[query]==res[query].max()][query].index.values[0]\n",
    "      arr_curso_fuente.append(df_coec[df_coec['aux_2_curso']==val][['curso','precio_por_hora']].values[0])\n",
    "  df_curso_fuente_precio = pd.DataFrame(data=arr_curso_fuente,columns=['curso_fuente','precio_por_hora'])\n",
    "  df_res_corr = pd.DataFrame(data=[df_dim[arr_dims_cols[i]].values,df_dim['modalidad'].values,df_curso_fuente_precio['curso_fuente'].values,df_curso_fuente_precio['precio_por_hora'].values])\n",
    "  df_res_corr = df_res_corr.transpose()\n",
    "  df_res_corr = df_res_corr.rename(columns={0:arr_dims_cols[i],1:'modalidad',2:'curso_fuente',3:'precio_por_hora'})\n",
    "  df_dim = pd.read_csv(os.path.join(arr_datamarts[i],arr_files[i]))\n",
    "  df_dim= pd.merge(df_dim,df_res_corr,left_on=[arr_dims_cols[i],'modalidad'],right_on=[arr_dims_cols[i],'modalidad'],how='left')\n",
    "  df_dim['costo'] = df_dim['carga_horaria']*df_dim['precio_por_hora']\n",
    "  df_dim = df_dim.drop(['curso_fuente','precio_por_hora'], axis=1)\n",
    "  df_dim = df_dim.drop_duplicates()\n",
    "  df_dim.to_csv(os.path.join(arr_datamarts[i],arr_files[i]),index=False)\n",
    "  arr_df_final_dims.append(df_dim)\n"
   ]
  },
  {
   "cell_type": "markdown",
   "id": "026276e4-451b-4bfa-995f-4df44a1eeaba",
   "metadata": {},
   "source": [
    "## Agregar Total precio"
   ]
  },
  {
   "cell_type": "code",
   "execution_count": 193,
   "id": "d1e2f1ee-877b-4eaf-a2a1-5e98ba929836",
   "metadata": {},
   "outputs": [],
   "source": [
    "df_dim_curso_perfil = pd.read_csv(os.path.join(path_dm_oc,'dim_curso_perfil.csv'))\n",
    "df_fact_oc = pd.read_csv(os.path.join(path_dm_oc,'fact_oc.csv'))\n",
    "df_fact_oc_mod = pd.merge(df_fact_oc,df_dim_curso_perfil,on='id_curso_perfil',how='inner')\n",
    "df_fact_oc_mod['costo'] = df_fact_oc_mod.apply(lambda x: get_perfil_price(x['tipo'],x['costo']), axis=1)\n",
    "df_fact_oc_mod['total_ganancias'] = df_fact_oc_mod['num_cap_cer']*df_fact_oc_mod['costo']\n",
    "df_fact_oc_mod['carga_horaria'] = df_fact_oc_mod.apply(lambda x: get_perfil_hours(x['tipo'],x['carga_horaria']), axis=1)\n",
    "df_fact_oc_mod['total_horas'] = df_fact_oc_mod['num_cap_cer']*df_fact_oc_mod['carga_horaria']\n",
    "df_fact_oc_mod.fillna({'total_ganancias':0},inplace=True)\n",
    "df_fact_oc_mod_res = df_fact_oc_mod[['id_razon_social','id_curso_perfil','id_fecha','num_cap_cer','total_cursos','volumen_capacitados','total_horas','total_ganancias']]"
   ]
  },
  {
   "cell_type": "code",
   "execution_count": 194,
   "id": "6488ec14-a12a-446c-a86a-010bd81177bb",
   "metadata": {},
   "outputs": [],
   "source": [
    "df_dim_curso = pd.read_csv(os.path.join(path_dm_ci,'dim_curso_ci.csv'))\n",
    "df_fact_ci = pd.read_csv(os.path.join(path_dm_ci,'fact_ci.csv'))\n",
    "df_fact_ci_mod = pd.merge(df_fact_ci,df_dim_curso,on='id_curso',how='inner')\n",
    "df_fact_ci_mod['total_ganancias'] = df_fact_ci_mod['num_cap']*df_fact_ci_mod['costo']\n",
    "df_fact_ci_mod.fillna({'total_ganancias':0},inplace=True)\n",
    "df_fact_ci_mod_res = df_fact_ci_mod[['id_razon_social','id_curso','id_fecha','num_cap','total_cursos','volumen_capacitados','total_horas','total_ganancias']]\n"
   ]
  },
  {
   "cell_type": "code",
   "execution_count": 197,
   "id": "70d5cafa-3663-4eb9-837d-625d30093375",
   "metadata": {},
   "outputs": [],
   "source": [
    "#df_fact_ci_mod_res.info()"
   ]
  },
  {
   "cell_type": "code",
   "execution_count": 198,
   "id": "0484e5e7-d9ba-4d2d-9805-83baffca530a",
   "metadata": {},
   "outputs": [],
   "source": [
    "df_fact_oc_mod_res.to_csv(os.path.join(path_dm_oc,'fact_oc.csv'),index=False)\n",
    "df_fact_ci_mod_res.to_csv(os.path.join(path_dm_ci,'fact_ci.csv'),index=False)"
   ]
  },
  {
   "cell_type": "code",
   "execution_count": 199,
   "id": "b806131b-c22c-45ef-a949-3611cb6b154a",
   "metadata": {},
   "outputs": [],
   "source": [
    "df_razon_social = df_razon_social.drop('fecha_resolucion',axis=1)"
   ]
  },
  {
   "cell_type": "markdown",
   "id": "360faffc-7369-4f32-a4a7-71bcf8b73be6",
   "metadata": {},
   "source": [
    "## % de Asistencia"
   ]
  },
  {
   "cell_type": "markdown",
   "id": "a05e86d1-64df-46e0-b0e6-f374609a634b",
   "metadata": {},
   "source": [
    "### OC"
   ]
  },
  {
   "cell_type": "code",
   "execution_count": 201,
   "id": "84b83ed6-ae87-408e-81bc-6f34401d764e",
   "metadata": {},
   "outputs": [],
   "source": [
    "df_fact_oc = pd.read_csv(os.path.join(path_dm_oc,'fact_oc.csv'))\n",
    "df_fact_oc['id_razon_social'] = df_fact_oc['id_razon_social'].astype('str')\n",
    "df_oc_num_conv= pd.read_csv(os.path.join(os.getcwd(),'pcoc_num_conv.csv'))[['razon_social', 'numero_convocados']]\n",
    "df_fact_oc = pd.merge(df_fact_oc,df_razon_social[['id_razon_social','razon_social']],on='id_razon_social',how='left')\n",
    "df_fact_oc = pd.merge(df_fact_oc,df_oc_num_conv,on='razon_social',how='left')\n",
    "df_fact_oc['%_asistencia'] = (df_fact_oc['num_cap_cer']/df_fact_oc['numero_convocados'])*100\n",
    "df_fact_oc = df_fact_oc.drop(['razon_social', 'numero_convocados'],axis=1)\n",
    "df_fact_oc.fillna({'%_asistencia':0},inplace=True)\n",
    "df_fact_oc.to_csv(os.path.join(path_dm_oc,'fact_oc.csv'),index=False)"
   ]
  },
  {
   "cell_type": "markdown",
   "id": "2c684023-cdc3-4e19-af2f-eaabbf71352a",
   "metadata": {},
   "source": [
    "### OEC"
   ]
  },
  {
   "cell_type": "code",
   "execution_count": 202,
   "id": "46c37055-03c2-4fcb-9ef5-5db858a8b4da",
   "metadata": {},
   "outputs": [],
   "source": [
    "df_fact_oec = pd.read_csv(os.path.join(path_dm_oec,'fact_oec.csv'))\n",
    "df_fact_oec['id_razon_social'] = df_fact_oec['id_razon_social'].astype('str')\n",
    "df_oec_num_conv= pd.read_csv(os.path.join(os.getcwd(),'pcoec_num_conv.csv'),encoding = \"ISO-8859-1\")[['razon_social', 'numero_convocados']]\n",
    "df_fact_oec = pd.merge(df_fact_oec,df_razon_social[['id_razon_social','razon_social']],on='id_razon_social',how='left')\n",
    "df_fact_oec = pd.merge(df_fact_oec,df_oec_num_conv,on='razon_social',how='left')\n",
    "df_fact_oec['%_asistencia'] = (df_fact_oec['num_cer']/df_fact_oec['numero_convocados'])*100\n",
    "df_fact_oec = df_fact_oec.drop(['razon_social', 'numero_convocados'],axis=1)\n",
    "df_fact_oec.fillna({'%_asistencia':0},inplace=True)\n",
    "df_fact_oec.to_csv(os.path.join(path_dm_oec,'fact_oec.csv'),index=False)"
   ]
  },
  {
   "cell_type": "markdown",
   "id": "b291c5fd-4a10-4795-a775-50e1cae3a556",
   "metadata": {
    "jp-MarkdownHeadingCollapsed": true,
    "tags": []
   },
   "source": [
    "# CARGA DE DATOS"
   ]
  },
  {
   "cell_type": "markdown",
   "id": "d8c45fe5-12e2-408f-8d7d-fa5ec797cc04",
   "metadata": {
    "tags": []
   },
   "source": [
    "# Conexión con MySQL"
   ]
  },
  {
   "cell_type": "code",
   "execution_count": 203,
   "id": "9d5a1cc0-e277-4aed-9bd1-e849b127131a",
   "metadata": {},
   "outputs": [],
   "source": [
    "mydb = mysql.connector.connect(\n",
    "    host='localhost',\n",
    "    user='root',\n",
    "    passwd='KappaTao1233'\n",
    ")\n",
    "\n",
    "mycursor = mydb.cursor()"
   ]
  },
  {
   "cell_type": "markdown",
   "id": "8261323d-3b3d-445d-ab11-ac2f40c81d5b",
   "metadata": {},
   "source": [
    "# Creación de la base de datos"
   ]
  },
  {
   "cell_type": "code",
   "execution_count": 204,
   "id": "b525bd27-c11b-45fd-afd4-30fb22d22273",
   "metadata": {},
   "outputs": [],
   "source": [
    "mycursor.execute(\"DROP DATABASE IF EXISTS dwh_setec\")\n",
    "mycursor.execute(\"CREATE DATABASE dwh_setec\")"
   ]
  },
  {
   "cell_type": "code",
   "execution_count": 205,
   "id": "f0f97143-5eac-4b75-8b46-e0f5cd4b96cb",
   "metadata": {},
   "outputs": [],
   "source": [
    "mycursor.execute(\"USE dwh_setec\")"
   ]
  },
  {
   "cell_type": "markdown",
   "id": "3877767c-0ae7-43e2-aed3-7531d147671f",
   "metadata": {},
   "source": [
    "# DIMENSIÓN RAZÓN SOCIAL"
   ]
  },
  {
   "cell_type": "code",
   "execution_count": 206,
   "id": "939fedd8-0896-44dd-b514-9e9c7d879da8",
   "metadata": {},
   "outputs": [],
   "source": [
    "#os.listdir(path_dwh)"
   ]
  },
  {
   "cell_type": "code",
   "execution_count": 207,
   "id": "4b6093fb-84ce-4562-af52-5ab9b89cc25d",
   "metadata": {},
   "outputs": [
    {
     "name": "stdout",
     "output_type": "stream",
     "text": [
      "<class 'pandas.core.frame.DataFrame'>\n",
      "RangeIndex: 2257 entries, 0 to 2256\n",
      "Data columns (total 6 columns):\n",
      " #   Column             Non-Null Count  Dtype \n",
      "---  ------             --------------  ----- \n",
      " 0   id_razon_social    2257 non-null   object\n",
      " 1   razon_social       2257 non-null   object\n",
      " 2   estado             2257 non-null   object\n",
      " 3   tipo_razon_social  2257 non-null   object\n",
      " 4   canton             2257 non-null   object\n",
      " 5   provincia          2257 non-null   object\n",
      "dtypes: object(6)\n",
      "memory usage: 105.9+ KB\n"
     ]
    }
   ],
   "source": [
    "df_razon_social.info()"
   ]
  },
  {
   "cell_type": "code",
   "execution_count": 208,
   "id": "ff072ecc-2177-47d6-947a-d3380057ff7b",
   "metadata": {},
   "outputs": [
    {
     "name": "stderr",
     "output_type": "stream",
     "text": [
      "100%|██████████████████████████████████████████████████████████████████████████████| 2257/2257 [04:27<00:00,  8.44it/s]\n"
     ]
    }
   ],
   "source": [
    "mycursor.execute(\"DROP TABLE IF EXISTS dim_razon_social\")\n",
    "mycursor.execute('''CREATE TABLE dim_razon_social (\n",
    "id_razon_social VARCHAR(8) PRIMARY KEY,\n",
    "razon_social VARCHAR(255) NOT NULL,\n",
    "tipo_razon_social VARCHAR(255) NOT NULL,\n",
    "estado VARCHAR(63) NOT NULL,\n",
    "canton VARCHAR(63) NOT NULL,\n",
    "provincia VARCHAR(63) NOT NULL\n",
    ")''')\n",
    "sql_formula = 'INSERT INTO dim_razon_social ( id_razon_social, razon_social,tipo_razon_social, estado, canton, provincia) VALUES (%s,%s,%s,%s,%s,%s)'\n",
    "for row in tqdm(df_razon_social.values):\n",
    "    mycursor.execute(sql_formula,tuple(row))\n",
    "    mydb.commit()"
   ]
  },
  {
   "cell_type": "markdown",
   "id": "67222a00-cb05-41be-9278-f3a67355eeec",
   "metadata": {},
   "source": [
    "# DATAMART OC"
   ]
  },
  {
   "cell_type": "code",
   "execution_count": 209,
   "id": "6d22f0c6-3b82-4fd3-9bfb-217d7f3d5a3d",
   "metadata": {},
   "outputs": [],
   "source": [
    "#os.listdir(path_dm_oc)"
   ]
  },
  {
   "cell_type": "markdown",
   "id": "b84cc664-78f4-42fb-8c23-e486bd5fe2bd",
   "metadata": {
    "tags": []
   },
   "source": [
    "## Tabla dim_curso_perfil_oc"
   ]
  },
  {
   "cell_type": "code",
   "execution_count": 210,
   "id": "1f73971c-147a-44b5-816d-13d776e7c188",
   "metadata": {},
   "outputs": [],
   "source": [
    "df_cur_per = pd.read_csv(os.path.join(path_dm_oc,'dim_curso_perfil.csv'))\n",
    "df_cur_per['id_curso_perfil'] = df_cur_per['id_curso_perfil'].astype(str)\n",
    "df_cur_per = df_cur_per.fillna({'costo':0})"
   ]
  },
  {
   "cell_type": "code",
   "execution_count": 211,
   "id": "4e95a6a3-cebe-4eb2-be25-5c51cbd6fd8e",
   "metadata": {},
   "outputs": [
    {
     "name": "stderr",
     "output_type": "stream",
     "text": [
      "100%|██████████████████████████████████████████████████████████████████████████████| 5103/5103 [21:48<00:00,  3.90it/s]\n"
     ]
    }
   ],
   "source": [
    "mycursor.execute(\"DROP TABLE IF EXISTS dim_curso_perfil_oc\")\n",
    "mycursor.execute('''CREATE TABLE dim_curso_perfil_oc (\n",
    "id_curso_perfil VARCHAR(4) PRIMARY KEY,\n",
    "tipo VARCHAR(63) NOT NULL,\n",
    "area_familia VARCHAR(255) NOT NULL,\n",
    "especialidad_sector VARCHAR(255) NOT NULL,\n",
    "curso_perfil VARCHAR(255) NOT NULL,\n",
    "modalidad VARCHAR(255) NOT NULL,\n",
    "carga_horaria FLOAT NOT NULL,\n",
    "costo FLOAT NOT NULL\n",
    ")''')\n",
    "sql_formula = 'INSERT INTO dim_curso_perfil_oc ( id_curso_perfil, tipo, area_familia, especialidad_sector, curso_perfil, modalidad, carga_horaria, costo) VALUES (%s,%s,%s,%s,%s,%s,%s,%s)'\n",
    "for row in tqdm(df_cur_per.values):\n",
    "    mycursor.execute(sql_formula,tuple(row))\n",
    "    mydb.commit()"
   ]
  },
  {
   "cell_type": "markdown",
   "id": "a2eae0f4-b41f-4376-852f-1111bec2711a",
   "metadata": {
    "tags": []
   },
   "source": [
    "## Tabla dim_fecha_oc"
   ]
  },
  {
   "cell_type": "code",
   "execution_count": 212,
   "id": "4d09c5ca-3a85-4f34-bf8d-aa6861a60b9d",
   "metadata": {},
   "outputs": [],
   "source": [
    "df_fecha_oc = pd.read_csv(os.path.join(path_dm_oc,'dim_fecha.csv'))\n",
    "df_fecha_oc['id_fecha'] = df_fecha_oc['id_fecha'].astype(str)\n",
    "df_fecha_oc['anio'] = df_fecha_oc['anio'].astype(str)"
   ]
  },
  {
   "cell_type": "code",
   "execution_count": 213,
   "id": "5f068959-447a-448d-a583-19bc9b13ab43",
   "metadata": {},
   "outputs": [
    {
     "name": "stderr",
     "output_type": "stream",
     "text": [
      "100%|████████████████████████████████████████████████████████████████████████████████████| 8/8 [00:00<00:00, 20.27it/s]\n"
     ]
    }
   ],
   "source": [
    "mycursor.execute(\"DROP TABLE IF EXISTS dim_fecha_oc\")\n",
    "mycursor.execute('''CREATE TABLE dim_fecha_oc (\n",
    "id_fecha VARCHAR(4) PRIMARY KEY,\n",
    "anio VARCHAR(4) NOT NULL\n",
    ")''')\n",
    "sql_formula = 'INSERT INTO dim_fecha_oc ( id_fecha, anio) VALUES (%s,%s)'\n",
    "for row in tqdm(df_fecha_oc.values):\n",
    "    mycursor.execute(sql_formula,tuple(row))\n",
    "    mydb.commit()"
   ]
  },
  {
   "cell_type": "markdown",
   "id": "1d1aac09-0c8e-4027-86cd-d9adc669da2e",
   "metadata": {
    "tags": []
   },
   "source": [
    "## Tabla fact_oc"
   ]
  },
  {
   "cell_type": "code",
   "execution_count": 214,
   "id": "74bd9ac8-f4d7-42dd-807d-df3d1908cf91",
   "metadata": {},
   "outputs": [],
   "source": [
    "df_fact_oc = pd.read_csv(os.path.join(path_dm_oc,'fact_oc.csv'))\n",
    "df_fact_oc['id_razon_social'] = df_fact_oc['id_razon_social'].astype(str)\n",
    "df_fact_oc['id_curso_perfil'] = df_fact_oc['id_curso_perfil'].astype(str)\n",
    "df_fact_oc['id_fecha'] = df_fact_oc['id_fecha'].astype(str)"
   ]
  },
  {
   "cell_type": "code",
   "execution_count": 438,
   "id": "d7f2be9f-ccaa-498d-8ab1-f0908e8323b0",
   "metadata": {},
   "outputs": [],
   "source": [
    "#df_fact_oc.info()"
   ]
  },
  {
   "cell_type": "code",
   "execution_count": 439,
   "id": "2f80b7bc-a2c9-47f4-8361-ecb3df6d0549",
   "metadata": {},
   "outputs": [
    {
     "name": "stderr",
     "output_type": "stream",
     "text": [
      "100%|██████████| 1580/1580 [01:08<00:00, 23.02it/s]\n"
     ]
    }
   ],
   "source": [
    "mycursor.execute(\"DROP TABLE IF EXISTS fact_oc\")\n",
    "mycursor.execute('''CREATE TABLE fact_oc (\n",
    "id_razon_social VARCHAR(4) NOT NULL,\n",
    "id_curso_perfil VARCHAR(4) NOT NULL,\n",
    "id_fecha VARCHAR(4) NOT NULL,\n",
    "num_cap_cer INT NOT NULL,\n",
    "total_cursos INT NOT NULL,\n",
    "volumen_capacitados INT NOT NULL,\n",
    "total_horas INT NOT NULL,\n",
    "total_ganancias FLOAT NOT NULL\n",
    ")''')\n",
    "sql_formula = '''INSERT INTO fact_oc (id_razon_social, id_curso_perfil, id_fecha, num_cap_cer, total_cursos, volumen_capacitados, total_horas, total_ganancias) \n",
    "VALUES (%s,%s,%s,%s,%s,%s,%s,%s)'''\n",
    "for row in tqdm(df_fact_oc.values):\n",
    "    mycursor.execute(sql_formula,tuple(row))\n",
    "    mydb.commit()"
   ]
  },
  {
   "cell_type": "markdown",
   "id": "f46a16b2-bf4c-45ed-a471-db29fd4a23e5",
   "metadata": {},
   "source": [
    "## CREAR CLAVES FORANEAS OC"
   ]
  },
  {
   "cell_type": "code",
   "execution_count": 440,
   "id": "fe61faf8-45db-48f6-91e0-d50c22deeec0",
   "metadata": {},
   "outputs": [],
   "source": [
    "mycursor.execute(''' \n",
    "ALTER TABLE fact_oc\n",
    "ADD FOREIGN KEY (id_fecha) REFERENCES dim_fecha_oc(id_fecha)\n",
    "''')\n",
    "mycursor.execute(''' \n",
    "ALTER TABLE fact_oc\n",
    "ADD FOREIGN KEY (id_razon_social) REFERENCES dim_razon_social(id_razon_social)\n",
    "''')\n",
    "mycursor.execute(''' \n",
    "ALTER TABLE fact_oc\n",
    "ADD FOREIGN KEY (id_curso_perfil) REFERENCES dim_curso_perfil_oc(id_curso_perfil)\n",
    "''')\n"
   ]
  },
  {
   "cell_type": "markdown",
   "id": "55c856a1-c765-41a4-aca1-b5bdb0ee4037",
   "metadata": {},
   "source": [
    "# DATAMART OEC"
   ]
  },
  {
   "cell_type": "code",
   "execution_count": 441,
   "id": "ad952455-3787-4c2b-9396-535d4946af68",
   "metadata": {},
   "outputs": [],
   "source": [
    "#os.listdir(path_dm_oec)"
   ]
  },
  {
   "cell_type": "code",
   "execution_count": 442,
   "id": "4f898279-af32-45ca-bb67-8c2a9032b356",
   "metadata": {},
   "outputs": [
    {
     "ename": "NameError",
     "evalue": "name 'path_dmoec' is not defined",
     "output_type": "error",
     "traceback": [
      "\u001b[1;31m---------------------------------------------------------------------------\u001b[0m",
      "\u001b[1;31mNameError\u001b[0m                                 Traceback (most recent call last)",
      "Input \u001b[1;32mIn [442]\u001b[0m, in \u001b[0;36m<cell line: 1>\u001b[1;34m()\u001b[0m\n\u001b[1;32m----> 1\u001b[0m df_oec \u001b[38;5;241m=\u001b[39m pd\u001b[38;5;241m.\u001b[39mread_csv(os\u001b[38;5;241m.\u001b[39mpath\u001b[38;5;241m.\u001b[39mjoin(\u001b[43mpath_dmoec\u001b[49m,\u001b[38;5;124m'\u001b[39m\u001b[38;5;124mdim_razon_social_oec.csv\u001b[39m\u001b[38;5;124m'\u001b[39m))\n\u001b[0;32m      2\u001b[0m df_oec[\u001b[38;5;124m'\u001b[39m\u001b[38;5;124mid_oec\u001b[39m\u001b[38;5;124m'\u001b[39m] \u001b[38;5;241m=\u001b[39m df_oec[\u001b[38;5;124m'\u001b[39m\u001b[38;5;124mid_oec\u001b[39m\u001b[38;5;124m'\u001b[39m]\u001b[38;5;241m.\u001b[39mastype(\u001b[38;5;28mstr\u001b[39m)\n",
      "\u001b[1;31mNameError\u001b[0m: name 'path_dmoec' is not defined"
     ]
    }
   ],
   "source": [
    "df_oec = pd.read_csv(os.path.join(path_dm_oec,'dim_razon_social_oec.csv'))\n",
    "df_oec['id_oec'] = df_oec['id_oec'].astype(str)"
   ]
  },
  {
   "cell_type": "code",
   "execution_count": null,
   "id": "3554417f-213d-4a73-8606-02fc122c9c86",
   "metadata": {},
   "outputs": [],
   "source": [
    "mycursor.execute(\"DROP TABLE IF EXISTS dim_razon_social_oec\")\n",
    "mycursor.execute('''CREATE TABLE dim_razon_social_oec (\n",
    "id_oec VARCHAR(4) PRIMARY KEY,\n",
    "razon_social VARCHAR(255) NOT NULL,\n",
    "estado VARCHAR(63) NOT NULL,\n",
    "canton VARCHAR(63) NOT NULL,\n",
    "provincia VARCHAR(63) NOT NULL\n",
    ")''')\n",
    "sql_formula = 'INSERT INTO dim_razon_social_oec ( id_oec, razon_social, estado, canton, provincia) VALUES (%s,%s,%s,%s,%s)'\n",
    "for row in tqdm(df_oec.values):\n",
    "    mycursor.execute(sql_formula,tuple(row))\n",
    "    mydb.commit()"
   ]
  },
  {
   "cell_type": "markdown",
   "id": "4a9c220b-7689-4352-ae94-e3e626d08295",
   "metadata": {
    "tags": []
   },
   "source": [
    "## Tabla dim_perfil"
   ]
  },
  {
   "cell_type": "code",
   "execution_count": null,
   "id": "021fe845-d411-4d0d-8063-0613a842820c",
   "metadata": {},
   "outputs": [],
   "source": [
    "df_perfil = pd.read_csv(os.path.join(path_dm_oec,'dim_perfil.csv'))\n",
    "df_perfil['id_perfil'] = df_perfil['id_perfil'].astype(str)"
   ]
  },
  {
   "cell_type": "code",
   "execution_count": null,
   "id": "96983821-c9ac-4833-8491-bf41173e8d4d",
   "metadata": {},
   "outputs": [],
   "source": [
    "mycursor.execute(\"DROP TABLE IF EXISTS dim_perfil_oec\")\n",
    "mycursor.execute('''CREATE TABLE dim_perfil_oec (\n",
    "id_perfil VARCHAR(4) PRIMARY KEY,\n",
    "familia VARCHAR(255) NOT NULL,\n",
    "sector VARCHAR(255) NOT NULL,\n",
    "perfil VARCHAR(255) NOT NULL,\n",
    "modalidad VARCHAR(63) NOT NULL,\n",
    "carga_horaria INT NOT NULL,\n",
    "costo FLOAT NOT NULL\n",
    ")''')\n",
    "sql_formula = 'INSERT INTO dim_perfil_oec (id_perfil, familia, sector, perfil, modalidad, carga_horaria, costo) VALUES (%s,%s,%s,%s,%s,%s,%s)'\n",
    "for row in tqdm(df_perfil.values):\n",
    "    mycursor.execute(sql_formula,tuple(row))\n",
    "    mydb.commit()"
   ]
  },
  {
   "cell_type": "markdown",
   "id": "aa61239a-ba29-4f8e-9b01-78b9138db1ca",
   "metadata": {
    "tags": []
   },
   "source": [
    "## Tabla dim_fecha_oec"
   ]
  },
  {
   "cell_type": "code",
   "execution_count": null,
   "id": "d817f4e0-f6a1-4511-88b6-11134514582e",
   "metadata": {},
   "outputs": [],
   "source": []
  },
  {
   "cell_type": "code",
   "execution_count": null,
   "id": "b08c0076-a6fb-4aeb-8a59-8e9ac9f4e70d",
   "metadata": {},
   "outputs": [],
   "source": [
    "df_fecha_oec = pd.read_csv(os.path.join(path_dm_oec,'dim_fecha.csv'))\n",
    "df_fecha_oec['id_fecha'] = df_fecha_oec['id_fecha'].astype(str)"
   ]
  },
  {
   "cell_type": "code",
   "execution_count": null,
   "id": "d92f900a-9506-47c1-b04d-f4135a8cc5b0",
   "metadata": {
    "tags": []
   },
   "outputs": [],
   "source": [
    "mycursor.execute(\"DROP TABLE IF EXISTS dim_fecha_oec\")\n",
    "mycursor.execute('''CREATE TABLE dim_fecha_oec (\n",
    "id_fecha VARCHAR(4) PRIMARY KEY,\n",
    "dia INT NOT NULL,\n",
    "mes INT NOT NULL,\n",
    "anio INT NOT NULL\n",
    ")''')\n",
    "sql_formula = 'INSERT INTO dim_fecha_oec (id_fecha, dia, mes, anio) VALUES (%s,%s,%s,%s)'\n",
    "for row in tqdm(df_fecha_oec.values):\n",
    "    mycursor.execute(sql_formula,tuple(row))\n",
    "    mydb.commit()"
   ]
  },
  {
   "cell_type": "markdown",
   "id": "e9b84dd9-904b-463c-886b-fa6101cf4657",
   "metadata": {
    "tags": []
   },
   "source": [
    "## Tabla fact_oec"
   ]
  },
  {
   "cell_type": "code",
   "execution_count": null,
   "id": "8e5f24be-efd6-436d-970e-67dafe8d77a5",
   "metadata": {},
   "outputs": [],
   "source": [
    "df_fact_oec = pd.read_csv(os.path.join(path_dm_oec,'fact_oec.csv'))\n",
    "df_fact_oec['id_razon_social'] = df_fact_oec['id_razon_social'].astype(str)\n",
    "df_fact_oec['id_perfil'] = df_fact_oec['id_perfil'].astype(str)\n",
    "df_fact_oec['id_fecha'] = df_fact_oec['id_fecha'].astype(str)"
   ]
  },
  {
   "cell_type": "code",
   "execution_count": null,
   "id": "aaca6a23-7a95-47f8-9c1f-16a55b7966e0",
   "metadata": {
    "tags": []
   },
   "outputs": [],
   "source": [
    "mycursor.execute(\"DROP TABLE IF EXISTS fact_oec\")\n",
    "mycursor.execute('''CREATE TABLE fact_oec (\n",
    "id_razon_social VARCHAR(4) NOT NULL,\n",
    "id_perfil VARCHAR(4) NOT NULL,\n",
    "id_fecha VARCHAR(4) NOT NULL,\n",
    "num_cer INT NOT NULL,\n",
    "total_horas INT NOT NULL,\n",
    "total_cursos INT NOT NULL,\n",
    "volumen_capacitados INT NOT NULL,\n",
    "total_ganancias FLOAT NOT NULL\n",
    ")''')\n",
    "sql_formula = 'INSERT INTO fact_oec(id_razon_social, id_perfil, id_fecha, num_cer, total_horas, total_cursos, volumen_capacitados, total_ganancias) VALUES (%s,%s,%s,%s,%s,%s,%s,%s)'\n",
    "for row in tqdm(df_fact_oec.values):\n",
    "    mycursor.execute(sql_formula,tuple(row))\n",
    "    mydb.commit()"
   ]
  },
  {
   "cell_type": "markdown",
   "id": "d603b370-aac2-4585-9f02-b0718b3619e6",
   "metadata": {},
   "source": [
    "## CREAR CLAVES FORANEAS OEC"
   ]
  },
  {
   "cell_type": "code",
   "execution_count": null,
   "id": "c0d43693-6f2c-4683-81c2-f944769e355c",
   "metadata": {},
   "outputs": [],
   "source": [
    "mycursor.execute(''' \n",
    "ALTER TABLE fact_oec\n",
    "ADD FOREIGN KEY (id_fecha) REFERENCES dim_fecha_oec(id_fecha)\n",
    "''')\n",
    "mycursor.execute(''' \n",
    "ALTER TABLE fact_oec\n",
    "ADD FOREIGN KEY (id_razon_social) REFERENCES dim_razon_social(id_razon_social)\n",
    "''')\n",
    "mycursor.execute(''' \n",
    "ALTER TABLE fact_oec\n",
    "ADD FOREIGN KEY (id_perfil) REFERENCES dim_perfil_oec(id_perfil)\n",
    "''')\n"
   ]
  },
  {
   "cell_type": "markdown",
   "id": "1669a082-2be0-4d74-af61-5838a7f4d9c1",
   "metadata": {},
   "source": [
    "# DATAMART CI"
   ]
  },
  {
   "cell_type": "code",
   "execution_count": null,
   "id": "bc5a204f-1b00-4693-a62c-04f3889322a3",
   "metadata": {},
   "outputs": [],
   "source": [
    "#os.listdir(path_dm_ci)"
   ]
  },
  {
   "cell_type": "markdown",
   "id": "998817c5-cf0c-431e-a48d-5dbc640803e0",
   "metadata": {
    "tags": []
   },
   "source": [
    "## Tabla dim_curso"
   ]
  },
  {
   "cell_type": "code",
   "execution_count": null,
   "id": "9a8950f9-4321-4a8b-8408-4f5792a5741c",
   "metadata": {},
   "outputs": [],
   "source": [
    "df_curso = pd.read_csv(os.path.join(path_dm_ci,'dim_curso_ci.csv'))\n",
    "df_curso['id_curso'] = df_curso['id_curso'].astype(str)\n",
    "df_curso = df_curso.fillna({'costo':0})\n",
    "df_curso = df_curso.dropna()"
   ]
  },
  {
   "cell_type": "code",
   "execution_count": null,
   "id": "6e3fc8c5-14ad-44ec-9d2f-637ec43f109d",
   "metadata": {},
   "outputs": [],
   "source": [
    "mycursor.execute(\"DROP TABLE IF EXISTS dim_curso_ci\")\n",
    "mycursor.execute('''CREATE TABLE dim_curso_ci (\n",
    "id_curso VARCHAR(4) PRIMARY KEY,\n",
    "curso VARCHAR(255) NOT NULL,\n",
    "area VARCHAR(255) NOT NULL,\n",
    "especialidad VARCHAR(255) NOT NULL,\n",
    "modalidad VARCHAR(63) NOT NULL,\n",
    "carga_horaria INT NOT NULL,\n",
    "costo FLOAT NOT NULL\n",
    ")''')\n",
    "sql_formula = 'INSERT INTO dim_curso_ci (id_curso, curso, area, especialidad, modalidad, carga_horaria, costo) VALUES (%s,%s,%s,%s,%s,%s,%s)'\n",
    "for row in tqdm(df_curso.values):\n",
    "    mycursor.execute(sql_formula,tuple(row))\n",
    "    mydb.commit()"
   ]
  },
  {
   "cell_type": "markdown",
   "id": "d0953d8d-76bc-49e1-a983-00cde128235c",
   "metadata": {
    "tags": []
   },
   "source": [
    "## Tabla dim_fecha_ci"
   ]
  },
  {
   "cell_type": "code",
   "execution_count": null,
   "id": "ff7542b2-ea95-4bf8-b028-57aa4fe7435e",
   "metadata": {},
   "outputs": [],
   "source": [
    "df_fecha_ci = pd.read_csv(os.path.join(path_dm_ci,'dim_fecha_ci.csv'))\n",
    "df_fecha_ci['id_fecha'] = df_fecha_ci['id_fecha'].astype(str)"
   ]
  },
  {
   "cell_type": "code",
   "execution_count": null,
   "id": "d507510f-7b70-46a5-a06b-716150246df6",
   "metadata": {
    "tags": []
   },
   "outputs": [],
   "source": [
    "mycursor.execute(\"DROP TABLE IF EXISTS dim_fecha_ci\")\n",
    "mycursor.execute('''CREATE TABLE dim_fecha_ci (\n",
    "id_fecha VARCHAR(4) PRIMARY KEY,\n",
    "anio VARCHAR(15) NOT NULL\n",
    ")''')\n",
    "sql_formula = 'INSERT INTO dim_fecha_ci (id_fecha, anio) VALUES (%s,%s)'\n",
    "for row in tqdm(df_fecha_ci.values):\n",
    "    mycursor.execute(sql_formula,tuple(row))\n",
    "    mydb.commit()"
   ]
  },
  {
   "cell_type": "markdown",
   "id": "06ffb964-e9f9-49b5-bd1c-39829f5ae4dc",
   "metadata": {
    "tags": []
   },
   "source": [
    "## Tabla fact_ci"
   ]
  },
  {
   "cell_type": "code",
   "execution_count": null,
   "id": "77a9d7b7-4cc3-4cbd-8592-ad7cdfa86554",
   "metadata": {},
   "outputs": [],
   "source": [
    "df_fact_ci = pd.read_csv(os.path.join(path_dm_ci,'fact_ci.csv'))\n",
    "df_fact_ci['id_razon_social'] = df_fact_ci['id_razon_social'].astype(str)\n",
    "df_fact_ci['id_curso'] = df_fact_ci['id_curso'].astype(str)\n",
    "df_fact_ci['id_fecha'] = df_fact_ci['id_fecha'].astype(str)"
   ]
  },
  {
   "cell_type": "code",
   "execution_count": null,
   "id": "55ad22ed-0fa9-43f1-a2e9-52f89be4b8a5",
   "metadata": {
    "tags": []
   },
   "outputs": [],
   "source": [
    "mycursor.execute(\"DROP TABLE IF EXISTS fact_ci\")\n",
    "mycursor.execute('''CREATE TABLE fact_ci (\n",
    "id_razon_social VARCHAR(4) NOT NULL,\n",
    "id_curso VARCHAR(4) NOT NULL,\n",
    "id_fecha VARCHAR(4) NOT NULL,\n",
    "num_cap INT NOT NULL,\n",
    "total_cursos INT NOT NULL,\n",
    "volumen_capacitados INT NOT NULL,\n",
    "total_horas INT NOT NULL,\n",
    "total_ganancias FLOAT NOT NULL\n",
    ")''')\n",
    "sql_formula = 'INSERT INTO fact_ci(id_razon_social, id_curso, id_fecha, num_cap, total_cursos, volumen_capacitados, total_horas, total_ganancias) VALUES (%s,%s,%s,%s,%s,%s,%s,%s)'\n",
    "for row in tqdm(df_fact_ci.values):\n",
    "    mycursor.execute(sql_formula,tuple(row))\n",
    "    mydb.commit()"
   ]
  },
  {
   "cell_type": "code",
   "execution_count": null,
   "id": "2c66c398-7e17-4635-8acc-e6c86e1800ab",
   "metadata": {},
   "outputs": [],
   "source": [
    "#df_ci.info()\n",
    "# ', '.join(df_fact_ci.columns)"
   ]
  },
  {
   "cell_type": "markdown",
   "id": "e8874f8c-f6bd-4009-9dd3-d857892c0cb3",
   "metadata": {},
   "source": [
    "## CREAR CLAVES FORANEAS CI"
   ]
  },
  {
   "cell_type": "code",
   "execution_count": null,
   "id": "babb980f-7b36-4bdc-991b-5a1fa6551111",
   "metadata": {},
   "outputs": [],
   "source": [
    "mycursor.execute(''' \n",
    "ALTER TABLE fact_ci\n",
    "ADD FOREIGN KEY (id_fecha) REFERENCES dim_fecha_ci(id_fecha)\n",
    "''')"
   ]
  },
  {
   "cell_type": "code",
   "execution_count": null,
   "id": "394b4583-bbec-44f3-9650-e6d24ecb4f75",
   "metadata": {
    "tags": []
   },
   "outputs": [],
   "source": [
    "mycursor.execute(''' \n",
    "ALTER TABLE fact_ci\n",
    "ADD FOREIGN KEY (id_razon_social) REFERENCES dim_razon_social(id_razon_social)\n",
    "''')"
   ]
  },
  {
   "cell_type": "code",
   "execution_count": null,
   "id": "25bf0134-b41d-4520-b459-6e2671c04205",
   "metadata": {
    "tags": []
   },
   "outputs": [],
   "source": [
    "mycursor.execute(''' \n",
    "ALTER TABLE fact_ci\n",
    "ADD FOREIGN KEY (id_curso) REFERENCES dim_curso_ci(id_curso)\n",
    "''')"
   ]
  }
 ],
 "metadata": {
  "kernelspec": {
   "display_name": "Python 3 (ipykernel)",
   "language": "python",
   "name": "python3"
  },
  "language_info": {
   "codemirror_mode": {
    "name": "ipython",
    "version": 3
   },
   "file_extension": ".py",
   "mimetype": "text/x-python",
   "name": "python",
   "nbconvert_exporter": "python",
   "pygments_lexer": "ipython3",
   "version": "3.9.12"
  }
 },
 "nbformat": 4,
 "nbformat_minor": 5
}
