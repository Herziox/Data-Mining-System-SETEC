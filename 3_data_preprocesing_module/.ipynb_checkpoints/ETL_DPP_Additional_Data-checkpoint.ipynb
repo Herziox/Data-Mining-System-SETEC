{
 "cells": [
  {
   "cell_type": "markdown",
   "id": "f1e2b418-4aca-4a4e-a26c-3b205a1378e1",
   "metadata": {
    "tags": []
   },
   "source": [
    "# Importación de librerías"
   ]
  },
  {
   "cell_type": "code",
   "execution_count": 1,
   "id": "05a3b525-b942-4dec-a98d-7c7756026b06",
   "metadata": {},
   "outputs": [],
   "source": [
    "import pandas as pd\n",
    "import numpy as np\n",
    "import os"
   ]
  },
  {
   "cell_type": "markdown",
   "id": "c5a282d1-30b9-4596-a8ea-ba256015a385",
   "metadata": {
    "tags": []
   },
   "source": [
    "# Funciones"
   ]
  },
  {
   "cell_type": "code",
   "execution_count": 2,
   "id": "ef1663d7-75d3-47b5-a1c0-a91c44c43297",
   "metadata": {},
   "outputs": [],
   "source": [
    "def get_hours(x,y):\n",
    "    val = y.replace(' ','')\n",
    "    if val[-1]=='h':\n",
    "        return val[:-1]\n",
    "    elif val.isdigit():\n",
    "        return val\n",
    "    \n",
    "    val = x.replace(' ','')\n",
    "    if val[-1]=='h':\n",
    "        return val[:-1]\n",
    "    elif val.isdigit():\n",
    "        return val\n",
    "    else:\n",
    "        return val"
   ]
  },
  {
   "cell_type": "markdown",
   "id": "96d17574-b516-4ab6-abb1-f25980277b29",
   "metadata": {
    "tags": []
   },
   "source": [
    "# Ruta de archivos"
   ]
  },
  {
   "cell_type": "code",
   "execution_count": 8,
   "id": "43150a18-fd90-4fc6-8204-44394abea52b",
   "metadata": {},
   "outputs": [],
   "source": [
    "path = os.path.abspath(os.path.join(os.getcwd(), '..','2_data_understanding_module','collecting_initial_data','existing_data','DIRTY_DATA'))\n",
    "path_additional_data = os.path.abspath(os.path.join(os.getcwd(), '..','2_data_understanding_module','collecting_initial_data','additional_data'))\n",
    "path_etl = os.path.abspath(os.path.join(os.getcwd(),'CLEANED_DATA'))\n",
    "path_dwh = os.path.abspath(os.path.join(os.getcwd(),'DATAWAREHOUSE'))"
   ]
  },
  {
   "cell_type": "markdown",
   "id": "3c935830-6c7a-4f46-8c9b-bebb7a9cc987",
   "metadata": {
    "tags": []
   },
   "source": [
    "# Costos de cursos"
   ]
  },
  {
   "cell_type": "code",
   "execution_count": 9,
   "id": "e3875518-4d09-49d9-aafa-a390140c22fa",
   "metadata": {},
   "outputs": [],
   "source": [
    "# Selecting Data\n",
    "df_coec = pd.read_csv(os.path.join(path_additional_data,'costo_oferta_educacion_continua.csv'))\n",
    "df_coec = df_coec[['Areas de Formación', 'Nombre  de los Programas','Modalidad', 'Tiempo de duración','Duración programa',' Precio ']]\n",
    "df_coec = df_coec.rename(columns={' Precio ':'Precio'})\n",
    "for col in df_coec.columns:\n",
    "    df_coec[col] = df_coec[col].str.lower()\n",
    "    aux = df_coec[col][0]\n",
    "    for i in range(df_coec.shape[0]):\n",
    "        if pd.isna(df_coec[col][i]):\n",
    "            df_coec[col][i] = aux\n",
    "        else:\n",
    "            aux = df_coec[col][i]\n",
    "            \n"
   ]
  },
  {
   "cell_type": "code",
   "execution_count": 16,
   "id": "6a767790-55df-44c9-b212-f337a5518d64",
   "metadata": {},
   "outputs": [
    {
     "data": {
      "text/html": [
       "<div>\n",
       "<style scoped>\n",
       "    .dataframe tbody tr th:only-of-type {\n",
       "        vertical-align: middle;\n",
       "    }\n",
       "\n",
       "    .dataframe tbody tr th {\n",
       "        vertical-align: top;\n",
       "    }\n",
       "\n",
       "    .dataframe thead th {\n",
       "        text-align: right;\n",
       "    }\n",
       "</style>\n",
       "<table border=\"1\" class=\"dataframe\">\n",
       "  <thead>\n",
       "    <tr style=\"text-align: right;\">\n",
       "      <th></th>\n",
       "      <th>Areas de Formación</th>\n",
       "      <th>Nombre  de los Programas</th>\n",
       "      <th>Modalidad</th>\n",
       "      <th>Tiempo de duración</th>\n",
       "      <th>Duración programa</th>\n",
       "      <th>Precio</th>\n",
       "    </tr>\n",
       "  </thead>\n",
       "  <tbody>\n",
       "    <tr>\n",
       "      <th>104</th>\n",
       "      <td>tics</td>\n",
       "      <td>diplomado en experto en diseño de publicacione...</td>\n",
       "      <td>online</td>\n",
       "      <td>120 h</td>\n",
       "      <td>120 h</td>\n",
       "      <td>llamar</td>\n",
       "    </tr>\n",
       "    <tr>\n",
       "      <th>105</th>\n",
       "      <td>tics</td>\n",
       "      <td>diplomado en infopedagogía: aplicaciones de la...</td>\n",
       "      <td>online</td>\n",
       "      <td>120 h</td>\n",
       "      <td>120 h</td>\n",
       "      <td>llamar</td>\n",
       "    </tr>\n",
       "    <tr>\n",
       "      <th>106</th>\n",
       "      <td>tics</td>\n",
       "      <td>diplomado de customer experience en entornos d...</td>\n",
       "      <td>online</td>\n",
       "      <td>120 h</td>\n",
       "      <td>120 h</td>\n",
       "      <td>llamar</td>\n",
       "    </tr>\n",
       "    <tr>\n",
       "      <th>118</th>\n",
       "      <td>tics</td>\n",
       "      <td>curso de excel para la correcta toma de decisi...</td>\n",
       "      <td>online</td>\n",
       "      <td>40 h</td>\n",
       "      <td>40 h</td>\n",
       "      <td>llamar</td>\n",
       "    </tr>\n",
       "    <tr>\n",
       "      <th>132</th>\n",
       "      <td>tics</td>\n",
       "      <td>biomecánica del cuerpo humano y neurorrehabili...</td>\n",
       "      <td>online</td>\n",
       "      <td>martes y jueves de 18h00 a 20h00</td>\n",
       "      <td>30</td>\n",
       "      <td>$290.00</td>\n",
       "    </tr>\n",
       "    <tr>\n",
       "      <th>133</th>\n",
       "      <td>tics</td>\n",
       "      <td>narrativa digital: storytelling, copywriting y...</td>\n",
       "      <td>online</td>\n",
       "      <td>lunes y miércoles de 18h00 a 20h00.</td>\n",
       "      <td>30</td>\n",
       "      <td>$290.00</td>\n",
       "    </tr>\n",
       "    <tr>\n",
       "      <th>134</th>\n",
       "      <td>tics</td>\n",
       "      <td>el abc de ilustrador y photoshop</td>\n",
       "      <td>online</td>\n",
       "      <td>disponible 24 h</td>\n",
       "      <td>24</td>\n",
       "      <td>$290.00</td>\n",
       "    </tr>\n",
       "    <tr>\n",
       "      <th>135</th>\n",
       "      <td>tics</td>\n",
       "      <td>qlik sense - business analyst</td>\n",
       "      <td>online</td>\n",
       "      <td>viernes 25 de enero: 15h00 a 19h00</td>\n",
       "      <td>24</td>\n",
       "      <td>$380.00</td>\n",
       "    </tr>\n",
       "    <tr>\n",
       "      <th>148</th>\n",
       "      <td>tics</td>\n",
       "      <td>desarrollador frontend</td>\n",
       "      <td>presencial</td>\n",
       "      <td>sabado 08:00 a 12:00</td>\n",
       "      <td>4 sabados</td>\n",
       "      <td>llamar</td>\n",
       "    </tr>\n",
       "  </tbody>\n",
       "</table>\n",
       "</div>"
      ],
      "text/plain": [
       "    Areas de Formación                           Nombre  de los Programas  \\\n",
       "104               tics  diplomado en experto en diseño de publicacione...   \n",
       "105               tics  diplomado en infopedagogía: aplicaciones de la...   \n",
       "106               tics  diplomado de customer experience en entornos d...   \n",
       "118               tics  curso de excel para la correcta toma de decisi...   \n",
       "132               tics  biomecánica del cuerpo humano y neurorrehabili...   \n",
       "133               tics  narrativa digital: storytelling, copywriting y...   \n",
       "134               tics                   el abc de ilustrador y photoshop   \n",
       "135               tics                      qlik sense - business analyst   \n",
       "148               tics                             desarrollador frontend   \n",
       "\n",
       "      Modalidad                   Tiempo de duración Duración programa  \\\n",
       "104      online                                120 h             120 h   \n",
       "105      online                                120 h             120 h   \n",
       "106      online                                120 h             120 h   \n",
       "118      online                                 40 h              40 h   \n",
       "132      online     martes y jueves de 18h00 a 20h00                30   \n",
       "133      online  lunes y miércoles de 18h00 a 20h00.                30   \n",
       "134      online                      disponible 24 h                24   \n",
       "135      online   viernes 25 de enero: 15h00 a 19h00                24   \n",
       "148  presencial                 sabado 08:00 a 12:00         4 sabados   \n",
       "\n",
       "        Precio  \n",
       "104    llamar   \n",
       "105    llamar   \n",
       "106    llamar   \n",
       "118    llamar   \n",
       "132   $290.00   \n",
       "133   $290.00   \n",
       "134   $290.00   \n",
       "135   $380.00   \n",
       "148    llamar   "
      ]
     },
     "execution_count": 16,
     "metadata": {},
     "output_type": "execute_result"
    }
   ],
   "source": [
    "df_coec[df_coec['Areas de Formación']=='tics']"
   ]
  },
  {
   "cell_type": "code",
   "execution_count": null,
   "id": "5605e000-5786-4470-b27b-559e3979f914",
   "metadata": {},
   "outputs": [],
   "source": [
    "def set_name_areas(x):\n",
    "    if x in ['administracion','administracion y negocios','negocios y administracion','administración y legislación\\n','empresariales','gestion empresarial','facultad de cienciasadministrativas','faculta de jurisprudencia ,  ciencias']:\n",
    "        return 'administración y legislación'\n",
    "    elif x in ['salud','facultad ciencias ce la salud']:\n",
    "        return 'actividades de salud'\n",
    "    elif x in ['tecnologicos','tecnologia','tecnologia e innovacion','tecnologia e informacion','tics','tecnología de la información y comunicación',' tecnología de la información y comunicación']:\n",
    "        return 'tecnologías de la información y comunicación'\n",
    "    elif x in ['educativos','educacion','facultad de ciencias de la educacion']:\n",
    "        return 'educación y capacitación\n",
    "    elif x in ['mecanica automotriz']:\n",
    "        return 'mecánica automotriz'\n",
    "    elif x in ['social']:\n",
    "        return 'trabajo social'\n",
    "    elif x in ['financiero','finanzas, comercio y ventas']:\n",
    "        return 'servicios financieros'\n",
    "    elif x in ['facultad  de ciencias agropecuarias','agronomo']:\n",
    "        return 'industria agropecuaria'\n",
    "    elif x in ['comunicación']:\n",
    "        return 'comunicación y artes gráficas'\n",
    "    elif x in ['arte']:\n",
    "        return 'artes y artesanía'\n",
    "    "
   ]
  },
  {
   "cell_type": "code",
   "execution_count": null,
   "id": "19767dda-1f9d-4154-ba10-8247f1d1f8fe",
   "metadata": {},
   "outputs": [],
   "source": [
    "                                  146\n",
    "                                   37\n",
    "                                            36\n",
    "                                     34\n",
    "                                       25\n",
    "webinarios                                       25\n",
    "                                        19\n",
    "                              17\n",
    "marketing y turismo                              16\n",
    "                                       14\n",
    "                         12\n",
    "ingenieria y procesos                            12\n",
    "idiomas                                           9\n",
    "                                              9\n",
    "tecnicos                                          8\n",
    "                          7\n",
    "                         7\n",
    "               6\n",
    "              6\n",
    "                         6\n",
    "autoestudio                                       5\n",
    "ingenieria civil                                  5\n",
    "seguridad                                         5\n",
    "desarrollo personal                               4\n",
    "                              4\n",
    "             4\n",
    "docencia                                          4\n",
    "                                      4\n",
    "certificaciones                                   3\n",
    "               3\n",
    "gastronomia                                       3\n",
    "ciencias                                          3\n",
    "formacion docente                                 3\n",
    "derecho                                           3\n",
    "                     3\n",
    "bioseguridad                                      2\n",
    "       1\n",
    "tecnico                                           1\n",
    "                                            1\n",
    "politica                                          1\n",
    "                       1\n",
    "                    1\n",
    "      1\n",
    "                                              1\n",
    "                                    1\n",
    "                                       1\n",
    "marketing                                         1\n",
    "                                          1"
   ]
  },
  {
   "cell_type": "code",
   "execution_count": 7,
   "id": "3284b53f-d429-4b3a-97f0-b92d168f3fda",
   "metadata": {},
   "outputs": [],
   "source": [
    "df_coec.to_csv('costos_cursos_analisis.csv',index=False)"
   ]
  },
  {
   "cell_type": "code",
   "execution_count": 10,
   "id": "f68fbece-295e-4bca-a901-9df7076d6537",
   "metadata": {},
   "outputs": [],
   "source": [
    "df_curso_perfil = pd.read_csv(os.path.join(path_dwh,'dim_curso_perfil.csv'))"
   ]
  },
  {
   "cell_type": "code",
   "execution_count": null,
   "id": "83edb13e-8374-45b8-aabe-99ea52634c90",
   "metadata": {},
   "outputs": [],
   "source": [
    "procesos industriales                                                                       2089\n",
    "administración y legislación                                                                1613\n",
    "educación y capacitación                                                                    1202\n",
    "actividades tipo servicios                                                                   582\n",
    "tecnologías de la información y comunicación                                                 573\n",
    "alimentación gastronomía y turismo                                                           406\n",
    "finanzas comercio y ventas                                                                   382\n",
    "servicios socioculturales y a la comunidad                                                   348\n",
    "turismo y alimentación                                                                       328\n",
    "forestal ecología y medio ambiente                                                           284\n",
    "actividades de enseñanza                                                                     223\n",
    "actividades comunitarias                                                                     201\n",
    "electricidad y electrónica                                                                   196\n",
    "artes y artesanía                                                                            194\n",
    "transporte y logística                                                                       168\n",
    "tecnología: hardware y software (incluye tic)                                                151\n",
    "comercialización y venta de productos                                                        114\n",
    "metalmecánica                                                                                105\n",
    "construcción e infraestructura                                                               103\n",
    "servicios financieros                                                                         86\n",
    "comunicación y artes gráficas                                                                 83\n",
    "construcción                                                                                  69\n",
    "vehículos, automotores, carrocerías y sus partes                                              59\n",
    "actividades de salud                                                                          51\n",
    "mecánica automotriz                                                                           45\n",
    "actividades profesionales, científicas y técnicas                                             43\n",
    "mecánica industrial y minería                                                                 41\n",
    "transformación de alimentos (incluye agroindustria)                                           38\n",
    "otras actividades de servicios                                                                35\n",
    "agronomía                                                                                     35\n",
    "actividades de atención de la salud humana y de asistencia social                             28\n",
    "productos textiles, cuero y calzado                                                           24\n",
    "industrias  manufactureras                                                                    23\n",
    "enseñanza                                                                                     22\n",
    "electricidad, gas y agua                                                                      21\n",
    "transporte, almacenamiento y logística                                                        20\n",
    "transporte y almacenamiento                                                                   13\n",
    "industrias manufactureras                                                                     12\n",
    "agricultura y plantaciones                                                                    11\n",
    "actividades de servicios administrativos y de apoyo                                           11\n",
    "producción pecuaria                                                                           10\n",
    "información y comunicación                                                                    10\n",
    "productos industriales, farmacéuticos y químicos                                              10\n",
    "comercio al por mayor y al por menor; reparación de vehículos automotores y motocicletas      10\n",
    "industria agropecuaria                                                                         8\n",
    "administración pública y defensa; planes de seguridad social de afiliación obligatoria.        8\n",
    "actividades de alojamiento y de servicio de comidas                                            5\n",
    "suministro de electricidad, gas, vapor y aire acondicionado                                    5\n",
    "zootecnica                                                                                     4\n",
    "especies acuáticas y pesca                                                                     3\n",
    "distribución de agua; alcantarillado, gestión de desechos y actividades de saneamiento         2\n",
    "pesca, acuacultura y maricultura                                                               2\n",
    "artesanías                                                                                     2\n",
    "artes, entretenimiento y recreación                                                            2\n",
    "agricultura, ganadería, silvicultura y pesca                                                   2\n",
    "actividades inmobiliarias                                                                      1\n",
    "explotación de minas y canteras                                                                1"
   ]
  },
  {
   "cell_type": "code",
   "execution_count": null,
   "id": "d67c7f85-e182-4294-a04b-4d5ed5c1ffdf",
   "metadata": {},
   "outputs": [],
   "source": [
    "df_coec = df_coec[(df_coec['Areas de Formación'].str.contains('tecnol|tics', regex=True))]\n",
    "df_coec = df_coec[(df_coec['Precio'].str.contains('^(?:(?!llamar).)+$', regex=True))]"
   ]
  },
  {
   "cell_type": "code",
   "execution_count": 24,
   "id": "ddd09040-1093-4abe-8c12-ef4b8197eacc",
   "metadata": {},
   "outputs": [],
   "source": [
    "df_coec['carga_horaria'] = df_coec.apply(lambda x: get_hours(x['Tiempo de duración'], x['Duración programa']), axis=1)\n",
    "\n",
    "# CAMBIO MANUAL DE DATOS\n",
    "df_coec['carga_horaria'].iloc[-1] = 40"
   ]
  },
  {
   "cell_type": "code",
   "execution_count": 25,
   "id": "0c505ab0-2303-41b5-b52e-ea6cfdb35acb",
   "metadata": {},
   "outputs": [],
   "source": [
    "df_coec = df_coec.drop(['Areas de Formación','Tiempo de duración','Duración programa'],axis=1)"
   ]
  },
  {
   "cell_type": "code",
   "execution_count": 26,
   "id": "c25f468f-86ba-4bcc-aedf-419c2f2ab164",
   "metadata": {},
   "outputs": [],
   "source": [
    "df_coec['Precio'] = df_coec['Precio'].str.replace('$','',regex=True)\n",
    "df_coec['Precio'] = df_coec['Precio'].str.replace(',','',regex=True)\n",
    "df_coec['Precio'] = df_coec['Precio'].str.replace(' ','',regex=True)\n",
    "df_coec['Precio'] = df_coec['Precio'].astype('float64')"
   ]
  },
  {
   "cell_type": "code",
   "execution_count": 27,
   "id": "3989dc8e-1a64-4cf0-997c-447150bf20f9",
   "metadata": {},
   "outputs": [],
   "source": [
    "df_coec['carga_horaria'] = df_coec['carga_horaria'].astype('int32')\n",
    "df_coec['precio'] = df_coec.pop('Precio')"
   ]
  },
  {
   "cell_type": "code",
   "execution_count": 28,
   "id": "c8025aa9-210c-4004-9c89-1026458637a2",
   "metadata": {},
   "outputs": [],
   "source": [
    "df_coec['precio_por_hora'] = df_coec.apply(lambda x: np.round(x['precio']/x['carga_horaria'],decimals = 2), axis=1)"
   ]
  },
  {
   "cell_type": "code",
   "execution_count": 29,
   "id": "6f055970-2040-4b93-9ab9-b2e62a78cd33",
   "metadata": {},
   "outputs": [],
   "source": [
    "df_coec['Modalidad'] = df_coec['Modalidad'].replace({'en vivo':'online','virtual':'online'})"
   ]
  },
  {
   "cell_type": "code",
   "execution_count": 30,
   "id": "80aa1853-a4f0-4a0f-b6e8-e1dad63e3c8e",
   "metadata": {},
   "outputs": [],
   "source": [
    "df_coec = df_coec.rename(columns={'Nombre  de los Programas':'curso','Modalidad':'modalidad'})"
   ]
  },
  {
   "cell_type": "code",
   "execution_count": 32,
   "id": "9509d998-07c4-40fe-adf8-7ead4508c088",
   "metadata": {},
   "outputs": [],
   "source": [
    "df_coec.to_csv(os.path.join(path_additional_data,'costos_cursos_educacion_continua_tec.csv'),index=False)"
   ]
  },
  {
   "cell_type": "markdown",
   "id": "a0f9ce21-64fa-46c0-8080-0dafc7dc0fc5",
   "metadata": {},
   "source": [
    "Trabajar manualmente los nombres de costos_cursos_educacion_continua_tec.csv"
   ]
  },
  {
   "cell_type": "code",
   "execution_count": 33,
   "id": "3ea8924f-fa50-4185-99c3-c1cb25841927",
   "metadata": {},
   "outputs": [],
   "source": [
    "df_coec = pd.read_csv(os.path.join(path_additional_data,'costos_cursos_educacion_continua_tec_opt.csv'))\n"
   ]
  },
  {
   "cell_type": "code",
   "execution_count": 34,
   "id": "644ad88b-bad8-419f-86cb-cf44ca2f5cd6",
   "metadata": {},
   "outputs": [],
   "source": [
    "df_ccce = pd.read_csv(os.path.join(path_additional_data,'costos_de_cursos_cec_epn.csv'))\n",
    "df_ccce = df_ccce.apply(lambda x: x.astype(str).str.lower())"
   ]
  },
  {
   "cell_type": "code",
   "execution_count": 37,
   "id": "1f6d1393-7167-4c2a-aa5b-14502d31fe64",
   "metadata": {},
   "outputs": [],
   "source": [
    "df_costos_cursos = pd.concat([df_coec,df_ccce],axis=0)"
   ]
  },
  {
   "cell_type": "code",
   "execution_count": 38,
   "id": "04614ce5-77bf-4364-9305-243504e8ede7",
   "metadata": {},
   "outputs": [],
   "source": [
    "df_costos_cursos['carga_horaria']=df_costos_cursos['carga_horaria'].astype('int64')\n",
    "df_costos_cursos['precio']=df_costos_cursos['precio'].astype('float64')\n",
    "df_costos_cursos['precio_por_hora']=df_costos_cursos['precio_por_hora'].astype('float64')"
   ]
  },
  {
   "cell_type": "code",
   "execution_count": 42,
   "id": "dcfbfeac-a10c-45d8-81b2-9df00f6ae725",
   "metadata": {},
   "outputs": [],
   "source": [
    "#df_costos_cursos.head()\n",
    "#df_costos_cursos.info()"
   ]
  },
  {
   "cell_type": "code",
   "execution_count": 43,
   "id": "22179df6-c23d-4a06-b822-92f85c6a9861",
   "metadata": {},
   "outputs": [],
   "source": [
    "df_costos_cursos.to_csv(os.path.join(path_etl,'costos_estimados_cursos.csv'),index=False)"
   ]
  },
  {
   "cell_type": "markdown",
   "id": "65f6f3f1-c0cd-412b-8192-556831640b53",
   "metadata": {},
   "source": [
    "# Datos de Ubicación"
   ]
  },
  {
   "cell_type": "code",
   "execution_count": 45,
   "id": "7a1fd821-c20b-42be-a39d-5ed39126fb78",
   "metadata": {},
   "outputs": [],
   "source": [
    "df_ubicacion = pd.read_csv(os.path.join(path_additional_data,'Ubicacion.csv'))\n",
    "df_ubicacion = df_ubicacion.apply(lambda x: x.astype(str).str.lower())\n",
    "df_ubicacion = df_ubicacion.drop_duplicates()"
   ]
  },
  {
   "cell_type": "code",
   "execution_count": 9,
   "id": "86172419-42ae-4e55-bfb2-522b8de73666",
   "metadata": {},
   "outputs": [],
   "source": [
    "#df_ubicacion.head()\n",
    "#df_ubicacion.info()"
   ]
  },
  {
   "cell_type": "code",
   "execution_count": 46,
   "id": "8c4615cc-99b6-4f86-8ba9-ac935f216821",
   "metadata": {},
   "outputs": [],
   "source": [
    "df_ubicacion.to_csv(os.path.join(path_etl,'ubicacion.csv'),index=False)"
   ]
  }
 ],
 "metadata": {
  "kernelspec": {
   "display_name": "Python 3 (ipykernel)",
   "language": "python",
   "name": "python3"
  },
  "language_info": {
   "codemirror_mode": {
    "name": "ipython",
    "version": 3
   },
   "file_extension": ".py",
   "mimetype": "text/x-python",
   "name": "python",
   "nbconvert_exporter": "python",
   "pygments_lexer": "ipython3",
   "version": "3.9.12"
  }
 },
 "nbformat": 4,
 "nbformat_minor": 5
}
