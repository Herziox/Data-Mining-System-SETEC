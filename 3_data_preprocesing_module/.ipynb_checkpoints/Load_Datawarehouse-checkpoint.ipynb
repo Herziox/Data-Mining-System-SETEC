{
 "cells": [
  {
   "cell_type": "code",
   "execution_count": 1,
   "id": "572aa435-075f-40be-86c2-4b974261bf58",
   "metadata": {},
   "outputs": [],
   "source": [
    "import numpy as np\n",
    "import pandas as pd\n",
    "import os\n",
    "import mysql.connector\n",
    "from tqdm import tqdm"
   ]
  },
  {
   "cell_type": "code",
   "execution_count": 2,
   "id": "f19d4886-d554-4ee1-8599-0106d20e5f8e",
   "metadata": {},
   "outputs": [],
   "source": [
    "path_dwh =  os.path.join(os.getcwd(),'DATAWAREHOUSE')\n",
    "path_dmoc = os.path.join(path_dwh,'datamart_oc')\n",
    "path_dmoec = os.path.join(path_dwh,'datamart_oec')\n",
    "path_dmci = os.path.join(path_dwh,'datamart_ci')"
   ]
  },
  {
   "cell_type": "code",
   "execution_count": 11,
   "id": "2aa8e385-239a-4b7a-a681-c8dcda7c4d47",
   "metadata": {},
   "outputs": [
    {
     "data": {
      "text/plain": [
       "['dim_curso_perfil.csv',\n",
       " 'dim_fecha.csv',\n",
       " 'dim_razon_social_oc.csv',\n",
       " 'fact_oc.csv']"
      ]
     },
     "execution_count": 11,
     "metadata": {},
     "output_type": "execute_result"
    }
   ],
   "source": [
    "os.listdir(path_dmoc)"
   ]
  },
  {
   "cell_type": "code",
   "execution_count": 3,
   "id": "531e45b9-80c1-431e-91ab-4aa56d97fb0a",
   "metadata": {},
   "outputs": [],
   "source": [
    "df_oc = pd.read_csv(os.path.join(path_dmoc,'dim_razon_social_oc.csv'))\n",
    "df_oc['id_oc'] = df_oc['id_oc'].astype(str)"
   ]
  },
  {
   "cell_type": "markdown",
   "id": "42a9371c-170f-4ec9-a4bb-7a9fa4592e9c",
   "metadata": {},
   "source": [
    "# Conexión con MySQL"
   ]
  },
  {
   "cell_type": "code",
   "execution_count": 21,
   "id": "a4861ac1-0a4c-4639-8512-a7eacce91767",
   "metadata": {},
   "outputs": [],
   "source": [
    "mydb = mysql.connector.connect(\n",
    "    host='localhost',\n",
    "    user='root',\n",
    "    passwd='KappaTao1233'\n",
    ")\n",
    "\n",
    "mycursor = mydb.cursor()"
   ]
  },
  {
   "cell_type": "markdown",
   "id": "5e512720-fef5-4c30-9976-9bc69872af90",
   "metadata": {},
   "source": [
    "# Creación de la base de datos"
   ]
  },
  {
   "cell_type": "code",
   "execution_count": 22,
   "id": "849e7b54-e722-4ee2-a1a1-47be19d24dd2",
   "metadata": {},
   "outputs": [],
   "source": [
    "mycursor.execute(\"DROP DATABASE IF EXISTS dwh_setec\")\n",
    "mycursor.execute(\"CREATE DATABASE dwh_setec\")\n",
    "mycursor.execute(\"USE dwh_setec\")"
   ]
  },
  {
   "cell_type": "markdown",
   "id": "de7d55c4-9c52-487e-a8b9-541cfed40a25",
   "metadata": {},
   "source": [
    "# DATAMART OC"
   ]
  },
  {
   "cell_type": "markdown",
   "id": "dd8b334d-3da1-4edc-b59f-2812e70b9079",
   "metadata": {
    "tags": []
   },
   "source": [
    "## Tabla dim_razon_social_oc"
   ]
  },
  {
   "cell_type": "code",
   "execution_count": 23,
   "id": "38e7aebf-add4-4484-ac54-0b2d7e52412d",
   "metadata": {},
   "outputs": [
    {
     "name": "stderr",
     "output_type": "stream",
     "text": [
      "100%|██████████| 740/740 [00:33<00:00, 22.41it/s]\n"
     ]
    }
   ],
   "source": [
    "mycursor.execute(\"DROP TABLE IF EXISTS dim_razon_social_oc\")\n",
    "mycursor.execute('''CREATE TABLE dim_razon_social_oc (\n",
    "id_oc VARCHAR(4) PRIMARY KEY,\n",
    "razon_social VARCHAR(255) NOT NULL,\n",
    "estado VARCHAR(63) NOT NULL,\n",
    "canton VARCHAR(63) NOT NULL,\n",
    "provincia VARCHAR(63) NOT NULL\n",
    ")''')\n",
    "sql_formula = 'INSERT INTO dim_razon_social_oc ( id_oc, razon_social, estado, canton, provincia) VALUES (%s,%s,%s,%s,%s)'\n",
    "for row in tqdm(df_oc.values):\n",
    "    mycursor.execute(sql_formula,tuple(row))\n",
    "    mydb.commit()"
   ]
  },
  {
   "cell_type": "markdown",
   "id": "f35d4adb-53f7-49de-917a-872ca5853c75",
   "metadata": {
    "tags": []
   },
   "source": [
    "## Tabla dim_curso_perfil_oc"
   ]
  },
  {
   "cell_type": "code",
   "execution_count": 19,
   "id": "a85d28b8-b805-4217-b4fb-bfd93a5da577",
   "metadata": {},
   "outputs": [],
   "source": [
    "df_cur_per = pd.read_csv(os.path.join(path_dmoc,'dim_curso_perfil.csv'))\n",
    "df_cur_per['id_curso_perfil'] = df_cur_per['id_curso_perfil'].astype(str)\n",
    "df_cur_per = df_cur_per.fillna({'costo':0})"
   ]
  },
  {
   "cell_type": "code",
   "execution_count": 58,
   "id": "1b5cec7c-4f3d-40c7-87f4-288f863ab7f8",
   "metadata": {},
   "outputs": [
    {
     "name": "stderr",
     "output_type": "stream",
     "text": [
      "100%|██████████| 5103/5103 [04:31<00:00, 18.83it/s]\n"
     ]
    }
   ],
   "source": [
    "mycursor.execute(\"DROP TABLE IF EXISTS dim_curso_perfil_oc\")\n",
    "mycursor.execute('''CREATE TABLE dim_curso_perfil_oc (\n",
    "id_curso_perfil VARCHAR(4) PRIMARY KEY,\n",
    "tipo VARCHAR(63) NOT NULL,\n",
    "area_familia VARCHAR(255) NOT NULL,\n",
    "especialidad_sector VARCHAR(255) NOT NULL,\n",
    "curso_perfil VARCHAR(255) NOT NULL,\n",
    "modalidad VARCHAR(255) NOT NULL,\n",
    "carga_horaria FLOAT NOT NULL,\n",
    "costo FLOAT NOT NULL\n",
    ")''')\n",
    "sql_formula = 'INSERT INTO dim_curso_perfil_oc ( id_curso_perfil, tipo, area_familia, especialidad_sector, curso_perfil, modalidad, carga_horaria, costo) VALUES (%s,%s,%s,%s,%s,%s,%s,%s)'\n",
    "for row in tqdm(df_cur_per.values):\n",
    "    mycursor.execute(sql_formula,tuple(row))\n",
    "    mydb.commit()"
   ]
  },
  {
   "cell_type": "markdown",
   "id": "1f389374-a946-4f1f-9124-c193c6bfc205",
   "metadata": {
    "tags": []
   },
   "source": [
    "## Tabla dim_fecha_oc"
   ]
  },
  {
   "cell_type": "code",
   "execution_count": 59,
   "id": "1e936ccf-5081-421c-bdb2-c01be8052ee2",
   "metadata": {},
   "outputs": [],
   "source": [
    "df_fecha_oc = pd.read_csv(os.path.join(path_dmoc,'dim_fecha.csv'))\n",
    "df_fecha_oc['id_fecha'] = df_fecha_oc['id_fecha'].astype(str)\n",
    "df_fecha_oc['anio'] = df_fecha_oc['anio'].astype(str)"
   ]
  },
  {
   "cell_type": "code",
   "execution_count": 45,
   "id": "b21dcc70-1b2e-4509-9275-0dfd8c361f16",
   "metadata": {},
   "outputs": [
    {
     "data": {
      "text/plain": [
       "'id_fecha, anio'"
      ]
     },
     "execution_count": 45,
     "metadata": {},
     "output_type": "execute_result"
    }
   ],
   "source": [
    "', '.join(df_fecha_oc.columns)"
   ]
  },
  {
   "cell_type": "code",
   "execution_count": 60,
   "id": "2de4b986-473a-4a8b-aa0e-69b4078a816b",
   "metadata": {},
   "outputs": [
    {
     "name": "stderr",
     "output_type": "stream",
     "text": [
      "100%|██████████| 8/8 [00:00<00:00, 28.23it/s]\n"
     ]
    }
   ],
   "source": [
    "mycursor.execute(\"DROP TABLE IF EXISTS dim_fecha_oc\")\n",
    "mycursor.execute('''CREATE TABLE dim_fecha_oc (\n",
    "id_fecha VARCHAR(4) PRIMARY KEY,\n",
    "anio VARCHAR(4) NOT NULL\n",
    ")''')\n",
    "sql_formula = 'INSERT INTO dim_fecha_oc ( id_fecha, anio) VALUES (%s,%s)'\n",
    "for row in tqdm(df_fecha_oc.values):\n",
    "    mycursor.execute(sql_formula,tuple(row))\n",
    "    mydb.commit()"
   ]
  },
  {
   "cell_type": "markdown",
   "id": "fd70d05b-ac38-4d51-9f62-6c1e3e0bf1c5",
   "metadata": {
    "tags": []
   },
   "source": [
    "## Tabla fact_oc"
   ]
  },
  {
   "cell_type": "code",
   "execution_count": 61,
   "id": "c522ed72-8f8d-475f-ab6f-dcc4fc949731",
   "metadata": {},
   "outputs": [],
   "source": [
    "df_fact_oc = pd.read_csv(os.path.join(path_dmoc,'fact_oc.csv'))\n",
    "df_fact_oc['id_oc'] = df_fact_oc['id_oc'].astype(str)\n",
    "df_fact_oc['id_curso_perfil'] = df_fact_oc['id_curso_perfil'].astype(str)\n",
    "df_fact_oc['id_fecha'] = df_fact_oc['id_fecha'].astype(str)"
   ]
  },
  {
   "cell_type": "code",
   "execution_count": 57,
   "id": "58d6abe7-5b92-47e1-922b-a5a1d3941c1d",
   "metadata": {},
   "outputs": [
    {
     "name": "stderr",
     "output_type": "stream",
     "text": [
      "100%|██████████| 1580/1580 [01:15<00:00, 21.05it/s]\n"
     ]
    }
   ],
   "source": [
    "mycursor.execute(\"DROP TABLE IF EXISTS fact_oc\")\n",
    "mycursor.execute('''CREATE TABLE fact_oc (\n",
    "id_oc VARCHAR(4) NOT NULL,\n",
    "id_curso_perfil VARCHAR(4) NOT NULL,\n",
    "id_fecha VARCHAR(4) NOT NULL,\n",
    "num_cap_cer INT NOT NULL,\n",
    "total_cursos INT NOT NULL,\n",
    "volumen_capacitados INT NOT NULL,\n",
    "total_horas INT NOT NULL,\n",
    "total_ganancias FLOAT NOT NULL\n",
    ")''')\n",
    "sql_formula = '''INSERT INTO fact_oc (id_oc, id_curso_perfil, id_fecha, num_cap_cer, total_cursos, volumen_capacitados, total_horas, total_ganancias) \n",
    "VALUES (%s,%s,%s,%s,%s,%s,%s,%s)'''\n",
    "for row in tqdm(df_fact_oc.values):\n",
    "    mycursor.execute(sql_formula,tuple(row))\n",
    "    mydb.commit()"
   ]
  },
  {
   "cell_type": "markdown",
   "id": "5fce1da7-7e39-464a-90a8-7c95663e86ce",
   "metadata": {},
   "source": [
    "## CREAR CLAVES FORANEAS"
   ]
  },
  {
   "cell_type": "code",
   "execution_count": 68,
   "id": "845e5fe6-8890-490a-b56e-f8449b787bc5",
   "metadata": {},
   "outputs": [],
   "source": [
    "mycursor.execute(''' \n",
    "ALTER TABLE fact_oc\n",
    "ADD FOREIGN KEY (id_fecha) REFERENCES dim_fecha_oc(id_fecha)\n",
    "''')\n",
    "mycursor.execute(''' \n",
    "ALTER TABLE fact_oc\n",
    "ADD FOREIGN KEY (id_oc) REFERENCES dim_razon_social_oc(id_oc)\n",
    "''')\n",
    "mycursor.execute(''' \n",
    "ALTER TABLE fact_oc\n",
    "ADD FOREIGN KEY (id_curso_perfil) REFERENCES dim_curso_perfil_oc(id_curso_perfil)\n",
    "''')\n"
   ]
  },
  {
   "cell_type": "code",
   "execution_count": null,
   "id": "24de9681-60d6-42dd-a045-3f6bf4695722",
   "metadata": {},
   "outputs": [],
   "source": []
  }
 ],
 "metadata": {
  "kernelspec": {
   "display_name": "Python 3 (ipykernel)",
   "language": "python",
   "name": "python3"
  },
  "language_info": {
   "codemirror_mode": {
    "name": "ipython",
    "version": 3
   },
   "file_extension": ".py",
   "mimetype": "text/x-python",
   "name": "python",
   "nbconvert_exporter": "python",
   "pygments_lexer": "ipython3",
   "version": "3.9.12"
  }
 },
 "nbformat": 4,
 "nbformat_minor": 5
}
