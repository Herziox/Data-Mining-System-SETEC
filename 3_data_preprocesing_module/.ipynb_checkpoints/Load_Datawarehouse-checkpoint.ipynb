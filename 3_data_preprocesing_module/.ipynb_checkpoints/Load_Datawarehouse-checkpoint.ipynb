{
 "cells": [
  {
   "cell_type": "code",
   "execution_count": 1,
   "id": "572aa435-075f-40be-86c2-4b974261bf58",
   "metadata": {},
   "outputs": [],
   "source": [
    "import numpy as np\n",
    "import pandas as pd\n",
    "import os\n",
    "import mysql.connector\n",
    "from tqdm import tqdm"
   ]
  },
  {
   "cell_type": "code",
   "execution_count": 2,
   "id": "f19d4886-d554-4ee1-8599-0106d20e5f8e",
   "metadata": {},
   "outputs": [],
   "source": [
    "path_dwh =  os.path.join(os.getcwd(),'DATAWAREHOUSE')\n",
    "path_dmoc = os.path.join(path_dwh,'datamart_oc')\n",
    "path_dmoec = os.path.join(path_dwh,'datamart_oec')\n",
    "path_dmci = os.path.join(path_dwh,'datamart_ci')"
   ]
  },
  {
   "cell_type": "code",
   "execution_count": 11,
   "id": "2aa8e385-239a-4b7a-a681-c8dcda7c4d47",
   "metadata": {},
   "outputs": [
    {
     "data": {
      "text/plain": [
       "['dim_curso_perfil.csv',\n",
       " 'dim_fecha.csv',\n",
       " 'dim_razon_social_oc.csv',\n",
       " 'fact_oc.csv']"
      ]
     },
     "execution_count": 11,
     "metadata": {},
     "output_type": "execute_result"
    }
   ],
   "source": [
    "os.listdir(path_dmoc)"
   ]
  },
  {
   "cell_type": "code",
   "execution_count": 3,
   "id": "531e45b9-80c1-431e-91ab-4aa56d97fb0a",
   "metadata": {},
   "outputs": [],
   "source": [
    "df_oc = pd.read_csv(os.path.join(path_dmoc,'dim_razon_social_oc.csv'))\n",
    "df_oc['id_oc'] = df_oc['id_oc'].astype(str)"
   ]
  },
  {
   "cell_type": "markdown",
   "id": "42a9371c-170f-4ec9-a4bb-7a9fa4592e9c",
   "metadata": {},
   "source": [
    "# Conexión con MySQL"
   ]
  },
  {
   "cell_type": "code",
   "execution_count": 21,
   "id": "a4861ac1-0a4c-4639-8512-a7eacce91767",
   "metadata": {},
   "outputs": [],
   "source": [
    "mydb = mysql.connector.connect(\n",
    "    host='localhost',\n",
    "    user='root',\n",
    "    passwd='KappaTao1233'\n",
    ")\n",
    "\n",
    "mycursor = mydb.cursor()"
   ]
  },
  {
   "cell_type": "markdown",
   "id": "5e512720-fef5-4c30-9976-9bc69872af90",
   "metadata": {},
   "source": [
    "# Creación de la base de datos"
   ]
  },
  {
   "cell_type": "code",
   "execution_count": 22,
   "id": "849e7b54-e722-4ee2-a1a1-47be19d24dd2",
   "metadata": {},
   "outputs": [],
   "source": [
    "mycursor.execute(\"DROP DATABASE IF EXISTS dwh_setec\")\n",
    "mycursor.execute(\"CREATE DATABASE dwh_setec\")\n",
    "mycursor.execute(\"USE dwh_setec\")"
   ]
  },
  {
   "cell_type": "markdown",
   "id": "de7d55c4-9c52-487e-a8b9-541cfed40a25",
   "metadata": {},
   "source": [
    "# DATAMART OC"
   ]
  },
  {
   "cell_type": "markdown",
   "id": "dd8b334d-3da1-4edc-b59f-2812e70b9079",
   "metadata": {
    "tags": []
   },
   "source": [
    "## Tabla dim_razon_social_oc"
   ]
  },
  {
   "cell_type": "code",
   "execution_count": 23,
   "id": "38e7aebf-add4-4484-ac54-0b2d7e52412d",
   "metadata": {},
   "outputs": [
    {
     "name": "stderr",
     "output_type": "stream",
     "text": [
      "100%|██████████| 740/740 [00:33<00:00, 22.41it/s]\n"
     ]
    }
   ],
   "source": [
    "mycursor.execute(\"DROP TABLE IF EXISTS dim_razon_social_oc\")\n",
    "mycursor.execute('''CREATE TABLE dim_razon_social_oc (\n",
    "id_oc VARCHAR(4) PRIMARY KEY,\n",
    "razon_social VARCHAR(255) NOT NULL,\n",
    "estado VARCHAR(63) NOT NULL,\n",
    "canton VARCHAR(63) NOT NULL,\n",
    "provincia VARCHAR(63) NOT NULL\n",
    ")''')\n",
    "sql_formula = 'INSERT INTO dim_razon_social_oc ( id_oc, razon_social, estado, canton, provincia) VALUES (%s,%s,%s,%s,%s)'\n",
    "for row in tqdm(df_oc.values):\n",
    "    mycursor.execute(sql_formula,tuple(row))\n",
    "    mydb.commit()"
   ]
  },
  {
   "cell_type": "markdown",
   "id": "f35d4adb-53f7-49de-917a-872ca5853c75",
   "metadata": {
    "tags": []
   },
   "source": [
    "## Tabla dim_curso_perfil_oc"
   ]
  },
  {
   "cell_type": "code",
   "execution_count": 19,
   "id": "a85d28b8-b805-4217-b4fb-bfd93a5da577",
   "metadata": {},
   "outputs": [],
   "source": [
    "df_cur_per = pd.read_csv(os.path.join(path_dmoc,'dim_curso_perfil.csv'))\n",
    "df_cur_per['id_curso_perfil'] = df_cur_per['id_curso_perfil'].astype(str)\n",
    "df_cur_per = df_cur_per.fillna({'costo':0})"
   ]
  },
  {
   "cell_type": "code",
   "execution_count": 58,
   "id": "1b5cec7c-4f3d-40c7-87f4-288f863ab7f8",
   "metadata": {},
   "outputs": [
    {
     "name": "stderr",
     "output_type": "stream",
     "text": [
      "100%|██████████| 5103/5103 [04:31<00:00, 18.83it/s]\n"
     ]
    }
   ],
   "source": [
    "mycursor.execute(\"DROP TABLE IF EXISTS dim_curso_perfil_oc\")\n",
    "mycursor.execute('''CREATE TABLE dim_curso_perfil_oc (\n",
    "id_curso_perfil VARCHAR(4) PRIMARY KEY,\n",
    "tipo VARCHAR(63) NOT NULL,\n",
    "area_familia VARCHAR(255) NOT NULL,\n",
    "especialidad_sector VARCHAR(255) NOT NULL,\n",
    "curso_perfil VARCHAR(255) NOT NULL,\n",
    "modalidad VARCHAR(255) NOT NULL,\n",
    "carga_horaria FLOAT NOT NULL,\n",
    "costo FLOAT NOT NULL\n",
    ")''')\n",
    "sql_formula = 'INSERT INTO dim_curso_perfil_oc ( id_curso_perfil, tipo, area_familia, especialidad_sector, curso_perfil, modalidad, carga_horaria, costo) VALUES (%s,%s,%s,%s,%s,%s,%s,%s)'\n",
    "for row in tqdm(df_cur_per.values):\n",
    "    mycursor.execute(sql_formula,tuple(row))\n",
    "    mydb.commit()"
   ]
  },
  {
   "cell_type": "markdown",
   "id": "1f389374-a946-4f1f-9124-c193c6bfc205",
   "metadata": {
    "tags": []
   },
   "source": [
    "## Tabla dim_fecha_oc"
   ]
  },
  {
   "cell_type": "code",
   "execution_count": 59,
   "id": "1e936ccf-5081-421c-bdb2-c01be8052ee2",
   "metadata": {},
   "outputs": [],
   "source": [
    "df_fecha_oc = pd.read_csv(os.path.join(path_dmoc,'dim_fecha.csv'))\n",
    "df_fecha_oc['id_fecha'] = df_fecha_oc['id_fecha'].astype(str)\n",
    "df_fecha_oc['anio'] = df_fecha_oc['anio'].astype(str)"
   ]
  },
  {
   "cell_type": "code",
   "execution_count": 60,
   "id": "2de4b986-473a-4a8b-aa0e-69b4078a816b",
   "metadata": {},
   "outputs": [
    {
     "name": "stderr",
     "output_type": "stream",
     "text": [
      "100%|██████████| 8/8 [00:00<00:00, 28.23it/s]\n"
     ]
    }
   ],
   "source": [
    "mycursor.execute(\"DROP TABLE IF EXISTS dim_fecha_oc\")\n",
    "mycursor.execute('''CREATE TABLE dim_fecha_oc (\n",
    "id_fecha VARCHAR(4) PRIMARY KEY,\n",
    "anio VARCHAR(4) NOT NULL\n",
    ")''')\n",
    "sql_formula = 'INSERT INTO dim_fecha_oc ( id_fecha, anio) VALUES (%s,%s)'\n",
    "for row in tqdm(df_fecha_oc.values):\n",
    "    mycursor.execute(sql_formula,tuple(row))\n",
    "    mydb.commit()"
   ]
  },
  {
   "cell_type": "markdown",
   "id": "fd70d05b-ac38-4d51-9f62-6c1e3e0bf1c5",
   "metadata": {
    "tags": []
   },
   "source": [
    "## Tabla fact_oc"
   ]
  },
  {
   "cell_type": "code",
   "execution_count": 61,
   "id": "c522ed72-8f8d-475f-ab6f-dcc4fc949731",
   "metadata": {},
   "outputs": [],
   "source": [
    "df_fact_oc = pd.read_csv(os.path.join(path_dmoc,'fact_oc.csv'))\n",
    "df_fact_oc['id_oc'] = df_fact_oc['id_oc'].astype(str)\n",
    "df_fact_oc['id_curso_perfil'] = df_fact_oc['id_curso_perfil'].astype(str)\n",
    "df_fact_oc['id_fecha'] = df_fact_oc['id_fecha'].astype(str)"
   ]
  },
  {
   "cell_type": "code",
   "execution_count": 57,
   "id": "58d6abe7-5b92-47e1-922b-a5a1d3941c1d",
   "metadata": {},
   "outputs": [
    {
     "name": "stderr",
     "output_type": "stream",
     "text": [
      "100%|██████████| 1580/1580 [01:15<00:00, 21.05it/s]\n"
     ]
    }
   ],
   "source": [
    "mycursor.execute(\"DROP TABLE IF EXISTS fact_oc\")\n",
    "mycursor.execute('''CREATE TABLE fact_oc (\n",
    "id_oc VARCHAR(4) NOT NULL,\n",
    "id_curso_perfil VARCHAR(4) NOT NULL,\n",
    "id_fecha VARCHAR(4) NOT NULL,\n",
    "num_cap_cer INT NOT NULL,\n",
    "total_cursos INT NOT NULL,\n",
    "volumen_capacitados INT NOT NULL,\n",
    "total_horas INT NOT NULL,\n",
    "total_ganancias FLOAT NOT NULL\n",
    ")''')\n",
    "sql_formula = '''INSERT INTO fact_oc (id_oc, id_curso_perfil, id_fecha, num_cap_cer, total_cursos, volumen_capacitados, total_horas, total_ganancias) \n",
    "VALUES (%s,%s,%s,%s,%s,%s,%s,%s)'''\n",
    "for row in tqdm(df_fact_oc.values):\n",
    "    mycursor.execute(sql_formula,tuple(row))\n",
    "    mydb.commit()"
   ]
  },
  {
   "cell_type": "markdown",
   "id": "5fce1da7-7e39-464a-90a8-7c95663e86ce",
   "metadata": {},
   "source": [
    "## CREAR CLAVES FORANEAS OC"
   ]
  },
  {
   "cell_type": "code",
   "execution_count": 68,
   "id": "845e5fe6-8890-490a-b56e-f8449b787bc5",
   "metadata": {},
   "outputs": [],
   "source": [
    "mycursor.execute(''' \n",
    "ALTER TABLE fact_oc\n",
    "ADD FOREIGN KEY (id_fecha) REFERENCES dim_fecha_oc(id_fecha)\n",
    "''')\n",
    "mycursor.execute(''' \n",
    "ALTER TABLE fact_oc\n",
    "ADD FOREIGN KEY (id_oc) REFERENCES dim_razon_social_oc(id_oc)\n",
    "''')\n",
    "mycursor.execute(''' \n",
    "ALTER TABLE fact_oc\n",
    "ADD FOREIGN KEY (id_curso_perfil) REFERENCES dim_curso_perfil_oc(id_curso_perfil)\n",
    "''')\n"
   ]
  },
  {
   "cell_type": "markdown",
   "id": "ae7ad664-8921-4045-a77e-7f83dfce7ae4",
   "metadata": {},
   "source": [
    "# DATAMART OEC"
   ]
  },
  {
   "cell_type": "code",
   "execution_count": 71,
   "id": "553ca710-fa53-4c28-a88c-823d9386d47f",
   "metadata": {},
   "outputs": [
    {
     "data": {
      "text/plain": [
       "['dim_fecha.csv', 'dim_perfil.csv', 'dim_razon_social_oec.csv', 'fact_oec.csv']"
      ]
     },
     "execution_count": 71,
     "metadata": {},
     "output_type": "execute_result"
    }
   ],
   "source": [
    "os.listdir(path_dmoec)"
   ]
  },
  {
   "cell_type": "markdown",
   "id": "00f9c0fa-6f5c-4827-a643-f609e18543b9",
   "metadata": {
    "tags": []
   },
   "source": [
    "## Tabla dim_razon_social_oec"
   ]
  },
  {
   "cell_type": "code",
   "execution_count": 76,
   "id": "5ad56c6f-a6e9-488a-81c5-4408e2ed8063",
   "metadata": {},
   "outputs": [],
   "source": [
    "df_oec = pd.read_csv(os.path.join(path_dmoec,'dim_razon_social_oec.csv'))\n",
    "df_oec['id_oec'] = df_oec['id_oec'].astype(str)"
   ]
  },
  {
   "cell_type": "code",
   "execution_count": 80,
   "id": "04358cba-61eb-4d5d-9022-800c512b1ad7",
   "metadata": {},
   "outputs": [
    {
     "name": "stderr",
     "output_type": "stream",
     "text": [
      "100%|██████████| 356/356 [00:15<00:00, 23.52it/s]\n"
     ]
    }
   ],
   "source": [
    "mycursor.execute(\"DROP TABLE IF EXISTS dim_razon_social_oec\")\n",
    "mycursor.execute('''CREATE TABLE dim_razon_social_oec (\n",
    "id_oec VARCHAR(4) PRIMARY KEY,\n",
    "razon_social VARCHAR(255) NOT NULL,\n",
    "estado VARCHAR(63) NOT NULL,\n",
    "canton VARCHAR(63) NOT NULL,\n",
    "provincia VARCHAR(63) NOT NULL\n",
    ")''')\n",
    "sql_formula = 'INSERT INTO dim_razon_social_oec ( id_oec, razon_social, estado, canton, provincia) VALUES (%s,%s,%s,%s,%s)'\n",
    "for row in tqdm(df_oec.values):\n",
    "    mycursor.execute(sql_formula,tuple(row))\n",
    "    mydb.commit()"
   ]
  },
  {
   "cell_type": "markdown",
   "id": "ecc52d35-6e4b-4089-8505-11efa914af54",
   "metadata": {
    "tags": []
   },
   "source": [
    "## Tabla dim_perfil"
   ]
  },
  {
   "cell_type": "code",
   "execution_count": 91,
   "id": "0fe11913-dec2-4e60-aae0-ee5eb3285949",
   "metadata": {},
   "outputs": [],
   "source": [
    "df_perfil = pd.read_csv(os.path.join(path_dmoec,'dim_perfil.csv'))\n",
    "df_perfil['id_perfil'] = df_perfil['id_perfil'].astype(str)"
   ]
  },
  {
   "cell_type": "code",
   "execution_count": 98,
   "id": "a712416d-4068-4839-972a-ed37f86ef2a5",
   "metadata": {},
   "outputs": [
    {
     "name": "stderr",
     "output_type": "stream",
     "text": [
      "100%|██████████| 2101/2101 [01:30<00:00, 23.10it/s]\n"
     ]
    }
   ],
   "source": [
    "mycursor.execute(\"DROP TABLE IF EXISTS dim_perfil_oec\")\n",
    "mycursor.execute('''CREATE TABLE dim_perfil_oec (\n",
    "id_perfil VARCHAR(4) PRIMARY KEY,\n",
    "familia VARCHAR(255) NOT NULL,\n",
    "sector VARCHAR(255) NOT NULL,\n",
    "perfil VARCHAR(255) NOT NULL,\n",
    "modalidad VARCHAR(63) NOT NULL,\n",
    "carga_horaria INT NOT NULL,\n",
    "costo FLOAT NOT NULL\n",
    ")''')\n",
    "sql_formula = 'INSERT INTO dim_perfil_oec (id_perfil, familia, sector, perfil, modalidad, carga_horaria, costo) VALUES (%s,%s,%s,%s,%s,%s,%s)'\n",
    "for row in tqdm(df_perfil.values):\n",
    "    mycursor.execute(sql_formula,tuple(row))\n",
    "    mydb.commit()"
   ]
  },
  {
   "cell_type": "markdown",
   "id": "410d9d6a-4ca5-47a1-8ee1-c88d0edddf8b",
   "metadata": {
    "tags": []
   },
   "source": [
    "## Tabla dim_fecha_oec"
   ]
  },
  {
   "cell_type": "code",
   "execution_count": 114,
   "id": "05267ed9-9d08-472f-95e0-65aa24579829",
   "metadata": {},
   "outputs": [],
   "source": [
    "df_fecha_oec = pd.read_csv(os.path.join(path_dmoec,'dim_fecha.csv'))\n",
    "df_fecha_oec['id_fecha'] = df_fecha_oec['id_fecha'].astype(str)"
   ]
  },
  {
   "cell_type": "code",
   "execution_count": 116,
   "id": "ab956ada-ba5a-489e-b7da-518e53e4a549",
   "metadata": {
    "tags": []
   },
   "outputs": [
    {
     "name": "stderr",
     "output_type": "stream",
     "text": [
      "100%|██████████| 2139/2139 [01:33<00:00, 22.97it/s]\n"
     ]
    }
   ],
   "source": [
    "mycursor.execute(\"DROP TABLE IF EXISTS dim_fecha_oec\")\n",
    "mycursor.execute('''CREATE TABLE dim_fecha_oec (\n",
    "id_fecha VARCHAR(4) PRIMARY KEY,\n",
    "dia INT NOT NULL,\n",
    "mes INT NOT NULL,\n",
    "anio FLOAT NOT NULL\n",
    ")''')\n",
    "sql_formula = 'INSERT INTO dim_fecha_oec (id_fecha, dia, mes, anio) VALUES (%s,%s,%s,%s)'\n",
    "for row in tqdm(df_fecha_oec.values):\n",
    "    mycursor.execute(sql_formula,tuple(row))\n",
    "    mydb.commit()"
   ]
  },
  {
   "cell_type": "markdown",
   "id": "2d059435-7542-426f-9520-078d48056480",
   "metadata": {
    "tags": []
   },
   "source": [
    "## Tabla fact_oec"
   ]
  },
  {
   "cell_type": "code",
   "execution_count": 122,
   "id": "60e87cfa-f70b-417f-8a78-4afa9c827c46",
   "metadata": {},
   "outputs": [],
   "source": [
    "df_fact_oec = pd.read_csv(os.path.join(path_dmoec,'fact_oec.csv'))\n",
    "df_fact_oec['id_oec'] = df_fact_oec['id_oec'].astype(str)\n",
    "df_fact_oec['id_perfil'] = df_fact_oec['id_perfil'].astype(str)\n",
    "df_fact_oec['id_fecha'] = df_fact_oec['id_fecha'].astype(str)"
   ]
  },
  {
   "cell_type": "code",
   "execution_count": 125,
   "id": "41af8745-5379-4834-8e12-e767d59b793f",
   "metadata": {
    "tags": []
   },
   "outputs": [
    {
     "name": "stderr",
     "output_type": "stream",
     "text": [
      "100%|██████████| 14915/14915 [11:10<00:00, 22.24it/s]\n"
     ]
    }
   ],
   "source": [
    "mycursor.execute(\"DROP TABLE IF EXISTS fact_oec\")\n",
    "mycursor.execute('''CREATE TABLE fact_oec (\n",
    "id_oec VARCHAR(4) NOT NULL,\n",
    "id_perfil VARCHAR(4) NOT NULL,\n",
    "id_fecha VARCHAR(4) NOT NULL,\n",
    "num_cer INT NOT NULL,\n",
    "total_horas INT NOT NULL,\n",
    "total_cursos INT NOT NULL,\n",
    "volumen_capacitados INT NOT NULL,\n",
    "total_ganancias FLOAT NOT NULL\n",
    ")''')\n",
    "sql_formula = 'INSERT INTO fact_oec(id_oec, id_perfil, id_fecha, num_cer, total_horas, total_cursos, volumen_capacitados, total_ganancias) VALUES (%s,%s,%s,%s,%s,%s,%s,%s)'\n",
    "for row in tqdm(df_fact_oec.values):\n",
    "    mycursor.execute(sql_formula,tuple(row))\n",
    "    mydb.commit()"
   ]
  },
  {
   "cell_type": "markdown",
   "id": "2a7694f5-a876-4a50-b699-8eef4ffa6f25",
   "metadata": {},
   "source": [
    "## CREAR CLAVES FORANEAS OEC"
   ]
  },
  {
   "cell_type": "code",
   "execution_count": 68,
   "id": "a162a820-3aef-421a-a72c-426596080417",
   "metadata": {},
   "outputs": [],
   "source": [
    "mycursor.execute(''' \n",
    "ALTER TABLE fact_oec\n",
    "ADD FOREIGN KEY (id_fecha) REFERENCES dim_fecha_oec(id_fecha)\n",
    "''')\n",
    "mycursor.execute(''' \n",
    "ALTER TABLE fact_oec\n",
    "ADD FOREIGN KEY (id_oec) REFERENCES dim_razon_social_oec(id_oec)\n",
    "''')\n",
    "mycursor.execute(''' \n",
    "ALTER TABLE fact_oec\n",
    "ADD FOREIGN KEY (id_perfil) REFERENCES dim_perfil_oec(id_perfil)\n",
    "''')\n"
   ]
  },
  {
   "cell_type": "markdown",
   "id": "452580d9-fc9e-47fb-988f-855c5440c67b",
   "metadata": {},
   "source": [
    "# DATAMART CI"
   ]
  },
  {
   "cell_type": "code",
   "execution_count": 127,
   "id": "8c268816-6dbc-437f-803c-706faa9fe349",
   "metadata": {},
   "outputs": [
    {
     "data": {
      "text/plain": [
       "['.ipynb_checkpoints',\n",
       " 'dim_curso_ci.csv',\n",
       " 'dim_fecha_ci.csv',\n",
       " 'dim_razon_social_ci.csv',\n",
       " 'fact_ci.csv']"
      ]
     },
     "execution_count": 127,
     "metadata": {},
     "output_type": "execute_result"
    }
   ],
   "source": [
    "os.listdir(path_dmci)"
   ]
  },
  {
   "cell_type": "markdown",
   "id": "086e5014-b78f-41d5-a397-c88bb942d4d2",
   "metadata": {
    "tags": []
   },
   "source": [
    "## Tabla dim_razon_social_ci"
   ]
  },
  {
   "cell_type": "code",
   "execution_count": 135,
   "id": "97941205-beff-4d91-9213-05f1ece241fe",
   "metadata": {},
   "outputs": [],
   "source": [
    "df_ci = pd.read_csv(os.path.join(path_dmci,'dim_razon_social_ci.csv'))\n",
    "df_ci['id_ci'] = df_ci['id_ci'].astype(str)\n",
    "df_ci = df_ci.drop(['anio'],axis=1)"
   ]
  },
  {
   "cell_type": "code",
   "execution_count": 138,
   "id": "86e68fb1-0c18-4816-8feb-6d3a639b8468",
   "metadata": {},
   "outputs": [
    {
     "name": "stderr",
     "output_type": "stream",
     "text": [
      " 85%|████████▌ | 1162/1362 [00:47<00:08, 24.58it/s]\n"
     ]
    },
    {
     "ename": "IntegrityError",
     "evalue": "1062 (23000): Duplicate entry '5' for key 'dim_razon_social_ci.PRIMARY'",
     "output_type": "error",
     "traceback": [
      "\u001b[1;31m---------------------------------------------------------------------------\u001b[0m",
      "\u001b[1;31mMySQLInterfaceError\u001b[0m                       Traceback (most recent call last)",
      "File \u001b[1;32m~\\anaconda3\\lib\\site-packages\\mysql\\connector\\connection_cext.py:565\u001b[0m, in \u001b[0;36mCMySQLConnection.cmd_query\u001b[1;34m(self, query, raw, buffered, raw_as_string)\u001b[0m\n\u001b[0;32m    564\u001b[0m         query \u001b[38;5;241m=\u001b[39m query\u001b[38;5;241m.\u001b[39mencode(\u001b[38;5;124m\"\u001b[39m\u001b[38;5;124mutf-8\u001b[39m\u001b[38;5;124m\"\u001b[39m)\n\u001b[1;32m--> 565\u001b[0m     \u001b[38;5;28;43mself\u001b[39;49m\u001b[38;5;241;43m.\u001b[39;49m\u001b[43m_cmysql\u001b[49m\u001b[38;5;241;43m.\u001b[39;49m\u001b[43mquery\u001b[49m\u001b[43m(\u001b[49m\n\u001b[0;32m    566\u001b[0m \u001b[43m        \u001b[49m\u001b[43mquery\u001b[49m\u001b[43m,\u001b[49m\n\u001b[0;32m    567\u001b[0m \u001b[43m        \u001b[49m\u001b[43mraw\u001b[49m\u001b[38;5;241;43m=\u001b[39;49m\u001b[43mraw\u001b[49m\u001b[43m,\u001b[49m\n\u001b[0;32m    568\u001b[0m \u001b[43m        \u001b[49m\u001b[43mbuffered\u001b[49m\u001b[38;5;241;43m=\u001b[39;49m\u001b[43mbuffered\u001b[49m\u001b[43m,\u001b[49m\n\u001b[0;32m    569\u001b[0m \u001b[43m        \u001b[49m\u001b[43mraw_as_string\u001b[49m\u001b[38;5;241;43m=\u001b[39;49m\u001b[43mraw_as_string\u001b[49m\u001b[43m,\u001b[49m\n\u001b[0;32m    570\u001b[0m \u001b[43m        \u001b[49m\u001b[43mquery_attrs\u001b[49m\u001b[38;5;241;43m=\u001b[39;49m\u001b[38;5;28;43mself\u001b[39;49m\u001b[38;5;241;43m.\u001b[39;49m\u001b[43m_query_attrs\u001b[49m\u001b[43m,\u001b[49m\n\u001b[0;32m    571\u001b[0m \u001b[43m    \u001b[49m\u001b[43m)\u001b[49m\n\u001b[0;32m    572\u001b[0m \u001b[38;5;28;01mexcept\u001b[39;00m MySQLInterfaceError \u001b[38;5;28;01mas\u001b[39;00m err:\n",
      "\u001b[1;31mMySQLInterfaceError\u001b[0m: Duplicate entry '5' for key 'dim_razon_social_ci.PRIMARY'",
      "\nThe above exception was the direct cause of the following exception:\n",
      "\u001b[1;31mIntegrityError\u001b[0m                            Traceback (most recent call last)",
      "Input \u001b[1;32mIn [138]\u001b[0m, in \u001b[0;36m<cell line: 10>\u001b[1;34m()\u001b[0m\n\u001b[0;32m      9\u001b[0m sql_formula \u001b[38;5;241m=\u001b[39m \u001b[38;5;124m'\u001b[39m\u001b[38;5;124mINSERT INTO dim_razon_social_ci( id_ci, razon_social, codigo_resolucion, provincia, canton) VALUES (\u001b[39m\u001b[38;5;132;01m%s\u001b[39;00m\u001b[38;5;124m,\u001b[39m\u001b[38;5;132;01m%s\u001b[39;00m\u001b[38;5;124m,\u001b[39m\u001b[38;5;132;01m%s\u001b[39;00m\u001b[38;5;124m,\u001b[39m\u001b[38;5;132;01m%s\u001b[39;00m\u001b[38;5;124m,\u001b[39m\u001b[38;5;132;01m%s\u001b[39;00m\u001b[38;5;124m)\u001b[39m\u001b[38;5;124m'\u001b[39m\n\u001b[0;32m     10\u001b[0m \u001b[38;5;28;01mfor\u001b[39;00m row \u001b[38;5;129;01min\u001b[39;00m tqdm(df_ci\u001b[38;5;241m.\u001b[39mvalues):\n\u001b[1;32m---> 11\u001b[0m     \u001b[43mmycursor\u001b[49m\u001b[38;5;241;43m.\u001b[39;49m\u001b[43mexecute\u001b[49m\u001b[43m(\u001b[49m\u001b[43msql_formula\u001b[49m\u001b[43m,\u001b[49m\u001b[38;5;28;43mtuple\u001b[39;49m\u001b[43m(\u001b[49m\u001b[43mrow\u001b[49m\u001b[43m)\u001b[49m\u001b[43m)\u001b[49m\n\u001b[0;32m     12\u001b[0m     mydb\u001b[38;5;241m.\u001b[39mcommit()\n",
      "File \u001b[1;32m~\\anaconda3\\lib\\site-packages\\mysql\\connector\\cursor_cext.py:279\u001b[0m, in \u001b[0;36mCMySQLCursor.execute\u001b[1;34m(self, operation, params, multi)\u001b[0m\n\u001b[0;32m    274\u001b[0m             \u001b[38;5;28;01mraise\u001b[39;00m ProgrammingError(\n\u001b[0;32m    275\u001b[0m                 \u001b[38;5;124m\"\u001b[39m\u001b[38;5;124mNot all parameters were used in the SQL statement\u001b[39m\u001b[38;5;124m\"\u001b[39m\n\u001b[0;32m    276\u001b[0m             )\n\u001b[0;32m    278\u001b[0m \u001b[38;5;28;01mtry\u001b[39;00m:\n\u001b[1;32m--> 279\u001b[0m     result \u001b[38;5;241m=\u001b[39m \u001b[38;5;28;43mself\u001b[39;49m\u001b[38;5;241;43m.\u001b[39;49m\u001b[43m_cnx\u001b[49m\u001b[38;5;241;43m.\u001b[39;49m\u001b[43mcmd_query\u001b[49m\u001b[43m(\u001b[49m\n\u001b[0;32m    280\u001b[0m \u001b[43m        \u001b[49m\u001b[43mstmt\u001b[49m\u001b[43m,\u001b[49m\n\u001b[0;32m    281\u001b[0m \u001b[43m        \u001b[49m\u001b[43mraw\u001b[49m\u001b[38;5;241;43m=\u001b[39;49m\u001b[38;5;28;43mself\u001b[39;49m\u001b[38;5;241;43m.\u001b[39;49m\u001b[43m_raw\u001b[49m\u001b[43m,\u001b[49m\n\u001b[0;32m    282\u001b[0m \u001b[43m        \u001b[49m\u001b[43mbuffered\u001b[49m\u001b[38;5;241;43m=\u001b[39;49m\u001b[38;5;28;43mself\u001b[39;49m\u001b[38;5;241;43m.\u001b[39;49m\u001b[43m_buffered\u001b[49m\u001b[43m,\u001b[49m\n\u001b[0;32m    283\u001b[0m \u001b[43m        \u001b[49m\u001b[43mraw_as_string\u001b[49m\u001b[38;5;241;43m=\u001b[39;49m\u001b[38;5;28;43mself\u001b[39;49m\u001b[38;5;241;43m.\u001b[39;49m\u001b[43m_raw_as_string\u001b[49m\u001b[43m,\u001b[49m\n\u001b[0;32m    284\u001b[0m \u001b[43m    \u001b[49m\u001b[43m)\u001b[49m\n\u001b[0;32m    285\u001b[0m \u001b[38;5;28;01mexcept\u001b[39;00m MySQLInterfaceError \u001b[38;5;28;01mas\u001b[39;00m err:\n\u001b[0;32m    286\u001b[0m     \u001b[38;5;28;01mraise\u001b[39;00m get_mysql_exception(\n\u001b[0;32m    287\u001b[0m         msg\u001b[38;5;241m=\u001b[39merr\u001b[38;5;241m.\u001b[39mmsg, errno\u001b[38;5;241m=\u001b[39merr\u001b[38;5;241m.\u001b[39merrno, sqlstate\u001b[38;5;241m=\u001b[39merr\u001b[38;5;241m.\u001b[39msqlstate\n\u001b[0;32m    288\u001b[0m     ) \u001b[38;5;28;01mfrom\u001b[39;00m \u001b[38;5;21;01merr\u001b[39;00m\n",
      "File \u001b[1;32m~\\anaconda3\\lib\\site-packages\\mysql\\connector\\connection_cext.py:573\u001b[0m, in \u001b[0;36mCMySQLConnection.cmd_query\u001b[1;34m(self, query, raw, buffered, raw_as_string)\u001b[0m\n\u001b[0;32m    565\u001b[0m     \u001b[38;5;28mself\u001b[39m\u001b[38;5;241m.\u001b[39m_cmysql\u001b[38;5;241m.\u001b[39mquery(\n\u001b[0;32m    566\u001b[0m         query,\n\u001b[0;32m    567\u001b[0m         raw\u001b[38;5;241m=\u001b[39mraw,\n\u001b[1;32m   (...)\u001b[0m\n\u001b[0;32m    570\u001b[0m         query_attrs\u001b[38;5;241m=\u001b[39m\u001b[38;5;28mself\u001b[39m\u001b[38;5;241m.\u001b[39m_query_attrs,\n\u001b[0;32m    571\u001b[0m     )\n\u001b[0;32m    572\u001b[0m \u001b[38;5;28;01mexcept\u001b[39;00m MySQLInterfaceError \u001b[38;5;28;01mas\u001b[39;00m err:\n\u001b[1;32m--> 573\u001b[0m     \u001b[38;5;28;01mraise\u001b[39;00m get_mysql_exception(\n\u001b[0;32m    574\u001b[0m         err\u001b[38;5;241m.\u001b[39merrno, msg\u001b[38;5;241m=\u001b[39merr\u001b[38;5;241m.\u001b[39mmsg, sqlstate\u001b[38;5;241m=\u001b[39merr\u001b[38;5;241m.\u001b[39msqlstate\n\u001b[0;32m    575\u001b[0m     ) \u001b[38;5;28;01mfrom\u001b[39;00m \u001b[38;5;21;01merr\u001b[39;00m\n\u001b[0;32m    576\u001b[0m \u001b[38;5;28;01mexcept\u001b[39;00m \u001b[38;5;167;01mAttributeError\u001b[39;00m \u001b[38;5;28;01mas\u001b[39;00m err:\n\u001b[0;32m    577\u001b[0m     addr \u001b[38;5;241m=\u001b[39m (\n\u001b[0;32m    578\u001b[0m         \u001b[38;5;28mself\u001b[39m\u001b[38;5;241m.\u001b[39m_unix_socket \u001b[38;5;28;01mif\u001b[39;00m \u001b[38;5;28mself\u001b[39m\u001b[38;5;241m.\u001b[39m_unix_socket \u001b[38;5;28;01melse\u001b[39;00m \u001b[38;5;124mf\u001b[39m\u001b[38;5;124m\"\u001b[39m\u001b[38;5;132;01m{\u001b[39;00m\u001b[38;5;28mself\u001b[39m\u001b[38;5;241m.\u001b[39m_host\u001b[38;5;132;01m}\u001b[39;00m\u001b[38;5;124m:\u001b[39m\u001b[38;5;132;01m{\u001b[39;00m\u001b[38;5;28mself\u001b[39m\u001b[38;5;241m.\u001b[39m_port\u001b[38;5;132;01m}\u001b[39;00m\u001b[38;5;124m\"\u001b[39m\n\u001b[0;32m    579\u001b[0m     )\n",
      "\u001b[1;31mIntegrityError\u001b[0m: 1062 (23000): Duplicate entry '5' for key 'dim_razon_social_ci.PRIMARY'"
     ]
    }
   ],
   "source": [
    "mycursor.execute(\"DROP TABLE IF EXISTS dim_razon_social_ci\")\n",
    "mycursor.execute('''CREATE TABLE dim_razon_social_ci (\n",
    "id_ci VARCHAR(4) PRIMARY KEY,\n",
    "razon_social VARCHAR(255) NOT NULL,\n",
    "codigo_resolucion VARCHAR(255) NOT NULL,\n",
    "provincia VARCHAR(63) NOT NULL,\n",
    "canton VARCHAR(63) NOT NULL\n",
    ")''')\n",
    "sql_formula = 'INSERT INTO dim_razon_social_ci( id_ci, razon_social, codigo_resolucion, provincia, canton) VALUES (%s,%s,%s,%s,%s)'\n",
    "for row in tqdm(df_ci.values):\n",
    "    mycursor.execute(sql_formula,tuple(row))\n",
    "    mydb.commit()"
   ]
  },
  {
   "cell_type": "markdown",
   "id": "c000bd42-2de3-4fd9-bb3f-2d1095dbb1f3",
   "metadata": {
    "tags": []
   },
   "source": [
    "## Tabla dim_perfil"
   ]
  },
  {
   "cell_type": "code",
   "execution_count": 91,
   "id": "0d192525-215b-442f-84a2-6f13fe2addfe",
   "metadata": {},
   "outputs": [],
   "source": [
    "df_curso = pd.read_csv(os.path.join(path_dmci,'dim_curso.csv'))\n",
    "df_curso['id_perfil'] = df_curso['id_curso'].astype(str)"
   ]
  },
  {
   "cell_type": "code",
   "execution_count": 98,
   "id": "f6df4374-2184-42e2-8fef-a6a86a9e12d1",
   "metadata": {},
   "outputs": [
    {
     "name": "stderr",
     "output_type": "stream",
     "text": [
      "100%|██████████| 2101/2101 [01:30<00:00, 23.10it/s]\n"
     ]
    }
   ],
   "source": [
    "mycursor.execute(\"DROP TABLE IF EXISTS dim_curso_ci\")\n",
    "mycursor.execute('''CREATE TABLE dim_perfil_oec (\n",
    "id_perfil VARCHAR(4) PRIMARY KEY,\n",
    "familia VARCHAR(255) NOT NULL,\n",
    "sector VARCHAR(255) NOT NULL,\n",
    "perfil VARCHAR(255) NOT NULL,\n",
    "modalidad VARCHAR(63) NOT NULL,\n",
    "carga_horaria INT NOT NULL,\n",
    "costo FLOAT NOT NULL\n",
    ")''')\n",
    "sql_formula = 'INSERT INTO dim_perfil_oec (id_perfil, familia, sector, perfil, modalidad, carga_horaria, costo) VALUES (%s,%s,%s,%s,%s,%s,%s)'\n",
    "for row in tqdm(df_curso.values):\n",
    "    mycursor.execute(sql_formula,tuple(row))\n",
    "    mydb.commit()"
   ]
  },
  {
   "cell_type": "code",
   "execution_count": 132,
   "id": "c5e4d405-2ccf-49c1-9535-178efb605eb3",
   "metadata": {},
   "outputs": [
    {
     "name": "stdout",
     "output_type": "stream",
     "text": [
      "<class 'pandas.core.frame.DataFrame'>\n",
      "RangeIndex: 1362 entries, 0 to 1361\n",
      "Data columns (total 5 columns):\n",
      " #   Column             Non-Null Count  Dtype \n",
      "---  ------             --------------  ----- \n",
      " 0   id_ci              1362 non-null   object\n",
      " 1   razon_social       1362 non-null   object\n",
      " 2   codigo_resolucion  1362 non-null   object\n",
      " 3   provincia          1362 non-null   object\n",
      " 4   canton             1362 non-null   object\n",
      "dtypes: object(5)\n",
      "memory usage: 53.3+ KB\n"
     ]
    }
   ],
   "source": [
    "df_ci.info()\n",
    "#', '.join(df_fecha_oec.columns)"
   ]
  },
  {
   "cell_type": "markdown",
   "id": "96983be4-bb5e-4eab-8bdf-63296e841279",
   "metadata": {
    "tags": []
   },
   "source": [
    "## Tabla dim_fecha_oec"
   ]
  },
  {
   "cell_type": "code",
   "execution_count": 114,
   "id": "3dbc5796-f627-494d-b454-c85503baa85e",
   "metadata": {},
   "outputs": [],
   "source": [
    "df_fecha_oec = pd.read_csv(os.path.join(path_dmoec,'dim_fecha.csv'))\n",
    "df_fecha_oec['id_fecha'] = df_fecha_oec['id_fecha'].astype(str)"
   ]
  },
  {
   "cell_type": "code",
   "execution_count": 116,
   "id": "7e570792-2ba9-46d2-95b1-6a21e6101b55",
   "metadata": {
    "tags": []
   },
   "outputs": [
    {
     "name": "stderr",
     "output_type": "stream",
     "text": [
      "100%|██████████| 2139/2139 [01:33<00:00, 22.97it/s]\n"
     ]
    }
   ],
   "source": [
    "mycursor.execute(\"DROP TABLE IF EXISTS dim_fecha_oec\")\n",
    "mycursor.execute('''CREATE TABLE dim_fecha_oec (\n",
    "id_fecha VARCHAR(4) PRIMARY KEY,\n",
    "dia INT NOT NULL,\n",
    "mes INT NOT NULL,\n",
    "anio FLOAT NOT NULL\n",
    ")''')\n",
    "sql_formula = 'INSERT INTO dim_fecha_oec (id_fecha, dia, mes, anio) VALUES (%s,%s,%s,%s)'\n",
    "for row in tqdm(df_fecha_oec.values):\n",
    "    mycursor.execute(sql_formula,tuple(row))\n",
    "    mydb.commit()"
   ]
  },
  {
   "cell_type": "markdown",
   "id": "8f42464d-5e02-491a-9771-950fa34acb74",
   "metadata": {
    "tags": []
   },
   "source": [
    "## Tabla fact_oec"
   ]
  },
  {
   "cell_type": "code",
   "execution_count": 122,
   "id": "ad55588e-133b-4228-b7f4-267af1fafb87",
   "metadata": {},
   "outputs": [],
   "source": [
    "df_fact_oec = pd.read_csv(os.path.join(path_dmoec,'fact_oec.csv'))\n",
    "df_fact_oec['id_oec'] = df_fact_oec['id_oec'].astype(str)\n",
    "df_fact_oec['id_perfil'] = df_fact_oec['id_perfil'].astype(str)\n",
    "df_fact_oec['id_fecha'] = df_fact_oec['id_fecha'].astype(str)"
   ]
  },
  {
   "cell_type": "code",
   "execution_count": null,
   "id": "88f0a1e0-ef48-415b-a76d-a479471e30dd",
   "metadata": {
    "tags": []
   },
   "outputs": [
    {
     "name": "stderr",
     "output_type": "stream",
     "text": [
      "  5%|▌         | 808/14915 [00:37<12:31, 18.76it/s]"
     ]
    }
   ],
   "source": [
    "mycursor.execute(\"DROP TABLE IF EXISTS fact_oec\")\n",
    "mycursor.execute('''CREATE TABLE fact_oec (\n",
    "id_oec VARCHAR(4) NOT NULL,\n",
    "id_perfil VARCHAR(4) NOT NULL,\n",
    "id_fecha VARCHAR(4) NOT NULL,\n",
    "num_cer INT NOT NULL,\n",
    "total_horas INT NOT NULL,\n",
    "total_cursos INT NOT NULL,\n",
    "volumen_capacitados INT NOT NULL,\n",
    "total_ganancias FLOAT NOT NULL\n",
    ")''')\n",
    "sql_formula = 'INSERT INTO fact_oec(id_oec, id_perfil, id_fecha, num_cer, total_horas, total_cursos, volumen_capacitados, total_ganancias) VALUES (%s,%s,%s,%s,%s,%s,%s,%s)'\n",
    "for row in tqdm(df_fact_oec.values):\n",
    "    mycursor.execute(sql_formula,tuple(row))\n",
    "    mydb.commit()"
   ]
  },
  {
   "cell_type": "markdown",
   "id": "70d78c9c-b2b8-4818-9f64-4269bc854162",
   "metadata": {},
   "source": [
    "## CREAR CLAVES FORANEAS CI"
   ]
  },
  {
   "cell_type": "code",
   "execution_count": 68,
   "id": "dd1541d5-992e-4748-96c3-a2c7bc2e84b7",
   "metadata": {},
   "outputs": [],
   "source": [
    "mycursor.execute(''' \n",
    "ALTER TABLE fact_oec\n",
    "ADD FOREIGN KEY (id_fecha) REFERENCES dim_fecha_oec(id_fecha)\n",
    "''')\n",
    "mycursor.execute(''' \n",
    "ALTER TABLE fact_oec\n",
    "ADD FOREIGN KEY (id_oec) REFERENCES dim_razon_social_oec(id_oec)\n",
    "''')\n",
    "mycursor.execute(''' \n",
    "ALTER TABLE fact_oec\n",
    "ADD FOREIGN KEY (id_perfil) REFERENCES dim_perfil_oec(id_perfil)\n",
    "''')\n"
   ]
  }
 ],
 "metadata": {
  "kernelspec": {
   "display_name": "Python 3 (ipykernel)",
   "language": "python",
   "name": "python3"
  },
  "language_info": {
   "codemirror_mode": {
    "name": "ipython",
    "version": 3
   },
   "file_extension": ".py",
   "mimetype": "text/x-python",
   "name": "python",
   "nbconvert_exporter": "python",
   "pygments_lexer": "ipython3",
   "version": "3.9.12"
  }
 },
 "nbformat": 4,
 "nbformat_minor": 5
}
