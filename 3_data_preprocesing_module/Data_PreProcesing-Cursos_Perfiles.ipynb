{
 "cells": [
  {
   "cell_type": "markdown",
   "id": "306d4027-7e3d-459a-b06a-5f516a3365ca",
   "metadata": {},
   "source": [
    "# Importación e Intalación de Librerías"
   ]
  },
  {
   "cell_type": "code",
   "execution_count": 1,
   "id": "d323e615-bfe7-4f26-a76e-6777c8f1d197",
   "metadata": {},
   "outputs": [],
   "source": [
    "import csv\n",
    "import pandas as pd\n",
    "import sys\n",
    "import numpy as np\n",
    "import os\n",
    "from hermetrics.levenshtein import Levenshtein\n",
    "import re\n",
    "import mysql.connector\n",
    "from tqdm import tqdm"
   ]
  },
  {
   "cell_type": "markdown",
   "id": "dc6456c3-4d65-42e2-b0e5-2ade24851326",
   "metadata": {},
   "source": [
    "# Ruta de archivos"
   ]
  },
  {
   "cell_type": "code",
   "execution_count": 2,
   "id": "3b4c8576-ca9c-46eb-a52c-9105e39bb725",
   "metadata": {},
   "outputs": [
    {
     "name": "stdout",
     "output_type": "stream",
     "text": [
      "Definición de rutas de entrada y salida\n"
     ]
    }
   ],
   "source": [
    "print('Definición de rutas de entrada y salida')"
   ]
  },
  {
   "cell_type": "code",
   "execution_count": 3,
   "id": "e51c352a-af91-43dc-bb9b-d91c5ea31b8c",
   "metadata": {},
   "outputs": [],
   "source": [
    "#Rutas de entrada\n",
    "path_sd = os.path.abspath(os.path.join(os.getcwd(), '..','2_data_understanding_module','collecting_initial_data','existing_data','DIRTY_DATA'))\n",
    "path_dd = os.path.abspath(os.path.join(os.getcwd(), '..','2_data_understanding_module','collecting_initial_data','existing_data','DOWNLOADED_DATA'))\n",
    "path_ad = os.path.abspath(os.path.join(os.getcwd(), '..','2_data_understanding_module','collecting_initial_data','additional_data'))\n",
    "\n",
    "#Rutas salida\n",
    "path_db = os.path.abspath(os.path.join(os.getcwd(),'CLEANED_DATA'))\n",
    "path_dwh = os.path.join(os.getcwd(), \"DATAWAREHOUSE\")\n",
    "path_dm_oc = os.path.join(path_dwh,'datamart_oc')\n",
    "path_dm_oec = os.path.join(path_dwh,'datamart_oec')\n",
    "path_dm_ci = os.path.join(path_dwh,'datamart_ci')"
   ]
  },
  {
   "cell_type": "markdown",
   "id": "71c1b420-5933-4a97-a2e6-88b03ed845b9",
   "metadata": {},
   "source": [
    "# Funciones"
   ]
  },
  {
   "cell_type": "code",
   "execution_count": 4,
   "id": "13dc7f05-e79b-4be4-b26d-193a858b0d69",
   "metadata": {},
   "outputs": [
    {
     "name": "stdout",
     "output_type": "stream",
     "text": [
      "Definición de Funciones\n"
     ]
    }
   ],
   "source": [
    "print('Definición de Funciones')"
   ]
  },
  {
   "cell_type": "code",
   "execution_count": 5,
   "id": "792c92fd-c9e8-4403-bc8a-f409c40a2fec",
   "metadata": {},
   "outputs": [],
   "source": [
    "stopwords = open(os.path.join(path_db,'spanish.txt'),\"r\", encoding='utf-8')\n",
    "stopwords = stopwords.readlines()\n",
    "stopwords = [x.replace('\\n','') for x in stopwords]\n",
    "global puntuacion\n",
    "puntuacion = '!\"#$%&:;\\'()*+,-./?@[\\]^_`{|}~()'"
   ]
  },
  {
   "cell_type": "code",
   "execution_count": 6,
   "id": "907ebf57-eab4-48dd-a122-30fbc5504d93",
   "metadata": {},
   "outputs": [],
   "source": [
    "def normalizar(text):\n",
    "    text = text.lower() \n",
    "    text = text.replace('á','a')\n",
    "    text = text.replace('é','e')\n",
    "    text = text.replace('í','i')\n",
    "    text = text.replace('ó','o')\n",
    "    text = text.replace('ú','u')\n",
    "    text = text.strip()\n",
    "    text = text.split(' ')\n",
    "    re_punc = re.compile('[%s]' % re.escape(puntuacion))\n",
    "    stripped = [re_punc.sub(' ', w) for w in text]\n",
    "    text = ' '.join(stripped)\n",
    "    text = text.split(' ')\n",
    "    new_text = []\n",
    "    for i in range(len(text)):\n",
    "        char = text[i]\n",
    "        if char not in stopwords and char!=' ':\n",
    "            new_text.append(text[i])\n",
    "    new_text = ' '.join(new_text)\n",
    "    new_text = new_text.strip()\n",
    "            \n",
    "    return new_text"
   ]
  },
  {
   "cell_type": "code",
   "execution_count": 7,
   "id": "1ff6cfb6-c679-4f87-8afb-8615dfe518b4",
   "metadata": {},
   "outputs": [],
   "source": [
    "def get_costos(dfp,df_info):\n",
    "    \n",
    "    return dfp"
   ]
  },
  {
   "cell_type": "code",
   "execution_count": 8,
   "id": "c154b3b8-8152-43f6-b993-4ddf8c9d279a",
   "metadata": {},
   "outputs": [],
   "source": [
    "year_list = [str(x) for x in range(2022,2009,-1)]\n",
    "\n",
    "def get_year(x):\n",
    "    for year in year_list:\n",
    "        if re.search('-'+year+'\\s|'+year+'-|-'+year+'$',x.replace('/','-')):\n",
    "            return '31-12-'+year\n",
    "    return 'sin_anio'"
   ]
  },
  {
   "cell_type": "code",
   "execution_count": 9,
   "id": "bd42109d-91e0-41b6-8d70-464a9686a847",
   "metadata": {},
   "outputs": [],
   "source": [
    "def get_year_by_oc(x,y):\n",
    "    if x=='sin_anio':\n",
    "        if y != 'sin fecha resolución' and not pd.isna(y):\n",
    "            return '31-12-'+str(y[-4:])\n",
    "    else:\n",
    "        return x"
   ]
  },
  {
   "cell_type": "code",
   "execution_count": 10,
   "id": "6d1cc6b9-20a3-4343-b20b-8a973ba3fc75",
   "metadata": {},
   "outputs": [],
   "source": [
    "def get_perfil_price(x,y):\n",
    "    if x=='perfil':\n",
    "        return 250.0\n",
    "    else:\n",
    "        return y"
   ]
  },
  {
   "cell_type": "code",
   "execution_count": 11,
   "id": "0313028d-c37f-41d1-beae-4ab7b1c9c3d8",
   "metadata": {},
   "outputs": [],
   "source": [
    "def get_perfil_hours(x,y):\n",
    "    if x=='perfil':\n",
    "        return 6\n",
    "    else:\n",
    "        return y"
   ]
  },
  {
   "cell_type": "code",
   "execution_count": 12,
   "id": "e6d414d9-8fe0-4903-b532-a61d922d3d50",
   "metadata": {},
   "outputs": [],
   "source": [
    "lev = Levenshtein()"
   ]
  },
  {
   "cell_type": "markdown",
   "id": "c3a27afa-5929-40ab-bc88-d5371f31aa13",
   "metadata": {},
   "source": [
    "# EXTRACCIÓN DE DATOS"
   ]
  },
  {
   "cell_type": "code",
   "execution_count": 13,
   "id": "b8fa994a-a385-4cc0-b94c-5d2bc90b6022",
   "metadata": {},
   "outputs": [
    {
     "name": "stdout",
     "output_type": "stream",
     "text": [
      "############ FASE DE EXTRACCIÓN DE DATOS ############\n"
     ]
    }
   ],
   "source": [
    "print('############ FASE DE EXTRACCIÓN DE DATOS ############')"
   ]
  },
  {
   "cell_type": "markdown",
   "id": "1358d9c4-70cb-4c80-af85-799b531777a0",
   "metadata": {
    "id": "ZAb2UjZFkzwh",
    "tags": []
   },
   "source": [
    "## Catálogo Nacional de Cualificaciones - CNC \n",
    "\n",
    "- CNC para Operadores de Capacitación - CNCOC\n",
    "- CNC para Organismos Evaluadores de  la Conformidad - CNCOEC\n",
    "- CNC  Perfiles Inhabilitados - CNCPI"
   ]
  },
  {
   "cell_type": "code",
   "execution_count": 69,
   "id": "2a56a2b0-8abd-4b9b-98df-d69ead4962b1",
   "metadata": {},
   "outputs": [
    {
     "name": "stdout",
     "output_type": "stream",
     "text": [
      "ETL CNC\n"
     ]
    }
   ],
   "source": [
    "print('ETL CNC')"
   ]
  },
  {
   "cell_type": "markdown",
   "id": "63eddaed-c505-44cf-bc8b-dfaf52c513a9",
   "metadata": {
    "id": "VWx4LGntlVMF"
   },
   "source": [
    "### ETL CNCOC"
   ]
  },
  {
   "cell_type": "code",
   "execution_count": 70,
   "id": "2d6da2b7-d0c3-4cac-ba37-91596b5ce81d",
   "metadata": {
    "id": "DXnzxy-EfOya"
   },
   "outputs": [],
   "source": [
    "df_cncoc = pd.read_csv(os.path.join(path_sd,'cncoc.csv'))\n",
    "df_cncoc.insert(4, 'tipo', \"oc\")\n",
    "df_cncoc.insert(5, 'estado', \"habilitado\")"
   ]
  },
  {
   "cell_type": "code",
   "execution_count": 71,
   "id": "c395067e-600d-4964-8cc2-0782322615a2",
   "metadata": {
    "id": "5bRma65oXBhW"
   },
   "outputs": [],
   "source": [
    "# df_cncoc.info()"
   ]
  },
  {
   "cell_type": "markdown",
   "id": "38a817a5-3a3a-47e5-8601-5f8faf9b6f49",
   "metadata": {
    "id": "zu0ZfZL3mJQA"
   },
   "source": [
    "### ETL CNCOEC"
   ]
  },
  {
   "cell_type": "code",
   "execution_count": 73,
   "id": "5673b486-2bda-4997-89f5-ffc754a522f7",
   "metadata": {
    "id": "SPpYj32ymL0l"
   },
   "outputs": [],
   "source": [
    "df_cncoec = pd.read_csv(os.path.join(path_sd,'cncoec0.csv'))\n",
    "df_cncoec.insert(4, 'tipo', \"oec\")\n",
    "df_cncoec.insert(5, 'estado', \"habilitado\")"
   ]
  },
  {
   "cell_type": "code",
   "execution_count": 74,
   "id": "7b6e0a9b-286c-4616-a834-75c6dd475b87",
   "metadata": {
    "id": "qjh1y45RXO4G"
   },
   "outputs": [],
   "source": [
    "# df_cncoec.info()"
   ]
  },
  {
   "cell_type": "markdown",
   "id": "34787a9a-3537-4bfc-ab66-6a2ee1ebb475",
   "metadata": {
    "id": "5W9Ce-kNmMcO"
   },
   "source": [
    "### ETL CNCPI"
   ]
  },
  {
   "cell_type": "code",
   "execution_count": 75,
   "id": "23b3f6d8-e310-4e56-8700-d08f2dbeee9e",
   "metadata": {
    "id": "aLDcElUfo1Wz"
   },
   "outputs": [],
   "source": [
    "df_cncpi = pd.read_csv(os.path.join(path_sd,'cncpi0.csv'))\n",
    "df_cncpi.insert(1, 'competenecia_laboral', \"sin competencia laboral\")\n",
    "df_cncpi.insert(4, 'tipo', \"desconocido\")\n",
    "df_cncpi.insert(5, 'estado', \"inhabilidato\")"
   ]
  },
  {
   "cell_type": "code",
   "execution_count": 76,
   "id": "c7ad9d16-6764-4aaf-9d70-47eae2b7c89f",
   "metadata": {
    "id": "yludAgpYXzgh"
   },
   "outputs": [],
   "source": [
    "# df_cncpi.info()"
   ]
  },
  {
   "cell_type": "markdown",
   "id": "31388027-bd3f-40f5-a265-d6baf7507d54",
   "metadata": {
    "id": "Jky1Q-6ZqPtZ"
   },
   "source": [
    " ### **CNC** - INTEGRACIÓN DE DATOS"
   ]
  },
  {
   "cell_type": "code",
   "execution_count": 77,
   "id": "277d0ae2-d6a0-479d-8eab-1262bc889a43",
   "metadata": {
    "id": "uuIYxMwzsU-K"
   },
   "outputs": [],
   "source": [
    "df_cnc = pd.concat([df_cncoc,df_cncoec,df_cncpi],axis=0)\n",
    "df_cnc = df_cnc.apply(lambda x: x.astype(str).str.lower())"
   ]
  },
  {
   "cell_type": "code",
   "execution_count": 78,
   "id": "06cec7b3-5f86-4790-be22-047ae2dab530",
   "metadata": {
    "id": "l40F17Vebn7g"
   },
   "outputs": [],
   "source": [
    "df_cnc = df_cnc.drop_duplicates()"
   ]
  },
  {
   "cell_type": "code",
   "execution_count": 79,
   "id": "ce7a0eaa-ae21-44ba-b4ad-a3a57bc019bf",
   "metadata": {
    "id": "pOdTOSsqYaOO"
   },
   "outputs": [],
   "source": [
    "#df_cnc.tail()\n",
    "#df_cnc.info()"
   ]
  },
  {
   "cell_type": "markdown",
   "id": "1421c093-ad55-4e5d-942a-cbfee8feedd4",
   "metadata": {
    "id": "ng_3L5p_s_Dm"
   },
   "source": [
    "### Guardar datos CNC"
   ]
  },
  {
   "cell_type": "code",
   "execution_count": 80,
   "id": "698706c9-d0b5-4528-88cd-8ca455721600",
   "metadata": {
    "id": "tYfGT-KVsrjS"
   },
   "outputs": [],
   "source": [
    "df_cnc.to_csv(os.path.join(path_db,'cnc.csv'),index=False)"
   ]
  },
  {
   "cell_type": "markdown",
   "id": "ab8b000e-112a-41e1-b4d8-cd9b062899ed",
   "metadata": {
    "id": "53weQp7UtFOc"
   },
   "source": [
    "## Operadores de Capacitación - OC\n",
    "\n",
    "• [Operadores de Capacitación](http://portal.trabajo.gob.ec/setec-portal-web/pages/operadoresCapacitacion.jsf#j_idt24:j_idt25) - OC\n",
    "\n",
    "• [OC - Suspendidos](http://portal.trabajo.gob.ec/setec-portal-web/pages/operadoresCapacitacion.jsf#j_idt24:j_idt125) - OCS\n",
    "\n",
    "• [OC - Finalizaron su vigencia de Calificación](http://portal.trabajo.gob.ec/setec-portal-web/pages/operadoresCapacitacion.jsf#j_idt24:j_idt134) - OCF\n",
    "\n",
    "• [OC - Cancelados](http://portal.trabajo.gob.ec/setec-portal-web/pages/operadoresCapacitacion.jsf#j_idt24:j_idt144) - OCC\n"
   ]
  },
  {
   "cell_type": "code",
   "execution_count": 81,
   "id": "d883b65a-29cb-412a-b85a-d98a6d020869",
   "metadata": {},
   "outputs": [
    {
     "name": "stdout",
     "output_type": "stream",
     "text": [
      "ETL OC\n"
     ]
    }
   ],
   "source": [
    "print('ETL OC')"
   ]
  },
  {
   "cell_type": "markdown",
   "id": "15b6de4d-90d0-46f8-8afe-134acd24553c",
   "metadata": {
    "id": "DQmP98C4tk_D"
   },
   "source": [
    "### ETL OC"
   ]
  },
  {
   "cell_type": "code",
   "execution_count": 82,
   "id": "cbf251e5-3820-44fc-9273-8b849c832d4e",
   "metadata": {
    "id": "K5R5LaWYts8B"
   },
   "outputs": [],
   "source": [
    "df_oc = pd.read_csv(os.path.join(path_sd,'oc0.csv'))\n",
    "df_oc['ruc_o_codigo'] = df_oc['ruc_o_codigo'].astype('object')\n",
    "df_oc[\"nombre_comercial\"].fillna(\"Sin Nombre Comercial\", inplace = True) \n",
    "df_oc.insert(9, 'estado', df_oc.pop('estado'))"
   ]
  },
  {
   "cell_type": "code",
   "execution_count": 83,
   "id": "2af6d9ae-e255-4a2a-9b52-51692320257c",
   "metadata": {},
   "outputs": [],
   "source": [
    "df_oc['ruc_o_codigo'] = df_oc['ruc_o_codigo'].apply(lambda x: '0'+x if len(x)==12 else x)\n",
    "df_oc['celular'] = df_oc['celular'].apply(lambda x: '0'+x if len(x)==9 else x)"
   ]
  },
  {
   "cell_type": "code",
   "execution_count": 84,
   "id": "322eb48d-0afe-4a9c-b481-91e219aff04c",
   "metadata": {
    "id": "KV3ByWmEENMm"
   },
   "outputs": [],
   "source": [
    "#df_oc.head()\n",
    "#df_oc.info()"
   ]
  },
  {
   "cell_type": "markdown",
   "id": "b42713e4-4b85-4f76-94ac-5c2d7f9a16ea",
   "metadata": {
    "id": "CAVyFsTay8ZT"
   },
   "source": [
    "### ETL OCS"
   ]
  },
  {
   "cell_type": "code",
   "execution_count": 85,
   "id": "a0b0b1ac-ec88-4340-b534-4d4ea55a3ab9",
   "metadata": {
    "id": "D3QTbHK1uMfy"
   },
   "outputs": [],
   "source": [
    "df_ocs = pd.read_csv(os.path.join(path_sd,'ocs.csv'))\n",
    "df_ocs['ruc_o_codigo'] = df_ocs['ruc_o_codigo'].astype('object')\n",
    "df_ocs.insert(2, 'nombre_comercial', 'Sin Nombre Comercial')\n",
    "df_ocs.insert(3, 'telefono', 'Sin Teléfono')\n",
    "df_ocs.insert(4, 'celular', 'Sin Celular')\n",
    "df_ocs.insert(5, 'correo_electronico', 'Sin Email')\n",
    "df_ocs.insert(6, 'numero_resolucion', 'Sin Número Resolución')\n",
    "df_ocs.insert(7, 'fecha_resolucion', 'Sin Fecha Resolución')\n",
    "df_ocs.insert(8, 'canton', 'Sin Cantón')"
   ]
  },
  {
   "cell_type": "code",
   "execution_count": 86,
   "id": "31514e3b-e042-4a3d-a524-ca6d6de3652e",
   "metadata": {
    "id": "416tELntERqU"
   },
   "outputs": [],
   "source": [
    "#df_ocs.head()\n",
    "#df_ocs.info()"
   ]
  },
  {
   "cell_type": "markdown",
   "id": "fe63c7f6-f3cb-4b0c-85d5-029f8ee81c8a",
   "metadata": {
    "id": "tav2VpmDWN3s"
   },
   "source": [
    "### ETL OCC"
   ]
  },
  {
   "cell_type": "code",
   "execution_count": 87,
   "id": "b96f9319-c050-4483-b4f8-5b8d3df4da7f",
   "metadata": {
    "id": "g4xdN_z5ZS1s"
   },
   "outputs": [],
   "source": [
    "df_occ = pd.read_csv(os.path.join(path_sd,'occ.csv'))\n",
    "df_occ['ruc_o_codigo'] = df_occ['ruc_o_codigo'].astype('str')\n",
    "df_occ.insert(2, 'nombre_comercial', 'Sin Nombre Comercial')\n",
    "df_occ.insert(3, 'telefono', 'Sin Teléfono')\n",
    "df_occ.insert(4, 'celular', 'Sin Celular')\n",
    "df_occ.insert(5, 'correo_electronico', 'Sin Email')\n",
    "df_occ.insert(6, 'numero_resolucion', 'Sin Número Resolución')\n",
    "df_occ.insert(7, 'fecha_resolucion', 'Sin Fecha Resolución')\n",
    "df_occ.insert(8, 'canton', 'Sin Cantón')"
   ]
  },
  {
   "cell_type": "code",
   "execution_count": 88,
   "id": "d5fb1749-762e-4e86-97d6-59b65c32cc9e",
   "metadata": {},
   "outputs": [],
   "source": [
    "df_occ['ruc_o_codigo'] = df_occ['ruc_o_codigo'].apply(lambda x: '0'+x if len(x)==12 else x)"
   ]
  },
  {
   "cell_type": "code",
   "execution_count": 89,
   "id": "fa749112-3adf-4c85-8f71-23d339353ce6",
   "metadata": {
    "id": "NodvwnDmEe3H"
   },
   "outputs": [],
   "source": [
    "#df_occ.head()\n",
    "#df_occ.info()"
   ]
  },
  {
   "cell_type": "markdown",
   "id": "be2e84e9-d508-47ad-89c1-886914e6cac9",
   "metadata": {
    "id": "Siwhx6b2ZQLH"
   },
   "source": [
    "### ETL OCF"
   ]
  },
  {
   "cell_type": "code",
   "execution_count": 90,
   "id": "3c37b9e8-5847-4302-8b1b-b87b8b818c4a",
   "metadata": {
    "id": "EKcfmeeHuIHs"
   },
   "outputs": [],
   "source": [
    "df_ocf = pd.read_csv(os.path.join(path_sd,'ocf0.csv'))\n",
    "df_ocf['ruc_o_codigo'] = df_ocf['ruc_o_codigo'].astype('str')\n",
    "df_ocf.insert(2, 'nombre_comercial', 'Sin Nombre Comercial')\n",
    "df_ocf.insert(3, 'telefono', 'Sin Teléfono')\n",
    "df_ocf.insert(4, 'celular', 'Sin Celular')\n",
    "df_ocf.insert(5, 'correo_electronico', 'Sin Correo Electronico')\n",
    "df_ocf.insert(6, 'numero_resolucion', 'Sin Número Resolución')\n",
    "df_ocf.insert(7, 'fecha_resolucion', 'Sin Fecha Resolución')\n",
    "df_ocf.insert(8, 'canton', 'Sin Cantón')"
   ]
  },
  {
   "cell_type": "code",
   "execution_count": 91,
   "id": "3076c3d2-49d3-46c3-b86b-1451b63e9e48",
   "metadata": {
    "colab": {
     "base_uri": "https://localhost:8080/"
    },
    "executionInfo": {
     "elapsed": 209,
     "status": "ok",
     "timestamp": 1670123314644,
     "user": {
      "displayName": "Sergio Jimenez",
      "userId": "03709241177248490041"
     },
     "user_tz": 300
    },
    "id": "UocjqTHIGG1U",
    "outputId": "2eb02001-7265-492b-e48d-dce7ec9539ae"
   },
   "outputs": [],
   "source": [
    "df_ocf['ruc_o_codigo'] = df_ocf['ruc_o_codigo'].apply(lambda x: '0'+x if len(x)==12 else x)"
   ]
  },
  {
   "cell_type": "code",
   "execution_count": 92,
   "id": "30d27c2e-cd20-4c29-aec2-a3fc0ac9d337",
   "metadata": {},
   "outputs": [],
   "source": [
    "#df_ocf.head()\n",
    "#df_ocf.info()"
   ]
  },
  {
   "cell_type": "markdown",
   "id": "a5c917ee-3deb-4c12-92a1-77713581cfee",
   "metadata": {
    "id": "Vh8ENpmAWy0A"
   },
   "source": [
    "### DATOS LIMPIOS OC"
   ]
  },
  {
   "cell_type": "code",
   "execution_count": 93,
   "id": "ec48c7f4-f123-4a15-b751-dec8d2cd6470",
   "metadata": {
    "id": "GVlTr6c-W6gL"
   },
   "outputs": [],
   "source": [
    "df_oc = pd.concat([df_oc,df_ocs,df_ocf,df_occ],axis=0)\n",
    "df_oc = df_oc.apply(lambda x: x.astype(str).str.lower())\n",
    "df_oc = df_oc.drop_duplicates()\n",
    "df_oc = df_oc.drop_duplicates(subset='razon_social',keep='first')"
   ]
  },
  {
   "cell_type": "code",
   "execution_count": 94,
   "id": "518e142b-1898-4a23-b336-84f86f91a207",
   "metadata": {
    "colab": {
     "base_uri": "https://localhost:8080/"
    },
    "executionInfo": {
     "elapsed": 232,
     "status": "ok",
     "timestamp": 1670126718929,
     "user": {
      "displayName": "Sergio Jimenez",
      "userId": "03709241177248490041"
     },
     "user_tz": 300
    },
    "id": "h7CycEl-HfcW",
    "outputId": "a7dd9b46-5506-45d3-c3b9-428986768d66"
   },
   "outputs": [],
   "source": [
    "#df_oc.head()\n",
    "#df_OC.info()"
   ]
  },
  {
   "cell_type": "markdown",
   "id": "d2e63eee-ebd3-4530-a658-af1ccb450990",
   "metadata": {
    "id": "3irbh91bGSDR"
   },
   "source": [
    "### Guardar datos OC"
   ]
  },
  {
   "cell_type": "code",
   "execution_count": 95,
   "id": "7c92848b-069b-4eb8-981f-c5cb822a94f3",
   "metadata": {
    "id": "vkC_P2l4XNMf"
   },
   "outputs": [],
   "source": [
    "df_oc.to_csv(os.path.join(path_db,'oc.csv'),index=False)"
   ]
  },
  {
   "cell_type": "markdown",
   "id": "884ae9a6-a7c9-4f0a-a049-dab4c75d56bd",
   "metadata": {
    "id": "kgtmYINPatOh"
   },
   "source": [
    "### ETL OC_CC"
   ]
  },
  {
   "cell_type": "code",
   "execution_count": 54,
   "id": "5b760e51-220b-464d-af16-7b3ac32b345f",
   "metadata": {
    "id": "A23oAFWza00e"
   },
   "outputs": [],
   "source": [
    "df_oc_cc = pd.read_csv(os.path.join(path_sd,'oc_cc0.csv'))\n",
    "df_oc_cc = df_oc_cc.dropna(subset=['area','especialidad','curso','modalidad','carga_horaria'])\n",
    "df_oc_cc = df_oc_cc.apply(lambda x: x.astype(str).str.lower())\n",
    "df_oc_cc['carga_horaria'] = df_oc_cc['carga_horaria'].astype('int64')\n",
    "df_oc_cc = df_oc_cc.drop_duplicates()"
   ]
  },
  {
   "cell_type": "code",
   "execution_count": 55,
   "id": "ba6ed10f-1bfe-4510-9b4c-9708593536fb",
   "metadata": {
    "id": "rThWKmLAIw_y"
   },
   "outputs": [],
   "source": [
    "#df_oc_cc.head()\n",
    "#df_oc_cc.info()"
   ]
  },
  {
   "cell_type": "markdown",
   "id": "244741ce-ed26-40a0-b92d-a77870549964",
   "metadata": {
    "id": "OKSknk8TGbgg"
   },
   "source": [
    "### Guardar datos OC_CC"
   ]
  },
  {
   "cell_type": "code",
   "execution_count": 56,
   "id": "57483df8-1bd8-403c-ae8c-b027cd729d1f",
   "metadata": {
    "id": "BnqJehR6bRXN"
   },
   "outputs": [],
   "source": [
    "df_oc_cc.to_csv(os.path.join(path_db,'oc_cc.csv'),index=False)"
   ]
  },
  {
   "cell_type": "markdown",
   "id": "31287a82-1875-4796-8bd8-ca0365efd795",
   "metadata": {
    "id": "T9WommIObvg8"
   },
   "source": [
    "### ETL OC_CL"
   ]
  },
  {
   "cell_type": "code",
   "execution_count": 99,
   "id": "44283586-2155-4981-a2a0-436ce4959cd7",
   "metadata": {
    "colab": {
     "base_uri": "https://localhost:8080/"
    },
    "executionInfo": {
     "elapsed": 218,
     "status": "ok",
     "timestamp": 1666275347629,
     "user": {
      "displayName": "Sergio Jimenez",
      "userId": "03709241177248490041"
     },
     "user_tz": 300
    },
    "id": "Uod-4gw-bzYO",
    "outputId": "fbf6e56e-aca2-42e7-c57f-5bae774980ae"
   },
   "outputs": [],
   "source": [
    "df_oc_cl = pd.read_csv(os.path.join(path_sd,'oc_cl0.csv'))\n",
    "df_oc_cl = df_oc_cl.apply(lambda x: x.astype(str).str.lower())\n",
    "df_oc_cl = df_oc_cl.drop_duplicates()"
   ]
  },
  {
   "cell_type": "code",
   "execution_count": 100,
   "id": "07d2149a-412b-4ef5-aab1-38b15fb2ede7",
   "metadata": {},
   "outputs": [],
   "source": [
    "#df_oc_cl.head()\n",
    "#df_oc_cl.info()"
   ]
  },
  {
   "cell_type": "markdown",
   "id": "50eb2318-cb79-4416-8df2-9d04e6c0fe7e",
   "metadata": {
    "id": "Jx6uRYeuGg05"
   },
   "source": [
    "### Guardar datos OC_CL"
   ]
  },
  {
   "cell_type": "code",
   "execution_count": 101,
   "id": "a6772132-44a1-468e-b2b1-0607e92acaf3",
   "metadata": {
    "id": "G-HoQ81kb8tv"
   },
   "outputs": [],
   "source": [
    "df_oc_cl.to_csv(os.path.join(path_db,'oc_cl.csv'),index=False)"
   ]
  },
  {
   "cell_type": "markdown",
   "id": "1c9c481d-a8bc-4556-a1a7-0b0970ef0c14",
   "metadata": {
    "id": "1nA3GQd7cM-V"
   },
   "source": [
    "## Personas Capacitadas por OC - PCOC\n",
    "\n",
    "• [Búsqueda Personas Capacitadas](http://portal.trabajo.gob.ec/setec-portal-web/pages/personasCapacitadasOperadores.jsf#j_idt24:j_idt25) - PCOC"
   ]
  },
  {
   "cell_type": "code",
   "execution_count": 102,
   "id": "d48c99c5-a1bb-4123-96dc-357c4d241763",
   "metadata": {},
   "outputs": [
    {
     "name": "stdout",
     "output_type": "stream",
     "text": [
      "ETL PCOC\n"
     ]
    }
   ],
   "source": [
    "print('ETL PCOC')"
   ]
  },
  {
   "cell_type": "code",
   "execution_count": 103,
   "id": "f6a9863b-e1d2-4b08-b8b4-d5c19aac7245",
   "metadata": {
    "colab": {
     "base_uri": "https://localhost:8080/"
    },
    "executionInfo": {
     "elapsed": 1890,
     "status": "ok",
     "timestamp": 1666275698164,
     "user": {
      "displayName": "Sergio Jimenez",
      "userId": "03709241177248490041"
     },
     "user_tz": 300
    },
    "id": "e_F_8QMWcSMa",
    "outputId": "dfb5c3ca-79b0-40a7-fb8f-c5f0ae143a3f"
   },
   "outputs": [],
   "source": [
    "df_pcoc = pd.read_csv(os.path.join(path_sd,'pcoc.csv'))\n",
    "df_pcoc[\"numero_documento\"].fillna(\"Sin Número Documento\", inplace = True)\n",
    "df_pcoc[\"apellidos_nombres\"].fillna(\"Sin Apellidos y Nombres\", inplace = True)\n",
    "df_pcoc[\"numero_horas\"].fillna(0, inplace = True)\n",
    "df_pcoc[\"numero_horas\"]=df_pcoc[\"numero_horas\"].astype('int64')\n",
    "df_pcoc[\"razon_social_oc\"].fillna(\"Sin Razón Social OC\", inplace = True)\n",
    "df_pcoc[\"nombre_comercial_oc\"].fillna(\"Sin Nombre Comercial OC\", inplace = True)\n",
    "df_pcoc = df_pcoc.apply(lambda x: x.astype(str).str.lower())\n",
    "df_pcoc[\"numero_horas\"]=df_pcoc[\"numero_horas\"].astype('int64')\n",
    "df_pcoc = df_pcoc.drop_duplicates()    "
   ]
  },
  {
   "cell_type": "code",
   "execution_count": 104,
   "id": "deaea957-57aa-4995-b83c-9b71b935b2af",
   "metadata": {
    "id": "jFXt0ZrhKn_-"
   },
   "outputs": [],
   "source": [
    "#df_pcoc.head()\n",
    "#df_pcoc.info()"
   ]
  },
  {
   "cell_type": "code",
   "execution_count": 105,
   "id": "fbed951e-f049-4406-bdeb-e7d21c047122",
   "metadata": {
    "id": "nQUOOaWUdhnY"
   },
   "outputs": [],
   "source": [
    "df_pcoc.to_csv(os.path.join(path_db,'pcoc.csv'),index=False)"
   ]
  },
  {
   "cell_type": "markdown",
   "id": "895c30c4-a7b7-4efd-b34d-12350dc9e193",
   "metadata": {
    "id": "2Fp1wCiTY-qs"
   },
   "source": [
    "## Organismos Evaluadores de  la Conformidad - OEC\n",
    "\n",
    "• [Organismos Evaluadores de la Conformidad](http://portal.trabajo.gob.ec/setec-portal-web/pages/evaluadoresConformidad.jsf#j_idt24:j_idt25) - OEC\n",
    "\n",
    "• [OEC - Suspendidos](http://portal.trabajo.gob.ec/setec-portal-web/pages/evaluadoresConformidad.jsf#j_idt24:j_idt103) - OECS\n",
    "\n",
    "• [OEC - Finalizaron su vigencia de Reconocimiento](http://portal.trabajo.gob.ec/setec-portal-web/pages/evaluadoresConformidad.jsf#j_idt24:j_idt112) - OECF\n",
    "\n",
    "• [OEC - Cancelados](http://portal.trabajo.gob.ec/setec-portal-web/pages/evaluadoresConformidad.jsf#j_idt24:j_idt122) - OECC"
   ]
  },
  {
   "cell_type": "code",
   "execution_count": 106,
   "id": "ce7e807d-2b45-4e6e-93df-9ba7cbf2135e",
   "metadata": {},
   "outputs": [
    {
     "name": "stdout",
     "output_type": "stream",
     "text": [
      "ETL OEC\n"
     ]
    }
   ],
   "source": [
    "print('ETL OEC')"
   ]
  },
  {
   "cell_type": "markdown",
   "id": "3df27f75-be97-41a1-a765-926f1dc88489",
   "metadata": {
    "id": "Cz_o_WfmaCtZ"
   },
   "source": [
    "### ETL OEC"
   ]
  },
  {
   "cell_type": "code",
   "execution_count": 107,
   "id": "74d90b72-d104-4efd-9b45-a454ba5ba87d",
   "metadata": {
    "colab": {
     "base_uri": "https://localhost:8080/"
    },
    "executionInfo": {
     "elapsed": 1399,
     "status": "ok",
     "timestamp": 1667837706414,
     "user": {
      "displayName": "Sergio Jimenez",
      "userId": "03709241177248490041"
     },
     "user_tz": 300
    },
    "id": "Q3Ii7zBwY7GY",
    "outputId": "ec853b3f-11ce-46b8-ae4e-98f369ea6149"
   },
   "outputs": [],
   "source": [
    "df_oec = pd.read_csv(os.path.join(path_sd,'oec0.csv'))\n",
    "df_oec['celular'] = df_oec['celular'].astype('object')\n",
    "df_oec = df_oec.apply(lambda x: x.astype(str).str.lower())\n",
    "df_oec['ruc_o_codigo'] = df_oec['ruc_o_codigo'].apply(lambda x: '0'+x if len(x)==12 else x)\n",
    "df_oec['celular'] = df_oec['celular'].apply(lambda x: '0'+x if len(x)==9 else x)\n",
    "df_oec = df_oec.drop_duplicates()"
   ]
  },
  {
   "cell_type": "code",
   "execution_count": 108,
   "id": "63b4924a-73a2-4495-ac81-7cc634dfe449",
   "metadata": {},
   "outputs": [],
   "source": [
    "#df_oec.head()\n",
    "#df_oec.info()"
   ]
  },
  {
   "cell_type": "markdown",
   "id": "0bfc66e2-9ae8-4117-9c4a-6f92cadc49a4",
   "metadata": {
    "id": "JeWQ5Q8qeeIt"
   },
   "source": [
    "### ETL OECS"
   ]
  },
  {
   "cell_type": "code",
   "execution_count": 109,
   "id": "fb2d6a1b-6c8f-4d2e-a832-c786b291f889",
   "metadata": {
    "colab": {
     "base_uri": "https://localhost:8080/"
    },
    "executionInfo": {
     "elapsed": 715,
     "status": "ok",
     "timestamp": 1667837728936,
     "user": {
      "displayName": "Sergio Jimenez",
      "userId": "03709241177248490041"
     },
     "user_tz": 300
    },
    "id": "0oRtTLDoeh8f",
    "outputId": "57d75c4e-b2a3-4778-dfde-ee3b2f9714db"
   },
   "outputs": [],
   "source": [
    "df_oecs = pd.read_csv(os.path.join(path_sd,'oecs.csv'))\n",
    "df_oecs.insert(2, 'direccion', 'Sin Dirección')\n",
    "df_oecs.insert(3, 'telefono', 'Sin Teléfono')\n",
    "df_oecs.insert(4, 'celular', 'Sin Celular')\n",
    "df_oecs.insert(5, 'correo_electronico', 'Sin Email')\n",
    "df_oecs.insert(6, 'numero_resolucion', 'Sin Número Resolución')\n",
    "df_oecs.insert(7, 'fecha_resolucion', 'Sin Fecha Resolución')\n",
    "df_oecs.insert(8, 'canton', 'Sin Cantón')\n",
    "df_oecs = df_oecs.apply(lambda x: x.astype(str).str.lower())"
   ]
  },
  {
   "cell_type": "code",
   "execution_count": 110,
   "id": "d143f273-7a32-4c4c-aaa8-cee1c5561d91",
   "metadata": {},
   "outputs": [],
   "source": [
    "df_oecs['ruc_o_codigo'] = df_oecs['ruc_o_codigo'].apply(lambda x: '0'+x if len(x)==12 else x)"
   ]
  },
  {
   "cell_type": "code",
   "execution_count": 111,
   "id": "6fb87615-80db-4b12-9654-a227b03d4467",
   "metadata": {},
   "outputs": [],
   "source": [
    "#df_oecs.head()\n",
    "#df_oecs.info()"
   ]
  },
  {
   "cell_type": "markdown",
   "id": "2e3c3ab9-910a-433e-83b7-4e9cd8a90178",
   "metadata": {
    "id": "IkoZwzy4gGkl"
   },
   "source": [
    "### ETL OECF"
   ]
  },
  {
   "cell_type": "code",
   "execution_count": 112,
   "id": "5d9dee9a-44e9-40d7-95e9-0f6c2b58de95",
   "metadata": {
    "colab": {
     "base_uri": "https://localhost:8080/"
    },
    "executionInfo": {
     "elapsed": 671,
     "status": "ok",
     "timestamp": 1667837731617,
     "user": {
      "displayName": "Sergio Jimenez",
      "userId": "03709241177248490041"
     },
     "user_tz": 300
    },
    "id": "KzovkkyKePkn",
    "outputId": "720c6efa-c492-4bdd-c039-28b7923774b5"
   },
   "outputs": [],
   "source": [
    "df_oecf = pd.read_csv(os.path.join(path_sd,'oecf0.csv'))\n",
    "df_oecf.insert(2, 'direccion', 'Sin Dirección')\n",
    "df_oecf.insert(3, 'telefono', 'Sin Teléfono')\n",
    "df_oecf.insert(4, 'celular', 'Sin Celular')\n",
    "df_oecf.insert(5, 'correo_electronico', 'Sin Email')\n",
    "df_oecf.insert(6, 'numero_resolucion', 'Sin Número Resolución')\n",
    "df_oecf.insert(7, 'fecha_resolucion', 'Sin Fecha Resolución')\n",
    "df_oecf.insert(8, 'canton', 'Sin Cantón')\n",
    "df_oecf = df_oecf.apply(lambda x: x.astype(str).str.lower())\n",
    "df_oecs['ruc_o_codigo'] = df_oecs['ruc_o_codigo'].apply(lambda x: '0'+x if len(x)==12 else x)"
   ]
  },
  {
   "cell_type": "code",
   "execution_count": 113,
   "id": "5530c221-1704-43b5-af17-be9530d6db36",
   "metadata": {},
   "outputs": [],
   "source": [
    "#df_oecf.head()\n",
    "#df_oecf.info()"
   ]
  },
  {
   "cell_type": "markdown",
   "id": "88eff452-e13f-42ef-9ee9-8d10d1f776c2",
   "metadata": {
    "id": "ULvq4WPZgIH9"
   },
   "source": [
    "### ETL OECC"
   ]
  },
  {
   "cell_type": "code",
   "execution_count": 114,
   "id": "d138babd-bfb3-40a1-a842-a5dbbcca30ba",
   "metadata": {
    "colab": {
     "base_uri": "https://localhost:8080/"
    },
    "executionInfo": {
     "elapsed": 966,
     "status": "ok",
     "timestamp": 1667837733910,
     "user": {
      "displayName": "Sergio Jimenez",
      "userId": "03709241177248490041"
     },
     "user_tz": 300
    },
    "id": "RBhiU6xxf7wM",
    "outputId": "879b92f4-9282-4203-e448-dc7247b9bad9"
   },
   "outputs": [],
   "source": [
    "df_oecc = pd.read_csv(os.path.join(path_sd,'oecc.csv'))\n",
    "df_oecc.insert(2, 'direccion', 'Sin Dirección')\n",
    "df_oecc.insert(3, 'telefono', 'Sin Teléfono')\n",
    "df_oecc.insert(4, 'celular', 'Sin Celular')\n",
    "df_oecc.insert(5, 'correo_electronico', 'Sin Email')\n",
    "df_oecc.insert(6, 'numero_resolucion', 'Sin Número Resolución')\n",
    "df_oecc.insert(7, 'fecha_resolucion', 'Sin Fecha Resolución')\n",
    "df_oecc.insert(8, 'canton', 'Sin Cantón')                               \n",
    "df_oecc = df_oecc.apply(lambda x: x.astype(str).str.lower())\n",
    "df_oecc['ruc_o_codigo'] = df_oecc['ruc_o_codigo'].apply(lambda x: '0'+x if len(x)==12 else x)"
   ]
  },
  {
   "cell_type": "code",
   "execution_count": 115,
   "id": "76fa7e7c-e03d-4bf9-b7a1-800dea1a8675",
   "metadata": {},
   "outputs": [],
   "source": [
    "#df_oecc.head()\n",
    "#df_oecc.info()"
   ]
  },
  {
   "cell_type": "markdown",
   "id": "cded6aeb-790e-4474-bcf5-00e619e9a783",
   "metadata": {
    "id": "XGizLJlRgJS2"
   },
   "source": [
    "### DATOS LIMPIOS OEC"
   ]
  },
  {
   "cell_type": "code",
   "execution_count": 116,
   "id": "e0332b99-51e2-4968-b7bd-9f8abdf9e87e",
   "metadata": {
    "colab": {
     "base_uri": "https://localhost:8080/"
    },
    "executionInfo": {
     "elapsed": 300,
     "status": "ok",
     "timestamp": 1667837736464,
     "user": {
      "displayName": "Sergio Jimenez",
      "userId": "03709241177248490041"
     },
     "user_tz": 300
    },
    "id": "df6k4OujgMP1",
    "outputId": "e43af870-3281-44a4-e783-0a734d1519cf"
   },
   "outputs": [],
   "source": [
    "df_oec = pd.concat([df_oec,df_oecs,df_oecf,df_oecc],axis=0)\n",
    "df_oec = df_oec.drop_duplicates()\n",
    "df_oec = df_oec.drop_duplicates(subset='razon_social',keep='first')"
   ]
  },
  {
   "cell_type": "code",
   "execution_count": 117,
   "id": "3d7bd566-0bdf-4413-af08-c1d78858004e",
   "metadata": {},
   "outputs": [],
   "source": [
    "#df_OEC.head()\n",
    "#df_OEC.info()"
   ]
  },
  {
   "cell_type": "markdown",
   "id": "9716cb29-8cf6-43fb-bfae-3e142708a073",
   "metadata": {
    "id": "gzhqr2iQGp5n"
   },
   "source": [
    "### Guardar datos OEC"
   ]
  },
  {
   "cell_type": "code",
   "execution_count": 118,
   "id": "b9f3d6ac-8b69-4020-a810-1245a023e2dc",
   "metadata": {
    "id": "PHNP_3T9gDVW"
   },
   "outputs": [],
   "source": [
    "df_oec.to_csv(os.path.join(path_db,'oec.csv'),index=False)"
   ]
  },
  {
   "cell_type": "markdown",
   "id": "f32fa8f6-636b-4c31-b1a4-314aa497000e",
   "metadata": {
    "id": "2iJYmLlphJ6f"
   },
   "source": [
    "### ETL OEC_DR"
   ]
  },
  {
   "cell_type": "code",
   "execution_count": 119,
   "id": "ed54cb96-1fcc-4a68-b81b-6c2ca5c25f6f",
   "metadata": {
    "colab": {
     "base_uri": "https://localhost:8080/"
    },
    "executionInfo": {
     "elapsed": 5,
     "status": "ok",
     "timestamp": 1666276584696,
     "user": {
      "displayName": "Sergio Jimenez",
      "userId": "03709241177248490041"
     },
     "user_tz": 300
    },
    "id": "Z4B7HpU2hHCn",
    "outputId": "3297399a-0b49-4feb-b516-2fae2cac431b"
   },
   "outputs": [],
   "source": [
    "df_oec_dr = pd.read_csv(os.path.join(path_sd,'oec_dr0.csv'))\n",
    "df_oec_dr[\"perfil\"].fillna(\"Sin Perfil\", inplace = True)\n",
    "df_oec_dr[\"esquema_de_certificacion\"].fillna(\"Sin Esquema de Certificación\", inplace = True)\n",
    "df_oec_dr = df_oec_dr.apply(lambda x: x.astype(str).str.lower())\n",
    "df_oec_dr['ruc_o_codigo'] = df_oec_dr['ruc_o_codigo'].apply(lambda x: '0'+x if len(x)==12 else x)\n",
    "df_oec_dr = df_oec_dr.drop_duplicates()"
   ]
  },
  {
   "cell_type": "code",
   "execution_count": 120,
   "id": "f8ef72ea-7d78-458d-9014-c06ea8cc11d0",
   "metadata": {},
   "outputs": [],
   "source": [
    "#df_oec_dr.head()\n",
    "#df_oec_dr.info()"
   ]
  },
  {
   "cell_type": "markdown",
   "id": "86559ccf-3217-4ad6-a60b-df59f3627716",
   "metadata": {
    "id": "yIilWkS6GtWK"
   },
   "source": [
    "### Guardar datos OEC_DR"
   ]
  },
  {
   "cell_type": "code",
   "execution_count": 121,
   "id": "d150ce9b-987c-45b9-aec2-6ca020cf665d",
   "metadata": {
    "id": "IjJ4Cdbtil43"
   },
   "outputs": [],
   "source": [
    "df_oec_dr.to_csv(os.path.join(path_db,'oec_dr.csv'),index=False)"
   ]
  },
  {
   "cell_type": "markdown",
   "id": "cc6cea67-d817-464a-98ce-4e203b227509",
   "metadata": {
    "id": "LPQ3uyN6miXw"
   },
   "source": [
    "## Personas Certificadas por OEC - PCOEC\n",
    "\n",
    "• [Búsqueda Personas Certificadas](http://portal.trabajo.gob.ec/setec-portal-web/pages/legitimidadCertificacion.jsf#j_idt24:j_idt25) - PCOEC"
   ]
  },
  {
   "cell_type": "code",
   "execution_count": 122,
   "id": "4197c4c7-518b-4d02-93af-e99cd777936d",
   "metadata": {},
   "outputs": [
    {
     "name": "stdout",
     "output_type": "stream",
     "text": [
      "ETL PCOEC\n"
     ]
    }
   ],
   "source": [
    "print('ETL PCOEC')"
   ]
  },
  {
   "cell_type": "code",
   "execution_count": 123,
   "id": "252774ca-e6ca-43f1-b6ca-fed09443e60f",
   "metadata": {
    "colab": {
     "base_uri": "https://localhost:8080/"
    },
    "executionInfo": {
     "elapsed": 2803,
     "status": "ok",
     "timestamp": 1666276796481,
     "user": {
      "displayName": "Sergio Jimenez",
      "userId": "03709241177248490041"
     },
     "user_tz": 300
    },
    "id": "NJ9d2qxFiqwP",
    "outputId": "b959dbe8-00e9-4446-9320-23287cc4d656"
   },
   "outputs": [],
   "source": [
    "df_pcoec = pd.read_csv(os.path.join(path_sd,'pcoec.csv'))\n",
    "\n",
    "df_pcoec = df_pcoec.apply(lambda x: x.astype(str).str.lower())\n",
    "df_pcoec['ruc_o_codigo'] = df_pcoec['ruc_o_codigo'].apply(lambda x: '0'+x if len(x)==12 else x)\n",
    "df_pcoec['celular'] = df_pcoec['celular'].apply(lambda x: '0'+x if len(x)==9 else x)\n",
    "df_pcoec = df_pcoec.drop_duplicates()"
   ]
  },
  {
   "cell_type": "code",
   "execution_count": 124,
   "id": "1a75cf71-c5a7-4665-aee7-064f3593d0a8",
   "metadata": {},
   "outputs": [],
   "source": [
    "#df_pcoec.head()\n",
    "#df_pcoec.info()"
   ]
  },
  {
   "cell_type": "markdown",
   "id": "750a4c76-90e9-47a6-9dcd-baf958721411",
   "metadata": {
    "id": "kiB1LVa8GzEw"
   },
   "source": [
    "### Guardar datos PCOEC"
   ]
  },
  {
   "cell_type": "code",
   "execution_count": 125,
   "id": "63a1eb2f-e5f0-4e51-85c0-675a74eaeb5f",
   "metadata": {
    "id": "RaUMbFsVo6CG"
   },
   "outputs": [],
   "source": [
    "df_pcoec.to_csv(os.path.join(path_db,'pcoec.csv'),index=False)"
   ]
  },
  {
   "cell_type": "markdown",
   "id": "28746b63-78f4-4d36-be59-e42d485320f2",
   "metadata": {
    "id": "6nTZQVaopGGO"
   },
   "source": [
    "## Capacitadores Independientes - CI\n",
    "\n",
    "• [Búsqueda de Capacitadores Independientes](http://portal.trabajo.gob.ec/setec-portal-web/pages/operadoresCapacitacionIndependientes.jsf#j_idt24:j_idt25) - CI"
   ]
  },
  {
   "cell_type": "code",
   "execution_count": 126,
   "id": "f4a40b30-de38-44bd-a85f-9ad7f6b40032",
   "metadata": {},
   "outputs": [
    {
     "name": "stdout",
     "output_type": "stream",
     "text": [
      "ETL CI\n"
     ]
    }
   ],
   "source": [
    "print('ETL CI')"
   ]
  },
  {
   "cell_type": "markdown",
   "id": "8cb5a115-dff2-4d7f-9768-2c023b74fc94",
   "metadata": {
    "id": "aZ8NFoxJpNOF"
   },
   "source": [
    "### ETL CI"
   ]
  },
  {
   "cell_type": "code",
   "execution_count": 252,
   "id": "ac755123-6dd8-425b-acc3-1e334185071f",
   "metadata": {
    "colab": {
     "base_uri": "https://localhost:8080/"
    },
    "executionInfo": {
     "elapsed": 446,
     "status": "ok",
     "timestamp": 1666276996713,
     "user": {
      "displayName": "Sergio Jimenez",
      "userId": "03709241177248490041"
     },
     "user_tz": 300
    },
    "id": "xMXS6RfYpEe4",
    "outputId": "3beac102-f27f-42df-dbf6-69e9690335c0"
   },
   "outputs": [],
   "source": [
    "df_ci = pd.read_csv(os.path.join(path_sd,'ci0.csv'))\n",
    "df_ci = df_ci.apply(lambda x: x.astype(str).str.lower())\n",
    "df_ci['numero_documento'] = df_ci['numero_documento'].apply(lambda x: '0'+x if len(x)==9 else x)\n",
    "df_ci['celular'] = df_ci['celular'].apply(lambda x: '0'+x if len(x)==9 else x)\n",
    "df_ci = df_ci.drop_duplicates()\n",
    "df_ci = df_ci.rename(columns={'apellidos_nombres':'razon_social'})\n",
    "df_ci = df_ci.rename(columns={'codigo_resolucion':'fecha_resolucion'})"
   ]
  },
  {
   "cell_type": "code",
   "execution_count": 26,
   "id": "a9b2bef5-576c-442d-8e91-e0fc8b000b51",
   "metadata": {},
   "outputs": [],
   "source": [
    "#df_ci.head()\n",
    "#df_ci.info()"
   ]
  },
  {
   "cell_type": "markdown",
   "id": "7328cbc5-d2d5-4884-ad02-885613ae864a",
   "metadata": {
    "id": "D2WSfmtOG2WY"
   },
   "source": [
    "### Guardar datos CI"
   ]
  },
  {
   "cell_type": "code",
   "execution_count": 27,
   "id": "90f89346-54c0-495e-af65-8f5c3537b4d2",
   "metadata": {
    "id": "2HWludjlprZA"
   },
   "outputs": [],
   "source": [
    "df_ci.to_csv(os.path.join(path_db,'ci.csv'),index=False)"
   ]
  },
  {
   "cell_type": "markdown",
   "id": "015308f3-2a09-47bb-920d-84601dbdddb6",
   "metadata": {
    "id": "-Mvx60T_0wYz"
   },
   "source": [
    "### ETL CI_LCA"
   ]
  },
  {
   "cell_type": "code",
   "execution_count": 130,
   "id": "e81f4869-8779-45ec-b1fe-6ec2b8a51206",
   "metadata": {
    "colab": {
     "base_uri": "https://localhost:8080/"
    },
    "executionInfo": {
     "elapsed": 411,
     "status": "ok",
     "timestamp": 1666277155339,
     "user": {
      "displayName": "Sergio Jimenez",
      "userId": "03709241177248490041"
     },
     "user_tz": 300
    },
    "id": "mOOQH0Rc0l-D",
    "outputId": "4cbb6ad0-a3f3-4048-8755-8cea883579ca"
   },
   "outputs": [],
   "source": [
    "df_ci_lca =pd.read_csv(os.path.join(path_sd,'ci_lca0.csv'))\n",
    "df_ci_lca[\"carga_horaria\"].fillna(0, inplace = True)\n",
    "df_ci_lca[\"carga_horaria\"]=df_ci_lca[\"carga_horaria\"].astype('int64')\n",
    "df_ci_lca = df_ci_lca.apply(lambda x: x.astype(str).str.lower())\n",
    "df_ci_lca[\"carga_horaria\"]=df_ci_lca[\"carga_horaria\"].astype('int64')\n",
    "df_ci_lca = df_ci_lca.drop_duplicates()"
   ]
  },
  {
   "cell_type": "code",
   "execution_count": 131,
   "id": "4587cb54-933a-4190-9a4d-fabf9988c878",
   "metadata": {},
   "outputs": [],
   "source": [
    "#df_ci_lca.head()\n",
    "#df_ci_lca.info()"
   ]
  },
  {
   "cell_type": "markdown",
   "id": "12d3700b-a326-4789-8168-9e28f132b6c3",
   "metadata": {
    "id": "Skpgv4M1G45p"
   },
   "source": [
    "### Guardar datos CI_LCA"
   ]
  },
  {
   "cell_type": "code",
   "execution_count": 132,
   "id": "8033ce10-5ae4-42a0-ae99-d2b91a24ea72",
   "metadata": {
    "id": "GL-pc3k_4Pj9"
   },
   "outputs": [],
   "source": [
    "df_ci_lca.to_csv(os.path.join(path_db,'ci_lca.csv'),index=False)"
   ]
  },
  {
   "cell_type": "markdown",
   "id": "5b7d0dcf-312a-40af-b0a9-4740d45fe976",
   "metadata": {
    "id": "2Gi_EegOp9TR"
   },
   "source": [
    "## Personas Capacitadas por CI - PCCI\n",
    "\n",
    "• [Búsqueda de Personas Capacitadas](http://portal.trabajo.gob.ec/setec-portal-web/pages/personasCapacitadas.jsf#j_idt24:j_idt25) - PCCI"
   ]
  },
  {
   "cell_type": "code",
   "execution_count": 133,
   "id": "45e40d1f-4c8b-49f2-aa64-3d2df910368d",
   "metadata": {},
   "outputs": [
    {
     "name": "stdout",
     "output_type": "stream",
     "text": [
      "ETL PCCI\n"
     ]
    }
   ],
   "source": [
    "print('ETL PCCI')"
   ]
  },
  {
   "cell_type": "code",
   "execution_count": 259,
   "id": "24c154c2-d5b9-4eda-9518-20f4059f546f",
   "metadata": {
    "colab": {
     "base_uri": "https://localhost:8080/"
    },
    "executionInfo": {
     "elapsed": 1327,
     "status": "ok",
     "timestamp": 1666277295428,
     "user": {
      "displayName": "Sergio Jimenez",
      "userId": "03709241177248490041"
     },
     "user_tz": 300
    },
    "id": "9jIqi9tbp8m4",
    "outputId": "1a338e20-2301-4e77-a642-5a7a33a15991"
   },
   "outputs": [],
   "source": [
    "df_pcci =pd.read_csv(os.path.join(path_sd,'pcci.csv'))\n",
    "df_pcci = df_pcci.apply(lambda x: x.astype(str).str.lower())\n",
    "df_pcci[\"numero_horas\"]=df_pcci[\"numero_horas\"].astype('int64')\n",
    "df_pcci = df_pcci.drop_duplicates()"
   ]
  },
  {
   "cell_type": "code",
   "execution_count": 261,
   "id": "7f15c89a-a6dc-4c34-a818-f38899e0cb60",
   "metadata": {},
   "outputs": [],
   "source": [
    "#df_pcci.head()\n",
    "#df_pcci.info()"
   ]
  },
  {
   "cell_type": "markdown",
   "id": "68f57770-5eb8-4bf4-95b8-55b4e1f73191",
   "metadata": {
    "id": "TIIl9zi4G8Nb"
   },
   "source": [
    "### Guardar datos PCCI"
   ]
  },
  {
   "cell_type": "code",
   "execution_count": 262,
   "id": "c1510adc-d972-406a-a57a-116dda4be61d",
   "metadata": {
    "id": "cdyy5RUOqqFb"
   },
   "outputs": [],
   "source": [
    "df_pcci.to_csv(os.path.join(path_db,'pcci.csv'),index=False)"
   ]
  },
  {
   "cell_type": "markdown",
   "id": "6558f87e-424d-447c-95b0-35316e52bedf",
   "metadata": {},
   "source": [
    "# TRANSFORMACIÓN DE DATOS"
   ]
  },
  {
   "cell_type": "code",
   "execution_count": 137,
   "id": "feef40b1-d79d-4fb5-b787-ac76c7868c30",
   "metadata": {},
   "outputs": [
    {
     "name": "stdout",
     "output_type": "stream",
     "text": [
      "############ FASE DE TRANSFORMACIÓN DE DATOS ###########\n"
     ]
    }
   ],
   "source": [
    "print('############ FASE DE TRANSFORMACIÓN DE DATOS ###########')"
   ]
  },
  {
   "cell_type": "markdown",
   "id": "cbe401b8-7712-4146-bc84-fb341ad4ef5c",
   "metadata": {
    "id": "wmmXaaIE_KJ7",
    "tags": []
   },
   "source": [
    " ## Tabla Ubicacion"
   ]
  },
  {
   "cell_type": "code",
   "execution_count": 18,
   "id": "8acbbd75-c768-4e03-9a37-7b6355fa4c69",
   "metadata": {
    "executionInfo": {
     "elapsed": 289,
     "status": "ok",
     "timestamp": 1670199223144,
     "user": {
      "displayName": "Sergio Jimenez",
      "userId": "03709241177248490041"
     },
     "user_tz": 300
    },
    "id": "XQhVmfpsF0ZI"
   },
   "outputs": [],
   "source": [
    "df_ubicacion = pd.read_csv(os.path.join(path_db, 'ubicacion.csv'))"
   ]
  },
  {
   "cell_type": "markdown",
   "id": "f37d2548-51b6-49b8-a6de-938619a48928",
   "metadata": {},
   "source": [
    "# DIMENSION Razon Social (OC, OEC y CI)"
   ]
  },
  {
   "cell_type": "code",
   "execution_count": 14,
   "id": "5a28db70-0400-41ce-9e4d-b0798ffcd6f7",
   "metadata": {},
   "outputs": [
    {
     "name": "stdout",
     "output_type": "stream",
     "text": [
      "DIMENSION Razon Social (OC, OEC y CI)\n"
     ]
    }
   ],
   "source": [
    "print('DIMENSION Razon Social (OC, OEC y CI)')"
   ]
  },
  {
   "cell_type": "code",
   "execution_count": 15,
   "id": "43d53dc6-30fe-4216-9486-bdbff3600cb5",
   "metadata": {},
   "outputs": [],
   "source": [
    "df_oc = pd.read_csv(os.path.join(path_db,'oc.csv'))\n",
    "df_oec = pd.read_csv(os.path.join(path_db,'oec.csv'))\n",
    "df_ci = pd.read_csv(os.path.join(path_db,'ci.csv'))\n",
    "df_pcoc = pd.read_csv(os.path.join(path_db,'pcoc.csv'))\n",
    "df_pcoec = pd.read_csv(os.path.join(path_db,'pcoec.csv'))\n",
    "df_pcci = pd.read_csv(os.path.join(path_db,'pcci.csv'))"
   ]
  },
  {
   "cell_type": "code",
   "execution_count": 19,
   "id": "44ffda0b-7977-42d5-bee2-d26b41323244",
   "metadata": {},
   "outputs": [],
   "source": [
    "df_oc_ug = pd.read_csv(os.path.join(path_db,'oc_dl_provincia_canton.csv'))\n",
    "df_oc_ug['estado']='desconocido'\n",
    "df_razon_social_oc = pd.concat([df_oc[['razon_social','estado','fecha_resolucion','canton']],df_oc_ug[['razon_social','estado','canton']]],axis=0)\n",
    "df_razon_social_oc.insert(2,'tipo_razon_social','operador de capacitación')\n",
    "df_razon_social_oc = df_razon_social_oc.drop_duplicates(subset=['razon_social','canton'],keep='first')\n",
    "df_oec_ug = pd.read_csv(os.path.join(path_db,'oec_dl_provincia_canton.csv'))\n",
    "df_oec_ug['estado'] = 'desconocido'\n",
    "df_razon_social_oec = pd.concat([df_oec[['razon_social','estado','fecha_resolucion','canton']],df_oec_ug[['razon_social','estado','canton']]])\n",
    "df_razon_social_oec.insert(2,'tipo_razon_social','organismo evaluador de la conformidad')\n",
    "df_razon_social_oec = df_razon_social_oec.drop_duplicates(subset=['razon_social','canton'], keep='first')\n",
    "df_ci_ug = pd.read_csv(os.path.join(path_db,'ci_dl_provincia_canton.csv'))\n",
    "df_razon_social_ci = pd.merge(df_ci,df_ci_ug,on=['razon_social'],how=\"inner\")\n",
    "df_razon_social_ci.insert(1,'estado','calificado')\n",
    "df_razon_social_ci = df_razon_social_ci[['razon_social','estado','fecha_resolucion','canton']]\n",
    "df_razon_social_ci.insert(2,'tipo_razon_social','capacitador independiente')\n",
    "df_razon_social_ci = df_razon_social_ci.drop_duplicates(subset=['razon_social','canton'],keep='first')\n",
    "df_razon_social = pd.concat([df_razon_social_oc,df_razon_social_oec,df_razon_social_ci],axis=0)\n",
    "df_razon_social = pd.merge(df_razon_social,df_ubicacion,on=['canton'],how='left')\n",
    "df_razon_social.drop(['id_ubicacion'],axis=1,inplace=True)\n",
    "df_razon_social = df_razon_social.fillna({'provincia':'sin provincia'})\n",
    "df_razon_social = df_razon_social.fillna({'fecha_resolucion':'sin fecha resolución'})\n",
    "df_razon_social['estado']=pd.Categorical(df_razon_social['estado'],categories=['calificado', 'habilitado', 'finalizo vigencia de calificacion','finalizo vigencia de reconocimiento','cancelado definitivamente','suspendido','desconocido'])\n",
    "df_razon_social=df_razon_social.sort_values('estado')\n",
    "df_razon_social = df_razon_social.drop_duplicates(subset=['razon_social','tipo_razon_social'],keep='first')\n",
    "df_razon_social=df_razon_social.sort_values(by=['razon_social','tipo_razon_social'])\n",
    "df_razon_social = df_razon_social.reset_index().rename_axis('id_razon_social').reset_index().astype('str').drop(['index'],axis=1)"
   ]
  },
  {
   "cell_type": "code",
   "execution_count": 20,
   "id": "1fe6e3ba-4751-46b2-a2ba-56629b72c6d9",
   "metadata": {},
   "outputs": [],
   "source": [
    "#df_razon_social.head()\n",
    "#df_razon_social.info()"
   ]
  },
  {
   "cell_type": "markdown",
   "id": "e7b73866-3bec-4c38-aaa2-537e9bf22f88",
   "metadata": {},
   "source": [
    "# Dimensión Curso-Perfil (OC, OEC, CI)"
   ]
  },
  {
   "cell_type": "code",
   "execution_count": 325,
   "id": "07fd6f54-fb5b-44f5-8ebe-f5578bb72e73",
   "metadata": {},
   "outputs": [],
   "source": [
    "df_oc_cl = pd.read_csv(os.path.join(path_db,'oc_cl.csv')) # Comentar en produccion\n",
    "df_oc_cl = df_oc_cl.drop(['ruc_o_codigo'],axis=1)\n",
    "df_oc_cl_2 = pd.read_csv(os.path.join(path_db,'oc_dl_familia_sector_perfil.csv'))\n",
    "df_oc_cl = pd.concat([df_oc_cl,df_oc_cl_2],axis=0)\n",
    "df_oc_cl = df_oc_cl.drop_duplicates()\n",
    "df_oc_cl['modalidad'] = 'desconocida'\n",
    "df_oc_cl['carga_horaria'] = 6\n",
    "df_oc_cl['tipo'] = 'perfil'\n",
    "df_oc_cl['costo'] =250.0\n",
    "df_oc_cl['tipo_razon_social'] ='operador de capacitación'"
   ]
  },
  {
   "cell_type": "code",
   "execution_count": 326,
   "id": "0effa051-442a-451f-baee-954e3431d2cd",
   "metadata": {},
   "outputs": [],
   "source": [
    "df_oc_cc = pd.read_csv(os.path.join(path_db,'oc_cc.csv')) # Comentar en produccion\n",
    "df_oc_cc = df_oc_cc.drop(['documento'],axis=1)\n",
    "df_oc_cc['tipo'] = 'curso'\n",
    "df_oc_cc['costo'] =0.0\n",
    "df_oc_cc['tipo_razon_social'] ='operador de capacitación'"
   ]
  },
  {
   "cell_type": "code",
   "execution_count": 327,
   "id": "ec3dd3b0-76c0-42fd-b91f-23979158af91",
   "metadata": {},
   "outputs": [],
   "source": [
    "df_perfil = pd.read_csv(os.path.join(path_db,'oec_dl_familia_sector_perfil.csv'))\n",
    "df_perfil['modalidad'] = 'desconocida'\n",
    "df_perfil['carga_horaria'] = 6\n",
    "df_perfil['tipo'] = 'perfil'\n",
    "df_perfil['costo'] = 250.0\n",
    "df_perfil['tipo_razon_social'] ='organismo evaluador de la conformidad'"
   ]
  },
  {
   "cell_type": "code",
   "execution_count": 328,
   "id": "a2d4b932-e8f7-49ac-9ad4-7acc88bb9b5c",
   "metadata": {},
   "outputs": [],
   "source": [
    "df_ci_lca = pd.read_csv(os.path.join(path_db,'ci_lca.csv')) # Comentar en produccion\n",
    "df_ci_lca = df_ci_lca[['apellidos_nombres','area','especialidad','curso','carga_horaria']]\n",
    "df_ci_lca.insert(4,'modalidad', 'desconocida')\n",
    "df_ci_lca['tipo'] = 'curso'\n",
    "df_ci_lca['costo'] = 0.0\n",
    "df_ci_lca['tipo_razon_social'] ='capacitador independiente'"
   ]
  },
  {
   "cell_type": "code",
   "execution_count": 375,
   "id": "49d10aaa-3467-4e58-bf40-676ca2387ec4",
   "metadata": {},
   "outputs": [],
   "source": [
    "data_curso_perfil = np.concatenate((df_oc_cc.values,df_oc_cl.values,df_perfil.values,df_ci_lca.values), axis=0)\n",
    "df_curso_perfil = pd.DataFrame(data=data_curso_perfil[:,:-1],columns=['razon_social','area_familia','especialidad_sector','curso_perfil','modalidad','carga_horaria','tipo','costo'])\n",
    "df_curso_perfil.insert(0,'tipo',df_curso_perfil.pop('tipo'))\n",
    "df_curso_perfil = df_curso_perfil.apply(lambda x: x.astype(str).str.lower())\n",
    "df_curso_perfil['carga_horaria'] = df_curso_perfil['carga_horaria'].astype('int64')\n",
    "data_rs_canton = df_razon_social.groupby(['razon_social','canton']).count().reset_index()[['razon_social','canton']]\n",
    "df_curso_perfil = pd.merge(df_curso_perfil,data_rs_canton,on='razon_social',how=\"left\")\n",
    "df_curso_perfil['canton'] = df_curso_perfil['canton'].fillna('sin_canton')\n",
    "df_curso_perfil = df_curso_perfil.drop_duplicates()\n",
    "df_curso_perfil = df_curso_perfil.rename_axis('id_curso_perfil').reset_index()"
   ]
  },
  {
   "cell_type": "code",
   "execution_count": 376,
   "id": "832b303b-b57e-4b4a-9adc-499ee9ba0c4e",
   "metadata": {},
   "outputs": [],
   "source": [
    "df_costos_estimados_cursos = pd.read_csv(os.path.join(path_db,'costos_estimados_cursos_perfiles.csv'))\n",
    "df_curso_perfil = pd.merge(df_curso_perfil,df_costos_estimados_cursos,on='id_curso_perfil',how='inner')"
   ]
  },
  {
   "cell_type": "code",
   "execution_count": 377,
   "id": "dc57eb8b-caa1-403c-92c0-f444b81ab71c",
   "metadata": {},
   "outputs": [],
   "source": [
    "df_curso_perfil['costo']=df_curso_perfil['carga_horaria']*df_curso_perfil['precio_estimado_por_hora']"
   ]
  },
  {
   "cell_type": "code",
   "execution_count": 378,
   "id": "69d3f391-a114-4807-ac54-0495b4f0e282",
   "metadata": {},
   "outputs": [],
   "source": [
    "df_curso_perfil['costo']=df_curso_perfil.apply(lambda x: get_perfil_price(x['tipo'],x['costo']),axis=1)"
   ]
  },
  {
   "cell_type": "code",
   "execution_count": 379,
   "id": "15e93185-e453-4563-afeb-f4d906d81324",
   "metadata": {},
   "outputs": [],
   "source": [
    "df_curso_perfil.drop('precio_estimado_por_hora',axis=1,inplace=True)"
   ]
  },
  {
   "cell_type": "code",
   "execution_count": 380,
   "id": "d2b14550-11b8-4f94-9a78-d26ddcceb51e",
   "metadata": {},
   "outputs": [],
   "source": [
    "df_curso_perfil.to_csv(os.path.join(path_dwh,'dim_curso_perfil.csv'),index=False)"
   ]
  },
  {
   "cell_type": "code",
   "execution_count": 381,
   "id": "a4cd3973-99ba-4f1a-80c4-b0ac1d4c50fa",
   "metadata": {},
   "outputs": [],
   "source": [
    "df_info_cursos_edu = pd.read_csv(os.path.join(path_db,'costos_cursos_educacion_continua.csv'))"
   ]
  },
  {
   "cell_type": "markdown",
   "id": "c9cbc4b8-f3c4-4432-8e54-85c6df659347",
   "metadata": {},
   "source": [
    "# Dimension Fecha (OC, OEC, CI)"
   ]
  },
  {
   "cell_type": "code",
   "execution_count": 406,
   "id": "f256c949-d49d-439f-93fb-524f6ab9f079",
   "metadata": {},
   "outputs": [],
   "source": [
    "df_pcoc = pd.read_csv(os.path.join(path_db,'pcoc.csv'))\n",
    "df_pcoc['fecha'] = df_pcoc['numero_certificado'].apply(get_year)\n",
    "df_pcoc = pd.merge(df_pcoc,df_razon_social_oc[['razon_social','fecha_resolucion']],left_on=['razon_social_oc'],right_on=['razon_social'],how=\"left\") \n",
    "df_pcoc['fecha'] = df_pcoc.apply(lambda x: get_year_by_oc(x['fecha'], x['fecha_resolucion']), axis=1)\n",
    "df_fecha_oc = df_pcoc[['fecha']].groupby(['fecha']).count().reset_index()"
   ]
  },
  {
   "cell_type": "code",
   "execution_count": 407,
   "id": "e61831e2-4832-48b3-8548-c0fd1ac6baa1",
   "metadata": {},
   "outputs": [],
   "source": [
    "df_pcoec = pd.read_csv(os.path.join(path_db,'pcoec.csv'))\n",
    "df_fecha_oec = df_pcoec[['fecha_certificacion']].groupby(['fecha_certificacion']).count().reset_index()\n",
    "df_fecha_oec = df_fecha_oec.rename(columns={'fecha_certificacion':'fecha'})"
   ]
  },
  {
   "cell_type": "code",
   "execution_count": 408,
   "id": "707be90b-81b5-43a4-b8ad-673b9c139862",
   "metadata": {},
   "outputs": [],
   "source": [
    "df_ci = pd.read_csv(os.path.join(path_db,'ci.csv'))\n",
    "df_ci['fecha'] = df_ci['fecha_resolucion'].apply(get_year)\n",
    "df_fecha_ci = pd.DataFrame(data=df_ci['fecha'].unique(),columns=['fecha'])"
   ]
  },
  {
   "cell_type": "code",
   "execution_count": 412,
   "id": "fd21831b-6811-4db9-a376-0783264a91dc",
   "metadata": {},
   "outputs": [],
   "source": [
    "df_fecha = pd.concat([df_fecha_oc,df_fecha_oec,df_fecha_ci],axis=0)\n",
    "df_fecha = df_fecha.drop_duplicates()\n",
    "#df_fecha = df_fecha.reset_index().drop(['index'], axis=1)\n",
    "data_fecha = df_fecha['fecha'].str.rsplit(\"-\", expand=True)\n",
    "df_fecha = pd.concat([df_fecha,data_fecha],axis=1)\n",
    "df_fecha = df_fecha.rename(columns={0:'dia',1:'mes',2:'anio'})\n",
    "df_fecha = df_fecha.rename_axis('id_fecha').reset_index()"
   ]
  },
  {
   "cell_type": "code",
   "execution_count": 415,
   "id": "d5fde8e1-bda3-4eb3-a540-50b831547474",
   "metadata": {},
   "outputs": [],
   "source": [
    "df_fecha.to_csv(os.path.join(path_dwh,'dim_fecha.csv'),index=False)"
   ]
  },
  {
   "cell_type": "code",
   "execution_count": 112,
   "id": "53891877-c485-4749-b531-4e6459612bbc",
   "metadata": {},
   "outputs": [],
   "source": [
    "df_curso_perfil['carga_horaria'] = df_curso_perfil['carga_horaria'].astype('int64')\n",
    "df_curso_perfil['costo'] = df_curso_perfil['costo'].astype('float64')"
   ]
  },
  {
   "cell_type": "markdown",
   "id": "a4f9fc79-4462-43e1-b625-2c569ae3f9e7",
   "metadata": {},
   "source": [
    "# Hechos OC"
   ]
  },
  {
   "cell_type": "code",
   "execution_count": 106,
   "id": "23dec98a-0b9a-4aaf-b552-4ac10d772f31",
   "metadata": {},
   "outputs": [
    {
     "name": "stdout",
     "output_type": "stream",
     "text": [
      "Datamart OC\n"
     ]
    }
   ],
   "source": [
    "print('Datamart OC')"
   ]
  },
  {
   "cell_type": "markdown",
   "id": "fe44bf16-2f8e-4df1-a948-2e639705e28d",
   "metadata": {},
   "source": [
    "### Dimensión Razon Social OEC"
   ]
  },
  {
   "cell_type": "code",
   "execution_count": 125,
   "id": "09eaa0ea-1362-42fb-aa8d-85e31816c39a",
   "metadata": {},
   "outputs": [],
   "source": [
    "df_oc_num_conv= pd.read_csv(os.path.join(os.getcwd(),'pcoc_num_conv.csv'))[['razon_social', 'numero_convocados']]"
   ]
  },
  {
   "cell_type": "code",
   "execution_count": 223,
   "id": "c041ac8e-d724-4f62-b0f5-a96115f97d60",
   "metadata": {},
   "outputs": [],
   "source": [
    "df_razon_social_oc = df_razon_social[df_razon_social['tipo_razon_social']=='operador de capacitación']"
   ]
  },
  {
   "cell_type": "markdown",
   "id": "8f8e4c86-3e8b-4144-9999-1b75594ea08c",
   "metadata": {},
   "source": [
    "## Hechos OC por Curso Perfil"
   ]
  },
  {
   "cell_type": "code",
   "execution_count": 382,
   "id": "dce3b81e-53a1-47de-93df-5a02fdf80865",
   "metadata": {},
   "outputs": [],
   "source": [
    "df_fact_oc_cp = df_pcoc.groupby(['razon_social_oc','nombre_curso_perfil','fecha']).count().reset_index().iloc[:,:4]\n",
    "df_fact_oc_cp = df_fact_oc_cp.rename(columns={'numero_documento':'num_cap_cer'})\n",
    "df_fact_oc_cp = pd.merge(df_fact_oc_cp,df_razon_social_oc[['id_razon_social','razon_social']],left_on=['razon_social_oc'],right_on=['razon_social'],how=\"inner\")\n",
    "df_fact_oc_cp = pd.merge(df_fact_oc_cp,df_curso_perfil,left_on=['razon_social_oc','nombre_curso_perfil'],right_on=['razon_social','curso_perfil'],how=\"inner\")\n",
    "df_fact_oc_cp = pd.merge(df_fact_oc_cp,df_fecha,left_on=['fecha'],right_on=['fecha'],how=\"inner\")\n",
    "df_fact_oc_cp = pd.merge(df_fact_oc_cp,df_oc_num_conv,left_on='razon_social_oc',right_on='razon_social',how='left')\n",
    "df_fact_oc_cp['num_cap_cer'] = df_fact_oc_cp['num_cap_cer'].astype('float64')\n",
    "df_fact_oc_cp['total_horas'] = (df_fact_oc_cp['num_cap_cer'] * df_fact_oc_cp['carga_horaria']).astype('float64')\n",
    "df_fact_oc_cp['total_ganancias'] = (df_fact_oc_cp['num_cap_cer'] * df_fact_oc_cp['costo']).astype('float64')\n",
    "df_fact_oc_cp['porcentaje_asistencia'] = ((df_fact_oc_cp['num_cap_cer']/df_fact_oc_cp['numero_convocados'])*100).astype('float64')\n",
    "df_fact_oc_cp.fillna({'porcentaje_asistencia':0},inplace=True)\n",
    "df_fact_oc_cp = df_fact_oc_cp.rename_axis('id_fact_oc_cp').reset_index()\n",
    "df_fact_oc_cp = df_fact_oc_cp[['id_fact_oc_cp','id_razon_social','id_curso_perfil','id_fecha','num_cap_cer','total_horas','total_ganancias','porcentaje_asistencia']]"
   ]
  },
  {
   "cell_type": "code",
   "execution_count": 383,
   "id": "1516ea8c-9cc9-4943-9598-6af6f03ca71c",
   "metadata": {},
   "outputs": [],
   "source": [
    "#df_fact_oc_cp.head()\n",
    "#df_fact_oc_cp.info()"
   ]
  },
  {
   "cell_type": "markdown",
   "id": "76fc59a4-73e3-49d2-ae0b-6fa472dfc86b",
   "metadata": {},
   "source": [
    "## Hechos OC por Razon Social"
   ]
  },
  {
   "cell_type": "code",
   "execution_count": 384,
   "id": "7d1a9835-89d0-4345-8591-22056cde0e5d",
   "metadata": {},
   "outputs": [],
   "source": [
    "df_total_cap_oc = df_fact_oc_cp.groupby(['id_razon_social','id_fecha']).sum().reset_index()\n",
    "df_total_cur_oc = df_fact_oc_cp.groupby(['id_razon_social','id_fecha']).count().reset_index().iloc[:,:3]\n",
    "df_total_cur_oc = df_total_cur_oc.rename(columns={'id_fact_oc_cp':'total_cursos'})\n",
    "df_fact_oc_rs = pd.merge(df_total_cap_oc,df_total_cur_oc,on=['id_razon_social','id_fecha'],how='inner')\n",
    "df_fact_oc_rs.drop(['id_fact_oc_cp'],axis=1,inplace=True)\n",
    "df_fact_oc_rs.rename(columns={'num_cap_cer':'volumen_cap_cer','total_horas':'volumen_horas','total_ganancias':'volumen_ganancias','porcentaje_asistencia':'volumen_porcentaje_asistencia'},inplace=True)\n",
    "df_fact_oc_rs = df_fact_oc_rs.rename_axis('id_fact_oc_rs').reset_index()"
   ]
  },
  {
   "cell_type": "code",
   "execution_count": 385,
   "id": "5b7aa789-18f2-421a-b60a-e5eb7dccb6aa",
   "metadata": {},
   "outputs": [],
   "source": [
    "#df_fact_oc_rs.head()\n",
    "#df_fact_oc_rs.info()"
   ]
  },
  {
   "cell_type": "markdown",
   "id": "af378dad-12ce-4be9-ad2b-2780dfa2c579",
   "metadata": {},
   "source": [
    "## Guardar Hechos OC"
   ]
  },
  {
   "cell_type": "code",
   "execution_count": 386,
   "id": "874d310f-6fe0-432e-b992-1e17c46502fd",
   "metadata": {
    "executionInfo": {
     "elapsed": 229,
     "status": "ok",
     "timestamp": 1670107294162,
     "user": {
      "displayName": "Sergio Jimenez",
      "userId": "03709241177248490041"
     },
     "user_tz": 300
    },
    "id": "_yt0Tpr3-7AK"
   },
   "outputs": [],
   "source": [
    "df_fact_oc_cp.to_csv(os.path.join(path_dwh,'fact_oc_cp.csv'),index=False)\n",
    "df_fact_oc_rs.to_csv(os.path.join(path_dwh,'fact_oc_rs.csv'),index=False)"
   ]
  },
  {
   "cell_type": "markdown",
   "id": "e4916448-1b7a-4a44-aba5-eb8bda0d2242",
   "metadata": {
    "id": "UKh5cHw91rOw"
   },
   "source": [
    "# Dataframe OEC"
   ]
  },
  {
   "cell_type": "markdown",
   "id": "535f267d-2182-470a-8d17-12528cc07e67",
   "metadata": {
    "id": "QJhODV_92GKa"
   },
   "source": [
    "### Dimensión Razon Social OEC"
   ]
  },
  {
   "cell_type": "code",
   "execution_count": 387,
   "id": "0f0610bd-ded5-4aeb-abf9-7fddb0aae84a",
   "metadata": {},
   "outputs": [],
   "source": [
    "df_razon_social_oec = df_razon_social[df_razon_social['tipo_razon_social']=='organismo evaluador de la conformidad']"
   ]
  },
  {
   "cell_type": "code",
   "execution_count": 388,
   "id": "3c36f28c-71ac-486a-8c94-3bdecad8be51",
   "metadata": {},
   "outputs": [],
   "source": [
    "df_oec_num_conv= pd.read_csv(os.path.join(os.getcwd(),'pcoec_num_conv.csv'),encoding = \"ISO-8859-1\")[['razon_social', 'numero_convocados']]"
   ]
  },
  {
   "cell_type": "markdown",
   "id": "1a6be4b1-e3e7-4b0f-b6be-28fb35be698a",
   "metadata": {
    "id": "5Uc9Cww15f__"
   },
   "source": [
    "## Hechos OEC por Perfil"
   ]
  },
  {
   "cell_type": "code",
   "execution_count": 389,
   "id": "a8c45e77-72a2-4404-a096-5828ebe720ca",
   "metadata": {},
   "outputs": [],
   "source": [
    "df_pcoec = pd.read_csv(os.path.join(path_db,'pcoec.csv'))\n",
    "df_fact_oec_cp = df_pcoec.groupby(['razon_social','perfil','fecha_certificacion']).count().reset_index().iloc[:,:4]\n",
    "df_fact_oec_cp = df_fact_oec_cp.rename(columns={'apellidos_nombres':'num_cer'})\n",
    "df_fact_oec_cp = pd.merge(df_fact_oec_cp,df_razon_social_oec[['id_razon_social','razon_social']],on='razon_social',how=\"inner\")\n",
    "df_fact_oec_cp = pd.merge(df_fact_oec_cp,df_curso_perfil,left_on=['razon_social','perfil'],right_on=['razon_social','curso_perfil'],how=\"inner\")\n",
    "df_fact_oec_cp = pd.merge(df_fact_oec_cp,df_fecha,left_on=['fecha_certificacion'],right_on=['fecha'],how=\"inner\")\n",
    "df_fact_oec_cp = pd.merge(df_fact_oec_cp,df_oec_num_conv,left_on='razon_social',right_on='razon_social',how='left')\n",
    "df_fact_oec_cp['num_cer'] = df_fact_oec_cp['num_cer'].astype('float64')\n",
    "df_fact_oec_cp['total_horas'] = (df_fact_oec_cp['num_cer'] * df_fact_oec_cp['carga_horaria']).astype('float64')\n",
    "df_fact_oec_cp['total_ganancias'] = (df_fact_oec_cp['num_cer'] * df_fact_oec_cp['costo']).astype('float64')\n",
    "df_fact_oec_cp['porcentaje_asistencia'] = ((df_fact_oec_cp['num_cer']/df_fact_oec_cp['numero_convocados'])*100).astype('float64')\n",
    "df_fact_oec_cp.fillna({'porcentaje_asistencia':0},inplace=True)\n",
    "df_fact_oec_cp = df_fact_oec_cp.rename_axis('id_fact_oec_cp').reset_index()\n",
    "df_fact_oec_cp = df_fact_oec_cp[['id_fact_oec_cp','id_razon_social','id_curso_perfil','id_fecha','num_cer','total_horas','total_ganancias','porcentaje_asistencia']]"
   ]
  },
  {
   "cell_type": "code",
   "execution_count": 390,
   "id": "a2ecbafb-0673-44b2-a7cc-b8fdbf307f9c",
   "metadata": {},
   "outputs": [],
   "source": [
    "#df_fact_oec_cp.head()\n",
    "#df_fact_oec_cp.info()"
   ]
  },
  {
   "cell_type": "markdown",
   "id": "bfb27bf2-e940-4d0e-a5c0-344cc3ac1d55",
   "metadata": {},
   "source": [
    "## Hechos OEC por Razon Social"
   ]
  },
  {
   "cell_type": "code",
   "execution_count": 391,
   "id": "12d9def8-c026-4156-927e-96cfcdb5e636",
   "metadata": {},
   "outputs": [],
   "source": [
    "df_total_cer_oec = df_fact_oec_cp.groupby(['id_razon_social','id_fecha']).sum().reset_index()\n",
    "df_total_per_oec = df_fact_oec_cp.groupby(['id_razon_social','id_fecha']).count().reset_index().iloc[:,:3]\n",
    "df_total_per_oec = df_total_per_oec.rename(columns={'id_fact_oec_cp':'total_perfiles'})\n",
    "df_fact_oec_rs = pd.merge(df_total_cer_oec,df_total_per_oec,on=['id_razon_social','id_fecha'],how='inner')\n",
    "df_fact_oec_rs.drop(['id_fact_oec_cp'],axis=1,inplace=True)\n",
    "df_fact_oec_rs.rename(columns={'num_cer':'volumen_cer','total_horas':'volumen_horas','total_ganancias':'volumen_ganancias','porcentaje_asistencia':'volumen_porcentaje_asistencia'},inplace=True)\n",
    "df_fact_oec_rs = df_fact_oec_rs.rename_axis('id_fact_oec_rs').reset_index()"
   ]
  },
  {
   "cell_type": "code",
   "execution_count": 392,
   "id": "b3d70b7f-3180-4d72-b3b2-64865f15c800",
   "metadata": {},
   "outputs": [],
   "source": [
    "#df_fact_oec_rs.head()\n",
    "#df_fact_oec_rs.info()"
   ]
  },
  {
   "cell_type": "markdown",
   "id": "f88cc2eb-a437-44df-89eb-8a06a98b2fd0",
   "metadata": {},
   "source": [
    "## Guardar Hechos OEC"
   ]
  },
  {
   "cell_type": "code",
   "execution_count": 393,
   "id": "fe2ded84-57f5-4002-8250-eb1b144523db",
   "metadata": {
    "executionInfo": {
     "elapsed": 542,
     "status": "ok",
     "timestamp": 1670106524860,
     "user": {
      "displayName": "Sergio Jimenez",
      "userId": "03709241177248490041"
     },
     "user_tz": 300
    },
    "id": "8KPKpsFkF0Zh"
   },
   "outputs": [],
   "source": [
    "df_fact_oec_cp.to_csv(os.path.join(path_dwh,'fact_oec_cp.csv'),index=False)\n",
    "df_fact_oec_rs.to_csv(os.path.join(path_dwh,'fact_oec_rs.csv'),index=False)"
   ]
  },
  {
   "cell_type": "markdown",
   "id": "cfb3b643-9e58-4253-8551-526a2a724cfb",
   "metadata": {
    "id": "mDJEaTI9XyoO"
   },
   "source": [
    "# Datamart CI"
   ]
  },
  {
   "cell_type": "code",
   "execution_count": 394,
   "id": "90de90bc-d599-4bc5-b1bf-f34630b5f8ad",
   "metadata": {},
   "outputs": [
    {
     "name": "stdout",
     "output_type": "stream",
     "text": [
      "Datamart CI\n"
     ]
    }
   ],
   "source": [
    "print('Datamart CI')"
   ]
  },
  {
   "cell_type": "markdown",
   "id": "69ffc795-bc11-48e0-b3e4-7f6e9b7c5c78",
   "metadata": {
    "id": "qdn7O9taF0Zi"
   },
   "source": [
    "## Dimensión Razon Social CI"
   ]
  },
  {
   "cell_type": "code",
   "execution_count": 395,
   "id": "68891cd4-6fbb-4612-ac5f-c13e986adb76",
   "metadata": {},
   "outputs": [],
   "source": [
    "df_razon_social_ci = df_razon_social[df_razon_social['tipo_razon_social']=='capacitador independiente']"
   ]
  },
  {
   "cell_type": "markdown",
   "id": "edb7f86f-d13b-49b1-a3d0-30a2304c4401",
   "metadata": {
    "id": "3BIQWh3zF0Zs"
   },
   "source": [
    "## Hechos CI"
   ]
  },
  {
   "cell_type": "code",
   "execution_count": 396,
   "id": "bed4f8f2-1b6b-4962-9c2f-83842d739b7d",
   "metadata": {},
   "outputs": [
    {
     "name": "stderr",
     "output_type": "stream",
     "text": [
      "C:\\Users\\sjime\\AppData\\Local\\Temp\\ipykernel_18552\\2977254387.py:3: SettingWithCopyWarning: \n",
      "A value is trying to be set on a copy of a slice from a DataFrame.\n",
      "Try using .loc[row_indexer,col_indexer] = value instead\n",
      "\n",
      "See the caveats in the documentation: https://pandas.pydata.org/pandas-docs/stable/user_guide/indexing.html#returning-a-view-versus-a-copy\n",
      "  df_razon_social_ci['fecha'] = df_razon_social_ci['fecha_resolucion'].apply(get_year)\n"
     ]
    }
   ],
   "source": [
    "df_pcci = pd.read_csv(os.path.join(path_db,'pcci.csv'))\n",
    "df_razon_social_ci = df_razon_social[df_razon_social['tipo_razon_social']=='capacitador independiente']\n",
    "df_razon_social_ci['fecha'] = df_razon_social_ci['fecha_resolucion'].apply(get_year)\n",
    "df_fact_ci_cp = pd.merge(df_pcci,df_razon_social_ci[['razon_social','fecha']],on='razon_social',how='inner')\n",
    "df_fact_ci_cp = df_fact_ci_cp.groupby(['razon_social','curso','fecha']).count().reset_index().iloc[:,:4]\n",
    "df_fact_ci_cp = df_fact_ci_cp.rename(columns={'ruc_o_codigo':'num_cap'})\n",
    "df_fact_ci_cp = pd.merge(df_fact_ci_cp,df_razon_social_ci[['id_razon_social','razon_social']],on='razon_social',how=\"inner\")\n",
    "df_fact_ci_cp = pd.merge(df_fact_ci_cp,df_curso_perfil,left_on=['razon_social','curso'],right_on=['razon_social','curso_perfil'],how=\"inner\")\n",
    "df_fact_ci_cp = pd.merge(df_fact_ci_cp,df_fecha,on='fecha',how=\"inner\")\n",
    "df_fact_ci_cp['num_cap'] = df_fact_ci_cp['num_cap'].astype('float64')\n",
    "df_fact_ci_cp['total_horas'] = (df_fact_ci_cp['num_cap'] * df_fact_ci_cp['carga_horaria']).astype('float64')\n",
    "df_fact_ci_cp['total_ganancias'] = (df_fact_ci_cp['num_cap'] * df_fact_ci_cp['costo']).astype('float64')\n",
    "df_fact_ci_cp = df_fact_ci_cp.rename_axis('id_fact_ci_cp').reset_index()\n",
    "df_fact_ci_cp = df_fact_ci_cp[['id_fact_ci_cp','id_razon_social','id_curso_perfil','id_fecha','num_cap','total_horas','total_ganancias']]"
   ]
  },
  {
   "cell_type": "code",
   "execution_count": 397,
   "id": "525048d9-2551-42c6-942f-52b4cc4727ff",
   "metadata": {},
   "outputs": [],
   "source": [
    "#df_fact_ci_cp.head()\n",
    "#df_fact_ci_cp.info()"
   ]
  },
  {
   "cell_type": "code",
   "execution_count": 398,
   "id": "cf6794f4-6af4-42f6-a0b7-13fedc4f0710",
   "metadata": {},
   "outputs": [],
   "source": [
    "df_total_cap_ci = df_fact_ci_cp.groupby(['id_razon_social','id_fecha']).sum().reset_index()\n",
    "df_total_cur_ci = df_fact_ci_cp.groupby(['id_razon_social','id_fecha']).count().reset_index().iloc[:,:3]\n",
    "df_total_cur_ci = df_total_cur_ci.rename(columns={'id_fact_ci_cp':'total_cursos'})\n",
    "df_fact_ci_rs = pd.merge(df_total_cap_ci,df_total_cur_ci,on=['id_razon_social','id_fecha'],how='inner')\n",
    "df_fact_ci_rs.drop(['id_fact_ci_cp'],axis=1,inplace=True)\n",
    "df_fact_ci_rs.rename(columns={'num_cap':'volumen_cap','total_horas':'volumen_horas','total_ganancias':'volumen_ganancias'},inplace=True)\n",
    "df_fact_ci_rs = df_fact_ci_rs.rename_axis('id_fact_ci_rs').reset_index()"
   ]
  },
  {
   "cell_type": "code",
   "execution_count": 399,
   "id": "bf22f291-eaaa-4b27-860e-56e154294d73",
   "metadata": {},
   "outputs": [],
   "source": [
    "#df_fact_ci_rs.head()\n",
    "#df_fact_ci_rs.info()"
   ]
  },
  {
   "cell_type": "markdown",
   "id": "0a125a9a-4fff-4f65-82d4-5cf6790c1aa4",
   "metadata": {},
   "source": [
    "### Guardar Datamart"
   ]
  },
  {
   "cell_type": "code",
   "execution_count": 403,
   "id": "8fb9e93f-9a51-49d0-b4e6-53c06ce75799",
   "metadata": {},
   "outputs": [],
   "source": [
    "df_fact_ci_cp.to_csv(os.path.join(path_dwh,'fact_ci_cp.csv'),index=False)\n",
    "df_fact_ci_rs.to_csv(os.path.join(path_dwh,'fact_ci_rs.csv'),index=False)"
   ]
  },
  {
   "cell_type": "markdown",
   "id": "f7e0f346-58a1-419d-8f2e-2d9141a102c2",
   "metadata": {},
   "source": [
    "## Guardar Curso_Perfil"
   ]
  },
  {
   "cell_type": "code",
   "execution_count": 404,
   "id": "5824098e-215a-4e48-80a5-822b9cadf5dd",
   "metadata": {},
   "outputs": [],
   "source": [
    "df_curso_perfil.drop(['razon_social','canton'],axis=1,inplace=True)"
   ]
  },
  {
   "cell_type": "code",
   "execution_count": 405,
   "id": "cf91d17d-556d-49b8-9480-c72d0b74e963",
   "metadata": {},
   "outputs": [],
   "source": [
    "df_curso_perfil.to_csv(os.path.join(path_dwh,'dim_curso_perfil.csv'),index=False)"
   ]
  },
  {
   "cell_type": "markdown",
   "id": "b291c5fd-4a10-4795-a775-50e1cae3a556",
   "metadata": {
    "jp-MarkdownHeadingCollapsed": true,
    "tags": []
   },
   "source": [
    "# CARGA DE DATOS"
   ]
  },
  {
   "cell_type": "markdown",
   "id": "d8c45fe5-12e2-408f-8d7d-fa5ec797cc04",
   "metadata": {
    "tags": []
   },
   "source": [
    "# Conexión con MySQL"
   ]
  },
  {
   "cell_type": "code",
   "execution_count": 203,
   "id": "9d5a1cc0-e277-4aed-9bd1-e849b127131a",
   "metadata": {},
   "outputs": [],
   "source": [
    "mydb = mysql.connector.connect(\n",
    "    host='localhost',\n",
    "    user='root',\n",
    "    passwd='KappaTao1233'\n",
    ")\n",
    "\n",
    "mycursor = mydb.cursor()"
   ]
  },
  {
   "cell_type": "markdown",
   "id": "8261323d-3b3d-445d-ab11-ac2f40c81d5b",
   "metadata": {},
   "source": [
    "# Creación de la base de datos"
   ]
  },
  {
   "cell_type": "code",
   "execution_count": 204,
   "id": "b525bd27-c11b-45fd-afd4-30fb22d22273",
   "metadata": {},
   "outputs": [],
   "source": [
    "mycursor.execute(\"DROP DATABASE IF EXISTS dwh_setec\")\n",
    "mycursor.execute(\"CREATE DATABASE dwh_setec\")"
   ]
  },
  {
   "cell_type": "code",
   "execution_count": 205,
   "id": "f0f97143-5eac-4b75-8b46-e0f5cd4b96cb",
   "metadata": {},
   "outputs": [],
   "source": [
    "mycursor.execute(\"USE dwh_setec\")"
   ]
  },
  {
   "cell_type": "markdown",
   "id": "3877767c-0ae7-43e2-aed3-7531d147671f",
   "metadata": {},
   "source": [
    "# DIMENSIÓN RAZÓN SOCIAL"
   ]
  },
  {
   "cell_type": "code",
   "execution_count": 206,
   "id": "939fedd8-0896-44dd-b514-9e9c7d879da8",
   "metadata": {},
   "outputs": [],
   "source": [
    "#os.listdir(path_dwh)"
   ]
  },
  {
   "cell_type": "code",
   "execution_count": 207,
   "id": "4b6093fb-84ce-4562-af52-5ab9b89cc25d",
   "metadata": {},
   "outputs": [
    {
     "name": "stdout",
     "output_type": "stream",
     "text": [
      "<class 'pandas.core.frame.DataFrame'>\n",
      "RangeIndex: 2257 entries, 0 to 2256\n",
      "Data columns (total 6 columns):\n",
      " #   Column             Non-Null Count  Dtype \n",
      "---  ------             --------------  ----- \n",
      " 0   id_razon_social    2257 non-null   object\n",
      " 1   razon_social       2257 non-null   object\n",
      " 2   estado             2257 non-null   object\n",
      " 3   tipo_razon_social  2257 non-null   object\n",
      " 4   canton             2257 non-null   object\n",
      " 5   provincia          2257 non-null   object\n",
      "dtypes: object(6)\n",
      "memory usage: 105.9+ KB\n"
     ]
    }
   ],
   "source": [
    "df_razon_social.info()"
   ]
  },
  {
   "cell_type": "code",
   "execution_count": 208,
   "id": "ff072ecc-2177-47d6-947a-d3380057ff7b",
   "metadata": {},
   "outputs": [
    {
     "name": "stderr",
     "output_type": "stream",
     "text": [
      "100%|██████████████████████████████████████████████████████████████████████████████| 2257/2257 [04:27<00:00,  8.44it/s]\n"
     ]
    }
   ],
   "source": [
    "mycursor.execute(\"DROP TABLE IF EXISTS dim_razon_social\")\n",
    "mycursor.execute('''CREATE TABLE dim_razon_social (\n",
    "id_razon_social VARCHAR(8) PRIMARY KEY,\n",
    "razon_social VARCHAR(255) NOT NULL,\n",
    "tipo_razon_social VARCHAR(255) NOT NULL,\n",
    "estado VARCHAR(63) NOT NULL,\n",
    "canton VARCHAR(63) NOT NULL,\n",
    "provincia VARCHAR(63) NOT NULL\n",
    ")''')\n",
    "sql_formula = 'INSERT INTO dim_razon_social ( id_razon_social, razon_social,tipo_razon_social, estado, canton, provincia) VALUES (%s,%s,%s,%s,%s,%s)'\n",
    "for row in tqdm(df_razon_social.values):\n",
    "    mycursor.execute(sql_formula,tuple(row))\n",
    "    mydb.commit()"
   ]
  },
  {
   "cell_type": "markdown",
   "id": "67222a00-cb05-41be-9278-f3a67355eeec",
   "metadata": {},
   "source": [
    "# DATAMART OC"
   ]
  },
  {
   "cell_type": "code",
   "execution_count": 209,
   "id": "6d22f0c6-3b82-4fd3-9bfb-217d7f3d5a3d",
   "metadata": {},
   "outputs": [],
   "source": [
    "#os.listdir(path_dm_oc)"
   ]
  },
  {
   "cell_type": "markdown",
   "id": "b84cc664-78f4-42fb-8c23-e486bd5fe2bd",
   "metadata": {
    "tags": []
   },
   "source": [
    "## Tabla dim_curso_perfil_oc"
   ]
  },
  {
   "cell_type": "code",
   "execution_count": 210,
   "id": "1f73971c-147a-44b5-816d-13d776e7c188",
   "metadata": {},
   "outputs": [],
   "source": [
    "df_cur_per = pd.read_csv(os.path.join(path_dm_oc,'dim_curso_perfil.csv'))\n",
    "df_cur_per['id_curso_perfil'] = df_cur_per['id_curso_perfil'].astype(str)\n",
    "df_cur_per = df_cur_per.fillna({'costo':0})"
   ]
  },
  {
   "cell_type": "code",
   "execution_count": 211,
   "id": "4e95a6a3-cebe-4eb2-be25-5c51cbd6fd8e",
   "metadata": {},
   "outputs": [
    {
     "name": "stderr",
     "output_type": "stream",
     "text": [
      "100%|██████████████████████████████████████████████████████████████████████████████| 5103/5103 [21:48<00:00,  3.90it/s]\n"
     ]
    }
   ],
   "source": [
    "mycursor.execute(\"DROP TABLE IF EXISTS dim_curso_perfil_oc\")\n",
    "mycursor.execute('''CREATE TABLE dim_curso_perfil_oc (\n",
    "id_curso_perfil VARCHAR(4) PRIMARY KEY,\n",
    "tipo VARCHAR(63) NOT NULL,\n",
    "area_familia VARCHAR(255) NOT NULL,\n",
    "especialidad_sector VARCHAR(255) NOT NULL,\n",
    "curso_perfil VARCHAR(255) NOT NULL,\n",
    "modalidad VARCHAR(255) NOT NULL,\n",
    "carga_horaria FLOAT NOT NULL,\n",
    "costo FLOAT NOT NULL\n",
    ")''')\n",
    "sql_formula = 'INSERT INTO dim_curso_perfil_oc ( id_curso_perfil, tipo, area_familia, especialidad_sector, curso_perfil, modalidad, carga_horaria, costo) VALUES (%s,%s,%s,%s,%s,%s,%s,%s)'\n",
    "for row in tqdm(df_cur_per.values):\n",
    "    mycursor.execute(sql_formula,tuple(row))\n",
    "    mydb.commit()"
   ]
  },
  {
   "cell_type": "markdown",
   "id": "a2eae0f4-b41f-4376-852f-1111bec2711a",
   "metadata": {
    "tags": []
   },
   "source": [
    "## Tabla dim_fecha_oc"
   ]
  },
  {
   "cell_type": "code",
   "execution_count": 212,
   "id": "4d09c5ca-3a85-4f34-bf8d-aa6861a60b9d",
   "metadata": {},
   "outputs": [],
   "source": [
    "df_fecha_oc = pd.read_csv(os.path.join(path_dm_oc,'dim_fecha.csv'))\n",
    "df_fecha_oc['id_fecha'] = df_fecha_oc['id_fecha'].astype(str)\n",
    "df_fecha_oc['anio'] = df_fecha_oc['anio'].astype(str)"
   ]
  },
  {
   "cell_type": "code",
   "execution_count": 213,
   "id": "5f068959-447a-448d-a583-19bc9b13ab43",
   "metadata": {},
   "outputs": [
    {
     "name": "stderr",
     "output_type": "stream",
     "text": [
      "100%|████████████████████████████████████████████████████████████████████████████████████| 8/8 [00:00<00:00, 20.27it/s]\n"
     ]
    }
   ],
   "source": [
    "mycursor.execute(\"DROP TABLE IF EXISTS dim_fecha_oc\")\n",
    "mycursor.execute('''CREATE TABLE dim_fecha_oc (\n",
    "id_fecha VARCHAR(4) PRIMARY KEY,\n",
    "anio VARCHAR(4) NOT NULL\n",
    ")''')\n",
    "sql_formula = 'INSERT INTO dim_fecha_oc ( id_fecha, anio) VALUES (%s,%s)'\n",
    "for row in tqdm(df_fecha_oc.values):\n",
    "    mycursor.execute(sql_formula,tuple(row))\n",
    "    mydb.commit()"
   ]
  },
  {
   "cell_type": "markdown",
   "id": "1d1aac09-0c8e-4027-86cd-d9adc669da2e",
   "metadata": {
    "tags": []
   },
   "source": [
    "## Tabla fact_oc"
   ]
  },
  {
   "cell_type": "code",
   "execution_count": 214,
   "id": "74bd9ac8-f4d7-42dd-807d-df3d1908cf91",
   "metadata": {},
   "outputs": [],
   "source": [
    "df_fact_oc = pd.read_csv(os.path.join(path_dm_oc,'fact_oc.csv'))\n",
    "df_fact_oc['id_razon_social'] = df_fact_oc['id_razon_social'].astype(str)\n",
    "df_fact_oc['id_curso_perfil'] = df_fact_oc['id_curso_perfil'].astype(str)\n",
    "df_fact_oc['id_fecha'] = df_fact_oc['id_fecha'].astype(str)"
   ]
  },
  {
   "cell_type": "code",
   "execution_count": 438,
   "id": "d7f2be9f-ccaa-498d-8ab1-f0908e8323b0",
   "metadata": {},
   "outputs": [],
   "source": [
    "#df_fact_oc.info()"
   ]
  },
  {
   "cell_type": "code",
   "execution_count": 439,
   "id": "2f80b7bc-a2c9-47f4-8361-ecb3df6d0549",
   "metadata": {},
   "outputs": [
    {
     "name": "stderr",
     "output_type": "stream",
     "text": [
      "100%|██████████| 1580/1580 [01:08<00:00, 23.02it/s]\n"
     ]
    }
   ],
   "source": [
    "mycursor.execute(\"DROP TABLE IF EXISTS fact_oc\")\n",
    "mycursor.execute('''CREATE TABLE fact_oc (\n",
    "id_razon_social VARCHAR(4) NOT NULL,\n",
    "id_curso_perfil VARCHAR(4) NOT NULL,\n",
    "id_fecha VARCHAR(4) NOT NULL,\n",
    "num_cap_cer INT NOT NULL,\n",
    "total_cursos INT NOT NULL,\n",
    "volumen_capacitados INT NOT NULL,\n",
    "total_horas INT NOT NULL,\n",
    "total_ganancias FLOAT NOT NULL\n",
    ")''')\n",
    "sql_formula = '''INSERT INTO fact_oc (id_razon_social, id_curso_perfil, id_fecha, num_cap_cer, total_cursos, volumen_capacitados, total_horas, total_ganancias) \n",
    "VALUES (%s,%s,%s,%s,%s,%s,%s,%s)'''\n",
    "for row in tqdm(df_fact_oc.values):\n",
    "    mycursor.execute(sql_formula,tuple(row))\n",
    "    mydb.commit()"
   ]
  },
  {
   "cell_type": "markdown",
   "id": "f46a16b2-bf4c-45ed-a471-db29fd4a23e5",
   "metadata": {},
   "source": [
    "## CREAR CLAVES FORANEAS OC"
   ]
  },
  {
   "cell_type": "code",
   "execution_count": 440,
   "id": "fe61faf8-45db-48f6-91e0-d50c22deeec0",
   "metadata": {},
   "outputs": [],
   "source": [
    "mycursor.execute(''' \n",
    "ALTER TABLE fact_oc\n",
    "ADD FOREIGN KEY (id_fecha) REFERENCES dim_fecha_oc(id_fecha)\n",
    "''')\n",
    "mycursor.execute(''' \n",
    "ALTER TABLE fact_oc\n",
    "ADD FOREIGN KEY (id_razon_social) REFERENCES dim_razon_social(id_razon_social)\n",
    "''')\n",
    "mycursor.execute(''' \n",
    "ALTER TABLE fact_oc\n",
    "ADD FOREIGN KEY (id_curso_perfil) REFERENCES dim_curso_perfil_oc(id_curso_perfil)\n",
    "''')\n"
   ]
  },
  {
   "cell_type": "markdown",
   "id": "55c856a1-c765-41a4-aca1-b5bdb0ee4037",
   "metadata": {},
   "source": [
    "# DATAMART OEC"
   ]
  },
  {
   "cell_type": "code",
   "execution_count": 441,
   "id": "ad952455-3787-4c2b-9396-535d4946af68",
   "metadata": {},
   "outputs": [],
   "source": [
    "#os.listdir(path_dm_oec)"
   ]
  },
  {
   "cell_type": "code",
   "execution_count": 442,
   "id": "4f898279-af32-45ca-bb67-8c2a9032b356",
   "metadata": {},
   "outputs": [
    {
     "ename": "NameError",
     "evalue": "name 'path_dmoec' is not defined",
     "output_type": "error",
     "traceback": [
      "\u001b[1;31m---------------------------------------------------------------------------\u001b[0m",
      "\u001b[1;31mNameError\u001b[0m                                 Traceback (most recent call last)",
      "Input \u001b[1;32mIn [442]\u001b[0m, in \u001b[0;36m<cell line: 1>\u001b[1;34m()\u001b[0m\n\u001b[1;32m----> 1\u001b[0m df_oec \u001b[38;5;241m=\u001b[39m pd\u001b[38;5;241m.\u001b[39mread_csv(os\u001b[38;5;241m.\u001b[39mpath\u001b[38;5;241m.\u001b[39mjoin(\u001b[43mpath_dmoec\u001b[49m,\u001b[38;5;124m'\u001b[39m\u001b[38;5;124mdim_razon_social_oec.csv\u001b[39m\u001b[38;5;124m'\u001b[39m))\n\u001b[0;32m      2\u001b[0m df_oec[\u001b[38;5;124m'\u001b[39m\u001b[38;5;124mid_oec\u001b[39m\u001b[38;5;124m'\u001b[39m] \u001b[38;5;241m=\u001b[39m df_oec[\u001b[38;5;124m'\u001b[39m\u001b[38;5;124mid_oec\u001b[39m\u001b[38;5;124m'\u001b[39m]\u001b[38;5;241m.\u001b[39mastype(\u001b[38;5;28mstr\u001b[39m)\n",
      "\u001b[1;31mNameError\u001b[0m: name 'path_dmoec' is not defined"
     ]
    }
   ],
   "source": [
    "df_oec = pd.read_csv(os.path.join(path_dm_oec,'dim_razon_social_oec.csv'))\n",
    "df_oec['id_oec'] = df_oec['id_oec'].astype(str)"
   ]
  },
  {
   "cell_type": "code",
   "execution_count": null,
   "id": "3554417f-213d-4a73-8606-02fc122c9c86",
   "metadata": {},
   "outputs": [],
   "source": [
    "mycursor.execute(\"DROP TABLE IF EXISTS dim_razon_social_oec\")\n",
    "mycursor.execute('''CREATE TABLE dim_razon_social_oec (\n",
    "id_oec VARCHAR(4) PRIMARY KEY,\n",
    "razon_social VARCHAR(255) NOT NULL,\n",
    "estado VARCHAR(63) NOT NULL,\n",
    "canton VARCHAR(63) NOT NULL,\n",
    "provincia VARCHAR(63) NOT NULL\n",
    ")''')\n",
    "sql_formula = 'INSERT INTO dim_razon_social_oec ( id_oec, razon_social, estado, canton, provincia) VALUES (%s,%s,%s,%s,%s)'\n",
    "for row in tqdm(df_oec.values):\n",
    "    mycursor.execute(sql_formula,tuple(row))\n",
    "    mydb.commit()"
   ]
  },
  {
   "cell_type": "markdown",
   "id": "4a9c220b-7689-4352-ae94-e3e626d08295",
   "metadata": {
    "tags": []
   },
   "source": [
    "## Tabla dim_perfil"
   ]
  },
  {
   "cell_type": "code",
   "execution_count": null,
   "id": "021fe845-d411-4d0d-8063-0613a842820c",
   "metadata": {},
   "outputs": [],
   "source": [
    "df_perfil = pd.read_csv(os.path.join(path_dm_oec,'dim_perfil.csv'))\n",
    "df_perfil['id_perfil'] = df_perfil['id_perfil'].astype(str)"
   ]
  },
  {
   "cell_type": "code",
   "execution_count": null,
   "id": "96983821-c9ac-4833-8491-bf41173e8d4d",
   "metadata": {},
   "outputs": [],
   "source": [
    "mycursor.execute(\"DROP TABLE IF EXISTS dim_perfil_oec\")\n",
    "mycursor.execute('''CREATE TABLE dim_perfil_oec (\n",
    "id_perfil VARCHAR(4) PRIMARY KEY,\n",
    "familia VARCHAR(255) NOT NULL,\n",
    "sector VARCHAR(255) NOT NULL,\n",
    "perfil VARCHAR(255) NOT NULL,\n",
    "modalidad VARCHAR(63) NOT NULL,\n",
    "carga_horaria INT NOT NULL,\n",
    "costo FLOAT NOT NULL\n",
    ")''')\n",
    "sql_formula = 'INSERT INTO dim_perfil_oec (id_perfil, familia, sector, perfil, modalidad, carga_horaria, costo) VALUES (%s,%s,%s,%s,%s,%s,%s)'\n",
    "for row in tqdm(df_perfil.values):\n",
    "    mycursor.execute(sql_formula,tuple(row))\n",
    "    mydb.commit()"
   ]
  },
  {
   "cell_type": "markdown",
   "id": "aa61239a-ba29-4f8e-9b01-78b9138db1ca",
   "metadata": {
    "tags": []
   },
   "source": [
    "## Tabla dim_fecha_oec"
   ]
  },
  {
   "cell_type": "code",
   "execution_count": null,
   "id": "d817f4e0-f6a1-4511-88b6-11134514582e",
   "metadata": {},
   "outputs": [],
   "source": []
  },
  {
   "cell_type": "code",
   "execution_count": null,
   "id": "b08c0076-a6fb-4aeb-8a59-8e9ac9f4e70d",
   "metadata": {},
   "outputs": [],
   "source": [
    "df_fecha_oec = pd.read_csv(os.path.join(path_dm_oec,'dim_fecha.csv'))\n",
    "df_fecha_oec['id_fecha'] = df_fecha_oec['id_fecha'].astype(str)"
   ]
  },
  {
   "cell_type": "code",
   "execution_count": null,
   "id": "d92f900a-9506-47c1-b04d-f4135a8cc5b0",
   "metadata": {
    "tags": []
   },
   "outputs": [],
   "source": [
    "mycursor.execute(\"DROP TABLE IF EXISTS dim_fecha_oec\")\n",
    "mycursor.execute('''CREATE TABLE dim_fecha_oec (\n",
    "id_fecha VARCHAR(4) PRIMARY KEY,\n",
    "dia INT NOT NULL,\n",
    "mes INT NOT NULL,\n",
    "anio INT NOT NULL\n",
    ")''')\n",
    "sql_formula = 'INSERT INTO dim_fecha_oec (id_fecha, dia, mes, anio) VALUES (%s,%s,%s,%s)'\n",
    "for row in tqdm(df_fecha_oec.values):\n",
    "    mycursor.execute(sql_formula,tuple(row))\n",
    "    mydb.commit()"
   ]
  },
  {
   "cell_type": "markdown",
   "id": "e9b84dd9-904b-463c-886b-fa6101cf4657",
   "metadata": {
    "tags": []
   },
   "source": [
    "## Tabla fact_oec"
   ]
  },
  {
   "cell_type": "code",
   "execution_count": null,
   "id": "8e5f24be-efd6-436d-970e-67dafe8d77a5",
   "metadata": {},
   "outputs": [],
   "source": [
    "df_fact_oec = pd.read_csv(os.path.join(path_dm_oec,'fact_oec.csv'))\n",
    "df_fact_oec['id_razon_social'] = df_fact_oec['id_razon_social'].astype(str)\n",
    "df_fact_oec['id_perfil'] = df_fact_oec['id_perfil'].astype(str)\n",
    "df_fact_oec['id_fecha'] = df_fact_oec['id_fecha'].astype(str)"
   ]
  },
  {
   "cell_type": "code",
   "execution_count": null,
   "id": "aaca6a23-7a95-47f8-9c1f-16a55b7966e0",
   "metadata": {
    "tags": []
   },
   "outputs": [],
   "source": [
    "mycursor.execute(\"DROP TABLE IF EXISTS fact_oec\")\n",
    "mycursor.execute('''CREATE TABLE fact_oec (\n",
    "id_razon_social VARCHAR(4) NOT NULL,\n",
    "id_perfil VARCHAR(4) NOT NULL,\n",
    "id_fecha VARCHAR(4) NOT NULL,\n",
    "num_cer INT NOT NULL,\n",
    "total_horas INT NOT NULL,\n",
    "total_cursos INT NOT NULL,\n",
    "volumen_capacitados INT NOT NULL,\n",
    "total_ganancias FLOAT NOT NULL\n",
    ")''')\n",
    "sql_formula = 'INSERT INTO fact_oec(id_razon_social, id_perfil, id_fecha, num_cer, total_horas, total_cursos, volumen_capacitados, total_ganancias) VALUES (%s,%s,%s,%s,%s,%s,%s,%s)'\n",
    "for row in tqdm(df_fact_oec.values):\n",
    "    mycursor.execute(sql_formula,tuple(row))\n",
    "    mydb.commit()"
   ]
  },
  {
   "cell_type": "markdown",
   "id": "d603b370-aac2-4585-9f02-b0718b3619e6",
   "metadata": {},
   "source": [
    "## CREAR CLAVES FORANEAS OEC"
   ]
  },
  {
   "cell_type": "code",
   "execution_count": null,
   "id": "c0d43693-6f2c-4683-81c2-f944769e355c",
   "metadata": {},
   "outputs": [],
   "source": [
    "mycursor.execute(''' \n",
    "ALTER TABLE fact_oec\n",
    "ADD FOREIGN KEY (id_fecha) REFERENCES dim_fecha_oec(id_fecha)\n",
    "''')\n",
    "mycursor.execute(''' \n",
    "ALTER TABLE fact_oec\n",
    "ADD FOREIGN KEY (id_razon_social) REFERENCES dim_razon_social(id_razon_social)\n",
    "''')\n",
    "mycursor.execute(''' \n",
    "ALTER TABLE fact_oec\n",
    "ADD FOREIGN KEY (id_perfil) REFERENCES dim_perfil_oec(id_perfil)\n",
    "''')\n"
   ]
  },
  {
   "cell_type": "markdown",
   "id": "1669a082-2be0-4d74-af61-5838a7f4d9c1",
   "metadata": {},
   "source": [
    "# DATAMART CI"
   ]
  },
  {
   "cell_type": "code",
   "execution_count": null,
   "id": "bc5a204f-1b00-4693-a62c-04f3889322a3",
   "metadata": {},
   "outputs": [],
   "source": [
    "#os.listdir(path_dm_ci)"
   ]
  },
  {
   "cell_type": "markdown",
   "id": "998817c5-cf0c-431e-a48d-5dbc640803e0",
   "metadata": {
    "tags": []
   },
   "source": [
    "## Tabla dim_curso"
   ]
  },
  {
   "cell_type": "code",
   "execution_count": null,
   "id": "9a8950f9-4321-4a8b-8408-4f5792a5741c",
   "metadata": {},
   "outputs": [],
   "source": [
    "df_curso = pd.read_csv(os.path.join(path_dm_ci,'dim_curso_ci.csv'))\n",
    "df_curso['id_curso'] = df_curso['id_curso'].astype(str)\n",
    "df_curso = df_curso.fillna({'costo':0})\n",
    "df_curso = df_curso.dropna()"
   ]
  },
  {
   "cell_type": "code",
   "execution_count": null,
   "id": "6e3fc8c5-14ad-44ec-9d2f-637ec43f109d",
   "metadata": {},
   "outputs": [],
   "source": [
    "mycursor.execute(\"DROP TABLE IF EXISTS dim_curso_ci\")\n",
    "mycursor.execute('''CREATE TABLE dim_curso_ci (\n",
    "id_curso VARCHAR(4) PRIMARY KEY,\n",
    "curso VARCHAR(255) NOT NULL,\n",
    "area VARCHAR(255) NOT NULL,\n",
    "especialidad VARCHAR(255) NOT NULL,\n",
    "modalidad VARCHAR(63) NOT NULL,\n",
    "carga_horaria INT NOT NULL,\n",
    "costo FLOAT NOT NULL\n",
    ")''')\n",
    "sql_formula = 'INSERT INTO dim_curso_ci (id_curso, curso, area, especialidad, modalidad, carga_horaria, costo) VALUES (%s,%s,%s,%s,%s,%s,%s)'\n",
    "for row in tqdm(df_curso.values):\n",
    "    mycursor.execute(sql_formula,tuple(row))\n",
    "    mydb.commit()"
   ]
  },
  {
   "cell_type": "markdown",
   "id": "d0953d8d-76bc-49e1-a983-00cde128235c",
   "metadata": {
    "tags": []
   },
   "source": [
    "## Tabla dim_fecha_ci"
   ]
  },
  {
   "cell_type": "code",
   "execution_count": null,
   "id": "ff7542b2-ea95-4bf8-b028-57aa4fe7435e",
   "metadata": {},
   "outputs": [],
   "source": [
    "df_fecha_ci = pd.read_csv(os.path.join(path_dm_ci,'dim_fecha_ci.csv'))\n",
    "df_fecha_ci['id_fecha'] = df_fecha_ci['id_fecha'].astype(str)"
   ]
  },
  {
   "cell_type": "code",
   "execution_count": null,
   "id": "d507510f-7b70-46a5-a06b-716150246df6",
   "metadata": {
    "tags": []
   },
   "outputs": [],
   "source": [
    "mycursor.execute(\"DROP TABLE IF EXISTS dim_fecha_ci\")\n",
    "mycursor.execute('''CREATE TABLE dim_fecha_ci (\n",
    "id_fecha VARCHAR(4) PRIMARY KEY,\n",
    "anio VARCHAR(15) NOT NULL\n",
    ")''')\n",
    "sql_formula = 'INSERT INTO dim_fecha_ci (id_fecha, anio) VALUES (%s,%s)'\n",
    "for row in tqdm(df_fecha_ci.values):\n",
    "    mycursor.execute(sql_formula,tuple(row))\n",
    "    mydb.commit()"
   ]
  },
  {
   "cell_type": "markdown",
   "id": "06ffb964-e9f9-49b5-bd1c-39829f5ae4dc",
   "metadata": {
    "tags": []
   },
   "source": [
    "## Tabla fact_ci"
   ]
  },
  {
   "cell_type": "code",
   "execution_count": null,
   "id": "77a9d7b7-4cc3-4cbd-8592-ad7cdfa86554",
   "metadata": {},
   "outputs": [],
   "source": [
    "df_fact_ci = pd.read_csv(os.path.join(path_dm_ci,'fact_ci.csv'))\n",
    "df_fact_ci['id_razon_social'] = df_fact_ci['id_razon_social'].astype(str)\n",
    "df_fact_ci['id_curso'] = df_fact_ci['id_curso'].astype(str)\n",
    "df_fact_ci['id_fecha'] = df_fact_ci['id_fecha'].astype(str)"
   ]
  },
  {
   "cell_type": "code",
   "execution_count": null,
   "id": "55ad22ed-0fa9-43f1-a2e9-52f89be4b8a5",
   "metadata": {
    "tags": []
   },
   "outputs": [],
   "source": [
    "mycursor.execute(\"DROP TABLE IF EXISTS fact_ci\")\n",
    "mycursor.execute('''CREATE TABLE fact_ci (\n",
    "id_razon_social VARCHAR(4) NOT NULL,\n",
    "id_curso VARCHAR(4) NOT NULL,\n",
    "id_fecha VARCHAR(4) NOT NULL,\n",
    "num_cap INT NOT NULL,\n",
    "total_cursos INT NOT NULL,\n",
    "volumen_capacitados INT NOT NULL,\n",
    "total_horas INT NOT NULL,\n",
    "total_ganancias FLOAT NOT NULL\n",
    ")''')\n",
    "sql_formula = 'INSERT INTO fact_ci(id_razon_social, id_curso, id_fecha, num_cap, total_cursos, volumen_capacitados, total_horas, total_ganancias) VALUES (%s,%s,%s,%s,%s,%s,%s,%s)'\n",
    "for row in tqdm(df_fact_ci.values):\n",
    "    mycursor.execute(sql_formula,tuple(row))\n",
    "    mydb.commit()"
   ]
  },
  {
   "cell_type": "code",
   "execution_count": null,
   "id": "2c66c398-7e17-4635-8acc-e6c86e1800ab",
   "metadata": {},
   "outputs": [],
   "source": [
    "#df_ci.info()\n",
    "# ', '.join(df_fact_ci.columns)"
   ]
  },
  {
   "cell_type": "markdown",
   "id": "e8874f8c-f6bd-4009-9dd3-d857892c0cb3",
   "metadata": {},
   "source": [
    "## CREAR CLAVES FORANEAS CI"
   ]
  },
  {
   "cell_type": "code",
   "execution_count": null,
   "id": "babb980f-7b36-4bdc-991b-5a1fa6551111",
   "metadata": {},
   "outputs": [],
   "source": [
    "mycursor.execute(''' \n",
    "ALTER TABLE fact_ci\n",
    "ADD FOREIGN KEY (id_fecha) REFERENCES dim_fecha_ci(id_fecha)\n",
    "''')"
   ]
  },
  {
   "cell_type": "code",
   "execution_count": null,
   "id": "394b4583-bbec-44f3-9650-e6d24ecb4f75",
   "metadata": {
    "tags": []
   },
   "outputs": [],
   "source": [
    "mycursor.execute(''' \n",
    "ALTER TABLE fact_ci\n",
    "ADD FOREIGN KEY (id_razon_social) REFERENCES dim_razon_social(id_razon_social)\n",
    "''')"
   ]
  },
  {
   "cell_type": "code",
   "execution_count": null,
   "id": "25bf0134-b41d-4520-b459-6e2671c04205",
   "metadata": {
    "tags": []
   },
   "outputs": [],
   "source": [
    "mycursor.execute(''' \n",
    "ALTER TABLE fact_ci\n",
    "ADD FOREIGN KEY (id_curso) REFERENCES dim_curso_ci(id_curso)\n",
    "''')"
   ]
  }
 ],
 "metadata": {
  "kernelspec": {
   "display_name": "Python 3 (ipykernel)",
   "language": "python",
   "name": "python3"
  },
  "language_info": {
   "codemirror_mode": {
    "name": "ipython",
    "version": 3
   },
   "file_extension": ".py",
   "mimetype": "text/x-python",
   "name": "python",
   "nbconvert_exporter": "python",
   "pygments_lexer": "ipython3",
   "version": "3.9.12"
  }
 },
 "nbformat": 4,
 "nbformat_minor": 5
}
