{
 "cells": [
  {
   "cell_type": "code",
   "execution_count": 2,
   "id": "572aa435-075f-40be-86c2-4b974261bf58",
   "metadata": {},
   "outputs": [],
   "source": [
    "import numpy as np\n",
    "import pandas as pd\n",
    "import os\n",
    "import mysql.connector"
   ]
  },
  {
   "cell_type": "code",
   "execution_count": 3,
   "id": "f19d4886-d554-4ee1-8599-0106d20e5f8e",
   "metadata": {},
   "outputs": [],
   "source": [
    "path_dwh =  os.path.join(os.getcwd(),'DATAWAREHOUSE')\n",
    "path_dmoc = os.path.join(path_dwh,'datamart_oc')\n",
    "path_dmoec = os.path.join(path_dwh,'datamart_oec')\n",
    "path_dmci = os.path.join(path_dwh,'datamart_ci')"
   ]
  },
  {
   "cell_type": "code",
   "execution_count": 4,
   "id": "531e45b9-80c1-431e-91ab-4aa56d97fb0a",
   "metadata": {},
   "outputs": [],
   "source": [
    "df_oc = pd.read_csv(os.path.join(path_dmoc,'dim_razon_social_oc.csv'))\n",
    "df_oc['id_oc'] = df_oc['id_oc'].astype(str)"
   ]
  },
  {
   "cell_type": "code",
   "execution_count": 45,
   "id": "ba6ce28d-a011-4b08-91a3-be150665676c",
   "metadata": {},
   "outputs": [
    {
     "name": "stdout",
     "output_type": "stream",
     "text": [
      "<class 'pandas.core.frame.DataFrame'>\n",
      "RangeIndex: 740 entries, 0 to 739\n",
      "Data columns (total 5 columns):\n",
      " #   Column        Non-Null Count  Dtype \n",
      "---  ------        --------------  ----- \n",
      " 0   id_oc         740 non-null    object\n",
      " 1   razon_social  740 non-null    object\n",
      " 2   estado        740 non-null    object\n",
      " 3   canton        740 non-null    object\n",
      " 4   provincia     740 non-null    object\n",
      "dtypes: object(5)\n",
      "memory usage: 29.0+ KB\n"
     ]
    }
   ],
   "source": [
    "df_oc.info()"
   ]
  },
  {
   "cell_type": "code",
   "execution_count": 5,
   "id": "849e7b54-e722-4ee2-a1a1-47be19d24dd2",
   "metadata": {},
   "outputs": [],
   "source": [
    "mydb = mysql.connector.connect(\n",
    "    host='localhost',\n",
    "    user='root',\n",
    "    passwd='KappaTao1233'\n",
    ")\n",
    "\n",
    "mycursor = mydb.cursor()\n",
    "mycursor.execute(\"DROP DATABASE IF EXISTS dwh_setec\")\n",
    "mycursor.execute(\"CREATE DATABASE dwh_setec\")\n",
    "mycursor.execute(\"USE dwh_setec\")\n",
    "mycursor.execute(\"CREATE TABLE dim_razon_social_oc (id_oc VARCHAR(4), razon_social VARCHAR(63),estado VARCHAR(63),canton VARCHAR(63), provincia VARCHAR(63))\")\n",
    "sql_formula = 'INSERT INTO dim_razon_social_oc ( id_oc, razon_social, estado, canton, provincia) VALUES (%s,%s,%s,%s,%s)'\n",
    "for row in df_oc.values[:10]:\n",
    "    mycursor.execute(sql_formula,tuple(row))\n",
    "    mydb.commit()"
   ]
  },
  {
   "cell_type": "code",
   "execution_count": null,
   "id": "69699d07-44ae-462e-baa3-b05f0f297a46",
   "metadata": {},
   "outputs": [],
   "source": [
    "commands = '''\n",
    "CREATE DATABASE dwh_setec;\n",
    "\n",
    "'''"
   ]
  }
 ],
 "metadata": {
  "kernelspec": {
   "display_name": "Python 3 (ipykernel)",
   "language": "python",
   "name": "python3"
  },
  "language_info": {
   "codemirror_mode": {
    "name": "ipython",
    "version": 3
   },
   "file_extension": ".py",
   "mimetype": "text/x-python",
   "name": "python",
   "nbconvert_exporter": "python",
   "pygments_lexer": "ipython3",
   "version": "3.9.12"
  }
 },
 "nbformat": 4,
 "nbformat_minor": 5
}
