{
 "cells": [
  {
   "cell_type": "markdown",
   "metadata": {},
   "source": [
    "# Integración de Datos Datawarehouse"
   ]
  },
  {
   "cell_type": "markdown",
   "metadata": {},
   "source": [
    "## Importación de librerías"
   ]
  },
  {
   "cell_type": "code",
   "execution_count": 1,
   "metadata": {
    "executionInfo": {
     "elapsed": 595,
     "status": "ok",
     "timestamp": 1668180638552,
     "user": {
      "displayName": "Sergio Jimenez",
      "userId": "03709241177248490041"
     },
     "user_tz": 300
    },
    "id": "1u5H3N_t2b8M"
   },
   "outputs": [],
   "source": [
    "import pandas as pd\n",
    "import numpy as np\n",
    "import os\n",
    "import re"
   ]
  },
  {
   "cell_type": "markdown",
   "metadata": {},
   "source": [
    "# Ambiente de Google Colab de ser necesario"
   ]
  },
  {
   "cell_type": "code",
   "execution_count": null,
   "metadata": {
    "colab": {
     "base_uri": "https://localhost:8080/"
    },
    "executionInfo": {
     "elapsed": 567817,
     "status": "ok",
     "timestamp": 1668181311849,
     "user": {
      "displayName": "Sergio Jimenez",
      "userId": "03709241177248490041"
     },
     "user_tz": 300
    },
    "id": "P34DfSwV2jZJ",
    "outputId": "e777af49-0f05-45b6-9e77-67f7aa2974d1"
   },
   "outputs": [],
   "source": [
    "#from google.colab import drive\n",
    "#drive.mount('/content/drive')"
   ]
  },
  {
   "cell_type": "markdown",
   "metadata": {},
   "source": [
    "# Ruta de Archivos"
   ]
  },
  {
   "cell_type": "code",
   "execution_count": 5,
   "metadata": {},
   "outputs": [],
   "source": [
    "base_path = os.getcwd()\n",
    "path = os.path.join(base_path, \"CLEANED_DATA\")"
   ]
  },
  {
   "cell_type": "markdown",
   "metadata": {
    "id": "EfbUfOc82wBr"
   },
   "source": [
    "# Datawarehouse"
   ]
  },
  {
   "cell_type": "code",
   "execution_count": 6,
   "metadata": {
    "executionInfo": {
     "elapsed": 194,
     "status": "ok",
     "timestamp": 1668181587634,
     "user": {
      "displayName": "Sergio Jimenez",
      "userId": "03709241177248490041"
     },
     "user_tz": 300
    },
    "id": "HGG-6ZTf86Hp"
   },
   "outputs": [],
   "source": [
    "#path_datawarehouse = '/content/drive/MyDrive/Trabajo_de_Integracion_Curricular/CODE/DataWareHouse/'\n",
    "path_datawarehouse = os.path.join(base_path, \"DATAWAREHOUSE\")\n",
    "path_datamart_oc = 'datamart_oc'\n",
    "path_datamart_oec = 'datamart_oec'\n",
    "path_datamart_ci = 'datamart_ci'"
   ]
  },
  {
   "cell_type": "markdown",
   "metadata": {
    "id": "wmmXaaIE_KJ7"
   },
   "source": [
    " ## Tabla Ubicacion"
   ]
  },
  {
   "cell_type": "code",
   "execution_count": 44,
   "metadata": {},
   "outputs": [],
   "source": [
    "df_ubicacion = pd.read_csv(os.path.join(path_datawarehouse, 'ubicacion.csv'))"
   ]
  },
  {
   "cell_type": "markdown",
   "metadata": {
    "id": "TRr3Qt3O751i"
   },
   "source": [
    "# Datamart OC"
   ]
  },
  {
   "cell_type": "markdown",
   "metadata": {
    "id": "ZaE4HScM78mS"
   },
   "source": [
    "## Dimensión Razon Social OC"
   ]
  },
  {
   "cell_type": "code",
   "execution_count": 45,
   "metadata": {},
   "outputs": [
    {
     "name": "stdout",
     "output_type": "stream",
     "text": [
      "<class 'pandas.core.frame.DataFrame'>\n",
      "RangeIndex: 746 entries, 0 to 745\n",
      "Data columns (total 5 columns):\n",
      " #   Column     Non-Null Count  Dtype \n",
      "---  ------     --------------  ----- \n",
      " 0   id_oc      746 non-null    object\n",
      " 1   nombre     746 non-null    object\n",
      " 2   estado     746 non-null    object\n",
      " 3   canton     746 non-null    object\n",
      " 4   provincia  746 non-null    object\n",
      "dtypes: object(5)\n",
      "memory usage: 29.3+ KB\n"
     ]
    }
   ],
   "source": [
    "df_oc = pd.read_csv(os.path.join(path,'oc.csv'))\n",
    "df_oc_ug = pd.read_csv(os.path.join(path,'oc_dl_provincia_canton.csv'))\n",
    "df_oc_ug['Estado']='DESCONOCIDO'\n",
    "df_oc_ug['Razon_Social']=df_oc_ug['Nombre']\n",
    "df_razon_social_oc = pd.concat([df_oc[['Razon_Social','Estado','Canton']],df_oc_ug[['Razon_Social','Estado','Canton']]],axis=0)\n",
    "df_razon_social_oc = df_razon_social_oc.drop_duplicates(subset=['Razon_Social','Canton'],keep='first')\n",
    "df_razon_social_oc=df_razon_social_oc.rename(columns={'Razon_Social':'nombre','Canton':'canton','Estado':'estado'})\n",
    "df_razon_social_oc = pd.merge(df_razon_social_oc,df_ubicacion,on='canton',how=\"left\")\n",
    "df_razon_social_oc.pop('id_ubicacion')\n",
    "df_razon_social_oc = df_razon_social_oc.fillna({'provincia':'Sin Provincia','Provincia':'Sin Provincia'})\n",
    "df_razon_social_oc = df_razon_social_oc.rename_axis('id_oc').reset_index().astype('object')"
   ]
  },
  {
   "cell_type": "code",
   "execution_count": null,
   "metadata": {},
   "outputs": [],
   "source": [
    "#df_razon_social_oc.info()"
   ]
  },
  {
   "cell_type": "code",
   "execution_count": null,
   "metadata": {},
   "outputs": [],
   "source": [
    "df_razon_social_oc.to_csv(os.path.join(path_datawarehouse,path_datamart_oc,'dim_razon_social_oc.csv'),index=False)"
   ]
  },
  {
   "cell_type": "markdown",
   "metadata": {
    "id": "hgxtmzMuCpCo"
   },
   "source": [
    "## Dimensión Curso_Perfil"
   ]
  },
  {
   "cell_type": "code",
   "execution_count": 37,
   "metadata": {
    "colab": {
     "base_uri": "https://localhost:8080/"
    },
    "executionInfo": {
     "elapsed": 994,
     "status": "ok",
     "timestamp": 1668136366932,
     "user": {
      "displayName": "Sergio Jimenez",
      "userId": "03709241177248490041"
     },
     "user_tz": 300
    },
    "id": "0af7JUUcCsRA",
    "outputId": "1f7e963c-6aa7-407f-8f74-3a63ff7aaeb6"
   },
   "outputs": [],
   "source": [
    "df_oc_cl = pd.read_csv(os.path.join(path,'oc_dl_familia_sector_perfil.csv'))\n",
    "df_oc_cl_2 = pd.read_csv(os.path.join(path,'oc_cl.csv'))\n",
    "df_oc_cl_2.pop('RUC_o_Codigo')\n",
    "df_oc_cl_2 = df_oc_cl_2.rename(columns={'Razon_Social':'Nombre'})\n",
    "df_oc_cl = pd.concat([df_oc_cl,df_oc_cl_2],axis=0)\n",
    "df_oc_cl = df_oc_cl.drop_duplicates()\n",
    "df_oc_cl['modalidad'] = np.NaN\n",
    "df_oc_cl['carga_horaria'] = np.NaN\n",
    "df_oc_cl['tipo'] = 'perfil'\n",
    "df_oc_cc = pd.read_csv(os.path.join(path,'oc_cc.csv'))\n",
    "df_oc_cc.pop('documento')\n",
    "df_oc_cc['tipo'] = 'curso'"
   ]
  },
  {
   "cell_type": "code",
   "execution_count": null,
   "metadata": {},
   "outputs": [],
   "source": [
    "data_curso_perfil = np.concatenate((df_oc_cc.values,df_oc_cl.values), axis=0)\n",
    "df_curso_perfil = pd.DataFrame(data=data_curso_perfil,columns=['razon_social','area_familia','especialidad_sector','curso_perfil','modalidad','carga_horaria','tipo'])\n",
    "df_curso_perfil.insert(0,'tipo',df_curso_perfil.pop('tipo'))\n",
    "df_curso_perfil = df_curso_perfil.rename_axis('id_curso_perfil').reset_index().astype('object')"
   ]
  },
  {
   "cell_type": "code",
   "execution_count": null,
   "metadata": {},
   "outputs": [],
   "source": [
    "# df_curso_perfil.info()"
   ]
  },
  {
   "cell_type": "code",
   "execution_count": 39,
   "metadata": {
    "id": "0p_Qskl-_J8T"
   },
   "outputs": [],
   "source": [
    "df_curso_perfil.to_csv(os.path.join(path_datawarehouse,path_datamart_oc,'dim_curso_perfil.csv'),index=False)"
   ]
  },
  {
   "cell_type": "markdown",
   "metadata": {
    "id": "qFEFmzjd_Hk4"
   },
   "source": [
    "## Hechos OC"
   ]
  },
  {
   "cell_type": "code",
   "execution_count": 40,
   "metadata": {},
   "outputs": [],
   "source": [
    "#AGREGAR AÑO\n",
    "# Cargar los archivos necesarios de la ubicación de CLEANED DATA\n",
    "df_pcoc = pd.read_csv(os.path.join(path,'pcoc.csv'))\n",
    "\n",
    "# Se extraera el año de la columna Numero_certificado.\n",
    "# Para esto se buscará porciones de texto que contengan los años del 2000 - 2022 (año actual)\n",
    "year_list = [str(x) for x in range(2022,2009,-1)]\n",
    "\n",
    "def get_year(x):\n",
    "    for year in year_list:\n",
    "        if re.search('-'+year+'\\s|'+year+'-|-'+year+'$',x):\n",
    "            return year\n",
    "    return 'sin_anio'\n",
    "\n",
    "df_pcoc['anio'] = df_pcoc['Numero_Certificado'].apply(get_year)\n",
    "\n",
    "df_oc = pd.read_csv(os.path.join(path,'oc.csv'))\n",
    "\n",
    "df_extract_0_oc = df_oc[['Razon_Social','Fecha_Resolucion']]\n",
    "\n",
    "df_pcoc = pd.merge(df_pcoc,df_extract_0_oc,left_on=['Razon_Social_OC'],right_on=['Razon_Social'],how=\"left\") \n",
    "\n",
    "def get_year_by_oc(x,y):\n",
    "    if x=='sin_anio':\n",
    "        if y != 'Sin Fecha Resolución' and not pd.isna(y):\n",
    "            return y[-4:]\n",
    "    else:\n",
    "        return x\n",
    "\n",
    "df_pcoc['anio'] = df_pcoc.apply(lambda x: get_year_by_oc(x['anio'], x['Fecha_Resolucion']), axis=1)\n",
    "\n",
    "df_pcoc[\n",
    "    (df_pcoc['anio']=='sin_anio') & \n",
    "    (df_pcoc['Fecha_Resolucion']!='Sin Fecha Resolución') &\n",
    "    (df_pcoc['Fecha_Resolucion'].notnull())\n",
    "    ]['anio'] = df_pcoc[\n",
    "    (df_pcoc['anio']=='sin_anio') & \n",
    "    (df_pcoc['Fecha_Resolucion']!='Sin Fecha Resolución') &\n",
    "    (df_pcoc['Fecha_Resolucion'].notnull())\n",
    "    ]['Fecha_Resolucion'].str.slice(start=-4)\n",
    "\n",
    "df_pcoc = df_pcoc.drop(['Razon_Social','Fecha_Resolucion'],axis=1)\n"
   ]
  },
  {
   "cell_type": "markdown",
   "metadata": {},
   "source": [
    "## Dimension Fecha OC\n",
    "\n",
    "Se debe desarrollar en base a el año el cual se haya obtenido el certificado del curso o perfil OC.\n",
    "\n",
    "En caso de no existir un año registrado en el certificado en la tabla **PCOC** se deberá tomar como referencia el año de resolución de la Razon social de la tabla **OC**"
   ]
  },
  {
   "cell_type": "code",
   "execution_count": 41,
   "metadata": {},
   "outputs": [],
   "source": [
    "\n",
    "df_fecha_oc = pd.DataFrame(data=df_pcoc['anio'].unique(),columns=['anio'])\n",
    "df_fecha_oc = df_fecha_oc.rename_axis('id_fecha').reset_index().astype('object')\n",
    "df_fecha_oc.to_csv(os.path.join(path_datawarehouse,path_datamart_oc,'dim_fecha.csv'),index=False)"
   ]
  },
  {
   "cell_type": "code",
   "execution_count": 49,
   "metadata": {},
   "outputs": [],
   "source": [
    "## UNIR DATOS\n",
    "df_fact_oc = df_pcoc.groupby(['Razon_Social_OC','Nombre_Curso_Perfil','anio']).count().reset_index().iloc[:,:4]\n",
    "df_fact_oc = df_fact_oc.rename(columns={'Numero_Documento':'num_cap_cer'})\n",
    "df_fact_oc = pd.merge(df_fact_oc,df_razon_social_oc,left_on=['Razon_Social_OC'],right_on=['nombre'],how=\"left\")\n",
    "df_fact_oc = pd.merge(df_fact_oc,df_curso_perfil,left_on=['Razon_Social_OC','Nombre_Curso_Perfil'],right_on=['razon_social','curso_perfil'],how=\"left\")\n",
    "df_fact_oc = pd.merge(df_fact_oc,df_fecha_oc,left_on=['anio'],right_on=['anio'],how=\"left\")\n",
    "df_fact_oc = df_fact_oc[['id_oc','id_curso_perfil','id_fecha','num_cap_cer']]"
   ]
  },
  {
   "cell_type": "code",
   "execution_count": 122,
   "metadata": {},
   "outputs": [],
   "source": [
    "df_curso_perfil.pop('razon_social')\n",
    "df_curso_perfil.to_csv(os.path.join(path_datawarehouse,path_datamart_oc,'dim_curso_perfil.csv'),index=False)"
   ]
  },
  {
   "cell_type": "code",
   "execution_count": 111,
   "metadata": {
    "id": "_yt0Tpr3-7AK"
   },
   "outputs": [],
   "source": [
    "df_fact_oc.to_csv(os.path.join(path_datawarehouse,path_datamart_oc,'fact_oc.csv'),index=False)"
   ]
  },
  {
   "cell_type": "markdown",
   "metadata": {
    "id": "UKh5cHw91rOw"
   },
   "source": [
    "# Dataframe OEC"
   ]
  },
  {
   "cell_type": "markdown",
   "metadata": {
    "id": "QJhODV_92GKa"
   },
   "source": [
    "### Dimensión Razon Social OEC"
   ]
  },
  {
   "cell_type": "code",
   "execution_count": null,
   "metadata": {
    "id": "F2KWkJaq1tXf"
   },
   "outputs": [],
   "source": [
    "df_oec_2 = pd.read_csv(os.path.join(path,'oec_dl_provincia_canton.csv'))\n",
    "df_oec_2['estado'] = 'DESCONOCIDO'\n",
    "df_oec_2 = df_oec_2.rename(columns={'Nombre':'razon_social','Cantón':'canton','Provincia':'provincia'})\n",
    "df_oec_2 = df_oec_2[['razon_social','estado','canton']]\n",
    "df_oec = pd.read_csv(os.path.join(path,'oec.csv'))\n",
    "df_razon_social_oec = df_oec[['Razon_Social','Estado','Canton']]\n",
    "df_razon_social_oec=df_razon_social_oec.rename(columns={'Razon_Social':'razon_social','Canton':'canton','Estado':'estado'})\n",
    "df_razon_social_oec = pd.concat([df_razon_social_oec,df_oec_2])\n",
    "df_razon_social_oec = pd.merge(df_razon_social_oec,df_ubicacion,on='canton',how=\"left\")\n",
    "df_razon_social_oec.pop('id_ubicacion')\n",
    "df_razon_social_oec = df_razon_social_oec.fillna({'provincia':'Sin Provincia'})\n",
    "df_razon_social_oec = df_razon_social_oec.drop_duplicates(subset=['razon_social'], keep='first')\n",
    "df_razon_social_oec = df_razon_social_oec.rename_axis('id_oec').reset_index().astype('object')"
   ]
  },
  {
   "cell_type": "code",
   "execution_count": null,
   "metadata": {},
   "outputs": [],
   "source": [
    "#df_razon_social_oec.info()"
   ]
  },
  {
   "cell_type": "code",
   "execution_count": 130,
   "metadata": {},
   "outputs": [],
   "source": [
    "df_razon_social_oec.to_csv(os.path.join(path_datawarehouse,path_datamart_oec,'dim_razon_social_oec.csv'),index=False)"
   ]
  },
  {
   "cell_type": "markdown",
   "metadata": {
    "id": "PfsuUbx54bB3"
   },
   "source": [
    "### Dimension Perfil"
   ]
  },
  {
   "cell_type": "code",
   "execution_count": null,
   "metadata": {
    "id": "yUZy-Sh8bhGX"
   },
   "outputs": [],
   "source": [
    "df_perfil = pd.read_csv(os.path.join(path,'oec_dl_familia_sector_perfil.csv'))\n",
    "df_perfil = df_perfil.rename(columns={'Nombre':'razon_social','Familia':'familia','Sector':'sector','Perfil':'perfil'})\n",
    "df_perfil = df_perfil.rename_axis('id_perfil').reset_index().astype('object')"
   ]
  },
  {
   "cell_type": "code",
   "execution_count": null,
   "metadata": {},
   "outputs": [],
   "source": [
    "#df_perfil.info()"
   ]
  },
  {
   "cell_type": "code",
   "execution_count": 137,
   "metadata": {},
   "outputs": [],
   "source": [
    "df_perfil.to_csv(os.path.join(path_datawarehouse,path_datamart_oec,'dim_perfil.csv'),index=False)"
   ]
  },
  {
   "cell_type": "markdown",
   "metadata": {
    "id": "5Uc9Cww15f__"
   },
   "source": [
    "## Hechos OEC"
   ]
  },
  {
   "cell_type": "code",
   "execution_count": 155,
   "metadata": {
    "colab": {
     "base_uri": "https://localhost:8080/",
     "height": 641
    },
    "executionInfo": {
     "elapsed": 2144,
     "status": "ok",
     "timestamp": 1668142577013,
     "user": {
      "displayName": "Sergio Jimenez",
      "userId": "03709241177248490041"
     },
     "user_tz": 300
    },
    "id": "RR2ufZMgjKMD",
    "outputId": "7dd70dd5-e96a-47bb-b312-543ca9fd9c8d"
   },
   "outputs": [],
   "source": [
    "df_pcoec = pd.read_csv(os.path.join(path,'pcoec.csv'))\n",
    "df_demanda_oec = df_pcoec.groupby(['OEC','Perfil','Fecha_Certificacion']).count().reset_index().iloc[:,:4]\n",
    "df_demanda_oec = df_demanda_oec.rename(columns={'Nombres':'num_cer'})\n",
    "df_demanda_oec = pd.merge(df_demanda_oec,df_razon_social_oec,left_on=['OEC'],right_on=['razon_social'],how=\"left\")"
   ]
  },
  {
   "cell_type": "markdown",
   "metadata": {},
   "source": [
    "## Dimension Fecha"
   ]
  },
  {
   "cell_type": "code",
   "execution_count": null,
   "metadata": {
    "id": "OGWUR4168r1d"
   },
   "outputs": [],
   "source": [
    "df_fecha_oec = df_demanda_oec['Fecha_Certificacion'].drop_duplicates()\n",
    "df_fecha_oec = df_fecha_oec.rename_axis('id_fecha').reset_index().astype('object')\n",
    "data_fecha = df_fecha_oec['Fecha_Certificacion'].str.rsplit(\"-\", expand=True)\n",
    "df_fecha_oec = pd.concat([df_fecha_oec,data_fecha],axis=1)\n",
    "df_fecha_oec = df_fecha_oec.rename(columns={0:'dia',1:'mes',2:'año'})"
   ]
  },
  {
   "cell_type": "code",
   "execution_count": null,
   "metadata": {},
   "outputs": [],
   "source": [
    "#df_fecha_oec.info()"
   ]
  },
  {
   "cell_type": "code",
   "execution_count": null,
   "metadata": {
    "colab": {
     "base_uri": "https://localhost:8080/",
     "height": 395
    },
    "executionInfo": {
     "elapsed": 510,
     "status": "error",
     "timestamp": 1668142798094,
     "user": {
      "displayName": "Sergio Jimenez",
      "userId": "03709241177248490041"
     },
     "user_tz": 300
    },
    "id": "r_ZwjaKY5iXP",
    "outputId": "bee47a51-f759-439c-e2d9-b23732a6f5e8"
   },
   "outputs": [],
   "source": [
    "df_demanda_oec = df_pcoec.groupby(['OEC','Perfil','Fecha_Certificacion']).count().reset_index().iloc[:,:4]\n",
    "df_demanda_oec = df_demanda_oec.rename(columns={'Nombres':'num_cer'})\n",
    "df_demanda_oec = pd.merge(df_demanda_oec,df_razon_social_oec,left_on=['OEC'],right_on=['razon_social'],how=\"left\")\n",
    "df_demanda_oec = pd.merge(df_demanda_oec,df_perfil,left_on=['OEC','Perfil'],right_on=['razon_social','perfil'],how=\"left\")\n",
    "df_demanda_oec = pd.merge(df_demanda_oec,df_fecha_oec,left_on=['Fecha_Certificacion'],right_on=['Fecha_Certificacion'],how=\"left\")\n",
    "df_demanda_oec = df_demanda_oec[['id_oec','id_perfil','id_fecha','num_cer']]"
   ]
  },
  {
   "cell_type": "code",
   "execution_count": null,
   "metadata": {},
   "outputs": [],
   "source": [
    "#df_demanda_oec.info()"
   ]
  },
  {
   "cell_type": "code",
   "execution_count": 152,
   "metadata": {},
   "outputs": [],
   "source": [
    "df_fecha_oec = df_fecha_oec.drop('Fecha_Certificacion',axis=1)\n",
    "df_fecha_oec.to_csv(os.path.join(path_datawarehouse,path_datamart_oec,'dim_fecha.csv'),index=False)"
   ]
  },
  {
   "cell_type": "code",
   "execution_count": 154,
   "metadata": {},
   "outputs": [],
   "source": [
    "df_demanda_oec.to_csv(os.path.join(path_datawarehouse,path_datamart_oec,'fact_oec.csv'),index=False)"
   ]
  },
  {
   "cell_type": "markdown",
   "metadata": {
    "id": "mDJEaTI9XyoO"
   },
   "source": [
    "# Dataframe CI"
   ]
  },
  {
   "cell_type": "markdown",
   "metadata": {},
   "source": [
    "## Dimensión Capacitador independiente"
   ]
  },
  {
   "cell_type": "code",
   "execution_count": 103,
   "metadata": {},
   "outputs": [
    {
     "name": "stdout",
     "output_type": "stream",
     "text": [
      "<class 'pandas.core.frame.DataFrame'>\n",
      "RangeIndex: 1555 entries, 0 to 1554\n",
      "Data columns (total 6 columns):\n",
      " #   Column             Non-Null Count  Dtype \n",
      "---  ------             --------------  ----- \n",
      " 0   id_ci              1555 non-null   object\n",
      " 1   razon_social       1555 non-null   object\n",
      " 2   codigo_resolucion  1555 non-null   object\n",
      " 3   provincia          1555 non-null   object\n",
      " 4   canton             1555 non-null   object\n",
      " 5   anio               1555 non-null   object\n",
      "dtypes: object(6)\n",
      "memory usage: 73.0+ KB\n"
     ]
    }
   ],
   "source": [
    "df_capacitador_ci = pd.read_csv(os.path.join(path,'ci.csv'))\n",
    "df_capacitador_ci = df_capacitador_ci.rename(columns={'Apellidos_Nombres':'razon_social','Codigo_Resolucion':'codigo_resolucion'})\n",
    "df_capacitador_ci = df_capacitador_ci[['razon_social','codigo_resolucion']]\n",
    "df_capacitador_ci_2 = pd.read_csv(os.path.join(path,'ci_dl_provincia_canton.csv'))\n",
    "df_capacitador_ci_2 = df_capacitador_ci_2.rename(columns={'Nombre':'razon_social'})\n",
    "df_capacitador_ci = pd.merge(df_capacitador_ci,df_capacitador_ci_2,left_on=['razon_social'],right_on=['razon_social'],how=\"left\")\n",
    "df_capacitador_ci_2.insert(1,'codigo_resolucion','DESCONOCIDO')\n",
    "df_capacitador_ci = pd.concat([df_capacitador_ci,df_capacitador_ci_2],axis=0)\n",
    "df_capacitador_ci = df_capacitador_ci.drop_duplicates(subset=['razon_social','Provincia','Cantón'],keep='first')\n",
    "df_capacitador_ci = df_capacitador_ci.rename(columns={'Provincia':'provincia','Cantón':'canton'})\n",
    "df_capacitador_ci = df_capacitador_ci.fillna({'provincia':'Sin Provincia','canton':'Sin Canton'})\n",
    "df_capacitador_ci['anio'] = df_capacitador_ci['codigo_resolucion'].apply(get_year)\n",
    "df_capacitador_ci  = df_capacitador_ci.rename_axis('id_ci').reset_index().astype('object')"
   ]
  },
  {
   "cell_type": "code",
   "execution_count": null,
   "metadata": {},
   "outputs": [],
   "source": [
    "# df_capacitador_ci.info()"
   ]
  },
  {
   "cell_type": "code",
   "execution_count": null,
   "metadata": {},
   "outputs": [],
   "source": [
    "df_fecha_ci = pd.DataFrame(data=df_capacitador_ci['anio'].unique(),columns=['anio'])\n",
    "df_fecha_ci = df_fecha_ci.rename_axis('id_fecha').reset_index().astype('object')"
   ]
  },
  {
   "cell_type": "markdown",
   "metadata": {},
   "source": [
    "## Dimensión Curso"
   ]
  },
  {
   "cell_type": "code",
   "execution_count": 130,
   "metadata": {
    "colab": {
     "base_uri": "https://localhost:8080/",
     "height": 658
    },
    "executionInfo": {
     "elapsed": 6,
     "status": "ok",
     "timestamp": 1668183561272,
     "user": {
      "displayName": "Sergio Jimenez",
      "userId": "03709241177248490041"
     },
     "user_tz": 300
    },
    "id": "KjECY3Khbc1I",
    "outputId": "e6ad4f47-671a-4931-8c61-fdb30c14f163"
   },
   "outputs": [
    {
     "name": "stdout",
     "output_type": "stream",
     "text": [
      "<class 'pandas.core.frame.DataFrame'>\n",
      "RangeIndex: 2934 entries, 0 to 2933\n",
      "Data columns (total 7 columns):\n",
      " #   Column             Non-Null Count  Dtype \n",
      "---  ------             --------------  ----- \n",
      " 0   id_curso           2934 non-null   object\n",
      " 1   Numero_Documento   2934 non-null   object\n",
      " 2   Apellidos_Nombres  2934 non-null   object\n",
      " 3   curso              2934 non-null   object\n",
      " 4   area               2934 non-null   object\n",
      " 5   especialidad       2934 non-null   object\n",
      " 6   carga_horaria      2913 non-null   object\n",
      "dtypes: object(7)\n",
      "memory usage: 160.6+ KB\n"
     ]
    }
   ],
   "source": [
    "df_ci_lca = pd.read_csv(os.path.join(path,'ci_lca.csv'))\n",
    "df_ci_lca = df_ci_lca.rename(columns={'Nombre_Curso':'curso','Area':'area','Especialidad':'especialidad','Carga Horaria':'carga_horaria'})\n",
    "df_ci_lca =  df_ci_lca.rename_axis('id_curso').reset_index().astype('object')"
   ]
  },
  {
   "cell_type": "code",
   "execution_count": null,
   "metadata": {},
   "outputs": [],
   "source": [
    "#df_ci_lca.info()"
   ]
  },
  {
   "cell_type": "markdown",
   "metadata": {},
   "source": [
    "## Hechos CI"
   ]
  },
  {
   "cell_type": "code",
   "execution_count": null,
   "metadata": {
    "executionInfo": {
     "elapsed": 1017,
     "status": "ok",
     "timestamp": 1668183670843,
     "user": {
      "displayName": "Sergio Jimenez",
      "userId": "03709241177248490041"
     },
     "user_tz": 300
    },
    "id": "XB1vWHuC4VeK"
   },
   "outputs": [],
   "source": [
    "df_pcci = pd.read_csv(os.path.join(path,'pcci.csv'))\n",
    "df_pcci = pd.merge(df_pcci,df_capacitador_ci,left_on=['Instructor_Capacitador'],right_on=['razon_social'],how=\"left\")\n",
    "df_pcci = df_pcci.groupby(['Instructor_Capacitador','Nombre_Curso','anio']).count().reset_index()[['Instructor_Capacitador','Nombre_Curso','anio','Numero_Documento']]\n",
    "df_pcci = df_pcci.rename(columns={'Numero_Documento':'num_cap'})\n",
    "\n",
    "df_pcci = pd.merge(df_pcci,df_ci_lca,left_on=['Instructor_Capacitador','Nombre_Curso'],right_on=['Apellidos_Nombres','curso'],how=\"left\")\n",
    "df_pcci = pd.merge(df_pcci,df_fecha_ci,left_on=['anio'],right_on=['anio'],how=\"left\")\n",
    "df_pcci = pd.merge(df_pcci,df_capacitador_ci,left_on=['Instructor_Capacitador'],right_on=['razon_social'],how=\"left\")\n",
    "fact_ci = df_pcci[['id_ci','id_curso','id_fecha','num_cap']]"
   ]
  },
  {
   "cell_type": "code",
   "execution_count": null,
   "metadata": {},
   "outputs": [],
   "source": [
    "#fact_ci.info()"
   ]
  },
  {
   "cell_type": "code",
   "execution_count": 132,
   "metadata": {
    "executionInfo": {
     "elapsed": 4,
     "status": "ok",
     "timestamp": 1668183914815,
     "user": {
      "displayName": "Sergio Jimenez",
      "userId": "03709241177248490041"
     },
     "user_tz": 300
    },
    "id": "Q3WzK_EDfrR2"
   },
   "outputs": [],
   "source": [
    "df_ci_lca = df_ci_lca.drop(['Numero_Documento', 'Apellidos_Nombres'],axis=1)\n",
    "df_ci_lca.to_csv(os.path.join(path_datawarehouse,path_datamart_ci,'dim_curso.csv'),index=False)\n",
    "df_capacitador_ci.to_csv(os.path.join(path_datawarehouse,path_datamart_ci,'dim_capacitador_independiente.csv'),index=False)\n",
    "df_fecha_ci.to_csv(os.path.join(path_datawarehouse,path_datamart_ci,'dim_fecha.csv'),index=False)\n",
    "fact_ci.to_csv(os.path.join(path_datawarehouse,path_datamart_ci,'fact_ci.csv'),index=False)"
   ]
  }
 ],
 "metadata": {
  "colab": {
   "authorship_tag": "ABX9TyMNLDbLvbEjtLPY1rQsqt6i",
   "collapsed_sections": [],
   "provenance": []
  },
  "kernelspec": {
   "display_name": "Python 3 (ipykernel)",
   "language": "python",
   "name": "python3"
  },
  "language_info": {
   "codemirror_mode": {
    "name": "ipython",
    "version": 3
   },
   "file_extension": ".py",
   "mimetype": "text/x-python",
   "name": "python",
   "nbconvert_exporter": "python",
   "pygments_lexer": "ipython3",
   "version": "3.9.12"
  },
  "vscode": {
   "interpreter": {
    "hash": "857d8669872199a61137514e88186641c3493fcbfa068d2d6eeeca0b699193af"
   }
  }
 },
 "nbformat": 4,
 "nbformat_minor": 1
}
