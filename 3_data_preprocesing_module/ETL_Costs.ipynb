{
 "cells": [
  {
   "cell_type": "markdown",
   "metadata": {},
   "source": [
    "# Análisis de costos de cursos en el mercado"
   ]
  },
  {
   "cell_type": "markdown",
   "metadata": {},
   "source": []
  },
  {
   "cell_type": "code",
   "execution_count": 1,
   "metadata": {},
   "outputs": [],
   "source": [
    "import pandas as pd\n",
    "import numpy as np\n",
    "import os\n",
    "from hermetrics.levenshtein import Levenshtein"
   ]
  },
  {
   "cell_type": "markdown",
   "metadata": {},
   "source": [
    "# Rutas de archivos"
   ]
  },
  {
   "cell_type": "code",
   "execution_count": 2,
   "metadata": {},
   "outputs": [],
   "source": [
    "path = os.path.abspath(os.path.join(os.getcwd(), '..','2_data_understanding_module','collecting_initial_data','existing_data','DIRTY_DATA'))\n",
    "path_additional_data = os.path.abspath(os.path.join(os.getcwd(), '..','2_data_understanding_module','collecting_initial_data','additional_data'))\n",
    "path_dwh = os.path.abspath(os.path.join(os.getcwd(),'DATAWAREHOUSE'))\n",
    "path_ppd = os.path.abspath(os.path.join(os.getcwd(),'CLEANED_DATA'))"
   ]
  },
  {
   "cell_type": "code",
   "execution_count": 3,
   "metadata": {},
   "outputs": [],
   "source": [
    "# Cargar los archivos de costos de educacion continua, costos de cursos cec y cursos de OC, OEC y CI\n",
    "\n",
    "df_dim_perfil = pd.read_csv(os.path.join(path_dwh,'datamart_oec','dim_perfil.csv'))\n",
    "df_dim_curso = pd.read_csv(os.path.join(path_dwh,'datamart_ci','dim_curso.csv'))\n"
   ]
  },
  {
   "cell_type": "markdown",
   "metadata": {},
   "source": [
    "### Palabras clave"
   ]
  },
  {
   "cell_type": "code",
   "execution_count": 4,
   "metadata": {},
   "outputs": [],
   "source": [
    "keyword = ['Python', 'programación web', 'paginas web', 'datos', 'Excel', 'Word', 'power point', 'BI', 'inteligencia de negocios', 'powerBI', \n",
    "'big data', 'programación', 'marketing', 'web', 'html', 'css',  'java', 'javascript', 'base de datos', 'redes', 'telecomunicaciones', 'Android', 'IOS', 'ARDUINO'\n",
    "'Business Intelligence', \n",
    "'Desarrollo de software',\n",
    "'Fibra Óptica',\n",
    "'Gerencia de sistemas',\n",
    "'Hackeo Ético',\n",
    "'Informática Forense',\n",
    "'Linux', 'WINDOWS'\n",
    "'Office',\n",
    "'PHP',\n",
    "'Project',\n",
    "'software R', 'Tableu', 'rapidminer', \n",
    "'Mysql', 'sql', 'sqlserver', 'Oracle', 'postgresql',\n",
    "'Seguridad informática',\n",
    "'Aulas virtuales', 'Moodle', 'software',\n",
    "'Wordpress', 'joomla', 'xoops', 'drupal'\n",
    "]\n",
    "\n",
    "keyword = np.char.lower(np.array(keyword))"
   ]
  },
  {
   "cell_type": "code",
   "execution_count": 4,
   "metadata": {},
   "outputs": [],
   "source": [
    "lev = Levenshtein()"
   ]
  },
  {
   "cell_type": "code",
   "execution_count": 5,
   "metadata": {},
   "outputs": [],
   "source": [
    "#Filtrar las areas de Tecnologia y TICs\n",
    "\n",
    "df_dim_curso_perfil = pd.read_csv(os.path.join(path_dwh,'datamart_oc','dim_curso_perfil.csv'))\n",
    "df_dim_curso_perfil = df_dim_curso_perfil[df_dim_curso_perfil['area_familia'] == 'TECNOLOGÍAS DE LA INFORMACIÓN Y COMUNICACIÓN']"
   ]
  },
  {
   "cell_type": "code",
   "execution_count": 29,
   "metadata": {},
   "outputs": [],
   "source": [
    "df_coec = pd.read_csv(os.path.join(path_ppd,'costos_cursos_educacion_continua.csv'))\n",
    "df_ccce = pd.read_csv(os.path.join(path_ppd,'costos_de_cursos_cec_epn.csv'))\n",
    "df_coec = pd.concat([df_coec,df_ccce])\n",
    "df_coec['curso'] = df_coec['curso'].str.cat(df_coec['modalidad'],sep=' | ')"
   ]
  },
  {
   "cell_type": "code",
   "execution_count": 30,
   "metadata": {},
   "outputs": [],
   "source": [
    "data= df_dim_curso_perfil.groupby(['curso_perfil','modalidad']).count().reset_index()\n",
    "data = data[['curso_perfil','modalidad']]\n",
    "data['curso_perfil'] = data['curso_perfil'].str.cat(data['modalidad'],sep=' | ')"
   ]
  },
  {
   "cell_type": "code",
   "execution_count": 82,
   "metadata": {},
   "outputs": [],
   "source": [
    "arr = []\n",
    "\n",
    "for i in range(len(df_coec['curso'])):\n",
    "    # Similaridad \n",
    "    sub_arr = []\n",
    "    for j in range(len(data['curso_perfil'])):\n",
    "        curso_fuente = df_coec['curso'].iloc[i]\n",
    "        curso_comparar = data['curso_perfil'].iloc[j]\n",
    "        similary = lev.similarity(curso_fuente,curso_comparar)\n",
    "        aux_similary=0\n",
    "        arr_curso = curso_comparar.split(' ')\n",
    "        if curso_comparar in curso_fuente :\n",
    "            similary = 1.0\n",
    "        else:\n",
    "            for word in arr_curso:\n",
    "                if word in curso_fuente:\n",
    "                    aux_similary+=1/len(arr_curso)\n",
    "        if aux_similary > similary and aux_similary > 2/len(arr_curso):\n",
    "            similary = aux_similary\n",
    "        sub_arr.append(similary)\n",
    "    arr.append(sub_arr)\n"
   ]
  },
  {
   "cell_type": "code",
   "execution_count": 83,
   "metadata": {},
   "outputs": [],
   "source": [
    "res = pd.DataFrame(data=arr,index=df_coec['curso'],columns=data['curso_perfil'])\n"
   ]
  },
  {
   "cell_type": "code",
   "execution_count": 84,
   "metadata": {},
   "outputs": [
    {
     "data": {
      "text/plain": [
       "3.208333333"
      ]
     },
     "execution_count": 84,
     "metadata": {},
     "output_type": "execute_result"
    }
   ],
   "source": [
    "val = res[res['EXCEL BÁSICO | ONLINE']==res['EXCEL BÁSICO | ONLINE'].max()]['EXCEL BÁSICO | ONLINE'].index.values[0]\n",
    "df_coec[df_coec['curso']==val]['precio_por_hora'].values[0]"
   ]
  },
  {
   "cell_type": "code",
   "execution_count": 48,
   "metadata": {},
   "outputs": [],
   "source": [
    "df_dim_curso_perfil['curso_perfil_modalidad'] = df_dim_curso_perfil['curso_perfil'].str.cat(df_dim_curso_perfil['modalidad'],sep=' | ')"
   ]
  },
  {
   "cell_type": "code",
   "execution_count": 85,
   "metadata": {},
   "outputs": [],
   "source": [
    "arr_curso_fuente = []\n",
    "arr_precio_por_hora = []\n",
    "for i in range(df_dim_curso_perfil.shape[0]):\n",
    "    query = df_dim_curso_perfil['curso_perfil_modalidad'].iloc[i]\n",
    "    val = res[res[query]==res[query].max()][query].index.values[0]\n",
    "    arr_curso_fuente.append(df_coec[df_coec['curso']==val][['curso','precio_por_hora']].values[0])\n"
   ]
  },
  {
   "cell_type": "code",
   "execution_count": 86,
   "metadata": {},
   "outputs": [
    {
     "name": "stdout",
     "output_type": "stream",
     "text": [
      "<class 'pandas.core.frame.DataFrame'>\n",
      "RangeIndex: 411 entries, 0 to 410\n",
      "Data columns (total 2 columns):\n",
      " #   Column           Non-Null Count  Dtype  \n",
      "---  ------           --------------  -----  \n",
      " 0   curso_fuente     411 non-null    object \n",
      " 1   precio_por_hora  411 non-null    float64\n",
      "dtypes: float64(1), object(1)\n",
      "memory usage: 6.5+ KB\n"
     ]
    }
   ],
   "source": [
    "aux_data = pd.DataFrame(data=arr_curso_fuente,columns=['curso_fuente','precio_por_hora'])\n",
    "aux_data.info()"
   ]
  },
  {
   "cell_type": "code",
   "execution_count": 103,
   "metadata": {},
   "outputs": [
    {
     "data": {
      "text/plain": [
       "True"
      ]
     },
     "execution_count": 103,
     "metadata": {},
     "output_type": "execute_result"
    }
   ],
   "source": [
    "res2 = pd.DataFrame(data=[df_dim_curso_perfil['curso_perfil_modalidad'].values,aux_data['curso_fuente'].values,aux_data['precio_por_hora'].values])\n",
    "res2 = res2.transpose()\n",
    "res2 = res2.rename(columns={0:'curso_perfil_modalidad',1:'curso_fuente',2:'precio_por_hora'})\n",
    "#res2[res2['curso_fuente']=='PYTHON | PRESENCIAL']\n",
    "#res2[res2['curso_perfil_modalidad'].str.contains('BI')]\n",
    "#res2['curso_fuente'].value_counts()\n",
    "'python' in 'tpythont' "
   ]
  },
  {
   "cell_type": "code",
   "execution_count": null,
   "metadata": {},
   "outputs": [],
   "source": [
    "\n",
    "\n",
    "\n",
    "\n",
    "# Realizar un procesado de texto en donde se contenga los nombres de los cursos por modalidad en caso de OC el resto de cursos solo se tomará un promedio general estimado de estos cursos\n",
    "\n",
    "# Procesado de texto:\n",
    "#   Aplicar a lista de las palabras clave de tecnologia\n",
    "#   Validar si un curso es igual a la lista de costos de cursos\n",
    "#   Buscar simetría en el nombre de los cursos en el sitio web y el nombre de los cursos de las listas de costos\n",
    "#   Revisará los nombre de todos los cursos y determinará las palabras sin palabras_de_parada que se repitan más para obtener palabras clave en cuenta a cursos para buscarlas"
   ]
  }
 ],
 "metadata": {
  "kernelspec": {
   "display_name": "Python 3.9.12 ('base')",
   "language": "python",
   "name": "python3"
  },
  "language_info": {
   "codemirror_mode": {
    "name": "ipython",
    "version": 3
   },
   "file_extension": ".py",
   "mimetype": "text/x-python",
   "name": "python",
   "nbconvert_exporter": "python",
   "pygments_lexer": "ipython3",
   "version": "3.9.12"
  },
  "orig_nbformat": 4,
  "vscode": {
   "interpreter": {
    "hash": "857d8669872199a61137514e88186641c3493fcbfa068d2d6eeeca0b699193af"
   }
  }
 },
 "nbformat": 4,
 "nbformat_minor": 2
}
