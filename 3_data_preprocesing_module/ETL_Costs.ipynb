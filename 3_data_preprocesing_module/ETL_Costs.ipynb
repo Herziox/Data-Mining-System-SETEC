{
 "cells": [
  {
   "cell_type": "markdown",
   "metadata": {},
   "source": [
    "# Análisis de costos de cursos en el mercado"
   ]
  },
  {
   "cell_type": "markdown",
   "metadata": {},
   "source": []
  },
  {
   "cell_type": "code",
   "execution_count": 1,
   "metadata": {},
   "outputs": [],
   "source": [
    "import pandas as pd\n",
    "import numpy as np\n",
    "import os\n",
    "from hermetrics.levenshtein import Levenshtein"
   ]
  },
  {
   "cell_type": "markdown",
   "metadata": {},
   "source": [
    "# Rutas de archivos"
   ]
  },
  {
   "cell_type": "code",
   "execution_count": 2,
   "metadata": {},
   "outputs": [],
   "source": [
    "path = os.path.abspath(os.path.join(os.getcwd(), '..','2_data_understanding_module','collecting_initial_data','existing_data','DIRTY_DATA'))\n",
    "path_additional_data = os.path.abspath(os.path.join(os.getcwd(), '..','2_data_understanding_module','collecting_initial_data','additional_data'))\n",
    "path_dwh = os.path.abspath(os.path.join(os.getcwd(),'DATAWAREHOUSE'))\n",
    "path_ppd = os.path.abspath(os.path.join(os.getcwd(),'CLEANED_DATA'))"
   ]
  },
  {
   "cell_type": "code",
   "execution_count": 3,
   "metadata": {},
   "outputs": [],
   "source": [
    "# Cargar los archivos de costos de educacion continua, costos de cursos cec y cursos de OC, OEC y CI\n",
    "\n",
    "df_dim_perfil = pd.read_csv(os.path.join(path_dwh,'datamart_oec','dim_perfil.csv'))\n",
    "df_dim_curso = pd.read_csv(os.path.join(path_dwh,'datamart_ci','dim_curso.csv'))\n"
   ]
  },
  {
   "cell_type": "markdown",
   "metadata": {},
   "source": [
    "### Palabras clave"
   ]
  },
  {
   "cell_type": "code",
   "execution_count": 4,
   "metadata": {},
   "outputs": [],
   "source": [
    "keyword = ['Python', 'programación web', 'paginas web', 'datos', 'Excel', 'Word', 'power point', 'BI', 'inteligencia de negocios', 'powerBI', \n",
    "'big data', 'programación', 'marketing', 'web', 'html', 'css',  'java', 'javascript', 'base de datos', 'redes', 'telecomunicaciones', 'Android', 'IOS', 'ARDUINO'\n",
    "'Business Intelligence', \n",
    "'Desarrollo de software',\n",
    "'Fibra Óptica',\n",
    "'Gerencia de sistemas',\n",
    "'Hackeo Ético',\n",
    "'Informática Forense',\n",
    "'Linux', 'WINDOWS'\n",
    "'Office',\n",
    "'PHP',\n",
    "'Project',\n",
    "'software R', 'Tableu', 'rapidminer', \n",
    "'Mysql', 'sql', 'sqlserver', 'Oracle', 'postgresql',\n",
    "'Seguridad informática',\n",
    "'Aulas virtuales', 'Moodle', 'software',\n",
    "'Wordpress', 'joomla', 'xoops', 'drupal'\n",
    "]\n",
    "\n",
    "keyword = np.char.lower(np.array(keyword))"
   ]
  },
  {
   "cell_type": "code",
   "execution_count": 4,
   "metadata": {},
   "outputs": [],
   "source": [
    "lev = Levenshtein()"
   ]
  },
  {
   "cell_type": "code",
   "execution_count": 5,
   "metadata": {},
   "outputs": [],
   "source": [
    "#Filtrar las areas de Tecnologia y TICs\n",
    "\n",
    "df_dim_curso_perfil = pd.read_csv(os.path.join(path_dwh,'datamart_oc','dim_curso_perfil.csv'))\n",
    "df_dim_curso_perfil = df_dim_curso_perfil[df_dim_curso_perfil['area_familia'] == 'TECNOLOGÍAS DE LA INFORMACIÓN Y COMUNICACIÓN']"
   ]
  },
  {
   "cell_type": "code",
   "execution_count": 6,
   "metadata": {},
   "outputs": [],
   "source": [
    "df_coec = pd.read_csv(os.path.join(path_ppd,'costos_cursos_educacion_continua.csv'))\n",
    "df_ccce = pd.read_csv(os.path.join(path_ppd,'costos_de_cursos_cec_epn.csv'))\n",
    "df_coec = pd.concat([df_coec,df_ccce])"
   ]
  },
  {
   "cell_type": "code",
   "execution_count": 7,
   "metadata": {},
   "outputs": [],
   "source": [
    "data= df_dim_curso_perfil.groupby(['curso_perfil','modalidad']).count().reset_index()\n",
    "data = data[['curso_perfil','modalidad']]\n",
    "data['curso_perfil'] = "
   ]
  },
  {
   "cell_type": "code",
   "execution_count": 9,
   "metadata": {},
   "outputs": [],
   "source": [
    "arr = []\n",
    "\n",
    "for i in range(len(df_coec['curso'])):\n",
    "    # Similaridad \n",
    "    sub_arr = []\n",
    "    for j in range(len(data['curso_perfil'])):\n",
    "        curso_fuente = df_coec['curso'].iloc[i]\n",
    "        curso_comparar = data['curso_perfil'].iloc[j]\n",
    "        similary = lev.similarity(curso_fuente,curso_comparar)\n",
    "        aux_similary=0\n",
    "        if curso_comparar in curso_fuente :\n",
    "            similary = 1.0\n",
    "        else:\n",
    "            arr_curso = curso_comparar.split(' ')\n",
    "            for word in arr_curso:\n",
    "                if word in curso_fuente:\n",
    "                    aux_similary+=1/len(arr_curso)\n",
    "        if aux_similary > similary:\n",
    "            similary = aux_similary\n",
    "        sub_arr.append(similary)\n",
    "    arr.append(sub_arr)\n"
   ]
  },
  {
   "cell_type": "code",
   "execution_count": 25,
   "metadata": {},
   "outputs": [
    {
     "name": "stderr",
     "output_type": "stream",
     "text": [
      "C:\\Users\\sjime\\AppData\\Local\\Temp\\ipykernel_17520\\778363828.py:3: FutureWarning: reindexing with a non-unique Index is deprecated and will raise in a future version.\n",
      "  res[res['EXCEL BÁSICO']==0.5]\n"
     ]
    },
    {
     "ename": "ValueError",
     "evalue": "cannot reindex on an axis with duplicate labels",
     "output_type": "error",
     "traceback": [
      "\u001b[1;31m---------------------------------------------------------------------------\u001b[0m",
      "\u001b[1;31mValueError\u001b[0m                                Traceback (most recent call last)",
      "\u001b[1;32mc:\\src\\University\\Data-Mining-System-SETEC\\3_data_preprocesing_module\\ETL_Costs.ipynb Celda 14\u001b[0m in \u001b[0;36m<cell line: 3>\u001b[1;34m()\u001b[0m\n\u001b[0;32m      <a href='vscode-notebook-cell:/c%3A/src/University/Data-Mining-System-SETEC/3_data_preprocesing_module/ETL_Costs.ipynb#X16sZmlsZQ%3D%3D?line=0'>1</a>\u001b[0m res \u001b[39m=\u001b[39m pd\u001b[39m.\u001b[39mDataFrame(data\u001b[39m=\u001b[39marr,index\u001b[39m=\u001b[39mdf_coec[\u001b[39m'\u001b[39m\u001b[39mcurso\u001b[39m\u001b[39m'\u001b[39m],columns\u001b[39m=\u001b[39mdata[\u001b[39m'\u001b[39m\u001b[39mcurso_perfil\u001b[39m\u001b[39m'\u001b[39m])\n\u001b[0;32m      <a href='vscode-notebook-cell:/c%3A/src/University/Data-Mining-System-SETEC/3_data_preprocesing_module/ETL_Costs.ipynb#X16sZmlsZQ%3D%3D?line=1'>2</a>\u001b[0m res[\u001b[39m'\u001b[39m\u001b[39mEXCEL BÁSICO\u001b[39m\u001b[39m'\u001b[39m]\u001b[39m.\u001b[39mmax()\n\u001b[1;32m----> <a href='vscode-notebook-cell:/c%3A/src/University/Data-Mining-System-SETEC/3_data_preprocesing_module/ETL_Costs.ipynb#X16sZmlsZQ%3D%3D?line=2'>3</a>\u001b[0m res[res[\u001b[39m'\u001b[39;49m\u001b[39mEXCEL BÁSICO\u001b[39;49m\u001b[39m'\u001b[39;49m]\u001b[39m==\u001b[39;49m\u001b[39m0.5\u001b[39;49m]\n",
      "File \u001b[1;32mc:\\Users\\sjime\\anaconda3\\lib\\site-packages\\pandas\\core\\frame.py:3492\u001b[0m, in \u001b[0;36mDataFrame.__getitem__\u001b[1;34m(self, key)\u001b[0m\n\u001b[0;32m   3490\u001b[0m \u001b[39m# Do we have a (boolean) DataFrame?\u001b[39;00m\n\u001b[0;32m   3491\u001b[0m \u001b[39mif\u001b[39;00m \u001b[39misinstance\u001b[39m(key, DataFrame):\n\u001b[1;32m-> 3492\u001b[0m     \u001b[39mreturn\u001b[39;00m \u001b[39mself\u001b[39;49m\u001b[39m.\u001b[39;49mwhere(key)\n\u001b[0;32m   3494\u001b[0m \u001b[39m# Do we have a (boolean) 1d indexer?\u001b[39;00m\n\u001b[0;32m   3495\u001b[0m \u001b[39mif\u001b[39;00m com\u001b[39m.\u001b[39mis_bool_indexer(key):\n",
      "File \u001b[1;32mc:\\Users\\sjime\\anaconda3\\lib\\site-packages\\pandas\\util\\_decorators.py:311\u001b[0m, in \u001b[0;36mdeprecate_nonkeyword_arguments.<locals>.decorate.<locals>.wrapper\u001b[1;34m(*args, **kwargs)\u001b[0m\n\u001b[0;32m    305\u001b[0m \u001b[39mif\u001b[39;00m \u001b[39mlen\u001b[39m(args) \u001b[39m>\u001b[39m num_allow_args:\n\u001b[0;32m    306\u001b[0m     warnings\u001b[39m.\u001b[39mwarn(\n\u001b[0;32m    307\u001b[0m         msg\u001b[39m.\u001b[39mformat(arguments\u001b[39m=\u001b[39marguments),\n\u001b[0;32m    308\u001b[0m         \u001b[39mFutureWarning\u001b[39;00m,\n\u001b[0;32m    309\u001b[0m         stacklevel\u001b[39m=\u001b[39mstacklevel,\n\u001b[0;32m    310\u001b[0m     )\n\u001b[1;32m--> 311\u001b[0m \u001b[39mreturn\u001b[39;00m func(\u001b[39m*\u001b[39margs, \u001b[39m*\u001b[39m\u001b[39m*\u001b[39mkwargs)\n",
      "File \u001b[1;32mc:\\Users\\sjime\\anaconda3\\lib\\site-packages\\pandas\\core\\frame.py:10955\u001b[0m, in \u001b[0;36mDataFrame.where\u001b[1;34m(self, cond, other, inplace, axis, level, errors, try_cast)\u001b[0m\n\u001b[0;32m  10942\u001b[0m \u001b[39m@deprecate_nonkeyword_arguments\u001b[39m(\n\u001b[0;32m  10943\u001b[0m     version\u001b[39m=\u001b[39m\u001b[39mNone\u001b[39;00m, allowed_args\u001b[39m=\u001b[39m[\u001b[39m\"\u001b[39m\u001b[39mself\u001b[39m\u001b[39m\"\u001b[39m, \u001b[39m\"\u001b[39m\u001b[39mcond\u001b[39m\u001b[39m\"\u001b[39m, \u001b[39m\"\u001b[39m\u001b[39mother\u001b[39m\u001b[39m\"\u001b[39m]\n\u001b[0;32m  10944\u001b[0m )\n\u001b[1;32m   (...)\u001b[0m\n\u001b[0;32m  10953\u001b[0m     try_cast\u001b[39m=\u001b[39mlib\u001b[39m.\u001b[39mno_default,\n\u001b[0;32m  10954\u001b[0m ):\n\u001b[1;32m> 10955\u001b[0m     \u001b[39mreturn\u001b[39;00m \u001b[39msuper\u001b[39;49m()\u001b[39m.\u001b[39;49mwhere(cond, other, inplace, axis, level, errors, try_cast)\n",
      "File \u001b[1;32mc:\\Users\\sjime\\anaconda3\\lib\\site-packages\\pandas\\core\\generic.py:9308\u001b[0m, in \u001b[0;36mNDFrame.where\u001b[1;34m(self, cond, other, inplace, axis, level, errors, try_cast)\u001b[0m\n\u001b[0;32m   9300\u001b[0m \u001b[39mif\u001b[39;00m try_cast \u001b[39mis\u001b[39;00m \u001b[39mnot\u001b[39;00m lib\u001b[39m.\u001b[39mno_default:\n\u001b[0;32m   9301\u001b[0m     warnings\u001b[39m.\u001b[39mwarn(\n\u001b[0;32m   9302\u001b[0m         \u001b[39m\"\u001b[39m\u001b[39mtry_cast keyword is deprecated and will be removed in a \u001b[39m\u001b[39m\"\u001b[39m\n\u001b[0;32m   9303\u001b[0m         \u001b[39m\"\u001b[39m\u001b[39mfuture version.\u001b[39m\u001b[39m\"\u001b[39m,\n\u001b[0;32m   9304\u001b[0m         \u001b[39mFutureWarning\u001b[39;00m,\n\u001b[0;32m   9305\u001b[0m         stacklevel\u001b[39m=\u001b[39mfind_stack_level(),\n\u001b[0;32m   9306\u001b[0m     )\n\u001b[1;32m-> 9308\u001b[0m \u001b[39mreturn\u001b[39;00m \u001b[39mself\u001b[39;49m\u001b[39m.\u001b[39;49m_where(cond, other, inplace, axis, level, errors\u001b[39m=\u001b[39;49merrors)\n",
      "File \u001b[1;32mc:\\Users\\sjime\\anaconda3\\lib\\site-packages\\pandas\\core\\generic.py:9075\u001b[0m, in \u001b[0;36mNDFrame._where\u001b[1;34m(self, cond, other, inplace, axis, level, errors)\u001b[0m\n\u001b[0;32m   9072\u001b[0m     cond \u001b[39m=\u001b[39m cond\u001b[39m.\u001b[39mastype(\u001b[39mbool\u001b[39m)\n\u001b[0;32m   9074\u001b[0m cond \u001b[39m=\u001b[39m \u001b[39m-\u001b[39mcond \u001b[39mif\u001b[39;00m inplace \u001b[39melse\u001b[39;00m cond\n\u001b[1;32m-> 9075\u001b[0m cond \u001b[39m=\u001b[39m cond\u001b[39m.\u001b[39;49mreindex(\u001b[39mself\u001b[39;49m\u001b[39m.\u001b[39;49m_info_axis, axis\u001b[39m=\u001b[39;49m\u001b[39mself\u001b[39;49m\u001b[39m.\u001b[39;49m_info_axis_number, copy\u001b[39m=\u001b[39;49m\u001b[39mFalse\u001b[39;49;00m)\n\u001b[0;32m   9077\u001b[0m \u001b[39m# try to align with other\u001b[39;00m\n\u001b[0;32m   9078\u001b[0m \u001b[39mif\u001b[39;00m \u001b[39misinstance\u001b[39m(other, NDFrame):\n\u001b[0;32m   9079\u001b[0m \n\u001b[0;32m   9080\u001b[0m     \u001b[39m# align with me\u001b[39;00m\n",
      "File \u001b[1;32mc:\\Users\\sjime\\anaconda3\\lib\\site-packages\\pandas\\util\\_decorators.py:324\u001b[0m, in \u001b[0;36mrewrite_axis_style_signature.<locals>.decorate.<locals>.wrapper\u001b[1;34m(*args, **kwargs)\u001b[0m\n\u001b[0;32m    322\u001b[0m \u001b[39m@wraps\u001b[39m(func)\n\u001b[0;32m    323\u001b[0m \u001b[39mdef\u001b[39;00m \u001b[39mwrapper\u001b[39m(\u001b[39m*\u001b[39margs, \u001b[39m*\u001b[39m\u001b[39m*\u001b[39mkwargs) \u001b[39m-\u001b[39m\u001b[39m>\u001b[39m Callable[\u001b[39m.\u001b[39m\u001b[39m.\u001b[39m\u001b[39m.\u001b[39m, Any]:\n\u001b[1;32m--> 324\u001b[0m     \u001b[39mreturn\u001b[39;00m func(\u001b[39m*\u001b[39margs, \u001b[39m*\u001b[39m\u001b[39m*\u001b[39mkwargs)\n",
      "File \u001b[1;32mc:\\Users\\sjime\\anaconda3\\lib\\site-packages\\pandas\\core\\frame.py:4804\u001b[0m, in \u001b[0;36mDataFrame.reindex\u001b[1;34m(self, *args, **kwargs)\u001b[0m\n\u001b[0;32m   4802\u001b[0m kwargs\u001b[39m.\u001b[39mpop(\u001b[39m\"\u001b[39m\u001b[39maxis\u001b[39m\u001b[39m\"\u001b[39m, \u001b[39mNone\u001b[39;00m)\n\u001b[0;32m   4803\u001b[0m kwargs\u001b[39m.\u001b[39mpop(\u001b[39m\"\u001b[39m\u001b[39mlabels\u001b[39m\u001b[39m\"\u001b[39m, \u001b[39mNone\u001b[39;00m)\n\u001b[1;32m-> 4804\u001b[0m \u001b[39mreturn\u001b[39;00m \u001b[39msuper\u001b[39m()\u001b[39m.\u001b[39mreindex(\u001b[39m*\u001b[39m\u001b[39m*\u001b[39mkwargs)\n",
      "File \u001b[1;32mc:\\Users\\sjime\\anaconda3\\lib\\site-packages\\pandas\\core\\generic.py:4966\u001b[0m, in \u001b[0;36mNDFrame.reindex\u001b[1;34m(self, *args, **kwargs)\u001b[0m\n\u001b[0;32m   4963\u001b[0m     \u001b[39mreturn\u001b[39;00m \u001b[39mself\u001b[39m\u001b[39m.\u001b[39m_reindex_multi(axes, copy, fill_value)\n\u001b[0;32m   4965\u001b[0m \u001b[39m# perform the reindex on the axes\u001b[39;00m\n\u001b[1;32m-> 4966\u001b[0m \u001b[39mreturn\u001b[39;00m \u001b[39mself\u001b[39;49m\u001b[39m.\u001b[39;49m_reindex_axes(\n\u001b[0;32m   4967\u001b[0m     axes, level, limit, tolerance, method, fill_value, copy\n\u001b[0;32m   4968\u001b[0m )\u001b[39m.\u001b[39m__finalize__(\u001b[39mself\u001b[39m, method\u001b[39m=\u001b[39m\u001b[39m\"\u001b[39m\u001b[39mreindex\u001b[39m\u001b[39m\"\u001b[39m)\n",
      "File \u001b[1;32mc:\\Users\\sjime\\anaconda3\\lib\\site-packages\\pandas\\core\\frame.py:4617\u001b[0m, in \u001b[0;36mDataFrame._reindex_axes\u001b[1;34m(self, axes, level, limit, tolerance, method, fill_value, copy)\u001b[0m\n\u001b[0;32m   4615\u001b[0m columns \u001b[39m=\u001b[39m axes[\u001b[39m\"\u001b[39m\u001b[39mcolumns\u001b[39m\u001b[39m\"\u001b[39m]\n\u001b[0;32m   4616\u001b[0m \u001b[39mif\u001b[39;00m columns \u001b[39mis\u001b[39;00m \u001b[39mnot\u001b[39;00m \u001b[39mNone\u001b[39;00m:\n\u001b[1;32m-> 4617\u001b[0m     frame \u001b[39m=\u001b[39m frame\u001b[39m.\u001b[39;49m_reindex_columns(\n\u001b[0;32m   4618\u001b[0m         columns, method, copy, level, fill_value, limit, tolerance\n\u001b[0;32m   4619\u001b[0m     )\n\u001b[0;32m   4621\u001b[0m index \u001b[39m=\u001b[39m axes[\u001b[39m\"\u001b[39m\u001b[39mindex\u001b[39m\u001b[39m\"\u001b[39m]\n\u001b[0;32m   4622\u001b[0m \u001b[39mif\u001b[39;00m index \u001b[39mis\u001b[39;00m \u001b[39mnot\u001b[39;00m \u001b[39mNone\u001b[39;00m:\n",
      "File \u001b[1;32mc:\\Users\\sjime\\anaconda3\\lib\\site-packages\\pandas\\core\\frame.py:4662\u001b[0m, in \u001b[0;36mDataFrame._reindex_columns\u001b[1;34m(self, new_columns, method, copy, level, fill_value, limit, tolerance)\u001b[0m\n\u001b[0;32m   4649\u001b[0m \u001b[39mdef\u001b[39;00m \u001b[39m_reindex_columns\u001b[39m(\n\u001b[0;32m   4650\u001b[0m     \u001b[39mself\u001b[39m,\n\u001b[0;32m   4651\u001b[0m     new_columns,\n\u001b[1;32m   (...)\u001b[0m\n\u001b[0;32m   4657\u001b[0m     tolerance\u001b[39m=\u001b[39m\u001b[39mNone\u001b[39;00m,\n\u001b[0;32m   4658\u001b[0m ):\n\u001b[0;32m   4659\u001b[0m     new_columns, indexer \u001b[39m=\u001b[39m \u001b[39mself\u001b[39m\u001b[39m.\u001b[39mcolumns\u001b[39m.\u001b[39mreindex(\n\u001b[0;32m   4660\u001b[0m         new_columns, method\u001b[39m=\u001b[39mmethod, level\u001b[39m=\u001b[39mlevel, limit\u001b[39m=\u001b[39mlimit, tolerance\u001b[39m=\u001b[39mtolerance\n\u001b[0;32m   4661\u001b[0m     )\n\u001b[1;32m-> 4662\u001b[0m     \u001b[39mreturn\u001b[39;00m \u001b[39mself\u001b[39;49m\u001b[39m.\u001b[39;49m_reindex_with_indexers(\n\u001b[0;32m   4663\u001b[0m         {\u001b[39m1\u001b[39;49m: [new_columns, indexer]},\n\u001b[0;32m   4664\u001b[0m         copy\u001b[39m=\u001b[39;49mcopy,\n\u001b[0;32m   4665\u001b[0m         fill_value\u001b[39m=\u001b[39;49mfill_value,\n\u001b[0;32m   4666\u001b[0m         allow_dups\u001b[39m=\u001b[39;49m\u001b[39mFalse\u001b[39;49;00m,\n\u001b[0;32m   4667\u001b[0m     )\n",
      "File \u001b[1;32mc:\\Users\\sjime\\anaconda3\\lib\\site-packages\\pandas\\core\\generic.py:5032\u001b[0m, in \u001b[0;36mNDFrame._reindex_with_indexers\u001b[1;34m(self, reindexers, fill_value, copy, allow_dups)\u001b[0m\n\u001b[0;32m   5029\u001b[0m     indexer \u001b[39m=\u001b[39m ensure_platform_int(indexer)\n\u001b[0;32m   5031\u001b[0m \u001b[39m# TODO: speed up on homogeneous DataFrame objects (see _reindex_multi)\u001b[39;00m\n\u001b[1;32m-> 5032\u001b[0m new_data \u001b[39m=\u001b[39m new_data\u001b[39m.\u001b[39;49mreindex_indexer(\n\u001b[0;32m   5033\u001b[0m     index,\n\u001b[0;32m   5034\u001b[0m     indexer,\n\u001b[0;32m   5035\u001b[0m     axis\u001b[39m=\u001b[39;49mbaxis,\n\u001b[0;32m   5036\u001b[0m     fill_value\u001b[39m=\u001b[39;49mfill_value,\n\u001b[0;32m   5037\u001b[0m     allow_dups\u001b[39m=\u001b[39;49mallow_dups,\n\u001b[0;32m   5038\u001b[0m     copy\u001b[39m=\u001b[39;49mcopy,\n\u001b[0;32m   5039\u001b[0m )\n\u001b[0;32m   5040\u001b[0m \u001b[39m# If we've made a copy once, no need to make another one\u001b[39;00m\n\u001b[0;32m   5041\u001b[0m copy \u001b[39m=\u001b[39m \u001b[39mFalse\u001b[39;00m\n",
      "File \u001b[1;32mc:\\Users\\sjime\\anaconda3\\lib\\site-packages\\pandas\\core\\internals\\managers.py:679\u001b[0m, in \u001b[0;36mBaseBlockManager.reindex_indexer\u001b[1;34m(self, new_axis, indexer, axis, fill_value, allow_dups, copy, consolidate, only_slice, use_na_proxy)\u001b[0m\n\u001b[0;32m    677\u001b[0m \u001b[39m# some axes don't allow reindexing with dups\u001b[39;00m\n\u001b[0;32m    678\u001b[0m \u001b[39mif\u001b[39;00m \u001b[39mnot\u001b[39;00m allow_dups:\n\u001b[1;32m--> 679\u001b[0m     \u001b[39mself\u001b[39;49m\u001b[39m.\u001b[39;49maxes[axis]\u001b[39m.\u001b[39;49m_validate_can_reindex(indexer)\n\u001b[0;32m    681\u001b[0m \u001b[39mif\u001b[39;00m axis \u001b[39m>\u001b[39m\u001b[39m=\u001b[39m \u001b[39mself\u001b[39m\u001b[39m.\u001b[39mndim:\n\u001b[0;32m    682\u001b[0m     \u001b[39mraise\u001b[39;00m \u001b[39mIndexError\u001b[39;00m(\u001b[39m\"\u001b[39m\u001b[39mRequested axis not found in manager\u001b[39m\u001b[39m\"\u001b[39m)\n",
      "File \u001b[1;32mc:\\Users\\sjime\\anaconda3\\lib\\site-packages\\pandas\\core\\indexes\\base.py:4107\u001b[0m, in \u001b[0;36mIndex._validate_can_reindex\u001b[1;34m(self, indexer)\u001b[0m\n\u001b[0;32m   4105\u001b[0m \u001b[39m# trying to reindex on an axis with duplicates\u001b[39;00m\n\u001b[0;32m   4106\u001b[0m \u001b[39mif\u001b[39;00m \u001b[39mnot\u001b[39;00m \u001b[39mself\u001b[39m\u001b[39m.\u001b[39m_index_as_unique \u001b[39mand\u001b[39;00m \u001b[39mlen\u001b[39m(indexer):\n\u001b[1;32m-> 4107\u001b[0m     \u001b[39mraise\u001b[39;00m \u001b[39mValueError\u001b[39;00m(\u001b[39m\"\u001b[39m\u001b[39mcannot reindex on an axis with duplicate labels\u001b[39m\u001b[39m\"\u001b[39m)\n",
      "\u001b[1;31mValueError\u001b[0m: cannot reindex on an axis with duplicate labels"
     ]
    }
   ],
   "source": [
    "res = pd.DataFrame(data=arr,index=df_coec['curso'],columns=data['curso_perfil'])\n",
    "res['EXCEL BÁSICO'].max()\n",
    "res[res['EXCEL BÁSICO']==0.5]"
   ]
  },
  {
   "cell_type": "code",
   "execution_count": 90,
   "metadata": {},
   "outputs": [
    {
     "data": {
      "text/plain": [
       "curso_perfil\n",
       "3D STUDIO MAX                                                                      0.074074\n",
       "3DS MAX + VRAY - VISUALIZACIÓN ARQUITECTÓNICA                                      0.142857\n",
       "3DS MAX +VRAY -VISUALIZACIÓN ARQUITECTÓNICA                                        0.093023\n",
       "ADMINISTRACIÓN DE LA PLATAFORMA MOODLE                                             0.086957\n",
       "ADMINISTRACIÓN DE LA PLATAFORMA MOODLE                                             0.086957\n",
       "                                                                                     ...   \n",
       "WATERCAD & SEWERCAD -DISEÑO DE REDES DE AGUA POTABLE Y ALCANTARILLADO SANITARIO    0.088710\n",
       "WORD AVANZADO                                                                      0.058824\n",
       "WORD BASICO                                                                        0.062500\n",
       "WORD INTERMEDIO                                                                    0.047619\n",
       "WORDPRESS                                                                          0.000000\n",
       "Length: 356, dtype: float64"
      ]
     },
     "execution_count": 90,
     "metadata": {},
     "output_type": "execute_result"
    }
   ],
   "source": [
    "res.max()"
   ]
  },
  {
   "cell_type": "code",
   "execution_count": 91,
   "metadata": {},
   "outputs": [
    {
     "ename": "KeyError",
     "evalue": "\"None of [Float64Index([0.07407407407407407, 0.14285714285714285, 0.09302325581395354,\\n              0.08695652173913049, 0.08695652173913049, 0.08695652173913049,\\n              0.07894736842105265, 0.07894736842105265, 0.09302325581395354,\\n              0.04761904761904767,\\n              ...\\n              0.10810810810810811, 0.07692307692307687, 0.16666666666666666,\\n                              0.2, 0.09677419354838712, 0.08870967741935487,\\n              0.05882352941176472,              0.0625, 0.04761904761904767,\\n                              0.0],\\n             dtype='float64', name='curso_perfil', length=356)] are in the [columns]\"",
     "output_type": "error",
     "traceback": [
      "\u001b[1;31m---------------------------------------------------------------------------\u001b[0m",
      "\u001b[1;31mKeyError\u001b[0m                                  Traceback (most recent call last)",
      "\u001b[1;32mc:\\src\\University\\Data-Mining-System-SETEC\\3_data_preprocesing_module\\ETL_Costs.ipynb Celda 16\u001b[0m in \u001b[0;36m<cell line: 2>\u001b[1;34m()\u001b[0m\n\u001b[0;32m      <a href='vscode-notebook-cell:/c%3A/src/University/Data-Mining-System-SETEC/3_data_preprocesing_module/ETL_Costs.ipynb#X25sZmlsZQ%3D%3D?line=0'>1</a>\u001b[0m \u001b[39m#res['3D STUDIO MAX'][res['3D STUDIO MAX']==res['3D STUDIO MAX'].max()]\u001b[39;00m\n\u001b[1;32m----> <a href='vscode-notebook-cell:/c%3A/src/University/Data-Mining-System-SETEC/3_data_preprocesing_module/ETL_Costs.ipynb#X25sZmlsZQ%3D%3D?line=1'>2</a>\u001b[0m res[res\u001b[39m.\u001b[39;49mmax()]\n",
      "File \u001b[1;32mc:\\Users\\sjime\\anaconda3\\lib\\site-packages\\pandas\\core\\frame.py:3511\u001b[0m, in \u001b[0;36mDataFrame.__getitem__\u001b[1;34m(self, key)\u001b[0m\n\u001b[0;32m   3509\u001b[0m     \u001b[39mif\u001b[39;00m is_iterator(key):\n\u001b[0;32m   3510\u001b[0m         key \u001b[39m=\u001b[39m \u001b[39mlist\u001b[39m(key)\n\u001b[1;32m-> 3511\u001b[0m     indexer \u001b[39m=\u001b[39m \u001b[39mself\u001b[39;49m\u001b[39m.\u001b[39;49mcolumns\u001b[39m.\u001b[39;49m_get_indexer_strict(key, \u001b[39m\"\u001b[39;49m\u001b[39mcolumns\u001b[39;49m\u001b[39m\"\u001b[39;49m)[\u001b[39m1\u001b[39m]\n\u001b[0;32m   3513\u001b[0m \u001b[39m# take() does not accept boolean indexers\u001b[39;00m\n\u001b[0;32m   3514\u001b[0m \u001b[39mif\u001b[39;00m \u001b[39mgetattr\u001b[39m(indexer, \u001b[39m\"\u001b[39m\u001b[39mdtype\u001b[39m\u001b[39m\"\u001b[39m, \u001b[39mNone\u001b[39;00m) \u001b[39m==\u001b[39m \u001b[39mbool\u001b[39m:\n",
      "File \u001b[1;32mc:\\Users\\sjime\\anaconda3\\lib\\site-packages\\pandas\\core\\indexes\\base.py:5782\u001b[0m, in \u001b[0;36mIndex._get_indexer_strict\u001b[1;34m(self, key, axis_name)\u001b[0m\n\u001b[0;32m   5779\u001b[0m \u001b[39melse\u001b[39;00m:\n\u001b[0;32m   5780\u001b[0m     keyarr, indexer, new_indexer \u001b[39m=\u001b[39m \u001b[39mself\u001b[39m\u001b[39m.\u001b[39m_reindex_non_unique(keyarr)\n\u001b[1;32m-> 5782\u001b[0m \u001b[39mself\u001b[39;49m\u001b[39m.\u001b[39;49m_raise_if_missing(keyarr, indexer, axis_name)\n\u001b[0;32m   5784\u001b[0m keyarr \u001b[39m=\u001b[39m \u001b[39mself\u001b[39m\u001b[39m.\u001b[39mtake(indexer)\n\u001b[0;32m   5785\u001b[0m \u001b[39mif\u001b[39;00m \u001b[39misinstance\u001b[39m(key, Index):\n\u001b[0;32m   5786\u001b[0m     \u001b[39m# GH 42790 - Preserve name from an Index\u001b[39;00m\n",
      "File \u001b[1;32mc:\\Users\\sjime\\anaconda3\\lib\\site-packages\\pandas\\core\\indexes\\base.py:5842\u001b[0m, in \u001b[0;36mIndex._raise_if_missing\u001b[1;34m(self, key, indexer, axis_name)\u001b[0m\n\u001b[0;32m   5840\u001b[0m     \u001b[39mif\u001b[39;00m use_interval_msg:\n\u001b[0;32m   5841\u001b[0m         key \u001b[39m=\u001b[39m \u001b[39mlist\u001b[39m(key)\n\u001b[1;32m-> 5842\u001b[0m     \u001b[39mraise\u001b[39;00m \u001b[39mKeyError\u001b[39;00m(\u001b[39mf\u001b[39m\u001b[39m\"\u001b[39m\u001b[39mNone of [\u001b[39m\u001b[39m{\u001b[39;00mkey\u001b[39m}\u001b[39;00m\u001b[39m] are in the [\u001b[39m\u001b[39m{\u001b[39;00maxis_name\u001b[39m}\u001b[39;00m\u001b[39m]\u001b[39m\u001b[39m\"\u001b[39m)\n\u001b[0;32m   5844\u001b[0m not_found \u001b[39m=\u001b[39m \u001b[39mlist\u001b[39m(ensure_index(key)[missing_mask\u001b[39m.\u001b[39mnonzero()[\u001b[39m0\u001b[39m]]\u001b[39m.\u001b[39munique())\n\u001b[0;32m   5845\u001b[0m \u001b[39mraise\u001b[39;00m \u001b[39mKeyError\u001b[39;00m(\u001b[39mf\u001b[39m\u001b[39m\"\u001b[39m\u001b[39m{\u001b[39;00mnot_found\u001b[39m}\u001b[39;00m\u001b[39m not in index\u001b[39m\u001b[39m\"\u001b[39m)\n",
      "\u001b[1;31mKeyError\u001b[0m: \"None of [Float64Index([0.07407407407407407, 0.14285714285714285, 0.09302325581395354,\\n              0.08695652173913049, 0.08695652173913049, 0.08695652173913049,\\n              0.07894736842105265, 0.07894736842105265, 0.09302325581395354,\\n              0.04761904761904767,\\n              ...\\n              0.10810810810810811, 0.07692307692307687, 0.16666666666666666,\\n                              0.2, 0.09677419354838712, 0.08870967741935487,\\n              0.05882352941176472,              0.0625, 0.04761904761904767,\\n                              0.0],\\n             dtype='float64', name='curso_perfil', length=356)] are in the [columns]\""
     ]
    }
   ],
   "source": [
    "#res['3D STUDIO MAX'][res['3D STUDIO MAX']==res['3D STUDIO MAX'].max()]\n",
    "res[res.max()]"
   ]
  },
  {
   "cell_type": "code",
   "execution_count": null,
   "metadata": {},
   "outputs": [],
   "source": [
    "\n",
    "\n",
    "\n",
    "\n",
    "# Realizar un procesado de texto en donde se contenga los nombres de los cursos por modalidad en caso de OC el resto de cursos solo se tomará un promedio general estimado de estos cursos\n",
    "\n",
    "# Procesado de texto:\n",
    "#   Aplicar a lista de las palabras clave de tecnologia\n",
    "#   Validar si un curso es igual a la lista de costos de cursos\n",
    "#   Buscar simetría en el nombre de los cursos en el sitio web y el nombre de los cursos de las listas de costos\n",
    "#   Revisará los nombre de todos los cursos y determinará las palabras sin palabras_de_parada que se repitan más para obtener palabras clave en cuenta a cursos para buscarlas"
   ]
  }
 ],
 "metadata": {
  "kernelspec": {
   "display_name": "Python 3.9.12 ('base')",
   "language": "python",
   "name": "python3"
  },
  "language_info": {
   "codemirror_mode": {
    "name": "ipython",
    "version": 3
   },
   "file_extension": ".py",
   "mimetype": "text/x-python",
   "name": "python",
   "nbconvert_exporter": "python",
   "pygments_lexer": "ipython3",
   "version": "3.9.12"
  },
  "orig_nbformat": 4,
  "vscode": {
   "interpreter": {
    "hash": "857d8669872199a61137514e88186641c3493fcbfa068d2d6eeeca0b699193af"
   }
  }
 },
 "nbformat": 4,
 "nbformat_minor": 2
}
