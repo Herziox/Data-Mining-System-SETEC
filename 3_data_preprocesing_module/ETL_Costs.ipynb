{
 "cells": [
  {
   "cell_type": "markdown",
   "metadata": {},
   "source": [
    "# Análisis de costos de cursos en el mercado"
   ]
  },
  {
   "cell_type": "code",
   "execution_count": 1,
   "metadata": {},
   "outputs": [],
   "source": [
    "import pandas as pd\n",
    "import numpy as np\n",
    "import os"
   ]
  },
  {
   "cell_type": "code",
   "execution_count": 2,
   "metadata": {},
   "outputs": [],
   "source": [
    "path = os.path.abspath(os.path.join(os.getcwd(), '..','2_data_understanding_module','collecting_initial_data','existing_data','DIRTY_DATA'))\n",
    "path_additional_data = os.path.abspath(os.path.join(os.getcwd(), '..','2_data_understanding_module','collecting_initial_data','additional_data'))\n",
    "path_etl = os.path.abspath(os.path.join(os.getcwd(),'CLEANED_DATA'))"
   ]
  },
  {
   "cell_type": "markdown",
   "metadata": {},
   "source": [
    "### Terminos clave"
   ]
  },
  {
   "cell_type": "code",
   "execution_count": null,
   "metadata": {},
   "outputs": [],
   "source": [
    "term_list = ['Python', 'programación', 'web', 'paginas web', 'datos', 'Excel', 'Word', 'power point', 'BI', 'inteligencia de negocios', 'powerBI', 'big data', 'marketing', 'html', 'css', 'diseño', 'java', 'javascript', 'base de datos', 'redes', 'telecomunicaciones', 'Android', 'ARDUINO'\n",
    "'Business Intelligence',\n",
    "'Desarrollo de software'\n",
    "'Fibra Óptica','Telefonía',\n",
    "'Gerencia de sistemas',\n",
    "'Hackeo Ético'\n",
    "'Informática Forense'\n",
    "'Linux', 'WINDOWS'\n",
    "'Office',\n",
    "'PHP'\n",
    "'Project'\n",
    "'software R', 'Tableu', 'rapidminer', \n",
    "'Mysql', 'sql', 'sql server', 'Oracle', 'postgresql'\n",
    "Seguridad informática\n",
    "Proyectos,\n",
    "Aulas virtuales, Moodle, software,\n",
    "Wordpress, joomla, xoops,\n",
    "Páginas web, marketing\"]"
   ]
  },
  {
   "cell_type": "code",
   "execution_count": null,
   "metadata": {},
   "outputs": [],
   "source": [
    "# Cargar los archivos de costos de educacion continua, costos de cursos cec y cursos de OC, OEC y CI\n",
    "\n",
    "df_ci_lca = pd.read_csv(os.path.join(path_etl,'ci_lca.csv'))\n",
    "df_ci_lca = pd.read_csv(os.path.join(path_etl,'ci_lca.csv'))\n",
    "df_ci_lca = pd.read_csv(os.path.join(path_etl,'ci_lca.csv'))\n"
   ]
  },
  {
   "cell_type": "code",
   "execution_count": null,
   "metadata": {},
   "outputs": [],
   "source": [
    "\n",
    "\n",
    "\n",
    "#Filtrar las areas de Tecnologia y TICs\n",
    "\n",
    "# Realizar un procesado de texto en donde se contenga los nombres de los cursos por modalidad en caso de OC el resto de cursos solo se tomará un promedio general estimado de estos cursos\n",
    "\n",
    "# Procesado de texto:\n",
    "#   Aplicar a lista de las palabras clave de tecnologia\n",
    "#   Validar si un curso es igual a la lista de costos de cursos\n",
    "#   Buscar simetría en el nombre de los cursos en el sitio web y el nombre de los cursos de las listas de costos\n",
    "#   Revisará los nombre de todos los cursos y determinará las palabras sin palabras_de_parada que se repitan más para obtener palabras clave en cuenta a cursos para buscarlas"
   ]
  }
 ],
 "metadata": {
  "kernelspec": {
   "display_name": "Python 3.9.12 ('base')",
   "language": "python",
   "name": "python3"
  },
  "language_info": {
   "codemirror_mode": {
    "name": "ipython",
    "version": 3
   },
   "file_extension": ".py",
   "mimetype": "text/x-python",
   "name": "python",
   "nbconvert_exporter": "python",
   "pygments_lexer": "ipython3",
   "version": "3.9.12"
  },
  "orig_nbformat": 4,
  "vscode": {
   "interpreter": {
    "hash": "857d8669872199a61137514e88186641c3493fcbfa068d2d6eeeca0b699193af"
   }
  }
 },
 "nbformat": 4,
 "nbformat_minor": 2
}
