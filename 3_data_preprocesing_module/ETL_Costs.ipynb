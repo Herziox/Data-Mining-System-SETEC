{
 "cells": [
  {
   "cell_type": "markdown",
   "metadata": {
    "id": "SZj8AaCl0K8z"
   },
   "source": [
    "# Análisis de costos de cursos en el mercado"
   ]
  },
  {
   "cell_type": "code",
   "execution_count": 1,
   "metadata": {
    "colab": {
     "base_uri": "https://localhost:8080/"
    },
    "executionInfo": {
     "elapsed": 17833,
     "status": "ok",
     "timestamp": 1670176800925,
     "user": {
      "displayName": "Sergio Jimenez",
      "userId": "03709241177248490041"
     },
     "user_tz": 300
    },
    "id": "lqNAB3vG0M8h",
    "outputId": "11035357-2404-44eb-f234-62bfdecaefaa"
   },
   "outputs": [
    {
     "name": "stdout",
     "output_type": "stream",
     "text": [
      "Mounted at /content/drive\n"
     ]
    }
   ],
   "source": [
    "from google.colab import drive\n",
    "drive.mount('/content/drive')"
   ]
  },
  {
   "cell_type": "code",
   "execution_count": 2,
   "metadata": {
    "colab": {
     "base_uri": "https://localhost:8080/"
    },
    "executionInfo": {
     "elapsed": 4200,
     "status": "ok",
     "timestamp": 1670176806638,
     "user": {
      "displayName": "Sergio Jimenez",
      "userId": "03709241177248490041"
     },
     "user_tz": 300
    },
    "id": "ksIeiaM90UYR",
    "outputId": "84c145b6-75a4-4ca8-de38-7b201e9e15bb"
   },
   "outputs": [
    {
     "name": "stdout",
     "output_type": "stream",
     "text": [
      "Looking in indexes: https://pypi.org/simple, https://us-python.pkg.dev/colab-wheels/public/simple/\n",
      "Collecting hermetrics\n",
      "  Downloading hermetrics-0.1.13-py3-none-any.whl (19 kB)\n",
      "Installing collected packages: hermetrics\n",
      "Successfully installed hermetrics-0.1.13\n"
     ]
    }
   ],
   "source": [
    "!pip install hermetrics"
   ]
  },
  {
   "cell_type": "code",
   "execution_count": 3,
   "metadata": {
    "colab": {
     "base_uri": "https://localhost:8080/"
    },
    "executionInfo": {
     "elapsed": 225,
     "status": "ok",
     "timestamp": 1670176808704,
     "user": {
      "displayName": "Sergio Jimenez",
      "userId": "03709241177248490041"
     },
     "user_tz": 300
    },
    "id": "wNO-7rGG0nCX",
    "outputId": "d0717063-c78b-4ccc-a8b1-a2eb3afaf14b"
   },
   "outputs": [
    {
     "name": "stdout",
     "output_type": "stream",
     "text": [
      "/content/drive/MyDrive/Trabajo_de_Integracion_Curricular/Data-Mining-System-SETEC-main/3_data_preprocesing_module\n"
     ]
    }
   ],
   "source": [
    "%cd '/content/drive/MyDrive/Trabajo_de_Integracion_Curricular/Data-Mining-System-SETEC-main/3_data_preprocesing_module'"
   ]
  },
  {
   "cell_type": "markdown",
   "metadata": {
    "id": "NwdlqApl0K83"
   },
   "source": [
    "# Instalación e importación de librerías"
   ]
  },
  {
   "cell_type": "code",
   "execution_count": 4,
   "metadata": {
    "executionInfo": {
     "elapsed": 568,
     "status": "ok",
     "timestamp": 1670176811995,
     "user": {
      "displayName": "Sergio Jimenez",
      "userId": "03709241177248490041"
     },
     "user_tz": 300
    },
    "id": "kA9iQUr20K85"
   },
   "outputs": [],
   "source": [
    "import pandas as pd\n",
    "import numpy as np\n",
    "import os\n",
    "from hermetrics.levenshtein import Levenshtein\n",
    "import re"
   ]
  },
  {
   "cell_type": "code",
   "execution_count": 5,
   "metadata": {
    "colab": {
     "base_uri": "https://localhost:8080/",
     "height": 52
    },
    "executionInfo": {
     "elapsed": 13,
     "status": "ok",
     "timestamp": 1670176813114,
     "user": {
      "displayName": "Sergio Jimenez",
      "userId": "03709241177248490041"
     },
     "user_tz": 300
    },
    "id": "pTp58Zug01Fm",
    "outputId": "283681fe-5296-46f2-d896-3f3a16dbd817"
   },
   "outputs": [
    {
     "data": {
      "application/vnd.google.colaboratory.intrinsic+json": {
       "type": "string"
      },
      "text/plain": [
       "'/content/drive/MyDrive/Trabajo_de_Integracion_Curricular/Data-Mining-System-SETEC-main/3_data_preprocesing_module'"
      ]
     },
     "execution_count": 5,
     "metadata": {},
     "output_type": "execute_result"
    }
   ],
   "source": [
    "os.getcwd()"
   ]
  },
  {
   "cell_type": "markdown",
   "metadata": {
    "id": "ZJOv6lYz0K88"
   },
   "source": [
    "# Rutas de archivos"
   ]
  },
  {
   "cell_type": "code",
   "execution_count": 6,
   "metadata": {
    "executionInfo": {
     "elapsed": 239,
     "status": "ok",
     "timestamp": 1670176816311,
     "user": {
      "displayName": "Sergio Jimenez",
      "userId": "03709241177248490041"
     },
     "user_tz": 300
    },
    "id": "B-wUZnVZ0K8-"
   },
   "outputs": [],
   "source": [
    "path = os.path.abspath(os.path.join(os.getcwd(), '..','2_data_understanding_module','collecting_initial_data','existing_data','DIRTY_DATA'))\n",
    "path_additional_data = os.path.abspath(os.path.join(os.getcwd(), '..','2_data_understanding_module','collecting_initial_data','additional_data'))\n",
    "path_dwh = os.path.abspath(os.path.join(os.getcwd(),'DATAWAREHOUSE'))\n",
    "path_ppd = os.path.abspath(os.path.join(os.getcwd(),'CLEANED_DATA'))"
   ]
  },
  {
   "cell_type": "markdown",
   "metadata": {
    "id": "zoKDhYJq0K9B"
   },
   "source": [
    "### Palabras clave"
   ]
  },
  {
   "cell_type": "code",
   "execution_count": 7,
   "metadata": {
    "executionInfo": {
     "elapsed": 5,
     "status": "ok",
     "timestamp": 1670176818444,
     "user": {
      "displayName": "Sergio Jimenez",
      "userId": "03709241177248490041"
     },
     "user_tz": 300
    },
    "id": "XhUHvA-I0K9D"
   },
   "outputs": [],
   "source": [
    "keyword = ['Python', 'programación web', 'paginas web', 'datos', 'Excel', 'Word', 'power point', 'BI', 'inteligencia de negocios', 'powerBI', \n",
    "'big data', 'programación', 'marketing', 'web', 'html', 'css',  'java', 'javascript', 'base de datos', 'redes', 'telecomunicaciones', 'Android', 'IOS', 'ARDUINO'\n",
    "'Business Intelligence', \n",
    "'Desarrollo de software',\n",
    "'Fibra Óptica',\n",
    "'Gerencia de sistemas',\n",
    "'Hackeo Ético',\n",
    "'Informática Forense',\n",
    "'Linux', 'WINDOWS'\n",
    "'Office',\n",
    "'PHP',\n",
    "'Project',\n",
    "'software R', 'Tableu', 'rapidminer', \n",
    "'Mysql', 'sql', 'sqlserver', 'Oracle', 'postgresql',\n",
    "'Seguridad informática',\n",
    "'Aulas virtuales', 'Moodle', 'software',\n",
    "'Wordpress', 'joomla', 'xoops', 'drupal'\n",
    "]\n",
    "\n",
    "keyword = np.char.lower(np.array(keyword))"
   ]
  },
  {
   "cell_type": "code",
   "execution_count": 8,
   "metadata": {
    "executionInfo": {
     "elapsed": 5,
     "status": "ok",
     "timestamp": 1670176819865,
     "user": {
      "displayName": "Sergio Jimenez",
      "userId": "03709241177248490041"
     },
     "user_tz": 300
    },
    "id": "Q8RLhdRS0K9H"
   },
   "outputs": [],
   "source": [
    "lev = Levenshtein()"
   ]
  },
  {
   "cell_type": "code",
   "execution_count": 9,
   "metadata": {
    "executionInfo": {
     "elapsed": 348,
     "status": "ok",
     "timestamp": 1670176821762,
     "user": {
      "displayName": "Sergio Jimenez",
      "userId": "03709241177248490041"
     },
     "user_tz": 300
    },
    "id": "wa6oBItA0K9M"
   },
   "outputs": [],
   "source": [
    "stopwords = open(os.path.join(path_ppd,'spanish.txt'),\"r\", encoding='utf-8')\n",
    "stopwords = stopwords.readlines()\n",
    "stopwords = [x.replace('\\n','') for x in stopwords]"
   ]
  },
  {
   "cell_type": "code",
   "execution_count": 10,
   "metadata": {
    "executionInfo": {
     "elapsed": 7,
     "status": "ok",
     "timestamp": 1670176823169,
     "user": {
      "displayName": "Sergio Jimenez",
      "userId": "03709241177248490041"
     },
     "user_tz": 300
    },
    "id": "YUPcIISv0K9O"
   },
   "outputs": [],
   "source": [
    "def normalizar(text):\n",
    "    puntuacion = '!\"#$%&;\\'()*+,-./?@[\\]^_`{|}~()' \n",
    "    text = text.replace('Á','A')\n",
    "    text = text.replace('É','E')\n",
    "    text = text.replace('Í','I')\n",
    "    text = text.replace('Ó','O')\n",
    "    text = text.replace('Ú','U')\n",
    "    text = text.strip().lower()\n",
    "    text = text.split(' ')\n",
    "    re_punc = re.compile('[%s]' % re.escape(puntuacion))\n",
    "    stripped = [re_punc.sub(' ', w) for w in text]\n",
    "    text = ' '.join(stripped)\n",
    "    text = text.split(' ')\n",
    "    new_text = []\n",
    "    for i in range(len(text)):\n",
    "        char = text[i]\n",
    "        if char not in stopwords:\n",
    "            new_text.append(text[i])\n",
    "    new_text = ' '.join(new_text)\n",
    "            \n",
    "    return new_text"
   ]
  },
  {
   "cell_type": "code",
   "execution_count": 208,
   "metadata": {
    "executionInfo": {
     "elapsed": 266,
     "status": "ok",
     "timestamp": 1670185606723,
     "user": {
      "displayName": "Sergio Jimenez",
      "userId": "03709241177248490041"
     },
     "user_tz": 300
    },
    "id": "NblYk9Xy0K9I"
   },
   "outputs": [],
   "source": [
    "#Filtrar las areas de Tecnologia y TICs\n",
    "df_dim_curso_perfil = pd.read_csv(os.path.join(path_dwh,'datamart_oc','dim_curso_perfil.csv'))\n",
    "df_dim_curso_perfil = df_dim_curso_perfil[(df_dim_curso_perfil['area_familia']=='información y comunicación')|(df_dim_curso_perfil['area_familia'] == 'tecnologías de la información y comunicación')]\n",
    "data_1= df_dim_curso_perfil.groupby(['curso_perfil','modalidad']).count().reset_index()\n",
    "data_1 = data_1[['curso_perfil','modalidad']]\n",
    "\n",
    "df_dim_perfil = pd.read_csv(os.path.join(path_dwh,'datamart_oec','dim_perfil.csv'))\n",
    "df_dim_perfil = df_dim_perfil[df_dim_perfil['familia']=='tecnología: hardware y software (incluye tic)']\n",
    "data_2 = df_dim_perfil.groupby('perfil').count().reset_index()\n",
    "data_2['modalidad'] = 'desconocida'\n",
    "data_2 = data_2[['perfil','modalidad']]\n",
    "\n",
    "df_dim_curso = pd.read_csv(os.path.join(path_dwh,'datamart_ci','dim_curso.csv'))\n",
    "df_dim_curso = df_dim_curso[df_dim_curso['area']=='tecnologías de la información y comunicación']\n",
    "data_3 = df_dim_curso.groupby('curso').count().reset_index()\n",
    "data_3['modalidad'] = 'desconocida'\n",
    "data_3 = data_3[['curso','modalidad']]\n",
    "\n",
    "arr_dims_curso_perfil = [df_dim_curso_perfil,df_dim_perfil,df_dim_curso]"
   ]
  },
  {
   "cell_type": "code",
   "execution_count": 216,
   "metadata": {
    "executionInfo": {
     "elapsed": 331,
     "status": "ok",
     "timestamp": 1670186041333,
     "user": {
      "displayName": "Sergio Jimenez",
      "userId": "03709241177248490041"
     },
     "user_tz": 300
    },
    "id": "ZtyA4gAKWXse"
   },
   "outputs": [],
   "source": [
    "data = np.concatenate((data_1.values,data_2.values,data_3.values),axis=0)\n",
    "data = pd.DataFrame(data=data,columns=['curso_perfil','modalidad'])\n",
    "data = data.drop_duplicates()\n",
    "data['aux_2_curso_perfil'] = data['curso_perfil'].str.cat(data['modalidad'],sep=' | ')\n",
    "data['aux_curso_perfil'] = data['curso_perfil'].apply(lambda x: normalizar(x))"
   ]
  },
  {
   "cell_type": "code",
   "execution_count": 217,
   "metadata": {
    "executionInfo": {
     "elapsed": 273,
     "status": "ok",
     "timestamp": 1670186044851,
     "user": {
      "displayName": "Sergio Jimenez",
      "userId": "03709241177248490041"
     },
     "user_tz": 300
    },
    "id": "fEQzJJPA0K9K"
   },
   "outputs": [],
   "source": [
    "df_coec = pd.read_csv(os.path.join(path_ppd,'costos_cursos_educacion_continua.csv'))\n",
    "df_ccce = pd.read_csv(os.path.join(path_ppd,'costos_de_cursos_cec_epn.csv'))\n",
    "df_coec = pd.concat([df_coec,df_ccce])\n",
    "df_coec['aux_2_curso'] = df_coec['curso'].str.cat(df_coec['modalidad'],sep=' | ')\n",
    "df_coec['aux_curso'] = df_coec['curso'].apply(lambda x: normalizar(x))"
   ]
  },
  {
   "cell_type": "code",
   "execution_count": 219,
   "metadata": {
    "executionInfo": {
     "elapsed": 15588,
     "status": "ok",
     "timestamp": 1670186093741,
     "user": {
      "displayName": "Sergio Jimenez",
      "userId": "03709241177248490041"
     },
     "user_tz": 300
    },
    "id": "hMYrZnzp0K9L"
   },
   "outputs": [],
   "source": [
    "arr = []\n",
    "\n",
    "for i in range(len(df_coec['aux_curso'])):\n",
    "    # Similaridad \n",
    "    sub_arr = []\n",
    "    for j in range(len(data['aux_curso_perfil'])):\n",
    "        curso_fuente = df_coec['aux_curso'].iloc[i]\n",
    "        curso_comparar = data['aux_curso_perfil'].iloc[j]\n",
    "        similary = lev.similarity(curso_fuente,curso_comparar,(1,1.5,1.25))\n",
    "        aux_similary=0\n",
    "        arr_curso = curso_comparar.split(' ')\n",
    "        if curso_comparar in curso_fuente :\n",
    "            similary = 1.0\n",
    "        else:\n",
    "            for word in arr_curso:\n",
    "                if word in curso_fuente:\n",
    "                    aux_similary+=1/len(arr_curso)\n",
    "            if data['modalidad'].iloc[j] == df_coec['modalidad'].iloc[i]:\n",
    "              aux_similary += aux_similary/2\n",
    "        if aux_similary > similary and aux_similary > 2/len(arr_curso):\n",
    "            similary = aux_similary\n",
    "        sub_arr.append(similary)\n",
    "    arr.append(sub_arr)\n"
   ]
  },
  {
   "cell_type": "code",
   "execution_count": 220,
   "metadata": {
    "executionInfo": {
     "elapsed": 227,
     "status": "ok",
     "timestamp": 1670186101281,
     "user": {
      "displayName": "Sergio Jimenez",
      "userId": "03709241177248490041"
     },
     "user_tz": 300
    },
    "id": "j12FK6NL0K9Q"
   },
   "outputs": [],
   "source": [
    "res = pd.DataFrame(data=arr,index=df_coec['aux_2_curso'],columns=data['aux_2_curso_perfil'])"
   ]
  },
  {
   "cell_type": "code",
   "execution_count": 227,
   "metadata": {
    "executionInfo": {
     "elapsed": 1567,
     "status": "ok",
     "timestamp": 1670186262912,
     "user": {
      "displayName": "Sergio Jimenez",
      "userId": "03709241177248490041"
     },
     "user_tz": 300
    },
    "id": "eaCkdRlR0K9S"
   },
   "outputs": [],
   "source": [
    "\n",
    "arr_dims_cols = ['curso_perfil','perfil','curso']\n",
    "arr_datamarts = ['datamart_oc','datamart_oec','datamart_ci']\n",
    "arr_files = ['dim_curso_perfil.csv','dim_perfil.csv','dim_curso.csv']\n",
    "arr_df_final_dims = []\n",
    "for i in range(len(arr_dims_curso_perfil)):\n",
    "  df_dim = arr_dims_curso_perfil[i]\n",
    "  df_dim['curso_modalidad'] = df_dim[arr_dims_cols[i]].str.cat(df_dim['modalidad'],sep=' | ')\n",
    "  arr_curso_fuente = []\n",
    "  for j in range(arr_dims_curso_perfil[i].shape[0]):\n",
    "      query = df_dim['curso_modalidad'].iloc[j]\n",
    "      val = res[res[query]==res[query].max()][query].index.values[0]\n",
    "      arr_curso_fuente.append(df_coec[df_coec['aux_2_curso']==val][['curso','precio_por_hora']].values[0])\n",
    "  df_curso_fuente_precio = pd.DataFrame(data=arr_curso_fuente,columns=['curso_fuente','precio_por_hora'])\n",
    "  df_res_corr = pd.DataFrame(data=[df_dim[arr_dims_cols[i]].values,df_dim['modalidad'].values,df_curso_fuente_precio['curso_fuente'].values,df_curso_fuente_precio['precio_por_hora'].values])\n",
    "  df_res_corr = df_res_corr.transpose()\n",
    "  df_res_corr = df_res_corr.rename(columns={0:arr_dims_cols[i],1:'modalidad',2:'curso_fuente',3:'precio_por_hora'})\n",
    "  df_dim = pd.read_csv(os.path.join(path_dwh,arr_datamarts[i],arr_files[i]))\n",
    "  df_dim= pd.merge(df_dim,df_res_corr,left_on=[arr_dims_cols[i],'modalidad'],right_on=[arr_dims_cols[i],'modalidad'],how='left')\n",
    "  df_dim['costo'] = df_dim['carga_horaria']*df_dim['precio_por_hora']\n",
    "  df_dim = df_dim.drop(['curso_fuente','precio_por_hora'], axis=1)\n",
    "  df_dim.to_csv(os.path.join(path_dwh,arr_datamarts[i],arr_files[i]),index=False)\n",
    "  arr_df_final_dims.append(df_dim)\n"
   ]
  }
 ],
 "metadata": {
  "colab": {
   "provenance": [],
   "toc_visible": true
  },
  "kernelspec": {
   "display_name": "Python 3 (ipykernel)",
   "language": "python",
   "name": "python3"
  },
  "language_info": {
   "codemirror_mode": {
    "name": "ipython",
    "version": 3
   },
   "file_extension": ".py",
   "mimetype": "text/x-python",
   "name": "python",
   "nbconvert_exporter": "python",
   "pygments_lexer": "ipython3",
   "version": "3.9.12"
  },
  "vscode": {
   "interpreter": {
    "hash": "857d8669872199a61137514e88186641c3493fcbfa068d2d6eeeca0b699193af"
   }
  }
 },
 "nbformat": 4,
 "nbformat_minor": 4
}
