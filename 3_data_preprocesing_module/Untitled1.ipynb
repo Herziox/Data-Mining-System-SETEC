{
 "cells": [
  {
   "cell_type": "code",
   "execution_count": 1,
   "id": "c0711d07-cf49-4803-a85b-745abb6d5837",
   "metadata": {},
   "outputs": [],
   "source": [
    "import ctypes\n",
    "import time\n",
    "import os\n",
    "import glob\n",
    "import IPython"
   ]
  },
  {
   "cell_type": "code",
   "execution_count": null,
   "id": "c0cd045a-7a0b-461a-989a-7b8e4e321bce",
   "metadata": {},
   "outputs": [],
   "source": []
  }
 ],
 "metadata": {
  "kernelspec": {
   "display_name": "Python 3 (ipykernel)",
   "language": "python",
   "name": "python3"
  },
  "language_info": {
   "codemirror_mode": {
    "name": "ipython",
    "version": 3
   },
   "file_extension": ".py",
   "mimetype": "text/x-python",
   "name": "python",
   "nbconvert_exporter": "python",
   "pygments_lexer": "ipython3",
   "version": "3.9.12"
  }
 },
 "nbformat": 4,
 "nbformat_minor": 5
}
