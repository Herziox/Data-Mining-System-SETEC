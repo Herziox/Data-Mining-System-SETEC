{
 "cells": [
  {
   "cell_type": "markdown",
   "metadata": {
    "id": "qcYXW2ebkmp2"
   },
   "source": [
    "# Extracción, tranformación y Carga de datos"
   ]
  },
  {
   "cell_type": "code",
   "execution_count": null,
   "metadata": {
    "colab": {
     "base_uri": "https://localhost:8080/"
    },
    "executionInfo": {
     "elapsed": 21673,
     "status": "ok",
     "timestamp": 1670121974579,
     "user": {
      "displayName": "Sergio Jimenez",
      "userId": "03709241177248490041"
     },
     "user_tz": 300
    },
    "id": "NhTrLtJkWUXS",
    "outputId": "aae61b88-f5f0-405d-8202-d5921da483e0"
   },
   "outputs": [
    {
     "name": "stdout",
     "output_type": "stream",
     "text": [
      "Mounted at /content/drive\n"
     ]
    }
   ],
   "source": [
    "from google.colab import drive\n",
    "drive.mount('/content/drive')"
   ]
  },
  {
   "cell_type": "code",
   "execution_count": null,
   "metadata": {
    "colab": {
     "base_uri": "https://localhost:8080/"
    },
    "executionInfo": {
     "elapsed": 316,
     "status": "ok",
     "timestamp": 1670121979839,
     "user": {
      "displayName": "Sergio Jimenez",
      "userId": "03709241177248490041"
     },
     "user_tz": 300
    },
    "id": "8hPLP4WVWVbe",
    "outputId": "b2232989-52ae-4aa6-8ee0-eeae9d1072ba"
   },
   "outputs": [
    {
     "name": "stdout",
     "output_type": "stream",
     "text": [
      "/content/drive/MyDrive/Trabajo_de_Integracion_Curricular/Data-Mining-System-SETEC-main/3_data_preprocesing_module\n"
     ]
    }
   ],
   "source": [
    "%cd '/content/drive/MyDrive/Trabajo_de_Integracion_Curricular/Data-Mining-System-SETEC-main/3_data_preprocesing_module'"
   ]
  },
  {
   "cell_type": "markdown",
   "metadata": {
    "id": "dMDLYqaTlKlQ"
   },
   "source": [
    "## Librerías"
   ]
  },
  {
   "cell_type": "code",
   "execution_count": 2,
   "metadata": {
    "id": "tU3I4DE0fNLh"
   },
   "outputs": [],
   "source": [
    "import pandas as pd\n",
    "import numpy as np\n",
    "import os\n",
    "import re"
   ]
  },
  {
   "cell_type": "markdown",
   "metadata": {
    "id": "YmoGRpXwljCc"
   },
   "source": [
    "## Ruta de archivos"
   ]
  },
  {
   "cell_type": "code",
   "execution_count": 3,
   "metadata": {
    "id": "hIFDUN07U0Xz"
   },
   "outputs": [],
   "source": [
    "path = os.path.abspath(os.path.join(os.getcwd(), '..','2_data_understanding_module','collecting_initial_data','existing_data','DIRTY_DATA'))\n",
    "path_dd = os.path.abspath(os.path.join(os.getcwd(), '..','2_data_understanding_module','collecting_initial_data','existing_data','DOWNLOADED_DATA'))\n",
    "path_additional_data = os.path.abspath(os.path.join(os.getcwd(), '..','2_data_understanding_module','collecting_initial_data','additional_data'))\n",
    "path_etl = os.path.abspath(os.path.join(os.getcwd(),'CLEANED_DATA'))"
   ]
  },
  {
   "cell_type": "markdown",
   "metadata": {
    "id": "Xr1jMB5_U0X2"
   },
   "source": [
    "# Funciones"
   ]
  },
  {
   "cell_type": "code",
   "execution_count": 3,
   "metadata": {
    "id": "Ufgl3NNvU0X4"
   },
   "outputs": [],
   "source": [
    "stopwords = open(os.path.join(path_etl,'spanish.txt'),\"r\", encoding='utf-8')\n",
    "stopwords = stopwords.readlines()\n",
    "stopwords = [x.replace('\\n','') for x in stopwords]\n",
    "global puntuacion\n",
    "puntuacion = '!\"#$%&:;\\'()*+,-./?@[\\]^_`{|}~()'"
   ]
  },
  {
   "cell_type": "code",
   "execution_count": 21,
   "metadata": {},
   "outputs": [],
   "source": [
    "def normalizar(text):\n",
    "    text = text.lower() \n",
    "    text = text.replace('á','a')\n",
    "    text = text.replace('é','e')\n",
    "    text = text.replace('í','i')\n",
    "    text = text.replace('ó','o')\n",
    "    text = text.replace('ú','u')\n",
    "    text = text.strip()\n",
    "    text = text.split(' ')\n",
    "    re_punc = re.compile('[%s]' % re.escape(puntuacion))\n",
    "    stripped = [re_punc.sub(' ', w) for w in text]\n",
    "    text = ' '.join(stripped)\n",
    "    text = text.split(' ')\n",
    "    new_text = []\n",
    "    for i in range(len(text)):\n",
    "        char = text[i]\n",
    "        if char not in stopwords and char!=' ':\n",
    "            new_text.append(text[i])\n",
    "    new_text = ' '.join(new_text)\n",
    "    new_text = new_text.strip()\n",
    "            \n",
    "    return new_text"
   ]
  },
  {
   "cell_type": "markdown",
   "metadata": {
    "id": "ZAb2UjZFkzwh"
   },
   "source": [
    "## Catálogo Nacional de Cualificaciones - CNC \n",
    "\n",
    "- CNC para Operadores de Capacitación - CNCOC\n",
    "- CNC para Organismos Evaluadores de  la Conformidad - CNCOEC\n",
    "- CNC  Perfiles Inhabilitados - CNCPI"
   ]
  },
  {
   "cell_type": "markdown",
   "metadata": {
    "id": "VWx4LGntlVMF"
   },
   "source": [
    "### ETL CNCOC"
   ]
  },
  {
   "cell_type": "code",
   "execution_count": 23,
   "metadata": {
    "id": "DXnzxy-EfOya"
   },
   "outputs": [],
   "source": [
    "df_cncoc = pd.read_csv(os.path.join(path,'cncoc.csv'))\n",
    "df_cncoc.insert(4, 'tipo', \"oc\")\n",
    "df_cncoc.insert(5, 'estado', \"habilitado\")"
   ]
  },
  {
   "cell_type": "code",
   "execution_count": 24,
   "metadata": {
    "id": "5bRma65oXBhW"
   },
   "outputs": [],
   "source": [
    "# df_cncoc.info()"
   ]
  },
  {
   "cell_type": "markdown",
   "metadata": {
    "id": "zu0ZfZL3mJQA"
   },
   "source": [
    "### ETL CNCOEC"
   ]
  },
  {
   "cell_type": "code",
   "execution_count": 25,
   "metadata": {
    "id": "SPpYj32ymL0l"
   },
   "outputs": [],
   "source": [
    "df_cncoec = pd.read_csv(os.path.join(path,'cncoec0.csv'))\n",
    "df_cncoec.insert(4, 'tipo', \"oec\")\n",
    "df_cncoec.insert(5, 'estado', \"habilitado\")"
   ]
  },
  {
   "cell_type": "code",
   "execution_count": 26,
   "metadata": {
    "id": "qjh1y45RXO4G"
   },
   "outputs": [],
   "source": [
    "# df_cncoec.info()"
   ]
  },
  {
   "cell_type": "markdown",
   "metadata": {
    "id": "5W9Ce-kNmMcO"
   },
   "source": [
    "### ETL CNCPI"
   ]
  },
  {
   "cell_type": "code",
   "execution_count": 29,
   "metadata": {
    "id": "aLDcElUfo1Wz"
   },
   "outputs": [],
   "source": [
    "df_cncpi = pd.read_csv(os.path.join(path,'cncpi0.csv'))\n",
    "df_cncpi.insert(1, 'competenecia_laboral', \"\")\n",
    "df_cncpi.insert(4, 'tipo', \"desconocido\")\n",
    "df_cncpi.insert(5, 'estado', \"inhabilidato\")"
   ]
  },
  {
   "cell_type": "code",
   "execution_count": 27,
   "metadata": {
    "id": "yludAgpYXzgh"
   },
   "outputs": [],
   "source": [
    "# df_cncpi.info()"
   ]
  },
  {
   "cell_type": "markdown",
   "metadata": {
    "id": "Jky1Q-6ZqPtZ"
   },
   "source": [
    " ### **CNC** - INTEGRACIÓN DE DATOS"
   ]
  },
  {
   "cell_type": "code",
   "execution_count": 30,
   "metadata": {
    "id": "uuIYxMwzsU-K"
   },
   "outputs": [],
   "source": [
    "df_cnc = pd.concat([df_cncoc,df_cncoec,df_cncpi],axis=0)\n",
    "df_cnc = df_cnc.apply(lambda x: x.astype(str).str.lower())"
   ]
  },
  {
   "cell_type": "code",
   "execution_count": 31,
   "metadata": {
    "id": "l40F17Vebn7g"
   },
   "outputs": [],
   "source": [
    "df_cnc = df_cnc.drop_duplicates()"
   ]
  },
  {
   "cell_type": "code",
   "execution_count": 35,
   "metadata": {
    "id": "pOdTOSsqYaOO"
   },
   "outputs": [],
   "source": [
    "# df_cnc.head()\n",
    "# df_cnc.info()"
   ]
  },
  {
   "cell_type": "markdown",
   "metadata": {
    "id": "ng_3L5p_s_Dm"
   },
   "source": [
    "### Guardar datos CNC"
   ]
  },
  {
   "cell_type": "code",
   "execution_count": 263,
   "metadata": {
    "id": "tYfGT-KVsrjS"
   },
   "outputs": [],
   "source": [
    "df_cnc.to_csv(os.path.join(path_etl,'cnc.csv'),index=False)"
   ]
  },
  {
   "cell_type": "markdown",
   "metadata": {
    "id": "53weQp7UtFOc"
   },
   "source": [
    "## Operadores de Capacitación - OC\n",
    "\n",
    "• [Operadores de Capacitación](http://portal.trabajo.gob.ec/setec-portal-web/pages/operadoresCapacitacion.jsf#j_idt24:j_idt25) - OC\n",
    "\n",
    "• [OC - Suspendidos](http://portal.trabajo.gob.ec/setec-portal-web/pages/operadoresCapacitacion.jsf#j_idt24:j_idt125) - OCS\n",
    "\n",
    "• [OC - Finalizaron su vigencia de Calificación](http://portal.trabajo.gob.ec/setec-portal-web/pages/operadoresCapacitacion.jsf#j_idt24:j_idt134) - OCF\n",
    "\n",
    "• [OC - Cancelados](http://portal.trabajo.gob.ec/setec-portal-web/pages/operadoresCapacitacion.jsf#j_idt24:j_idt144) - OCC\n"
   ]
  },
  {
   "cell_type": "markdown",
   "metadata": {
    "id": "DQmP98C4tk_D"
   },
   "source": [
    "### ETL OC"
   ]
  },
  {
   "cell_type": "code",
   "execution_count": 98,
   "metadata": {
    "id": "K5R5LaWYts8B"
   },
   "outputs": [],
   "source": [
    "df_oc = pd.read_csv(os.path.join(path,'oc0.csv'))\n",
    "df_oc['ruc_o_codigo'] = df_oc['ruc_o_codigo'].astype('object')\n",
    "df_oc[\"nombre_comercial\"].fillna(\"Sin Nombre Comercial\", inplace = True) \n",
    "df_oc.insert(9, 'estado', df_oc.pop('estado'))"
   ]
  },
  {
   "cell_type": "code",
   "execution_count": 99,
   "metadata": {},
   "outputs": [],
   "source": [
    "df_oc['ruc_o_codigo'] = df_oc['ruc_o_codigo'].apply(lambda x: '0'+x if len(x)==12 else x)"
   ]
  },
  {
   "cell_type": "code",
   "execution_count": 101,
   "metadata": {
    "id": "KV3ByWmEENMm"
   },
   "outputs": [],
   "source": [
    "#df_oc.head()\n",
    "#df_oc.info()"
   ]
  },
  {
   "cell_type": "markdown",
   "metadata": {
    "id": "CAVyFsTay8ZT"
   },
   "source": [
    "### ETL OCS"
   ]
  },
  {
   "cell_type": "code",
   "execution_count": 126,
   "metadata": {
    "id": "D3QTbHK1uMfy"
   },
   "outputs": [],
   "source": [
    "df_ocs = pd.read_csv(os.path.join(path,'ocs.csv'))\n",
    "df_ocs['ruc_o_codigo'] = df_ocs['ruc_o_codigo'].astype('object')\n",
    "df_ocs.insert(2, 'nombre_comercial', 'Sin Nombre Comercial')\n",
    "df_ocs.insert(3, 'telefono', 'Sin Teléfono')\n",
    "df_ocs.insert(4, 'celular', 'Sin Celular')\n",
    "df_ocs.insert(5, 'correo_electronico', 'Sin Email')\n",
    "df_ocs.insert(6, 'numero_resolucion', 'Sin Número Resolución')\n",
    "df_ocs.insert(7, 'fecha_resolucion', 'Sin Fecha Resolución')\n",
    "df_ocs.insert(8, 'canton', 'Sin Cantón')"
   ]
  },
  {
   "cell_type": "code",
   "execution_count": 128,
   "metadata": {
    "id": "416tELntERqU"
   },
   "outputs": [],
   "source": [
    "#df_ocs.head()\n",
    "#df_ocs.info()"
   ]
  },
  {
   "cell_type": "markdown",
   "metadata": {
    "id": "tav2VpmDWN3s"
   },
   "source": [
    "### ETL OCC"
   ]
  },
  {
   "cell_type": "code",
   "execution_count": 96,
   "metadata": {
    "id": "g4xdN_z5ZS1s"
   },
   "outputs": [],
   "source": [
    "df_occ = pd.read_csv(os.path.join(path,'occ.csv'))\n",
    "df_occ['ruc_o_codigo'] = df_occ['ruc_o_codigo'].astype('object')\n",
    "df_occ.insert(2, 'nombre_comercial', 'Sin Nombre Comercial')\n",
    "df_occ.insert(3, 'telefono', 'Sin Teléfono')\n",
    "df_occ.insert(4, 'celular', 'Sin Celular')\n",
    "df_occ.insert(5, 'correo_electronico', 'Sin Email')\n",
    "df_occ.insert(6, 'numero_resolucion', 'Sin Número Resolución')\n",
    "df_occ.insert(7, 'fecha_resolucion', 'Sin Fecha Resolución')\n",
    "df_occ.insert(8, 'canton', 'Sin Cantón')"
   ]
  },
  {
   "cell_type": "code",
   "execution_count": null,
   "metadata": {},
   "outputs": [],
   "source": [
    "df_occ['ruc_o_codigo'] = df_occ['ruc_o_codigo'].apply(lambda x: '0'+x if len(x)==12 else x)"
   ]
  },
  {
   "cell_type": "code",
   "execution_count": 95,
   "metadata": {
    "id": "NodvwnDmEe3H"
   },
   "outputs": [
    {
     "data": {
      "text/html": [
       "<div>\n",
       "<style scoped>\n",
       "    .dataframe tbody tr th:only-of-type {\n",
       "        vertical-align: middle;\n",
       "    }\n",
       "\n",
       "    .dataframe tbody tr th {\n",
       "        vertical-align: top;\n",
       "    }\n",
       "\n",
       "    .dataframe thead th {\n",
       "        text-align: right;\n",
       "    }\n",
       "</style>\n",
       "<table border=\"1\" class=\"dataframe\">\n",
       "  <thead>\n",
       "    <tr style=\"text-align: right;\">\n",
       "      <th></th>\n",
       "      <th>ruc_o_codigo</th>\n",
       "      <th>razon_social</th>\n",
       "      <th>nombre_comercial</th>\n",
       "      <th>telefono</th>\n",
       "      <th>celular</th>\n",
       "      <th>correo_electronico</th>\n",
       "      <th>numero_resolucion</th>\n",
       "      <th>fecha_resolucion</th>\n",
       "      <th>canton</th>\n",
       "      <th>estado</th>\n",
       "    </tr>\n",
       "  </thead>\n",
       "  <tbody>\n",
       "    <tr>\n",
       "      <th>0</th>\n",
       "      <td>1713782132001</td>\n",
       "      <td>CAIZA LOGACHO EDISON FERNANDO</td>\n",
       "      <td>Sin Nombre Comercial</td>\n",
       "      <td>Sin Teléfono</td>\n",
       "      <td>Sin Celular</td>\n",
       "      <td>Sin Email</td>\n",
       "      <td>Sin Número Resolución</td>\n",
       "      <td>Sin Fecha Resolución</td>\n",
       "      <td>Sin Cantón</td>\n",
       "      <td>CANCELADO DEFINITIVAMENTE</td>\n",
       "    </tr>\n",
       "    <tr>\n",
       "      <th>1</th>\n",
       "      <td>1718646100001</td>\n",
       "      <td>CENTRO DE CAPACITACION LADY DEL VALLE</td>\n",
       "      <td>Sin Nombre Comercial</td>\n",
       "      <td>Sin Teléfono</td>\n",
       "      <td>Sin Celular</td>\n",
       "      <td>Sin Email</td>\n",
       "      <td>Sin Número Resolución</td>\n",
       "      <td>Sin Fecha Resolución</td>\n",
       "      <td>Sin Cantón</td>\n",
       "      <td>CANCELADO DEFINITIVAMENTE</td>\n",
       "    </tr>\n",
       "    <tr>\n",
       "      <th>2</th>\n",
       "      <td>1391825447001</td>\n",
       "      <td>CENTRO DE FORMACION SECURITY SAFETY AND TRAINI...</td>\n",
       "      <td>Sin Nombre Comercial</td>\n",
       "      <td>Sin Teléfono</td>\n",
       "      <td>Sin Celular</td>\n",
       "      <td>Sin Email</td>\n",
       "      <td>Sin Número Resolución</td>\n",
       "      <td>Sin Fecha Resolución</td>\n",
       "      <td>Sin Cantón</td>\n",
       "      <td>CANCELADO DEFINITIVAMENTE</td>\n",
       "    </tr>\n",
       "    <tr>\n",
       "      <th>3</th>\n",
       "      <td>1792619963001</td>\n",
       "      <td>BLUE-IT S.A.</td>\n",
       "      <td>Sin Nombre Comercial</td>\n",
       "      <td>Sin Teléfono</td>\n",
       "      <td>Sin Celular</td>\n",
       "      <td>Sin Email</td>\n",
       "      <td>Sin Número Resolución</td>\n",
       "      <td>Sin Fecha Resolución</td>\n",
       "      <td>Sin Cantón</td>\n",
       "      <td>CANCELADO DEFINITIVAMENTE</td>\n",
       "    </tr>\n",
       "    <tr>\n",
       "      <th>4</th>\n",
       "      <td>1708311392001</td>\n",
       "      <td>BAUTISTA MOPOSITA LUCIA MARICELA</td>\n",
       "      <td>Sin Nombre Comercial</td>\n",
       "      <td>Sin Teléfono</td>\n",
       "      <td>Sin Celular</td>\n",
       "      <td>Sin Email</td>\n",
       "      <td>Sin Número Resolución</td>\n",
       "      <td>Sin Fecha Resolución</td>\n",
       "      <td>Sin Cantón</td>\n",
       "      <td>CANCELADO DEFINITIVAMENTE</td>\n",
       "    </tr>\n",
       "  </tbody>\n",
       "</table>\n",
       "</div>"
      ],
      "text/plain": [
       "    ruc_o_codigo                                       razon_social  \\\n",
       "0  1713782132001                      CAIZA LOGACHO EDISON FERNANDO   \n",
       "1  1718646100001              CENTRO DE CAPACITACION LADY DEL VALLE   \n",
       "2  1391825447001  CENTRO DE FORMACION SECURITY SAFETY AND TRAINI...   \n",
       "3  1792619963001                                       BLUE-IT S.A.   \n",
       "4  1708311392001                   BAUTISTA MOPOSITA LUCIA MARICELA   \n",
       "\n",
       "       nombre_comercial      telefono      celular correo_electronico  \\\n",
       "0  Sin Nombre Comercial  Sin Teléfono  Sin Celular          Sin Email   \n",
       "1  Sin Nombre Comercial  Sin Teléfono  Sin Celular          Sin Email   \n",
       "2  Sin Nombre Comercial  Sin Teléfono  Sin Celular          Sin Email   \n",
       "3  Sin Nombre Comercial  Sin Teléfono  Sin Celular          Sin Email   \n",
       "4  Sin Nombre Comercial  Sin Teléfono  Sin Celular          Sin Email   \n",
       "\n",
       "       numero_resolucion      fecha_resolucion      canton  \\\n",
       "0  Sin Número Resolución  Sin Fecha Resolución  Sin Cantón   \n",
       "1  Sin Número Resolución  Sin Fecha Resolución  Sin Cantón   \n",
       "2  Sin Número Resolución  Sin Fecha Resolución  Sin Cantón   \n",
       "3  Sin Número Resolución  Sin Fecha Resolución  Sin Cantón   \n",
       "4  Sin Número Resolución  Sin Fecha Resolución  Sin Cantón   \n",
       "\n",
       "                      estado  \n",
       "0  CANCELADO DEFINITIVAMENTE  \n",
       "1  CANCELADO DEFINITIVAMENTE  \n",
       "2  CANCELADO DEFINITIVAMENTE  \n",
       "3  CANCELADO DEFINITIVAMENTE  \n",
       "4  CANCELADO DEFINITIVAMENTE  "
      ]
     },
     "execution_count": 95,
     "metadata": {},
     "output_type": "execute_result"
    }
   ],
   "source": [
    "df_occ.head()\n",
    "#df_occ.info()"
   ]
  },
  {
   "cell_type": "markdown",
   "metadata": {
    "id": "Siwhx6b2ZQLH"
   },
   "source": [
    "### ETL OCF"
   ]
  },
  {
   "cell_type": "code",
   "execution_count": 129,
   "metadata": {
    "id": "EKcfmeeHuIHs"
   },
   "outputs": [],
   "source": [
    "df_ocf = pd.read_csv(os.path.join(path,'ocf0.csv'))\n",
    "#df_ocf['ruc_o_codigo'] = df_ocf['ruc_o_codigo'].astype('int64')\n",
    "df_ocf['ruc_o_codigo'] = df_ocf['ruc_o_codigo'].astype('object')\n",
    "df_ocf.insert(2, 'nombre_comercial', 'Sin Nombre Comercial')\n",
    "df_ocf.insert(3, 'telefono', 'Sin Teléfono')\n",
    "df_ocf.insert(4, 'celular', 'Sin Celular')\n",
    "df_ocf.insert(5, 'correo_electronico', 'Sin Correo Electronico')\n",
    "df_ocf.insert(6, 'numero_resolucion', 'Sin Número Resolución')\n",
    "df_ocf.insert(7, 'fecha_resolucion', 'Sin Fecha Resolución')\n",
    "df_ocf.insert(8, 'canton', 'Sin Cantón')"
   ]
  },
  {
   "cell_type": "code",
   "execution_count": 87,
   "metadata": {
    "colab": {
     "base_uri": "https://localhost:8080/"
    },
    "executionInfo": {
     "elapsed": 209,
     "status": "ok",
     "timestamp": 1670123314644,
     "user": {
      "displayName": "Sergio Jimenez",
      "userId": "03709241177248490041"
     },
     "user_tz": 300
    },
    "id": "UocjqTHIGG1U",
    "outputId": "2eb02001-7265-492b-e48d-dce7ec9539ae"
   },
   "outputs": [],
   "source": [
    "df_ocf['ruc_o_codigo'] = df_ocf['ruc_o_codigo'].apply(lambda x: '0'+x if len(x)==12 else x)"
   ]
  },
  {
   "cell_type": "code",
   "execution_count": 130,
   "metadata": {},
   "outputs": [],
   "source": [
    "#df_ocf.head()\n",
    "#df_ocf.info()"
   ]
  },
  {
   "cell_type": "markdown",
   "metadata": {
    "id": "Vh8ENpmAWy0A"
   },
   "source": [
    "### DATOS LIMPIOS OC"
   ]
  },
  {
   "cell_type": "code",
   "execution_count": 134,
   "metadata": {
    "id": "GVlTr6c-W6gL"
   },
   "outputs": [],
   "source": [
    "df_OC = pd.concat([df_oc,df_ocs,df_ocf,df_occ],axis=0)\n",
    "df_OC = df_OC.apply(lambda x: x.astype(str).str.lower())\n",
    "df_OC = df_OC.drop_duplicates()\n",
    "df_OC = df_OC.drop_duplicates(subset='razon_social',keep='first')"
   ]
  },
  {
   "cell_type": "code",
   "execution_count": 229,
   "metadata": {
    "colab": {
     "base_uri": "https://localhost:8080/"
    },
    "executionInfo": {
     "elapsed": 232,
     "status": "ok",
     "timestamp": 1670126718929,
     "user": {
      "displayName": "Sergio Jimenez",
      "userId": "03709241177248490041"
     },
     "user_tz": 300
    },
    "id": "h7CycEl-HfcW",
    "outputId": "a7dd9b46-5506-45d3-c3b9-428986768d66"
   },
   "outputs": [],
   "source": [
    "#df_OC.head()\n",
    "#df_OC.info()"
   ]
  },
  {
   "cell_type": "markdown",
   "metadata": {
    "id": "3irbh91bGSDR"
   },
   "source": [
    "### Guardar datos OC"
   ]
  },
  {
   "cell_type": "code",
   "execution_count": 230,
   "metadata": {
    "id": "vkC_P2l4XNMf"
   },
   "outputs": [],
   "source": [
    "df_OC.to_csv(os.path.join(path_etl,'oc.csv'),index=False)"
   ]
  },
  {
   "cell_type": "markdown",
   "metadata": {
    "id": "kgtmYINPatOh"
   },
   "source": [
    "### ETL OC_CC"
   ]
  },
  {
   "cell_type": "code",
   "execution_count": 140,
   "metadata": {
    "id": "A23oAFWza00e"
   },
   "outputs": [],
   "source": [
    "df_oc_cc = pd.read_csv(os.path.join(path,'oc_cc0.csv'))\n",
    "df_oc_cc = df_oc_cc.dropna(subset=['area','especialidad','curso','modalidad','carga_horaria'])\n",
    "df_oc_cc['modalidad'] = df_oc_cc['modalidad'].replace(['VIRTUAL'], 'ONLINE')\n",
    "df_oc_cc = df_oc_cc.apply(lambda x: x.astype(str).str.lower())\n",
    "df_oc_cc['carga_horaria'] = df_oc_cc['carga_horaria'].astype('int64')\n",
    "df_oc_cc = df_oc_cc.drop_duplicates()"
   ]
  },
  {
   "cell_type": "code",
   "execution_count": 143,
   "metadata": {
    "id": "rThWKmLAIw_y"
   },
   "outputs": [],
   "source": [
    "#df_oc_cc.head()\n",
    "#df_oc_cc.info()"
   ]
  },
  {
   "cell_type": "markdown",
   "metadata": {
    "id": "OKSknk8TGbgg"
   },
   "source": [
    "### Guardar datos OC_CC"
   ]
  },
  {
   "cell_type": "code",
   "execution_count": 262,
   "metadata": {
    "id": "BnqJehR6bRXN"
   },
   "outputs": [],
   "source": [
    "df_oc_cc.to_csv(os.path.join(path_etl,'oc_cc.csv'),index=False)"
   ]
  },
  {
   "cell_type": "markdown",
   "metadata": {
    "id": "T9WommIObvg8"
   },
   "source": [
    "### ETL OC_CL"
   ]
  },
  {
   "cell_type": "code",
   "execution_count": 24,
   "metadata": {
    "colab": {
     "base_uri": "https://localhost:8080/"
    },
    "executionInfo": {
     "elapsed": 218,
     "status": "ok",
     "timestamp": 1666275347629,
     "user": {
      "displayName": "Sergio Jimenez",
      "userId": "03709241177248490041"
     },
     "user_tz": 300
    },
    "id": "Uod-4gw-bzYO",
    "outputId": "fbf6e56e-aca2-42e7-c57f-5bae774980ae"
   },
   "outputs": [],
   "source": [
    "df_oc_cl = pd.read_csv(os.path.join(path,'oc_cl0.csv'))\n",
    "df_oc_cl = df_oc_cl.apply(lambda x: x.astype(str).str.lower())\n",
    "df_oc_cl = df_oc_cl.drop_duplicates()"
   ]
  },
  {
   "cell_type": "code",
   "execution_count": 27,
   "metadata": {},
   "outputs": [],
   "source": [
    "#df_oc_cl.head()\n",
    "#df_oc_cl.info()"
   ]
  },
  {
   "cell_type": "markdown",
   "metadata": {
    "id": "Jx6uRYeuGg05"
   },
   "source": [
    "### Guardar datos OC_CL"
   ]
  },
  {
   "cell_type": "code",
   "execution_count": 29,
   "metadata": {
    "id": "G-HoQ81kb8tv"
   },
   "outputs": [],
   "source": [
    "df_oc_cl.to_csv(os.path.join(path_etl,'oc_cl.csv'),index=False)"
   ]
  },
  {
   "cell_type": "markdown",
   "metadata": {
    "id": "1nA3GQd7cM-V"
   },
   "source": [
    "## Personas Capacitadas por OC - PCOC\n",
    "\n",
    "• [Búsqueda Personas Capacitadas](http://portal.trabajo.gob.ec/setec-portal-web/pages/personasCapacitadasOperadores.jsf#j_idt24:j_idt25) - PCOC"
   ]
  },
  {
   "cell_type": "code",
   "execution_count": 6,
   "metadata": {
    "colab": {
     "base_uri": "https://localhost:8080/"
    },
    "executionInfo": {
     "elapsed": 1890,
     "status": "ok",
     "timestamp": 1666275698164,
     "user": {
      "displayName": "Sergio Jimenez",
      "userId": "03709241177248490041"
     },
     "user_tz": 300
    },
    "id": "e_F_8QMWcSMa",
    "outputId": "dfb5c3ca-79b0-40a7-fb8f-c5f0ae143a3f"
   },
   "outputs": [],
   "source": [
    "df_pcoc = pd.read_csv(os.path.join(path,'pcoc.csv'))\n",
    "df_pcoc[\"numero_documento\"].fillna(\"Sin Número Documento\", inplace = True)\n",
    "df_pcoc[\"apellidos_nombres\"].fillna(\"Sin Apellidos y Nombres\", inplace = True)\n",
    "df_pcoc[\"numero_horas\"].fillna(0, inplace = True)\n",
    "df_pcoc[\"numero_horas\"]=df_pcoc[\"numero_horas\"].astype('int64')\n",
    "df_pcoc[\"razon_social_oc\"].fillna(\"Sin Razón Social OC\", inplace = True)\n",
    "df_pcoc[\"nombre_comercial_oc\"].fillna(\"Sin Nombre Comercial OC\", inplace = True)\n",
    "df_pcoc = df_pcoc.apply(lambda x: x.astype(str).str.lower())\n",
    "df_pcoc[\"numero_horas\"]=df_pcoc[\"numero_horas\"].astype('int64')\n",
    "df_pcoc = df_pcoc.drop_duplicates()    "
   ]
  },
  {
   "cell_type": "code",
   "execution_count": 244,
   "metadata": {
    "id": "jFXt0ZrhKn_-"
   },
   "outputs": [],
   "source": [
    "#df_pcoc.head()\n",
    "#df_pcoc.info()"
   ]
  },
  {
   "cell_type": "code",
   "execution_count": 260,
   "metadata": {
    "id": "nQUOOaWUdhnY"
   },
   "outputs": [],
   "source": [
    "df_pcoc.to_csv(os.path.join(path_etl,'pcoc.csv'),index=False)"
   ]
  },
  {
   "cell_type": "markdown",
   "metadata": {
    "id": "NW-bweRJYDks"
   },
   "source": [
    "### Datos Número Documento y Apellidos/Nombre"
   ]
  },
  {
   "cell_type": "code",
   "execution_count": null,
   "metadata": {
    "colab": {
     "base_uri": "https://localhost:8080/"
    },
    "executionInfo": {
     "elapsed": 1498,
     "status": "ok",
     "timestamp": 1666275938392,
     "user": {
      "displayName": "Sergio Jimenez",
      "userId": "03709241177248490041"
     },
     "user_tz": 300
    },
    "id": "e8Z5LmX5YZoI",
    "outputId": "782d0e52-9aa4-4f13-b00f-95676fab9502"
   },
   "outputs": [
    {
     "name": "stdout",
     "output_type": "stream",
     "text": [
      "<class 'pandas.core.frame.DataFrame'>\n",
      "Int64Index: 181304 entries, 0 to 251987\n",
      "Data columns (total 2 columns):\n",
      " #   Column             Non-Null Count   Dtype \n",
      "---  ------             --------------   ----- \n",
      " 0   Numero_Documento   181304 non-null  object\n",
      " 1   Apellidos_Nombres  181304 non-null  object\n",
      "dtypes: object(2)\n",
      "memory usage: 4.1+ MB\n"
     ]
    }
   ],
   "source": [
    "df_d_n_pcoc = pd.read_csv(os.path.join(path,'pcoc.csv'))\n",
    "df_d_n_pcoc = df_d_n_pcoc[['Numero_Documento','Apellidos_Nombres']]\n",
    "df_d_n_pcoc['size_doc'] = df_d_n_pcoc['Numero_Documento'].apply(lambda doc: len(doc))\n",
    "df_d_n_pcoc = df_d_n_pcoc[df_d_n_pcoc['size_doc']==10]\n",
    "df_d_n_pcoc = df_d_n_pcoc.drop_duplicates(['Numero_Documento'], keep='last')\n",
    "df_d_n_pcoc.pop('size_doc')\n",
    "df_d_n_pcoc.info()"
   ]
  },
  {
   "cell_type": "code",
   "execution_count": null,
   "metadata": {
    "id": "3xDvNyAQx1Be"
   },
   "outputs": [],
   "source": [
    "df_d_n_pcoc.to_csv(path_etl+'doc_name_pcoc.csv',index=False)"
   ]
  },
  {
   "cell_type": "markdown",
   "metadata": {
    "id": "2Fp1wCiTY-qs"
   },
   "source": [
    "## Organismos Evaluadores de  la Conformidad - OEC\n",
    "\n",
    "• [Organismos Evaluadores de la Conformidad](http://portal.trabajo.gob.ec/setec-portal-web/pages/evaluadoresConformidad.jsf#j_idt24:j_idt25) - OEC\n",
    "\n",
    "• [OEC - Suspendidos](http://portal.trabajo.gob.ec/setec-portal-web/pages/evaluadoresConformidad.jsf#j_idt24:j_idt103) - OECS\n",
    "\n",
    "• [OEC - Finalizaron su vigencia de Reconocimiento](http://portal.trabajo.gob.ec/setec-portal-web/pages/evaluadoresConformidad.jsf#j_idt24:j_idt112) - OECF\n",
    "\n",
    "• [OEC - Cancelados](http://portal.trabajo.gob.ec/setec-portal-web/pages/evaluadoresConformidad.jsf#j_idt24:j_idt122) - OECC"
   ]
  },
  {
   "cell_type": "markdown",
   "metadata": {
    "id": "Cz_o_WfmaCtZ"
   },
   "source": [
    "### ETL OEC"
   ]
  },
  {
   "cell_type": "code",
   "execution_count": 191,
   "metadata": {
    "colab": {
     "base_uri": "https://localhost:8080/"
    },
    "executionInfo": {
     "elapsed": 1399,
     "status": "ok",
     "timestamp": 1667837706414,
     "user": {
      "displayName": "Sergio Jimenez",
      "userId": "03709241177248490041"
     },
     "user_tz": 300
    },
    "id": "Q3Ii7zBwY7GY",
    "outputId": "ec853b3f-11ce-46b8-ae4e-98f369ea6149"
   },
   "outputs": [],
   "source": [
    "df_oec = pd.read_csv(os.path.join(path,'oec0.csv'))\n",
    "df_oec['celular'] = df_oec['celular'].astype('object')\n",
    "df_oec = df_oec.apply(lambda x: x.astype(str).str.lower())\n",
    "df_oec['ruc_o_codigo'] = df_oec['ruc_o_codigo'].apply(lambda x: '0'+x if len(x)==12 else x)\n",
    "df_oec['celular'] = df_oec['celular'].apply(lambda x: '0'+x if len(x)==9 else x)\n",
    "df_oec = df_oec.drop_duplicates()"
   ]
  },
  {
   "cell_type": "code",
   "execution_count": 228,
   "metadata": {},
   "outputs": [],
   "source": [
    "#df_oec.head()\n",
    "#df_oec.info()"
   ]
  },
  {
   "cell_type": "markdown",
   "metadata": {
    "id": "JeWQ5Q8qeeIt"
   },
   "source": [
    "### ETL OECS"
   ]
  },
  {
   "cell_type": "code",
   "execution_count": 205,
   "metadata": {
    "colab": {
     "base_uri": "https://localhost:8080/"
    },
    "executionInfo": {
     "elapsed": 715,
     "status": "ok",
     "timestamp": 1667837728936,
     "user": {
      "displayName": "Sergio Jimenez",
      "userId": "03709241177248490041"
     },
     "user_tz": 300
    },
    "id": "0oRtTLDoeh8f",
    "outputId": "57d75c4e-b2a3-4778-dfde-ee3b2f9714db"
   },
   "outputs": [],
   "source": [
    "df_oecs = pd.read_csv(os.path.join(path,'oecs.csv'))\n",
    "df_oecs.insert(2, 'direccion', 'Sin Dirección')\n",
    "df_oecs.insert(3, 'telefono', 'Sin Teléfono')\n",
    "df_oecs.insert(4, 'celular', 'Sin Celular')\n",
    "df_oecs.insert(5, 'correo_electronico', 'Sin Email')\n",
    "df_oecs.insert(6, 'numero_resolucion', 'Sin Número Resolución')\n",
    "df_oecs.insert(7, 'fecha_resolucion', 'Sin Fecha Resolución')\n",
    "df_oecs.insert(8, 'canton', 'Sin Cantón')\n",
    "df_oecs = df_oecs.apply(lambda x: x.astype(str).str.lower())"
   ]
  },
  {
   "cell_type": "code",
   "execution_count": 206,
   "metadata": {},
   "outputs": [],
   "source": [
    "df_oecs['ruc_o_codigo'] = df_oecs['ruc_o_codigo'].apply(lambda x: '0'+x if len(x)==12 else x)"
   ]
  },
  {
   "cell_type": "code",
   "execution_count": 208,
   "metadata": {},
   "outputs": [],
   "source": [
    "#df_oecs.head()\n",
    "#df_oecs.info()"
   ]
  },
  {
   "cell_type": "markdown",
   "metadata": {
    "id": "IkoZwzy4gGkl"
   },
   "source": [
    "### ETL OECF"
   ]
  },
  {
   "cell_type": "code",
   "execution_count": 222,
   "metadata": {
    "colab": {
     "base_uri": "https://localhost:8080/"
    },
    "executionInfo": {
     "elapsed": 671,
     "status": "ok",
     "timestamp": 1667837731617,
     "user": {
      "displayName": "Sergio Jimenez",
      "userId": "03709241177248490041"
     },
     "user_tz": 300
    },
    "id": "KzovkkyKePkn",
    "outputId": "720c6efa-c492-4bdd-c039-28b7923774b5"
   },
   "outputs": [],
   "source": [
    "df_oecf = pd.read_csv(os.path.join(path,'oecf0.csv'))\n",
    "df_oecf.insert(2, 'direccion', 'Sin Dirección')\n",
    "df_oecf.insert(3, 'telefono', 'Sin Teléfono')\n",
    "df_oecf.insert(4, 'celular', 'Sin Celular')\n",
    "df_oecf.insert(5, 'correo_electronico', 'Sin Email')\n",
    "df_oecf.insert(6, 'numero_resolucion', 'Sin Número Resolución')\n",
    "df_oecf.insert(7, 'fecha_resolucion', 'Sin Fecha Resolución')\n",
    "df_oecf.insert(8, 'canton', 'Sin Cantón')\n",
    "df_oecf = df_oecf.apply(lambda x: x.astype(str).str.lower())\n",
    "df_oecs['ruc_o_codigo'] = df_oecs['ruc_o_codigo'].apply(lambda x: '0'+x if len(x)==12 else x)"
   ]
  },
  {
   "cell_type": "code",
   "execution_count": 212,
   "metadata": {},
   "outputs": [],
   "source": [
    "#df_oecf.head()\n",
    "#df_oecf.info()"
   ]
  },
  {
   "cell_type": "markdown",
   "metadata": {
    "id": "ULvq4WPZgIH9"
   },
   "source": [
    "### ETL OECC"
   ]
  },
  {
   "cell_type": "code",
   "execution_count": 213,
   "metadata": {
    "colab": {
     "base_uri": "https://localhost:8080/"
    },
    "executionInfo": {
     "elapsed": 966,
     "status": "ok",
     "timestamp": 1667837733910,
     "user": {
      "displayName": "Sergio Jimenez",
      "userId": "03709241177248490041"
     },
     "user_tz": 300
    },
    "id": "RBhiU6xxf7wM",
    "outputId": "879b92f4-9282-4203-e448-dc7247b9bad9"
   },
   "outputs": [],
   "source": [
    "df_oecc = pd.read_csv(os.path.join(path,'oecc.csv'))\n",
    "df_oecc.insert(2, 'direccion', 'Sin Dirección')\n",
    "df_oecc.insert(3, 'telefono', 'Sin Teléfono')\n",
    "df_oecc.insert(4, 'celular', 'Sin Celular')\n",
    "df_oecc.insert(5, 'correo_electronico', 'Sin Email')\n",
    "df_oecc.insert(6, 'numero_resolucion', 'Sin Número Resolución')\n",
    "df_oecc.insert(7, 'fecha_resolucion', 'Sin Fecha Resolución')\n",
    "df_oecc.insert(8, 'canton', 'Sin Cantón')                               \n",
    "df_oecc = df_oecc.apply(lambda x: x.astype(str).str.lower())\n",
    "df_oecc['ruc_o_codigo'] = df_oecc['ruc_o_codigo'].apply(lambda x: '0'+x if len(x)==12 else x)"
   ]
  },
  {
   "cell_type": "code",
   "execution_count": 215,
   "metadata": {},
   "outputs": [],
   "source": [
    "#df_oecc.head()\n",
    "#df_oecc.info()"
   ]
  },
  {
   "cell_type": "markdown",
   "metadata": {
    "id": "XGizLJlRgJS2"
   },
   "source": [
    "### DATOS LIMPIOS OEC"
   ]
  },
  {
   "cell_type": "code",
   "execution_count": 223,
   "metadata": {
    "colab": {
     "base_uri": "https://localhost:8080/"
    },
    "executionInfo": {
     "elapsed": 300,
     "status": "ok",
     "timestamp": 1667837736464,
     "user": {
      "displayName": "Sergio Jimenez",
      "userId": "03709241177248490041"
     },
     "user_tz": 300
    },
    "id": "df6k4OujgMP1",
    "outputId": "e43af870-3281-44a4-e783-0a734d1519cf"
   },
   "outputs": [],
   "source": [
    "df_OEC = pd.concat([df_oec,df_oecs,df_oecf,df_oecc],axis=0)\n",
    "df_OEC = df_OEC.drop_duplicates()\n",
    "df_OEC = df_OEC.drop_duplicates(subset='razon_social',keep='first')"
   ]
  },
  {
   "cell_type": "code",
   "execution_count": 225,
   "metadata": {},
   "outputs": [],
   "source": [
    "#df_OEC.head()\n",
    "#df_OEC.info()"
   ]
  },
  {
   "cell_type": "markdown",
   "metadata": {
    "id": "gzhqr2iQGp5n"
   },
   "source": [
    "### Guardar datos OEC"
   ]
  },
  {
   "cell_type": "code",
   "execution_count": 259,
   "metadata": {
    "id": "PHNP_3T9gDVW"
   },
   "outputs": [],
   "source": [
    "df_OEC.to_csv(os.path.join(path_etl,'oec.csv'),index=False)"
   ]
  },
  {
   "cell_type": "markdown",
   "metadata": {
    "id": "2iJYmLlphJ6f"
   },
   "source": [
    "### ETL OEC_DR"
   ]
  },
  {
   "cell_type": "code",
   "execution_count": 237,
   "metadata": {
    "colab": {
     "base_uri": "https://localhost:8080/"
    },
    "executionInfo": {
     "elapsed": 5,
     "status": "ok",
     "timestamp": 1666276584696,
     "user": {
      "displayName": "Sergio Jimenez",
      "userId": "03709241177248490041"
     },
     "user_tz": 300
    },
    "id": "Z4B7HpU2hHCn",
    "outputId": "3297399a-0b49-4feb-b516-2fae2cac431b"
   },
   "outputs": [],
   "source": [
    "df_oec_dr = pd.read_csv(os.path.join(path,'oec_dr0.csv'))\n",
    "df_oec_dr[\"perfil\"].fillna(\"Sin Perfil\", inplace = True)\n",
    "df_oec_dr[\"esquema_de_certificacion\"].fillna(\"Sin Esquema de Certificación\", inplace = True)\n",
    "df_oec_dr = df_oec_dr.apply(lambda x: x.astype(str).str.lower())\n",
    "df_oec_dr['ruc_o_codigo'] = df_oec_dr['ruc_o_codigo'].apply(lambda x: '0'+x if len(x)==12 else x)\n",
    "df_oec_dr = df_oec_dr.drop_duplicates()"
   ]
  },
  {
   "cell_type": "code",
   "execution_count": 240,
   "metadata": {},
   "outputs": [],
   "source": [
    "#df_oec_dr.head()\n",
    "#df_oec_dr.info()"
   ]
  },
  {
   "cell_type": "markdown",
   "metadata": {
    "id": "yIilWkS6GtWK"
   },
   "source": [
    "### Guardar datos OEC_DR"
   ]
  },
  {
   "cell_type": "code",
   "execution_count": 258,
   "metadata": {
    "id": "IjJ4Cdbtil43"
   },
   "outputs": [],
   "source": [
    "df_oec_dr.to_csv(os.path.join(path_etl,'oec_dr.csv'),index=False)"
   ]
  },
  {
   "cell_type": "markdown",
   "metadata": {
    "id": "LPQ3uyN6miXw"
   },
   "source": [
    "## Personas Certificadas por OEC - PCOEC\n",
    "\n",
    "• [Búsqueda Personas Certificadas](http://portal.trabajo.gob.ec/setec-portal-web/pages/legitimidadCertificacion.jsf#j_idt24:j_idt25) - PCOEC"
   ]
  },
  {
   "cell_type": "code",
   "execution_count": 251,
   "metadata": {
    "colab": {
     "base_uri": "https://localhost:8080/"
    },
    "executionInfo": {
     "elapsed": 2803,
     "status": "ok",
     "timestamp": 1666276796481,
     "user": {
      "displayName": "Sergio Jimenez",
      "userId": "03709241177248490041"
     },
     "user_tz": 300
    },
    "id": "NJ9d2qxFiqwP",
    "outputId": "b959dbe8-00e9-4446-9320-23287cc4d656"
   },
   "outputs": [],
   "source": [
    "df_pcoec = pd.concat([\n",
    "    pd.read_csv(os.path.join(path,'pcoec0.csv')),\n",
    "    pd.read_csv(os.path.join(path,'pcoec1.csv')),\n",
    "    pd.read_csv(os.path.join(path,'pcoec2.csv')),\n",
    "    pd.read_csv(os.path.join(path,'pcoec3.csv')),\n",
    "    ],axis=0)  \n",
    "df_pcoec = df_pcoec.drop(['Ver Certificado'],axis=1)\n",
    "df_pcoec[\"Fecha Vigencia\"].fillna(\"Sin Fecha Vigencia\", inplace = True)\n",
    "df_pcoec[\"Celular\"].fillna(\"Sin Celular\", inplace = True)\n",
    "df_pcoec = df_pcoec.rename(columns={'Número Certificación':'numero_certificacion'})\n",
    "df_pcoec = df_pcoec.rename(columns={'Fecha Certificación':'fecha_certificacion'})\n",
    "df_pcoec = df_pcoec.rename(columns={'Fecha Vigencia':'fecha_vigencia'})\n",
    "df_pcoec = df_pcoec.rename(columns={'Ruc Organismo Evaluador':'ruc_o_codigo'})\n",
    "df_pcoec = df_pcoec.rename(columns={'Organismo Evaluador':'razon_social'})\n",
    "df_pcoec = df_pcoec.rename(columns={'Perfil':'perfil'}) \n",
    "df_pcoec = df_pcoec.rename(columns={'Nombres':'apellidos_nombres'})\n",
    "df_pcoec = df_pcoec.rename(columns={'Celular':'celular'})\n",
    "df_pcoec = df_pcoec.apply(lambda x: x.astype(str).str.lower())\n",
    "df_pcoec['ruc_o_codigo'] = df_pcoec['ruc_o_codigo'].apply(lambda x: '0'+x if len(x)==12 else x)\n",
    "df_pcoec['celular'] = df_pcoec['celular'].apply(lambda x: '0'+x if len(x)==9 else x)\n",
    "df_pcoec = df_pcoec.drop_duplicates()"
   ]
  },
  {
   "cell_type": "code",
   "execution_count": 266,
   "metadata": {},
   "outputs": [],
   "source": [
    "#df_pcoec.head()\n",
    "#df_pcoec.info()"
   ]
  },
  {
   "cell_type": "markdown",
   "metadata": {
    "id": "kiB1LVa8GzEw"
   },
   "source": [
    "### Guardar datos PCOEC"
   ]
  },
  {
   "cell_type": "code",
   "execution_count": 264,
   "metadata": {
    "id": "RaUMbFsVo6CG"
   },
   "outputs": [],
   "source": [
    "df_pcoec.to_csv(os.path.join(path_etl,'pcoec.csv'),index=False)"
   ]
  },
  {
   "cell_type": "markdown",
   "metadata": {
    "id": "6nTZQVaopGGO"
   },
   "source": [
    "## Capacitadores Independientes - CI\n",
    "\n",
    "• [Búsqueda de Capacitadores Independientes](http://portal.trabajo.gob.ec/setec-portal-web/pages/operadoresCapacitacionIndependientes.jsf#j_idt24:j_idt25) - CI"
   ]
  },
  {
   "cell_type": "markdown",
   "metadata": {
    "id": "aZ8NFoxJpNOF"
   },
   "source": [
    "### ETL CI"
   ]
  },
  {
   "cell_type": "code",
   "execution_count": 7,
   "metadata": {
    "colab": {
     "base_uri": "https://localhost:8080/"
    },
    "executionInfo": {
     "elapsed": 446,
     "status": "ok",
     "timestamp": 1666276996713,
     "user": {
      "displayName": "Sergio Jimenez",
      "userId": "03709241177248490041"
     },
     "user_tz": 300
    },
    "id": "xMXS6RfYpEe4",
    "outputId": "3beac102-f27f-42df-dbf6-69e9690335c0"
   },
   "outputs": [],
   "source": [
    "df_ci = pd.read_csv(os.path.join(path,'ci0.csv'))\n",
    "df_ci = df_ci.apply(lambda x: x.astype(str).str.lower())\n",
    "df_ci['numero_documento'] = df_ci['numero_documento'].apply(lambda x: '0'+x if len(x)==9 else x)\n",
    "df_ci['celular'] = df_ci['celular'].apply(lambda x: '0'+x if len(x)==9 else x)\n",
    "df_ci = df_ci.drop_duplicates()"
   ]
  },
  {
   "cell_type": "code",
   "execution_count": 9,
   "metadata": {},
   "outputs": [],
   "source": [
    "#df_ci.head()\n",
    "#df_ci.info()"
   ]
  },
  {
   "cell_type": "markdown",
   "metadata": {
    "id": "D2WSfmtOG2WY"
   },
   "source": [
    "### Guardar datos CI"
   ]
  },
  {
   "cell_type": "code",
   "execution_count": 11,
   "metadata": {
    "id": "2HWludjlprZA"
   },
   "outputs": [],
   "source": [
    "df_ci.to_csv(os.path.join(path_etl,'ci.csv'),index=False)"
   ]
  },
  {
   "cell_type": "markdown",
   "metadata": {
    "id": "-Mvx60T_0wYz"
   },
   "source": [
    "### ETL CI_LCA"
   ]
  },
  {
   "cell_type": "code",
   "execution_count": 12,
   "metadata": {
    "colab": {
     "base_uri": "https://localhost:8080/"
    },
    "executionInfo": {
     "elapsed": 411,
     "status": "ok",
     "timestamp": 1666277155339,
     "user": {
      "displayName": "Sergio Jimenez",
      "userId": "03709241177248490041"
     },
     "user_tz": 300
    },
    "id": "mOOQH0Rc0l-D",
    "outputId": "4cbb6ad0-a3f3-4048-8755-8cea883579ca"
   },
   "outputs": [],
   "source": [
    "df_ci_lca =pd.read_csv(os.path.join(path,'ci_lca0.csv'))\n",
    "df_ci_lca[\"carga_horaria\"].fillna(0, inplace = True)\n",
    "df_ci_lca[\"carga_horaria\"]=df_ci_lca[\"carga_horaria\"].astype('int64')\n",
    "df_ci_lca = df_ci_lca.apply(lambda x: x.astype(str).str.lower())\n",
    "df_ci_lca[\"carga_horaria\"]=df_ci_lca[\"carga_horaria\"].astype('int64')\n",
    "df_ci_lca = df_ci_lca.drop_duplicates()"
   ]
  },
  {
   "cell_type": "code",
   "execution_count": 289,
   "metadata": {},
   "outputs": [],
   "source": [
    "#df_ci_lca.head()\n",
    "#df_ci_lca.info()"
   ]
  },
  {
   "cell_type": "markdown",
   "metadata": {
    "id": "Skpgv4M1G45p"
   },
   "source": [
    "### Guardar datos CI_LCA"
   ]
  },
  {
   "cell_type": "code",
   "execution_count": 13,
   "metadata": {
    "id": "GL-pc3k_4Pj9"
   },
   "outputs": [],
   "source": [
    "df_ci_lca.to_csv(os.path.join(path_etl,'ci_lca.csv'),index=False)"
   ]
  },
  {
   "cell_type": "markdown",
   "metadata": {
    "id": "2Gi_EegOp9TR"
   },
   "source": [
    "## Personas Capacitadas por CI - PCCI\n",
    "\n",
    "• [Búsqueda de Personas Capacitadas](http://portal.trabajo.gob.ec/setec-portal-web/pages/personasCapacitadas.jsf#j_idt24:j_idt25) - PCCI"
   ]
  },
  {
   "cell_type": "code",
   "execution_count": 14,
   "metadata": {
    "colab": {
     "base_uri": "https://localhost:8080/"
    },
    "executionInfo": {
     "elapsed": 1327,
     "status": "ok",
     "timestamp": 1666277295428,
     "user": {
      "displayName": "Sergio Jimenez",
      "userId": "03709241177248490041"
     },
     "user_tz": 300
    },
    "id": "9jIqi9tbp8m4",
    "outputId": "1a338e20-2301-4e77-a642-5a7a33a15991"
   },
   "outputs": [],
   "source": [
    "df_pcci =pd.read_csv(os.path.join(path,'pcci.csv'))\n",
    "df_pcci = df_pcci.apply(lambda x: x.astype(str).str.lower())\n",
    "df_pcci[\"numero_horas\"]=df_pcci[\"numero_horas\"].astype('int64')\n",
    "df_pcci = df_pcci.drop_duplicates()"
   ]
  },
  {
   "cell_type": "code",
   "execution_count": 295,
   "metadata": {},
   "outputs": [],
   "source": [
    "#df_pcci.head()\n",
    "#df_pcci.info()"
   ]
  },
  {
   "cell_type": "markdown",
   "metadata": {
    "id": "TIIl9zi4G8Nb"
   },
   "source": [
    "### Guardar datos PCCI"
   ]
  },
  {
   "cell_type": "code",
   "execution_count": 15,
   "metadata": {
    "id": "cdyy5RUOqqFb"
   },
   "outputs": [],
   "source": [
    "df_pcci.to_csv(os.path.join(path_etl,'pcci.csv'),index=False)"
   ]
  },
  {
   "cell_type": "markdown",
   "metadata": {
    "id": "gS5NF5HQjSRG"
   },
   "source": [
    "### Datos Número Documento y Apellidos/Nombre"
   ]
  },
  {
   "cell_type": "code",
   "execution_count": null,
   "metadata": {
    "colab": {
     "base_uri": "https://localhost:8080/"
    },
    "executionInfo": {
     "elapsed": 764,
     "status": "ok",
     "timestamp": 1666277363075,
     "user": {
      "displayName": "Sergio Jimenez",
      "userId": "03709241177248490041"
     },
     "user_tz": 300
    },
    "id": "ti-D2vttjQ6P",
    "outputId": "8697ee08-0bf7-40d1-c34a-b0280fa96538"
   },
   "outputs": [
    {
     "name": "stdout",
     "output_type": "stream",
     "text": [
      "<class 'pandas.core.frame.DataFrame'>\n",
      "Int64Index: 99000 entries, 0 to 140179\n",
      "Data columns (total 2 columns):\n",
      " #   Column             Non-Null Count  Dtype \n",
      "---  ------             --------------  ----- \n",
      " 0   Numero_Documento   99000 non-null  object\n",
      " 1   Apellidos_Nombres  99000 non-null  object\n",
      "dtypes: object(2)\n",
      "memory usage: 2.3+ MB\n"
     ]
    }
   ],
   "source": [
    "df_d_n_pcci = pd.read_csv(path_etl+'pcci.csv')\n",
    "df_d_n_pcci = df_d_n_pcci[['Numero_Documento','Apellidos_Nombres']]\n",
    "df_d_n_pcci['size_doc'] = df_d_n_pcci['Numero_Documento'].apply(lambda doc: len(doc))\n",
    "df_d_n_pcci = df_d_n_pcci[df_d_n_pcci['size_doc']==10]\n",
    "df_d_n_pcci = df_d_n_pcci.drop_duplicates(['Numero_Documento'], keep='last')\n",
    "df_d_n_pcci.pop('size_doc')\n",
    "df_d_n_pcci.info()\n"
   ]
  },
  {
   "cell_type": "code",
   "execution_count": null,
   "metadata": {
    "id": "ITE83bfcjmJo"
   },
   "outputs": [],
   "source": [
    "df_d_n_pcci.to_csv(path_etl+'doc_name_pcci.csv',index=False)"
   ]
  }
 ],
 "metadata": {
  "colab": {
   "collapsed_sections": [
    "ZAb2UjZFkzwh",
    "VWx4LGntlVMF",
    "zu0ZfZL3mJQA",
    "5W9Ce-kNmMcO",
    "Jky1Q-6ZqPtZ",
    "ng_3L5p_s_Dm",
    "CAVyFsTay8ZT",
    "tav2VpmDWN3s",
    "Siwhx6b2ZQLH",
    "3irbh91bGSDR",
    "kgtmYINPatOh",
    "OKSknk8TGbgg",
    "T9WommIObvg8",
    "Jx6uRYeuGg05",
    "1nA3GQd7cM-V",
    "NW-bweRJYDks",
    "ULvq4WPZgIH9",
    "XGizLJlRgJS2",
    "gzhqr2iQGp5n",
    "2iJYmLlphJ6f",
    "yIilWkS6GtWK",
    "LPQ3uyN6miXw",
    "kiB1LVa8GzEw",
    "6nTZQVaopGGO",
    "aZ8NFoxJpNOF",
    "D2WSfmtOG2WY",
    "-Mvx60T_0wYz",
    "Skpgv4M1G45p",
    "2Gi_EegOp9TR",
    "TIIl9zi4G8Nb",
    "gS5NF5HQjSRG"
   ],
   "provenance": [],
   "toc_visible": true
  },
  "kernelspec": {
   "display_name": "Python 3 (ipykernel)",
   "language": "python",
   "name": "python3"
  },
  "language_info": {
   "codemirror_mode": {
    "name": "ipython",
    "version": 3
   },
   "file_extension": ".py",
   "mimetype": "text/x-python",
   "name": "python",
   "nbconvert_exporter": "python",
   "pygments_lexer": "ipython3",
   "version": "3.9.12"
  },
  "vscode": {
   "interpreter": {
    "hash": "857d8669872199a61137514e88186641c3493fcbfa068d2d6eeeca0b699193af"
   }
  }
 },
 "nbformat": 4,
 "nbformat_minor": 4
}
