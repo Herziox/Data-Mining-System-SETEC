{
 "cells": [
  {
   "cell_type": "markdown",
   "id": "306d4027-7e3d-459a-b06a-5f516a3365ca",
   "metadata": {},
   "source": [
    "# Importación e Intalación de Librerías"
   ]
  },
  {
   "cell_type": "code",
   "execution_count": 4,
   "id": "d323e615-bfe7-4f26-a76e-6777c8f1d197",
   "metadata": {},
   "outputs": [],
   "source": [
    "import MySQLdb\n",
    "import csv\n",
    "import pandas as pd\n",
    "import sys\n",
    "import os"
   ]
  },
  {
   "cell_type": "markdown",
   "id": "dc6456c3-4d65-42e2-b0e5-2ade24851326",
   "metadata": {},
   "source": [
    "# Ruta de archivos"
   ]
  },
  {
   "cell_type": "code",
   "execution_count": 10,
   "id": "e51c352a-af91-43dc-bb9b-d91c5ea31b8c",
   "metadata": {},
   "outputs": [],
   "source": [
    "#Rutas de entrada\n",
    "path_sd = os.path.abspath(os.path.join(os.getcwd(), '..','2_data_understanding_module','collecting_initial_data','existing_data','DIRTY_DATA'))\n",
    "path_dd = os.path.abspath(os.path.join(os.getcwd(), '..','2_data_understanding_module','collecting_initial_data','existing_data','DOWNLOADED_DATA'))\n",
    "path_ad = os.path.abspath(os.path.join(os.getcwd(), '..','2_data_understanding_module','collecting_initial_data','additional_data'))\n",
    "\n",
    "#Rutas salida\n",
    "path_db = os.path.abspath(os.path.join(os.getcwd(),'CLEANED_DATA'))\n",
    "path_dwh = os.path.join(os.getcwd(), \"DATAWAREHOUSE\")\n",
    "path_dm_oc = os.path.join(path_dwh,'datamart_oc')\n",
    "path_dm_oec = os.path.join(path_dwh,'datamart_oec')\n",
    "path_dm_ci = os.path.join(path_dwh,'datamart_ci')"
   ]
  },
  {
   "cell_type": "markdown",
   "id": "71c1b420-5933-4a97-a2e6-88b03ed845b9",
   "metadata": {},
   "source": [
    "# Funciones"
   ]
  },
  {
   "cell_type": "code",
   "execution_count": 8,
   "id": "792c92fd-c9e8-4403-bc8a-f409c40a2fec",
   "metadata": {},
   "outputs": [],
   "source": [
    "stopwords = open(os.path.join(path_etl,'spanish.txt'),\"r\", encoding='utf-8')\n",
    "stopwords = stopwords.readlines()\n",
    "stopwords = [x.replace('\\n','') for x in stopwords]\n",
    "global puntuacion\n",
    "puntuacion = '!\"#$%&:;\\'()*+,-./?@[\\]^_`{|}~()'"
   ]
  },
  {
   "cell_type": "code",
   "execution_count": 9,
   "id": "907ebf57-eab4-48dd-a122-30fbc5504d93",
   "metadata": {},
   "outputs": [],
   "source": [
    "def normalizar(text):\n",
    "    text = text.lower() \n",
    "    text = text.replace('á','a')\n",
    "    text = text.replace('é','e')\n",
    "    text = text.replace('í','i')\n",
    "    text = text.replace('ó','o')\n",
    "    text = text.replace('ú','u')\n",
    "    text = text.strip()\n",
    "    text = text.split(' ')\n",
    "    re_punc = re.compile('[%s]' % re.escape(puntuacion))\n",
    "    stripped = [re_punc.sub(' ', w) for w in text]\n",
    "    text = ' '.join(stripped)\n",
    "    text = text.split(' ')\n",
    "    new_text = []\n",
    "    for i in range(len(text)):\n",
    "        char = text[i]\n",
    "        if char not in stopwords and char!=' ':\n",
    "            new_text.append(text[i])\n",
    "    new_text = ' '.join(new_text)\n",
    "    new_text = new_text.strip()\n",
    "            \n",
    "    return new_text"
   ]
  },
  {
   "cell_type": "markdown",
   "id": "c3a27afa-5929-40ab-bc88-d5371f31aa13",
   "metadata": {},
   "source": [
    "# Extracción de datos"
   ]
  },
  {
   "cell_type": "markdown",
   "id": "1358d9c4-70cb-4c80-af85-799b531777a0",
   "metadata": {
    "id": "ZAb2UjZFkzwh",
    "tags": []
   },
   "source": [
    "## Catálogo Nacional de Cualificaciones - CNC \n",
    "\n",
    "- CNC para Operadores de Capacitación - CNCOC\n",
    "- CNC para Organismos Evaluadores de  la Conformidad - CNCOEC\n",
    "- CNC  Perfiles Inhabilitados - CNCPI"
   ]
  },
  {
   "cell_type": "markdown",
   "id": "63eddaed-c505-44cf-bc8b-dfaf52c513a9",
   "metadata": {
    "id": "VWx4LGntlVMF"
   },
   "source": [
    "### ETL CNCOC"
   ]
  },
  {
   "cell_type": "code",
   "execution_count": 11,
   "id": "2d6da2b7-d0c3-4cac-ba37-91596b5ce81d",
   "metadata": {
    "id": "DXnzxy-EfOya"
   },
   "outputs": [],
   "source": [
    "df_cncoc = pd.read_csv(os.path.join(path_sd,'cncoc.csv'))\n",
    "df_cncoc.insert(4, 'tipo', \"oc\")\n",
    "df_cncoc.insert(5, 'estado', \"habilitado\")"
   ]
  },
  {
   "cell_type": "code",
   "execution_count": 12,
   "id": "c395067e-600d-4964-8cc2-0782322615a2",
   "metadata": {
    "id": "5bRma65oXBhW"
   },
   "outputs": [],
   "source": [
    "# df_cncoc.info()"
   ]
  },
  {
   "cell_type": "markdown",
   "id": "38a817a5-3a3a-47e5-8601-5f8faf9b6f49",
   "metadata": {
    "id": "zu0ZfZL3mJQA"
   },
   "source": [
    "### ETL CNCOEC"
   ]
  },
  {
   "cell_type": "code",
   "execution_count": 13,
   "id": "5673b486-2bda-4997-89f5-ffc754a522f7",
   "metadata": {
    "id": "SPpYj32ymL0l"
   },
   "outputs": [],
   "source": [
    "df_cncoec = pd.read_csv(os.path.join(path_sd,'cncoec0.csv'))\n",
    "df_cncoec.insert(4, 'tipo', \"oec\")\n",
    "df_cncoec.insert(5, 'estado', \"habilitado\")"
   ]
  },
  {
   "cell_type": "code",
   "execution_count": 14,
   "id": "7b6e0a9b-286c-4616-a834-75c6dd475b87",
   "metadata": {
    "id": "qjh1y45RXO4G"
   },
   "outputs": [],
   "source": [
    "# df_cncoec.info()"
   ]
  },
  {
   "cell_type": "markdown",
   "id": "34787a9a-3537-4bfc-ab66-6a2ee1ebb475",
   "metadata": {
    "id": "5W9Ce-kNmMcO"
   },
   "source": [
    "### ETL CNCPI"
   ]
  },
  {
   "cell_type": "code",
   "execution_count": 23,
   "id": "23b3f6d8-e310-4e56-8700-d08f2dbeee9e",
   "metadata": {
    "id": "aLDcElUfo1Wz"
   },
   "outputs": [],
   "source": [
    "df_cncpi = pd.read_csv(os.path.join(path_sd,'cncpi0.csv'))\n",
    "df_cncpi.insert(1, 'competenecia_laboral', \"sin competencia laboral\")\n",
    "df_cncpi.insert(4, 'tipo', \"desconocido\")\n",
    "df_cncpi.insert(5, 'estado', \"inhabilidato\")"
   ]
  },
  {
   "cell_type": "code",
   "execution_count": 16,
   "id": "c7ad9d16-6764-4aaf-9d70-47eae2b7c89f",
   "metadata": {
    "id": "yludAgpYXzgh"
   },
   "outputs": [],
   "source": [
    "# df_cncpi.info()"
   ]
  },
  {
   "cell_type": "markdown",
   "id": "31388027-bd3f-40f5-a265-d6baf7507d54",
   "metadata": {
    "id": "Jky1Q-6ZqPtZ"
   },
   "source": [
    " ### **CNC** - INTEGRACIÓN DE DATOS"
   ]
  },
  {
   "cell_type": "code",
   "execution_count": 24,
   "id": "277d0ae2-d6a0-479d-8eab-1262bc889a43",
   "metadata": {
    "id": "uuIYxMwzsU-K"
   },
   "outputs": [],
   "source": [
    "df_cnc = pd.concat([df_cncoc,df_cncoec,df_cncpi],axis=0)\n",
    "df_cnc = df_cnc.apply(lambda x: x.astype(str).str.lower())"
   ]
  },
  {
   "cell_type": "code",
   "execution_count": 26,
   "id": "06cec7b3-5f86-4790-be22-047ae2dab530",
   "metadata": {
    "id": "l40F17Vebn7g"
   },
   "outputs": [],
   "source": [
    "df_cnc = df_cnc.drop_duplicates()"
   ]
  },
  {
   "cell_type": "code",
   "execution_count": 29,
   "id": "ce7a0eaa-ae21-44ba-b4ad-a3a57bc019bf",
   "metadata": {
    "id": "pOdTOSsqYaOO"
   },
   "outputs": [],
   "source": [
    "#df_cnc.tail()\n",
    "#df_cnc.info()"
   ]
  },
  {
   "cell_type": "markdown",
   "id": "1421c093-ad55-4e5d-942a-cbfee8feedd4",
   "metadata": {
    "id": "ng_3L5p_s_Dm"
   },
   "source": [
    "### Guardar datos CNC"
   ]
  },
  {
   "cell_type": "code",
   "execution_count": 30,
   "id": "698706c9-d0b5-4528-88cd-8ca455721600",
   "metadata": {
    "id": "tYfGT-KVsrjS"
   },
   "outputs": [],
   "source": [
    "df_cnc.to_csv(os.path.join(path_db,'cnc.csv'),index=False)"
   ]
  },
  {
   "cell_type": "markdown",
   "id": "ab8b000e-112a-41e1-b4d8-cd9b062899ed",
   "metadata": {
    "id": "53weQp7UtFOc"
   },
   "source": [
    "## Operadores de Capacitación - OC\n",
    "\n",
    "• [Operadores de Capacitación](http://portal.trabajo.gob.ec/setec-portal-web/pages/operadoresCapacitacion.jsf#j_idt24:j_idt25) - OC\n",
    "\n",
    "• [OC - Suspendidos](http://portal.trabajo.gob.ec/setec-portal-web/pages/operadoresCapacitacion.jsf#j_idt24:j_idt125) - OCS\n",
    "\n",
    "• [OC - Finalizaron su vigencia de Calificación](http://portal.trabajo.gob.ec/setec-portal-web/pages/operadoresCapacitacion.jsf#j_idt24:j_idt134) - OCF\n",
    "\n",
    "• [OC - Cancelados](http://portal.trabajo.gob.ec/setec-portal-web/pages/operadoresCapacitacion.jsf#j_idt24:j_idt144) - OCC\n"
   ]
  },
  {
   "cell_type": "markdown",
   "id": "15b6de4d-90d0-46f8-8afe-134acd24553c",
   "metadata": {
    "id": "DQmP98C4tk_D"
   },
   "source": [
    "### ETL OC"
   ]
  },
  {
   "cell_type": "code",
   "execution_count": 48,
   "id": "cbf251e5-3820-44fc-9273-8b849c832d4e",
   "metadata": {
    "id": "K5R5LaWYts8B"
   },
   "outputs": [],
   "source": [
    "df_oc = pd.read_csv(os.path.join(path_sd,'oc0.csv'))\n",
    "df_oc['ruc_o_codigo'] = df_oc['ruc_o_codigo'].astype('object')\n",
    "df_oc[\"nombre_comercial\"].fillna(\"sin_nombre_comercial\", inplace = True) \n",
    "df_oc.insert(9, 'estado', df_oc.pop('estado'))"
   ]
  },
  {
   "cell_type": "code",
   "execution_count": 49,
   "id": "2af6d9ae-e255-4a2a-9b52-51692320257c",
   "metadata": {},
   "outputs": [],
   "source": [
    "df_oc['ruc_o_codigo'] = df_oc['ruc_o_codigo'].apply(lambda x: '0'+x if len(x)==12 else x)"
   ]
  },
  {
   "cell_type": "code",
   "execution_count": 50,
   "id": "322eb48d-0afe-4a9c-b481-91e219aff04c",
   "metadata": {
    "id": "KV3ByWmEENMm"
   },
   "outputs": [],
   "source": [
    "#df_oc.head()\n",
    "#df_oc.info()"
   ]
  },
  {
   "cell_type": "markdown",
   "id": "b42713e4-4b85-4f76-94ac-5c2d7f9a16ea",
   "metadata": {
    "id": "CAVyFsTay8ZT"
   },
   "source": [
    "### ETL OCS"
   ]
  },
  {
   "cell_type": "code",
   "execution_count": 51,
   "id": "a0b0b1ac-ec88-4340-b534-4d4ea55a3ab9",
   "metadata": {
    "id": "D3QTbHK1uMfy"
   },
   "outputs": [],
   "source": [
    "df_ocs = pd.read_csv(os.path.join(path_sd,'ocs.csv'))\n",
    "df_ocs['ruc_o_codigo'] = df_ocs['ruc_o_codigo'].astype('object')\n",
    "df_ocs.insert(2, 'nombre_comercial', 'Sin Nombre Comercial')\n",
    "df_ocs.insert(3, 'telefono', 'Sin Teléfono')\n",
    "df_ocs.insert(4, 'celular', 'Sin Celular')\n",
    "df_ocs.insert(5, 'correo_electronico', 'Sin Email')\n",
    "df_ocs.insert(6, 'numero_resolucion', 'Sin Número Resolución')\n",
    "df_ocs.insert(7, 'fecha_resolucion', 'Sin Fecha Resolución')\n",
    "df_ocs.insert(8, 'canton', 'Sin Cantón')"
   ]
  },
  {
   "cell_type": "code",
   "execution_count": 52,
   "id": "31514e3b-e042-4a3d-a524-ca6d6de3652e",
   "metadata": {
    "id": "416tELntERqU"
   },
   "outputs": [],
   "source": [
    "#df_ocs.head()\n",
    "#df_ocs.info()"
   ]
  },
  {
   "cell_type": "markdown",
   "id": "fe63c7f6-f3cb-4b0c-85d5-029f8ee81c8a",
   "metadata": {
    "id": "tav2VpmDWN3s"
   },
   "source": [
    "### ETL OCC"
   ]
  },
  {
   "cell_type": "code",
   "execution_count": 53,
   "id": "b96f9319-c050-4483-b4f8-5b8d3df4da7f",
   "metadata": {
    "id": "g4xdN_z5ZS1s"
   },
   "outputs": [],
   "source": [
    "df_occ = pd.read_csv(os.path.join(path_sd,'occ.csv'))\n",
    "df_occ['ruc_o_codigo'] = df_occ['ruc_o_codigo'].astype('str')\n",
    "df_occ.insert(2, 'nombre_comercial', 'Sin Nombre Comercial')\n",
    "df_occ.insert(3, 'telefono', 'Sin Teléfono')\n",
    "df_occ.insert(4, 'celular', 'Sin Celular')\n",
    "df_occ.insert(5, 'correo_electronico', 'Sin Email')\n",
    "df_occ.insert(6, 'numero_resolucion', 'Sin Número Resolución')\n",
    "df_occ.insert(7, 'fecha_resolucion', 'Sin Fecha Resolución')\n",
    "df_occ.insert(8, 'canton', 'Sin Cantón')"
   ]
  },
  {
   "cell_type": "code",
   "execution_count": 54,
   "id": "d5fb1749-762e-4e86-97d6-59b65c32cc9e",
   "metadata": {},
   "outputs": [],
   "source": [
    "df_occ['ruc_o_codigo'] = df_occ['ruc_o_codigo'].apply(lambda x: '0'+x if len(x)==12 else x)"
   ]
  },
  {
   "cell_type": "code",
   "execution_count": 55,
   "id": "fa749112-3adf-4c85-8f71-23d339353ce6",
   "metadata": {
    "id": "NodvwnDmEe3H"
   },
   "outputs": [],
   "source": [
    "#df_occ.head()\n",
    "#df_occ.info()"
   ]
  },
  {
   "cell_type": "markdown",
   "id": "be2e84e9-d508-47ad-89c1-886914e6cac9",
   "metadata": {
    "id": "Siwhx6b2ZQLH"
   },
   "source": [
    "### ETL OCF"
   ]
  },
  {
   "cell_type": "code",
   "execution_count": 56,
   "id": "3c37b9e8-5847-4302-8b1b-b87b8b818c4a",
   "metadata": {
    "id": "EKcfmeeHuIHs"
   },
   "outputs": [],
   "source": [
    "df_ocf = pd.read_csv(os.path.join(path_sd,'ocf0.csv'))\n",
    "df_ocf['ruc_o_codigo'] = df_ocf['ruc_o_codigo'].astype('str')\n",
    "df_ocf.insert(2, 'nombre_comercial', 'Sin Nombre Comercial')\n",
    "df_ocf.insert(3, 'telefono', 'Sin Teléfono')\n",
    "df_ocf.insert(4, 'celular', 'Sin Celular')\n",
    "df_ocf.insert(5, 'correo_electronico', 'Sin Correo Electronico')\n",
    "df_ocf.insert(6, 'numero_resolucion', 'Sin Número Resolución')\n",
    "df_ocf.insert(7, 'fecha_resolucion', 'Sin Fecha Resolución')\n",
    "df_ocf.insert(8, 'canton', 'Sin Cantón')"
   ]
  },
  {
   "cell_type": "code",
   "execution_count": 57,
   "id": "3076c3d2-49d3-46c3-b86b-1451b63e9e48",
   "metadata": {
    "colab": {
     "base_uri": "https://localhost:8080/"
    },
    "executionInfo": {
     "elapsed": 209,
     "status": "ok",
     "timestamp": 1670123314644,
     "user": {
      "displayName": "Sergio Jimenez",
      "userId": "03709241177248490041"
     },
     "user_tz": 300
    },
    "id": "UocjqTHIGG1U",
    "outputId": "2eb02001-7265-492b-e48d-dce7ec9539ae"
   },
   "outputs": [],
   "source": [
    "df_ocf['ruc_o_codigo'] = df_ocf['ruc_o_codigo'].apply(lambda x: '0'+x if len(x)==12 else x)"
   ]
  },
  {
   "cell_type": "code",
   "execution_count": 58,
   "id": "30d27c2e-cd20-4c29-aec2-a3fc0ac9d337",
   "metadata": {},
   "outputs": [],
   "source": [
    "#df_ocf.head()\n",
    "#df_ocf.info()"
   ]
  },
  {
   "cell_type": "markdown",
   "id": "a5c917ee-3deb-4c12-92a1-77713581cfee",
   "metadata": {
    "id": "Vh8ENpmAWy0A"
   },
   "source": [
    "### DATOS LIMPIOS OC"
   ]
  },
  {
   "cell_type": "code",
   "execution_count": 46,
   "id": "ec48c7f4-f123-4a15-b751-dec8d2cd6470",
   "metadata": {
    "id": "GVlTr6c-W6gL"
   },
   "outputs": [
    {
     "ename": "NameError",
     "evalue": "name 'df_oc' is not defined",
     "output_type": "error",
     "traceback": [
      "\u001b[1;31m---------------------------------------------------------------------------\u001b[0m",
      "\u001b[1;31mNameError\u001b[0m                                 Traceback (most recent call last)",
      "Input \u001b[1;32mIn [46]\u001b[0m, in \u001b[0;36m<cell line: 1>\u001b[1;34m()\u001b[0m\n\u001b[1;32m----> 1\u001b[0m df_OC \u001b[38;5;241m=\u001b[39m pd\u001b[38;5;241m.\u001b[39mconcat([\u001b[43mdf_oc\u001b[49m,df_ocs,df_ocf,df_occ],axis\u001b[38;5;241m=\u001b[39m\u001b[38;5;241m0\u001b[39m)\n\u001b[0;32m      2\u001b[0m df_OC \u001b[38;5;241m=\u001b[39m df_OC\u001b[38;5;241m.\u001b[39mapply(\u001b[38;5;28;01mlambda\u001b[39;00m x: x\u001b[38;5;241m.\u001b[39mastype(\u001b[38;5;28mstr\u001b[39m)\u001b[38;5;241m.\u001b[39mstr\u001b[38;5;241m.\u001b[39mlower())\n\u001b[0;32m      3\u001b[0m df_OC \u001b[38;5;241m=\u001b[39m df_OC\u001b[38;5;241m.\u001b[39mdrop_duplicates()\n",
      "\u001b[1;31mNameError\u001b[0m: name 'df_oc' is not defined"
     ]
    }
   ],
   "source": [
    "df_OC = pd.concat([df_oc,df_ocs,df_ocf,df_occ],axis=0)\n",
    "df_OC = df_OC.apply(lambda x: x.astype(str).str.lower())\n",
    "df_OC = df_OC.drop_duplicates()\n",
    "df_OC = df_OC.drop_duplicates(subset='razon_social',keep='first')"
   ]
  },
  {
   "cell_type": "code",
   "execution_count": 229,
   "id": "518e142b-1898-4a23-b336-84f86f91a207",
   "metadata": {
    "colab": {
     "base_uri": "https://localhost:8080/"
    },
    "executionInfo": {
     "elapsed": 232,
     "status": "ok",
     "timestamp": 1670126718929,
     "user": {
      "displayName": "Sergio Jimenez",
      "userId": "03709241177248490041"
     },
     "user_tz": 300
    },
    "id": "h7CycEl-HfcW",
    "outputId": "a7dd9b46-5506-45d3-c3b9-428986768d66"
   },
   "outputs": [],
   "source": [
    "#df_OC.head()\n",
    "#df_OC.info()"
   ]
  },
  {
   "cell_type": "markdown",
   "id": "d2e63eee-ebd3-4530-a658-af1ccb450990",
   "metadata": {
    "id": "3irbh91bGSDR"
   },
   "source": [
    "### Guardar datos OC"
   ]
  },
  {
   "cell_type": "code",
   "execution_count": 230,
   "id": "7c92848b-069b-4eb8-981f-c5cb822a94f3",
   "metadata": {
    "id": "vkC_P2l4XNMf"
   },
   "outputs": [],
   "source": [
    "df_OC.to_csv(os.path.join(path_etl,'oc.csv'),index=False)"
   ]
  },
  {
   "cell_type": "markdown",
   "id": "884ae9a6-a7c9-4f0a-a049-dab4c75d56bd",
   "metadata": {
    "id": "kgtmYINPatOh"
   },
   "source": [
    "### ETL OC_CC"
   ]
  },
  {
   "cell_type": "code",
   "execution_count": 140,
   "id": "5b760e51-220b-464d-af16-7b3ac32b345f",
   "metadata": {
    "id": "A23oAFWza00e"
   },
   "outputs": [],
   "source": [
    "df_oc_cc = pd.read_csv(os.path.join(path,'oc_cc0.csv'))\n",
    "df_oc_cc = df_oc_cc.dropna(subset=['area','especialidad','curso','modalidad','carga_horaria'])\n",
    "df_oc_cc['modalidad'] = df_oc_cc['modalidad'].replace(['VIRTUAL'], 'ONLINE')\n",
    "df_oc_cc = df_oc_cc.apply(lambda x: x.astype(str).str.lower())\n",
    "df_oc_cc['carga_horaria'] = df_oc_cc['carga_horaria'].astype('int64')\n",
    "df_oc_cc = df_oc_cc.drop_duplicates()"
   ]
  },
  {
   "cell_type": "code",
   "execution_count": 143,
   "id": "ba6ed10f-1bfe-4510-9b4c-9708593536fb",
   "metadata": {
    "id": "rThWKmLAIw_y"
   },
   "outputs": [],
   "source": [
    "#df_oc_cc.head()\n",
    "#df_oc_cc.info()"
   ]
  },
  {
   "cell_type": "markdown",
   "id": "244741ce-ed26-40a0-b92d-a77870549964",
   "metadata": {
    "id": "OKSknk8TGbgg"
   },
   "source": [
    "### Guardar datos OC_CC"
   ]
  },
  {
   "cell_type": "code",
   "execution_count": 262,
   "id": "57483df8-1bd8-403c-ae8c-b027cd729d1f",
   "metadata": {
    "id": "BnqJehR6bRXN"
   },
   "outputs": [],
   "source": [
    "df_oc_cc.to_csv(os.path.join(path_etl,'oc_cc.csv'),index=False)"
   ]
  },
  {
   "cell_type": "markdown",
   "id": "31287a82-1875-4796-8bd8-ca0365efd795",
   "metadata": {
    "id": "T9WommIObvg8"
   },
   "source": [
    "### ETL OC_CL"
   ]
  },
  {
   "cell_type": "code",
   "execution_count": 24,
   "id": "44283586-2155-4981-a2a0-436ce4959cd7",
   "metadata": {
    "colab": {
     "base_uri": "https://localhost:8080/"
    },
    "executionInfo": {
     "elapsed": 218,
     "status": "ok",
     "timestamp": 1666275347629,
     "user": {
      "displayName": "Sergio Jimenez",
      "userId": "03709241177248490041"
     },
     "user_tz": 300
    },
    "id": "Uod-4gw-bzYO",
    "outputId": "fbf6e56e-aca2-42e7-c57f-5bae774980ae"
   },
   "outputs": [],
   "source": [
    "df_oc_cl = pd.read_csv(os.path.join(path,'oc_cl0.csv'))\n",
    "df_oc_cl = df_oc_cl.apply(lambda x: x.astype(str).str.lower())\n",
    "df_oc_cl = df_oc_cl.drop_duplicates()"
   ]
  },
  {
   "cell_type": "code",
   "execution_count": 27,
   "id": "07d2149a-412b-4ef5-aab1-38b15fb2ede7",
   "metadata": {},
   "outputs": [],
   "source": [
    "#df_oc_cl.head()\n",
    "#df_oc_cl.info()"
   ]
  },
  {
   "cell_type": "markdown",
   "id": "50eb2318-cb79-4416-8df2-9d04e6c0fe7e",
   "metadata": {
    "id": "Jx6uRYeuGg05"
   },
   "source": [
    "### Guardar datos OC_CL"
   ]
  },
  {
   "cell_type": "code",
   "execution_count": 29,
   "id": "a6772132-44a1-468e-b2b1-0607e92acaf3",
   "metadata": {
    "id": "G-HoQ81kb8tv"
   },
   "outputs": [],
   "source": [
    "df_oc_cl.to_csv(os.path.join(path_etl,'oc_cl.csv'),index=False)"
   ]
  },
  {
   "cell_type": "markdown",
   "id": "1c9c481d-a8bc-4556-a1a7-0b0970ef0c14",
   "metadata": {
    "id": "1nA3GQd7cM-V"
   },
   "source": [
    "## Personas Capacitadas por OC - PCOC\n",
    "\n",
    "• [Búsqueda Personas Capacitadas](http://portal.trabajo.gob.ec/setec-portal-web/pages/personasCapacitadasOperadores.jsf#j_idt24:j_idt25) - PCOC"
   ]
  },
  {
   "cell_type": "code",
   "execution_count": 6,
   "id": "f6a9863b-e1d2-4b08-b8b4-d5c19aac7245",
   "metadata": {
    "colab": {
     "base_uri": "https://localhost:8080/"
    },
    "executionInfo": {
     "elapsed": 1890,
     "status": "ok",
     "timestamp": 1666275698164,
     "user": {
      "displayName": "Sergio Jimenez",
      "userId": "03709241177248490041"
     },
     "user_tz": 300
    },
    "id": "e_F_8QMWcSMa",
    "outputId": "dfb5c3ca-79b0-40a7-fb8f-c5f0ae143a3f"
   },
   "outputs": [],
   "source": [
    "df_pcoc = pd.read_csv(os.path.join(path,'pcoc.csv'))\n",
    "df_pcoc[\"numero_documento\"].fillna(\"Sin Número Documento\", inplace = True)\n",
    "df_pcoc[\"apellidos_nombres\"].fillna(\"Sin Apellidos y Nombres\", inplace = True)\n",
    "df_pcoc[\"numero_horas\"].fillna(0, inplace = True)\n",
    "df_pcoc[\"numero_horas\"]=df_pcoc[\"numero_horas\"].astype('int64')\n",
    "df_pcoc[\"razon_social_oc\"].fillna(\"Sin Razón Social OC\", inplace = True)\n",
    "df_pcoc[\"nombre_comercial_oc\"].fillna(\"Sin Nombre Comercial OC\", inplace = True)\n",
    "df_pcoc = df_pcoc.apply(lambda x: x.astype(str).str.lower())\n",
    "df_pcoc[\"numero_horas\"]=df_pcoc[\"numero_horas\"].astype('int64')\n",
    "df_pcoc = df_pcoc.drop_duplicates()    "
   ]
  },
  {
   "cell_type": "code",
   "execution_count": 244,
   "id": "deaea957-57aa-4995-b83c-9b71b935b2af",
   "metadata": {
    "id": "jFXt0ZrhKn_-"
   },
   "outputs": [],
   "source": [
    "#df_pcoc.head()\n",
    "#df_pcoc.info()"
   ]
  },
  {
   "cell_type": "code",
   "execution_count": 260,
   "id": "fbed951e-f049-4406-bdeb-e7d21c047122",
   "metadata": {
    "id": "nQUOOaWUdhnY"
   },
   "outputs": [],
   "source": [
    "df_pcoc.to_csv(os.path.join(path_etl,'pcoc.csv'),index=False)"
   ]
  },
  {
   "cell_type": "markdown",
   "id": "750c7ef3-1cb4-4856-ac9e-60d9718b2195",
   "metadata": {
    "id": "NW-bweRJYDks"
   },
   "source": [
    "### Datos Número Documento y Apellidos/Nombre"
   ]
  },
  {
   "cell_type": "code",
   "execution_count": null,
   "id": "789d4eae-1832-48a4-b263-5b8c8a0be273",
   "metadata": {
    "colab": {
     "base_uri": "https://localhost:8080/"
    },
    "executionInfo": {
     "elapsed": 1498,
     "status": "ok",
     "timestamp": 1666275938392,
     "user": {
      "displayName": "Sergio Jimenez",
      "userId": "03709241177248490041"
     },
     "user_tz": 300
    },
    "id": "e8Z5LmX5YZoI",
    "outputId": "782d0e52-9aa4-4f13-b00f-95676fab9502"
   },
   "outputs": [
    {
     "name": "stdout",
     "output_type": "stream",
     "text": [
      "<class 'pandas.core.frame.DataFrame'>\n",
      "Int64Index: 181304 entries, 0 to 251987\n",
      "Data columns (total 2 columns):\n",
      " #   Column             Non-Null Count   Dtype \n",
      "---  ------             --------------   ----- \n",
      " 0   Numero_Documento   181304 non-null  object\n",
      " 1   Apellidos_Nombres  181304 non-null  object\n",
      "dtypes: object(2)\n",
      "memory usage: 4.1+ MB\n"
     ]
    }
   ],
   "source": [
    "df_d_n_pcoc = pd.read_csv(os.path.join(path,'pcoc.csv'))\n",
    "df_d_n_pcoc = df_d_n_pcoc[['Numero_Documento','Apellidos_Nombres']]\n",
    "df_d_n_pcoc['size_doc'] = df_d_n_pcoc['Numero_Documento'].apply(lambda doc: len(doc))\n",
    "df_d_n_pcoc = df_d_n_pcoc[df_d_n_pcoc['size_doc']==10]\n",
    "df_d_n_pcoc = df_d_n_pcoc.drop_duplicates(['Numero_Documento'], keep='last')\n",
    "df_d_n_pcoc.pop('size_doc')\n",
    "df_d_n_pcoc.info()"
   ]
  },
  {
   "cell_type": "code",
   "execution_count": null,
   "id": "c6ab3379-a0d0-431f-bd41-e49f3a03f1d3",
   "metadata": {
    "id": "3xDvNyAQx1Be"
   },
   "outputs": [],
   "source": [
    "df_d_n_pcoc.to_csv(path_etl+'doc_name_pcoc.csv',index=False)"
   ]
  },
  {
   "cell_type": "markdown",
   "id": "895c30c4-a7b7-4efd-b34d-12350dc9e193",
   "metadata": {
    "id": "2Fp1wCiTY-qs"
   },
   "source": [
    "## Organismos Evaluadores de  la Conformidad - OEC\n",
    "\n",
    "• [Organismos Evaluadores de la Conformidad](http://portal.trabajo.gob.ec/setec-portal-web/pages/evaluadoresConformidad.jsf#j_idt24:j_idt25) - OEC\n",
    "\n",
    "• [OEC - Suspendidos](http://portal.trabajo.gob.ec/setec-portal-web/pages/evaluadoresConformidad.jsf#j_idt24:j_idt103) - OECS\n",
    "\n",
    "• [OEC - Finalizaron su vigencia de Reconocimiento](http://portal.trabajo.gob.ec/setec-portal-web/pages/evaluadoresConformidad.jsf#j_idt24:j_idt112) - OECF\n",
    "\n",
    "• [OEC - Cancelados](http://portal.trabajo.gob.ec/setec-portal-web/pages/evaluadoresConformidad.jsf#j_idt24:j_idt122) - OECC"
   ]
  },
  {
   "cell_type": "markdown",
   "id": "3df27f75-be97-41a1-a765-926f1dc88489",
   "metadata": {
    "id": "Cz_o_WfmaCtZ"
   },
   "source": [
    "### ETL OEC"
   ]
  },
  {
   "cell_type": "code",
   "execution_count": 191,
   "id": "74d90b72-d104-4efd-9b45-a454ba5ba87d",
   "metadata": {
    "colab": {
     "base_uri": "https://localhost:8080/"
    },
    "executionInfo": {
     "elapsed": 1399,
     "status": "ok",
     "timestamp": 1667837706414,
     "user": {
      "displayName": "Sergio Jimenez",
      "userId": "03709241177248490041"
     },
     "user_tz": 300
    },
    "id": "Q3Ii7zBwY7GY",
    "outputId": "ec853b3f-11ce-46b8-ae4e-98f369ea6149"
   },
   "outputs": [],
   "source": [
    "df_oec = pd.read_csv(os.path.join(path,'oec0.csv'))\n",
    "df_oec['celular'] = df_oec['celular'].astype('object')\n",
    "df_oec = df_oec.apply(lambda x: x.astype(str).str.lower())\n",
    "df_oec['ruc_o_codigo'] = df_oec['ruc_o_codigo'].apply(lambda x: '0'+x if len(x)==12 else x)\n",
    "df_oec['celular'] = df_oec['celular'].apply(lambda x: '0'+x if len(x)==9 else x)\n",
    "df_oec = df_oec.drop_duplicates()"
   ]
  },
  {
   "cell_type": "code",
   "execution_count": 228,
   "id": "63b4924a-73a2-4495-ac81-7cc634dfe449",
   "metadata": {},
   "outputs": [],
   "source": [
    "#df_oec.head()\n",
    "#df_oec.info()"
   ]
  },
  {
   "cell_type": "markdown",
   "id": "0bfc66e2-9ae8-4117-9c4a-6f92cadc49a4",
   "metadata": {
    "id": "JeWQ5Q8qeeIt"
   },
   "source": [
    "### ETL OECS"
   ]
  },
  {
   "cell_type": "code",
   "execution_count": 205,
   "id": "fb2d6a1b-6c8f-4d2e-a832-c786b291f889",
   "metadata": {
    "colab": {
     "base_uri": "https://localhost:8080/"
    },
    "executionInfo": {
     "elapsed": 715,
     "status": "ok",
     "timestamp": 1667837728936,
     "user": {
      "displayName": "Sergio Jimenez",
      "userId": "03709241177248490041"
     },
     "user_tz": 300
    },
    "id": "0oRtTLDoeh8f",
    "outputId": "57d75c4e-b2a3-4778-dfde-ee3b2f9714db"
   },
   "outputs": [],
   "source": [
    "df_oecs = pd.read_csv(os.path.join(path,'oecs.csv'))\n",
    "df_oecs.insert(2, 'direccion', 'Sin Dirección')\n",
    "df_oecs.insert(3, 'telefono', 'Sin Teléfono')\n",
    "df_oecs.insert(4, 'celular', 'Sin Celular')\n",
    "df_oecs.insert(5, 'correo_electronico', 'Sin Email')\n",
    "df_oecs.insert(6, 'numero_resolucion', 'Sin Número Resolución')\n",
    "df_oecs.insert(7, 'fecha_resolucion', 'Sin Fecha Resolución')\n",
    "df_oecs.insert(8, 'canton', 'Sin Cantón')\n",
    "df_oecs = df_oecs.apply(lambda x: x.astype(str).str.lower())"
   ]
  },
  {
   "cell_type": "code",
   "execution_count": 206,
   "id": "d143f273-7a32-4c4c-aaa8-cee1c5561d91",
   "metadata": {},
   "outputs": [],
   "source": [
    "df_oecs['ruc_o_codigo'] = df_oecs['ruc_o_codigo'].apply(lambda x: '0'+x if len(x)==12 else x)"
   ]
  },
  {
   "cell_type": "code",
   "execution_count": 208,
   "id": "6fb87615-80db-4b12-9654-a227b03d4467",
   "metadata": {},
   "outputs": [],
   "source": [
    "#df_oecs.head()\n",
    "#df_oecs.info()"
   ]
  },
  {
   "cell_type": "markdown",
   "id": "2e3c3ab9-910a-433e-83b7-4e9cd8a90178",
   "metadata": {
    "id": "IkoZwzy4gGkl"
   },
   "source": [
    "### ETL OECF"
   ]
  },
  {
   "cell_type": "code",
   "execution_count": 222,
   "id": "5d9dee9a-44e9-40d7-95e9-0f6c2b58de95",
   "metadata": {
    "colab": {
     "base_uri": "https://localhost:8080/"
    },
    "executionInfo": {
     "elapsed": 671,
     "status": "ok",
     "timestamp": 1667837731617,
     "user": {
      "displayName": "Sergio Jimenez",
      "userId": "03709241177248490041"
     },
     "user_tz": 300
    },
    "id": "KzovkkyKePkn",
    "outputId": "720c6efa-c492-4bdd-c039-28b7923774b5"
   },
   "outputs": [],
   "source": [
    "df_oecf = pd.read_csv(os.path.join(path,'oecf0.csv'))\n",
    "df_oecf.insert(2, 'direccion', 'Sin Dirección')\n",
    "df_oecf.insert(3, 'telefono', 'Sin Teléfono')\n",
    "df_oecf.insert(4, 'celular', 'Sin Celular')\n",
    "df_oecf.insert(5, 'correo_electronico', 'Sin Email')\n",
    "df_oecf.insert(6, 'numero_resolucion', 'Sin Número Resolución')\n",
    "df_oecf.insert(7, 'fecha_resolucion', 'Sin Fecha Resolución')\n",
    "df_oecf.insert(8, 'canton', 'Sin Cantón')\n",
    "df_oecf = df_oecf.apply(lambda x: x.astype(str).str.lower())\n",
    "df_oecs['ruc_o_codigo'] = df_oecs['ruc_o_codigo'].apply(lambda x: '0'+x if len(x)==12 else x)"
   ]
  },
  {
   "cell_type": "code",
   "execution_count": 212,
   "id": "5530c221-1704-43b5-af17-be9530d6db36",
   "metadata": {},
   "outputs": [],
   "source": [
    "#df_oecf.head()\n",
    "#df_oecf.info()"
   ]
  },
  {
   "cell_type": "markdown",
   "id": "88eff452-e13f-42ef-9ee9-8d10d1f776c2",
   "metadata": {
    "id": "ULvq4WPZgIH9"
   },
   "source": [
    "### ETL OECC"
   ]
  },
  {
   "cell_type": "code",
   "execution_count": 213,
   "id": "d138babd-bfb3-40a1-a842-a5dbbcca30ba",
   "metadata": {
    "colab": {
     "base_uri": "https://localhost:8080/"
    },
    "executionInfo": {
     "elapsed": 966,
     "status": "ok",
     "timestamp": 1667837733910,
     "user": {
      "displayName": "Sergio Jimenez",
      "userId": "03709241177248490041"
     },
     "user_tz": 300
    },
    "id": "RBhiU6xxf7wM",
    "outputId": "879b92f4-9282-4203-e448-dc7247b9bad9"
   },
   "outputs": [],
   "source": [
    "df_oecc = pd.read_csv(os.path.join(path,'oecc.csv'))\n",
    "df_oecc.insert(2, 'direccion', 'Sin Dirección')\n",
    "df_oecc.insert(3, 'telefono', 'Sin Teléfono')\n",
    "df_oecc.insert(4, 'celular', 'Sin Celular')\n",
    "df_oecc.insert(5, 'correo_electronico', 'Sin Email')\n",
    "df_oecc.insert(6, 'numero_resolucion', 'Sin Número Resolución')\n",
    "df_oecc.insert(7, 'fecha_resolucion', 'Sin Fecha Resolución')\n",
    "df_oecc.insert(8, 'canton', 'Sin Cantón')                               \n",
    "df_oecc = df_oecc.apply(lambda x: x.astype(str).str.lower())\n",
    "df_oecc['ruc_o_codigo'] = df_oecc['ruc_o_codigo'].apply(lambda x: '0'+x if len(x)==12 else x)"
   ]
  },
  {
   "cell_type": "code",
   "execution_count": 215,
   "id": "76fa7e7c-e03d-4bf9-b7a1-800dea1a8675",
   "metadata": {},
   "outputs": [],
   "source": [
    "#df_oecc.head()\n",
    "#df_oecc.info()"
   ]
  },
  {
   "cell_type": "markdown",
   "id": "cded6aeb-790e-4474-bcf5-00e619e9a783",
   "metadata": {
    "id": "XGizLJlRgJS2"
   },
   "source": [
    "### DATOS LIMPIOS OEC"
   ]
  },
  {
   "cell_type": "code",
   "execution_count": 223,
   "id": "e0332b99-51e2-4968-b7bd-9f8abdf9e87e",
   "metadata": {
    "colab": {
     "base_uri": "https://localhost:8080/"
    },
    "executionInfo": {
     "elapsed": 300,
     "status": "ok",
     "timestamp": 1667837736464,
     "user": {
      "displayName": "Sergio Jimenez",
      "userId": "03709241177248490041"
     },
     "user_tz": 300
    },
    "id": "df6k4OujgMP1",
    "outputId": "e43af870-3281-44a4-e783-0a734d1519cf"
   },
   "outputs": [],
   "source": [
    "df_OEC = pd.concat([df_oec,df_oecs,df_oecf,df_oecc],axis=0)\n",
    "df_OEC = df_OEC.drop_duplicates()\n",
    "df_OEC = df_OEC.drop_duplicates(subset='razon_social',keep='first')"
   ]
  },
  {
   "cell_type": "code",
   "execution_count": 225,
   "id": "3d7bd566-0bdf-4413-af08-c1d78858004e",
   "metadata": {},
   "outputs": [],
   "source": [
    "#df_OEC.head()\n",
    "#df_OEC.info()"
   ]
  },
  {
   "cell_type": "markdown",
   "id": "9716cb29-8cf6-43fb-bfae-3e142708a073",
   "metadata": {
    "id": "gzhqr2iQGp5n"
   },
   "source": [
    "### Guardar datos OEC"
   ]
  },
  {
   "cell_type": "code",
   "execution_count": 259,
   "id": "b9f3d6ac-8b69-4020-a810-1245a023e2dc",
   "metadata": {
    "id": "PHNP_3T9gDVW"
   },
   "outputs": [],
   "source": [
    "df_OEC.to_csv(os.path.join(path_etl,'oec.csv'),index=False)"
   ]
  },
  {
   "cell_type": "markdown",
   "id": "f32fa8f6-636b-4c31-b1a4-314aa497000e",
   "metadata": {
    "id": "2iJYmLlphJ6f"
   },
   "source": [
    "### ETL OEC_DR"
   ]
  },
  {
   "cell_type": "code",
   "execution_count": 237,
   "id": "ed54cb96-1fcc-4a68-b81b-6c2ca5c25f6f",
   "metadata": {
    "colab": {
     "base_uri": "https://localhost:8080/"
    },
    "executionInfo": {
     "elapsed": 5,
     "status": "ok",
     "timestamp": 1666276584696,
     "user": {
      "displayName": "Sergio Jimenez",
      "userId": "03709241177248490041"
     },
     "user_tz": 300
    },
    "id": "Z4B7HpU2hHCn",
    "outputId": "3297399a-0b49-4feb-b516-2fae2cac431b"
   },
   "outputs": [],
   "source": [
    "df_oec_dr = pd.read_csv(os.path.join(path,'oec_dr0.csv'))\n",
    "df_oec_dr[\"perfil\"].fillna(\"Sin Perfil\", inplace = True)\n",
    "df_oec_dr[\"esquema_de_certificacion\"].fillna(\"Sin Esquema de Certificación\", inplace = True)\n",
    "df_oec_dr = df_oec_dr.apply(lambda x: x.astype(str).str.lower())\n",
    "df_oec_dr['ruc_o_codigo'] = df_oec_dr['ruc_o_codigo'].apply(lambda x: '0'+x if len(x)==12 else x)\n",
    "df_oec_dr = df_oec_dr.drop_duplicates()"
   ]
  },
  {
   "cell_type": "code",
   "execution_count": 240,
   "id": "f8ef72ea-7d78-458d-9014-c06ea8cc11d0",
   "metadata": {},
   "outputs": [],
   "source": [
    "#df_oec_dr.head()\n",
    "#df_oec_dr.info()"
   ]
  },
  {
   "cell_type": "markdown",
   "id": "86559ccf-3217-4ad6-a60b-df59f3627716",
   "metadata": {
    "id": "yIilWkS6GtWK"
   },
   "source": [
    "### Guardar datos OEC_DR"
   ]
  },
  {
   "cell_type": "code",
   "execution_count": 258,
   "id": "d150ce9b-987c-45b9-aec2-6ca020cf665d",
   "metadata": {
    "id": "IjJ4Cdbtil43"
   },
   "outputs": [],
   "source": [
    "df_oec_dr.to_csv(os.path.join(path_etl,'oec_dr.csv'),index=False)"
   ]
  },
  {
   "cell_type": "markdown",
   "id": "cc6cea67-d817-464a-98ce-4e203b227509",
   "metadata": {
    "id": "LPQ3uyN6miXw"
   },
   "source": [
    "## Personas Certificadas por OEC - PCOEC\n",
    "\n",
    "• [Búsqueda Personas Certificadas](http://portal.trabajo.gob.ec/setec-portal-web/pages/legitimidadCertificacion.jsf#j_idt24:j_idt25) - PCOEC"
   ]
  },
  {
   "cell_type": "code",
   "execution_count": 251,
   "id": "252774ca-e6ca-43f1-b6ca-fed09443e60f",
   "metadata": {
    "colab": {
     "base_uri": "https://localhost:8080/"
    },
    "executionInfo": {
     "elapsed": 2803,
     "status": "ok",
     "timestamp": 1666276796481,
     "user": {
      "displayName": "Sergio Jimenez",
      "userId": "03709241177248490041"
     },
     "user_tz": 300
    },
    "id": "NJ9d2qxFiqwP",
    "outputId": "b959dbe8-00e9-4446-9320-23287cc4d656"
   },
   "outputs": [],
   "source": [
    "df_pcoec = pd.concat([\n",
    "    pd.read_csv(os.path.join(path,'pcoec0.csv')),\n",
    "    pd.read_csv(os.path.join(path,'pcoec1.csv')),\n",
    "    pd.read_csv(os.path.join(path,'pcoec2.csv')),\n",
    "    pd.read_csv(os.path.join(path,'pcoec3.csv')),\n",
    "    ],axis=0)  \n",
    "df_pcoec = df_pcoec.drop(['Ver Certificado'],axis=1)\n",
    "df_pcoec[\"Fecha Vigencia\"].fillna(\"Sin Fecha Vigencia\", inplace = True)\n",
    "df_pcoec[\"Celular\"].fillna(\"Sin Celular\", inplace = True)\n",
    "df_pcoec = df_pcoec.rename(columns={'Número Certificación':'numero_certificacion'})\n",
    "df_pcoec = df_pcoec.rename(columns={'Fecha Certificación':'fecha_certificacion'})\n",
    "df_pcoec = df_pcoec.rename(columns={'Fecha Vigencia':'fecha_vigencia'})\n",
    "df_pcoec = df_pcoec.rename(columns={'Ruc Organismo Evaluador':'ruc_o_codigo'})\n",
    "df_pcoec = df_pcoec.rename(columns={'Organismo Evaluador':'razon_social'})\n",
    "df_pcoec = df_pcoec.rename(columns={'Perfil':'perfil'}) \n",
    "df_pcoec = df_pcoec.rename(columns={'Nombres':'apellidos_nombres'})\n",
    "df_pcoec = df_pcoec.rename(columns={'Celular':'celular'})\n",
    "df_pcoec = df_pcoec.apply(lambda x: x.astype(str).str.lower())\n",
    "df_pcoec['ruc_o_codigo'] = df_pcoec['ruc_o_codigo'].apply(lambda x: '0'+x if len(x)==12 else x)\n",
    "df_pcoec['celular'] = df_pcoec['celular'].apply(lambda x: '0'+x if len(x)==9 else x)\n",
    "df_pcoec = df_pcoec.drop_duplicates()"
   ]
  },
  {
   "cell_type": "code",
   "execution_count": 266,
   "id": "1a75cf71-c5a7-4665-aee7-064f3593d0a8",
   "metadata": {},
   "outputs": [],
   "source": [
    "#df_pcoec.head()\n",
    "#df_pcoec.info()"
   ]
  },
  {
   "cell_type": "markdown",
   "id": "750a4c76-90e9-47a6-9dcd-baf958721411",
   "metadata": {
    "id": "kiB1LVa8GzEw"
   },
   "source": [
    "### Guardar datos PCOEC"
   ]
  },
  {
   "cell_type": "code",
   "execution_count": 264,
   "id": "63a1eb2f-e5f0-4e51-85c0-675a74eaeb5f",
   "metadata": {
    "id": "RaUMbFsVo6CG"
   },
   "outputs": [],
   "source": [
    "df_pcoec.to_csv(os.path.join(path_etl,'pcoec.csv'),index=False)"
   ]
  },
  {
   "cell_type": "markdown",
   "id": "28746b63-78f4-4d36-be59-e42d485320f2",
   "metadata": {
    "id": "6nTZQVaopGGO"
   },
   "source": [
    "## Capacitadores Independientes - CI\n",
    "\n",
    "• [Búsqueda de Capacitadores Independientes](http://portal.trabajo.gob.ec/setec-portal-web/pages/operadoresCapacitacionIndependientes.jsf#j_idt24:j_idt25) - CI"
   ]
  },
  {
   "cell_type": "markdown",
   "id": "8cb5a115-dff2-4d7f-9768-2c023b74fc94",
   "metadata": {
    "id": "aZ8NFoxJpNOF"
   },
   "source": [
    "### ETL CI"
   ]
  },
  {
   "cell_type": "code",
   "execution_count": 7,
   "id": "ac755123-6dd8-425b-acc3-1e334185071f",
   "metadata": {
    "colab": {
     "base_uri": "https://localhost:8080/"
    },
    "executionInfo": {
     "elapsed": 446,
     "status": "ok",
     "timestamp": 1666276996713,
     "user": {
      "displayName": "Sergio Jimenez",
      "userId": "03709241177248490041"
     },
     "user_tz": 300
    },
    "id": "xMXS6RfYpEe4",
    "outputId": "3beac102-f27f-42df-dbf6-69e9690335c0"
   },
   "outputs": [],
   "source": [
    "df_ci = pd.read_csv(os.path.join(path,'ci0.csv'))\n",
    "df_ci = df_ci.apply(lambda x: x.astype(str).str.lower())\n",
    "df_ci['numero_documento'] = df_ci['numero_documento'].apply(lambda x: '0'+x if len(x)==9 else x)\n",
    "df_ci['celular'] = df_ci['celular'].apply(lambda x: '0'+x if len(x)==9 else x)\n",
    "df_ci = df_ci.drop_duplicates()"
   ]
  },
  {
   "cell_type": "code",
   "execution_count": 9,
   "id": "a9b2bef5-576c-442d-8e91-e0fc8b000b51",
   "metadata": {},
   "outputs": [],
   "source": [
    "#df_ci.head()\n",
    "#df_ci.info()"
   ]
  },
  {
   "cell_type": "markdown",
   "id": "7328cbc5-d2d5-4884-ad02-885613ae864a",
   "metadata": {
    "id": "D2WSfmtOG2WY"
   },
   "source": [
    "### Guardar datos CI"
   ]
  },
  {
   "cell_type": "code",
   "execution_count": 11,
   "id": "90f89346-54c0-495e-af65-8f5c3537b4d2",
   "metadata": {
    "id": "2HWludjlprZA"
   },
   "outputs": [],
   "source": [
    "df_ci.to_csv(os.path.join(path_etl,'ci.csv'),index=False)"
   ]
  },
  {
   "cell_type": "markdown",
   "id": "015308f3-2a09-47bb-920d-84601dbdddb6",
   "metadata": {
    "id": "-Mvx60T_0wYz"
   },
   "source": [
    "### ETL CI_LCA"
   ]
  },
  {
   "cell_type": "code",
   "execution_count": 12,
   "id": "e81f4869-8779-45ec-b1fe-6ec2b8a51206",
   "metadata": {
    "colab": {
     "base_uri": "https://localhost:8080/"
    },
    "executionInfo": {
     "elapsed": 411,
     "status": "ok",
     "timestamp": 1666277155339,
     "user": {
      "displayName": "Sergio Jimenez",
      "userId": "03709241177248490041"
     },
     "user_tz": 300
    },
    "id": "mOOQH0Rc0l-D",
    "outputId": "4cbb6ad0-a3f3-4048-8755-8cea883579ca"
   },
   "outputs": [],
   "source": [
    "df_ci_lca =pd.read_csv(os.path.join(path,'ci_lca0.csv'))\n",
    "df_ci_lca[\"carga_horaria\"].fillna(0, inplace = True)\n",
    "df_ci_lca[\"carga_horaria\"]=df_ci_lca[\"carga_horaria\"].astype('int64')\n",
    "df_ci_lca = df_ci_lca.apply(lambda x: x.astype(str).str.lower())\n",
    "df_ci_lca[\"carga_horaria\"]=df_ci_lca[\"carga_horaria\"].astype('int64')\n",
    "df_ci_lca = df_ci_lca.drop_duplicates()"
   ]
  },
  {
   "cell_type": "code",
   "execution_count": 289,
   "id": "4587cb54-933a-4190-9a4d-fabf9988c878",
   "metadata": {},
   "outputs": [],
   "source": [
    "#df_ci_lca.head()\n",
    "#df_ci_lca.info()"
   ]
  },
  {
   "cell_type": "markdown",
   "id": "12d3700b-a326-4789-8168-9e28f132b6c3",
   "metadata": {
    "id": "Skpgv4M1G45p"
   },
   "source": [
    "### Guardar datos CI_LCA"
   ]
  },
  {
   "cell_type": "code",
   "execution_count": 13,
   "id": "8033ce10-5ae4-42a0-ae99-d2b91a24ea72",
   "metadata": {
    "id": "GL-pc3k_4Pj9"
   },
   "outputs": [],
   "source": [
    "df_ci_lca.to_csv(os.path.join(path_etl,'ci_lca.csv'),index=False)"
   ]
  },
  {
   "cell_type": "markdown",
   "id": "5b7d0dcf-312a-40af-b0a9-4740d45fe976",
   "metadata": {
    "id": "2Gi_EegOp9TR"
   },
   "source": [
    "## Personas Capacitadas por CI - PCCI\n",
    "\n",
    "• [Búsqueda de Personas Capacitadas](http://portal.trabajo.gob.ec/setec-portal-web/pages/personasCapacitadas.jsf#j_idt24:j_idt25) - PCCI"
   ]
  },
  {
   "cell_type": "code",
   "execution_count": 14,
   "id": "24c154c2-d5b9-4eda-9518-20f4059f546f",
   "metadata": {
    "colab": {
     "base_uri": "https://localhost:8080/"
    },
    "executionInfo": {
     "elapsed": 1327,
     "status": "ok",
     "timestamp": 1666277295428,
     "user": {
      "displayName": "Sergio Jimenez",
      "userId": "03709241177248490041"
     },
     "user_tz": 300
    },
    "id": "9jIqi9tbp8m4",
    "outputId": "1a338e20-2301-4e77-a642-5a7a33a15991"
   },
   "outputs": [],
   "source": [
    "df_pcci =pd.read_csv(os.path.join(path,'pcci.csv'))\n",
    "df_pcci = df_pcci.apply(lambda x: x.astype(str).str.lower())\n",
    "df_pcci[\"numero_horas\"]=df_pcci[\"numero_horas\"].astype('int64')\n",
    "df_pcci = df_pcci.drop_duplicates()"
   ]
  },
  {
   "cell_type": "code",
   "execution_count": 295,
   "id": "7f15c89a-a6dc-4c34-a818-f38899e0cb60",
   "metadata": {},
   "outputs": [],
   "source": [
    "#df_pcci.head()\n",
    "#df_pcci.info()"
   ]
  },
  {
   "cell_type": "markdown",
   "id": "68f57770-5eb8-4bf4-95b8-55b4e1f73191",
   "metadata": {
    "id": "TIIl9zi4G8Nb"
   },
   "source": [
    "### Guardar datos PCCI"
   ]
  },
  {
   "cell_type": "code",
   "execution_count": 15,
   "id": "c1510adc-d972-406a-a57a-116dda4be61d",
   "metadata": {
    "id": "cdyy5RUOqqFb"
   },
   "outputs": [],
   "source": [
    "df_pcci.to_csv(os.path.join(path_etl,'pcci.csv'),index=False)"
   ]
  },
  {
   "cell_type": "markdown",
   "id": "9763e619-246d-4606-948b-973eb11b3bcb",
   "metadata": {
    "id": "gS5NF5HQjSRG",
    "tags": []
   },
   "source": [
    "### Datos Número Documento y Apellidos/Nombre"
   ]
  },
  {
   "cell_type": "code",
   "execution_count": null,
   "id": "196efdd0-4aaf-4f83-985a-e84467146df2",
   "metadata": {
    "colab": {
     "base_uri": "https://localhost:8080/"
    },
    "executionInfo": {
     "elapsed": 764,
     "status": "ok",
     "timestamp": 1666277363075,
     "user": {
      "displayName": "Sergio Jimenez",
      "userId": "03709241177248490041"
     },
     "user_tz": 300
    },
    "id": "ti-D2vttjQ6P",
    "outputId": "8697ee08-0bf7-40d1-c34a-b0280fa96538",
    "tags": []
   },
   "outputs": [
    {
     "name": "stdout",
     "output_type": "stream",
     "text": [
      "<class 'pandas.core.frame.DataFrame'>\n",
      "Int64Index: 99000 entries, 0 to 140179\n",
      "Data columns (total 2 columns):\n",
      " #   Column             Non-Null Count  Dtype \n",
      "---  ------             --------------  ----- \n",
      " 0   Numero_Documento   99000 non-null  object\n",
      " 1   Apellidos_Nombres  99000 non-null  object\n",
      "dtypes: object(2)\n",
      "memory usage: 2.3+ MB\n"
     ]
    }
   ],
   "source": [
    "df_d_n_pcci = pd.read_csv(path_etl+'pcci.csv')\n",
    "df_d_n_pcci = df_d_n_pcci[['Numero_Documento','Apellidos_Nombres']]\n",
    "df_d_n_pcci['size_doc'] = df_d_n_pcci['Numero_Documento'].apply(lambda doc: len(doc))\n",
    "df_d_n_pcci = df_d_n_pcci[df_d_n_pcci['size_doc']==10]\n",
    "df_d_n_pcci = df_d_n_pcci.drop_duplicates(['Numero_Documento'], keep='last')\n",
    "df_d_n_pcci.pop('size_doc')\n",
    "df_d_n_pcci.info()\n"
   ]
  },
  {
   "cell_type": "code",
   "execution_count": null,
   "id": "5b16ed75-ad6a-40e6-b117-c2f84ed227ae",
   "metadata": {
    "id": "ITE83bfcjmJo",
    "tags": []
   },
   "outputs": [],
   "source": [
    "df_d_n_pcci.to_csv(path_etl+'doc_name_pcci.csv',index=False)"
   ]
  }
 ],
 "metadata": {
  "kernelspec": {
   "display_name": "Python 3 (ipykernel)",
   "language": "python",
   "name": "python3"
  },
  "language_info": {
   "codemirror_mode": {
    "name": "ipython",
    "version": 3
   },
   "file_extension": ".py",
   "mimetype": "text/x-python",
   "name": "python",
   "nbconvert_exporter": "python",
   "pygments_lexer": "ipython3",
   "version": "3.9.12"
  }
 },
 "nbformat": 4,
 "nbformat_minor": 5
}
