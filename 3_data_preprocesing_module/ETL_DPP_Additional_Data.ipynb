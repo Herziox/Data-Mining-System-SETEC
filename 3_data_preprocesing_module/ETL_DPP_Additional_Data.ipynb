{
 "cells": [
  {
   "cell_type": "markdown",
   "id": "f1e2b418-4aca-4a4e-a26c-3b205a1378e1",
   "metadata": {
    "tags": []
   },
   "source": [
    "# Importación de librerías"
   ]
  },
  {
   "cell_type": "code",
   "execution_count": 1,
   "id": "05a3b525-b942-4dec-a98d-7c7756026b06",
   "metadata": {},
   "outputs": [],
   "source": [
    "import pandas as pd\n",
    "import numpy as np\n",
    "import os"
   ]
  },
  {
   "cell_type": "markdown",
   "id": "c5a282d1-30b9-4596-a8ea-ba256015a385",
   "metadata": {
    "tags": []
   },
   "source": [
    "# Funciones"
   ]
  },
  {
   "cell_type": "code",
   "execution_count": 249,
   "id": "ef1663d7-75d3-47b5-a1c0-a91c44c43297",
   "metadata": {},
   "outputs": [],
   "source": [
    "def get_hours(x,y):\n",
    "    val = y.replace(' ','')\n",
    "    if val[-1]=='h':\n",
    "        return float(val[:-1])\n",
    "    elif val.isdigit():\n",
    "        return float(val)\n",
    "    \n",
    "    val = x.replace(' ','')\n",
    "    if val[-1]=='h':\n",
    "        return float(val[:-1])\n",
    "    elif val.isdigit():\n",
    "        return float(val)\n",
    "    else:\n",
    "        return np.nan"
   ]
  },
  {
   "cell_type": "markdown",
   "id": "96d17574-b516-4ab6-abb1-f25980277b29",
   "metadata": {
    "tags": []
   },
   "source": [
    "# Ruta de archivos"
   ]
  },
  {
   "cell_type": "code",
   "execution_count": 13,
   "id": "43150a18-fd90-4fc6-8204-44394abea52b",
   "metadata": {},
   "outputs": [],
   "source": [
    "path = os.path.abspath(os.path.join(os.getcwd(), '..','2_data_understanding_module','collecting_initial_data','existing_data','DIRTY_DATA'))\n",
    "path_additional_data = os.path.abspath(os.path.join(os.getcwd(), '..','2_data_understanding_module','collecting_initial_data','additional_data'))\n",
    "path_etl = os.path.abspath(os.path.join(os.getcwd(),'CLEANED_DATA'))\n",
    "path_dwh = os.path.abspath(os.path.join(os.getcwd(),'DATAWAREHOUSE'))"
   ]
  },
  {
   "cell_type": "markdown",
   "id": "3c935830-6c7a-4f46-8c9b-bebb7a9cc987",
   "metadata": {
    "tags": []
   },
   "source": [
    "# Costos de cursos"
   ]
  },
  {
   "cell_type": "markdown",
   "id": "e2b57d3c-3f21-4280-940e-bf8406e6bf6c",
   "metadata": {},
   "source": [
    "# Funciones"
   ]
  },
  {
   "cell_type": "code",
   "execution_count": 40,
   "id": "5605e000-5786-4470-b27b-559e3979f914",
   "metadata": {},
   "outputs": [],
   "source": [
    "def set_name_area(x):\n",
    "    if x in ['administracion','administracion y negocios','negocios y administracion','administración y legislación\\n','empresariales','gestion empresarial','facultad de cienciasadministrativas','faculta de jurisprudencia ,  ciencias']:\n",
    "        return 'administración y legislación'\n",
    "    elif x in ['salud','facultad ciencias ce la salud']:\n",
    "        return 'actividades de salud'\n",
    "    elif x in ['tecnologicos','tecnologia','tecnologia e innovacion','tecnologia e informacion','tics','tecnología de la información y comunicación',' tecnología de la información y comunicación']:\n",
    "        return 'tecnologías de la información y comunicación'\n",
    "    elif x in ['educativos','educacion','facultad de ciencias de la educacion']:\n",
    "        return 'educación y capacitación'\n",
    "    elif x in ['mecanica automotriz']:\n",
    "        return 'mecánica automotriz'\n",
    "    elif x in ['social']:\n",
    "        return 'trabajo social'\n",
    "    elif x in ['financiero','finanzas, comercio y ventas']:\n",
    "        return 'servicios financieros'\n",
    "    elif x in ['facultad  de ciencias agropecuarias']:\n",
    "        return 'industria agropecuaria'\n",
    "    elif x in ['agronomo']:\n",
    "        return 'agronomía'\n",
    "    elif x in ['comunicación']:\n",
    "        return 'comunicación y artes gráficas'\n",
    "    elif x in ['arte']:\n",
    "        return 'artes y artesanía'\n",
    "    else:\n",
    "        return 'area base'\n",
    "    "
   ]
  },
  {
   "cell_type": "code",
   "execution_count": 106,
   "id": "29383106-902c-489b-a6e0-d04ed42e7f21",
   "metadata": {},
   "outputs": [],
   "source": [
    "def set_name_modalidad(x):\n",
    "    if 'online' in x or 'on line' in x:\n",
    "        return 'online'\n",
    "    if 'presencial' in x:\n",
    "        return 'presencial'\n",
    "    if 'virtual' in x or 'en vivo' in x:\n",
    "        return 'virtual'\n",
    "    else:\n",
    "        return x\n",
    "    "
   ]
  },
  {
   "cell_type": "code",
   "execution_count": 78,
   "id": "52efbf93-6be9-42a3-a0d6-f7077a7be1ae",
   "metadata": {},
   "outputs": [],
   "source": [
    "def set_precio(x):\n",
    "    x = x.replace('$','')\n",
    "    x = x.replace(',','')\n",
    "    x = x.replace(' ','')\n",
    "    x = x.replace('-','')\n",
    "    \n",
    "    if 'llamar' in x:\n",
    "        return np.nan\n",
    "    if ''==x:\n",
    "        return np.nan\n",
    "    return float(x)\n",
    "    "
   ]
  },
  {
   "cell_type": "code",
   "execution_count": 283,
   "id": "ac76f764-b964-40ae-9b66-184696c475d8",
   "metadata": {},
   "outputs": [],
   "source": [
    "def fill_precio_na(x,y):   \n",
    "    if pd.isna(x['precio_set']):\n",
    "        if x['modalidad_set'] in y['mean_by_mod'].keys():\n",
    "            x['mean_by_mod'] = y['mean_by_mod'][x['modalidad_set']]\n",
    "            \n",
    "        if x['area_familia'] in y['mean_by_area'].keys():\n",
    "            x['mean_by_area'] =  y['mean_by_area'][x['area_familia']]\n",
    "            \n",
    "        if x['Ciudad'] in y['mean_by_ciudad'].keys():\n",
    "            x['mean_by_ciudad'] =  y['mean_by_ciudad'][x['Ciudad']]\n",
    "            \n",
    "            \n",
    "        if x['modalidad_set']+'|'+x['area_familia'] in y['mean_by_ma'].keys():\n",
    "            x['mean_by_ma'] =  y['mean_by_ma'][x['modalidad_set']+'|'+x['area_familia']]\n",
    "            \n",
    "        if x['area_familia']+'|'+x['Ciudad'] in y['mean_by_ac'].keys():\n",
    "            x['mean_by_ac'] =  y['mean_by_ac'][x['area_familia']+'|'+x['Ciudad']]\n",
    "            \n",
    "        if x['modalidad_set']+'|'+x['Ciudad'] in y['mean_by_mc'].keys():\n",
    "            x['mean_by_mc'] =  y['mean_by_mc'][x['modalidad_set']+'|'+x['Ciudad']]\n",
    "            \n",
    "            \n",
    "        #if x['area_familia']+'|'+x['modalidad_set']+'|'+x['Ciudad'] in y['mean_by_mac'].keys():\n",
    "        #    x['mean_by_mac'] =  y['mean_by_mac'][x['area_familia']+'|'+x['modalidad_set']+'|'+x['Ciudad']]\n",
    "    return x"
   ]
  },
  {
   "cell_type": "code",
   "execution_count": 278,
   "id": "e3875518-4d09-49d9-aafa-a390140c22fa",
   "metadata": {},
   "outputs": [],
   "source": [
    "# Selecting Data\n",
    "df_coec = pd.read_csv(os.path.join(path_additional_data,'costo_oferta_educacion_continua.csv'))\n",
    "df_coec = df_coec[['Ciudad','Areas de Formación', 'Nombre  de los Programas','Modalidad', 'Tiempo de duración','Duración programa',' Precio ']]\n",
    "df_coec = df_coec.rename(columns={' Precio ':'Precio'})\n",
    "for col in df_coec.columns:\n",
    "    df_coec[col] = df_coec[col].astype('str').str.lower()\n",
    "    aux = df_coec[col][0]\n",
    "    for i in range(df_coec.shape[0]):\n",
    "        if pd.isna(df_coec[col][i]) or df_coec[col][i]=='nan' :\n",
    "            df_coec[col][i] = aux\n",
    "        else:\n",
    "            aux = df_coec[col][i]\n",
    "            \n"
   ]
  },
  {
   "cell_type": "code",
   "execution_count": 269,
   "id": "662749f1-3f0b-4efa-9f4b-080115fdf392",
   "metadata": {},
   "outputs": [],
   "source": [
    "mean_by_mod = {}\n",
    "mean_by_area = {}\n",
    "mean_by_ciudad = {}\n",
    "mean_by_ma = {}\n",
    "mean_by_ac = {}\n",
    "mean_by_mc = {}\n",
    "mean_by_mac = {}\n",
    "mean_list = {'mean_by_mod':mean_by_mod,'mean_by_area':mean_by_area,'mean_by_ciudad':mean_by_ciudad,'mean_by_ma':mean_by_ma,'mean_by_ac':mean_by_ac,'mean_by_mc':mean_by_mc}\n",
    "for val in df_coec['modalidad_set'].value_counts().index.array:\n",
    "    mean_by_mod[val]=df_coec[df_coec['modalidad_set']==val]['precio_set'].mean()\n",
    "    for val2 in df_coec['area_familia'].value_counts().index.array:\n",
    "        mean_by_ma[val+'|'+val2]=df_coec[(df_coec['area_familia']==val2)&(df_coec['modalidad_set']==val)]['precio_set'].mean()\n",
    "        for val3 in df_coec['Ciudad'].value_counts().index.array:\n",
    "            mean_by_mac[val+'|'+val2+'|'+val3]=df_coec[(df_coec['area_familia']==val2)&(df_coec['modalidad_set']==val)&(df_coec['Ciudad']==val3)]['precio_set'].mean()\n",
    "        \n",
    "        \n",
    "for val in df_coec['area_familia'].value_counts().index.array:\n",
    "    mean_by_area[val]=df_coec[df_coec['area_familia']==val]['precio_set'].mean()\n",
    "    for val2 in df_coec['Ciudad'].value_counts().index.array:\n",
    "        mean_by_ac[val+'|'+val2]=df_coec[(df_coec['Ciudad']==val2)&(df_coec['area_familia']==val)]['precio_set'].mean()\n",
    "        \n",
    "for val in df_coec['Ciudad'].value_counts().index.array:\n",
    "    mean_by_ciudad[val]=df_coec[df_coec['Ciudad']==val]['precio_set'].mean()\n",
    "    for val2 in df_coec['modalidad_set'].value_counts().index.array:\n",
    "        mean_by_mc[val2+'|'+val]=df_coec[(df_coec['modalidad_set']==val2)&(df_coec['Ciudad']==val)]['precio_set'].mean()"
   ]
  },
  {
   "cell_type": "code",
   "execution_count": 279,
   "id": "1d224a0e-b10e-49dd-bd71-de103d200956",
   "metadata": {},
   "outputs": [],
   "source": [
    "df_coec['area_familia'] = df_coec.apply(lambda x: set_name_area(x['Areas de Formación']), axis=1 )"
   ]
  },
  {
   "cell_type": "code",
   "execution_count": 280,
   "id": "8bb8c612-7913-4476-b5ea-221ee5278ce4",
   "metadata": {},
   "outputs": [],
   "source": [
    "df_coec['modalidad_set'] = df_coec.apply(lambda x: set_name_modalidad(x['Modalidad']), axis=1 )"
   ]
  },
  {
   "cell_type": "code",
   "execution_count": 281,
   "id": "78735798-a6aa-465f-9cf4-9fd45f528a6d",
   "metadata": {},
   "outputs": [],
   "source": [
    "df_coec['precio_set'] = df_coec.apply(lambda x: set_precio(x['Precio']), axis=1 )"
   ]
  },
  {
   "cell_type": "code",
   "execution_count": 284,
   "id": "42a0c602-67f5-4e6f-aac9-8f4176f2376a",
   "metadata": {},
   "outputs": [],
   "source": [
    "df_coec = df_coec.apply(lambda x: fill_precio_na(x,mean_list), axis=1)"
   ]
  },
  {
   "cell_type": "code",
   "execution_count": 285,
   "id": "557dc96f-c712-4b6a-8407-295d6caa62e6",
   "metadata": {},
   "outputs": [],
   "source": [
    "df_coec['carga_horaria'] = df_coec.apply(lambda x: get_hours(x['Tiempo de duración'], x['Duración programa']), axis=1)"
   ]
  },
  {
   "cell_type": "code",
   "execution_count": 297,
   "id": "da96557e-78af-4dba-8ebb-90520ca2a5bb",
   "metadata": {},
   "outputs": [],
   "source": [
    "df_coec['carga_horaria'] = df_coec['carga_horaria'].fillna(df_coec['carga_horaria'].mean())"
   ]
  },
  {
   "cell_type": "code",
   "execution_count": 298,
   "id": "d9d4fa75-43b7-46b5-a88a-9452e344f9e5",
   "metadata": {},
   "outputs": [],
   "source": [
    "df_coec['precio_por_hora'] = df_coec.apply(lambda x: np.round(x['precio_set']/x['carga_horaria'],decimals = 2), axis=1)\n",
    "df_coec['precio_por_hora'] = df_coec['precio_por_hora'].fillna(df_coec['precio_por_hora'].mean())"
   ]
  },
  {
   "cell_type": "code",
   "execution_count": 308,
   "id": "b696b2d7-914a-47ba-a09f-dd3e6f358342",
   "metadata": {},
   "outputs": [],
   "source": [
    "def get_prices_by(x,y):\n",
    "    for mean_by in y.keys():\n",
    "        x['precio_'+mean_by] =  np.round(x[mean_by]/x['carga_horaria'],decimals = 2)\n",
    "    return x"
   ]
  },
  {
   "cell_type": "code",
   "execution_count": 309,
   "id": "dc675b93-0642-4944-adde-cce56fdebe6c",
   "metadata": {},
   "outputs": [],
   "source": [
    "df_coec = df_coec.apply(lambda x: get_prices_by(x,mean_list), axis=1)"
   ]
  },
  {
   "cell_type": "code",
   "execution_count": 325,
   "id": "3a9fd63e-4715-4b8c-b278-820f2fae6f3d",
   "metadata": {},
   "outputs": [],
   "source": [
    "df_coec_final = df_coec[['Ciudad','area_familia','Nombre  de los Programas','modalidad_set','carga_horaria','precio_por_hora','precio_mean_by_mod','precio_mean_by_area','precio_mean_by_ciudad',\t'precio_mean_by_ma','precio_mean_by_ac','precio_mean_by_mc']]"
   ]
  },
  {
   "cell_type": "code",
   "execution_count": 328,
   "id": "930410df-ec8c-422f-8bbf-099585c85765",
   "metadata": {},
   "outputs": [],
   "source": [
    "df_coec_final = df_coec_final.rename(columns={'Ciudad':'ciudad'})\n",
    "df_coec_final = df_coec_final.rename(columns={'Nombre  de los Programas':'cursos'})"
   ]
  },
  {
   "cell_type": "code",
   "execution_count": 329,
   "id": "0c5d3fce-7212-4f33-abe0-64f49290fd28",
   "metadata": {},
   "outputs": [
    {
     "data": {
      "text/html": [
       "<div>\n",
       "<style scoped>\n",
       "    .dataframe tbody tr th:only-of-type {\n",
       "        vertical-align: middle;\n",
       "    }\n",
       "\n",
       "    .dataframe tbody tr th {\n",
       "        vertical-align: top;\n",
       "    }\n",
       "\n",
       "    .dataframe thead th {\n",
       "        text-align: right;\n",
       "    }\n",
       "</style>\n",
       "<table border=\"1\" class=\"dataframe\">\n",
       "  <thead>\n",
       "    <tr style=\"text-align: right;\">\n",
       "      <th></th>\n",
       "      <th>ciudad</th>\n",
       "      <th>area_familia</th>\n",
       "      <th>cursos</th>\n",
       "      <th>modalidad_set</th>\n",
       "      <th>carga_horaria</th>\n",
       "      <th>precio_por_hora</th>\n",
       "      <th>precio_mean_by_mod</th>\n",
       "      <th>precio_mean_by_area</th>\n",
       "      <th>precio_mean_by_ciudad</th>\n",
       "      <th>precio_mean_by_ma</th>\n",
       "      <th>precio_mean_by_ac</th>\n",
       "      <th>precio_mean_by_mc</th>\n",
       "    </tr>\n",
       "  </thead>\n",
       "  <tbody>\n",
       "    <tr>\n",
       "      <th>0</th>\n",
       "      <td>quito</td>\n",
       "      <td>administración y legislación</td>\n",
       "      <td>gerencia de instituciones de salud</td>\n",
       "      <td>online</td>\n",
       "      <td>1736.0</td>\n",
       "      <td>6.875873</td>\n",
       "      <td>0.10</td>\n",
       "      <td>0.21</td>\n",
       "      <td>0.1</td>\n",
       "      <td>0.07</td>\n",
       "      <td>0.06</td>\n",
       "      <td>0.18</td>\n",
       "    </tr>\n",
       "    <tr>\n",
       "      <th>1</th>\n",
       "      <td>quito</td>\n",
       "      <td>educación y capacitación</td>\n",
       "      <td>liderazgo educativo</td>\n",
       "      <td>online</td>\n",
       "      <td>1680.0</td>\n",
       "      <td>6.875873</td>\n",
       "      <td>0.10</td>\n",
       "      <td>0.08</td>\n",
       "      <td>0.1</td>\n",
       "      <td>0.12</td>\n",
       "      <td>0.05</td>\n",
       "      <td>0.18</td>\n",
       "    </tr>\n",
       "    <tr>\n",
       "      <th>2</th>\n",
       "      <td>quito</td>\n",
       "      <td>actividades de salud</td>\n",
       "      <td>seguridad y salud ocupacional</td>\n",
       "      <td>online</td>\n",
       "      <td>1680.0</td>\n",
       "      <td>6.875873</td>\n",
       "      <td>0.10</td>\n",
       "      <td>0.31</td>\n",
       "      <td>0.1</td>\n",
       "      <td>0.04</td>\n",
       "      <td>0.54</td>\n",
       "      <td>0.18</td>\n",
       "    </tr>\n",
       "    <tr>\n",
       "      <th>3</th>\n",
       "      <td>quito</td>\n",
       "      <td>administración y legislación</td>\n",
       "      <td>administracion de empresas</td>\n",
       "      <td>online</td>\n",
       "      <td>168.0</td>\n",
       "      <td>6.875873</td>\n",
       "      <td>1.01</td>\n",
       "      <td>2.15</td>\n",
       "      <td>1.0</td>\n",
       "      <td>0.67</td>\n",
       "      <td>0.67</td>\n",
       "      <td>1.84</td>\n",
       "    </tr>\n",
       "    <tr>\n",
       "      <th>4</th>\n",
       "      <td>quito</td>\n",
       "      <td>administración y legislación</td>\n",
       "      <td>desarrollo de negocios y emprendimiento</td>\n",
       "      <td>online</td>\n",
       "      <td>168.0</td>\n",
       "      <td>6.875873</td>\n",
       "      <td>1.01</td>\n",
       "      <td>2.15</td>\n",
       "      <td>1.0</td>\n",
       "      <td>0.67</td>\n",
       "      <td>0.67</td>\n",
       "      <td>1.84</td>\n",
       "    </tr>\n",
       "    <tr>\n",
       "      <th>5</th>\n",
       "      <td>quito</td>\n",
       "      <td>administración y legislación</td>\n",
       "      <td>direccion estrategica</td>\n",
       "      <td>online</td>\n",
       "      <td>168.0</td>\n",
       "      <td>6.875873</td>\n",
       "      <td>1.01</td>\n",
       "      <td>2.15</td>\n",
       "      <td>1.0</td>\n",
       "      <td>0.67</td>\n",
       "      <td>0.67</td>\n",
       "      <td>1.84</td>\n",
       "    </tr>\n",
       "    <tr>\n",
       "      <th>6</th>\n",
       "      <td>quito</td>\n",
       "      <td>administración y legislación</td>\n",
       "      <td>e-commerce</td>\n",
       "      <td>online</td>\n",
       "      <td>168.0</td>\n",
       "      <td>6.875873</td>\n",
       "      <td>1.01</td>\n",
       "      <td>2.15</td>\n",
       "      <td>1.0</td>\n",
       "      <td>0.67</td>\n",
       "      <td>0.67</td>\n",
       "      <td>1.84</td>\n",
       "    </tr>\n",
       "    <tr>\n",
       "      <th>7</th>\n",
       "      <td>quito</td>\n",
       "      <td>administración y legislación</td>\n",
       "      <td>gestion de negocios con tecnologias digitrales</td>\n",
       "      <td>online</td>\n",
       "      <td>168.0</td>\n",
       "      <td>6.875873</td>\n",
       "      <td>1.01</td>\n",
       "      <td>2.15</td>\n",
       "      <td>1.0</td>\n",
       "      <td>0.67</td>\n",
       "      <td>0.67</td>\n",
       "      <td>1.84</td>\n",
       "    </tr>\n",
       "    <tr>\n",
       "      <th>8</th>\n",
       "      <td>quito</td>\n",
       "      <td>administración y legislación</td>\n",
       "      <td>gestion de riesgos y manejo de crisis en el se...</td>\n",
       "      <td>online</td>\n",
       "      <td>168.0</td>\n",
       "      <td>6.875873</td>\n",
       "      <td>1.01</td>\n",
       "      <td>2.15</td>\n",
       "      <td>1.0</td>\n",
       "      <td>0.67</td>\n",
       "      <td>0.67</td>\n",
       "      <td>1.84</td>\n",
       "    </tr>\n",
       "    <tr>\n",
       "      <th>9</th>\n",
       "      <td>quito</td>\n",
       "      <td>tecnologías de la información y comunicación</td>\n",
       "      <td>big data</td>\n",
       "      <td>online</td>\n",
       "      <td>168.0</td>\n",
       "      <td>6.875873</td>\n",
       "      <td>1.01</td>\n",
       "      <td>1.91</td>\n",
       "      <td>1.0</td>\n",
       "      <td>1.59</td>\n",
       "      <td>1.25</td>\n",
       "      <td>1.84</td>\n",
       "    </tr>\n",
       "  </tbody>\n",
       "</table>\n",
       "</div>"
      ],
      "text/plain": [
       "  ciudad                                  area_familia  \\\n",
       "0  quito                  administración y legislación   \n",
       "1  quito                      educación y capacitación   \n",
       "2  quito                          actividades de salud   \n",
       "3  quito                  administración y legislación   \n",
       "4  quito                  administración y legislación   \n",
       "5  quito                  administración y legislación   \n",
       "6  quito                  administración y legislación   \n",
       "7  quito                  administración y legislación   \n",
       "8  quito                  administración y legislación   \n",
       "9  quito  tecnologías de la información y comunicación   \n",
       "\n",
       "                                              cursos modalidad_set  \\\n",
       "0                 gerencia de instituciones de salud        online   \n",
       "1                                liderazgo educativo        online   \n",
       "2                      seguridad y salud ocupacional        online   \n",
       "3                         administracion de empresas        online   \n",
       "4            desarrollo de negocios y emprendimiento        online   \n",
       "5                              direccion estrategica        online   \n",
       "6                                         e-commerce        online   \n",
       "7     gestion de negocios con tecnologias digitrales        online   \n",
       "8  gestion de riesgos y manejo de crisis en el se...        online   \n",
       "9                                           big data        online   \n",
       "\n",
       "   carga_horaria  precio_por_hora  precio_mean_by_mod  precio_mean_by_area  \\\n",
       "0         1736.0         6.875873                0.10                 0.21   \n",
       "1         1680.0         6.875873                0.10                 0.08   \n",
       "2         1680.0         6.875873                0.10                 0.31   \n",
       "3          168.0         6.875873                1.01                 2.15   \n",
       "4          168.0         6.875873                1.01                 2.15   \n",
       "5          168.0         6.875873                1.01                 2.15   \n",
       "6          168.0         6.875873                1.01                 2.15   \n",
       "7          168.0         6.875873                1.01                 2.15   \n",
       "8          168.0         6.875873                1.01                 2.15   \n",
       "9          168.0         6.875873                1.01                 1.91   \n",
       "\n",
       "   precio_mean_by_ciudad  precio_mean_by_ma  precio_mean_by_ac  \\\n",
       "0                    0.1               0.07               0.06   \n",
       "1                    0.1               0.12               0.05   \n",
       "2                    0.1               0.04               0.54   \n",
       "3                    1.0               0.67               0.67   \n",
       "4                    1.0               0.67               0.67   \n",
       "5                    1.0               0.67               0.67   \n",
       "6                    1.0               0.67               0.67   \n",
       "7                    1.0               0.67               0.67   \n",
       "8                    1.0               0.67               0.67   \n",
       "9                    1.0               1.59               1.25   \n",
       "\n",
       "   precio_mean_by_mc  \n",
       "0               0.18  \n",
       "1               0.18  \n",
       "2               0.18  \n",
       "3               1.84  \n",
       "4               1.84  \n",
       "5               1.84  \n",
       "6               1.84  \n",
       "7               1.84  \n",
       "8               1.84  \n",
       "9               1.84  "
      ]
     },
     "execution_count": 329,
     "metadata": {},
     "output_type": "execute_result"
    }
   ],
   "source": [
    "df_coec_final.head(10)"
   ]
  },
  {
   "cell_type": "code",
   "execution_count": 347,
   "id": "9509d998-07c4-40fe-adf8-7ead4508c088",
   "metadata": {},
   "outputs": [],
   "source": [
    "df_coec_final.to_csv(os.path.join(path_etl,'costos_cursos_educacion_continua.csv'),index=False)"
   ]
  },
  {
   "attachments": {},
   "cell_type": "markdown",
   "id": "30334be7",
   "metadata": {},
   "source": [
    "# Ruta de archivos - PROCESO de KPI de Asistencia"
   ]
  },
  {
   "cell_type": "code",
   "execution_count": null,
   "id": "93909bc2",
   "metadata": {},
   "outputs": [],
   "source": [
    "path = os.path.join(os.getcwd(),'DATAWAREHOUSE')\n",
    "path_dmt_oc = os.path.join(path,'datamart_oc')\n",
    "path_dmt_oec = os.path.join(path,'datamart_oec')\n",
    "path_dmt_ci = os.path.join(path,'datamart_ci')"
   ]
  },
  {
   "cell_type": "markdown",
   "id": "6d9bfe8e",
   "metadata": {},
   "source": [
    "## Analisis OC"
   ]
  },
  {
   "cell_type": "code",
   "execution_count": null,
   "id": "51a5fb20",
   "metadata": {},
   "outputs": [],
   "source": [
    "df_fact_oc = pd.read_csv(os.path.join(path_dmt_oc,'fact_oc.csv'))\n",
    "df_dim_razon_social_oc = pd.read_csv(os.path.join(path_dmt_oc,'dim_razon_social_oc.csv'))\n",
    "df_dim_curso_perfil = pd.read_csv(os.path.join(path_dmt_oc,'dim_curso_perfil.csv'))"
   ]
  },
  {
   "cell_type": "code",
   "execution_count": null,
   "id": "28a0d075",
   "metadata": {},
   "outputs": [],
   "source": [
    "df_merge = pd.merge(df_fact_oc,df_dim_razon_social_oc,on='id_oc',how='left')\n",
    "df_merge = pd.merge(df_merge,df_dim_curso_perfil,on='id_curso_perfil',how='left')"
   ]
  },
  {
   "cell_type": "code",
   "execution_count": null,
   "id": "46d07e64",
   "metadata": {},
   "outputs": [],
   "source": [
    "df_query = df_merge[(df_merge['area_familia']=='información y comunicación')|(df_merge['area_familia'] == 'tecnologías de la información y comunicación')]"
   ]
  },
  {
   "cell_type": "code",
   "execution_count": null,
   "id": "af56d792",
   "metadata": {},
   "outputs": [],
   "source": [
    "df_query = df_query.sort_values(by='volumen_capacitados',ascending=False)"
   ]
  },
  {
   "cell_type": "code",
   "execution_count": null,
   "id": "1f49dba2",
   "metadata": {},
   "outputs": [],
   "source": [
    "df_query = df_query.drop_duplicates(subset=['nombre'])"
   ]
  },
  {
   "cell_type": "code",
   "execution_count": null,
   "id": "9ddee84a",
   "metadata": {},
   "outputs": [],
   "source": [
    "df_query"
   ]
  },
  {
   "cell_type": "code",
   "execution_count": null,
   "id": "aa97ff9e",
   "metadata": {},
   "outputs": [],
   "source": [
    "df_query = df_query[['volumen_capacitados','nombre']]\n",
    "df_query.to_csv('top_ocs.csv',index=False)"
   ]
  },
  {
   "cell_type": "markdown",
   "id": "cfeb7a50",
   "metadata": {},
   "source": [
    "# Analisis OEC"
   ]
  },
  {
   "cell_type": "code",
   "execution_count": null,
   "id": "469afdec",
   "metadata": {},
   "outputs": [],
   "source": [
    "df_fact_oec = pd.read_csv(os.path.join(path_dmt_oec,'fact_oec.csv'))\n",
    "df_dim_razon_social_oec = pd.read_csv(os.path.join(path_dmt_oec,'dim_razon_social_oec.csv'))\n",
    "df_dim_perfil = pd.read_csv(os.path.join(path_dmt_oec,'dim_perfil.csv'))"
   ]
  },
  {
   "cell_type": "code",
   "execution_count": null,
   "id": "f309ea79",
   "metadata": {},
   "outputs": [],
   "source": [
    "df_merge = pd.merge(df_fact_oec,df_dim_razon_social_oec,on='id_oec',how='left')\n",
    "df_merge = pd.merge(df_merge,df_dim_perfil,on='id_perfil',how='left')"
   ]
  },
  {
   "cell_type": "code",
   "execution_count": null,
   "id": "e37ee120",
   "metadata": {},
   "outputs": [],
   "source": [
    "df_query = df_merge[(df_merge['familia']=='tecnología: hardware y software (incluye tic)')]"
   ]
  },
  {
   "cell_type": "code",
   "execution_count": null,
   "id": "188ff6b5",
   "metadata": {},
   "outputs": [],
   "source": [
    "df_query = df_query.sort_values(by='volumen_capacitados',ascending=False)"
   ]
  },
  {
   "cell_type": "code",
   "execution_count": null,
   "id": "d8609d46",
   "metadata": {},
   "outputs": [],
   "source": [
    "df_query = df_query.drop_duplicates(subset=['razon_social'],keep='first')"
   ]
  },
  {
   "cell_type": "code",
   "execution_count": null,
   "id": "752235be",
   "metadata": {},
   "outputs": [],
   "source": [
    "df_query"
   ]
  },
  {
   "cell_type": "code",
   "execution_count": null,
   "id": "ff0af995",
   "metadata": {},
   "outputs": [],
   "source": [
    "df_query = df_query[['volumen_capacitados','razon_social']]\n",
    "df_query.to_csv('top_oecs.csv',index=False)"
   ]
  },
  {
   "cell_type": "markdown",
   "id": "58ca9d67",
   "metadata": {},
   "source": [
    "# Análisis CI"
   ]
  },
  {
   "cell_type": "code",
   "execution_count": null,
   "id": "0f3b31be",
   "metadata": {},
   "outputs": [],
   "source": [
    "df_fact_ci = pd.read_csv(os.path.join(path_dmt_ci,'fact_ci.csv'))\n",
    "df_dim_capacitador_independiente = pd.read_csv(os.path.join(path_dmt_ci,'dim_capacitador_independiente.csv'))\n",
    "df_dim_curso = pd.read_csv(os.path.join(path_dmt_ci,'dim_curso.csv'))"
   ]
  },
  {
   "cell_type": "code",
   "execution_count": null,
   "id": "67a6c7dd",
   "metadata": {},
   "outputs": [],
   "source": [
    "df_merge = pd.merge(df_fact_ci,df_dim_capacitador_independiente,left_on='id_ci_y',right_on='id_ci',how='left')\n",
    "df_merge = pd.merge(df_merge,df_dim_curso,on='id_curso',how='left')"
   ]
  },
  {
   "cell_type": "code",
   "execution_count": null,
   "id": "9567d35c",
   "metadata": {},
   "outputs": [],
   "source": [
    "df_query = df_merge[(df_merge['area']=='tecnologías de la información y comunicación')]"
   ]
  },
  {
   "cell_type": "code",
   "execution_count": null,
   "id": "83dbda30",
   "metadata": {},
   "outputs": [],
   "source": [
    "df_query = df_query.sort_values(by='volumen_capacitados',ascending=False)"
   ]
  },
  {
   "cell_type": "code",
   "execution_count": null,
   "id": "a9695bd3",
   "metadata": {},
   "outputs": [],
   "source": [
    "df_query = df_query.drop_duplicates(subset=['razon_social'],keep='first')"
   ]
  },
  {
   "cell_type": "code",
   "execution_count": null,
   "id": "1c911d9e",
   "metadata": {},
   "outputs": [],
   "source": [
    "df_query = df_query[['volumen_capacitados','razon_social']]\n",
    "df_query.to_csv('top_cis.csv',index=False)"
   ]
  },
  {
   "cell_type": "markdown",
   "id": "daaa36d5",
   "metadata": {},
   "source": [
    "# Añadir KPI 5 OC"
   ]
  },
  {
   "cell_type": "code",
   "execution_count": null,
   "id": "5760ffd6",
   "metadata": {},
   "outputs": [],
   "source": [
    "df_fact_oc = pd.read_csv(os.path.join(path_dmt_oc,'fact_oc.csv'))\n",
    "df_dim_razon_social_oc = pd.read_csv(os.path.join(path_dmt_oc,'dim_razon_social_oc.csv'))"
   ]
  },
  {
   "cell_type": "code",
   "execution_count": null,
   "id": "cc60b323",
   "metadata": {},
   "outputs": [],
   "source": [
    "df_oc_num_conv= pd.read_csv(os.path.join(os.getcwd(),'oc_num_conv.csv'))\n",
    "df_oc_num_conv.drop('volumen_capacitados',axis=1,inplace=True)"
   ]
  },
  {
   "cell_type": "code",
   "execution_count": null,
   "id": "4892d1d6",
   "metadata": {},
   "outputs": [],
   "source": [
    "df_merge = pd.merge(df_fact_oc,df_dim_razon_social_oc,on='id_oc',how='left')"
   ]
  },
  {
   "cell_type": "code",
   "execution_count": null,
   "id": "94bc1562",
   "metadata": {},
   "outputs": [],
   "source": [
    "df_merge = pd.merge(df_merge,df_oc_num_conv,on='nombre',how='left')"
   ]
  },
  {
   "cell_type": "code",
   "execution_count": null,
   "id": "f4d21d5f",
   "metadata": {},
   "outputs": [
    {
     "data": {
      "text/plain": [
       "Index(['id_oc', 'id_curso_perfil', 'id_fecha', 'num_cap_cer', 'total_cursos',\n",
       "       'volumen_capacitados', 'total_horas', 'total_ganancias', '%_asistencia',\n",
       "       'nombre', 'estado', 'canton', 'provincia', ' facebook_seguidores',\n",
       "       'instagram_seguidores', 'numero_convocados'],\n",
       "      dtype='object')"
      ]
     },
     "metadata": {},
     "output_type": "display_data"
    }
   ],
   "source": [
    "df_merge.columns"
   ]
  },
  {
   "cell_type": "code",
   "execution_count": null,
   "id": "1695a040",
   "metadata": {},
   "outputs": [],
   "source": [
    "df_merge['%_asistencia'] = df_merge['num_cap_cer']/df_merge['numero_convocados']*100"
   ]
  },
  {
   "cell_type": "code",
   "execution_count": null,
   "id": "ceac2398",
   "metadata": {},
   "outputs": [],
   "source": [
    "df_merge = df_merge[['id_oc', 'id_curso_perfil', 'id_fecha', 'num_cap_cer', 'total_cursos',\n",
    "       'volumen_capacitados', 'total_horas', 'total_ganancias','%_asistencia']]"
   ]
  },
  {
   "cell_type": "code",
   "execution_count": null,
   "id": "e1d31322",
   "metadata": {},
   "outputs": [
    {
     "data": {
      "text/html": [
       "<div>\n",
       "<style scoped>\n",
       "    .dataframe tbody tr th:only-of-type {\n",
       "        vertical-align: middle;\n",
       "    }\n",
       "\n",
       "    .dataframe tbody tr th {\n",
       "        vertical-align: top;\n",
       "    }\n",
       "\n",
       "    .dataframe thead th {\n",
       "        text-align: right;\n",
       "    }\n",
       "</style>\n",
       "<table border=\"1\" class=\"dataframe\">\n",
       "  <thead>\n",
       "    <tr style=\"text-align: right;\">\n",
       "      <th></th>\n",
       "      <th>id_oc</th>\n",
       "      <th>id_curso_perfil</th>\n",
       "      <th>id_fecha</th>\n",
       "      <th>num_cap_cer</th>\n",
       "      <th>total_cursos</th>\n",
       "      <th>volumen_capacitados</th>\n",
       "      <th>total_horas</th>\n",
       "      <th>total_ganancias</th>\n",
       "      <th>%_asistencia</th>\n",
       "    </tr>\n",
       "  </thead>\n",
       "  <tbody>\n",
       "    <tr>\n",
       "      <th>0</th>\n",
       "      <td>NaN</td>\n",
       "      <td>NaN</td>\n",
       "      <td>3</td>\n",
       "      <td>17</td>\n",
       "      <td>2</td>\n",
       "      <td>63</td>\n",
       "      <td>NaN</td>\n",
       "      <td>NaN</td>\n",
       "      <td>NaN</td>\n",
       "    </tr>\n",
       "    <tr>\n",
       "      <th>1</th>\n",
       "      <td>NaN</td>\n",
       "      <td>NaN</td>\n",
       "      <td>3</td>\n",
       "      <td>46</td>\n",
       "      <td>2</td>\n",
       "      <td>63</td>\n",
       "      <td>NaN</td>\n",
       "      <td>NaN</td>\n",
       "      <td>NaN</td>\n",
       "    </tr>\n",
       "    <tr>\n",
       "      <th>2</th>\n",
       "      <td>369.0</td>\n",
       "      <td>NaN</td>\n",
       "      <td>2</td>\n",
       "      <td>2</td>\n",
       "      <td>4</td>\n",
       "      <td>52</td>\n",
       "      <td>NaN</td>\n",
       "      <td>NaN</td>\n",
       "      <td>NaN</td>\n",
       "    </tr>\n",
       "    <tr>\n",
       "      <th>3</th>\n",
       "      <td>1128.0</td>\n",
       "      <td>NaN</td>\n",
       "      <td>2</td>\n",
       "      <td>2</td>\n",
       "      <td>4</td>\n",
       "      <td>52</td>\n",
       "      <td>NaN</td>\n",
       "      <td>NaN</td>\n",
       "      <td>NaN</td>\n",
       "    </tr>\n",
       "    <tr>\n",
       "      <th>4</th>\n",
       "      <td>369.0</td>\n",
       "      <td>NaN</td>\n",
       "      <td>2</td>\n",
       "      <td>15</td>\n",
       "      <td>4</td>\n",
       "      <td>52</td>\n",
       "      <td>NaN</td>\n",
       "      <td>NaN</td>\n",
       "      <td>NaN</td>\n",
       "    </tr>\n",
       "    <tr>\n",
       "      <th>...</th>\n",
       "      <td>...</td>\n",
       "      <td>...</td>\n",
       "      <td>...</td>\n",
       "      <td>...</td>\n",
       "      <td>...</td>\n",
       "      <td>...</td>\n",
       "      <td>...</td>\n",
       "      <td>...</td>\n",
       "      <td>...</td>\n",
       "    </tr>\n",
       "    <tr>\n",
       "      <th>9381</th>\n",
       "      <td>1207.0</td>\n",
       "      <td>NaN</td>\n",
       "      <td>2</td>\n",
       "      <td>8</td>\n",
       "      <td>7</td>\n",
       "      <td>206</td>\n",
       "      <td>NaN</td>\n",
       "      <td>NaN</td>\n",
       "      <td>NaN</td>\n",
       "    </tr>\n",
       "    <tr>\n",
       "      <th>9382</th>\n",
       "      <td>459.0</td>\n",
       "      <td>NaN</td>\n",
       "      <td>2</td>\n",
       "      <td>7</td>\n",
       "      <td>7</td>\n",
       "      <td>206</td>\n",
       "      <td>NaN</td>\n",
       "      <td>NaN</td>\n",
       "      <td>NaN</td>\n",
       "    </tr>\n",
       "    <tr>\n",
       "      <th>9383</th>\n",
       "      <td>1207.0</td>\n",
       "      <td>NaN</td>\n",
       "      <td>2</td>\n",
       "      <td>7</td>\n",
       "      <td>7</td>\n",
       "      <td>206</td>\n",
       "      <td>NaN</td>\n",
       "      <td>NaN</td>\n",
       "      <td>NaN</td>\n",
       "    </tr>\n",
       "    <tr>\n",
       "      <th>9384</th>\n",
       "      <td>459.0</td>\n",
       "      <td>NaN</td>\n",
       "      <td>2</td>\n",
       "      <td>8</td>\n",
       "      <td>7</td>\n",
       "      <td>206</td>\n",
       "      <td>NaN</td>\n",
       "      <td>NaN</td>\n",
       "      <td>NaN</td>\n",
       "    </tr>\n",
       "    <tr>\n",
       "      <th>9385</th>\n",
       "      <td>1207.0</td>\n",
       "      <td>NaN</td>\n",
       "      <td>2</td>\n",
       "      <td>8</td>\n",
       "      <td>7</td>\n",
       "      <td>206</td>\n",
       "      <td>NaN</td>\n",
       "      <td>NaN</td>\n",
       "      <td>NaN</td>\n",
       "    </tr>\n",
       "  </tbody>\n",
       "</table>\n",
       "<p>9386 rows × 9 columns</p>\n",
       "</div>"
      ],
      "text/plain": [
       "       id_oc  id_curso_perfil  id_fecha  num_cap_cer  total_cursos  \\\n",
       "0        NaN              NaN         3           17             2   \n",
       "1        NaN              NaN         3           46             2   \n",
       "2      369.0              NaN         2            2             4   \n",
       "3     1128.0              NaN         2            2             4   \n",
       "4      369.0              NaN         2           15             4   \n",
       "...      ...              ...       ...          ...           ...   \n",
       "9381  1207.0              NaN         2            8             7   \n",
       "9382   459.0              NaN         2            7             7   \n",
       "9383  1207.0              NaN         2            7             7   \n",
       "9384   459.0              NaN         2            8             7   \n",
       "9385  1207.0              NaN         2            8             7   \n",
       "\n",
       "      volumen_capacitados  total_horas  total_ganancias  %_asistencia  \n",
       "0                      63          NaN              NaN           NaN  \n",
       "1                      63          NaN              NaN           NaN  \n",
       "2                      52          NaN              NaN           NaN  \n",
       "3                      52          NaN              NaN           NaN  \n",
       "4                      52          NaN              NaN           NaN  \n",
       "...                   ...          ...              ...           ...  \n",
       "9381                  206          NaN              NaN           NaN  \n",
       "9382                  206          NaN              NaN           NaN  \n",
       "9383                  206          NaN              NaN           NaN  \n",
       "9384                  206          NaN              NaN           NaN  \n",
       "9385                  206          NaN              NaN           NaN  \n",
       "\n",
       "[9386 rows x 9 columns]"
      ]
     },
     "metadata": {},
     "output_type": "display_data"
    }
   ],
   "source": [
    "df_merge"
   ]
  },
  {
   "cell_type": "code",
   "execution_count": null,
   "id": "257b9462",
   "metadata": {},
   "outputs": [],
   "source": [
    "df_merge.to_csv(os.path.join(path_dmt_oc,'fact_oc.csv'),index=False)"
   ]
  },
  {
   "cell_type": "markdown",
   "id": "25f2550a",
   "metadata": {},
   "source": [
    "# Añadir KPI5 OEC"
   ]
  },
  {
   "cell_type": "code",
   "execution_count": null,
   "id": "fde38e8f",
   "metadata": {},
   "outputs": [],
   "source": [
    "df_fact_oec = pd.read_csv(os.path.join(path_dmt_oec,'fact_oec.csv'))\n",
    "df_dim_razon_social_oec = pd.read_csv(os.path.join(path_dmt_oec,'dim_razon_social_oec.csv'))"
   ]
  },
  {
   "cell_type": "code",
   "execution_count": null,
   "id": "c156b860",
   "metadata": {},
   "outputs": [],
   "source": [
    "df_oec_num_conv= pd.read_csv(os.path.join(os.getcwd(),'pcoec_num_conv.csv'),encoding = \"ISO-8859-1\")\n",
    "df_oec_num_conv.drop('volumen_capacitados',axis=1,inplace=True)"
   ]
  },
  {
   "cell_type": "code",
   "execution_count": null,
   "id": "40c5b467",
   "metadata": {},
   "outputs": [],
   "source": [
    "df_merge = pd.merge(df_fact_oec,df_dim_razon_social_oec,on='id_oec',how='left')"
   ]
  },
  {
   "cell_type": "code",
   "execution_count": null,
   "id": "2cd46e73",
   "metadata": {},
   "outputs": [],
   "source": [
    "df_merge = pd.merge(df_merge,df_oec_num_conv,on='razon_social',how='left')"
   ]
  },
  {
   "cell_type": "code",
   "execution_count": null,
   "id": "497ec504",
   "metadata": {},
   "outputs": [],
   "source": [
    "df_merge['%_asistencia'] = df_merge['num_cer']/df_merge['numero_convocados']*100"
   ]
  },
  {
   "cell_type": "code",
   "execution_count": null,
   "id": "ef9ef710",
   "metadata": {},
   "outputs": [
    {
     "data": {
      "text/plain": [
       "Index(['id_oec', 'id_perfil', 'id_fecha', 'num_cer', 'total_horas',\n",
       "       'total_cursos', 'volumen_capacitados', 'total_ganacias', 'razon_social',\n",
       "       'estado', 'canton', 'provincia', 'nombre_comercial', 'pagina_facebook',\n",
       "       'seguidores_facebook', 'pagina_instagram', 'seguidores_instagram',\n",
       "       'numero_convocados', '%_asistencia'],\n",
       "      dtype='object')"
      ]
     },
     "metadata": {},
     "output_type": "display_data"
    }
   ],
   "source": [
    "df_merge.columns"
   ]
  },
  {
   "cell_type": "code",
   "execution_count": null,
   "id": "4eb541f3",
   "metadata": {},
   "outputs": [],
   "source": [
    "df_merge = df_merge[['id_oec', 'id_perfil', 'id_fecha', 'num_cer', 'total_horas',\n",
    "       'total_cursos', 'volumen_capacitados', 'total_ganacias','%_asistencia']]"
   ]
  },
  {
   "cell_type": "code",
   "execution_count": null,
   "id": "7f67a948",
   "metadata": {},
   "outputs": [],
   "source": [
    "df_merge.to_csv(os.path.join(path_dmt_oec,'fact_oec.csv'),index=False)"
   ]
  }
 ],
 "metadata": {
  "kernelspec": {
   "display_name": "Python 3",
   "language": "python",
   "name": "python3"
  },
  "language_info": {
   "codemirror_mode": {
    "name": "ipython",
    "version": 3
   },
   "file_extension": ".py",
   "mimetype": "text/x-python",
   "name": "python",
   "nbconvert_exporter": "python",
   "pygments_lexer": "ipython3",
   "version": "3.11.2"
  },
  "vscode": {
   "interpreter": {
    "hash": "074baf2443af9b9e7a5cc585dd3f00f918704c09e8006da438627ab36315982b"
   }
  }
 },
 "nbformat": 4,
 "nbformat_minor": 5
}
