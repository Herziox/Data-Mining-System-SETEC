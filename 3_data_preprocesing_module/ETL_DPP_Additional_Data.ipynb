{
 "cells": [
  {
   "cell_type": "markdown",
   "id": "f1e2b418-4aca-4a4e-a26c-3b205a1378e1",
   "metadata": {
    "tags": []
   },
   "source": [
    "# Importación de librerías"
   ]
  },
  {
   "cell_type": "code",
   "execution_count": 1,
   "id": "05a3b525-b942-4dec-a98d-7c7756026b06",
   "metadata": {},
   "outputs": [],
   "source": [
    "import pandas as pd\n",
    "import numpy as np\n",
    "import os"
   ]
  },
  {
   "cell_type": "markdown",
   "id": "c5a282d1-30b9-4596-a8ea-ba256015a385",
   "metadata": {
    "tags": []
   },
   "source": [
    "# Funciones"
   ]
  },
  {
   "cell_type": "code",
   "execution_count": 2,
   "id": "ef1663d7-75d3-47b5-a1c0-a91c44c43297",
   "metadata": {},
   "outputs": [],
   "source": [
    "def get_hours(x,y):\n",
    "    val = y.replace(' ','')\n",
    "    if val[-1]=='h':\n",
    "        return val[:-1]\n",
    "    elif val.isdigit():\n",
    "        return val\n",
    "    \n",
    "    val = x.replace(' ','')\n",
    "    if val[-1]=='h':\n",
    "        return val[:-1]\n",
    "    elif val.isdigit():\n",
    "        return val\n",
    "    else:\n",
    "        return val"
   ]
  },
  {
   "cell_type": "markdown",
   "id": "96d17574-b516-4ab6-abb1-f25980277b29",
   "metadata": {
    "tags": []
   },
   "source": [
    "# Ruta de archivos"
   ]
  },
  {
   "cell_type": "code",
   "execution_count": 13,
   "id": "43150a18-fd90-4fc6-8204-44394abea52b",
   "metadata": {},
   "outputs": [],
   "source": [
    "path = os.path.abspath(os.path.join(os.getcwd(), '..','2_data_understanding_module','collecting_initial_data','existing_data','DIRTY_DATA'))\n",
    "path_additional_data = os.path.abspath(os.path.join(os.getcwd(), '..','2_data_understanding_module','collecting_initial_data','additional_data'))\n",
    "path_etl = os.path.abspath(os.path.join(os.getcwd(),'CLEANED_DATA'))\n",
    "path_dwh = os.path.abspath(os.path.join(os.getcwd(),'DATAWAREHOUSE'))"
   ]
  },
  {
   "cell_type": "markdown",
   "id": "3c935830-6c7a-4f46-8c9b-bebb7a9cc987",
   "metadata": {
    "tags": []
   },
   "source": [
    "# Costos de cursos"
   ]
  },
  {
   "cell_type": "code",
   "execution_count": 141,
   "id": "e3875518-4d09-49d9-aafa-a390140c22fa",
   "metadata": {},
   "outputs": [],
   "source": [
    "# Selecting Data\n",
    "df_coec = pd.read_csv(os.path.join(path_additional_data,'costo_oferta_educacion_continua.csv'))\n",
    "df_coec = df_coec[['Ciudad','Areas de Formación', 'Nombre  de los Programas','Modalidad', 'Tiempo de duración','Duración programa',' Precio ']]\n",
    "df_coec = df_coec.rename(columns={' Precio ':'Precio'})\n",
    "for col in df_coec.columns:\n",
    "    df_coec[col] = df_coec[col].astype('str').str.lower()\n",
    "    aux = df_coec[col][0]\n",
    "    for i in range(df_coec.shape[0]):\n",
    "        if pd.isna(df_coec[col][i]) or df_coec[col][i]=='nan' :\n",
    "            df_coec[col][i] = aux\n",
    "        else:\n",
    "            aux = df_coec[col][i]\n",
    "            \n"
   ]
  },
  {
   "cell_type": "code",
   "execution_count": 127,
   "id": "6a767790-55df-44c9-b212-f337a5518d64",
   "metadata": {},
   "outputs": [
    {
     "data": {
      "text/html": [
       "<div>\n",
       "<style scoped>\n",
       "    .dataframe tbody tr th:only-of-type {\n",
       "        vertical-align: middle;\n",
       "    }\n",
       "\n",
       "    .dataframe tbody tr th {\n",
       "        vertical-align: top;\n",
       "    }\n",
       "\n",
       "    .dataframe thead th {\n",
       "        text-align: right;\n",
       "    }\n",
       "</style>\n",
       "<table border=\"1\" class=\"dataframe\">\n",
       "  <thead>\n",
       "    <tr style=\"text-align: right;\">\n",
       "      <th></th>\n",
       "      <th>Ciudad</th>\n",
       "      <th>Areas de Formación</th>\n",
       "      <th>Nombre  de los Programas</th>\n",
       "      <th>Modalidad</th>\n",
       "      <th>Tiempo de duración</th>\n",
       "      <th>Duración programa</th>\n",
       "      <th>Precio</th>\n",
       "    </tr>\n",
       "  </thead>\n",
       "  <tbody>\n",
       "  </tbody>\n",
       "</table>\n",
       "</div>"
      ],
      "text/plain": [
       "Empty DataFrame\n",
       "Columns: [Ciudad, Areas de Formación, Nombre  de los Programas, Modalidad, Tiempo de duración, Duración programa, Precio]\n",
       "Index: []"
      ]
     },
     "execution_count": 142,
     "metadata": {},
     "output_type": "execute_result"
    }
   ],
   "source": [
    "df_coec[df_coec['Areas de Formación']=='social']"
   ]
  },
  {
   "cell_type": "code",
   "execution_count": 40,
   "id": "5605e000-5786-4470-b27b-559e3979f914",
   "metadata": {},
   "outputs": [],
   "source": [
    "def set_name_area(x):\n",
    "    if x in ['administracion','administracion y negocios','negocios y administracion','administración y legislación\\n','empresariales','gestion empresarial','facultad de cienciasadministrativas','faculta de jurisprudencia ,  ciencias']:\n",
    "        return 'administración y legislación'\n",
    "    elif x in ['salud','facultad ciencias ce la salud']:\n",
    "        return 'actividades de salud'\n",
    "    elif x in ['tecnologicos','tecnologia','tecnologia e innovacion','tecnologia e informacion','tics','tecnología de la información y comunicación',' tecnología de la información y comunicación']:\n",
    "        return 'tecnologías de la información y comunicación'\n",
    "    elif x in ['educativos','educacion','facultad de ciencias de la educacion']:\n",
    "        return 'educación y capacitación'\n",
    "    elif x in ['mecanica automotriz']:\n",
    "        return 'mecánica automotriz'\n",
    "    elif x in ['social']:\n",
    "        return 'trabajo social'\n",
    "    elif x in ['financiero','finanzas, comercio y ventas']:\n",
    "        return 'servicios financieros'\n",
    "    elif x in ['facultad  de ciencias agropecuarias']:\n",
    "        return 'industria agropecuaria'\n",
    "    elif x in ['agronomo']:\n",
    "        return 'agronomía'\n",
    "    elif x in ['comunicación']:\n",
    "        return 'comunicación y artes gráficas'\n",
    "    elif x in ['arte']:\n",
    "        return 'artes y artesanía'\n",
    "    else:\n",
    "        return 'area base'\n",
    "    "
   ]
  },
  {
   "cell_type": "code",
   "execution_count": 106,
   "id": "29383106-902c-489b-a6e0-d04ed42e7f21",
   "metadata": {},
   "outputs": [],
   "source": [
    "def set_name_modalidad(x):\n",
    "    if 'online' in x or 'on line' in x:\n",
    "        return 'online'\n",
    "    if 'presencial' in x:\n",
    "        return 'presencial'\n",
    "    if 'virtual' in x or 'en vivo' in x:\n",
    "        return 'virtual'\n",
    "    else:\n",
    "        return x\n",
    "    "
   ]
  },
  {
   "cell_type": "code",
   "execution_count": 39,
   "id": "09edde4c-6582-4388-8d34-d31fec5bd36c",
   "metadata": {},
   "outputs": [
    {
     "data": {
      "text/plain": [
       "'hola$'"
      ]
     },
     "execution_count": 39,
     "metadata": {},
     "output_type": "execute_result"
    }
   ],
   "source": [
    "'hola$'.replace(r'$','')"
   ]
  },
  {
   "cell_type": "code",
   "execution_count": 78,
   "id": "52efbf93-6be9-42a3-a0d6-f7077a7be1ae",
   "metadata": {},
   "outputs": [],
   "source": [
    "def set_precio(x):\n",
    "    x = x.replace('$','')\n",
    "    x = x.replace(',','')\n",
    "    x = x.replace(' ','')\n",
    "    x = x.replace('-','')\n",
    "    \n",
    "    if 'llamar' in x:\n",
    "        return np.nan\n",
    "    if ''==x:\n",
    "        return np.nan\n",
    "    return float(x)\n",
    "    "
   ]
  },
  {
   "cell_type": "code",
   "execution_count": 185,
   "id": "16a1eb1d-43c2-4ee5-bd5a-d63d3762e5dd",
   "metadata": {},
   "outputs": [
    {
     "data": {
      "text/plain": [
       "True"
      ]
     },
     "execution_count": 185,
     "metadata": {},
     "output_type": "execute_result"
    }
   ],
   "source": [
    "'presencial' in mean_by_mod.keys()"
   ]
  },
  {
   "cell_type": "code",
   "execution_count": 223,
   "id": "1dbf8f36-2feb-4b10-a99e-ca919a56c386",
   "metadata": {},
   "outputs": [
    {
     "data": {
      "text/plain": [
       "dict_keys(['presencial|administración y legislación', 'presencial|area base', 'presencial|tecnologías de la información y comunicación', 'presencial|educación y capacitación', 'presencial|actividades de salud', 'presencial|comunicación y artes gráficas', 'presencial|mecánica automotriz', 'presencial|servicios financieros', 'presencial|artes y artesanía', 'presencial|trabajo social', 'presencial|agronomía', 'virtual|administración y legislación', 'virtual|area base', 'virtual|tecnologías de la información y comunicación', 'virtual|educación y capacitación', 'virtual|actividades de salud', 'virtual|comunicación y artes gráficas', 'virtual|mecánica automotriz', 'virtual|servicios financieros', 'virtual|artes y artesanía', 'virtual|trabajo social', 'virtual|agronomía', 'online|administración y legislación', 'online|area base', 'online|tecnologías de la información y comunicación', 'online|educación y capacitación', 'online|actividades de salud', 'online|comunicación y artes gráficas', 'online|mecánica automotriz', 'online|servicios financieros', 'online|artes y artesanía', 'online|trabajo social', 'online|agronomía'])"
      ]
     },
     "execution_count": 223,
     "metadata": {},
     "output_type": "execute_result"
    }
   ],
   "source": [
    "mean_list['mean_by_ma'].keys()"
   ]
  },
  {
   "cell_type": "code",
   "execution_count": 219,
   "id": "e4dbcf80-0507-4897-8f81-28097752f2f8",
   "metadata": {},
   "outputs": [
    {
     "data": {
      "text/plain": [
       "True"
      ]
     },
     "execution_count": 219,
     "metadata": {},
     "output_type": "execute_result"
    }
   ],
   "source": [
    "('hola' and 'mundo') in 'hola mundo'"
   ]
  },
  {
   "cell_type": "code",
   "execution_count": 242,
   "id": "ac76f764-b964-40ae-9b66-184696c475d8",
   "metadata": {},
   "outputs": [],
   "source": [
    "def fill_precio_na(x,y):   \n",
    "    if pd.isna(x['precio_set']):\n",
    "        if x['modalidad_set'] in y['mean_by_mod'].keys():\n",
    "            x['mean_by_mod'] = y['mean_by_mod'][x['modalidad_set']]\n",
    "            \n",
    "        if x['area_familia'] in y['mean_by_area'].keys():\n",
    "            x['mean_by_area'] =  y['mean_by_area'][x['area_familia']]\n",
    "            \n",
    "        if x['Ciudad'] in y['mean_by_ciudad'].keys():\n",
    "            x['mean_by_ciudad'] =  y['mean_by_ciudad'][x['Ciudad']]\n",
    "            \n",
    "            \n",
    "        if x['modalidad_set']+'|'+x['area_familia'] in y['mean_by_ma'].keys():\n",
    "            x['mean_by_ma'] =  y['mean_by_ma'][x['modalidad_set']+'|'+x['area_familia']]\n",
    "            \n",
    "        if x['area_familia']+'|'+x['Ciudad'] in y['mean_by_ac'].keys():\n",
    "            x['mean_by_ac'] =  y['mean_by_ac'][x['area_familia']+'|'+x['Ciudad']]\n",
    "            \n",
    "        if x['modalidad_set']+'|'+x['Ciudad'] in y['mean_by_mc'].keys():\n",
    "            x['mean_by_mc'] =  y['mean_by_mc'][x['modalidad_set']+'|'+x['Ciudad']]\n",
    "            \n",
    "            \n",
    "        if x['area_familia']+'|'+x['modalidad_set']+'|'+x['Ciudad'] in y['mean_by_mac'].keys():\n",
    "            x['mean_by_mac'] =  y['mean_by_mac'][x['area_familia']+'|'+x['modalidad_set']+'|'+x['Ciudad']]\n",
    "    return x"
   ]
  },
  {
   "cell_type": "code",
   "execution_count": 144,
   "id": "1d224a0e-b10e-49dd-bd71-de103d200956",
   "metadata": {},
   "outputs": [],
   "source": [
    "df_coec['area_familia'] = df_coec.apply(lambda x: set_name_area(x['Areas de Formación']), axis=1 )"
   ]
  },
  {
   "cell_type": "code",
   "execution_count": 145,
   "id": "8bb8c612-7913-4476-b5ea-221ee5278ce4",
   "metadata": {},
   "outputs": [],
   "source": [
    "df_coec['modalidad_set'] = df_coec.apply(lambda x: set_name_modalidad(x['Modalidad']), axis=1 )"
   ]
  },
  {
   "cell_type": "code",
   "execution_count": 162,
   "id": "78735798-a6aa-465f-9cf4-9fd45f528a6d",
   "metadata": {},
   "outputs": [],
   "source": [
    "df_coec['precio_set'] = df_coec.apply(lambda x: set_precio(x['Precio']), axis=1 )"
   ]
  },
  {
   "cell_type": "code",
   "execution_count": 240,
   "id": "42a0c602-67f5-4e6f-aac9-8f4176f2376a",
   "metadata": {},
   "outputs": [],
   "source": [
    "df_test = df_coec.apply(lambda x: fill_precio_na(x,mean_list), axis=1)"
   ]
  },
  {
   "cell_type": "code",
   "execution_count": 241,
   "id": "0c5d3fce-7212-4f33-abe0-64f49290fd28",
   "metadata": {},
   "outputs": [
    {
     "data": {
      "text/html": [
       "<div>\n",
       "<style scoped>\n",
       "    .dataframe tbody tr th:only-of-type {\n",
       "        vertical-align: middle;\n",
       "    }\n",
       "\n",
       "    .dataframe tbody tr th {\n",
       "        vertical-align: top;\n",
       "    }\n",
       "\n",
       "    .dataframe thead th {\n",
       "        text-align: right;\n",
       "    }\n",
       "</style>\n",
       "<table border=\"1\" class=\"dataframe\">\n",
       "  <thead>\n",
       "    <tr style=\"text-align: right;\">\n",
       "      <th></th>\n",
       "      <th>Areas de Formación</th>\n",
       "      <th>Ciudad</th>\n",
       "      <th>Duración programa</th>\n",
       "      <th>Modalidad</th>\n",
       "      <th>Nombre  de los Programas</th>\n",
       "      <th>Precio</th>\n",
       "      <th>Tiempo de duración</th>\n",
       "      <th>area_familia</th>\n",
       "      <th>mean_by_ac</th>\n",
       "      <th>mean_by_area</th>\n",
       "      <th>mean_by_ciudad</th>\n",
       "      <th>mean_by_ma</th>\n",
       "      <th>mean_by_mc</th>\n",
       "      <th>mean_by_mod</th>\n",
       "      <th>modalidad_set</th>\n",
       "      <th>precio_set</th>\n",
       "    </tr>\n",
       "  </thead>\n",
       "  <tbody>\n",
       "    <tr>\n",
       "      <th>0</th>\n",
       "      <td>administracion y negocios</td>\n",
       "      <td>quito</td>\n",
       "      <td>1 año  2 meses</td>\n",
       "      <td>100% online</td>\n",
       "      <td>gerencia de instituciones de salud</td>\n",
       "      <td>llamar</td>\n",
       "      <td>1736 h</td>\n",
       "      <td>administración y legislación</td>\n",
       "      <td>111.787234</td>\n",
       "      <td>360.549451</td>\n",
       "      <td>168.482353</td>\n",
       "      <td>113.291667</td>\n",
       "      <td>309.0</td>\n",
       "      <td>170.349059</td>\n",
       "      <td>online</td>\n",
       "      <td>NaN</td>\n",
       "    </tr>\n",
       "    <tr>\n",
       "      <th>1</th>\n",
       "      <td>educacion</td>\n",
       "      <td>quito</td>\n",
       "      <td>1 año  2 meses</td>\n",
       "      <td>100% online</td>\n",
       "      <td>liderazgo educativo</td>\n",
       "      <td>llamar</td>\n",
       "      <td>1680 h</td>\n",
       "      <td>educación y capacitación</td>\n",
       "      <td>88.125000</td>\n",
       "      <td>131.551724</td>\n",
       "      <td>168.482353</td>\n",
       "      <td>204.000000</td>\n",
       "      <td>309.0</td>\n",
       "      <td>170.349059</td>\n",
       "      <td>online</td>\n",
       "      <td>NaN</td>\n",
       "    </tr>\n",
       "    <tr>\n",
       "      <th>2</th>\n",
       "      <td>salud</td>\n",
       "      <td>quito</td>\n",
       "      <td>1 año  2 meses</td>\n",
       "      <td>100% online</td>\n",
       "      <td>seguridad y salud ocupacional</td>\n",
       "      <td>llamar</td>\n",
       "      <td>1680 h</td>\n",
       "      <td>actividades de salud</td>\n",
       "      <td>910.000000</td>\n",
       "      <td>514.210526</td>\n",
       "      <td>168.482353</td>\n",
       "      <td>70.000000</td>\n",
       "      <td>309.0</td>\n",
       "      <td>170.349059</td>\n",
       "      <td>online</td>\n",
       "      <td>NaN</td>\n",
       "    </tr>\n",
       "    <tr>\n",
       "      <th>3</th>\n",
       "      <td>administracion y negocios</td>\n",
       "      <td>quito</td>\n",
       "      <td>3-5 meses</td>\n",
       "      <td>100% online</td>\n",
       "      <td>administracion de empresas</td>\n",
       "      <td>llamar</td>\n",
       "      <td>168 h</td>\n",
       "      <td>administración y legislación</td>\n",
       "      <td>111.787234</td>\n",
       "      <td>360.549451</td>\n",
       "      <td>168.482353</td>\n",
       "      <td>113.291667</td>\n",
       "      <td>309.0</td>\n",
       "      <td>170.349059</td>\n",
       "      <td>online</td>\n",
       "      <td>NaN</td>\n",
       "    </tr>\n",
       "    <tr>\n",
       "      <th>4</th>\n",
       "      <td>administracion y negocios</td>\n",
       "      <td>quito</td>\n",
       "      <td>3-5 meses</td>\n",
       "      <td>100% online</td>\n",
       "      <td>desarrollo de negocios y emprendimiento</td>\n",
       "      <td>llamar</td>\n",
       "      <td>168 h</td>\n",
       "      <td>administración y legislación</td>\n",
       "      <td>111.787234</td>\n",
       "      <td>360.549451</td>\n",
       "      <td>168.482353</td>\n",
       "      <td>113.291667</td>\n",
       "      <td>309.0</td>\n",
       "      <td>170.349059</td>\n",
       "      <td>online</td>\n",
       "      <td>NaN</td>\n",
       "    </tr>\n",
       "    <tr>\n",
       "      <th>5</th>\n",
       "      <td>administracion y negocios</td>\n",
       "      <td>quito</td>\n",
       "      <td>3-5 meses</td>\n",
       "      <td>100% online</td>\n",
       "      <td>direccion estrategica</td>\n",
       "      <td>llamar</td>\n",
       "      <td>168 h</td>\n",
       "      <td>administración y legislación</td>\n",
       "      <td>111.787234</td>\n",
       "      <td>360.549451</td>\n",
       "      <td>168.482353</td>\n",
       "      <td>113.291667</td>\n",
       "      <td>309.0</td>\n",
       "      <td>170.349059</td>\n",
       "      <td>online</td>\n",
       "      <td>NaN</td>\n",
       "    </tr>\n",
       "    <tr>\n",
       "      <th>6</th>\n",
       "      <td>administracion y negocios</td>\n",
       "      <td>quito</td>\n",
       "      <td>3-5 meses</td>\n",
       "      <td>100% online</td>\n",
       "      <td>e-commerce</td>\n",
       "      <td>llamar</td>\n",
       "      <td>168 h</td>\n",
       "      <td>administración y legislación</td>\n",
       "      <td>111.787234</td>\n",
       "      <td>360.549451</td>\n",
       "      <td>168.482353</td>\n",
       "      <td>113.291667</td>\n",
       "      <td>309.0</td>\n",
       "      <td>170.349059</td>\n",
       "      <td>online</td>\n",
       "      <td>NaN</td>\n",
       "    </tr>\n",
       "    <tr>\n",
       "      <th>7</th>\n",
       "      <td>administracion y negocios</td>\n",
       "      <td>quito</td>\n",
       "      <td>3-5 meses</td>\n",
       "      <td>100% online</td>\n",
       "      <td>gestion de negocios con tecnologias digitrales</td>\n",
       "      <td>llamar</td>\n",
       "      <td>168 h</td>\n",
       "      <td>administración y legislación</td>\n",
       "      <td>111.787234</td>\n",
       "      <td>360.549451</td>\n",
       "      <td>168.482353</td>\n",
       "      <td>113.291667</td>\n",
       "      <td>309.0</td>\n",
       "      <td>170.349059</td>\n",
       "      <td>online</td>\n",
       "      <td>NaN</td>\n",
       "    </tr>\n",
       "    <tr>\n",
       "      <th>8</th>\n",
       "      <td>administracion y negocios</td>\n",
       "      <td>quito</td>\n",
       "      <td>3-5 meses</td>\n",
       "      <td>100% online</td>\n",
       "      <td>gestion de riesgos y manejo de crisis en el se...</td>\n",
       "      <td>llamar</td>\n",
       "      <td>168 h</td>\n",
       "      <td>administración y legislación</td>\n",
       "      <td>111.787234</td>\n",
       "      <td>360.549451</td>\n",
       "      <td>168.482353</td>\n",
       "      <td>113.291667</td>\n",
       "      <td>309.0</td>\n",
       "      <td>170.349059</td>\n",
       "      <td>online</td>\n",
       "      <td>NaN</td>\n",
       "    </tr>\n",
       "    <tr>\n",
       "      <th>9</th>\n",
       "      <td>tecnologia e informacion</td>\n",
       "      <td>quito</td>\n",
       "      <td>3-5 meses</td>\n",
       "      <td>100% online</td>\n",
       "      <td>big data</td>\n",
       "      <td>llamar</td>\n",
       "      <td>168 h</td>\n",
       "      <td>tecnologías de la información y comunicación</td>\n",
       "      <td>209.750000</td>\n",
       "      <td>320.060606</td>\n",
       "      <td>168.482353</td>\n",
       "      <td>266.538462</td>\n",
       "      <td>309.0</td>\n",
       "      <td>170.349059</td>\n",
       "      <td>online</td>\n",
       "      <td>NaN</td>\n",
       "    </tr>\n",
       "  </tbody>\n",
       "</table>\n",
       "</div>"
      ],
      "text/plain": [
       "          Areas de Formación Ciudad Duración programa    Modalidad  \\\n",
       "0  administracion y negocios  quito    1 año  2 meses  100% online   \n",
       "1                  educacion  quito    1 año  2 meses  100% online   \n",
       "2                      salud  quito    1 año  2 meses  100% online   \n",
       "3  administracion y negocios  quito         3-5 meses  100% online   \n",
       "4  administracion y negocios  quito         3-5 meses  100% online   \n",
       "5  administracion y negocios  quito         3-5 meses  100% online   \n",
       "6  administracion y negocios  quito         3-5 meses  100% online   \n",
       "7  administracion y negocios  quito         3-5 meses  100% online   \n",
       "8  administracion y negocios  quito         3-5 meses  100% online   \n",
       "9   tecnologia e informacion  quito         3-5 meses  100% online   \n",
       "\n",
       "                            Nombre  de los Programas    Precio  \\\n",
       "0                 gerencia de instituciones de salud   llamar    \n",
       "1                                liderazgo educativo   llamar    \n",
       "2                      seguridad y salud ocupacional   llamar    \n",
       "3                         administracion de empresas   llamar    \n",
       "4            desarrollo de negocios y emprendimiento   llamar    \n",
       "5                              direccion estrategica   llamar    \n",
       "6                                         e-commerce   llamar    \n",
       "7     gestion de negocios con tecnologias digitrales   llamar    \n",
       "8  gestion de riesgos y manejo de crisis en el se...   llamar    \n",
       "9                                           big data   llamar    \n",
       "\n",
       "  Tiempo de duración                                  area_familia  \\\n",
       "0             1736 h                  administración y legislación   \n",
       "1             1680 h                      educación y capacitación   \n",
       "2             1680 h                          actividades de salud   \n",
       "3              168 h                  administración y legislación   \n",
       "4              168 h                  administración y legislación   \n",
       "5              168 h                  administración y legislación   \n",
       "6              168 h                  administración y legislación   \n",
       "7              168 h                  administración y legislación   \n",
       "8              168 h                  administración y legislación   \n",
       "9              168 h  tecnologías de la información y comunicación   \n",
       "\n",
       "   mean_by_ac  mean_by_area  mean_by_ciudad  mean_by_ma  mean_by_mc  \\\n",
       "0  111.787234    360.549451      168.482353  113.291667       309.0   \n",
       "1   88.125000    131.551724      168.482353  204.000000       309.0   \n",
       "2  910.000000    514.210526      168.482353   70.000000       309.0   \n",
       "3  111.787234    360.549451      168.482353  113.291667       309.0   \n",
       "4  111.787234    360.549451      168.482353  113.291667       309.0   \n",
       "5  111.787234    360.549451      168.482353  113.291667       309.0   \n",
       "6  111.787234    360.549451      168.482353  113.291667       309.0   \n",
       "7  111.787234    360.549451      168.482353  113.291667       309.0   \n",
       "8  111.787234    360.549451      168.482353  113.291667       309.0   \n",
       "9  209.750000    320.060606      168.482353  266.538462       309.0   \n",
       "\n",
       "   mean_by_mod modalidad_set  precio_set  \n",
       "0   170.349059        online         NaN  \n",
       "1   170.349059        online         NaN  \n",
       "2   170.349059        online         NaN  \n",
       "3   170.349059        online         NaN  \n",
       "4   170.349059        online         NaN  \n",
       "5   170.349059        online         NaN  \n",
       "6   170.349059        online         NaN  \n",
       "7   170.349059        online         NaN  \n",
       "8   170.349059        online         NaN  \n",
       "9   170.349059        online         NaN  "
      ]
     },
     "execution_count": 241,
     "metadata": {},
     "output_type": "execute_result"
    }
   ],
   "source": [
    "df_test.head(10)"
   ]
  },
  {
   "cell_type": "code",
   "execution_count": 199,
   "id": "808c9e18-9192-4c17-9d82-dc2896107773",
   "metadata": {},
   "outputs": [
    {
     "data": {
      "text/plain": [
       "{'presencial': 761.0,\n",
       " 'virtual': 463.5247524752475,\n",
       " 'online': 170.34905882352942}"
      ]
     },
     "execution_count": 199,
     "metadata": {},
     "output_type": "execute_result"
    }
   ],
   "source": [
    "mean_by_mod"
   ]
  },
  {
   "cell_type": "code",
   "execution_count": 201,
   "id": "662749f1-3f0b-4efa-9f4b-080115fdf392",
   "metadata": {},
   "outputs": [],
   "source": [
    "mean_by_mod = {}\n",
    "mean_by_area = {}\n",
    "mean_by_ciudad = {}\n",
    "mean_by_ma = {}\n",
    "mean_by_ac = {}\n",
    "mean_by_mc = {}\n",
    "mean_by_mac = {}\n",
    "mean_list = {'mean_by_mod':mean_by_mod,'mean_by_area':mean_by_area,'mean_by_ciudad':mean_by_ciudad,'mean_by_ma':mean_by_ma,'mean_by_ac':mean_by_ac,'mean_by_mc':mean_by_mc,'mean_by_mac':mean_by_mac}\n",
    "for val in df_coec['modalidad_set'].value_counts().index.array:\n",
    "    mean_by_mod[val]=df_coec[df_coec['modalidad_set']==val]['precio_set'].mean()\n",
    "    for val2 in df_coec['area_familia'].value_counts().index.array:\n",
    "        mean_by_ma[val+'|'+val2]=df_coec[(df_coec['area_familia']==val2)&(df_coec['modalidad_set']==val)]['precio_set'].mean()\n",
    "        for val3 in df_coec['Ciudad'].value_counts().index.array:\n",
    "            mean_by_mac[val+'|'+val2+'|'+val3]=df_coec[(df_coec['area_familia']==val2)&(df_coec['modalidad_set']==val)&(df_coec['Ciudad']==val3)]['precio_set'].mean()\n",
    "        \n",
    "        \n",
    "for val in df_coec['area_familia'].value_counts().index.array:\n",
    "    mean_by_area[val]=df_coec[df_coec['area_familia']==val]['precio_set'].mean()\n",
    "    for val2 in df_coec['Ciudad'].value_counts().index.array:\n",
    "        mean_by_ac[val+'|'+val2]=df_coec[(df_coec['Ciudad']==val2)&(df_coec['area_familia']==val)]['precio_set'].mean()\n",
    "        \n",
    "for val in df_coec['Ciudad'].value_counts().index.array:\n",
    "    mean_by_ciudad[val]=df_coec[df_coec['Ciudad']==val]['precio_set'].mean()\n",
    "    for val2 in df_coec['modalidad_set'].value_counts().index.array:\n",
    "        mean_by_mc[val2+'|'+val]=df_coec[(df_coec['modalidad_set']==val2)&(df_coec['Ciudad']==val)]['precio_set'].mean()"
   ]
  },
  {
   "cell_type": "code",
   "execution_count": null,
   "id": "3773fadd-b4b3-412e-b879-066d8eed03ee",
   "metadata": {},
   "outputs": [],
   "source": []
  },
  {
   "cell_type": "code",
   "execution_count": 35,
   "id": "4d8c66f1-f1ac-4196-9e5a-ab22d095262f",
   "metadata": {},
   "outputs": [
    {
     "data": {
      "text/plain": [
       "16 h                        46\n",
       "32 h                        43\n",
       "120 h                       40\n",
       "24 h                        30\n",
       "48 h                        30\n",
       "                            ..\n",
       "144 h                        1\n",
       "1 a 4 horas al dia           1\n",
       "21/12/2020 a 07 mayo/21      1\n",
       "18:30 - 19:30                1\n",
       "sábados de 08:00 a 11:00     1\n",
       "Name: Tiempo de duración, Length: 132, dtype: int64"
      ]
     },
     "execution_count": 35,
     "metadata": {},
     "output_type": "execute_result"
    }
   ],
   "source": [
    "df_coec['Tiempo de duración'].value_counts()"
   ]
  },
  {
   "cell_type": "code",
   "execution_count": 83,
   "id": "c45364b8-ea44-4b09-9c6d-e8e9a037e963",
   "metadata": {},
   "outputs": [
    {
     "ename": "AttributeError",
     "evalue": "'numpy.ndarray' object has no attribute 'fillna'",
     "output_type": "error",
     "traceback": [
      "\u001b[1;31m---------------------------------------------------------------------------\u001b[0m",
      "\u001b[1;31mAttributeError\u001b[0m                            Traceback (most recent call last)",
      "Input \u001b[1;32mIn [83]\u001b[0m, in \u001b[0;36m<cell line: 2>\u001b[1;34m()\u001b[0m\n\u001b[0;32m      1\u001b[0m arr \u001b[38;5;241m=\u001b[39m np\u001b[38;5;241m.\u001b[39marray([\u001b[38;5;241m1\u001b[39m,\u001b[38;5;241m2\u001b[39m,\u001b[38;5;241m3\u001b[39m,\u001b[38;5;241m4\u001b[39m,np\u001b[38;5;241m.\u001b[39mnan])\n\u001b[1;32m----> 2\u001b[0m \u001b[43marr\u001b[49m\u001b[38;5;241;43m.\u001b[39;49m\u001b[43mfillna\u001b[49m()\n",
      "\u001b[1;31mAttributeError\u001b[0m: 'numpy.ndarray' object has no attribute 'fillna'"
     ]
    }
   ],
   "source": [
    "df_coec['precio_set'] = df_coec.apply(lambda x: )"
   ]
  },
  {
   "cell_type": "code",
   "execution_count": 7,
   "id": "3284b53f-d429-4b3a-97f0-b92d168f3fda",
   "metadata": {},
   "outputs": [],
   "source": [
    "df_coec.to_csv('costos_cursos_analisis.csv',index=False)"
   ]
  },
  {
   "cell_type": "code",
   "execution_count": 10,
   "id": "f68fbece-295e-4bca-a901-9df7076d6537",
   "metadata": {},
   "outputs": [],
   "source": [
    "df_curso_perfil = pd.read_csv(os.path.join(path_dwh,'dim_curso_perfil.csv'))"
   ]
  },
  {
   "cell_type": "code",
   "execution_count": null,
   "id": "d67c7f85-e182-4294-a04b-4d5ed5c1ffdf",
   "metadata": {},
   "outputs": [],
   "source": [
    "df_coec = df_coec[(df_coec['Areas de Formación'].str.contains('tecnol|tics', regex=True))]\n",
    "df_coec = df_coec[(df_coec['Precio'].str.contains('^(?:(?!llamar).)+$', regex=True))]"
   ]
  },
  {
   "cell_type": "code",
   "execution_count": 24,
   "id": "ddd09040-1093-4abe-8c12-ef4b8197eacc",
   "metadata": {},
   "outputs": [],
   "source": [
    "df_coec['carga_horaria'] = df_coec.apply(lambda x: get_hours(x['Tiempo de duración'], x['Duración programa']), axis=1)\n",
    "\n",
    "# CAMBIO MANUAL DE DATOS\n",
    "df_coec['carga_horaria'].iloc[-1] = 40"
   ]
  },
  {
   "cell_type": "code",
   "execution_count": 25,
   "id": "0c505ab0-2303-41b5-b52e-ea6cfdb35acb",
   "metadata": {},
   "outputs": [],
   "source": [
    "df_coec = df_coec.drop(['Areas de Formación','Tiempo de duración','Duración programa'],axis=1)"
   ]
  },
  {
   "cell_type": "code",
   "execution_count": 26,
   "id": "c25f468f-86ba-4bcc-aedf-419c2f2ab164",
   "metadata": {},
   "outputs": [],
   "source": [
    "df_coec['Precio'] = df_coec['Precio'].str.replace('$','',regex=True)\n",
    "df_coec['Precio'] = df_coec['Precio'].str.replace(',','',regex=True)\n",
    "df_coec['Precio'] = df_coec['Precio'].str.replace(' ','',regex=True)\n",
    "df_coec['Precio'] = df_coec['Precio'].astype('float64')"
   ]
  },
  {
   "cell_type": "code",
   "execution_count": 27,
   "id": "3989dc8e-1a64-4cf0-997c-447150bf20f9",
   "metadata": {},
   "outputs": [],
   "source": [
    "df_coec['carga_horaria'] = df_coec['carga_horaria'].astype('int32')\n",
    "df_coec['precio'] = df_coec.pop('Precio')"
   ]
  },
  {
   "cell_type": "code",
   "execution_count": 28,
   "id": "c8025aa9-210c-4004-9c89-1026458637a2",
   "metadata": {},
   "outputs": [],
   "source": [
    "df_coec['precio_por_hora'] = df_coec.apply(lambda x: np.round(x['precio']/x['carga_horaria'],decimals = 2), axis=1)"
   ]
  },
  {
   "cell_type": "code",
   "execution_count": 29,
   "id": "6f055970-2040-4b93-9ab9-b2e62a78cd33",
   "metadata": {},
   "outputs": [],
   "source": [
    "df_coec['Modalidad'] = df_coec['Modalidad'].replace({'en vivo':'online','virtual':'online'})"
   ]
  },
  {
   "cell_type": "code",
   "execution_count": 30,
   "id": "80aa1853-a4f0-4a0f-b6e8-e1dad63e3c8e",
   "metadata": {},
   "outputs": [],
   "source": [
    "df_coec = df_coec.rename(columns={'Nombre  de los Programas':'curso','Modalidad':'modalidad'})"
   ]
  },
  {
   "cell_type": "code",
   "execution_count": 32,
   "id": "9509d998-07c4-40fe-adf8-7ead4508c088",
   "metadata": {},
   "outputs": [],
   "source": [
    "df_coec.to_csv(os.path.join(path_additional_data,'costos_cursos_educacion_continua_tec.csv'),index=False)"
   ]
  },
  {
   "cell_type": "markdown",
   "id": "a0f9ce21-64fa-46c0-8080-0dafc7dc0fc5",
   "metadata": {},
   "source": [
    "Trabajar manualmente los nombres de costos_cursos_educacion_continua_tec.csv"
   ]
  },
  {
   "cell_type": "code",
   "execution_count": 33,
   "id": "3ea8924f-fa50-4185-99c3-c1cb25841927",
   "metadata": {},
   "outputs": [],
   "source": [
    "df_coec = pd.read_csv(os.path.join(path_additional_data,'costos_cursos_educacion_continua_tec_opt.csv'))\n"
   ]
  },
  {
   "cell_type": "code",
   "execution_count": 34,
   "id": "644ad88b-bad8-419f-86cb-cf44ca2f5cd6",
   "metadata": {},
   "outputs": [],
   "source": [
    "df_ccce = pd.read_csv(os.path.join(path_additional_data,'costos_de_cursos_cec_epn.csv'))\n",
    "df_ccce = df_ccce.apply(lambda x: x.astype(str).str.lower())"
   ]
  },
  {
   "cell_type": "code",
   "execution_count": 37,
   "id": "1f6d1393-7167-4c2a-aa5b-14502d31fe64",
   "metadata": {},
   "outputs": [],
   "source": [
    "df_costos_cursos = pd.concat([df_coec,df_ccce],axis=0)"
   ]
  },
  {
   "cell_type": "code",
   "execution_count": 38,
   "id": "04614ce5-77bf-4364-9305-243504e8ede7",
   "metadata": {},
   "outputs": [],
   "source": [
    "df_costos_cursos['carga_horaria']=df_costos_cursos['carga_horaria'].astype('int64')\n",
    "df_costos_cursos['precio']=df_costos_cursos['precio'].astype('float64')\n",
    "df_costos_cursos['precio_por_hora']=df_costos_cursos['precio_por_hora'].astype('float64')"
   ]
  },
  {
   "cell_type": "code",
   "execution_count": 42,
   "id": "dcfbfeac-a10c-45d8-81b2-9df00f6ae725",
   "metadata": {},
   "outputs": [],
   "source": [
    "#df_costos_cursos.head()\n",
    "#df_costos_cursos.info()"
   ]
  },
  {
   "cell_type": "code",
   "execution_count": 43,
   "id": "22179df6-c23d-4a06-b822-92f85c6a9861",
   "metadata": {},
   "outputs": [],
   "source": [
    "df_costos_cursos.to_csv(os.path.join(path_etl,'costos_estimados_cursos.csv'),index=False)"
   ]
  },
  {
   "cell_type": "markdown",
   "id": "65f6f3f1-c0cd-412b-8192-556831640b53",
   "metadata": {},
   "source": [
    "# Datos de Ubicación"
   ]
  },
  {
   "cell_type": "code",
   "execution_count": 45,
   "id": "7a1fd821-c20b-42be-a39d-5ed39126fb78",
   "metadata": {},
   "outputs": [],
   "source": [
    "df_ubicacion = pd.read_csv(os.path.join(path_additional_data,'Ubicacion.csv'))\n",
    "df_ubicacion = df_ubicacion.apply(lambda x: x.astype(str).str.lower())\n",
    "df_ubicacion = df_ubicacion.drop_duplicates()"
   ]
  },
  {
   "cell_type": "code",
   "execution_count": 9,
   "id": "86172419-42ae-4e55-bfb2-522b8de73666",
   "metadata": {},
   "outputs": [],
   "source": [
    "#df_ubicacion.head()\n",
    "#df_ubicacion.info()"
   ]
  },
  {
   "cell_type": "code",
   "execution_count": 46,
   "id": "8c4615cc-99b6-4f86-8ba9-ac935f216821",
   "metadata": {},
   "outputs": [],
   "source": [
    "df_ubicacion.to_csv(os.path.join(path_etl,'ubicacion.csv'),index=False)"
   ]
  }
 ],
 "metadata": {
  "kernelspec": {
   "display_name": "Python 3 (ipykernel)",
   "language": "python",
   "name": "python3"
  },
  "language_info": {
   "codemirror_mode": {
    "name": "ipython",
    "version": 3
   },
   "file_extension": ".py",
   "mimetype": "text/x-python",
   "name": "python",
   "nbconvert_exporter": "python",
   "pygments_lexer": "ipython3",
   "version": "3.9.12"
  }
 },
 "nbformat": 4,
 "nbformat_minor": 5
}
