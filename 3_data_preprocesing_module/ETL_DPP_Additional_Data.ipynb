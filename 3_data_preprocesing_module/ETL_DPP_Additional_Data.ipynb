{
 "cells": [
  {
   "cell_type": "markdown",
   "id": "f1e2b418-4aca-4a4e-a26c-3b205a1378e1",
   "metadata": {
    "tags": []
   },
   "source": [
    "# Importación de librerías"
   ]
  },
  {
   "cell_type": "code",
   "execution_count": 1,
   "id": "05a3b525-b942-4dec-a98d-7c7756026b06",
   "metadata": {},
   "outputs": [],
   "source": [
    "import pandas as pd\n",
    "import numpy as np\n",
    "import os"
   ]
  },
  {
   "cell_type": "markdown",
   "id": "c5a282d1-30b9-4596-a8ea-ba256015a385",
   "metadata": {
    "tags": []
   },
   "source": [
    "# Funciones"
   ]
  },
  {
   "cell_type": "code",
   "execution_count": 249,
   "id": "ef1663d7-75d3-47b5-a1c0-a91c44c43297",
   "metadata": {},
   "outputs": [],
   "source": [
    "def get_hours(x,y):\n",
    "    val = y.replace(' ','')\n",
    "    if val[-1]=='h':\n",
    "        return float(val[:-1])\n",
    "    elif val.isdigit():\n",
    "        return float(val)\n",
    "    \n",
    "    val = x.replace(' ','')\n",
    "    if val[-1]=='h':\n",
    "        return float(val[:-1])\n",
    "    elif val.isdigit():\n",
    "        return float(val)\n",
    "    else:\n",
    "        return np.nan"
   ]
  },
  {
   "cell_type": "markdown",
   "id": "96d17574-b516-4ab6-abb1-f25980277b29",
   "metadata": {
    "tags": []
   },
   "source": [
    "# Ruta de archivos"
   ]
  },
  {
   "cell_type": "code",
   "execution_count": 13,
   "id": "43150a18-fd90-4fc6-8204-44394abea52b",
   "metadata": {},
   "outputs": [],
   "source": [
    "path = os.path.abspath(os.path.join(os.getcwd(), '..','2_data_understanding_module','collecting_initial_data','existing_data','DIRTY_DATA'))\n",
    "path_additional_data = os.path.abspath(os.path.join(os.getcwd(), '..','2_data_understanding_module','collecting_initial_data','additional_data'))\n",
    "path_etl = os.path.abspath(os.path.join(os.getcwd(),'CLEANED_DATA'))\n",
    "path_dwh = os.path.abspath(os.path.join(os.getcwd(),'DATAWAREHOUSE'))"
   ]
  },
  {
   "cell_type": "markdown",
   "id": "3c935830-6c7a-4f46-8c9b-bebb7a9cc987",
   "metadata": {
    "tags": []
   },
   "source": [
    "# Costos de cursos"
   ]
  },
  {
   "cell_type": "markdown",
   "id": "e2b57d3c-3f21-4280-940e-bf8406e6bf6c",
   "metadata": {},
   "source": [
    "# Funciones"
   ]
  },
  {
   "cell_type": "code",
   "execution_count": 40,
   "id": "5605e000-5786-4470-b27b-559e3979f914",
   "metadata": {},
   "outputs": [],
   "source": [
    "def set_name_area(x):\n",
    "    if x in ['administracion','administracion y negocios','negocios y administracion','administración y legislación\\n','empresariales','gestion empresarial','facultad de cienciasadministrativas','faculta de jurisprudencia ,  ciencias']:\n",
    "        return 'administración y legislación'\n",
    "    elif x in ['salud','facultad ciencias ce la salud']:\n",
    "        return 'actividades de salud'\n",
    "    elif x in ['tecnologicos','tecnologia','tecnologia e innovacion','tecnologia e informacion','tics','tecnología de la información y comunicación',' tecnología de la información y comunicación']:\n",
    "        return 'tecnologías de la información y comunicación'\n",
    "    elif x in ['educativos','educacion','facultad de ciencias de la educacion']:\n",
    "        return 'educación y capacitación'\n",
    "    elif x in ['mecanica automotriz']:\n",
    "        return 'mecánica automotriz'\n",
    "    elif x in ['social']:\n",
    "        return 'trabajo social'\n",
    "    elif x in ['financiero','finanzas, comercio y ventas']:\n",
    "        return 'servicios financieros'\n",
    "    elif x in ['facultad  de ciencias agropecuarias']:\n",
    "        return 'industria agropecuaria'\n",
    "    elif x in ['agronomo']:\n",
    "        return 'agronomía'\n",
    "    elif x in ['comunicación']:\n",
    "        return 'comunicación y artes gráficas'\n",
    "    elif x in ['arte']:\n",
    "        return 'artes y artesanía'\n",
    "    else:\n",
    "        return 'area base'\n",
    "    "
   ]
  },
  {
   "cell_type": "code",
   "execution_count": 106,
   "id": "29383106-902c-489b-a6e0-d04ed42e7f21",
   "metadata": {},
   "outputs": [],
   "source": [
    "def set_name_modalidad(x):\n",
    "    if 'online' in x or 'on line' in x:\n",
    "        return 'online'\n",
    "    if 'presencial' in x:\n",
    "        return 'presencial'\n",
    "    if 'virtual' in x or 'en vivo' in x:\n",
    "        return 'virtual'\n",
    "    else:\n",
    "        return x\n",
    "    "
   ]
  },
  {
   "cell_type": "code",
   "execution_count": 78,
   "id": "52efbf93-6be9-42a3-a0d6-f7077a7be1ae",
   "metadata": {},
   "outputs": [],
   "source": [
    "def set_precio(x):\n",
    "    x = x.replace('$','')\n",
    "    x = x.replace(',','')\n",
    "    x = x.replace(' ','')\n",
    "    x = x.replace('-','')\n",
    "    \n",
    "    if 'llamar' in x:\n",
    "        return np.nan\n",
    "    if ''==x:\n",
    "        return np.nan\n",
    "    return float(x)\n",
    "    "
   ]
  },
  {
   "cell_type": "code",
   "execution_count": 283,
   "id": "ac76f764-b964-40ae-9b66-184696c475d8",
   "metadata": {},
   "outputs": [],
   "source": [
    "def fill_precio_na(x,y):   \n",
    "    if pd.isna(x['precio_set']):\n",
    "        if x['modalidad_set'] in y['mean_by_mod'].keys():\n",
    "            x['mean_by_mod'] = y['mean_by_mod'][x['modalidad_set']]\n",
    "            \n",
    "        if x['area_familia'] in y['mean_by_area'].keys():\n",
    "            x['mean_by_area'] =  y['mean_by_area'][x['area_familia']]\n",
    "            \n",
    "        if x['Ciudad'] in y['mean_by_ciudad'].keys():\n",
    "            x['mean_by_ciudad'] =  y['mean_by_ciudad'][x['Ciudad']]\n",
    "            \n",
    "            \n",
    "        if x['modalidad_set']+'|'+x['area_familia'] in y['mean_by_ma'].keys():\n",
    "            x['mean_by_ma'] =  y['mean_by_ma'][x['modalidad_set']+'|'+x['area_familia']]\n",
    "            \n",
    "        if x['area_familia']+'|'+x['Ciudad'] in y['mean_by_ac'].keys():\n",
    "            x['mean_by_ac'] =  y['mean_by_ac'][x['area_familia']+'|'+x['Ciudad']]\n",
    "            \n",
    "        if x['modalidad_set']+'|'+x['Ciudad'] in y['mean_by_mc'].keys():\n",
    "            x['mean_by_mc'] =  y['mean_by_mc'][x['modalidad_set']+'|'+x['Ciudad']]\n",
    "            \n",
    "            \n",
    "        #if x['area_familia']+'|'+x['modalidad_set']+'|'+x['Ciudad'] in y['mean_by_mac'].keys():\n",
    "        #    x['mean_by_mac'] =  y['mean_by_mac'][x['area_familia']+'|'+x['modalidad_set']+'|'+x['Ciudad']]\n",
    "    return x"
   ]
  },
  {
   "cell_type": "code",
   "execution_count": 269,
   "id": "662749f1-3f0b-4efa-9f4b-080115fdf392",
   "metadata": {},
   "outputs": [],
   "source": [
    "mean_by_mod = {}\n",
    "mean_by_area = {}\n",
    "mean_by_ciudad = {}\n",
    "mean_by_ma = {}\n",
    "mean_by_ac = {}\n",
    "mean_by_mc = {}\n",
    "mean_by_mac = {}\n",
    "mean_list = {'mean_by_mod':mean_by_mod,'mean_by_area':mean_by_area,'mean_by_ciudad':mean_by_ciudad,'mean_by_ma':mean_by_ma,'mean_by_ac':mean_by_ac,'mean_by_mc':mean_by_mc}\n",
    "for val in df_coec['modalidad_set'].value_counts().index.array:\n",
    "    mean_by_mod[val]=df_coec[df_coec['modalidad_set']==val]['precio_set'].mean()\n",
    "    for val2 in df_coec['area_familia'].value_counts().index.array:\n",
    "        mean_by_ma[val+'|'+val2]=df_coec[(df_coec['area_familia']==val2)&(df_coec['modalidad_set']==val)]['precio_set'].mean()\n",
    "        for val3 in df_coec['Ciudad'].value_counts().index.array:\n",
    "            mean_by_mac[val+'|'+val2+'|'+val3]=df_coec[(df_coec['area_familia']==val2)&(df_coec['modalidad_set']==val)&(df_coec['Ciudad']==val3)]['precio_set'].mean()\n",
    "        \n",
    "        \n",
    "for val in df_coec['area_familia'].value_counts().index.array:\n",
    "    mean_by_area[val]=df_coec[df_coec['area_familia']==val]['precio_set'].mean()\n",
    "    for val2 in df_coec['Ciudad'].value_counts().index.array:\n",
    "        mean_by_ac[val+'|'+val2]=df_coec[(df_coec['Ciudad']==val2)&(df_coec['area_familia']==val)]['precio_set'].mean()\n",
    "        \n",
    "for val in df_coec['Ciudad'].value_counts().index.array:\n",
    "    mean_by_ciudad[val]=df_coec[df_coec['Ciudad']==val]['precio_set'].mean()\n",
    "    for val2 in df_coec['modalidad_set'].value_counts().index.array:\n",
    "        mean_by_mc[val2+'|'+val]=df_coec[(df_coec['modalidad_set']==val2)&(df_coec['Ciudad']==val)]['precio_set'].mean()"
   ]
  },
  {
   "cell_type": "code",
   "execution_count": 278,
   "id": "e3875518-4d09-49d9-aafa-a390140c22fa",
   "metadata": {},
   "outputs": [],
   "source": [
    "# Selecting Data\n",
    "df_coec = pd.read_csv(os.path.join(path_additional_data,'costo_oferta_educacion_continua.csv'))\n",
    "df_coec = df_coec[['Ciudad','Areas de Formación', 'Nombre  de los Programas','Modalidad', 'Tiempo de duración','Duración programa',' Precio ']]\n",
    "df_coec = df_coec.rename(columns={' Precio ':'Precio'})\n",
    "for col in df_coec.columns:\n",
    "    df_coec[col] = df_coec[col].astype('str').str.lower()\n",
    "    aux = df_coec[col][0]\n",
    "    for i in range(df_coec.shape[0]):\n",
    "        if pd.isna(df_coec[col][i]) or df_coec[col][i]=='nan' :\n",
    "            df_coec[col][i] = aux\n",
    "        else:\n",
    "            aux = df_coec[col][i]\n",
    "            \n"
   ]
  },
  {
   "cell_type": "code",
   "execution_count": 279,
   "id": "1d224a0e-b10e-49dd-bd71-de103d200956",
   "metadata": {},
   "outputs": [],
   "source": [
    "df_coec['area_familia'] = df_coec.apply(lambda x: set_name_area(x['Areas de Formación']), axis=1 )"
   ]
  },
  {
   "cell_type": "code",
   "execution_count": 280,
   "id": "8bb8c612-7913-4476-b5ea-221ee5278ce4",
   "metadata": {},
   "outputs": [],
   "source": [
    "df_coec['modalidad_set'] = df_coec.apply(lambda x: set_name_modalidad(x['Modalidad']), axis=1 )"
   ]
  },
  {
   "cell_type": "code",
   "execution_count": 281,
   "id": "78735798-a6aa-465f-9cf4-9fd45f528a6d",
   "metadata": {},
   "outputs": [],
   "source": [
    "df_coec['precio_set'] = df_coec.apply(lambda x: set_precio(x['Precio']), axis=1 )"
   ]
  },
  {
   "cell_type": "code",
   "execution_count": 284,
   "id": "42a0c602-67f5-4e6f-aac9-8f4176f2376a",
   "metadata": {},
   "outputs": [],
   "source": [
    "df_coec = df_coec.apply(lambda x: fill_precio_na(x,mean_list), axis=1)"
   ]
  },
  {
   "cell_type": "code",
   "execution_count": 285,
   "id": "557dc96f-c712-4b6a-8407-295d6caa62e6",
   "metadata": {},
   "outputs": [],
   "source": [
    "df_coec['carga_horaria'] = df_coec.apply(lambda x: get_hours(x['Tiempo de duración'], x['Duración programa']), axis=1)"
   ]
  },
  {
   "cell_type": "code",
   "execution_count": 297,
   "id": "da96557e-78af-4dba-8ebb-90520ca2a5bb",
   "metadata": {},
   "outputs": [],
   "source": [
    "df_coec['carga_horaria'] = df_coec['carga_horaria'].fillna(df_coec['carga_horaria'].mean())"
   ]
  },
  {
   "cell_type": "code",
   "execution_count": 298,
   "id": "d9d4fa75-43b7-46b5-a88a-9452e344f9e5",
   "metadata": {},
   "outputs": [],
   "source": [
    "df_coec['precio_por_hora'] = df_coec.apply(lambda x: np.round(x['precio_set']/x['carga_horaria'],decimals = 2), axis=1)\n",
    "df_coec['precio_por_hora'] = df_coec['precio_por_hora'].fillna(df_coec['precio_por_hora'].mean())"
   ]
  },
  {
   "cell_type": "code",
   "execution_count": 308,
   "id": "b696b2d7-914a-47ba-a09f-dd3e6f358342",
   "metadata": {},
   "outputs": [],
   "source": [
    "def get_prices_by(x,y):\n",
    "    for mean_by in y.keys():\n",
    "        x['precio_'+mean_by] =  np.round(x[mean_by]/x['carga_horaria'],decimals = 2)\n",
    "    return x"
   ]
  },
  {
   "cell_type": "code",
   "execution_count": 309,
   "id": "dc675b93-0642-4944-adde-cce56fdebe6c",
   "metadata": {},
   "outputs": [],
   "source": [
    "df_coec = df_coec.apply(lambda x: get_prices_by(x,mean_list), axis=1)"
   ]
  },
  {
   "cell_type": "code",
   "execution_count": 315,
   "id": "3a9fd63e-4715-4b8c-b278-820f2fae6f3d",
   "metadata": {},
   "outputs": [],
   "source": [
    "df_coec_final = df_coec[['Ciudad','area_familia','modalidad_set','carga_horaria','precio_por_hora','precio_mean_by_mod','precio_mean_by_area','precio_mean_by_ciudad',\t'precio_mean_by_ma','precio_mean_by_ac','precio_mean_by_mc']]"
   ]
  },
  {
   "cell_type": "code",
   "execution_count": 316,
   "id": "930410df-ec8c-422f-8bbf-099585c85765",
   "metadata": {},
   "outputs": [],
   "source": [
    "df_coec_final = df_coec_final.rename(columns={'Ciudad':'ciudad'})"
   ]
  },
  {
   "cell_type": "code",
   "execution_count": 317,
   "id": "0c5d3fce-7212-4f33-abe0-64f49290fd28",
   "metadata": {},
   "outputs": [
    {
     "data": {
      "text/html": [
       "<div>\n",
       "<style scoped>\n",
       "    .dataframe tbody tr th:only-of-type {\n",
       "        vertical-align: middle;\n",
       "    }\n",
       "\n",
       "    .dataframe tbody tr th {\n",
       "        vertical-align: top;\n",
       "    }\n",
       "\n",
       "    .dataframe thead th {\n",
       "        text-align: right;\n",
       "    }\n",
       "</style>\n",
       "<table border=\"1\" class=\"dataframe\">\n",
       "  <thead>\n",
       "    <tr style=\"text-align: right;\">\n",
       "      <th></th>\n",
       "      <th>ciudad</th>\n",
       "      <th>area_familia</th>\n",
       "      <th>modalidad_set</th>\n",
       "      <th>carga_horaria</th>\n",
       "      <th>precio_por_hora</th>\n",
       "      <th>precio_mean_by_mod</th>\n",
       "      <th>precio_mean_by_area</th>\n",
       "      <th>precio_mean_by_ciudad</th>\n",
       "      <th>precio_mean_by_ma</th>\n",
       "      <th>precio_mean_by_ac</th>\n",
       "      <th>precio_mean_by_mc</th>\n",
       "    </tr>\n",
       "  </thead>\n",
       "  <tbody>\n",
       "    <tr>\n",
       "      <th>0</th>\n",
       "      <td>quito</td>\n",
       "      <td>administración y legislación</td>\n",
       "      <td>online</td>\n",
       "      <td>1736.0</td>\n",
       "      <td>6.875873</td>\n",
       "      <td>0.10</td>\n",
       "      <td>0.21</td>\n",
       "      <td>0.1</td>\n",
       "      <td>0.07</td>\n",
       "      <td>0.06</td>\n",
       "      <td>0.18</td>\n",
       "    </tr>\n",
       "    <tr>\n",
       "      <th>1</th>\n",
       "      <td>quito</td>\n",
       "      <td>educación y capacitación</td>\n",
       "      <td>online</td>\n",
       "      <td>1680.0</td>\n",
       "      <td>6.875873</td>\n",
       "      <td>0.10</td>\n",
       "      <td>0.08</td>\n",
       "      <td>0.1</td>\n",
       "      <td>0.12</td>\n",
       "      <td>0.05</td>\n",
       "      <td>0.18</td>\n",
       "    </tr>\n",
       "    <tr>\n",
       "      <th>2</th>\n",
       "      <td>quito</td>\n",
       "      <td>actividades de salud</td>\n",
       "      <td>online</td>\n",
       "      <td>1680.0</td>\n",
       "      <td>6.875873</td>\n",
       "      <td>0.10</td>\n",
       "      <td>0.31</td>\n",
       "      <td>0.1</td>\n",
       "      <td>0.04</td>\n",
       "      <td>0.54</td>\n",
       "      <td>0.18</td>\n",
       "    </tr>\n",
       "    <tr>\n",
       "      <th>3</th>\n",
       "      <td>quito</td>\n",
       "      <td>administración y legislación</td>\n",
       "      <td>online</td>\n",
       "      <td>168.0</td>\n",
       "      <td>6.875873</td>\n",
       "      <td>1.01</td>\n",
       "      <td>2.15</td>\n",
       "      <td>1.0</td>\n",
       "      <td>0.67</td>\n",
       "      <td>0.67</td>\n",
       "      <td>1.84</td>\n",
       "    </tr>\n",
       "    <tr>\n",
       "      <th>4</th>\n",
       "      <td>quito</td>\n",
       "      <td>administración y legislación</td>\n",
       "      <td>online</td>\n",
       "      <td>168.0</td>\n",
       "      <td>6.875873</td>\n",
       "      <td>1.01</td>\n",
       "      <td>2.15</td>\n",
       "      <td>1.0</td>\n",
       "      <td>0.67</td>\n",
       "      <td>0.67</td>\n",
       "      <td>1.84</td>\n",
       "    </tr>\n",
       "    <tr>\n",
       "      <th>5</th>\n",
       "      <td>quito</td>\n",
       "      <td>administración y legislación</td>\n",
       "      <td>online</td>\n",
       "      <td>168.0</td>\n",
       "      <td>6.875873</td>\n",
       "      <td>1.01</td>\n",
       "      <td>2.15</td>\n",
       "      <td>1.0</td>\n",
       "      <td>0.67</td>\n",
       "      <td>0.67</td>\n",
       "      <td>1.84</td>\n",
       "    </tr>\n",
       "    <tr>\n",
       "      <th>6</th>\n",
       "      <td>quito</td>\n",
       "      <td>administración y legislación</td>\n",
       "      <td>online</td>\n",
       "      <td>168.0</td>\n",
       "      <td>6.875873</td>\n",
       "      <td>1.01</td>\n",
       "      <td>2.15</td>\n",
       "      <td>1.0</td>\n",
       "      <td>0.67</td>\n",
       "      <td>0.67</td>\n",
       "      <td>1.84</td>\n",
       "    </tr>\n",
       "    <tr>\n",
       "      <th>7</th>\n",
       "      <td>quito</td>\n",
       "      <td>administración y legislación</td>\n",
       "      <td>online</td>\n",
       "      <td>168.0</td>\n",
       "      <td>6.875873</td>\n",
       "      <td>1.01</td>\n",
       "      <td>2.15</td>\n",
       "      <td>1.0</td>\n",
       "      <td>0.67</td>\n",
       "      <td>0.67</td>\n",
       "      <td>1.84</td>\n",
       "    </tr>\n",
       "    <tr>\n",
       "      <th>8</th>\n",
       "      <td>quito</td>\n",
       "      <td>administración y legislación</td>\n",
       "      <td>online</td>\n",
       "      <td>168.0</td>\n",
       "      <td>6.875873</td>\n",
       "      <td>1.01</td>\n",
       "      <td>2.15</td>\n",
       "      <td>1.0</td>\n",
       "      <td>0.67</td>\n",
       "      <td>0.67</td>\n",
       "      <td>1.84</td>\n",
       "    </tr>\n",
       "    <tr>\n",
       "      <th>9</th>\n",
       "      <td>quito</td>\n",
       "      <td>tecnologías de la información y comunicación</td>\n",
       "      <td>online</td>\n",
       "      <td>168.0</td>\n",
       "      <td>6.875873</td>\n",
       "      <td>1.01</td>\n",
       "      <td>1.91</td>\n",
       "      <td>1.0</td>\n",
       "      <td>1.59</td>\n",
       "      <td>1.25</td>\n",
       "      <td>1.84</td>\n",
       "    </tr>\n",
       "  </tbody>\n",
       "</table>\n",
       "</div>"
      ],
      "text/plain": [
       "  ciudad                                  area_familia modalidad_set  \\\n",
       "0  quito                  administración y legislación        online   \n",
       "1  quito                      educación y capacitación        online   \n",
       "2  quito                          actividades de salud        online   \n",
       "3  quito                  administración y legislación        online   \n",
       "4  quito                  administración y legislación        online   \n",
       "5  quito                  administración y legislación        online   \n",
       "6  quito                  administración y legislación        online   \n",
       "7  quito                  administración y legislación        online   \n",
       "8  quito                  administración y legislación        online   \n",
       "9  quito  tecnologías de la información y comunicación        online   \n",
       "\n",
       "   carga_horaria  precio_por_hora  precio_mean_by_mod  precio_mean_by_area  \\\n",
       "0         1736.0         6.875873                0.10                 0.21   \n",
       "1         1680.0         6.875873                0.10                 0.08   \n",
       "2         1680.0         6.875873                0.10                 0.31   \n",
       "3          168.0         6.875873                1.01                 2.15   \n",
       "4          168.0         6.875873                1.01                 2.15   \n",
       "5          168.0         6.875873                1.01                 2.15   \n",
       "6          168.0         6.875873                1.01                 2.15   \n",
       "7          168.0         6.875873                1.01                 2.15   \n",
       "8          168.0         6.875873                1.01                 2.15   \n",
       "9          168.0         6.875873                1.01                 1.91   \n",
       "\n",
       "   precio_mean_by_ciudad  precio_mean_by_ma  precio_mean_by_ac  \\\n",
       "0                    0.1               0.07               0.06   \n",
       "1                    0.1               0.12               0.05   \n",
       "2                    0.1               0.04               0.54   \n",
       "3                    1.0               0.67               0.67   \n",
       "4                    1.0               0.67               0.67   \n",
       "5                    1.0               0.67               0.67   \n",
       "6                    1.0               0.67               0.67   \n",
       "7                    1.0               0.67               0.67   \n",
       "8                    1.0               0.67               0.67   \n",
       "9                    1.0               1.59               1.25   \n",
       "\n",
       "   precio_mean_by_mc  \n",
       "0               0.18  \n",
       "1               0.18  \n",
       "2               0.18  \n",
       "3               1.84  \n",
       "4               1.84  \n",
       "5               1.84  \n",
       "6               1.84  \n",
       "7               1.84  \n",
       "8               1.84  \n",
       "9               1.84  "
      ]
     },
     "execution_count": 317,
     "metadata": {},
     "output_type": "execute_result"
    }
   ],
   "source": [
    "df_coec_final.head(10)"
   ]
  },
  {
   "cell_type": "code",
   "execution_count": 7,
   "id": "3284b53f-d429-4b3a-97f0-b92d168f3fda",
   "metadata": {},
   "outputs": [],
   "source": [
    "df_coec.to_csv('costos_cursos_analisis.csv',index=False)"
   ]
  },
  {
   "cell_type": "code",
   "execution_count": 25,
   "id": "0c505ab0-2303-41b5-b52e-ea6cfdb35acb",
   "metadata": {},
   "outputs": [],
   "source": [
    "df_coec = df_coec.drop(['Areas de Formación','Tiempo de duración','Duración programa'],axis=1)"
   ]
  },
  {
   "cell_type": "code",
   "execution_count": 27,
   "id": "3989dc8e-1a64-4cf0-997c-447150bf20f9",
   "metadata": {},
   "outputs": [],
   "source": [
    "df_coec['carga_horaria'] = df_coec['carga_horaria'].astype('int32')\n",
    "df_coec['precio'] = df_coec.pop('Precio')"
   ]
  },
  {
   "cell_type": "code",
   "execution_count": 28,
   "id": "c8025aa9-210c-4004-9c89-1026458637a2",
   "metadata": {},
   "outputs": [],
   "source": [
    "df_coec['precio_por_hora'] = df_coec.apply(lambda x: np.round(x['precio']/x['carga_horaria'],decimals = 2), axis=1)"
   ]
  },
  {
   "cell_type": "code",
   "execution_count": 29,
   "id": "6f055970-2040-4b93-9ab9-b2e62a78cd33",
   "metadata": {},
   "outputs": [],
   "source": [
    "df_coec['Modalidad'] = df_coec['Modalidad'].replace({'en vivo':'online','virtual':'online'})"
   ]
  },
  {
   "cell_type": "code",
   "execution_count": 30,
   "id": "80aa1853-a4f0-4a0f-b6e8-e1dad63e3c8e",
   "metadata": {},
   "outputs": [],
   "source": [
    "df_coec = df_coec.rename(columns={'Nombre  de los Programas':'curso','Modalidad':'modalidad'})"
   ]
  },
  {
   "cell_type": "code",
   "execution_count": 32,
   "id": "9509d998-07c4-40fe-adf8-7ead4508c088",
   "metadata": {},
   "outputs": [],
   "source": [
    "df_coec.to_csv(os.path.join(path_additional_data,'costos_cursos_educacion_continua_tec.csv'),index=False)"
   ]
  },
  {
   "cell_type": "markdown",
   "id": "a0f9ce21-64fa-46c0-8080-0dafc7dc0fc5",
   "metadata": {},
   "source": [
    "Trabajar manualmente los nombres de costos_cursos_educacion_continua_tec.csv"
   ]
  },
  {
   "cell_type": "code",
   "execution_count": 33,
   "id": "3ea8924f-fa50-4185-99c3-c1cb25841927",
   "metadata": {},
   "outputs": [],
   "source": [
    "df_coec = pd.read_csv(os.path.join(path_additional_data,'costos_cursos_educacion_continua_tec_opt.csv'))\n"
   ]
  },
  {
   "cell_type": "code",
   "execution_count": 34,
   "id": "644ad88b-bad8-419f-86cb-cf44ca2f5cd6",
   "metadata": {},
   "outputs": [],
   "source": [
    "df_ccce = pd.read_csv(os.path.join(path_additional_data,'costos_de_cursos_cec_epn.csv'))\n",
    "df_ccce = df_ccce.apply(lambda x: x.astype(str).str.lower())"
   ]
  },
  {
   "cell_type": "code",
   "execution_count": 37,
   "id": "1f6d1393-7167-4c2a-aa5b-14502d31fe64",
   "metadata": {},
   "outputs": [],
   "source": [
    "df_costos_cursos = pd.concat([df_coec,df_ccce],axis=0)"
   ]
  },
  {
   "cell_type": "code",
   "execution_count": 38,
   "id": "04614ce5-77bf-4364-9305-243504e8ede7",
   "metadata": {},
   "outputs": [],
   "source": [
    "df_costos_cursos['carga_horaria']=df_costos_cursos['carga_horaria'].astype('int64')\n",
    "df_costos_cursos['precio']=df_costos_cursos['precio'].astype('float64')\n",
    "df_costos_cursos['precio_por_hora']=df_costos_cursos['precio_por_hora'].astype('float64')"
   ]
  },
  {
   "cell_type": "code",
   "execution_count": 42,
   "id": "dcfbfeac-a10c-45d8-81b2-9df00f6ae725",
   "metadata": {},
   "outputs": [],
   "source": [
    "#df_costos_cursos.head()\n",
    "#df_costos_cursos.info()"
   ]
  },
  {
   "cell_type": "code",
   "execution_count": 43,
   "id": "22179df6-c23d-4a06-b822-92f85c6a9861",
   "metadata": {},
   "outputs": [],
   "source": [
    "df_costos_cursos.to_csv(os.path.join(path_etl,'costos_estimados_cursos.csv'),index=False)"
   ]
  },
  {
   "cell_type": "markdown",
   "id": "65f6f3f1-c0cd-412b-8192-556831640b53",
   "metadata": {},
   "source": [
    "# Datos de Ubicación"
   ]
  },
  {
   "cell_type": "code",
   "execution_count": 45,
   "id": "7a1fd821-c20b-42be-a39d-5ed39126fb78",
   "metadata": {},
   "outputs": [],
   "source": [
    "df_ubicacion = pd.read_csv(os.path.join(path_additional_data,'Ubicacion.csv'))\n",
    "df_ubicacion = df_ubicacion.apply(lambda x: x.astype(str).str.lower())\n",
    "df_ubicacion = df_ubicacion.drop_duplicates()"
   ]
  },
  {
   "cell_type": "code",
   "execution_count": 9,
   "id": "86172419-42ae-4e55-bfb2-522b8de73666",
   "metadata": {},
   "outputs": [],
   "source": [
    "#df_ubicacion.head()\n",
    "#df_ubicacion.info()"
   ]
  },
  {
   "cell_type": "code",
   "execution_count": 46,
   "id": "8c4615cc-99b6-4f86-8ba9-ac935f216821",
   "metadata": {},
   "outputs": [],
   "source": [
    "df_ubicacion.to_csv(os.path.join(path_etl,'ubicacion.csv'),index=False)"
   ]
  }
 ],
 "metadata": {
  "kernelspec": {
   "display_name": "Python 3 (ipykernel)",
   "language": "python",
   "name": "python3"
  },
  "language_info": {
   "codemirror_mode": {
    "name": "ipython",
    "version": 3
   },
   "file_extension": ".py",
   "mimetype": "text/x-python",
   "name": "python",
   "nbconvert_exporter": "python",
   "pygments_lexer": "ipython3",
   "version": "3.9.12"
  }
 },
 "nbformat": 4,
 "nbformat_minor": 5
}
