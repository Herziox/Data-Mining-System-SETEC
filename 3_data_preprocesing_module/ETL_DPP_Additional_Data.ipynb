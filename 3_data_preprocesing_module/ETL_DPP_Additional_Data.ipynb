{
 "cells": [
  {
   "cell_type": "markdown",
   "id": "f1e2b418-4aca-4a4e-a26c-3b205a1378e1",
   "metadata": {
    "tags": []
   },
   "source": [
    "# Importación de librerías"
   ]
  },
  {
   "cell_type": "code",
   "execution_count": 2,
   "id": "05a3b525-b942-4dec-a98d-7c7756026b06",
   "metadata": {},
   "outputs": [],
   "source": [
    "import pandas as pd\n",
    "import numpy as np\n",
    "import os"
   ]
  },
  {
   "cell_type": "markdown",
   "id": "c5a282d1-30b9-4596-a8ea-ba256015a385",
   "metadata": {
    "tags": []
   },
   "source": [
    "# Funciones"
   ]
  },
  {
   "cell_type": "code",
   "execution_count": 13,
   "id": "ef1663d7-75d3-47b5-a1c0-a91c44c43297",
   "metadata": {},
   "outputs": [],
   "source": [
    "def get_hours(x,y):\n",
    "    val = y.replace(' ','')\n",
    "    if val[-1]=='h':\n",
    "        return val[:-1]\n",
    "    elif val.isdigit():\n",
    "        return val\n",
    "    \n",
    "    val = x.replace(' ','')\n",
    "    if val[-1]=='h':\n",
    "        return val[:-1]\n",
    "    elif val.isdigit():\n",
    "        return val\n",
    "    else:\n",
    "        return val"
   ]
  },
  {
   "cell_type": "markdown",
   "id": "96d17574-b516-4ab6-abb1-f25980277b29",
   "metadata": {
    "tags": []
   },
   "source": [
    "# Ruta de archivos"
   ]
  },
  {
   "cell_type": "code",
   "execution_count": 3,
   "id": "43150a18-fd90-4fc6-8204-44394abea52b",
   "metadata": {},
   "outputs": [],
   "source": [
    "path = os.path.abspath(os.path.join(os.getcwd(), '..','2_data_understanding_module','collecting_initial_data','existing_data','DIRTY_DATA'))\n",
    "path_additional_data = os.path.abspath(os.path.join(os.getcwd(), '..','2_data_understanding_module','collecting_initial_data','additional_data'))\n",
    "path_etl = os.path.abspath(os.path.join(os.getcwd(),'CLEANED_DATA'))"
   ]
  },
  {
   "cell_type": "markdown",
   "id": "3c935830-6c7a-4f46-8c9b-bebb7a9cc987",
   "metadata": {
    "tags": []
   },
   "source": [
    "# Costos de cursos"
   ]
  },
  {
   "cell_type": "code",
   "execution_count": 23,
   "id": "e3875518-4d09-49d9-aafa-a390140c22fa",
   "metadata": {},
   "outputs": [],
   "source": [
    "# Selecting Data\n",
    "df_coec = pd.read_csv(os.path.join(path_additional_data,'costo_oferta_educacion_continua.csv'))\n",
    "df_coec = df_coec[['Areas de Formación', 'Nombre  de los Programas','Modalidad', 'Tiempo de duración','Duración programa',' Precio ']]\n",
    "df_coec = df_coec.rename(columns={' Precio ':'Precio'})\n",
    "for col in df_coec.columns:\n",
    "    df_coec[col] = df_coec[col].str.lower()\n",
    "    aux = df_coec[col][0]\n",
    "    for i in range(df_coec.shape[0]):\n",
    "        if pd.isna(df_coec[col][i]):\n",
    "            df_coec[col][i] = aux\n",
    "        else:\n",
    "            aux = df_coec[col][i]\n",
    "            \n",
    "\n",
    "df_coec = df_coec[(df_coec['Areas de Formación'].str.contains('tecnol|tics', regex=True))]\n",
    "df_coec = df_coec[(df_coec['Precio'].str.contains('^(?:(?!llamar).)+$', regex=True))]"
   ]
  },
  {
   "cell_type": "code",
   "execution_count": 24,
   "id": "ddd09040-1093-4abe-8c12-ef4b8197eacc",
   "metadata": {},
   "outputs": [],
   "source": [
    "df_coec['carga_horaria'] = df_coec.apply(lambda x: get_hours(x['Tiempo de duración'], x['Duración programa']), axis=1)\n",
    "\n",
    "# CAMBIO MANUAL DE DATOS\n",
    "df_coec['carga_horaria'].iloc[-1] = 40"
   ]
  },
  {
   "cell_type": "code",
   "execution_count": 25,
   "id": "0c505ab0-2303-41b5-b52e-ea6cfdb35acb",
   "metadata": {},
   "outputs": [],
   "source": [
    "df_coec = df_coec.drop(['Areas de Formación','Tiempo de duración','Duración programa'],axis=1)"
   ]
  },
  {
   "cell_type": "code",
   "execution_count": 26,
   "id": "c25f468f-86ba-4bcc-aedf-419c2f2ab164",
   "metadata": {},
   "outputs": [],
   "source": [
    "df_coec['Precio'] = df_coec['Precio'].str.replace('$','',regex=True)\n",
    "df_coec['Precio'] = df_coec['Precio'].str.replace(',','',regex=True)\n",
    "df_coec['Precio'] = df_coec['Precio'].str.replace(' ','',regex=True)\n",
    "df_coec['Precio'] = df_coec['Precio'].astype('float64')"
   ]
  },
  {
   "cell_type": "code",
   "execution_count": 27,
   "id": "3989dc8e-1a64-4cf0-997c-447150bf20f9",
   "metadata": {},
   "outputs": [],
   "source": [
    "df_coec['carga_horaria'] = df_coec['carga_horaria'].astype('int32')\n",
    "df_coec['precio'] = df_coec.pop('Precio')"
   ]
  },
  {
   "cell_type": "code",
   "execution_count": 28,
   "id": "c8025aa9-210c-4004-9c89-1026458637a2",
   "metadata": {},
   "outputs": [],
   "source": [
    "df_coec['precio_por_hora'] = df_coec.apply(lambda x: np.round(x['precio']/x['carga_horaria'],decimals = 2), axis=1)"
   ]
  },
  {
   "cell_type": "code",
   "execution_count": 29,
   "id": "6f055970-2040-4b93-9ab9-b2e62a78cd33",
   "metadata": {},
   "outputs": [],
   "source": [
    "df_coec['Modalidad'] = df_coec['Modalidad'].replace({'en vivo':'online','virtual':'online'})"
   ]
  },
  {
   "cell_type": "code",
   "execution_count": 30,
   "id": "80aa1853-a4f0-4a0f-b6e8-e1dad63e3c8e",
   "metadata": {},
   "outputs": [],
   "source": [
    "df_coec = df_coec.rename(columns={'Nombre  de los Programas':'curso','Modalidad':'modalidad'})"
   ]
  },
  {
   "cell_type": "code",
   "execution_count": 32,
   "id": "9509d998-07c4-40fe-adf8-7ead4508c088",
   "metadata": {},
   "outputs": [],
   "source": [
    "df_coec.to_csv(os.path.join(path_additional_data,'costos_cursos_educacion_continua_tec.csv'),index=False)"
   ]
  },
  {
   "cell_type": "markdown",
   "id": "a0f9ce21-64fa-46c0-8080-0dafc7dc0fc5",
   "metadata": {},
   "source": [
    "Trabajar manualmente los nombres de costos_cursos_educacion_continua_tec.csv"
   ]
  },
  {
   "cell_type": "code",
   "execution_count": 33,
   "id": "3ea8924f-fa50-4185-99c3-c1cb25841927",
   "metadata": {},
   "outputs": [],
   "source": [
    "df_coec = pd.read_csv(os.path.join(path_additional_data,'costos_cursos_educacion_continua_tec_opt.csv'))\n"
   ]
  },
  {
   "cell_type": "code",
   "execution_count": 34,
   "id": "644ad88b-bad8-419f-86cb-cf44ca2f5cd6",
   "metadata": {},
   "outputs": [],
   "source": [
    "df_ccce = pd.read_csv(os.path.join(path_additional_data,'costos_de_cursos_cec_epn.csv'))\n",
    "df_ccce = df_ccce.apply(lambda x: x.astype(str).str.lower())"
   ]
  },
  {
   "cell_type": "code",
   "execution_count": 37,
   "id": "1f6d1393-7167-4c2a-aa5b-14502d31fe64",
   "metadata": {},
   "outputs": [],
   "source": [
    "df_costos_cursos = pd.concat([df_coec,df_ccce],axis=0)"
   ]
  },
  {
   "cell_type": "code",
   "execution_count": 38,
   "id": "04614ce5-77bf-4364-9305-243504e8ede7",
   "metadata": {},
   "outputs": [],
   "source": [
    "df_costos_cursos['carga_horaria']=df_costos_cursos['carga_horaria'].astype('int64')\n",
    "df_costos_cursos['precio']=df_costos_cursos['precio'].astype('float64')\n",
    "df_costos_cursos['precio_por_hora']=df_costos_cursos['precio_por_hora'].astype('float64')"
   ]
  },
  {
   "cell_type": "code",
   "execution_count": 42,
   "id": "dcfbfeac-a10c-45d8-81b2-9df00f6ae725",
   "metadata": {},
   "outputs": [],
   "source": [
    "#df_costos_cursos.head()\n",
    "#df_costos_cursos.info()"
   ]
  },
  {
   "cell_type": "code",
   "execution_count": 43,
   "id": "22179df6-c23d-4a06-b822-92f85c6a9861",
   "metadata": {},
   "outputs": [],
   "source": [
    "df_costos_cursos.to_csv(os.path.join(path_etl,'costos_estimados_cursos.csv'),index=False)"
   ]
  },
  {
   "cell_type": "markdown",
   "id": "65f6f3f1-c0cd-412b-8192-556831640b53",
   "metadata": {},
   "source": [
    "# Datos de Ubicación"
   ]
  },
  {
   "cell_type": "code",
   "execution_count": 45,
   "id": "7a1fd821-c20b-42be-a39d-5ed39126fb78",
   "metadata": {},
   "outputs": [],
   "source": [
    "df_ubicacion = pd.read_csv(os.path.join(path_additional_data,'Ubicacion.csv'))\n",
    "df_ubicacion = df_ubicacion.apply(lambda x: x.astype(str).str.lower())\n",
    "df_ubicacion = df_ubicacion.drop_duplicates()"
   ]
  },
  {
   "cell_type": "code",
   "execution_count": 9,
   "id": "86172419-42ae-4e55-bfb2-522b8de73666",
   "metadata": {},
   "outputs": [],
   "source": [
    "#df_ubicacion.head()\n",
    "#df_ubicacion.info()"
   ]
  },
  {
   "cell_type": "code",
   "execution_count": 46,
   "id": "8c4615cc-99b6-4f86-8ba9-ac935f216821",
   "metadata": {},
   "outputs": [],
   "source": [
    "df_ubicacion.to_csv(os.path.join(path_etl,'ubicacion.csv'),index=False)"
   ]
  }
 ],
 "metadata": {
  "kernelspec": {
   "display_name": "Python 3 (ipykernel)",
   "language": "python",
   "name": "python3"
  },
  "language_info": {
   "codemirror_mode": {
    "name": "ipython",
    "version": 3
   },
   "file_extension": ".py",
   "mimetype": "text/x-python",
   "name": "python",
   "nbconvert_exporter": "python",
   "pygments_lexer": "ipython3",
   "version": "3.9.12"
  }
 },
 "nbformat": 4,
 "nbformat_minor": 5
}
