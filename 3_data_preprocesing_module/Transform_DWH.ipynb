{
 "cells": [
  {
   "cell_type": "markdown",
   "metadata": {
    "id": "q5j7p_7uF0Y2"
   },
   "source": [
    "# Integración de Datos Datawarehouse"
   ]
  },
  {
   "cell_type": "code",
   "execution_count": 1,
   "metadata": {
    "colab": {
     "base_uri": "https://localhost:8080/"
    },
    "executionInfo": {
     "elapsed": 69913,
     "status": "ok",
     "timestamp": 1670198385764,
     "user": {
      "displayName": "Sergio Jimenez",
      "userId": "03709241177248490041"
     },
     "user_tz": 300
    },
    "id": "MVHrLzQwGNQa",
    "outputId": "2abcaea0-1add-4183-95c8-76d4459e2050"
   },
   "outputs": [
    {
     "name": "stdout",
     "output_type": "stream",
     "text": [
      "Mounted at /content/drive\n"
     ]
    }
   ],
   "source": [
    "from google.colab import drive\n",
    "drive.mount('/content/drive')"
   ]
  },
  {
   "cell_type": "code",
   "execution_count": 2,
   "metadata": {
    "colab": {
     "base_uri": "https://localhost:8080/"
    },
    "executionInfo": {
     "elapsed": 4329,
     "status": "ok",
     "timestamp": 1670198392120,
     "user": {
      "displayName": "Sergio Jimenez",
      "userId": "03709241177248490041"
     },
     "user_tz": 300
    },
    "id": "X-NjDns5GLro",
    "outputId": "1fe994b5-30d2-4c9c-c164-a8f7508ba579"
   },
   "outputs": [
    {
     "name": "stdout",
     "output_type": "stream",
     "text": [
      "Looking in indexes: https://pypi.org/simple, https://us-python.pkg.dev/colab-wheels/public/simple/\n",
      "Collecting hermetrics\n",
      "  Downloading hermetrics-0.1.13-py3-none-any.whl (19 kB)\n",
      "Installing collected packages: hermetrics\n",
      "Successfully installed hermetrics-0.1.13\n"
     ]
    }
   ],
   "source": [
    "!pip install hermetrics"
   ]
  },
  {
   "cell_type": "code",
   "execution_count": 3,
   "metadata": {
    "colab": {
     "base_uri": "https://localhost:8080/"
    },
    "executionInfo": {
     "elapsed": 16,
     "status": "ok",
     "timestamp": 1670198394209,
     "user": {
      "displayName": "Sergio Jimenez",
      "userId": "03709241177248490041"
     },
     "user_tz": 300
    },
    "id": "4RtowyrtGJPA",
    "outputId": "8ad4f5af-8dd3-4f0e-fba4-01e18bf339d3"
   },
   "outputs": [
    {
     "name": "stdout",
     "output_type": "stream",
     "text": [
      "/content/drive/MyDrive/Trabajo_de_Integracion_Curricular/Data-Mining-System-SETEC-main/3_data_preprocesing_module\n"
     ]
    }
   ],
   "source": [
    "%cd '/content/drive/MyDrive/Trabajo_de_Integracion_Curricular/Data-Mining-System-SETEC-main/3_data_preprocesing_module'"
   ]
  },
  {
   "cell_type": "markdown",
   "metadata": {
    "id": "ogwe1KJDF0Y6"
   },
   "source": [
    "## Importación de librerías"
   ]
  },
  {
   "cell_type": "code",
   "execution_count": 1,
   "metadata": {
    "executionInfo": {
     "elapsed": 367,
     "status": "ok",
     "timestamp": 1670198397434,
     "user": {
      "displayName": "Sergio Jimenez",
      "userId": "03709241177248490041"
     },
     "user_tz": 300
    },
    "id": "1u5H3N_t2b8M"
   },
   "outputs": [],
   "source": [
    "import pandas as pd\n",
    "import numpy as np\n",
    "import os\n",
    "from hermetrics.levenshtein import Levenshtein\n",
    "import re"
   ]
  },
  {
   "cell_type": "markdown",
   "metadata": {
    "id": "EfbUfOc82wBr"
   },
   "source": [
    "# Ruta de archivos"
   ]
  },
  {
   "cell_type": "code",
   "execution_count": 2,
   "metadata": {
    "executionInfo": {
     "elapsed": 257,
     "status": "ok",
     "timestamp": 1670198402860,
     "user": {
      "displayName": "Sergio Jimenez",
      "userId": "03709241177248490041"
     },
     "user_tz": 300
    },
    "id": "HGG-6ZTf86Hp"
   },
   "outputs": [],
   "source": [
    "base_path = os.getcwd()\n",
    "path = os.path.join(base_path, \"CLEANED_DATA\")\n",
    "path_datawarehouse = os.path.join(base_path, \"DATAWAREHOUSE\")\n",
    "path_datamart_oc = 'datamart_oc'\n",
    "path_datamart_oec = 'datamart_oec'\n",
    "path_datamart_ci = 'datamart_ci'"
   ]
  },
  {
   "cell_type": "markdown",
   "metadata": {
    "id": "wmmXaaIE_KJ7"
   },
   "source": [
    " ## Tabla Ubicacion"
   ]
  },
  {
   "cell_type": "code",
   "execution_count": 3,
   "metadata": {
    "executionInfo": {
     "elapsed": 289,
     "status": "ok",
     "timestamp": 1670199223144,
     "user": {
      "displayName": "Sergio Jimenez",
      "userId": "03709241177248490041"
     },
     "user_tz": 300
    },
    "id": "XQhVmfpsF0ZI"
   },
   "outputs": [],
   "source": [
    "df_ubicacion = pd.read_csv(os.path.join(path, 'ubicacion.csv'))"
   ]
  },
  {
   "cell_type": "markdown",
   "metadata": {},
   "source": [
    "# Funciones de procesamiento de datos"
   ]
  },
  {
   "cell_type": "code",
   "execution_count": 4,
   "metadata": {},
   "outputs": [],
   "source": [
    "year_list = [str(x) for x in range(2022,2009,-1)]\n",
    "\n",
    "def get_year(x):\n",
    "    for year in year_list:\n",
    "        if re.search('-'+year+'\\s|'+year+'-|-'+year+'$',x):\n",
    "            return year\n",
    "    return 'sin_anio'"
   ]
  },
  {
   "cell_type": "code",
   "execution_count": 5,
   "metadata": {},
   "outputs": [],
   "source": [
    "def get_year_by_oc(x,y):\n",
    "    if x=='sin_anio':\n",
    "        if y != 'sin fecha resolución' and not pd.isna(y):\n",
    "            return y[-4:]\n",
    "    else:\n",
    "        return x"
   ]
  },
  {
   "cell_type": "markdown",
   "metadata": {},
   "source": [
    "# Datamart OC"
   ]
  },
  {
   "cell_type": "markdown",
   "metadata": {
    "id": "ZaE4HScM78mS"
   },
   "source": [
    "## Dimensión Razon Social OC"
   ]
  },
  {
   "cell_type": "code",
   "execution_count": 25,
   "metadata": {
    "executionInfo": {
     "elapsed": 317,
     "status": "ok",
     "timestamp": 1670200490969,
     "user": {
      "displayName": "Sergio Jimenez",
      "userId": "03709241177248490041"
     },
     "user_tz": 300
    },
    "id": "C9_duNfQF0ZN"
   },
   "outputs": [],
   "source": [
    "df_oc = pd.read_csv(os.path.join(path,'oc.csv'))\n",
    "df_oc_ug = pd.read_csv(os.path.join(path,'oc_dl_provincia_canton.csv'))\n",
    "df_oc_ug['estado']='desconocido'\n",
    "df_razon_social_oc = pd.concat([df_oc[['razon_social','estado','canton']],df_oc_ug[['razon_social','estado','canton']]],axis=0)\n",
    "df_razon_social_oc = df_razon_social_oc.drop_duplicates(subset=['razon_social','canton'],keep='first')\n",
    "df_razon_social_oc = pd.merge(df_razon_social_oc,df_ubicacion,on='canton',how=\"left\")\n",
    "df_razon_social_oc.pop('id_ubicacion')\n",
    "df_razon_social_oc = df_razon_social_oc.fillna({'provincia':'sin provincia'})\n",
    "df_razon_social_oc = df_razon_social_oc.rename_axis('id_oc').reset_index().astype('object')\n",
    "#df_razon_social_oc = df_razon_social_oc.apply(lambda x: x.astype(str).str.lower())"
   ]
  },
  {
   "cell_type": "code",
   "execution_count": 26,
   "metadata": {
    "colab": {
     "base_uri": "https://localhost:8080/"
    },
    "executionInfo": {
     "elapsed": 8,
     "status": "ok",
     "timestamp": 1670200493383,
     "user": {
      "displayName": "Sergio Jimenez",
      "userId": "03709241177248490041"
     },
     "user_tz": 300
    },
    "id": "h_eancjYF0ZP",
    "outputId": "01b145f6-d999-4712-94d1-cee802c6cb7a"
   },
   "outputs": [],
   "source": [
    "#df_razon_social_oc.head()\n",
    "#df_razon_social_oc.info()"
   ]
  },
  {
   "cell_type": "code",
   "execution_count": 27,
   "metadata": {
    "executionInfo": {
     "elapsed": 608,
     "status": "ok",
     "timestamp": 1670200573494,
     "user": {
      "displayName": "Sergio Jimenez",
      "userId": "03709241177248490041"
     },
     "user_tz": 300
    },
    "id": "t0F_dEWRF0ZQ"
   },
   "outputs": [],
   "source": [
    "df_razon_social_oc.to_csv(os.path.join(path_datawarehouse,path_datamart_oc,'dim_razon_social_oc.csv'),index=False)"
   ]
  },
  {
   "cell_type": "markdown",
   "metadata": {
    "id": "hgxtmzMuCpCo"
   },
   "source": [
    "## Dimensión Curso_Perfil"
   ]
  },
  {
   "cell_type": "code",
   "execution_count": 28,
   "metadata": {
    "executionInfo": {
     "elapsed": 817,
     "status": "ok",
     "timestamp": 1670200588385,
     "user": {
      "displayName": "Sergio Jimenez",
      "userId": "03709241177248490041"
     },
     "user_tz": 300
    },
    "id": "0af7JUUcCsRA"
   },
   "outputs": [],
   "source": [
    "df_oc_cl = pd.read_csv(os.path.join(path,'oc_dl_familia_sector_perfil.csv'))\n",
    "df_oc_cl_2 = pd.read_csv(os.path.join(path,'oc_cl.csv'))\n",
    "df_oc_cl_2.pop('ruc_o_codigo')\n",
    "df_oc_cl = pd.concat([df_oc_cl,df_oc_cl_2],axis=0)"
   ]
  },
  {
   "cell_type": "code",
   "execution_count": 29,
   "metadata": {
    "executionInfo": {
     "elapsed": 333,
     "status": "ok",
     "timestamp": 1670200589892,
     "user": {
      "displayName": "Sergio Jimenez",
      "userId": "03709241177248490041"
     },
     "user_tz": 300
    },
    "id": "AZmlLPZyqhwF"
   },
   "outputs": [],
   "source": [
    "df_oc_cl = df_oc_cl.drop_duplicates()\n",
    "df_oc_cl['modalidad'] = 'desconocida'\n",
    "df_oc_cl['carga_horaria'] = 0\n",
    "df_oc_cl['tipo'] = 'perfil'"
   ]
  },
  {
   "cell_type": "code",
   "execution_count": 30,
   "metadata": {},
   "outputs": [],
   "source": [
    "df_oc_cc = pd.read_csv(os.path.join(path,'oc_cc.csv'))\n",
    "df_oc_cc.pop('documento')\n",
    "df_oc_cc['tipo'] = 'curso'"
   ]
  },
  {
   "cell_type": "code",
   "execution_count": 31,
   "metadata": {
    "executionInfo": {
     "elapsed": 4,
     "status": "ok",
     "timestamp": 1670200591044,
     "user": {
      "displayName": "Sergio Jimenez",
      "userId": "03709241177248490041"
     },
     "user_tz": 300
    },
    "id": "saqS2pdaF0ZU"
   },
   "outputs": [],
   "source": [
    "data_curso_perfil = np.concatenate((df_oc_cc.values,df_oc_cl.values), axis=0)\n",
    "df_curso_perfil = pd.DataFrame(data=data_curso_perfil,columns=['razon_social','area_familia','especialidad_sector','curso_perfil','modalidad','carga_horaria','tipo'])\n",
    "df_curso_perfil.insert(0,'tipo',df_curso_perfil.pop('tipo'))\n",
    "df_curso_perfil = df_curso_perfil.rename_axis('id_curso_perfil').reset_index().astype('object')\n",
    "df_curso_perfil = df_curso_perfil.apply(lambda x: x.astype(str).str.lower())\n",
    "df_curso_perfil['carga_horaria'] = df_curso_perfil['carga_horaria'].astype('float64')"
   ]
  },
  {
   "cell_type": "code",
   "execution_count": 32,
   "metadata": {
    "executionInfo": {
     "elapsed": 15,
     "status": "ok",
     "timestamp": 1670200594224,
     "user": {
      "displayName": "Sergio Jimenez",
      "userId": "03709241177248490041"
     },
     "user_tz": 300
    },
    "id": "TdlfI4ZuF0ZV"
   },
   "outputs": [],
   "source": [
    "#df_curso_perfil.head()\n",
    "#df_curso_perfil.info()"
   ]
  },
  {
   "cell_type": "markdown",
   "metadata": {
    "id": "qFEFmzjd_Hk4"
   },
   "source": [
    "## Hechos OC"
   ]
  },
  {
   "cell_type": "code",
   "execution_count": 33,
   "metadata": {
    "executionInfo": {
     "elapsed": 8221,
     "status": "ok",
     "timestamp": 1670200691809,
     "user": {
      "displayName": "Sergio Jimenez",
      "userId": "03709241177248490041"
     },
     "user_tz": 300
    },
    "id": "5AWKq2lKF0ZW"
   },
   "outputs": [],
   "source": [
    "#AGREGAR AÑO\n",
    "# Cargar los archivos necesarios de la ubicación de CLEANED DATA\n",
    "df_pcoc = pd.read_csv(os.path.join(path,'pcoc.csv'))\n",
    "df_pcoc = df_pcoc.apply(lambda x: x.astype(str).str.lower())\n",
    "\n",
    "# Se extraera el año de la columna Numero_certificado.\n",
    "# Para esto se buscará porciones de texto que contengan los años del 2000 - 2022 (año actual)\n",
    "\n",
    "df_pcoc['anio'] = df_pcoc['numero_certificado'].apply(get_year)\n",
    "\n",
    "df_oc = pd.read_csv(os.path.join(path,'oc.csv'))\n",
    "\n",
    "df_pcoc = pd.merge(df_pcoc,df_oc[['razon_social','fecha_resolucion']],left_on=['razon_social_oc'],right_on=['razon_social'],how=\"left\") \n",
    "\n",
    "\n",
    "df_pcoc['anio'] = df_pcoc.apply(lambda x: get_year_by_oc(x['anio'], x['fecha_resolucion']), axis=1)\n",
    "\n",
    "df_pcoc[\n",
    "    (df_pcoc['anio']=='sin_anio') & \n",
    "    (df_pcoc['fecha_resolucion']!='sin fecha resolución') &\n",
    "    (df_pcoc['fecha_resolucion'].notnull())\n",
    "    ]['anio'] = df_pcoc[\n",
    "    (df_pcoc['anio']=='sin_anio') & \n",
    "    (df_pcoc['fecha_resolucion']!='sin fecha resolución') &\n",
    "    (df_pcoc['fecha_resolucion'].notnull())\n",
    "    ]['fecha_resolucion'].str.slice(start=-4)\n",
    "\n",
    "df_pcoc = df_pcoc.drop(['razon_social','fecha_resolucion'],axis=1)\n"
   ]
  },
  {
   "cell_type": "markdown",
   "metadata": {
    "id": "HS6_SHcAF0ZW"
   },
   "source": [
    "## Dimension Fecha OC\n",
    "\n",
    "Se debe desarrollar en base a el año el cual se haya obtenido el certificado del curso o perfil OC.\n",
    "\n",
    "En caso de no existir un año registrado en el certificado en la tabla **PCOC** se deberá tomar como referencia el año de resolución de la Razon social de la tabla **OC**"
   ]
  },
  {
   "cell_type": "code",
   "execution_count": 34,
   "metadata": {},
   "outputs": [],
   "source": [
    "df_fecha_oc = pd.DataFrame(data=df_pcoc['anio'].sort_values().unique(),columns=['anio'])\n",
    "df_fecha_oc = df_fecha_oc.rename_axis('id_fecha').reset_index().astype('str')\n",
    "df_fecha_oc = df_fecha_oc[:-1]"
   ]
  },
  {
   "cell_type": "code",
   "execution_count": 35,
   "metadata": {
    "executionInfo": {
     "elapsed": 579,
     "status": "ok",
     "timestamp": 1670200829288,
     "user": {
      "displayName": "Sergio Jimenez",
      "userId": "03709241177248490041"
     },
     "user_tz": 300
    },
    "id": "FxFaS3PIF0ZY"
   },
   "outputs": [],
   "source": [
    "df_fecha_oc.to_csv(os.path.join(path_datawarehouse,path_datamart_oc,'dim_fecha.csv'),index=False)"
   ]
  },
  {
   "cell_type": "markdown",
   "metadata": {
    "id": "HtbS1knRHsTY"
   },
   "source": [
    "## Guardar Datamart OC"
   ]
  },
  {
   "cell_type": "code",
   "execution_count": 36,
   "metadata": {
    "executionInfo": {
     "elapsed": 320,
     "status": "ok",
     "timestamp": 1670200835029,
     "user": {
      "displayName": "Sergio Jimenez",
      "userId": "03709241177248490041"
     },
     "user_tz": 300
    },
    "id": "SR4Pn1LUF0ZY"
   },
   "outputs": [],
   "source": [
    "## UNIR DATOS\n",
    "df_fact_oc = df_pcoc.groupby(['razon_social_oc','nombre_curso_perfil','anio']).count().reset_index().iloc[:,:4]\n",
    "df_fact_oc = df_fact_oc.rename(columns={'numero_documento':'num_cap_cer'})\n",
    "df_total_cap_oc = df_pcoc.groupby(['razon_social_oc','anio']).count().reset_index().iloc[:,:3]\n",
    "df_total_cap_oc = df_total_cap_oc.rename(columns={'numero_documento':'volumen_capacitados'})\n",
    "df_total_cur_oc = df_pcoc.groupby(['razon_social_oc','nombre_curso_perfil','anio']).count().reset_index()\n",
    "df_total_cur_oc = df_total_cur_oc.groupby(['razon_social_oc','anio']).count().reset_index().iloc[:,:3]\n",
    "df_total_cur_oc = df_total_cur_oc.rename(columns={'nombre_curso_perfil':'total_cursos'})\n",
    "df_fact_oc = pd.merge(df_fact_oc,df_razon_social_oc,left_on=['razon_social_oc'],right_on=['razon_social'],how=\"inner\")\n",
    "df_fact_oc = pd.merge(df_fact_oc,df_curso_perfil,left_on=['razon_social_oc','nombre_curso_perfil'],right_on=['razon_social','curso_perfil'],how=\"inner\")\n",
    "df_fact_oc = pd.merge(df_fact_oc,df_fecha_oc,left_on=['anio'],right_on=['anio'],how=\"inner\")"
   ]
  },
  {
   "cell_type": "code",
   "execution_count": 37,
   "metadata": {},
   "outputs": [],
   "source": [
    "df_fact_oc = pd.merge(df_fact_oc,df_total_cap_oc,on=['razon_social_oc','anio'],how=\"inner\")\n",
    "df_fact_oc = pd.merge(df_fact_oc,df_total_cur_oc,on=['razon_social_oc','anio'],how=\"inner\")"
   ]
  },
  {
   "cell_type": "code",
   "execution_count": 38,
   "metadata": {},
   "outputs": [],
   "source": [
    "df_fact_oc = df_fact_oc[['id_oc','id_curso_perfil','id_fecha','num_cap_cer','carga_horaria','total_cursos','volumen_capacitados']]\n",
    "df_fact_oc['total_horas'] = df_fact_oc['num_cap_cer']*df_fact_oc['carga_horaria']\n",
    "df_fact_oc.drop('carga_horaria',axis=1,inplace=True)"
   ]
  },
  {
   "cell_type": "code",
   "execution_count": 39,
   "metadata": {},
   "outputs": [],
   "source": [
    "df_fact_oc['total_horas'] = df_fact_oc['total_horas'].astype('int64')\n"
   ]
  },
  {
   "cell_type": "code",
   "execution_count": 40,
   "metadata": {},
   "outputs": [],
   "source": [
    "#df_fact_oc.head()\n",
    "#df_fact_oc.info()"
   ]
  },
  {
   "cell_type": "code",
   "execution_count": 41,
   "metadata": {
    "executionInfo": {
     "elapsed": 202,
     "status": "ok",
     "timestamp": 1670200883094,
     "user": {
      "displayName": "Sergio Jimenez",
      "userId": "03709241177248490041"
     },
     "user_tz": 300
    },
    "id": "dX-67WrYF0ZY"
   },
   "outputs": [],
   "source": [
    "df_curso_perfil.drop('razon_social',axis=1,inplace=True)"
   ]
  },
  {
   "cell_type": "code",
   "execution_count": 42,
   "metadata": {
    "executionInfo": {
     "elapsed": 229,
     "status": "ok",
     "timestamp": 1670107294162,
     "user": {
      "displayName": "Sergio Jimenez",
      "userId": "03709241177248490041"
     },
     "user_tz": 300
    },
    "id": "_yt0Tpr3-7AK"
   },
   "outputs": [],
   "source": [
    "df_curso_perfil.to_csv(os.path.join(path_datawarehouse,path_datamart_oc,'dim_curso_perfil.csv'),index=False)\n",
    "df_fact_oc.to_csv(os.path.join(path_datawarehouse,path_datamart_oc,'fact_oc.csv'),index=False)"
   ]
  },
  {
   "cell_type": "markdown",
   "metadata": {
    "id": "UKh5cHw91rOw"
   },
   "source": [
    "# Dataframe OEC"
   ]
  },
  {
   "cell_type": "markdown",
   "metadata": {
    "id": "QJhODV_92GKa"
   },
   "source": [
    "### Dimensión Razon Social OEC"
   ]
  },
  {
   "cell_type": "code",
   "execution_count": 93,
   "metadata": {
    "executionInfo": {
     "elapsed": 811,
     "status": "ok",
     "timestamp": 1670106502278,
     "user": {
      "displayName": "Sergio Jimenez",
      "userId": "03709241177248490041"
     },
     "user_tz": 300
    },
    "id": "F2KWkJaq1tXf"
   },
   "outputs": [],
   "source": [
    "df_oec_2 = pd.read_csv(os.path.join(path,'oec_dl_provincia_canton.csv'))\n",
    "df_oec_2['estado'] = 'desconocido'\n",
    "df_oec_2 = df_oec_2[['razon_social','estado','canton']]\n",
    "df_oec = pd.read_csv(os.path.join(path,'oec.csv'))\n",
    "df_razon_social_oec = df_oec[['razon_social','estado','canton']]\n",
    "df_razon_social_oec = pd.concat([df_razon_social_oec,df_oec_2])\n",
    "df_razon_social_oec = pd.merge(df_razon_social_oec,df_ubicacion,on='canton',how=\"left\")\n",
    "df_razon_social_oec.pop('id_ubicacion')\n",
    "df_razon_social_oec = df_razon_social_oec.fillna({'provincia':'sin provincia'})\n",
    "df_razon_social_oec = df_razon_social_oec.drop_duplicates(subset=['razon_social'], keep='first')\n",
    "df_razon_social_oec = df_razon_social_oec.rename_axis('id_oec').reset_index().astype('object')\n",
    "df_razon_social_oec = df_razon_social_oec.apply(lambda x: x.astype(str).str.lower())"
   ]
  },
  {
   "cell_type": "code",
   "execution_count": 37,
   "metadata": {
    "executionInfo": {
     "elapsed": 2,
     "status": "ok",
     "timestamp": 1670106503704,
     "user": {
      "displayName": "Sergio Jimenez",
      "userId": "03709241177248490041"
     },
     "user_tz": 300
    },
    "id": "7p4JmuaZF0Za"
   },
   "outputs": [],
   "source": [
    "#df_razon_social_oec.head()\n",
    "#df_razon_social_oec.info()"
   ]
  },
  {
   "cell_type": "code",
   "execution_count": 94,
   "metadata": {
    "executionInfo": {
     "elapsed": 722,
     "status": "ok",
     "timestamp": 1670106504670,
     "user": {
      "displayName": "Sergio Jimenez",
      "userId": "03709241177248490041"
     },
     "user_tz": 300
    },
    "id": "n0syOUoKF0Za"
   },
   "outputs": [],
   "source": [
    "df_razon_social_oec.to_csv(os.path.join(path_datawarehouse,path_datamart_oec,'dim_razon_social_oec.csv'),index=False)"
   ]
  },
  {
   "cell_type": "markdown",
   "metadata": {
    "id": "PfsuUbx54bB3"
   },
   "source": [
    "### Dimension Perfil"
   ]
  },
  {
   "cell_type": "code",
   "execution_count": 95,
   "metadata": {
    "executionInfo": {
     "elapsed": 240,
     "status": "ok",
     "timestamp": 1670182696993,
     "user": {
      "displayName": "Sergio Jimenez",
      "userId": "03709241177248490041"
     },
     "user_tz": 300
    },
    "id": "yUZy-Sh8bhGX"
   },
   "outputs": [],
   "source": [
    "df_perfil = pd.read_csv(os.path.join(path,'oec_dl_familia_sector_perfil.csv'))\n",
    "df_perfil = df_perfil.rename(columns={'Nombre':'razon_social','Familia':'familia','Sector':'sector','Perfil':'perfil'})\n",
    "df_perfil = df_perfil.rename_axis('id_perfil').reset_index().astype('object')\n",
    "df_perfil['modalidad'] = 'desconocida'\n",
    "df_perfil = df_perfil.apply(lambda x: x.astype(str).str.lower())\n",
    "#df_perfil['carga_horaria'] = df_perfil['carga_horaria'].astype('float64')\n",
    "df_perfil['carga_horaria'] = 6\n",
    "df_perfil['costo'] = 250.0"
   ]
  },
  {
   "cell_type": "code",
   "execution_count": 96,
   "metadata": {
    "executionInfo": {
     "elapsed": 8,
     "status": "ok",
     "timestamp": 1670178941420,
     "user": {
      "displayName": "Sergio Jimenez",
      "userId": "03709241177248490041"
     },
     "user_tz": 300
    },
    "id": "z3udrUBQF0Zc"
   },
   "outputs": [],
   "source": [
    "#df_perfil.head()\n",
    "#df_perfil.info()"
   ]
  },
  {
   "cell_type": "code",
   "execution_count": 97,
   "metadata": {
    "executionInfo": {
     "elapsed": 299,
     "status": "ok",
     "timestamp": 1670182700820,
     "user": {
      "displayName": "Sergio Jimenez",
      "userId": "03709241177248490041"
     },
     "user_tz": 300
    },
    "id": "Xic1r_M1F0Zd"
   },
   "outputs": [],
   "source": [
    "df_perfil.to_csv(os.path.join(path_datawarehouse,path_datamart_oec,'dim_perfil.csv'),index=False)"
   ]
  },
  {
   "cell_type": "markdown",
   "metadata": {
    "id": "5Uc9Cww15f__"
   },
   "source": [
    "## Hechos OEC"
   ]
  },
  {
   "cell_type": "code",
   "execution_count": 98,
   "metadata": {
    "executionInfo": {
     "elapsed": 2637,
     "status": "ok",
     "timestamp": 1670106514994,
     "user": {
      "displayName": "Sergio Jimenez",
      "userId": "03709241177248490041"
     },
     "user_tz": 300
    },
    "id": "RR2ufZMgjKMD"
   },
   "outputs": [],
   "source": [
    "df_pcoec = pd.read_csv(os.path.join(path,'pcoec.csv'))\n",
    "df_demanda_oec = df_pcoec.groupby(['razon_social','perfil','fecha_certificacion']).count().reset_index().iloc[:,:4]"
   ]
  },
  {
   "cell_type": "markdown",
   "metadata": {
    "id": "UkT0aYI_F0Zf"
   },
   "source": [
    "## Dimension Fecha"
   ]
  },
  {
   "cell_type": "code",
   "execution_count": 100,
   "metadata": {},
   "outputs": [],
   "source": [
    "df_fecha_oec = df_pcoec[['fecha_certificacion']].groupby(['fecha_certificacion']).count().reset_index()\n",
    "data_fecha = df_fecha_oec['fecha_certificacion'].str.rsplit(\"-\", expand=True)"
   ]
  },
  {
   "cell_type": "code",
   "execution_count": 101,
   "metadata": {
    "executionInfo": {
     "elapsed": 267,
     "status": "ok",
     "timestamp": 1670106517764,
     "user": {
      "displayName": "Sergio Jimenez",
      "userId": "03709241177248490041"
     },
     "user_tz": 300
    },
    "id": "OGWUR4168r1d"
   },
   "outputs": [],
   "source": [
    "df_fecha_oec = pd.concat([df_fecha_oec,data_fecha],axis=1)\n",
    "df_fecha_oec = df_fecha_oec.rename(columns={0:'dia',1:'mes',2:'anio'})\n",
    "df_fecha_oec = df_fecha_oec.rename_axis('id_fecha').reset_index().astype('str')"
   ]
  },
  {
   "cell_type": "code",
   "execution_count": 102,
   "metadata": {
    "executionInfo": {
     "elapsed": 7,
     "status": "ok",
     "timestamp": 1670106519329,
     "user": {
      "displayName": "Sergio Jimenez",
      "userId": "03709241177248490041"
     },
     "user_tz": 300
    },
    "id": "IpQXgVYHF0Zg"
   },
   "outputs": [],
   "source": [
    "#df_fecha_oec.head()\n",
    "#df_fecha_oec.info()"
   ]
  },
  {
   "cell_type": "code",
   "execution_count": 103,
   "metadata": {
    "executionInfo": {
     "elapsed": 229,
     "status": "ok",
     "timestamp": 1670106520727,
     "user": {
      "displayName": "Sergio Jimenez",
      "userId": "03709241177248490041"
     },
     "user_tz": 300
    },
    "id": "r_ZwjaKY5iXP"
   },
   "outputs": [],
   "source": [
    "df_demanda_oec = df_demanda_oec.rename(columns={'apellidos_nombres':'num_cer'})\n",
    "df_total_cap_oec = df_pcoec.groupby(['razon_social','fecha_certificacion']).count().reset_index()\n",
    "df_total_cap_oec = df_total_cap_oec.rename(columns={'numero_certificacion':'volumen_capacitados'})\n",
    "df_total_cap_oec = df_total_cap_oec[['razon_social','fecha_certificacion','volumen_capacitados']]\n",
    "df_total_cur_oec = df_pcoec.groupby(['razon_social','perfil','fecha_certificacion']).count().reset_index()\n",
    "df_total_cur_oec = df_total_cur_oec.groupby(['razon_social','fecha_certificacion']).count().reset_index()\n",
    "df_total_cur_oec = df_total_cur_oec.rename(columns={'numero_certificacion':'total_cursos'})\n",
    "df_total_cur_oec = df_total_cur_oec[['razon_social','fecha_certificacion','total_cursos']]\n",
    "df_demanda_oec = pd.merge(df_demanda_oec,df_total_cap_oec,on=['razon_social','fecha_certificacion'],how=\"inner\")\n",
    "df_demanda_oec = pd.merge(df_demanda_oec,df_total_cur_oec,on=['razon_social','fecha_certificacion'],how=\"inner\")\n",
    "df_demanda_oec = pd.merge(df_demanda_oec,df_razon_social_oec,on='razon_social',how=\"inner\")\n",
    "df_demanda_oec = pd.merge(df_demanda_oec,df_perfil,on=['razon_social','perfil'],how=\"inner\")\n",
    "df_demanda_oec = pd.merge(df_demanda_oec,df_fecha_oec,on='fecha_certificacion',how=\"inner\")\n",
    "df_demanda_oec['total_horas'] = df_demanda_oec['num_cer']*df_demanda_oec['carga_horaria']\n",
    "df_demanda_oec = df_demanda_oec.rename(columns={'costo':'total_ganacias'})\n",
    "df_demanda_oec = df_demanda_oec[['id_oec','id_perfil','id_fecha','num_cer','total_horas','total_cursos','volumen_capacitados','total_ganacias']]\n"
   ]
  },
  {
   "cell_type": "code",
   "execution_count": 104,
   "metadata": {},
   "outputs": [],
   "source": [
    "#df_demanda_oec.head()\n",
    "#df_demanda_oec.info()"
   ]
  },
  {
   "cell_type": "code",
   "execution_count": 105,
   "metadata": {
    "executionInfo": {
     "elapsed": 217,
     "status": "ok",
     "timestamp": 1670106523486,
     "user": {
      "displayName": "Sergio Jimenez",
      "userId": "03709241177248490041"
     },
     "user_tz": 300
    },
    "id": "TSJ_ird1F0Zh"
   },
   "outputs": [],
   "source": [
    "df_fecha_oec = df_fecha_oec.drop('fecha_certificacion',axis=1)\n",
    "df_fecha_oec.to_csv(os.path.join(path_datawarehouse,path_datamart_oec,'dim_fecha.csv'),index=False)"
   ]
  },
  {
   "cell_type": "code",
   "execution_count": 106,
   "metadata": {
    "executionInfo": {
     "elapsed": 10,
     "status": "ok",
     "timestamp": 1670178976106,
     "user": {
      "displayName": "Sergio Jimenez",
      "userId": "03709241177248490041"
     },
     "user_tz": 300
    },
    "id": "UiCbPJvLagZP"
   },
   "outputs": [],
   "source": [
    "df_perfil = df_perfil.drop('razon_social',axis=1)\n",
    "df_perfil.to_csv(os.path.join(path_datawarehouse,path_datamart_oec,'dim_perfil.csv'),index=False)"
   ]
  },
  {
   "cell_type": "code",
   "execution_count": 107,
   "metadata": {
    "executionInfo": {
     "elapsed": 542,
     "status": "ok",
     "timestamp": 1670106524860,
     "user": {
      "displayName": "Sergio Jimenez",
      "userId": "03709241177248490041"
     },
     "user_tz": 300
    },
    "id": "8KPKpsFkF0Zh"
   },
   "outputs": [],
   "source": [
    "df_demanda_oec.to_csv(os.path.join(path_datawarehouse,path_datamart_oec,'fact_oec.csv'),index=False)"
   ]
  },
  {
   "cell_type": "markdown",
   "metadata": {
    "id": "mDJEaTI9XyoO"
   },
   "source": [
    "# Dataframe CI"
   ]
  },
  {
   "cell_type": "markdown",
   "metadata": {
    "id": "qdn7O9taF0Zi"
   },
   "source": [
    "## Dimensión Capacitador independiente"
   ]
  },
  {
   "cell_type": "code",
   "execution_count": 50,
   "metadata": {
    "executionInfo": {
     "elapsed": 881,
     "status": "ok",
     "timestamp": 1670106529316,
     "user": {
      "displayName": "Sergio Jimenez",
      "userId": "03709241177248490041"
     },
     "user_tz": 300
    },
    "id": "2zZPz2yTF0Zj"
   },
   "outputs": [],
   "source": [
    "df_capacitador_ci = pd.read_csv(os.path.join(path,'ci.csv'))\n",
    "df_capacitador_ci = df_capacitador_ci[['razon_social','codigo_resolucion']]\n",
    "df_capacitador_ci_2 = pd.read_csv(os.path.join(path,'ci_dl_provincia_canton.csv'))\n",
    "df_capacitador_ci = pd.merge(df_capacitador_ci,df_capacitador_ci_2,left_on=['razon_social'],right_on=['razon_social'],how=\"inner\")\n",
    "df_capacitador_ci_2.insert(1,'codigo_resolucion','desconocido')\n",
    "df_capacitador_ci = pd.DataFrame(data=np.concatenate((df_capacitador_ci.values,df_capacitador_ci_2.values), axis=0),columns=['razon_social','codigo_resolucion','provincia','canton'])\n",
    "df_capacitador_ci = df_capacitador_ci.drop_duplicates(subset=['razon_social','provincia','canton'],keep='first')\n",
    "df_capacitador_ci = df_capacitador_ci.fillna({'provincia':'sin provincia','canton':'sin canton'})\n",
    "df_capacitador_ci['anio'] = df_capacitador_ci['codigo_resolucion'].apply(get_year)\n",
    "df_capacitador_ci  = df_capacitador_ci.reset_index(drop=True)\n",
    "df_capacitador_ci  = df_capacitador_ci.rename_axis('id_ci').reset_index().astype('str')\n",
    "df_capacitador_ci = df_capacitador_ci.apply(lambda x: x.astype(str).str.lower())"
   ]
  },
  {
   "cell_type": "code",
   "execution_count": 51,
   "metadata": {
    "executionInfo": {
     "elapsed": 5,
     "status": "ok",
     "timestamp": 1670106530790,
     "user": {
      "displayName": "Sergio Jimenez",
      "userId": "03709241177248490041"
     },
     "user_tz": 300
    },
    "id": "1JtlqGxwF0Zm"
   },
   "outputs": [],
   "source": [
    "#df_capacitador_ci.tail()\n",
    "#df_capacitador_ci.info()"
   ]
  },
  {
   "cell_type": "markdown",
   "metadata": {},
   "source": [
    "### Dimesión Fecha CI"
   ]
  },
  {
   "cell_type": "code",
   "execution_count": 52,
   "metadata": {
    "executionInfo": {
     "elapsed": 5,
     "status": "ok",
     "timestamp": 1670106531978,
     "user": {
      "displayName": "Sergio Jimenez",
      "userId": "03709241177248490041"
     },
     "user_tz": 300
    },
    "id": "cOLQXx5BF0Zn"
   },
   "outputs": [],
   "source": [
    "df_fecha_ci = pd.DataFrame(data=df_capacitador_ci['anio'].unique(),columns=['anio'])\n",
    "df_fecha_ci = df_fecha_ci.rename_axis('id_fecha').reset_index().astype('str')"
   ]
  },
  {
   "cell_type": "markdown",
   "metadata": {
    "id": "T0MHVPnOF0Zo"
   },
   "source": [
    "## Dimensión Curso"
   ]
  },
  {
   "cell_type": "code",
   "execution_count": 53,
   "metadata": {
    "executionInfo": {
     "elapsed": 4,
     "status": "ok",
     "timestamp": 1670182706330,
     "user": {
      "displayName": "Sergio Jimenez",
      "userId": "03709241177248490041"
     },
     "user_tz": 300
    },
    "id": "KjECY3Khbc1I"
   },
   "outputs": [],
   "source": [
    "df_ci_lca = pd.read_csv(os.path.join(path,'ci_lca.csv'))\n",
    "df_ci_lca =  df_ci_lca.rename_axis('id_curso').reset_index().astype('str')\n",
    "df_ci_lca[\"carga_horaria\"]=df_ci_lca[\"carga_horaria\"].astype('int64')\n",
    "df_ci_lca.insert(6,'modalidad', 'desconocida')"
   ]
  },
  {
   "cell_type": "code",
   "execution_count": 42,
   "metadata": {
    "executionInfo": {
     "elapsed": 227,
     "status": "ok",
     "timestamp": 1670179183804,
     "user": {
      "displayName": "Sergio Jimenez",
      "userId": "03709241177248490041"
     },
     "user_tz": 300
    },
    "id": "o6Pf3B4sF0Zr"
   },
   "outputs": [],
   "source": [
    "#df_ci_lca.tail()\n",
    "# df_ci_lca.info()"
   ]
  },
  {
   "cell_type": "markdown",
   "metadata": {
    "id": "3BIQWh3zF0Zs"
   },
   "source": [
    "## Hechos CI"
   ]
  },
  {
   "cell_type": "code",
   "execution_count": 58,
   "metadata": {},
   "outputs": [],
   "source": [
    "df_pcci = pd.read_csv(os.path.join(path,'pcci.csv'))\n",
    "df_pcci = pd.merge(df_pcci,df_capacitador_ci[['anio','razon_social']],on=['razon_social'],how=\"inner\")\n",
    "df_pcci = df_pcci.rename(columns={'numero_documento':'num_cap'})\n",
    "#df_capacitador_ci = df_capacitador_ci.drop(['anio'],axis=1)\n",
    "fact_ci = df_pcci.groupby(['razon_social','curso','anio']).count().reset_index()\n",
    "fact_ci = pd.merge(fact_ci,df_capacitador_ci[['razon_social','id_ci']],on=['razon_social'],how=\"inner\")"
   ]
  },
  {
   "cell_type": "code",
   "execution_count": 59,
   "metadata": {},
   "outputs": [
    {
     "data": {
      "text/html": [
       "<div>\n",
       "<style scoped>\n",
       "    .dataframe tbody tr th:only-of-type {\n",
       "        vertical-align: middle;\n",
       "    }\n",
       "\n",
       "    .dataframe tbody tr th {\n",
       "        vertical-align: top;\n",
       "    }\n",
       "\n",
       "    .dataframe thead th {\n",
       "        text-align: right;\n",
       "    }\n",
       "</style>\n",
       "<table border=\"1\" class=\"dataframe\">\n",
       "  <thead>\n",
       "    <tr style=\"text-align: right;\">\n",
       "      <th></th>\n",
       "      <th>razon_social</th>\n",
       "      <th>curso</th>\n",
       "      <th>anio</th>\n",
       "      <th>num_cap</th>\n",
       "      <th>apellidos_nombres</th>\n",
       "      <th>numero_horas</th>\n",
       "      <th>id_ci</th>\n",
       "    </tr>\n",
       "  </thead>\n",
       "  <tbody>\n",
       "    <tr>\n",
       "      <th>0</th>\n",
       "      <td>abata carrera gloria beatriz</td>\n",
       "      <td>curso básico de la competencia lingüística del...</td>\n",
       "      <td>2021</td>\n",
       "      <td>14</td>\n",
       "      <td>14</td>\n",
       "      <td>14</td>\n",
       "      <td>184</td>\n",
       "    </tr>\n",
       "    <tr>\n",
       "      <th>1</th>\n",
       "      <td>abril velez erika lucia</td>\n",
       "      <td>primeros auxilios.</td>\n",
       "      <td>2022</td>\n",
       "      <td>107</td>\n",
       "      <td>107</td>\n",
       "      <td>107</td>\n",
       "      <td>869</td>\n",
       "    </tr>\n",
       "    <tr>\n",
       "      <th>2</th>\n",
       "      <td>acosta mensias david alejandro</td>\n",
       "      <td>gestión de los procesos de contratación en la ...</td>\n",
       "      <td>2021</td>\n",
       "      <td>69</td>\n",
       "      <td>69</td>\n",
       "      <td>69</td>\n",
       "      <td>543</td>\n",
       "    </tr>\n",
       "    <tr>\n",
       "      <th>3</th>\n",
       "      <td>acosta mensias luis eduardo</td>\n",
       "      <td>administración estratégica de subsistemas de r...</td>\n",
       "      <td>2020</td>\n",
       "      <td>6</td>\n",
       "      <td>6</td>\n",
       "      <td>6</td>\n",
       "      <td>61</td>\n",
       "    </tr>\n",
       "    <tr>\n",
       "      <th>4</th>\n",
       "      <td>acosta mensias luis eduardo</td>\n",
       "      <td>auditoría interna bajo la norma iso 9001</td>\n",
       "      <td>2020</td>\n",
       "      <td>6</td>\n",
       "      <td>6</td>\n",
       "      <td>6</td>\n",
       "      <td>61</td>\n",
       "    </tr>\n",
       "  </tbody>\n",
       "</table>\n",
       "</div>"
      ],
      "text/plain": [
       "                     razon_social  \\\n",
       "0    abata carrera gloria beatriz   \n",
       "1         abril velez erika lucia   \n",
       "2  acosta mensias david alejandro   \n",
       "3     acosta mensias luis eduardo   \n",
       "4     acosta mensias luis eduardo   \n",
       "\n",
       "                                               curso  anio  num_cap  \\\n",
       "0  curso básico de la competencia lingüística del...  2021       14   \n",
       "1                                 primeros auxilios.  2022      107   \n",
       "2  gestión de los procesos de contratación en la ...  2021       69   \n",
       "3  administración estratégica de subsistemas de r...  2020        6   \n",
       "4           auditoría interna bajo la norma iso 9001  2020        6   \n",
       "\n",
       "   apellidos_nombres  numero_horas id_ci  \n",
       "0                 14            14   184  \n",
       "1                107           107   869  \n",
       "2                 69            69   543  \n",
       "3                  6             6    61  \n",
       "4                  6             6    61  "
      ]
     },
     "execution_count": 59,
     "metadata": {},
     "output_type": "execute_result"
    }
   ],
   "source": [
    "fact_ci.head()"
   ]
  },
  {
   "cell_type": "code",
   "execution_count": 60,
   "metadata": {
    "id": "XB1vWHuC4VeK"
   },
   "outputs": [],
   "source": [
    "df_pcci = pd.read_csv(os.path.join(path,'pcci.csv'))\n",
    "df_pcci = pd.merge(df_pcci,df_capacitador_ci[['anio','razon_social']],on=['razon_social'],how=\"inner\")\n",
    "df_pcci = df_pcci.rename(columns={'numero_documento':'num_cap'})\n",
    "\n",
    "fact_ci = df_pcci.groupby(['razon_social','curso','anio']).count().reset_index()\n",
    "fact_ci = pd.merge(fact_ci,df_capacitador_ci[['razon_social','id_ci']],on=['razon_social'],how=\"inner\")\n",
    "df_total_cap_ci = df_pcci.groupby(['razon_social','anio']).count().reset_index()\n",
    "df_total_cap_ci = df_total_cap_ci.rename(columns={'num_cap':'volumen_capacitados'})\n",
    "df_total_cap_ci = df_total_cap_ci[['razon_social','anio','volumen_capacitados']]\n",
    "df_total_cur_ci = df_pcci.groupby(['razon_social','curso','anio']).count().reset_index()\n",
    "df_total_cur_ci = df_total_cur_ci.groupby(['razon_social','anio']).count().reset_index()\n",
    "df_total_cur_ci = df_total_cur_ci.rename(columns={'num_cap':'total_cursos'})\n",
    "df_total_cur_ci = df_total_cur_ci[['razon_social','anio','total_cursos']]\n",
    "fact_ci = pd.merge(fact_ci,df_total_cap_ci,on=['razon_social','anio'],how=\"inner\")\n",
    "fact_ci = pd.merge(fact_ci,df_total_cur_ci,on=['razon_social','anio'],how=\"inner\")\n",
    "fact_ci = pd.merge(fact_ci,df_ci_lca,on=['razon_social','curso'],how=\"inner\")\n",
    "fact_ci = pd.merge(fact_ci,df_fecha_ci,left_on=['anio'],right_on=['anio'],how=\"inner\")\n",
    "fact_ci['num_cap'] = fact_ci['num_cap'].astype('int64')\n",
    "fact_ci['total_horas'] = fact_ci['num_cap']*fact_ci['carga_horaria']\n",
    "fact_ci['total_horas'] = fact_ci['total_horas'].astype('int64')\n",
    "fact_ci = fact_ci[['id_ci','id_curso','id_fecha','num_cap','total_horas','total_cursos','volumen_capacitados','carga_horaria']]"
   ]
  },
  {
   "cell_type": "code",
   "execution_count": 64,
   "metadata": {},
   "outputs": [],
   "source": [
    "#fact_ci.tail()\n",
    "#fact_ci.info()\n",
    "# fact_ci.describe(include='all')"
   ]
  },
  {
   "cell_type": "markdown",
   "metadata": {},
   "source": [
    "### Guardar Datamart"
   ]
  },
  {
   "cell_type": "code",
   "execution_count": 63,
   "metadata": {},
   "outputs": [],
   "source": [
    "df_ci_lca = df_ci_lca[['id_curso', 'curso', 'area','especialidad', 'modalidad', 'carga_horaria']]\n",
    "df_ci_lca.to_csv(os.path.join(path_datawarehouse,path_datamart_ci,'dim_curso_ci.csv'),index=False)"
   ]
  },
  {
   "cell_type": "code",
   "execution_count": 44,
   "metadata": {
    "id": "dq6s6tzvG24D"
   },
   "outputs": [],
   "source": [
    "df_capacitador_ci = df_capacitador_ci.drop(['anio'],axis=1)\n",
    "df_capacitador_ci.to_csv(os.path.join(path_datawarehouse,path_datamart_ci,'dim_razon_social_ci.csv'),index=False)\n",
    "df_fecha_ci.to_csv(os.path.join(path_datawarehouse,path_datamart_ci,'dim_fecha_ci.csv'),index=False)\n",
    "fact_ci.to_csv(os.path.join(path_datawarehouse,path_datamart_ci,'fact_ci.csv'),index=False)"
   ]
  },
  {
   "cell_type": "markdown",
   "metadata": {
    "id": "47M_Nydt4cAe"
   },
   "source": [
    "# Costos"
   ]
  },
  {
   "cell_type": "code",
   "execution_count": 45,
   "metadata": {
    "executionInfo": {
     "elapsed": 360,
     "status": "ok",
     "timestamp": 1670186679520,
     "user": {
      "displayName": "Sergio Jimenez",
      "userId": "03709241177248490041"
     },
     "user_tz": 300
    },
    "id": "4BEmKxjm4gGn"
   },
   "outputs": [],
   "source": [
    "lev = Levenshtein()"
   ]
  },
  {
   "cell_type": "code",
   "execution_count": 46,
   "metadata": {
    "executionInfo": {
     "elapsed": 664,
     "status": "ok",
     "timestamp": 1670186723786,
     "user": {
      "displayName": "Sergio Jimenez",
      "userId": "03709241177248490041"
     },
     "user_tz": 300
    },
    "id": "QRhAbP-u4jnx"
   },
   "outputs": [],
   "source": [
    "stopwords = open(os.path.join(path,'spanish.txt'),\"r\", encoding='utf-8')\n",
    "stopwords = stopwords.readlines()\n",
    "stopwords = [x.replace('\\n','') for x in stopwords]"
   ]
  },
  {
   "cell_type": "code",
   "execution_count": 47,
   "metadata": {
    "executionInfo": {
     "elapsed": 255,
     "status": "ok",
     "timestamp": 1670186824567,
     "user": {
      "displayName": "Sergio Jimenez",
      "userId": "03709241177248490041"
     },
     "user_tz": 300
    },
    "id": "Av3k5fAO4lHd"
   },
   "outputs": [],
   "source": [
    "def normalizar(text):\n",
    "    puntuacion = '!\"#$%&:;\\'()*+,-./?@[\\]^_`{|}~()'\n",
    "    text = text.lower() \n",
    "    text = text.replace('á','a')\n",
    "    text = text.replace('é','e')\n",
    "    text = text.replace('í','i')\n",
    "    text = text.replace('ó','o')\n",
    "    text = text.replace('ú','u')\n",
    "    text = text.strip()\n",
    "    text = text.split(' ')\n",
    "    re_punc = re.compile('[%s]' % re.escape(puntuacion))\n",
    "    stripped = [re_punc.sub(' ', w) for w in text]\n",
    "    text = ' '.join(stripped)\n",
    "    text = text.split(' ')\n",
    "    new_text = []\n",
    "    for i in range(len(text)):\n",
    "        char = text[i]\n",
    "        if char not in stopwords:\n",
    "            new_text.append(text[i])\n",
    "    new_text = ' '.join(new_text)\n",
    "            \n",
    "    return new_text"
   ]
  },
  {
   "cell_type": "code",
   "execution_count": 48,
   "metadata": {
    "executionInfo": {
     "elapsed": 1076,
     "status": "ok",
     "timestamp": 1670186855789,
     "user": {
      "displayName": "Sergio Jimenez",
      "userId": "03709241177248490041"
     },
     "user_tz": 300
    },
    "id": "8ARfEHES5HCc"
   },
   "outputs": [],
   "source": [
    "#Filtrar las areas de Tecnologia y TICs\n",
    "df_dim_curso_perfil = pd.read_csv(os.path.join(path_datawarehouse,'datamart_oc','dim_curso_perfil.csv'))\n",
    "df_dim_curso_perfil = df_dim_curso_perfil[(df_dim_curso_perfil['area_familia']=='información y comunicación')|(df_dim_curso_perfil['area_familia'] == 'tecnologías de la información y comunicación')]\n",
    "data_1= df_dim_curso_perfil.groupby(['curso_perfil','modalidad']).count().reset_index()\n",
    "data_1 = data_1[['curso_perfil','modalidad']]\n",
    "\n",
    "'''\n",
    "df_dim_perfil = pd.read_csv(os.path.join(path_datawarehouse,'datamart_oec','dim_perfil.csv'))\n",
    "df_dim_perfil = df_dim_perfil[df_dim_perfil['familia']=='tecnología: hardware y software (incluye tic)']\n",
    "data_2 = df_dim_perfil.groupby('perfil').count().reset_index()\n",
    "data_2['modalidad'] = 'desconocida'\n",
    "data_2 = data_2[['perfil','modalidad']]\n",
    "'''\n",
    "\n",
    "df_dim_curso = pd.read_csv(os.path.join(path_datawarehouse,'datamart_ci','dim_curso_ci.csv'))\n",
    "df_dim_curso = df_dim_curso[df_dim_curso['area']=='tecnologías de la información y comunicación']\n",
    "data_3 = df_dim_curso.groupby('curso').count().reset_index()\n",
    "data_3['modalidad'] = 'desconocida'\n",
    "data_3 = data_3[['curso','modalidad']]\n",
    "\n",
    "arr_dims_curso_perfil = [df_dim_curso_perfil,df_dim_curso]"
   ]
  },
  {
   "cell_type": "code",
   "execution_count": 49,
   "metadata": {
    "executionInfo": {
     "elapsed": 342,
     "status": "ok",
     "timestamp": 1670186939857,
     "user": {
      "displayName": "Sergio Jimenez",
      "userId": "03709241177248490041"
     },
     "user_tz": 300
    },
    "id": "1Vzn5ddA5I_5"
   },
   "outputs": [],
   "source": [
    "data = np.concatenate((data_1.values,data_3.values),axis=0)\n",
    "data = pd.DataFrame(data=data,columns=['curso_perfil','modalidad'])\n",
    "data = data.drop_duplicates()\n",
    "data['aux_2_curso_perfil'] = data['curso_perfil'].str.cat(data['modalidad'],sep=' | ')\n",
    "data['aux_curso_perfil'] = data['curso_perfil'].apply(lambda x: normalizar(x))"
   ]
  },
  {
   "cell_type": "code",
   "execution_count": 50,
   "metadata": {
    "executionInfo": {
     "elapsed": 720,
     "status": "ok",
     "timestamp": 1670186958810,
     "user": {
      "displayName": "Sergio Jimenez",
      "userId": "03709241177248490041"
     },
     "user_tz": 300
    },
    "id": "A2FWNuTh5jLs"
   },
   "outputs": [],
   "source": [
    "df_coec = pd.read_csv(os.path.join(path,'costos_estimados_cursos.csv'))\n",
    "df_coec['aux_2_curso'] = df_coec['curso'].str.cat(df_coec['modalidad'],sep=' | ')\n",
    "df_coec['aux_curso'] = df_coec['curso'].apply(lambda x: normalizar(x))"
   ]
  },
  {
   "cell_type": "code",
   "execution_count": 51,
   "metadata": {
    "executionInfo": {
     "elapsed": 17394,
     "status": "ok",
     "timestamp": 1670186985938,
     "user": {
      "displayName": "Sergio Jimenez",
      "userId": "03709241177248490041"
     },
     "user_tz": 300
    },
    "id": "PGBLREUn5knr"
   },
   "outputs": [],
   "source": [
    "arr = []\n",
    "\n",
    "for i in range(len(df_coec['aux_curso'])):\n",
    "    # Similaridad \n",
    "    sub_arr = []\n",
    "    for j in range(len(data['aux_curso_perfil'])):\n",
    "        curso_fuente = df_coec['aux_curso'].iloc[i]\n",
    "        curso_comparar = data['aux_curso_perfil'].iloc[j]\n",
    "        similary = lev.similarity(curso_fuente,curso_comparar,(1,1.5,1.25))\n",
    "        aux_similary=0\n",
    "        arr_curso = curso_comparar.split(' ')\n",
    "        if curso_comparar in curso_fuente :\n",
    "            similary = 1.0\n",
    "        else:\n",
    "            for word in arr_curso:\n",
    "                if word in curso_fuente:\n",
    "                    aux_similary+=1/len(arr_curso)\n",
    "            if data['modalidad'].iloc[j] == df_coec['modalidad'].iloc[i]:\n",
    "                aux_similary += aux_similary/2\n",
    "        if aux_similary > similary and aux_similary > 2/len(arr_curso):\n",
    "            similary = aux_similary\n",
    "        sub_arr.append(similary)\n",
    "    arr.append(sub_arr)\n"
   ]
  },
  {
   "cell_type": "code",
   "execution_count": 52,
   "metadata": {
    "executionInfo": {
     "elapsed": 319,
     "status": "ok",
     "timestamp": 1670186988381,
     "user": {
      "displayName": "Sergio Jimenez",
      "userId": "03709241177248490041"
     },
     "user_tz": 300
    },
    "id": "Br_dJ3Kh5qMT"
   },
   "outputs": [],
   "source": [
    "res = pd.DataFrame(data=arr,index=df_coec['aux_2_curso'],columns=data['aux_2_curso_perfil'])"
   ]
  },
  {
   "cell_type": "code",
   "execution_count": 66,
   "metadata": {
    "id": "Hhdak3EY5vCF"
   },
   "outputs": [],
   "source": [
    "arr_dims_cols = ['curso_perfil','curso']\n",
    "arr_datamarts = ['datamart_oc','datamart_ci']\n",
    "arr_files = ['dim_curso_perfil.csv','dim_curso_ci.csv']\n",
    "arr_df_final_dims = []\n",
    "for i in range(len(arr_dims_curso_perfil)):\n",
    "  df_dim = arr_dims_curso_perfil[i]\n",
    "  df_dim['curso_modalidad'] = df_dim[arr_dims_cols[i]].str.cat(df_dim['modalidad'],sep=' | ')\n",
    "  arr_curso_fuente = []\n",
    "  for j in range(arr_dims_curso_perfil[i].shape[0]):\n",
    "      query = df_dim['curso_modalidad'].iloc[j]\n",
    "      val = res[res[query]==res[query].max()][query].index.values[0]\n",
    "      arr_curso_fuente.append(df_coec[df_coec['aux_2_curso']==val][['curso','precio_por_hora']].values[0])\n",
    "  df_curso_fuente_precio = pd.DataFrame(data=arr_curso_fuente,columns=['curso_fuente','precio_por_hora'])\n",
    "  df_res_corr = pd.DataFrame(data=[df_dim[arr_dims_cols[i]].values,df_dim['modalidad'].values,df_curso_fuente_precio['curso_fuente'].values,df_curso_fuente_precio['precio_por_hora'].values])\n",
    "  df_res_corr = df_res_corr.transpose()\n",
    "  df_res_corr = df_res_corr.rename(columns={0:arr_dims_cols[i],1:'modalidad',2:'curso_fuente',3:'precio_por_hora'})\n",
    "  df_dim = pd.read_csv(os.path.join(path_datawarehouse,arr_datamarts[i],arr_files[i]))\n",
    "  df_dim= pd.merge(df_dim,df_res_corr,left_on=[arr_dims_cols[i],'modalidad'],right_on=[arr_dims_cols[i],'modalidad'],how='left')\n",
    "  df_dim['costo'] = df_dim['carga_horaria']*df_dim['precio_por_hora']\n",
    "  df_dim = df_dim.drop(['curso_fuente','precio_por_hora'], axis=1)\n",
    "  df_dim = df_dim.drop_duplicates()\n",
    "  df_dim.to_csv(os.path.join(path_datawarehouse,arr_datamarts[i],arr_files[i]),index=False)\n",
    "  arr_df_final_dims.append(df_dim)\n"
   ]
  },
  {
   "cell_type": "markdown",
   "metadata": {},
   "source": [
    "## Agregar Total precio"
   ]
  },
  {
   "cell_type": "code",
   "execution_count": 54,
   "metadata": {},
   "outputs": [],
   "source": [
    "df_dim_curso_perfil = pd.read_csv(os.path.join(path_datawarehouse,'datamart_oc','dim_curso_perfil.csv'))\n",
    "df_fact_oc = pd.read_csv(os.path.join(path_datawarehouse,path_datamart_oc,'fact_oc.csv'))\n",
    "df_fact_oc_mod = pd.merge(df_fact_oc,df_dim_curso_perfil,on='id_curso_perfil',how='inner')\n",
    "df_fact_oc_mod['total_ganancias'] = df_fact_oc_mod['num_cap_cer']*df_fact_oc_mod['costo']\n",
    "df_fact_oc_mod_res = df_fact_oc_mod[['id_oc','id_curso_perfil','id_fecha','num_cap_cer','total_cursos','volumen_capacitados','total_horas','total_ganancias']]"
   ]
  },
  {
   "cell_type": "code",
   "execution_count": 67,
   "metadata": {},
   "outputs": [],
   "source": [
    "df_dim_curso = pd.read_csv(os.path.join(path_datawarehouse,'datamart_ci','dim_curso_ci.csv'))\n",
    "df_fact_ci = pd.read_csv(os.path.join(path_datawarehouse,path_datamart_ci,'fact_ci.csv'))\n",
    "df_fact_ci_mod = pd.merge(df_fact_ci,df_dim_curso,on='id_curso',how='inner')\n",
    "df_fact_ci_mod['total_ganancias'] = df_fact_ci_mod['num_cap']*df_fact_ci_mod['costo']\n",
    "df_fact_ci_mod_res = df_fact_ci_mod[['id_ci','id_curso','id_fecha','num_cap','total_cursos','volumen_capacitados','total_horas','total_ganancias']]\n"
   ]
  },
  {
   "cell_type": "code",
   "execution_count": 68,
   "metadata": {},
   "outputs": [
    {
     "name": "stdout",
     "output_type": "stream",
     "text": [
      "<class 'pandas.core.frame.DataFrame'>\n",
      "Int64Index: 1100 entries, 0 to 1099\n",
      "Data columns (total 8 columns):\n",
      " #   Column               Non-Null Count  Dtype  \n",
      "---  ------               --------------  -----  \n",
      " 0   id_ci                1100 non-null   int64  \n",
      " 1   id_curso             1100 non-null   int64  \n",
      " 2   id_fecha             1100 non-null   int64  \n",
      " 3   num_cap              1100 non-null   int64  \n",
      " 4   total_cursos         1100 non-null   int64  \n",
      " 5   volumen_capacitados  1100 non-null   int64  \n",
      " 6   total_horas          1100 non-null   int64  \n",
      " 7   total_ganancias      63 non-null     float64\n",
      "dtypes: float64(1), int64(7)\n",
      "memory usage: 77.3 KB\n"
     ]
    }
   ],
   "source": [
    "df_fact_ci_mod_res.info()"
   ]
  },
  {
   "cell_type": "code",
   "execution_count": 57,
   "metadata": {},
   "outputs": [],
   "source": [
    "df_fact_oc_mod_res = df_fact_oc_mod_res.fillna({'total_ganancias':0})\n",
    "df_fact_ci_mod_res = df_fact_ci_mod_res.fillna({'total_ganancias':0})"
   ]
  },
  {
   "cell_type": "code",
   "execution_count": 58,
   "metadata": {},
   "outputs": [],
   "source": [
    "df_fact_oc_mod_res.to_csv(os.path.join(path_datawarehouse,path_datamart_oc,'fact_oc.csv'),index=False)\n",
    "df_fact_ci_mod_res.to_csv(os.path.join(path_datawarehouse,path_datamart_ci,'fact_ci.csv'),index=False)"
   ]
  }
 ],
 "metadata": {
  "colab": {
   "provenance": [],
   "toc_visible": true
  },
  "kernelspec": {
   "display_name": "Python 3 (ipykernel)",
   "language": "python",
   "name": "python3"
  },
  "language_info": {
   "codemirror_mode": {
    "name": "ipython",
    "version": 3
   },
   "file_extension": ".py",
   "mimetype": "text/x-python",
   "name": "python",
   "nbconvert_exporter": "python",
   "pygments_lexer": "ipython3",
   "version": "3.9.12"
  },
  "vscode": {
   "interpreter": {
    "hash": "857d8669872199a61137514e88186641c3493fcbfa068d2d6eeeca0b699193af"
   }
  }
 },
 "nbformat": 4,
 "nbformat_minor": 4
}
