{
 "cells": [
  {
   "cell_type": "markdown",
   "metadata": {},
   "source": [
    "# Busqueda de los mejores cursos"
   ]
  },
  {
   "cell_type": "markdown",
   "metadata": {},
   "source": [
    "# Instalación de librerías"
   ]
  },
  {
   "cell_type": "code",
   "execution_count": 2,
   "metadata": {},
   "outputs": [],
   "source": [
    "import pandas as pd\n",
    "import numpy as np\n",
    "import os"
   ]
  },
  {
   "cell_type": "markdown",
   "metadata": {},
   "source": [
    "# Ruta de archivos"
   ]
  },
  {
   "cell_type": "code",
   "execution_count": 3,
   "metadata": {},
   "outputs": [],
   "source": [
    "path = os.path.join(os.getcwd(),'DATAWAREHOUSE')\n",
    "path_dmt_oc = os.path.join(path,'datamart_oc')\n",
    "path_dmt_oec = os.path.join(path,'datamart_oec')\n",
    "path_dmt_ci = os.path.join(path,'datamart_ci')"
   ]
  },
  {
   "cell_type": "markdown",
   "metadata": {},
   "source": [
    "## Analisis OC"
   ]
  },
  {
   "cell_type": "code",
   "execution_count": 3,
   "metadata": {},
   "outputs": [],
   "source": [
    "df_fact_oc = pd.read_csv(os.path.join(path_dmt_oc,'fact_oc.csv'))\n",
    "df_dim_razon_social_oc = pd.read_csv(os.path.join(path_dmt_oc,'dim_razon_social_oc.csv'))\n",
    "df_dim_curso_perfil = pd.read_csv(os.path.join(path_dmt_oc,'dim_curso_perfil.csv'))"
   ]
  },
  {
   "cell_type": "code",
   "execution_count": 4,
   "metadata": {},
   "outputs": [],
   "source": [
    "df_merge = pd.merge(df_fact_oc,df_dim_razon_social_oc,on='id_oc',how='left')\n",
    "df_merge = pd.merge(df_merge,df_dim_curso_perfil,on='id_curso_perfil',how='left')"
   ]
  },
  {
   "cell_type": "code",
   "execution_count": 5,
   "metadata": {},
   "outputs": [],
   "source": [
    "df_query = df_merge[(df_merge['area_familia']=='información y comunicación')|(df_merge['area_familia'] == 'tecnologías de la información y comunicación')]"
   ]
  },
  {
   "cell_type": "code",
   "execution_count": 6,
   "metadata": {},
   "outputs": [],
   "source": [
    "df_query = df_query.sort_values(by='volumen_capacitados',ascending=False)"
   ]
  },
  {
   "cell_type": "code",
   "execution_count": 11,
   "metadata": {},
   "outputs": [],
   "source": [
    "df_query = df_query.drop_duplicates(subset=['nombre'])"
   ]
  },
  {
   "cell_type": "code",
   "execution_count": null,
   "metadata": {},
   "outputs": [],
   "source": [
    "df_query"
   ]
  },
  {
   "cell_type": "code",
   "execution_count": 13,
   "metadata": {},
   "outputs": [],
   "source": [
    "df_query = df_query[['volumen_capacitados','nombre']]\n",
    "df_query.to_csv('top_ocs.csv',index=False)"
   ]
  },
  {
   "cell_type": "markdown",
   "metadata": {},
   "source": [
    "# Analisis OEC"
   ]
  },
  {
   "cell_type": "code",
   "execution_count": 6,
   "metadata": {},
   "outputs": [],
   "source": [
    "df_fact_oec = pd.read_csv(os.path.join(path_dmt_oec,'fact_oec.csv'))\n",
    "df_dim_razon_social_oec = pd.read_csv(os.path.join(path_dmt_oec,'dim_razon_social_oec.csv'))\n",
    "df_dim_perfil = pd.read_csv(os.path.join(path_dmt_oec,'dim_perfil.csv'))"
   ]
  },
  {
   "cell_type": "code",
   "execution_count": 7,
   "metadata": {},
   "outputs": [],
   "source": [
    "df_merge = pd.merge(df_fact_oec,df_dim_razon_social_oec,on='id_oec',how='left')\n",
    "df_merge = pd.merge(df_merge,df_dim_perfil,on='id_perfil',how='left')"
   ]
  },
  {
   "cell_type": "code",
   "execution_count": 10,
   "metadata": {},
   "outputs": [],
   "source": [
    "df_query = df_merge[(df_merge['familia']=='tecnología: hardware y software (incluye tic)')]"
   ]
  },
  {
   "cell_type": "code",
   "execution_count": 14,
   "metadata": {},
   "outputs": [],
   "source": [
    "df_query = df_query.sort_values(by='volumen_capacitados',ascending=False)"
   ]
  },
  {
   "cell_type": "code",
   "execution_count": 18,
   "metadata": {},
   "outputs": [],
   "source": [
    "df_query = df_query.drop_duplicates(subset=['razon_social'],keep='first')"
   ]
  },
  {
   "cell_type": "code",
   "execution_count": null,
   "metadata": {},
   "outputs": [],
   "source": [
    "df_query"
   ]
  },
  {
   "cell_type": "code",
   "execution_count": 21,
   "metadata": {},
   "outputs": [],
   "source": [
    "df_query = df_query[['volumen_capacitados','razon_social']]\n",
    "df_query.to_csv('top_oecs.csv',index=False)"
   ]
  },
  {
   "cell_type": "markdown",
   "metadata": {},
   "source": [
    "# Análisis CI"
   ]
  },
  {
   "cell_type": "code",
   "execution_count": 33,
   "metadata": {},
   "outputs": [],
   "source": [
    "df_fact_ci = pd.read_csv(os.path.join(path_dmt_ci,'fact_ci.csv'))\n",
    "df_dim_capacitador_independiente = pd.read_csv(os.path.join(path_dmt_ci,'dim_capacitador_independiente.csv'))\n",
    "df_dim_curso = pd.read_csv(os.path.join(path_dmt_ci,'dim_curso.csv'))"
   ]
  },
  {
   "cell_type": "code",
   "execution_count": 35,
   "metadata": {},
   "outputs": [],
   "source": [
    "df_merge = pd.merge(df_fact_ci,df_dim_capacitador_independiente,left_on='id_ci_y',right_on='id_ci',how='left')\n",
    "df_merge = pd.merge(df_merge,df_dim_curso,on='id_curso',how='left')"
   ]
  },
  {
   "cell_type": "code",
   "execution_count": 37,
   "metadata": {},
   "outputs": [],
   "source": [
    "df_query = df_merge[(df_merge['area']=='tecnologías de la información y comunicación')]"
   ]
  },
  {
   "cell_type": "code",
   "execution_count": 38,
   "metadata": {},
   "outputs": [],
   "source": [
    "df_query = df_query.sort_values(by='volumen_capacitados',ascending=False)"
   ]
  },
  {
   "cell_type": "code",
   "execution_count": 40,
   "metadata": {},
   "outputs": [],
   "source": [
    "df_query = df_query.drop_duplicates(subset=['razon_social'],keep='first')"
   ]
  },
  {
   "cell_type": "code",
   "execution_count": 42,
   "metadata": {},
   "outputs": [],
   "source": [
    "df_query = df_query[['volumen_capacitados','razon_social']]\n",
    "df_query.to_csv('top_cis.csv',index=False)"
   ]
  },
  {
   "cell_type": "markdown",
   "metadata": {},
   "source": [
    "# Añadir KPI 5 OC"
   ]
  },
  {
   "cell_type": "code",
   "execution_count": 102,
   "metadata": {},
   "outputs": [],
   "source": [
    "df_fact_oc = pd.read_csv(os.path.join(path_dmt_oc,'fact_oc.csv'))\n",
    "df_dim_razon_social_oc = pd.read_csv(os.path.join(path_dmt_oc,'dim_razon_social_oc.csv'))"
   ]
  },
  {
   "cell_type": "code",
   "execution_count": 103,
   "metadata": {},
   "outputs": [],
   "source": [
    "df_oc_num_conv= pd.read_csv(os.path.join(os.getcwd(),'oc_num_conv.csv'))\n",
    "df_oc_num_conv.drop('volumen_capacitados',axis=1,inplace=True)"
   ]
  },
  {
   "cell_type": "code",
   "execution_count": 104,
   "metadata": {},
   "outputs": [],
   "source": [
    "df_merge = pd.merge(df_fact_oc,df_dim_razon_social_oc,on='id_oc',how='left')"
   ]
  },
  {
   "cell_type": "code",
   "execution_count": 105,
   "metadata": {},
   "outputs": [],
   "source": [
    "df_merge = pd.merge(df_merge,df_oc_num_conv,on='nombre',how='left')"
   ]
  },
  {
   "cell_type": "code",
   "execution_count": 106,
   "metadata": {},
   "outputs": [
    {
     "data": {
      "text/plain": [
       "Index(['id_oc', 'id_curso_perfil', 'id_fecha', 'num_cap_cer', 'total_cursos',\n",
       "       'volumen_capacitados', 'total_horas', 'total_ganancias', '%_asistencia',\n",
       "       'nombre', 'estado', 'canton', 'provincia', ' facebook_seguidores',\n",
       "       'instagram_seguidores', 'numero_convocados'],\n",
       "      dtype='object')"
      ]
     },
     "execution_count": 106,
     "metadata": {},
     "output_type": "execute_result"
    }
   ],
   "source": [
    "df_merge.columns"
   ]
  },
  {
   "cell_type": "code",
   "execution_count": 107,
   "metadata": {},
   "outputs": [],
   "source": [
    "df_merge['%_asistencia'] = df_merge['num_cap_cer']/df_merge['numero_convocados']*100"
   ]
  },
  {
   "cell_type": "code",
   "execution_count": 108,
   "metadata": {},
   "outputs": [],
   "source": [
    "df_merge = df_merge[['id_oc', 'id_curso_perfil', 'id_fecha', 'num_cap_cer', 'total_cursos',\n",
    "       'volumen_capacitados', 'total_horas', 'total_ganancias','%_asistencia']]"
   ]
  },
  {
   "cell_type": "code",
   "execution_count": 109,
   "metadata": {},
   "outputs": [
    {
     "data": {
      "text/html": [
       "<div>\n",
       "<style scoped>\n",
       "    .dataframe tbody tr th:only-of-type {\n",
       "        vertical-align: middle;\n",
       "    }\n",
       "\n",
       "    .dataframe tbody tr th {\n",
       "        vertical-align: top;\n",
       "    }\n",
       "\n",
       "    .dataframe thead th {\n",
       "        text-align: right;\n",
       "    }\n",
       "</style>\n",
       "<table border=\"1\" class=\"dataframe\">\n",
       "  <thead>\n",
       "    <tr style=\"text-align: right;\">\n",
       "      <th></th>\n",
       "      <th>id_oc</th>\n",
       "      <th>id_curso_perfil</th>\n",
       "      <th>id_fecha</th>\n",
       "      <th>num_cap_cer</th>\n",
       "      <th>total_cursos</th>\n",
       "      <th>volumen_capacitados</th>\n",
       "      <th>total_horas</th>\n",
       "      <th>total_ganancias</th>\n",
       "      <th>%_asistencia</th>\n",
       "    </tr>\n",
       "  </thead>\n",
       "  <tbody>\n",
       "    <tr>\n",
       "      <th>0</th>\n",
       "      <td>NaN</td>\n",
       "      <td>NaN</td>\n",
       "      <td>3</td>\n",
       "      <td>17</td>\n",
       "      <td>2</td>\n",
       "      <td>63</td>\n",
       "      <td>NaN</td>\n",
       "      <td>NaN</td>\n",
       "      <td>NaN</td>\n",
       "    </tr>\n",
       "    <tr>\n",
       "      <th>1</th>\n",
       "      <td>NaN</td>\n",
       "      <td>NaN</td>\n",
       "      <td>3</td>\n",
       "      <td>46</td>\n",
       "      <td>2</td>\n",
       "      <td>63</td>\n",
       "      <td>NaN</td>\n",
       "      <td>NaN</td>\n",
       "      <td>NaN</td>\n",
       "    </tr>\n",
       "    <tr>\n",
       "      <th>2</th>\n",
       "      <td>369.0</td>\n",
       "      <td>NaN</td>\n",
       "      <td>2</td>\n",
       "      <td>2</td>\n",
       "      <td>4</td>\n",
       "      <td>52</td>\n",
       "      <td>NaN</td>\n",
       "      <td>NaN</td>\n",
       "      <td>NaN</td>\n",
       "    </tr>\n",
       "    <tr>\n",
       "      <th>3</th>\n",
       "      <td>1128.0</td>\n",
       "      <td>NaN</td>\n",
       "      <td>2</td>\n",
       "      <td>2</td>\n",
       "      <td>4</td>\n",
       "      <td>52</td>\n",
       "      <td>NaN</td>\n",
       "      <td>NaN</td>\n",
       "      <td>NaN</td>\n",
       "    </tr>\n",
       "    <tr>\n",
       "      <th>4</th>\n",
       "      <td>369.0</td>\n",
       "      <td>NaN</td>\n",
       "      <td>2</td>\n",
       "      <td>15</td>\n",
       "      <td>4</td>\n",
       "      <td>52</td>\n",
       "      <td>NaN</td>\n",
       "      <td>NaN</td>\n",
       "      <td>NaN</td>\n",
       "    </tr>\n",
       "    <tr>\n",
       "      <th>...</th>\n",
       "      <td>...</td>\n",
       "      <td>...</td>\n",
       "      <td>...</td>\n",
       "      <td>...</td>\n",
       "      <td>...</td>\n",
       "      <td>...</td>\n",
       "      <td>...</td>\n",
       "      <td>...</td>\n",
       "      <td>...</td>\n",
       "    </tr>\n",
       "    <tr>\n",
       "      <th>9381</th>\n",
       "      <td>1207.0</td>\n",
       "      <td>NaN</td>\n",
       "      <td>2</td>\n",
       "      <td>8</td>\n",
       "      <td>7</td>\n",
       "      <td>206</td>\n",
       "      <td>NaN</td>\n",
       "      <td>NaN</td>\n",
       "      <td>NaN</td>\n",
       "    </tr>\n",
       "    <tr>\n",
       "      <th>9382</th>\n",
       "      <td>459.0</td>\n",
       "      <td>NaN</td>\n",
       "      <td>2</td>\n",
       "      <td>7</td>\n",
       "      <td>7</td>\n",
       "      <td>206</td>\n",
       "      <td>NaN</td>\n",
       "      <td>NaN</td>\n",
       "      <td>NaN</td>\n",
       "    </tr>\n",
       "    <tr>\n",
       "      <th>9383</th>\n",
       "      <td>1207.0</td>\n",
       "      <td>NaN</td>\n",
       "      <td>2</td>\n",
       "      <td>7</td>\n",
       "      <td>7</td>\n",
       "      <td>206</td>\n",
       "      <td>NaN</td>\n",
       "      <td>NaN</td>\n",
       "      <td>NaN</td>\n",
       "    </tr>\n",
       "    <tr>\n",
       "      <th>9384</th>\n",
       "      <td>459.0</td>\n",
       "      <td>NaN</td>\n",
       "      <td>2</td>\n",
       "      <td>8</td>\n",
       "      <td>7</td>\n",
       "      <td>206</td>\n",
       "      <td>NaN</td>\n",
       "      <td>NaN</td>\n",
       "      <td>NaN</td>\n",
       "    </tr>\n",
       "    <tr>\n",
       "      <th>9385</th>\n",
       "      <td>1207.0</td>\n",
       "      <td>NaN</td>\n",
       "      <td>2</td>\n",
       "      <td>8</td>\n",
       "      <td>7</td>\n",
       "      <td>206</td>\n",
       "      <td>NaN</td>\n",
       "      <td>NaN</td>\n",
       "      <td>NaN</td>\n",
       "    </tr>\n",
       "  </tbody>\n",
       "</table>\n",
       "<p>9386 rows × 9 columns</p>\n",
       "</div>"
      ],
      "text/plain": [
       "       id_oc  id_curso_perfil  id_fecha  num_cap_cer  total_cursos  \\\n",
       "0        NaN              NaN         3           17             2   \n",
       "1        NaN              NaN         3           46             2   \n",
       "2      369.0              NaN         2            2             4   \n",
       "3     1128.0              NaN         2            2             4   \n",
       "4      369.0              NaN         2           15             4   \n",
       "...      ...              ...       ...          ...           ...   \n",
       "9381  1207.0              NaN         2            8             7   \n",
       "9382   459.0              NaN         2            7             7   \n",
       "9383  1207.0              NaN         2            7             7   \n",
       "9384   459.0              NaN         2            8             7   \n",
       "9385  1207.0              NaN         2            8             7   \n",
       "\n",
       "      volumen_capacitados  total_horas  total_ganancias  %_asistencia  \n",
       "0                      63          NaN              NaN           NaN  \n",
       "1                      63          NaN              NaN           NaN  \n",
       "2                      52          NaN              NaN           NaN  \n",
       "3                      52          NaN              NaN           NaN  \n",
       "4                      52          NaN              NaN           NaN  \n",
       "...                   ...          ...              ...           ...  \n",
       "9381                  206          NaN              NaN           NaN  \n",
       "9382                  206          NaN              NaN           NaN  \n",
       "9383                  206          NaN              NaN           NaN  \n",
       "9384                  206          NaN              NaN           NaN  \n",
       "9385                  206          NaN              NaN           NaN  \n",
       "\n",
       "[9386 rows x 9 columns]"
      ]
     },
     "execution_count": 109,
     "metadata": {},
     "output_type": "execute_result"
    }
   ],
   "source": [
    "df_merge"
   ]
  },
  {
   "cell_type": "code",
   "execution_count": 110,
   "metadata": {},
   "outputs": [],
   "source": [
    "df_merge.to_csv(os.path.join(path_dmt_oc,'fact_oc.csv'),index=False)"
   ]
  },
  {
   "cell_type": "markdown",
   "metadata": {},
   "source": [
    "# Añadir KPI5 OEC"
   ]
  },
  {
   "cell_type": "code",
   "execution_count": 87,
   "metadata": {},
   "outputs": [],
   "source": [
    "df_fact_oec = pd.read_csv(os.path.join(path_dmt_oec,'fact_oec.csv'))\n",
    "df_dim_razon_social_oec = pd.read_csv(os.path.join(path_dmt_oec,'dim_razon_social_oec.csv'))"
   ]
  },
  {
   "cell_type": "code",
   "execution_count": 4,
   "metadata": {},
   "outputs": [],
   "source": [
    "df_oec_num_conv= pd.read_csv(os.path.join(os.getcwd(),'pcoec_num_conv.csv'),encoding = \"ISO-8859-1\")\n",
    "df_oec_num_conv.drop('volumen_capacitados',axis=1,inplace=True)"
   ]
  },
  {
   "cell_type": "code",
   "execution_count": 92,
   "metadata": {},
   "outputs": [],
   "source": [
    "df_merge = pd.merge(df_fact_oec,df_dim_razon_social_oec,on='id_oec',how='left')"
   ]
  },
  {
   "cell_type": "code",
   "execution_count": 95,
   "metadata": {},
   "outputs": [],
   "source": [
    "df_merge = pd.merge(df_merge,df_oec_num_conv,on='razon_social',how='left')"
   ]
  },
  {
   "cell_type": "code",
   "execution_count": 97,
   "metadata": {},
   "outputs": [],
   "source": [
    "df_merge['%_asistencia'] = df_merge['num_cer']/df_merge['numero_convocados']*100"
   ]
  },
  {
   "cell_type": "code",
   "execution_count": 99,
   "metadata": {},
   "outputs": [
    {
     "data": {
      "text/plain": [
       "Index(['id_oec', 'id_perfil', 'id_fecha', 'num_cer', 'total_horas',\n",
       "       'total_cursos', 'volumen_capacitados', 'total_ganacias', 'razon_social',\n",
       "       'estado', 'canton', 'provincia', 'nombre_comercial', 'pagina_facebook',\n",
       "       'seguidores_facebook', 'pagina_instagram', 'seguidores_instagram',\n",
       "       'numero_convocados', '%_asistencia'],\n",
       "      dtype='object')"
      ]
     },
     "execution_count": 99,
     "metadata": {},
     "output_type": "execute_result"
    }
   ],
   "source": [
    "df_merge.columns"
   ]
  },
  {
   "cell_type": "code",
   "execution_count": 100,
   "metadata": {},
   "outputs": [],
   "source": [
    "df_merge = df_merge[['id_oec', 'id_perfil', 'id_fecha', 'num_cer', 'total_horas',\n",
    "       'total_cursos', 'volumen_capacitados', 'total_ganacias','%_asistencia']]"
   ]
  },
  {
   "cell_type": "code",
   "execution_count": 101,
   "metadata": {},
   "outputs": [],
   "source": [
    "df_merge.to_csv(os.path.join(path_dmt_oec,'fact_oec.csv'),index=False)"
   ]
  }
 ],
 "metadata": {
  "kernelspec": {
   "display_name": "Python 3 (ipykernel)",
   "language": "python",
   "name": "python3"
  },
  "language_info": {
   "codemirror_mode": {
    "name": "ipython",
    "version": 3
   },
   "file_extension": ".py",
   "mimetype": "text/x-python",
   "name": "python",
   "nbconvert_exporter": "python",
   "pygments_lexer": "ipython3",
   "version": "3.9.16"
  },
  "vscode": {
   "interpreter": {
    "hash": "857d8669872199a61137514e88186641c3493fcbfa068d2d6eeeca0b699193af"
   }
  }
 },
 "nbformat": 4,
 "nbformat_minor": 4
}
