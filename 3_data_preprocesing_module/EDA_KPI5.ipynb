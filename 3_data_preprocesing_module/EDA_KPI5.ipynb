{
 "cells": [
  {
   "attachments": {},
   "cell_type": "markdown",
   "metadata": {},
   "source": [
    "# Busqueda de los mejores cursos"
   ]
  },
  {
   "attachments": {},
   "cell_type": "markdown",
   "metadata": {},
   "source": [
    "# Instalación de librerías"
   ]
  },
  {
   "cell_type": "code",
   "execution_count": 1,
   "metadata": {},
   "outputs": [],
   "source": [
    "import pandas as pd\n",
    "import numpy as np\n",
    "import os"
   ]
  },
  {
   "cell_type": "markdown",
   "metadata": {},
   "source": [
    "# Ruta de archivos"
   ]
  },
  {
   "cell_type": "code",
   "execution_count": 2,
   "metadata": {},
   "outputs": [],
   "source": [
    "path = os.path.join(os.getcwd(),'DATAWAREHOUSE')\n",
    "path_dmt_oc = os.path.join(path,'datamart_oc')\n",
    "path_dmt_oec = os.path.join(path,'datamart_oec')\n",
    "path_dmt_ci = os.path.join(path,'datamart_ci')"
   ]
  },
  {
   "attachments": {},
   "cell_type": "markdown",
   "metadata": {},
   "source": [
    "## Analisis OC"
   ]
  },
  {
   "cell_type": "code",
   "execution_count": 34,
   "metadata": {},
   "outputs": [],
   "source": [
    "df_fact_oc = pd.read_csv(os.path.join(path_dmt_oc,'fact_oc.csv'))\n",
    "df_dim_razon_social_oc = pd.read_csv(os.path.join(path_dmt_oc,'dim_razon_social_oc.csv'))\n",
    "df_dim_curso_perfil = pd.read_csv(os.path.join(path_dmt_oc,'dim_curso_perfil.csv'))"
   ]
  },
  {
   "cell_type": "code",
   "execution_count": 35,
   "metadata": {},
   "outputs": [],
   "source": [
    "df_merge = pd.merge(df_fact_oc,df_dim_razon_social_oc,on='id_oc',how='left')\n",
    "df_merge = pd.merge(df_merge,df_dim_curso_perfil,on='id_curso_perfil',how='left')"
   ]
  },
  {
   "cell_type": "code",
   "execution_count": 36,
   "metadata": {},
   "outputs": [],
   "source": [
    "df_query = df_merge[(df_merge['area_familia']=='información y comunicación')|(df_merge['area_familia'] == 'tecnologías de la información y comunicación')]"
   ]
  },
  {
   "cell_type": "code",
   "execution_count": 37,
   "metadata": {},
   "outputs": [],
   "source": [
    "df_query = df_query.sort_values(by='volumen_capacitados',ascending=False)"
   ]
  },
  {
   "cell_type": "code",
   "execution_count": 41,
   "metadata": {},
   "outputs": [
    {
     "data": {
      "text/html": [
       "<div>\n",
       "<style scoped>\n",
       "    .dataframe tbody tr th:only-of-type {\n",
       "        vertical-align: middle;\n",
       "    }\n",
       "\n",
       "    .dataframe tbody tr th {\n",
       "        vertical-align: top;\n",
       "    }\n",
       "\n",
       "    .dataframe thead th {\n",
       "        text-align: right;\n",
       "    }\n",
       "</style>\n",
       "<table border=\"1\" class=\"dataframe\">\n",
       "  <thead>\n",
       "    <tr style=\"text-align: right;\">\n",
       "      <th></th>\n",
       "      <th>volumen_capacitados</th>\n",
       "      <th>nombre</th>\n",
       "    </tr>\n",
       "  </thead>\n",
       "  <tbody>\n",
       "    <tr>\n",
       "      <th>2907</th>\n",
       "      <td>5465</td>\n",
       "      <td>cvimsa ecuador c-vimsaecuador s.a.</td>\n",
       "    </tr>\n",
       "    <tr>\n",
       "      <th>8631</th>\n",
       "      <td>3431</td>\n",
       "      <td>seguridad industrial pompier chano seinpomep c...</td>\n",
       "    </tr>\n",
       "    <tr>\n",
       "      <th>143</th>\n",
       "      <td>2850</td>\n",
       "      <td>aguilar benavides juan miguel</td>\n",
       "    </tr>\n",
       "    <tr>\n",
       "      <th>1791</th>\n",
       "      <td>2810</td>\n",
       "      <td>cetecform cia. ltda.</td>\n",
       "    </tr>\n",
       "    <tr>\n",
       "      <th>4854</th>\n",
       "      <td>1404</td>\n",
       "      <td>fundacion rio guayas</td>\n",
       "    </tr>\n",
       "    <tr>\n",
       "      <th>7479</th>\n",
       "      <td>1286</td>\n",
       "      <td>novillo mendoza max andres</td>\n",
       "    </tr>\n",
       "    <tr>\n",
       "      <th>1216</th>\n",
       "      <td>1224</td>\n",
       "      <td>capacitacion profesional geniusec cia.ltda.</td>\n",
       "    </tr>\n",
       "    <tr>\n",
       "      <th>6643</th>\n",
       "      <td>1142</td>\n",
       "      <td>klavempresarial compañia anonima</td>\n",
       "    </tr>\n",
       "    <tr>\n",
       "      <th>8858</th>\n",
       "      <td>840</td>\n",
       "      <td>sociedad ecuatoriana de desarrollo educativo y...</td>\n",
       "    </tr>\n",
       "    <tr>\n",
       "      <th>1998</th>\n",
       "      <td>786</td>\n",
       "      <td>chuquicondor pilamunga carmen yolanda (sheryda...</td>\n",
       "    </tr>\n",
       "  </tbody>\n",
       "</table>\n",
       "</div>"
      ],
      "text/plain": [
       "      volumen_capacitados                                             nombre\n",
       "2907                 5465                 cvimsa ecuador c-vimsaecuador s.a.\n",
       "8631                 3431  seguridad industrial pompier chano seinpomep c...\n",
       "143                  2850                      aguilar benavides juan miguel\n",
       "1791                 2810                               cetecform cia. ltda.\n",
       "4854                 1404                               fundacion rio guayas\n",
       "7479                 1286                         novillo mendoza max andres\n",
       "1216                 1224        capacitacion profesional geniusec cia.ltda.\n",
       "6643                 1142                   klavempresarial compañia anonima\n",
       "8858                  840  sociedad ecuatoriana de desarrollo educativo y...\n",
       "1998                  786  chuquicondor pilamunga carmen yolanda (sheryda..."
      ]
     },
     "execution_count": 41,
     "metadata": {},
     "output_type": "execute_result"
    }
   ],
   "source": [
    "df_query = df_query[['volumen_capacitados','nombre']]\n",
    "df_query = df_query.drop_duplicates()\n",
    "df_query = df_query.head(10)\n",
    "df_query.to_csv"
   ]
  }
 ],
 "metadata": {
  "kernelspec": {
   "display_name": "base",
   "language": "python",
   "name": "python3"
  },
  "language_info": {
   "codemirror_mode": {
    "name": "ipython",
    "version": 3
   },
   "file_extension": ".py",
   "mimetype": "text/x-python",
   "name": "python",
   "nbconvert_exporter": "python",
   "pygments_lexer": "ipython3",
   "version": "3.9.12"
  },
  "orig_nbformat": 4,
  "vscode": {
   "interpreter": {
    "hash": "857d8669872199a61137514e88186641c3493fcbfa068d2d6eeeca0b699193af"
   }
  }
 },
 "nbformat": 4,
 "nbformat_minor": 2
}
