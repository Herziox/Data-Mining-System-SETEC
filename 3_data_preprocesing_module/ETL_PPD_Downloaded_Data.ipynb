{
 "cells": [
  {
   "cell_type": "markdown",
   "id": "fec22d5f-cfac-4631-a033-c886f1a2aca5",
   "metadata": {},
   "source": [
    "# Importación de librerías"
   ]
  },
  {
   "cell_type": "code",
   "execution_count": 1,
   "id": "b4d4f441-4a13-4934-b655-dfece32eaf83",
   "metadata": {},
   "outputs": [],
   "source": [
    "import pandas as pd\n",
    "import numpy as np\n",
    "import os\n",
    "import re"
   ]
  },
  {
   "cell_type": "markdown",
   "id": "30c1a634-7aa8-42eb-b1e3-878f5a22abad",
   "metadata": {},
   "source": [
    "# Ruta de archivos"
   ]
  },
  {
   "cell_type": "code",
   "execution_count": 3,
   "id": "ae655f90-5ce8-42a2-93bb-54bb744a2a0e",
   "metadata": {},
   "outputs": [],
   "source": [
    "path = os.path.abspath(os.path.join(os.getcwd(), '..','2_data_understanding_module','collecting_initial_data','existing_data','DIRTY_DATA'))\n",
    "path_dd = os.path.abspath(os.path.join(os.getcwd(), '..','2_data_understanding_module','collecting_initial_data','existing_data','DOWNLOADED_DATA'))\n",
    "path_additional_data = os.path.abspath(os.path.join(os.getcwd(), '..','2_data_understanding_module','collecting_initial_data','additional_data'))\n",
    "path_etl = os.path.abspath(os.path.join(os.getcwd(),'CLEANED_DATA'))"
   ]
  },
  {
   "cell_type": "markdown",
   "id": "60e9864a-054f-4149-9411-11b5d765727a",
   "metadata": {},
   "source": [
    "# Preprocesamiento de datos"
   ]
  },
  {
   "cell_type": "code",
   "execution_count": 5,
   "id": "46492b92-097c-435d-b098-b88725494216",
   "metadata": {},
   "outputs": [
    {
     "data": {
      "text/plain": [
       "['ci_dl_provincia_canton.csv',\n",
       " 'oc_dl_area_especialidad.csv',\n",
       " 'oc_dl_familia_sector_perfil.csv',\n",
       " 'oc_dl_provincia_canton.csv',\n",
       " 'oec_dl_familia_sector_perfil.csv',\n",
       " 'oec_dl_provincia_canton.csv']"
      ]
     },
     "execution_count": 5,
     "metadata": {},
     "output_type": "execute_result"
    }
   ],
   "source": [
    "os.listdir(path_dd)"
   ]
  },
  {
   "cell_type": "markdown",
   "id": "237a67ed-14bc-4d8f-b26e-a3f2be3a5b50",
   "metadata": {},
   "source": [
    "## OC Familia, Sector y Perfil"
   ]
  },
  {
   "cell_type": "code",
   "execution_count": 16,
   "id": "2263fedd-58df-41cf-a2be-30d2c4d7cfe8",
   "metadata": {},
   "outputs": [],
   "source": [
    "df_oc_cl_dl = pd.read_csv(os.path.join(path_dd,'oc_dl_familia_sector_perfil.csv'))\n",
    "df_oc_cl_dl = df_oc_cl_dl.apply(lambda x: x.astype(str).str.lower())\n",
    "df_oc_cl_dl = df_oc_cl_dl.drop_duplicates()"
   ]
  },
  {
   "cell_type": "code",
   "execution_count": 8,
   "id": "6b53de69-2aad-40ed-8e17-dd9e8a63ec81",
   "metadata": {},
   "outputs": [],
   "source": [
    "#df_oc_cl_dl.head()\n",
    "#df_oc_cl_dl.info()"
   ]
  },
  {
   "cell_type": "code",
   "execution_count": 17,
   "id": "13721e4d-9446-4a59-8172-ba432ef90895",
   "metadata": {},
   "outputs": [],
   "source": [
    "df_oc_cl_dl.to_csv(os.path.join(path_etl,'oc_dl_familia_sector_perfil.csv'),index=False)"
   ]
  },
  {
   "cell_type": "markdown",
   "id": "63c0124b-c300-4713-a0e3-b5cf7011e0fe",
   "metadata": {},
   "source": [
    "## OC Provincia y Cantón"
   ]
  },
  {
   "cell_type": "code",
   "execution_count": 18,
   "id": "eb96bf26-4589-463b-b0a0-673c1b177739",
   "metadata": {
    "tags": []
   },
   "outputs": [],
   "source": [
    "df_oc_ub_dl = pd.read_csv(os.path.join(path_dd,'oc_dl_provincia_canton.csv'))\n",
    "df_oc_ub_dl = df_oc_ub_dl.apply(lambda x: x.astype(str).str.lower())\n",
    "df_oc_ub_dl = df_oc_ub_dl.drop_duplicates()"
   ]
  },
  {
   "cell_type": "code",
   "execution_count": 20,
   "id": "d104bc73-6eb9-4955-9465-30f99002bf79",
   "metadata": {
    "tags": []
   },
   "outputs": [],
   "source": [
    "#df_oc_ub_dl.head()\n",
    "#df_oc_ub_dl.info()"
   ]
  },
  {
   "cell_type": "code",
   "execution_count": 21,
   "id": "11eb4367-652a-47d3-8fde-0228d63f7ae1",
   "metadata": {
    "tags": []
   },
   "outputs": [],
   "source": [
    "df_oc_ub_dl.to_csv(os.path.join(path_etl,'oc_dl_provincia_canton.csv'),index=False)"
   ]
  },
  {
   "cell_type": "markdown",
   "id": "be7d28c6-bcbc-4aeb-aed3-d9176e806775",
   "metadata": {
    "tags": []
   },
   "source": [
    "## OEC Familia, Sector y Perfil"
   ]
  },
  {
   "cell_type": "code",
   "execution_count": 33,
   "id": "0329be4d-c5b9-4633-ae24-20b3897a1032",
   "metadata": {
    "tags": []
   },
   "outputs": [],
   "source": [
    "df_oec_dr_dl = pd.read_csv(os.path.join(path_dd,'oec_dl_familia_sector_perfil.csv'))\n",
    "df_oec_dr_dl = df_oec_dr_dl.apply(lambda x: x.astype(str).str.lower())\n",
    "df_oec_dr_dl = df_oec_dr_dl.drop_duplicates()"
   ]
  },
  {
   "cell_type": "code",
   "execution_count": 34,
   "id": "f3093448-3d05-4e05-8db1-a2ea45a1d3d3",
   "metadata": {
    "tags": []
   },
   "outputs": [],
   "source": [
    "#df_oec_dr_dl.head()\n",
    "#df_oec_dr_dl.info()"
   ]
  },
  {
   "cell_type": "code",
   "execution_count": 35,
   "id": "b6b104ce-ecf2-412e-89e2-789f2f53788c",
   "metadata": {
    "tags": []
   },
   "outputs": [],
   "source": [
    "df_oec_dr_dl.to_csv(os.path.join(path_etl,'oec_dl_familia_sector_perfil.csv'),index=False)"
   ]
  },
  {
   "cell_type": "markdown",
   "id": "94fa4f6d-8141-4fd6-bcf0-6026acc83223",
   "metadata": {
    "tags": []
   },
   "source": [
    "## OEC Provincia y Cantón"
   ]
  },
  {
   "cell_type": "code",
   "execution_count": 36,
   "id": "c7052386-ce54-42ae-bb04-77d5c2fc784a",
   "metadata": {
    "tags": []
   },
   "outputs": [],
   "source": [
    "df_oec_ub_dl = pd.read_csv(os.path.join(path_dd,'oec_dl_provincia_canton.csv'))\n",
    "df_oec_ub_dl = df_oec_ub_dl.apply(lambda x: x.astype(str).str.lower())\n",
    "df_oec_ub_dl = df_oec_ub_dl.drop_duplicates()"
   ]
  },
  {
   "cell_type": "code",
   "execution_count": 37,
   "id": "9941ed7b-e3b2-4364-aeb1-6eb939ce74ca",
   "metadata": {
    "tags": []
   },
   "outputs": [],
   "source": [
    "#df_oec_ub_dl.head()\n",
    "#df_oec_ub_dl.info()"
   ]
  },
  {
   "cell_type": "code",
   "execution_count": 38,
   "id": "da440da2-1ae0-4719-a814-73c990b52690",
   "metadata": {
    "tags": []
   },
   "outputs": [],
   "source": [
    "df_oec_ub_dl.to_csv(os.path.join(path_etl,'oec_dl_provincia_canton.csv'),index=False)"
   ]
  },
  {
   "cell_type": "markdown",
   "id": "ab3f7858-4cd9-44c4-a00c-31f8d347546b",
   "metadata": {
    "tags": []
   },
   "source": [
    "## CI Provincia y Cantón"
   ]
  },
  {
   "cell_type": "code",
   "execution_count": 39,
   "id": "355be16d-9bbf-4c1f-b67a-ef72c50b9b3d",
   "metadata": {
    "tags": []
   },
   "outputs": [],
   "source": [
    "df_ci_ub_dl = pd.read_csv(os.path.join(path_dd,'ci_dl_provincia_canton.csv'))\n",
    "df_ci_ub_dl = df_ci_ub_dl.apply(lambda x: x.astype(str).str.lower())\n",
    "df_ci_ub_dl = df_ci_ub_dl.drop_duplicates()"
   ]
  },
  {
   "cell_type": "code",
   "execution_count": 42,
   "id": "c226622f-ae65-414c-b08b-6e3d7d941373",
   "metadata": {
    "tags": []
   },
   "outputs": [],
   "source": [
    "#df_ci_ub_dl.head()\n",
    "#df_ci_ub_dl.info()"
   ]
  },
  {
   "cell_type": "code",
   "execution_count": 43,
   "id": "9d250e3f-cade-40c6-bb5e-5b39487192e5",
   "metadata": {
    "tags": []
   },
   "outputs": [],
   "source": [
    "df_ci_ub_dl.to_csv(os.path.join(path_etl,'ci_dl_provincia_canton.csv'),index=False)"
   ]
  }
 ],
 "metadata": {
  "kernelspec": {
   "display_name": "Python 3 (ipykernel)",
   "language": "python",
   "name": "python3"
  },
  "language_info": {
   "codemirror_mode": {
    "name": "ipython",
    "version": 3
   },
   "file_extension": ".py",
   "mimetype": "text/x-python",
   "name": "python",
   "nbconvert_exporter": "python",
   "pygments_lexer": "ipython3",
   "version": "3.9.12"
  }
 },
 "nbformat": 4,
 "nbformat_minor": 5
}
